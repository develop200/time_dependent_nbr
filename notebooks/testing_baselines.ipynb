{
 "cells": [
  {
   "cell_type": "code",
   "execution_count": null,
   "id": "c050939c",
   "metadata": {
    "id": "c050939c"
   },
   "outputs": [],
   "source": [
    "import os\n",
    "import sys\n",
    "sys.path.append(\"..\")\n",
    "from nbr.preparation import Preprocess, save_split, Corpus\n",
    "from nbr.trainer import NBRTrainer\n",
    "from nbr.model import TopPopular, TopPersonal"
   ]
  },
  {
   "cell_type": "markdown",
   "id": "lmDThZjM1F0o",
   "metadata": {
    "id": "lmDThZjM1F0o"
   },
   "source": [
    "# TaFeng"
   ]
  },
  {
   "cell_type": "markdown",
   "id": "ceLGEu8CArlm",
   "metadata": {
    "id": "ceLGEu8CArlm"
   },
   "source": [
    "Read interactions data (filter users with less than 5 transactions, high purchase frequency and one-day users and items with less than 10 transactions). Train dataset - all baskets except the last two, validation dataset - the last but one basket, test dataset - the last basket:"
   ]
  },
  {
   "cell_type": "code",
   "execution_count": null,
   "id": "7edb4953",
   "metadata": {
    "colab": {
     "base_uri": "https://localhost:8080/"
    },
    "id": "7edb4953",
    "outputId": "ef3b5ae0-452a-43b8-d242-8531c9e40674"
   },
   "outputs": [
    {
     "name": "stdout",
     "output_type": "stream",
     "text": [
      "Before preprocessing: #users = 32266, #items = 23812, #clicks = 817741 (#illegal records = 0)\n",
      "After preprocessing: #users = 7358, #items = 11202, #clicks = 368951\n",
      "Saving dataset in ./data//data_ta_feng/...\n"
     ]
    }
   ],
   "source": [
    "corpus_path = \"./data/\"\n",
    "dataset_name = \"ta_feng\"\n",
    "\n",
    "preprocessor = Preprocess(corpus_path, dataset_name)\n",
    "preprocessor.load_data(5, 10, filt=True)\n",
    "save_split(corpus_path, dataset_name, preprocessor)"
   ]
  },
  {
   "cell_type": "code",
   "execution_count": null,
   "id": "501294f7",
   "metadata": {
    "id": "501294f7"
   },
   "outputs": [],
   "source": [
    "corpus = Corpus(corpus_path, dataset_name)\n",
    "corpus.load_data()"
   ]
  },
  {
   "cell_type": "markdown",
   "id": "cqFtJjVlHNOm",
   "metadata": {
    "id": "cqFtJjVlHNOm"
   },
   "source": [
    "Top Popular baseline:"
   ]
  },
  {
   "cell_type": "code",
   "execution_count": null,
   "id": "VTWJgXn2AM9u",
   "metadata": {
    "colab": {
     "base_uri": "https://localhost:8080/"
    },
    "id": "VTWJgXn2AM9u",
    "outputId": "bf78c1c5-1c44-4ecb-ed22-5bd706c82108"
   },
   "outputs": [
    {
     "name": "stdout",
     "output_type": "stream",
     "text": [
      "train dataset preparing...\n"
     ]
    },
    {
     "name": "stderr",
     "output_type": "stream",
     "text": [
      "100%|██████████| 7358/7358 [00:15<00:00, 461.02it/s]\n"
     ]
    },
    {
     "name": "stdout",
     "output_type": "stream",
     "text": [
      "dev dataset preparing...\n"
     ]
    },
    {
     "name": "stderr",
     "output_type": "stream",
     "text": [
      "100%|██████████| 7357/7357 [00:02<00:00, 2805.39it/s]\n"
     ]
    },
    {
     "name": "stdout",
     "output_type": "stream",
     "text": [
      "test dataset preparing...\n"
     ]
    },
    {
     "name": "stderr",
     "output_type": "stream",
     "text": [
      "100%|██████████| 7357/7357 [00:03<00:00, 2042.75it/s]\n"
     ]
    }
   ],
   "source": [
    "trainer = NBRTrainer(\n",
    "    corpus=corpus,\n",
    "    max_epochs=None,\n",
    "    topk=10,\n",
    "    early_stop_num=None\n",
    ")"
   ]
  },
  {
   "cell_type": "code",
   "execution_count": null,
   "id": "JAsmHfLR4c_y",
   "metadata": {
    "colab": {
     "base_uri": "https://localhost:8080/"
    },
    "id": "JAsmHfLR4c_y",
    "outputId": "9fcb8e18-1d4a-4fa6-f7fc-1480d196ff45"
   },
   "outputs": [
    {
     "name": "stderr",
     "output_type": "stream",
     "text": [
      "100%|██████████| 7357/7357 [01:26<00:00, 85.49it/s] \n"
     ]
    },
    {
     "data": {
      "text/plain": [
       "{'precision': 0.030841375560690498,\n",
       " 'recall': 0.08628107674119984,\n",
       " 'ndcg': 0.09394825116150071}"
      ]
     },
     "execution_count": 6,
     "metadata": {},
     "output_type": "execute_result"
    }
   ],
   "source": [
    "params = {\n",
    "    \"model\": TopPopular(\n",
    "        item_num=corpus.n_items,\n",
    "        user_num=corpus.n_users,\n",
    "        corpus=corpus\n",
    "    )\n",
    "}\n",
    "\n",
    "trainer.init_hyperparams(**params)\n",
    "trainer.evaluate(mode=\"test\")"
   ]
  },
  {
   "cell_type": "markdown",
   "id": "uSyeUHZN47BX",
   "metadata": {
    "id": "uSyeUHZN47BX"
   },
   "source": [
    "Top Personal baseline:"
   ]
  },
  {
   "cell_type": "code",
   "execution_count": null,
   "id": "P43VZ9dT49FZ",
   "metadata": {
    "colab": {
     "base_uri": "https://localhost:8080/"
    },
    "id": "P43VZ9dT49FZ",
    "outputId": "19f2c958-9a94-4059-a88e-a3b3a4d071b8"
   },
   "outputs": [
    {
     "name": "stdout",
     "output_type": "stream",
     "text": [
      "train dataset preparing...\n"
     ]
    },
    {
     "name": "stderr",
     "output_type": "stream",
     "text": [
      "100%|██████████| 7358/7358 [00:15<00:00, 472.38it/s]\n"
     ]
    },
    {
     "name": "stdout",
     "output_type": "stream",
     "text": [
      "dev dataset preparing...\n"
     ]
    },
    {
     "name": "stderr",
     "output_type": "stream",
     "text": [
      "100%|██████████| 7357/7357 [00:02<00:00, 2456.82it/s]\n"
     ]
    },
    {
     "name": "stdout",
     "output_type": "stream",
     "text": [
      "test dataset preparing...\n"
     ]
    },
    {
     "name": "stderr",
     "output_type": "stream",
     "text": [
      "100%|██████████| 7357/7357 [00:03<00:00, 2360.94it/s]\n"
     ]
    }
   ],
   "source": [
    "trainer = NBRTrainer(\n",
    "    corpus=corpus,\n",
    "    max_epochs=None,\n",
    "    topk=10,\n",
    "    early_stop_num=None\n",
    ")"
   ]
  },
  {
   "cell_type": "code",
   "execution_count": null,
   "id": "krS7X3354-fp",
   "metadata": {
    "colab": {
     "base_uri": "https://localhost:8080/"
    },
    "id": "krS7X3354-fp",
    "outputId": "4f5756d5-2f09-4a71-c87d-d65aced51f8d"
   },
   "outputs": [
    {
     "name": "stderr",
     "output_type": "stream",
     "text": [
      "100%|██████████| 7357/7357 [01:21<00:00, 89.91it/s] \n"
     ]
    },
    {
     "data": {
      "text/plain": [
       "{'precision': 0.057224412124507275,\n",
       " 'recall': 0.13077223704869326,\n",
       " 'ndcg': 0.10843777780601296}"
      ]
     },
     "execution_count": 8,
     "metadata": {},
     "output_type": "execute_result"
    }
   ],
   "source": [
    "params = {\n",
    "    \"model\": TopPersonal(\n",
    "        item_num=corpus.n_items,\n",
    "        user_num=corpus.n_users,\n",
    "        corpus=corpus\n",
    "    )\n",
    "}\n",
    "\n",
    "trainer.init_hyperparams(**params)\n",
    "trainer.evaluate(mode=\"test\")"
   ]
  },
  {
   "cell_type": "markdown",
   "id": "jQktLnAV1OTN",
   "metadata": {
    "id": "jQktLnAV1OTN"
   },
   "source": [
    "# TaoBao"
   ]
  },
  {
   "cell_type": "markdown",
   "id": "p31Z_Wjy6w-H",
   "metadata": {
    "id": "p31Z_Wjy6w-H"
   },
   "source": [
    "Read interactions data (filter users with less than 10 transactions, high purchase frequency and one-day users and items with less than 10 transactions). Train dataset - all baskets except the last two, validation dataset - the last but one basket, test dataset - the last basket:"
   ]
  },
  {
   "cell_type": "code",
   "execution_count": null,
   "id": "UjJ6Bocc1NmP",
   "metadata": {
    "colab": {
     "base_uri": "https://localhost:8080/"
    },
    "id": "UjJ6Bocc1NmP",
    "outputId": "014b41aa-0c5b-465a-a77a-d3de7015bc91"
   },
   "outputs": [
    {
     "name": "stdout",
     "output_type": "stream",
     "text": [
      "Before preprocessing: #users = 672404, #items = 638962, #clicks = 2015807 (#illegal records = 0)\n",
      "After preprocessing: #users = 10092, #items = 22286, #clicks = 67991\n",
      "Saving dataset in ./data//data_taobao/...\n"
     ]
    }
   ],
   "source": [
    "corpus_path = \"./data/\"\n",
    "dataset_name = \"taobao\"\n",
    "\n",
    "preprocessor = Preprocess(corpus_path, dataset_name)\n",
    "preprocessor.load_data(10, 10, filt=True)\n",
    "save_split(corpus_path, dataset_name, preprocessor)"
   ]
  },
  {
   "cell_type": "code",
   "execution_count": null,
   "id": "MkJuH0Y31Npx",
   "metadata": {
    "id": "MkJuH0Y31Npx"
   },
   "outputs": [],
   "source": [
    "corpus = Corpus(corpus_path, dataset_name)\n",
    "corpus.load_data()"
   ]
  },
  {
   "cell_type": "markdown",
   "id": "Ojr0Yx5w7BFj",
   "metadata": {
    "id": "Ojr0Yx5w7BFj"
   },
   "source": [
    "Top Popular baseline:"
   ]
  },
  {
   "cell_type": "code",
   "execution_count": null,
   "id": "IX6LqZFy7AQ7",
   "metadata": {
    "colab": {
     "base_uri": "https://localhost:8080/"
    },
    "id": "IX6LqZFy7AQ7",
    "outputId": "8e6638c0-ff40-4b6e-b6a6-50ed9821155e"
   },
   "outputs": [
    {
     "name": "stdout",
     "output_type": "stream",
     "text": [
      "train dataset preparing...\n"
     ]
    },
    {
     "name": "stderr",
     "output_type": "stream",
     "text": [
      "100%|██████████| 10092/10092 [00:50<00:00, 201.47it/s]\n"
     ]
    },
    {
     "name": "stdout",
     "output_type": "stream",
     "text": [
      "dev dataset preparing...\n"
     ]
    },
    {
     "name": "stderr",
     "output_type": "stream",
     "text": [
      "100%|██████████| 9307/9307 [00:00<00:00, 23847.99it/s]\n"
     ]
    },
    {
     "name": "stdout",
     "output_type": "stream",
     "text": [
      "test dataset preparing...\n"
     ]
    },
    {
     "name": "stderr",
     "output_type": "stream",
     "text": [
      "100%|██████████| 9307/9307 [00:00<00:00, 17711.38it/s]\n"
     ]
    }
   ],
   "source": [
    "trainer = NBRTrainer(\n",
    "    corpus=corpus,\n",
    "    max_epochs=None,\n",
    "    topk=10,\n",
    "    early_stop_num=None\n",
    ")"
   ]
  },
  {
   "cell_type": "code",
   "execution_count": null,
   "id": "KoXf98wh7JEJ",
   "metadata": {
    "colab": {
     "base_uri": "https://localhost:8080/"
    },
    "id": "KoXf98wh7JEJ",
    "outputId": "7dd992e3-f4e4-4d87-e20b-646893b0c8a3"
   },
   "outputs": [
    {
     "name": "stderr",
     "output_type": "stream",
     "text": [
      "100%|██████████| 9307/9307 [03:28<00:00, 44.54it/s]\n"
     ]
    },
    {
     "data": {
      "text/plain": [
       "{'precision': 0.0005479746427420222,\n",
       " 'recall': 0.005479746427420221,\n",
       " 'ndcg': 0.0028849637834630843}"
      ]
     },
     "execution_count": 12,
     "metadata": {},
     "output_type": "execute_result"
    }
   ],
   "source": [
    "params = {\n",
    "    \"model\": TopPopular(\n",
    "        item_num=corpus.n_items,\n",
    "        user_num=corpus.n_users,\n",
    "        corpus=corpus\n",
    "    )\n",
    "}\n",
    "\n",
    "trainer.init_hyperparams(**params)\n",
    "trainer.evaluate(mode=\"test\")"
   ]
  },
  {
   "cell_type": "markdown",
   "id": "7MKLpZOj7EjK",
   "metadata": {
    "id": "7MKLpZOj7EjK"
   },
   "source": [
    "Top Personal baseline:"
   ]
  },
  {
   "cell_type": "code",
   "execution_count": null,
   "id": "TFwglwy97AZy",
   "metadata": {
    "colab": {
     "base_uri": "https://localhost:8080/"
    },
    "id": "TFwglwy97AZy",
    "outputId": "763200f9-8c84-4927-a072-25e3d68b311c"
   },
   "outputs": [
    {
     "name": "stdout",
     "output_type": "stream",
     "text": [
      "train dataset preparing...\n"
     ]
    },
    {
     "name": "stderr",
     "output_type": "stream",
     "text": [
      "100%|██████████| 10092/10092 [01:01<00:00, 163.05it/s]\n"
     ]
    },
    {
     "name": "stdout",
     "output_type": "stream",
     "text": [
      "dev dataset preparing...\n"
     ]
    },
    {
     "name": "stderr",
     "output_type": "stream",
     "text": [
      "100%|██████████| 9307/9307 [00:00<00:00, 25184.16it/s]\n"
     ]
    },
    {
     "name": "stdout",
     "output_type": "stream",
     "text": [
      "test dataset preparing...\n"
     ]
    },
    {
     "name": "stderr",
     "output_type": "stream",
     "text": [
      "100%|██████████| 9307/9307 [00:00<00:00, 23041.67it/s]\n"
     ]
    }
   ],
   "source": [
    "trainer = NBRTrainer(\n",
    "    corpus=corpus,\n",
    "    max_epochs=None,\n",
    "    topk=10,\n",
    "    early_stop_num=None\n",
    ")"
   ]
  },
  {
   "cell_type": "code",
   "execution_count": null,
   "id": "ytoa0E0o7Sjp",
   "metadata": {
    "colab": {
     "base_uri": "https://localhost:8080/"
    },
    "id": "ytoa0E0o7Sjp",
    "outputId": "d262107e-3447-47a0-ea68-78e5e56d4661"
   },
   "outputs": [
    {
     "name": "stderr",
     "output_type": "stream",
     "text": [
      "100%|██████████| 9307/9307 [03:20<00:00, 46.50it/s]\n"
     ]
    },
    {
     "data": {
      "text/plain": [
       "{'precision': 0.011539701300096702,\n",
       " 'recall': 0.11161849503957594,\n",
       " 'ndcg': 0.07411685538040647}"
      ]
     },
     "execution_count": 14,
     "metadata": {},
     "output_type": "execute_result"
    }
   ],
   "source": [
    "params = {\n",
    "    \"model\": TopPersonal(\n",
    "        item_num=corpus.n_items,\n",
    "        user_num=corpus.n_users,\n",
    "        corpus=corpus\n",
    "    )\n",
    "}\n",
    "\n",
    "trainer.init_hyperparams(**params)\n",
    "trainer.evaluate(mode=\"test\")"
   ]
  },
  {
   "cell_type": "markdown",
   "id": "XTCeVH_YRby3",
   "metadata": {
    "id": "XTCeVH_YRby3"
   },
   "source": [
    "# Dunnhumby"
   ]
  },
  {
   "cell_type": "markdown",
   "id": "E3jcbxDI7lg_",
   "metadata": {
    "id": "E3jcbxDI7lg_"
   },
   "source": [
    "Read interactions data (filter users with less than 5 transactions, high purchase frequency and one-day users and items with less than 10 transactions). Train dataset - all baskets except the last two, validation dataset - the last but one basket, test dataset - the last basket:"
   ]
  },
  {
   "cell_type": "code",
   "execution_count": null,
   "id": "093cdded",
   "metadata": {
    "colab": {
     "base_uri": "https://localhost:8080/"
    },
    "id": "093cdded",
    "outputId": "3f058c12-4067-4fb6-ddbe-14b7d999227f"
   },
   "outputs": [
    {
     "name": "stdout",
     "output_type": "stream",
     "text": [
      "Before preprocessing: #users = 2500, #items = 92339, #clicks = 2595370 (#illegal records = 0)\n",
      "After preprocessing: #users = 2358, #items = 26756, #clicks = 1976796\n",
      "Saving dataset in ./data//data_dunnhumby/...\n"
     ]
    }
   ],
   "source": [
    "corpus_path = \"./data/\"\n",
    "dataset_name = \"dunnhumby\"\n",
    "\n",
    "preprocessor = Preprocess(corpus_path, dataset_name)\n",
    "preprocessor.load_data(5, 10, filt=True)\n",
    "save_split(corpus_path, dataset_name, preprocessor)"
   ]
  },
  {
   "cell_type": "code",
   "execution_count": null,
   "id": "KxqJ1WX4RmKt",
   "metadata": {
    "id": "KxqJ1WX4RmKt"
   },
   "outputs": [],
   "source": [
    "corpus = Corpus(corpus_path, dataset_name)\n",
    "corpus.load_data()"
   ]
  },
  {
   "cell_type": "markdown",
   "id": "URv8VZvU7t7-",
   "metadata": {
    "id": "URv8VZvU7t7-"
   },
   "source": [
    "Top Popular baseline:"
   ]
  },
  {
   "cell_type": "code",
   "execution_count": null,
   "id": "NGPXlxFJ7yDx",
   "metadata": {
    "colab": {
     "base_uri": "https://localhost:8080/"
    },
    "id": "NGPXlxFJ7yDx",
    "outputId": "56f8f641-fb8c-4deb-f4b8-af6c0859596b"
   },
   "outputs": [
    {
     "name": "stdout",
     "output_type": "stream",
     "text": [
      "train dataset preparing...\n"
     ]
    },
    {
     "name": "stderr",
     "output_type": "stream",
     "text": [
      "100%|██████████| 2358/2358 [00:14<00:00, 160.25it/s]\n"
     ]
    },
    {
     "name": "stdout",
     "output_type": "stream",
     "text": [
      "dev dataset preparing...\n"
     ]
    },
    {
     "name": "stderr",
     "output_type": "stream",
     "text": [
      "100%|██████████| 2357/2357 [00:15<00:00, 156.75it/s]\n"
     ]
    },
    {
     "name": "stdout",
     "output_type": "stream",
     "text": [
      "test dataset preparing...\n"
     ]
    },
    {
     "name": "stderr",
     "output_type": "stream",
     "text": [
      "100%|██████████| 2357/2357 [00:14<00:00, 166.07it/s]\n"
     ]
    }
   ],
   "source": [
    "trainer = NBRTrainer(\n",
    "    corpus=corpus,\n",
    "    max_epochs=None,\n",
    "    topk=10,\n",
    "    early_stop_num=None\n",
    ")"
   ]
  },
  {
   "cell_type": "code",
   "execution_count": null,
   "id": "KkhQCXf571mv",
   "metadata": {
    "colab": {
     "base_uri": "https://localhost:8080/"
    },
    "id": "KkhQCXf571mv",
    "outputId": "67f730df-c23f-4749-cf76-31696af41298"
   },
   "outputs": [
    {
     "name": "stderr",
     "output_type": "stream",
     "text": [
      "100%|██████████| 2357/2357 [01:10<00:00, 33.55it/s]\n"
     ]
    },
    {
     "data": {
      "text/plain": [
       "{'precision': 0.049724225710649134,\n",
       " 'recall': 0.09043003780604869,\n",
       " 'ndcg': 0.0795292139930181}"
      ]
     },
     "execution_count": 18,
     "metadata": {},
     "output_type": "execute_result"
    }
   ],
   "source": [
    "params = {\n",
    "    \"model\": TopPopular(\n",
    "        item_num=corpus.n_items,\n",
    "        user_num=corpus.n_users,\n",
    "        corpus=corpus\n",
    "    )\n",
    "}\n",
    "\n",
    "trainer.init_hyperparams(**params)\n",
    "trainer.evaluate(mode=\"test\")"
   ]
  },
  {
   "cell_type": "markdown",
   "id": "E7bggHbx72Fq",
   "metadata": {
    "id": "E7bggHbx72Fq"
   },
   "source": [
    "Top Personal baseline:"
   ]
  },
  {
   "cell_type": "code",
   "execution_count": null,
   "id": "SPZ9kq-S76QR",
   "metadata": {
    "colab": {
     "base_uri": "https://localhost:8080/"
    },
    "id": "SPZ9kq-S76QR",
    "outputId": "8894b1ee-30f2-4322-99dd-a647c8e63af9"
   },
   "outputs": [
    {
     "name": "stdout",
     "output_type": "stream",
     "text": [
      "train dataset preparing...\n"
     ]
    },
    {
     "name": "stderr",
     "output_type": "stream",
     "text": [
      "100%|██████████| 2358/2358 [00:14<00:00, 167.38it/s]\n"
     ]
    },
    {
     "name": "stdout",
     "output_type": "stream",
     "text": [
      "dev dataset preparing...\n"
     ]
    },
    {
     "name": "stderr",
     "output_type": "stream",
     "text": [
      "100%|██████████| 2357/2357 [00:14<00:00, 168.05it/s]\n"
     ]
    },
    {
     "name": "stdout",
     "output_type": "stream",
     "text": [
      "test dataset preparing...\n"
     ]
    },
    {
     "name": "stderr",
     "output_type": "stream",
     "text": [
      "100%|██████████| 2357/2357 [00:14<00:00, 164.19it/s]\n"
     ]
    }
   ],
   "source": [
    "trainer = NBRTrainer(\n",
    "    corpus=corpus,\n",
    "    max_epochs=None,\n",
    "    topk=10,\n",
    "    early_stop_num=None\n",
    ")"
   ]
  },
  {
   "cell_type": "code",
   "execution_count": null,
   "id": "f-ga2pa-786e",
   "metadata": {
    "colab": {
     "base_uri": "https://localhost:8080/"
    },
    "id": "f-ga2pa-786e",
    "outputId": "26b33838-50e9-4aff-c090-02aa497536d0"
   },
   "outputs": [
    {
     "name": "stderr",
     "output_type": "stream",
     "text": [
      "100%|██████████| 2357/2357 [01:08<00:00, 34.57it/s]\n"
     ]
    },
    {
     "data": {
      "text/plain": [
       "{'precision': 0.10912176495545187,\n",
       " 'recall': 0.15774129438087645,\n",
       " 'ndcg': 0.1490099291378852}"
      ]
     },
     "execution_count": 20,
     "metadata": {},
     "output_type": "execute_result"
    }
   ],
   "source": [
    "params = {\n",
    "    \"model\": TopPersonal(\n",
    "        item_num=corpus.n_items,\n",
    "        user_num=corpus.n_users,\n",
    "        corpus=corpus\n",
    "    )\n",
    "}\n",
    "\n",
    "trainer.init_hyperparams(**params)\n",
    "trainer.evaluate(mode=\"test\")"
   ]
  },
  {
   "cell_type": "code",
   "execution_count": null,
   "id": "DxmZ04gMyhxm",
   "metadata": {
    "id": "DxmZ04gMyhxm"
   },
   "outputs": [],
   "source": []
  },
  {
   "cell_type": "code",
   "execution_count": null,
   "id": "j3qT0qGbSSmC",
   "metadata": {
    "id": "j3qT0qGbSSmC"
   },
   "outputs": [],
   "source": []
  }
 ],
 "metadata": {
  "colab": {
   "provenance": []
  },
  "gpuClass": "standard",
  "kernelspec": {
   "display_name": "Python 3 (ipykernel)",
   "language": "python",
   "name": "python3"
  },
  "language_info": {
   "codemirror_mode": {
    "name": "ipython",
    "version": 3
   },
   "file_extension": ".py",
   "mimetype": "text/x-python",
   "name": "python",
   "nbconvert_exporter": "python",
   "pygments_lexer": "ipython3",
   "version": "3.11.0"
  }
 },
 "nbformat": 4,
 "nbformat_minor": 5
}
