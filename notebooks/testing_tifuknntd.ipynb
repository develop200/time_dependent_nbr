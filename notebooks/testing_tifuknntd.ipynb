{
 "cells": [
  {
   "cell_type": "code",
   "execution_count": 3,
   "id": "a2c3a25c",
   "metadata": {
    "executionInfo": {
     "elapsed": 6689,
     "status": "ok",
     "timestamp": 1682839878364,
     "user": {
      "displayName": "Алексей Романов",
      "userId": "08477654072523777702"
     },
     "user_tz": -180
    },
    "id": "a2c3a25c"
   },
   "outputs": [],
   "source": [
    "import os\n",
    "import sys\n",
    "sys.path.append(\"..\")\n",
    "from nbr.preparation import Preprocess, save_split, Corpus\n",
    "from nbr.trainer import NBRTrainer\n",
    "from nbr.model import TIFUKNNTimeDays\n",
    "import torch\n",
    "import random\n",
    "import numpy as np\n",
    "import optuna\n",
    "import warnings\n",
    "warnings.filterwarnings(\"ignore\")"
   ]
  },
  {
   "cell_type": "markdown",
   "id": "d28d8fc2",
   "metadata": {
    "id": "d28d8fc2"
   },
   "source": [
    "# TaFeng"
   ]
  },
  {
   "cell_type": "markdown",
   "id": "gvem-AIjVlpl",
   "metadata": {
    "id": "gvem-AIjVlpl"
   },
   "source": [
    "Fix seed:"
   ]
  },
  {
   "cell_type": "code",
   "execution_count": 3,
   "id": "F18plI6IVniT",
   "metadata": {
    "executionInfo": {
     "elapsed": 24,
     "status": "ok",
     "timestamp": 1682762677485,
     "user": {
      "displayName": "Алексей Романов",
      "userId": "08477654072523777702"
     },
     "user_tz": -180
    },
    "id": "F18plI6IVniT"
   },
   "outputs": [],
   "source": [
    "seed = 10\n",
    "torch.manual_seed(seed)\n",
    "random.seed(seed)\n",
    "np.random.seed(seed)"
   ]
  },
  {
   "cell_type": "markdown",
   "id": "lsokC0LWVqG6",
   "metadata": {
    "id": "lsokC0LWVqG6"
   },
   "source": [
    "Read interactions data (filter users with less than 5 transactions, high purchase frequency and one-day users and items with less than 10 transactions). Train dataset - all baskets except the last two, validation dataset - the last but one basket, test dataset - the last basket:"
   ]
  },
  {
   "cell_type": "code",
   "execution_count": 4,
   "id": "bff616a1",
   "metadata": {
    "colab": {
     "base_uri": "https://localhost:8080/"
    },
    "executionInfo": {
     "elapsed": 11918,
     "status": "ok",
     "timestamp": 1682762689383,
     "user": {
      "displayName": "Алексей Романов",
      "userId": "08477654072523777702"
     },
     "user_tz": -180
    },
    "id": "bff616a1",
    "outputId": "b535a7a1-8a66-473d-b346-76bfbb0bc5de"
   },
   "outputs": [
    {
     "name": "stdout",
     "output_type": "stream",
     "text": [
      "Before preprocessing: #users = 32266, #items = 23812, #clicks = 817741 (#illegal records = 0)\n",
      "After preprocessing: #users = 7358, #items = 11202, #clicks = 368951\n",
      "Saving dataset in ./data//data_ta_feng/...\n"
     ]
    }
   ],
   "source": [
    "corpus_path = \"./data/\"\n",
    "dataset_name = \"ta_feng\"\n",
    "\n",
    "preprocessor = Preprocess(corpus_path, dataset_name)\n",
    "preprocessor.load_data(5, 10, filt=True)\n",
    "save_split(corpus_path, dataset_name, preprocessor)"
   ]
  },
  {
   "cell_type": "code",
   "execution_count": 5,
   "id": "a852d43f",
   "metadata": {
    "executionInfo": {
     "elapsed": 7923,
     "status": "ok",
     "timestamp": 1682762697256,
     "user": {
      "displayName": "Алексей Романов",
      "userId": "08477654072523777702"
     },
     "user_tz": -180
    },
    "id": "a852d43f"
   },
   "outputs": [],
   "source": [
    "corpus = Corpus(corpus_path, dataset_name)\n",
    "corpus.load_data()"
   ]
  },
  {
   "cell_type": "markdown",
   "id": "e8GL9d6sV1Eq",
   "metadata": {
    "id": "e8GL9d6sV1Eq"
   },
   "source": [
    "Tune hyperparams on validation dataset:"
   ]
  },
  {
   "cell_type": "code",
   "execution_count": 6,
   "id": "a8bb75da",
   "metadata": {
    "colab": {
     "base_uri": "https://localhost:8080/"
    },
    "executionInfo": {
     "elapsed": 20551,
     "status": "ok",
     "timestamp": 1682762717757,
     "user": {
      "displayName": "Алексей Романов",
      "userId": "08477654072523777702"
     },
     "user_tz": -180
    },
    "id": "a8bb75da",
    "outputId": "accbe809-820a-4651-fad9-743a851ca336"
   },
   "outputs": [
    {
     "name": "stdout",
     "output_type": "stream",
     "text": [
      "train dataset preparing...\n"
     ]
    },
    {
     "name": "stderr",
     "output_type": "stream",
     "text": [
      "100%|██████████| 7358/7358 [00:15<00:00, 489.34it/s]\n"
     ]
    },
    {
     "name": "stdout",
     "output_type": "stream",
     "text": [
      "dev dataset preparing...\n"
     ]
    },
    {
     "name": "stderr",
     "output_type": "stream",
     "text": [
      "100%|██████████| 7357/7357 [00:03<00:00, 2424.25it/s]\n"
     ]
    },
    {
     "name": "stdout",
     "output_type": "stream",
     "text": [
      "test dataset preparing...\n"
     ]
    },
    {
     "name": "stderr",
     "output_type": "stream",
     "text": [
      "100%|██████████| 7357/7357 [00:02<00:00, 3026.00it/s]\n"
     ]
    }
   ],
   "source": [
    "trainer = NBRTrainer(\n",
    "    corpus=corpus,\n",
    "    max_epochs=None,\n",
    "    topk=10,\n",
    "    early_stop_num=None\n",
    ")"
   ]
  },
  {
   "cell_type": "code",
   "execution_count": 8,
   "id": "2904458d",
   "metadata": {
    "executionInfo": {
     "elapsed": 67,
     "status": "ok",
     "timestamp": 1682762717761,
     "user": {
      "displayName": "Алексей Романов",
      "userId": "08477654072523777702"
     },
     "user_tz": -180
    },
    "id": "2904458d"
   },
   "outputs": [],
   "source": [
    "def objective(trial):\n",
    "    params = {\n",
    "        \"model\": TIFUKNNTimeDays(\n",
    "            item_num=corpus.n_items,\n",
    "            user_num=corpus.n_users,\n",
    "            group_size_days=trial.suggest_int(\"group_size_days\", 1, 365),\n",
    "            within_decay_rate=trial.suggest_float(\"within_decay_rate\", 0.1, 1.0, step=0.1),\n",
    "            group_decay_rate=trial.suggest_float(\"group_decay_rate\", 0.1, 1.0, step=0.1),\n",
    "            nearest_neighbors_num=trial.suggest_int(\"nearest_neighbors_num\", low=25, high=500, step=25),\n",
    "            alpha=trial.suggest_float(\"alpha\", 0.0, 1.0, step=0.1),\n",
    "            use_log = trial.suggest_categorical(\"use_log\", [True, False]),\n",
    "            corpus=corpus\n",
    "        )\n",
    "    }\n",
    "\n",
    "    trainer.init_hyperparams(**params)\n",
    "    metrics = trainer.evaluate(mode=\"dev\")\n",
    "    score = metrics[\"ndcg\"]\n",
    "    return score"
   ]
  },
  {
   "cell_type": "code",
   "execution_count": 10,
   "id": "dDCDTy8CdMIs",
   "metadata": {
    "colab": {
     "base_uri": "https://localhost:8080/"
    },
    "executionInfo": {
     "elapsed": 3067353,
     "status": "ok",
     "timestamp": 1682772493140,
     "user": {
      "displayName": "Алексей Романов",
      "userId": "08477654072523777702"
     },
     "user_tz": -180
    },
    "id": "dDCDTy8CdMIs",
    "outputId": "f013a178-3d71-4a23-840b-dc5b7c00817c"
   },
   "outputs": [
    {
     "metadata": {
      "tags": null
     },
     "name": "stderr",
     "output_type": "stream",
     "text": [
      "\u001b[32m[I 2023-04-29 10:05:16,973]\u001b[0m A new study created in memory with name: no-name-edec6e64-1447-4b55-a29a-2a08c121cda2\u001b[0m\n"
     ]
    },
    {
     "metadata": {
      "tags": null
     },
     "name": "stdout",
     "output_type": "stream",
     "text": [
      "TIFUKNNTimeDays fitting...\n"
     ]
    },
    {
     "metadata": {
      "tags": null
     },
     "name": "stderr",
     "output_type": "stream",
     "text": [
      "100%|██████████| 7358/7358 [01:07<00:00, 109.02it/s]\n",
      "\u001b[32m[I 2023-04-29 10:06:31,602]\u001b[0m Trial 0 finished with value: 0.08417837669486034 and parameters: {'group_size_days': 282, 'within_decay_rate': 0.1, 'group_decay_rate': 0.7000000000000001, 'nearest_neighbors_num': 375, 'alpha': 0.5, 'use_log': True}. Best is trial 0 with value: 0.08417837669486034.\u001b[0m\n"
     ]
    },
    {
     "metadata": {
      "tags": null
     },
     "name": "stdout",
     "output_type": "stream",
     "text": [
      "TIFUKNNTimeDays fitting...\n"
     ]
    },
    {
     "metadata": {
      "tags": null
     },
     "name": "stderr",
     "output_type": "stream",
     "text": [
      "100%|██████████| 7358/7358 [01:15<00:00, 97.73it/s] \n",
      "\u001b[32m[I 2023-04-29 10:07:52,680]\u001b[0m Trial 1 finished with value: 0.08107169520651933 and parameters: {'group_size_days': 278, 'within_decay_rate': 0.2, 'group_decay_rate': 0.1, 'nearest_neighbors_num': 350, 'alpha': 1.0, 'use_log': False}. Best is trial 0 with value: 0.08417837669486034.\u001b[0m\n"
     ]
    },
    {
     "metadata": {
      "tags": null
     },
     "name": "stdout",
     "output_type": "stream",
     "text": [
      "TIFUKNNTimeDays fitting...\n"
     ]
    },
    {
     "metadata": {
      "tags": null
     },
     "name": "stderr",
     "output_type": "stream",
     "text": [
      "100%|██████████| 7358/7358 [01:07<00:00, 108.54it/s]\n",
      "\u001b[32m[I 2023-04-29 10:09:06,135]\u001b[0m Trial 2 finished with value: 0.09409736208740892 and parameters: {'group_size_days': 297, 'within_decay_rate': 0.7000000000000001, 'group_decay_rate': 0.8, 'nearest_neighbors_num': 150, 'alpha': 1.0, 'use_log': True}. Best is trial 2 with value: 0.09409736208740892.\u001b[0m\n"
     ]
    },
    {
     "metadata": {
      "tags": null
     },
     "name": "stdout",
     "output_type": "stream",
     "text": [
      "TIFUKNNTimeDays fitting...\n"
     ]
    },
    {
     "metadata": {
      "tags": null
     },
     "name": "stderr",
     "output_type": "stream",
     "text": [
      "100%|██████████| 7358/7358 [01:07<00:00, 109.43it/s]\n",
      "\u001b[32m[I 2023-04-29 10:10:19,915]\u001b[0m Trial 3 finished with value: 0.0899712994800866 and parameters: {'group_size_days': 52, 'within_decay_rate': 0.4, 'group_decay_rate': 0.7000000000000001, 'nearest_neighbors_num': 225, 'alpha': 0.4, 'use_log': True}. Best is trial 2 with value: 0.09409736208740892.\u001b[0m\n"
     ]
    },
    {
     "metadata": {
      "tags": null
     },
     "name": "stdout",
     "output_type": "stream",
     "text": [
      "TIFUKNNTimeDays fitting...\n"
     ]
    },
    {
     "metadata": {
      "tags": null
     },
     "name": "stderr",
     "output_type": "stream",
     "text": [
      "100%|██████████| 7358/7358 [01:08<00:00, 106.75it/s]\n",
      "\u001b[32m[I 2023-04-29 10:11:34,286]\u001b[0m Trial 4 finished with value: 0.09943049264273611 and parameters: {'group_size_days': 238, 'within_decay_rate': 0.7000000000000001, 'group_decay_rate': 0.9, 'nearest_neighbors_num': 275, 'alpha': 0.9, 'use_log': True}. Best is trial 4 with value: 0.09943049264273611.\u001b[0m\n"
     ]
    },
    {
     "metadata": {
      "tags": null
     },
     "name": "stdout",
     "output_type": "stream",
     "text": [
      "TIFUKNNTimeDays fitting...\n"
     ]
    },
    {
     "metadata": {
      "tags": null
     },
     "name": "stderr",
     "output_type": "stream",
     "text": [
      "100%|██████████| 7358/7358 [01:09<00:00, 105.69it/s]\n",
      "\u001b[32m[I 2023-04-29 10:12:49,133]\u001b[0m Trial 5 finished with value: 0.06575078563480784 and parameters: {'group_size_days': 110, 'within_decay_rate': 0.2, 'group_decay_rate': 0.9, 'nearest_neighbors_num': 25, 'alpha': 0.6000000000000001, 'use_log': False}. Best is trial 4 with value: 0.09943049264273611.\u001b[0m\n"
     ]
    },
    {
     "metadata": {
      "tags": null
     },
     "name": "stdout",
     "output_type": "stream",
     "text": [
      "TIFUKNNTimeDays fitting...\n"
     ]
    },
    {
     "metadata": {
      "tags": null
     },
     "name": "stderr",
     "output_type": "stream",
     "text": [
      "100%|██████████| 7358/7358 [01:09<00:00, 105.93it/s]\n",
      "\u001b[32m[I 2023-04-29 10:14:03,558]\u001b[0m Trial 6 finished with value: 0.11015189400663232 and parameters: {'group_size_days': 73, 'within_decay_rate': 0.9, 'group_decay_rate': 0.4, 'nearest_neighbors_num': 400, 'alpha': 0.30000000000000004, 'use_log': True}. Best is trial 6 with value: 0.11015189400663232.\u001b[0m\n"
     ]
    },
    {
     "metadata": {
      "tags": null
     },
     "name": "stdout",
     "output_type": "stream",
     "text": [
      "TIFUKNNTimeDays fitting...\n"
     ]
    },
    {
     "metadata": {
      "tags": null
     },
     "name": "stderr",
     "output_type": "stream",
     "text": [
      "100%|██████████| 7358/7358 [01:10<00:00, 104.68it/s]\n",
      "\u001b[32m[I 2023-04-29 10:15:18,831]\u001b[0m Trial 7 finished with value: 0.08315398270776554 and parameters: {'group_size_days': 61, 'within_decay_rate': 0.4, 'group_decay_rate': 0.1, 'nearest_neighbors_num': 425, 'alpha': 0.1, 'use_log': False}. Best is trial 6 with value: 0.11015189400663232.\u001b[0m\n"
     ]
    },
    {
     "metadata": {
      "tags": null
     },
     "name": "stdout",
     "output_type": "stream",
     "text": [
      "TIFUKNNTimeDays fitting...\n"
     ]
    },
    {
     "metadata": {
      "tags": null
     },
     "name": "stderr",
     "output_type": "stream",
     "text": [
      "100%|██████████| 7358/7358 [01:07<00:00, 108.49it/s]\n",
      "\u001b[32m[I 2023-04-29 10:16:33,673]\u001b[0m Trial 8 finished with value: 0.0930543366897407 and parameters: {'group_size_days': 361, 'within_decay_rate': 0.5, 'group_decay_rate': 0.9, 'nearest_neighbors_num': 150, 'alpha': 0.6000000000000001, 'use_log': True}. Best is trial 6 with value: 0.11015189400663232.\u001b[0m\n"
     ]
    },
    {
     "metadata": {
      "tags": null
     },
     "name": "stdout",
     "output_type": "stream",
     "text": [
      "TIFUKNNTimeDays fitting...\n"
     ]
    },
    {
     "metadata": {
      "tags": null
     },
     "name": "stderr",
     "output_type": "stream",
     "text": [
      "100%|██████████| 7358/7358 [01:08<00:00, 107.22it/s]\n",
      "\u001b[32m[I 2023-04-29 10:17:49,334]\u001b[0m Trial 9 finished with value: 0.06664441206384558 and parameters: {'group_size_days': 216, 'within_decay_rate': 0.1, 'group_decay_rate': 0.4, 'nearest_neighbors_num': 50, 'alpha': 0.30000000000000004, 'use_log': False}. Best is trial 6 with value: 0.11015189400663232.\u001b[0m\n"
     ]
    },
    {
     "metadata": {
      "tags": null
     },
     "name": "stdout",
     "output_type": "stream",
     "text": [
      "TIFUKNNTimeDays fitting...\n"
     ]
    },
    {
     "metadata": {
      "tags": null
     },
     "name": "stderr",
     "output_type": "stream",
     "text": [
      "100%|██████████| 7358/7358 [01:05<00:00, 111.63it/s]\n",
      "\u001b[32m[I 2023-04-29 10:19:02,601]\u001b[0m Trial 10 finished with value: 0.08973733291690814 and parameters: {'group_size_days': 139, 'within_decay_rate': 1.0, 'group_decay_rate': 0.4, 'nearest_neighbors_num': 450, 'alpha': 0.0, 'use_log': True}. Best is trial 6 with value: 0.11015189400663232.\u001b[0m\n"
     ]
    },
    {
     "metadata": {
      "tags": null
     },
     "name": "stdout",
     "output_type": "stream",
     "text": [
      "TIFUKNNTimeDays fitting...\n"
     ]
    },
    {
     "metadata": {
      "tags": null
     },
     "name": "stderr",
     "output_type": "stream",
     "text": [
      "100%|██████████| 7358/7358 [01:06<00:00, 111.01it/s]\n",
      "\u001b[32m[I 2023-04-29 10:20:16,461]\u001b[0m Trial 11 finished with value: 0.09290810725547442 and parameters: {'group_size_days': 9, 'within_decay_rate': 0.8, 'group_decay_rate': 0.5, 'nearest_neighbors_num': 300, 'alpha': 0.8, 'use_log': True}. Best is trial 6 with value: 0.11015189400663232.\u001b[0m\n"
     ]
    },
    {
     "metadata": {
      "tags": null
     },
     "name": "stdout",
     "output_type": "stream",
     "text": [
      "TIFUKNNTimeDays fitting...\n"
     ]
    },
    {
     "metadata": {
      "tags": null
     },
     "name": "stderr",
     "output_type": "stream",
     "text": [
      "100%|██████████| 7358/7358 [01:07<00:00, 108.96it/s]\n",
      "\u001b[32m[I 2023-04-29 10:21:31,549]\u001b[0m Trial 12 finished with value: 0.11295864483900496 and parameters: {'group_size_days': 197, 'within_decay_rate': 1.0, 'group_decay_rate': 0.30000000000000004, 'nearest_neighbors_num': 500, 'alpha': 0.2, 'use_log': True}. Best is trial 12 with value: 0.11295864483900496.\u001b[0m\n"
     ]
    },
    {
     "metadata": {
      "tags": null
     },
     "name": "stdout",
     "output_type": "stream",
     "text": [
      "TIFUKNNTimeDays fitting...\n"
     ]
    },
    {
     "metadata": {
      "tags": null
     },
     "name": "stderr",
     "output_type": "stream",
     "text": [
      "100%|██████████| 7358/7358 [01:08<00:00, 106.83it/s]\n",
      "100%|██████████| 7357/7357 [11:17<00:00, 10.86it/s]\n",
      "\u001b[32m[I 2023-04-29 10:34:05,885]\u001b[0m Trial 13 finished with value: 0.11295864483900496 and parameters: {'group_size_days': 156, 'within_decay_rate': 1.0, 'group_decay_rate': 0.30000000000000004, 'nearest_neighbors_num': 500, 'alpha': 0.2, 'use_log': True}. Best is trial 12 with value: 0.11295864483900496.\u001b[0m\n"
     ]
    },
    {
     "metadata": {
      "tags": null
     },
     "name": "stdout",
     "output_type": "stream",
     "text": [
      "TIFUKNNTimeDays fitting...\n"
     ]
    },
    {
     "metadata": {
      "tags": null
     },
     "name": "stderr",
     "output_type": "stream",
     "text": [
      "100%|██████████| 7358/7358 [01:07<00:00, 108.33it/s]\n",
      "100%|██████████| 7357/7357 [11:22<00:00, 10.78it/s]\n",
      "\u001b[32m[I 2023-04-29 10:46:42,365]\u001b[0m Trial 14 finished with value: 0.11312625017928453 and parameters: {'group_size_days': 190, 'within_decay_rate': 1.0, 'group_decay_rate': 0.2, 'nearest_neighbors_num': 475, 'alpha': 0.2, 'use_log': True}. Best is trial 14 with value: 0.11312625017928453.\u001b[0m\n"
     ]
    },
    {
     "metadata": {
      "tags": null
     },
     "name": "stdout",
     "output_type": "stream",
     "text": [
      "TIFUKNNTimeDays fitting...\n"
     ]
    },
    {
     "metadata": {
      "tags": null
     },
     "name": "stderr",
     "output_type": "stream",
     "text": [
      "100%|██████████| 7358/7358 [01:06<00:00, 110.06it/s]\n",
      "100%|██████████| 7357/7357 [11:43<00:00, 10.45it/s]\n",
      "\u001b[32m[I 2023-04-29 10:59:40,831]\u001b[0m Trial 15 finished with value: 0.08903716627491305 and parameters: {'group_size_days': 195, 'within_decay_rate': 0.8, 'group_decay_rate': 0.2, 'nearest_neighbors_num': 500, 'alpha': 0.0, 'use_log': True}. Best is trial 14 with value: 0.11312625017928453.\u001b[0m\n"
     ]
    },
    {
     "metadata": {
      "tags": null
     },
     "name": "stdout",
     "output_type": "stream",
     "text": [
      "TIFUKNNTimeDays fitting...\n"
     ]
    },
    {
     "metadata": {
      "tags": null
     },
     "name": "stderr",
     "output_type": "stream",
     "text": [
      "100%|██████████| 7358/7358 [01:07<00:00, 108.40it/s]\n",
      "100%|██████████| 7357/7357 [11:57<00:00, 10.25it/s]\n",
      "\u001b[32m[I 2023-04-29 11:12:52,893]\u001b[0m Trial 16 finished with value: 0.11295864483900496 and parameters: {'group_size_days': 164, 'within_decay_rate': 1.0, 'group_decay_rate': 0.2, 'nearest_neighbors_num': 500, 'alpha': 0.2, 'use_log': True}. Best is trial 14 with value: 0.11312625017928453.\u001b[0m\n"
     ]
    },
    {
     "metadata": {
      "tags": null
     },
     "name": "stdout",
     "output_type": "stream",
     "text": [
      "TIFUKNNTimeDays fitting...\n"
     ]
    },
    {
     "metadata": {
      "tags": null
     },
     "name": "stderr",
     "output_type": "stream",
     "text": [
      "100%|██████████| 7358/7358 [01:08<00:00, 106.70it/s]\n",
      "100%|██████████| 7357/7357 [08:16<00:00, 14.83it/s]\n",
      "\u001b[32m[I 2023-04-29 11:22:23,921]\u001b[0m Trial 17 finished with value: 0.10830287780210922 and parameters: {'group_size_days': 245, 'within_decay_rate': 0.8, 'group_decay_rate': 0.30000000000000004, 'nearest_neighbors_num': 325, 'alpha': 0.2, 'use_log': True}. Best is trial 14 with value: 0.11312625017928453.\u001b[0m\n"
     ]
    },
    {
     "metadata": {
      "tags": null
     },
     "name": "stdout",
     "output_type": "stream",
     "text": [
      "TIFUKNNTimeDays fitting...\n"
     ]
    },
    {
     "metadata": {
      "tags": null
     },
     "name": "stderr",
     "output_type": "stream",
     "text": [
      "100%|██████████| 7358/7358 [01:09<00:00, 105.37it/s]\n",
      "100%|██████████| 7357/7357 [11:31<00:00, 10.64it/s]\n",
      "\u001b[32m[I 2023-04-29 11:35:14,049]\u001b[0m Trial 18 finished with value: 0.08494748403722352 and parameters: {'group_size_days': 113, 'within_decay_rate': 0.6, 'group_decay_rate': 0.6, 'nearest_neighbors_num': 450, 'alpha': 0.4, 'use_log': False}. Best is trial 14 with value: 0.11312625017928453.\u001b[0m\n"
     ]
    },
    {
     "metadata": {
      "tags": null
     },
     "name": "stdout",
     "output_type": "stream",
     "text": [
      "TIFUKNNTimeDays fitting...\n"
     ]
    },
    {
     "metadata": {
      "tags": null
     },
     "name": "stderr",
     "output_type": "stream",
     "text": [
      "100%|██████████| 7358/7358 [01:08<00:00, 107.71it/s]\n",
      "100%|██████████| 7357/7357 [07:46<00:00, 15.78it/s]\n",
      "\u001b[32m[I 2023-04-29 11:44:16,456]\u001b[0m Trial 19 finished with value: 0.1095121738354846 and parameters: {'group_size_days': 351, 'within_decay_rate': 0.9, 'group_decay_rate': 0.2, 'nearest_neighbors_num': 225, 'alpha': 0.1, 'use_log': True}. Best is trial 14 with value: 0.11312625017928453.\u001b[0m\n"
     ]
    },
    {
     "metadata": {
      "tags": null
     },
     "name": "stdout",
     "output_type": "stream",
     "text": [
      "TIFUKNNTimeDays fitting...\n"
     ]
    },
    {
     "name": "stderr",
     "output_type": "stream",
     "text": [
      "100%|██████████| 7358/7358 [01:08<00:00, 107.98it/s]\n",
      "100%|██████████| 7357/7357 [11:13<00:00, 10.92it/s]\n",
      "\u001b[32m[I 2023-04-29 11:56:45,133]\u001b[0m Trial 20 finished with value: 0.1096700906066822 and parameters: {'group_size_days': 211, 'within_decay_rate': 0.9, 'group_decay_rate': 0.5, 'nearest_neighbors_num': 450, 'alpha': 0.7000000000000001, 'use_log': True}. Best is trial 14 with value: 0.11312625017928453.\u001b[0m\n"
     ]
    },
    {
     "name": "stdout",
     "output_type": "stream",
     "text": [
      "TIFUKNNTimeDays fitting...\n"
     ]
    },
    {
     "name": "stderr",
     "output_type": "stream",
     "text": [
      "100%|██████████| 7358/7358 [01:06<00:00, 110.52it/s]\n",
      "100%|██████████| 7357/7357 [11:43<00:00, 10.45it/s]\n",
      "\u001b[32m[I 2023-04-29 12:09:41,535]\u001b[0m Trial 21 finished with value: 0.11295864483900496 and parameters: {'group_size_days': 161, 'within_decay_rate': 1.0, 'group_decay_rate': 0.30000000000000004, 'nearest_neighbors_num': 500, 'alpha': 0.2, 'use_log': True}. Best is trial 14 with value: 0.11312625017928453.\u001b[0m\n"
     ]
    },
    {
     "name": "stdout",
     "output_type": "stream",
     "text": [
      "TIFUKNNTimeDays fitting...\n"
     ]
    },
    {
     "name": "stderr",
     "output_type": "stream",
     "text": [
      "100%|██████████| 7358/7358 [01:06<00:00, 109.95it/s]\n",
      "100%|██████████| 7357/7357 [11:37<00:00, 10.55it/s]\n",
      "\u001b[32m[I 2023-04-29 12:22:34,287]\u001b[0m Trial 22 finished with value: 0.11297487437897484 and parameters: {'group_size_days': 178, 'within_decay_rate': 1.0, 'group_decay_rate': 0.30000000000000004, 'nearest_neighbors_num': 500, 'alpha': 0.30000000000000004, 'use_log': True}. Best is trial 14 with value: 0.11312625017928453.\u001b[0m\n"
     ]
    },
    {
     "name": "stdout",
     "output_type": "stream",
     "text": [
      "TIFUKNNTimeDays fitting...\n"
     ]
    },
    {
     "name": "stderr",
     "output_type": "stream",
     "text": [
      "100%|██████████| 7358/7358 [01:06<00:00, 110.98it/s]\n",
      "100%|██████████| 7357/7357 [10:43<00:00, 11.43it/s]\n",
      "\u001b[32m[I 2023-04-29 12:34:30,339]\u001b[0m Trial 23 finished with value: 0.1124514092509248 and parameters: {'group_size_days': 187, 'within_decay_rate': 0.9, 'group_decay_rate': 0.1, 'nearest_neighbors_num': 400, 'alpha': 0.4, 'use_log': True}. Best is trial 14 with value: 0.11312625017928453.\u001b[0m\n"
     ]
    },
    {
     "name": "stdout",
     "output_type": "stream",
     "text": [
      "TIFUKNNTimeDays fitting...\n"
     ]
    },
    {
     "name": "stderr",
     "output_type": "stream",
     "text": [
      "100%|██████████| 7358/7358 [01:08<00:00, 107.52it/s]\n",
      "100%|██████████| 7357/7357 [11:15<00:00, 10.89it/s]\n",
      "\u001b[32m[I 2023-04-29 12:47:00,249]\u001b[0m Trial 24 finished with value: 0.10333602826948025 and parameters: {'group_size_days': 246, 'within_decay_rate': 0.7000000000000001, 'group_decay_rate': 0.30000000000000004, 'nearest_neighbors_num': 450, 'alpha': 0.30000000000000004, 'use_log': True}. Best is trial 14 with value: 0.11312625017928453.\u001b[0m\n"
     ]
    }
   ],
   "source": [
    "sampler = optuna.samplers.TPESampler(seed=seed)\n",
    "study = optuna.create_study(direction=\"maximize\", sampler=sampler)\n",
    "study.optimize(objective, n_trials=25)"
   ]
  },
  {
   "cell_type": "markdown",
   "id": "3cUXH3VKdXcP",
   "metadata": {
    "id": "3cUXH3VKdXcP"
   },
   "source": [
    "Test:"
   ]
  },
  {
   "cell_type": "code",
   "execution_count": 11,
   "id": "446679d1",
   "metadata": {
    "colab": {
     "base_uri": "https://localhost:8080/"
    },
    "executionInfo": {
     "elapsed": 95370,
     "status": "ok",
     "timestamp": 1682772588503,
     "user": {
      "displayName": "Алексей Романов",
      "userId": "08477654072523777702"
     },
     "user_tz": -180
    },
    "id": "446679d1",
    "outputId": "3f8a00f7-6168-4371-9df0-125350fbbed8"
   },
   "outputs": [
    {
     "name": "stdout",
     "output_type": "stream",
     "text": [
      "train dataset preparing...\n"
     ]
    },
    {
     "name": "stderr",
     "output_type": "stream",
     "text": [
      "100%|██████████| 7358/7358 [00:15<00:00, 470.28it/s]\n"
     ]
    },
    {
     "name": "stdout",
     "output_type": "stream",
     "text": [
      "dev dataset preparing...\n"
     ]
    },
    {
     "name": "stderr",
     "output_type": "stream",
     "text": [
      "100%|██████████| 7357/7357 [00:02<00:00, 2539.10it/s]\n"
     ]
    },
    {
     "name": "stdout",
     "output_type": "stream",
     "text": [
      "test dataset preparing...\n"
     ]
    },
    {
     "name": "stderr",
     "output_type": "stream",
     "text": [
      "100%|██████████| 7357/7357 [00:02<00:00, 3034.50it/s]\n"
     ]
    },
    {
     "name": "stdout",
     "output_type": "stream",
     "text": [
      "TIFUKNNTimeDays fitting...\n"
     ]
    },
    {
     "name": "stderr",
     "output_type": "stream",
     "text": [
      "100%|██████████| 7358/7358 [01:07<00:00, 108.31it/s]\n"
     ]
    }
   ],
   "source": [
    "trainer = NBRTrainer(\n",
    "    corpus=corpus,\n",
    "    max_epochs=None,\n",
    "    topk=10,\n",
    "    early_stop_num=None\n",
    ")\n",
    "params = {\n",
    "    \"model\": TIFUKNNTimeDays(\n",
    "        item_num=corpus.n_items,\n",
    "        user_num=corpus.n_users,\n",
    "        group_size_days=study.best_params[\"group_size_days\"],\n",
    "        within_decay_rate=study.best_params[\"within_decay_rate\"],\n",
    "        group_decay_rate=study.best_params[\"group_decay_rate\"],\n",
    "        nearest_neighbors_num=study.best_params[\"nearest_neighbors_num\"],\n",
    "        alpha=study.best_params[\"alpha\"],\n",
    "        use_log=study.best_params[\"use_log\"],\n",
    "        corpus=corpus\n",
    "    )\n",
    "}\n",
    "\n",
    "trainer.init_hyperparams(**params)"
   ]
  },
  {
   "cell_type": "code",
   "execution_count": 12,
   "id": "IsRNLODh-jRM",
   "metadata": {
    "colab": {
     "base_uri": "https://localhost:8080/"
    },
    "executionInfo": {
     "elapsed": 511741,
     "status": "ok",
     "timestamp": 1682773100195,
     "user": {
      "displayName": "Алексей Романов",
      "userId": "08477654072523777702"
     },
     "user_tz": -180
    },
    "id": "IsRNLODh-jRM",
    "outputId": "4cdd5aad-08ea-4ab0-8b07-0d3f2a886941"
   },
   "outputs": [
    {
     "name": "stderr",
     "output_type": "stream",
     "text": [
      "100%|██████████| 7357/7357 [08:30<00:00, 14.40it/s]\n"
     ]
    },
    {
     "data": {
      "text/plain": [
       "{'precision': 0.061519641158080736,\n",
       " 'recall': 0.1503349546760062,\n",
       " 'ndcg': 0.1248435198538412}"
      ]
     },
     "execution_count": 12,
     "metadata": {},
     "output_type": "execute_result"
    }
   ],
   "source": [
    "trainer.evaluate(mode=\"test\")"
   ]
  },
  {
   "cell_type": "markdown",
   "id": "199ab480",
   "metadata": {
    "id": "199ab480"
   },
   "source": [
    "# TaoBao"
   ]
  },
  {
   "cell_type": "markdown",
   "id": "dR-OjFT7ctTP",
   "metadata": {
    "id": "dR-OjFT7ctTP"
   },
   "source": [
    "Fix seed:"
   ]
  },
  {
   "cell_type": "code",
   "execution_count": 4,
   "id": "7nLjn1nQcu1C",
   "metadata": {
    "executionInfo": {
     "elapsed": 15,
     "status": "ok",
     "timestamp": 1682839878367,
     "user": {
      "displayName": "Алексей Романов",
      "userId": "08477654072523777702"
     },
     "user_tz": -180
    },
    "id": "7nLjn1nQcu1C"
   },
   "outputs": [],
   "source": [
    "seed = 10\n",
    "torch.manual_seed(seed)\n",
    "random.seed(seed)\n",
    "np.random.seed(seed)"
   ]
  },
  {
   "cell_type": "markdown",
   "id": "i3ykvMDCcy1I",
   "metadata": {
    "id": "i3ykvMDCcy1I"
   },
   "source": [
    "Read interactions data (filter users with less than 10 transactions, high purchase frequency and one-day users and items with less than 10 transactions). Train dataset - all baskets except the last two, validation dataset - the last but one basket, test dataset - the last basket:"
   ]
  },
  {
   "cell_type": "code",
   "execution_count": 5,
   "id": "86f6e71b",
   "metadata": {
    "colab": {
     "base_uri": "https://localhost:8080/"
    },
    "executionInfo": {
     "elapsed": 12583,
     "status": "ok",
     "timestamp": 1682839890937,
     "user": {
      "displayName": "Алексей Романов",
      "userId": "08477654072523777702"
     },
     "user_tz": -180
    },
    "id": "86f6e71b",
    "outputId": "baf8e7cf-4649-46b1-a4a7-cb1243b67cb5",
    "scrolled": false
   },
   "outputs": [
    {
     "name": "stdout",
     "output_type": "stream",
     "text": [
      "Before preprocessing: #users = 672404, #items = 638962, #clicks = 2015807 (#illegal records = 0)\n",
      "After preprocessing: #users = 10092, #items = 22286, #clicks = 67991\n",
      "Saving dataset in ./data//data_taobao/...\n"
     ]
    }
   ],
   "source": [
    "corpus_path = \"./data/\"\n",
    "dataset_name = \"taobao\"\n",
    "\n",
    "preprocessor = Preprocess(corpus_path, dataset_name)\n",
    "preprocessor.load_data(10, 10, filt=True)\n",
    "save_split(corpus_path, dataset_name, preprocessor)"
   ]
  },
  {
   "cell_type": "code",
   "execution_count": 6,
   "id": "c3654262",
   "metadata": {
    "executionInfo": {
     "elapsed": 317,
     "status": "ok",
     "timestamp": 1682839891220,
     "user": {
      "displayName": "Алексей Романов",
      "userId": "08477654072523777702"
     },
     "user_tz": -180
    },
    "id": "c3654262"
   },
   "outputs": [],
   "source": [
    "corpus = Corpus(corpus_path, dataset_name)\n",
    "corpus.load_data()"
   ]
  },
  {
   "cell_type": "markdown",
   "id": "064sabRic4hD",
   "metadata": {
    "id": "064sabRic4hD"
   },
   "source": [
    "Tune hyperparams on validation dataset:"
   ]
  },
  {
   "cell_type": "code",
   "execution_count": 7,
   "id": "8733018e",
   "metadata": {
    "colab": {
     "base_uri": "https://localhost:8080/"
    },
    "executionInfo": {
     "elapsed": 51963,
     "status": "ok",
     "timestamp": 1682796099774,
     "user": {
      "displayName": "Алексей Романов",
      "userId": "08477654072523777702"
     },
     "user_tz": -180
    },
    "id": "8733018e",
    "outputId": "2da55b5f-7c28-4615-c953-9f287e1c55d5"
   },
   "outputs": [
    {
     "name": "stdout",
     "output_type": "stream",
     "text": [
      "train dataset preparing...\n"
     ]
    },
    {
     "name": "stderr",
     "output_type": "stream",
     "text": [
      "100%|██████████| 10092/10092 [00:51<00:00, 196.96it/s]\n"
     ]
    },
    {
     "name": "stdout",
     "output_type": "stream",
     "text": [
      "dev dataset preparing...\n"
     ]
    },
    {
     "name": "stderr",
     "output_type": "stream",
     "text": [
      "100%|██████████| 9307/9307 [00:00<00:00, 21531.86it/s]\n"
     ]
    },
    {
     "name": "stdout",
     "output_type": "stream",
     "text": [
      "test dataset preparing...\n"
     ]
    },
    {
     "name": "stderr",
     "output_type": "stream",
     "text": [
      "100%|██████████| 9307/9307 [00:00<00:00, 22219.24it/s]\n"
     ]
    }
   ],
   "source": [
    "trainer = NBRTrainer(\n",
    "    corpus=corpus,\n",
    "    max_epochs=None,\n",
    "    topk=10,\n",
    "    early_stop_num=None\n",
    ")"
   ]
  },
  {
   "cell_type": "code",
   "execution_count": 8,
   "id": "f952fb8e",
   "metadata": {
    "executionInfo": {
     "elapsed": 271,
     "status": "ok",
     "timestamp": 1682796099998,
     "user": {
      "displayName": "Алексей Романов",
      "userId": "08477654072523777702"
     },
     "user_tz": -180
    },
    "id": "f952fb8e"
   },
   "outputs": [],
   "source": [
    "def objective(trial):\n",
    "    params = {\n",
    "        \"model\": TIFUKNNTimeDays(\n",
    "            item_num=corpus.n_items,\n",
    "            user_num=corpus.n_users,\n",
    "            group_size_days=trial.suggest_int(\"group_size_days\", 1, 365),\n",
    "            within_decay_rate=trial.suggest_float(\"within_decay_rate\", 0.1, 1.0, step=0.1),\n",
    "            group_decay_rate=trial.suggest_float(\"group_decay_rate\", 0.1, 1.0, step=0.1),\n",
    "            nearest_neighbors_num=trial.suggest_int(\"nearest_neighbors_num\", low=25, high=500, step=25),\n",
    "            alpha=trial.suggest_float(\"alpha\", 0.0, 1.0, step=0.1),\n",
    "            use_log = trial.suggest_categorical(\"use_log\", [True, False]),\n",
    "            corpus=corpus\n",
    "        )\n",
    "    }\n",
    "\n",
    "    trainer.init_hyperparams(**params)\n",
    "    metrics = trainer.evaluate(mode=\"dev\")\n",
    "    score = metrics[\"ndcg\"]\n",
    "    return score"
   ]
  },
  {
   "cell_type": "code",
   "execution_count": null,
   "id": "3vZPLsjb_lgZ",
   "metadata": {
    "colab": {
     "base_uri": "https://localhost:8080/"
    },
    "id": "3vZPLsjb_lgZ",
    "outputId": "97a56075-74bb-4804-abe5-77c3a237a360"
   },
   "outputs": [
    {
     "name": "stderr",
     "output_type": "stream",
     "text": [
      "\u001b[32m[I 2023-04-29 19:20:27,224]\u001b[0m A new study created in memory with name: no-name-c16507f0-75d6-4cd0-b752-d83b141dd5c3\u001b[0m\n"
     ]
    },
    {
     "name": "stdout",
     "output_type": "stream",
     "text": [
      "TIFUKNNTimeDays fitting...\n"
     ]
    },
    {
     "name": "stderr",
     "output_type": "stream",
     "text": [
      "100%|██████████| 10092/10092 [01:11<00:00, 141.87it/s]\n",
      "100%|██████████| 9307/9307 [34:45<00:00,  4.46it/s]\n",
      "\u001b[32m[I 2023-04-29 19:56:40,036]\u001b[0m Trial 0 finished with value: 0.07412356489993777 and parameters: {'group_size_days': 282, 'within_decay_rate': 0.1, 'group_decay_rate': 0.7000000000000001, 'nearest_neighbors_num': 375, 'alpha': 0.5, 'use_log': True}. Best is trial 0 with value: 0.07412356489993777.\u001b[0m\n"
     ]
    },
    {
     "name": "stdout",
     "output_type": "stream",
     "text": [
      "TIFUKNNTimeDays fitting...\n"
     ]
    },
    {
     "name": "stderr",
     "output_type": "stream",
     "text": [
      "100%|██████████| 10092/10092 [01:31<00:00, 110.17it/s]\n",
      "100%|██████████| 9307/9307 [37:57<00:00,  4.09it/s]\n",
      "\u001b[32m[I 2023-04-29 20:36:39,638]\u001b[0m Trial 1 finished with value: 0.07461211446161903 and parameters: {'group_size_days': 278, 'within_decay_rate': 0.2, 'group_decay_rate': 0.1, 'nearest_neighbors_num': 350, 'alpha': 1.0, 'use_log': False}. Best is trial 1 with value: 0.07461211446161903.\u001b[0m\n"
     ]
    },
    {
     "name": "stdout",
     "output_type": "stream",
     "text": [
      "TIFUKNNTimeDays fitting...\n"
     ]
    },
    {
     "name": "stderr",
     "output_type": "stream",
     "text": [
      "100%|██████████| 10092/10092 [01:21<00:00, 123.38it/s]\n",
      "100%|██████████| 9307/9307 [27:00<00:00,  5.74it/s]\n",
      "\u001b[32m[I 2023-04-29 21:05:22,368]\u001b[0m Trial 2 finished with value: 0.07467950451300674 and parameters: {'group_size_days': 297, 'within_decay_rate': 0.7000000000000001, 'group_decay_rate': 0.8, 'nearest_neighbors_num': 150, 'alpha': 1.0, 'use_log': True}. Best is trial 2 with value: 0.07467950451300674.\u001b[0m\n"
     ]
    },
    {
     "name": "stdout",
     "output_type": "stream",
     "text": [
      "TIFUKNNTimeDays fitting...\n"
     ]
    },
    {
     "name": "stderr",
     "output_type": "stream",
     "text": [
      "100%|██████████| 10092/10092 [01:25<00:00, 118.73it/s]\n",
      "100%|██████████| 9307/9307 [31:59<00:00,  4.85it/s]\n",
      "\u001b[32m[I 2023-04-29 21:39:07,242]\u001b[0m Trial 3 finished with value: 0.075011472143333 and parameters: {'group_size_days': 52, 'within_decay_rate': 0.4, 'group_decay_rate': 0.7000000000000001, 'nearest_neighbors_num': 225, 'alpha': 0.4, 'use_log': True}. Best is trial 3 with value: 0.075011472143333.\u001b[0m\n"
     ]
    },
    {
     "name": "stdout",
     "output_type": "stream",
     "text": [
      "TIFUKNNTimeDays fitting...\n"
     ]
    },
    {
     "name": "stderr",
     "output_type": "stream",
     "text": [
      "100%|██████████| 10092/10092 [01:15<00:00, 134.11it/s]\n",
      "100%|██████████| 9307/9307 [31:29<00:00,  4.93it/s]\n",
      "\u001b[32m[I 2023-04-29 22:12:10,883]\u001b[0m Trial 4 finished with value: 0.0749721199516413 and parameters: {'group_size_days': 238, 'within_decay_rate': 0.7000000000000001, 'group_decay_rate': 0.9, 'nearest_neighbors_num': 275, 'alpha': 0.9, 'use_log': True}. Best is trial 3 with value: 0.075011472143333.\u001b[0m\n"
     ]
    },
    {
     "name": "stdout",
     "output_type": "stream",
     "text": [
      "TIFUKNNTimeDays fitting...\n"
     ]
    },
    {
     "name": "stderr",
     "output_type": "stream",
     "text": [
      "100%|██████████| 10092/10092 [01:09<00:00, 144.98it/s]\n",
      "100%|██████████| 9307/9307 [23:42<00:00,  6.54it/s]\n",
      "\u001b[32m[I 2023-04-29 22:37:22,288]\u001b[0m Trial 5 finished with value: 0.06914656447053072 and parameters: {'group_size_days': 110, 'within_decay_rate': 0.2, 'group_decay_rate': 0.9, 'nearest_neighbors_num': 25, 'alpha': 0.6000000000000001, 'use_log': False}. Best is trial 3 with value: 0.075011472143333.\u001b[0m\n"
     ]
    },
    {
     "name": "stdout",
     "output_type": "stream",
     "text": [
      "TIFUKNNTimeDays fitting...\n"
     ]
    },
    {
     "name": "stderr",
     "output_type": "stream",
     "text": [
      "100%|██████████| 10092/10092 [01:09<00:00, 144.98it/s]\n",
      "100%|██████████| 9307/9307 [32:51<00:00,  4.72it/s]\n",
      "\u001b[32m[I 2023-04-29 23:11:42,634]\u001b[0m Trial 6 finished with value: 0.0741416679567004 and parameters: {'group_size_days': 73, 'within_decay_rate': 0.9, 'group_decay_rate': 0.4, 'nearest_neighbors_num': 400, 'alpha': 0.30000000000000004, 'use_log': True}. Best is trial 3 with value: 0.075011472143333.\u001b[0m\n"
     ]
    },
    {
     "name": "stdout",
     "output_type": "stream",
     "text": [
      "TIFUKNNTimeDays fitting...\n"
     ]
    },
    {
     "name": "stderr",
     "output_type": "stream",
     "text": [
      "100%|██████████| 10092/10092 [01:09<00:00, 144.90it/s]\n",
      "100%|██████████| 9307/9307 [31:46<00:00,  4.88it/s]\n",
      "\u001b[32m[I 2023-04-29 23:44:57,773]\u001b[0m Trial 7 finished with value: 0.0696559918157874 and parameters: {'group_size_days': 61, 'within_decay_rate': 0.4, 'group_decay_rate': 0.1, 'nearest_neighbors_num': 425, 'alpha': 0.1, 'use_log': False}. Best is trial 3 with value: 0.075011472143333.\u001b[0m\n"
     ]
    },
    {
     "name": "stdout",
     "output_type": "stream",
     "text": [
      "TIFUKNNTimeDays fitting...\n"
     ]
    },
    {
     "name": "stderr",
     "output_type": "stream",
     "text": [
      "100%|██████████| 10092/10092 [01:08<00:00, 147.52it/s]\n",
      "100%|██████████| 9307/9307 [20:59<00:00,  7.39it/s]\n",
      "\u001b[32m[I 2023-04-30 00:07:24,646]\u001b[0m Trial 8 finished with value: 0.0750488417336101 and parameters: {'group_size_days': 361, 'within_decay_rate': 0.5, 'group_decay_rate': 0.9, 'nearest_neighbors_num': 150, 'alpha': 0.6000000000000001, 'use_log': True}. Best is trial 8 with value: 0.0750488417336101.\u001b[0m\n"
     ]
    },
    {
     "name": "stdout",
     "output_type": "stream",
     "text": [
      "TIFUKNNTimeDays fitting...\n"
     ]
    },
    {
     "name": "stderr",
     "output_type": "stream",
     "text": [
      "100%|██████████| 10092/10092 [01:10<00:00, 142.54it/s]\n",
      "100%|██████████| 9307/9307 [23:19<00:00,  6.65it/s]\n",
      "\u001b[32m[I 2023-04-30 00:32:13,392]\u001b[0m Trial 9 finished with value: 0.063607298142758 and parameters: {'group_size_days': 216, 'within_decay_rate': 0.1, 'group_decay_rate': 0.4, 'nearest_neighbors_num': 50, 'alpha': 0.30000000000000004, 'use_log': False}. Best is trial 8 with value: 0.0750488417336101.\u001b[0m\n"
     ]
    },
    {
     "name": "stdout",
     "output_type": "stream",
     "text": [
      "TIFUKNNTimeDays fitting...\n"
     ]
    },
    {
     "name": "stderr",
     "output_type": "stream",
     "text": [
      "100%|██████████| 10092/10092 [01:11<00:00, 141.55it/s]\n",
      "100%|██████████| 9307/9307 [22:36<00:00,  6.86it/s]\n",
      "\u001b[32m[I 2023-04-30 00:56:20,794]\u001b[0m Trial 10 finished with value: 0.06843755632142837 and parameters: {'group_size_days': 346, 'within_decay_rate': 1.0, 'group_decay_rate': 1.0, 'nearest_neighbors_num': 175, 'alpha': 0.7000000000000001, 'use_log': True}. Best is trial 8 with value: 0.0750488417336101.\u001b[0m\n"
     ]
    },
    {
     "name": "stdout",
     "output_type": "stream",
     "text": [
      "TIFUKNNTimeDays fitting...\n"
     ]
    },
    {
     "name": "stderr",
     "output_type": "stream",
     "text": [
      "100%|██████████| 10092/10092 [01:09<00:00, 145.33it/s]\n",
      "100%|██████████| 9307/9307 [25:08<00:00,  6.17it/s]\n",
      "\u001b[32m[I 2023-04-30 01:22:57,734]\u001b[0m Trial 11 finished with value: 0.0747768699628456 and parameters: {'group_size_days': 9, 'within_decay_rate': 0.5, 'group_decay_rate': 0.6, 'nearest_neighbors_num': 200, 'alpha': 0.4, 'use_log': True}. Best is trial 8 with value: 0.0750488417336101.\u001b[0m\n"
     ]
    },
    {
     "name": "stdout",
     "output_type": "stream",
     "text": [
      "TIFUKNNTimeDays fitting...\n"
     ]
    },
    {
     "name": "stderr",
     "output_type": "stream",
     "text": [
      "100%|██████████| 10092/10092 [01:10<00:00, 142.71it/s]\n",
      "100%|██████████| 9307/9307 [27:18<00:00,  5.68it/s]\n",
      "\u001b[32m[I 2023-04-30 01:51:46,447]\u001b[0m Trial 12 finished with value: 0.07522178650053729 and parameters: {'group_size_days': 150, 'within_decay_rate': 0.4, 'group_decay_rate': 0.7000000000000001, 'nearest_neighbors_num': 275, 'alpha': 0.7000000000000001, 'use_log': True}. Best is trial 12 with value: 0.07522178650053729.\u001b[0m\n"
     ]
    },
    {
     "name": "stdout",
     "output_type": "stream",
     "text": [
      "TIFUKNNTimeDays fitting...\n"
     ]
    },
    {
     "name": "stderr",
     "output_type": "stream",
     "text": [
      "100%|██████████| 10092/10092 [01:10<00:00, 143.91it/s]\n",
      "100%|██████████| 9307/9307 [27:15<00:00,  5.69it/s]\n",
      "\u001b[32m[I 2023-04-30 02:20:31,376]\u001b[0m Trial 13 finished with value: 0.07542939761002994 and parameters: {'group_size_days': 151, 'within_decay_rate': 0.6, 'group_decay_rate': 0.5, 'nearest_neighbors_num': 300, 'alpha': 0.8, 'use_log': True}. Best is trial 13 with value: 0.07542939761002994.\u001b[0m\n"
     ]
    },
    {
     "name": "stdout",
     "output_type": "stream",
     "text": [
      "TIFUKNNTimeDays fitting...\n"
     ]
    },
    {
     "name": "stderr",
     "output_type": "stream",
     "text": [
      "100%|██████████| 10092/10092 [01:11<00:00, 141.79it/s]\n",
      "100%|██████████| 9307/9307 [27:17<00:00,  5.68it/s]\n",
      "\u001b[32m[I 2023-04-30 02:49:21,358]\u001b[0m Trial 14 finished with value: 0.07494594173969953 and parameters: {'group_size_days': 141, 'within_decay_rate': 0.7000000000000001, 'group_decay_rate': 0.4, 'nearest_neighbors_num': 300, 'alpha': 0.8, 'use_log': True}. Best is trial 13 with value: 0.07542939761002994.\u001b[0m\n"
     ]
    },
    {
     "name": "stdout",
     "output_type": "stream",
     "text": [
      "TIFUKNNTimeDays fitting...\n"
     ]
    },
    {
     "name": "stderr",
     "output_type": "stream",
     "text": [
      "100%|██████████| 10092/10092 [01:11<00:00, 141.47it/s]\n",
      "100%|██████████| 9307/9307 [32:22<00:00,  4.79it/s]\n",
      "\u001b[32m[I 2023-04-30 03:23:14,732]\u001b[0m Trial 15 finished with value: 0.07562455779004285 and parameters: {'group_size_days': 160, 'within_decay_rate': 0.30000000000000004, 'group_decay_rate': 0.5, 'nearest_neighbors_num': 500, 'alpha': 0.8, 'use_log': True}. Best is trial 15 with value: 0.07562455779004285.\u001b[0m\n"
     ]
    },
    {
     "name": "stdout",
     "output_type": "stream",
     "text": [
      "TIFUKNNTimeDays fitting...\n"
     ]
    },
    {
     "name": "stderr",
     "output_type": "stream",
     "text": [
      "100%|██████████| 10092/10092 [01:09<00:00, 144.41it/s]\n",
      "100%|██████████| 9307/9307 [32:31<00:00,  4.77it/s]\n",
      "\u001b[32m[I 2023-04-30 03:57:14,599]\u001b[0m Trial 16 finished with value: 0.07562455779004285 and parameters: {'group_size_days': 176, 'within_decay_rate': 0.30000000000000004, 'group_decay_rate': 0.30000000000000004, 'nearest_neighbors_num': 500, 'alpha': 0.8, 'use_log': True}. Best is trial 15 with value: 0.07562455779004285.\u001b[0m\n"
     ]
    },
    {
     "name": "stdout",
     "output_type": "stream",
     "text": [
      "TIFUKNNTimeDays fitting...\n"
     ]
    },
    {
     "name": "stderr",
     "output_type": "stream",
     "text": [
      "100%|██████████| 10092/10092 [01:08<00:00, 148.35it/s]\n",
      "100%|██████████| 9307/9307 [32:33<00:00,  4.77it/s]\n",
      "\u001b[32m[I 2023-04-30 04:31:14,827]\u001b[0m Trial 17 finished with value: 0.07570213983766064 and parameters: {'group_size_days': 198, 'within_decay_rate': 0.30000000000000004, 'group_decay_rate': 0.2, 'nearest_neighbors_num': 475, 'alpha': 0.9, 'use_log': True}. Best is trial 17 with value: 0.07570213983766064.\u001b[0m\n"
     ]
    },
    {
     "name": "stdout",
     "output_type": "stream",
     "text": [
      "TIFUKNNTimeDays fitting...\n"
     ]
    },
    {
     "name": "stderr",
     "output_type": "stream",
     "text": [
      "100%|██████████| 10092/10092 [01:09<00:00, 144.60it/s]\n",
      "100%|██████████| 9307/9307 [36:56<00:00,  4.20it/s]\n",
      "\u001b[32m[I 2023-04-30 05:09:40,330]\u001b[0m Trial 18 finished with value: 0.07444575656979122 and parameters: {'group_size_days': 213, 'within_decay_rate': 0.30000000000000004, 'group_decay_rate': 0.2, 'nearest_neighbors_num': 500, 'alpha': 0.9, 'use_log': False}. Best is trial 17 with value: 0.07570213983766064.\u001b[0m\n"
     ]
    },
    {
     "name": "stdout",
     "output_type": "stream",
     "text": [
      "TIFUKNNTimeDays fitting...\n"
     ]
    },
    {
     "name": "stderr",
     "output_type": "stream",
     "text": [
      "100%|██████████| 10092/10092 [01:18<00:00, 127.79it/s]\n",
      "100%|██████████| 9307/9307 [34:53<00:00,  4.44it/s]\n",
      "\u001b[32m[I 2023-04-30 05:46:15,949]\u001b[0m Trial 19 finished with value: 0.015318695366841066 and parameters: {'group_size_days': 115, 'within_decay_rate': 0.30000000000000004, 'group_decay_rate': 0.2, 'nearest_neighbors_num': 450, 'alpha': 0.0, 'use_log': True}. Best is trial 17 with value: 0.07570213983766064.\u001b[0m\n"
     ]
    },
    {
     "name": "stdout",
     "output_type": "stream",
     "text": [
      "TIFUKNNTimeDays fitting...\n"
     ]
    },
    {
     "name": "stderr",
     "output_type": "stream",
     "text": [
      "100%|██████████| 10092/10092 [01:18<00:00, 128.52it/s]\n",
      "100%|██████████| 9307/9307 [34:30<00:00,  4.49it/s]\n",
      "\u001b[32m[I 2023-04-30 06:22:27,641]\u001b[0m Trial 20 finished with value: 0.07510070831765085 and parameters: {'group_size_days': 241, 'within_decay_rate': 0.2, 'group_decay_rate': 0.5, 'nearest_neighbors_num': 450, 'alpha': 1.0, 'use_log': True}. Best is trial 17 with value: 0.07570213983766064.\u001b[0m\n"
     ]
    },
    {
     "name": "stdout",
     "output_type": "stream",
     "text": [
      "TIFUKNNTimeDays fitting...\n"
     ]
    },
    {
     "name": "stderr",
     "output_type": "stream",
     "text": [
      "100%|██████████| 10092/10092 [01:18<00:00, 128.43it/s]\n",
      "100%|██████████| 9307/9307 [36:49<00:00,  4.21it/s]\n",
      "\u001b[32m[I 2023-04-30 07:00:55,832]\u001b[0m Trial 21 finished with value: 0.07562455779004285 and parameters: {'group_size_days': 180, 'within_decay_rate': 0.30000000000000004, 'group_decay_rate': 0.30000000000000004, 'nearest_neighbors_num': 500, 'alpha': 0.8, 'use_log': True}. Best is trial 17 with value: 0.07570213983766064.\u001b[0m\n"
     ]
    },
    {
     "name": "stdout",
     "output_type": "stream",
     "text": [
      "TIFUKNNTimeDays fitting...\n"
     ]
    },
    {
     "name": "stderr",
     "output_type": "stream",
     "text": [
      "100%|██████████| 10092/10092 [01:22<00:00, 122.69it/s]\n",
      " 39%|███▉      | 3609/9307 [14:04<26:20,  3.60it/s]"
     ]
    }
   ],
   "source": [
    "sampler = optuna.samplers.TPESampler(seed=seed)\n",
    "study = optuna.create_study(direction=\"maximize\", sampler=sampler)\n",
    "study.optimize(objective, n_trials=25)"
   ]
  },
  {
   "cell_type": "markdown",
   "id": "9TXHw4BEdjDk",
   "metadata": {
    "id": "9TXHw4BEdjDk"
   },
   "source": [
    "Test:"
   ]
  },
  {
   "cell_type": "code",
   "execution_count": 8,
   "id": "a1c68d37",
   "metadata": {
    "colab": {
     "base_uri": "https://localhost:8080/"
    },
    "executionInfo": {
     "elapsed": 85611,
     "status": "ok",
     "timestamp": 1682840016322,
     "user": {
      "displayName": "Алексей Романов",
      "userId": "08477654072523777702"
     },
     "user_tz": -180
    },
    "id": "a1c68d37",
    "outputId": "726636e4-b19f-4159-cf8b-d63bcc004792"
   },
   "outputs": [
    {
     "name": "stdout",
     "output_type": "stream",
     "text": [
      "train dataset preparing...\n"
     ]
    },
    {
     "name": "stderr",
     "output_type": "stream",
     "text": [
      "100%|██████████| 10092/10092 [00:30<00:00, 326.20it/s]\n"
     ]
    },
    {
     "name": "stdout",
     "output_type": "stream",
     "text": [
      "dev dataset preparing...\n"
     ]
    },
    {
     "name": "stderr",
     "output_type": "stream",
     "text": [
      "100%|██████████| 9307/9307 [00:00<00:00, 39460.79it/s]\n"
     ]
    },
    {
     "name": "stdout",
     "output_type": "stream",
     "text": [
      "test dataset preparing...\n"
     ]
    },
    {
     "name": "stderr",
     "output_type": "stream",
     "text": [
      "100%|██████████| 9307/9307 [00:00<00:00, 32211.14it/s]\n"
     ]
    },
    {
     "name": "stdout",
     "output_type": "stream",
     "text": [
      "TIFUKNNTimeDays fitting...\n"
     ]
    },
    {
     "name": "stderr",
     "output_type": "stream",
     "text": [
      "100%|██████████| 10092/10092 [00:44<00:00, 225.52it/s]\n"
     ]
    }
   ],
   "source": [
    "trainer = NBRTrainer(\n",
    "    corpus=corpus,\n",
    "    max_epochs=None,\n",
    "    topk=10,\n",
    "    early_stop_num=None\n",
    ")\n",
    "params = {\n",
    "    \"model\": TIFUKNNTimeDays(\n",
    "        item_num=corpus.n_items,\n",
    "        user_num=corpus.n_users,\n",
    "        group_size_days=study.best_params[\"group_size_days\"],\n",
    "        within_decay_rate=study.best_params[\"within_decay_rate\"],\n",
    "        group_decay_rate=study.best_params[\"group_decay_rate\"],\n",
    "        nearest_neighbors_num=study.best_params[\"nearest_neighbors_num\"],\n",
    "        alpha=study.best_params[\"alpha\"],\n",
    "        use_log=study.best_params[\"use_log\"],\n",
    "        corpus=corpus\n",
    "    )\n",
    "}\n",
    "\n",
    "trainer.init_hyperparams(**params)"
   ]
  },
  {
   "cell_type": "code",
   "execution_count": 9,
   "id": "s5-hapIH5tNZ",
   "metadata": {
    "colab": {
     "base_uri": "https://localhost:8080/"
    },
    "executionInfo": {
     "elapsed": 1042484,
     "status": "ok",
     "timestamp": 1682841058798,
     "user": {
      "displayName": "Алексей Романов",
      "userId": "08477654072523777702"
     },
     "user_tz": -180
    },
    "id": "s5-hapIH5tNZ",
    "outputId": "0c108fde-5758-450f-ac79-edfb64d60289"
   },
   "outputs": [
    {
     "name": "stderr",
     "output_type": "stream",
     "text": [
      "100%|██████████| 9307/9307 [17:22<00:00,  8.93it/s]\n"
     ]
    },
    {
     "data": {
      "text/plain": [
       "{'precision': 0.007832814010959494,\n",
       " 'recall': 0.07634038895455032,\n",
       " 'ndcg': 0.05425719248855343}"
      ]
     },
     "execution_count": 9,
     "metadata": {},
     "output_type": "execute_result"
    }
   ],
   "source": [
    "trainer.evaluate(mode=\"test\")"
   ]
  },
  {
   "cell_type": "markdown",
   "id": "0YJoZnyT68ob",
   "metadata": {
    "id": "0YJoZnyT68ob"
   },
   "source": [
    "# Dunnhumby"
   ]
  },
  {
   "cell_type": "markdown",
   "id": "RrYeIswzdqgW",
   "metadata": {
    "id": "RrYeIswzdqgW"
   },
   "source": [
    "Fix seed:"
   ]
  },
  {
   "cell_type": "code",
   "execution_count": 3,
   "id": "7ggKK-gbdtaH",
   "metadata": {
    "executionInfo": {
     "elapsed": 22,
     "status": "ok",
     "timestamp": 1682773166214,
     "user": {
      "displayName": "Алексей Романов",
      "userId": "08477654072523777702"
     },
     "user_tz": -180
    },
    "id": "7ggKK-gbdtaH"
   },
   "outputs": [],
   "source": [
    "seed = 10\n",
    "torch.manual_seed(seed)\n",
    "random.seed(seed)\n",
    "np.random.seed(seed)"
   ]
  },
  {
   "cell_type": "markdown",
   "id": "t5QTCInHdt4V",
   "metadata": {
    "id": "t5QTCInHdt4V"
   },
   "source": [
    "Read interactions data (filter users with less than 5 transactions, high purchase frequency and one-day users and items with less than 10 transactions). Train dataset - all baskets except the last two, validation dataset - the last but one basket, test dataset - the last basket:"
   ]
  },
  {
   "cell_type": "code",
   "execution_count": 4,
   "id": "0_cJ9Mfa7KB-",
   "metadata": {
    "colab": {
     "base_uri": "https://localhost:8080/"
    },
    "executionInfo": {
     "elapsed": 28815,
     "status": "ok",
     "timestamp": 1682773195548,
     "user": {
      "displayName": "Алексей Романов",
      "userId": "08477654072523777702"
     },
     "user_tz": -180
    },
    "id": "0_cJ9Mfa7KB-",
    "outputId": "51bc5c00-83cb-4a1c-94b0-87a7e4463cff"
   },
   "outputs": [
    {
     "name": "stdout",
     "output_type": "stream",
     "text": [
      "Before preprocessing: #users = 2500, #items = 92339, #clicks = 2595370 (#illegal records = 0)\n",
      "After preprocessing: #users = 2358, #items = 26756, #clicks = 1976796\n",
      "Saving dataset in ./data//data_dunnhumby/...\n"
     ]
    }
   ],
   "source": [
    "corpus_path = \"./data/\"\n",
    "dataset_name = \"dunnhumby\"\n",
    "\n",
    "preprocessor = Preprocess(corpus_path, dataset_name)\n",
    "preprocessor.load_data(5, 10, filt=True)\n",
    "save_split(corpus_path, dataset_name, preprocessor)"
   ]
  },
  {
   "cell_type": "code",
   "execution_count": 5,
   "id": "9-F6B3lg7MLx",
   "metadata": {
    "executionInfo": {
     "elapsed": 49537,
     "status": "ok",
     "timestamp": 1682773245056,
     "user": {
      "displayName": "Алексей Романов",
      "userId": "08477654072523777702"
     },
     "user_tz": -180
    },
    "id": "9-F6B3lg7MLx"
   },
   "outputs": [],
   "source": [
    "corpus = Corpus(corpus_path, dataset_name)\n",
    "corpus.load_data()"
   ]
  },
  {
   "cell_type": "markdown",
   "id": "ot7-t9TOd-cH",
   "metadata": {
    "id": "ot7-t9TOd-cH"
   },
   "source": [
    "Tune hyperparams on validation dataset:"
   ]
  },
  {
   "cell_type": "code",
   "execution_count": 6,
   "id": "534sdlbe7MTU",
   "metadata": {
    "colab": {
     "base_uri": "https://localhost:8080/"
    },
    "executionInfo": {
     "elapsed": 42707,
     "status": "ok",
     "timestamp": 1682773287705,
     "user": {
      "displayName": "Алексей Романов",
      "userId": "08477654072523777702"
     },
     "user_tz": -180
    },
    "id": "534sdlbe7MTU",
    "outputId": "2b34fed9-1904-484d-9be3-e9374495649e"
   },
   "outputs": [
    {
     "name": "stdout",
     "output_type": "stream",
     "text": [
      "train dataset preparing...\n"
     ]
    },
    {
     "name": "stderr",
     "output_type": "stream",
     "text": [
      "100%|██████████| 2358/2358 [00:14<00:00, 167.99it/s]\n"
     ]
    },
    {
     "name": "stdout",
     "output_type": "stream",
     "text": [
      "dev dataset preparing...\n"
     ]
    },
    {
     "name": "stderr",
     "output_type": "stream",
     "text": [
      "100%|██████████| 2357/2357 [00:13<00:00, 169.00it/s]\n"
     ]
    },
    {
     "name": "stdout",
     "output_type": "stream",
     "text": [
      "test dataset preparing...\n"
     ]
    },
    {
     "name": "stderr",
     "output_type": "stream",
     "text": [
      "100%|██████████| 2357/2357 [00:13<00:00, 168.47it/s]\n"
     ]
    }
   ],
   "source": [
    "trainer = NBRTrainer(\n",
    "    corpus=corpus,\n",
    "    max_epochs=None,\n",
    "    topk=10,\n",
    "    early_stop_num=None\n",
    ")"
   ]
  },
  {
   "cell_type": "code",
   "execution_count": 7,
   "id": "veSP0dcw7MV9",
   "metadata": {
    "executionInfo": {
     "elapsed": 36,
     "status": "ok",
     "timestamp": 1682773287706,
     "user": {
      "displayName": "Алексей Романов",
      "userId": "08477654072523777702"
     },
     "user_tz": -180
    },
    "id": "veSP0dcw7MV9"
   },
   "outputs": [],
   "source": [
    "def objective(trial):\n",
    "    params = {\n",
    "        \"model\": TIFUKNNTimeDays(\n",
    "            item_num=corpus.n_items,\n",
    "            user_num=corpus.n_users,\n",
    "            group_size_days=trial.suggest_int(\"group_size_days\", 1, 365),\n",
    "            within_decay_rate=trial.suggest_float(\"within_decay_rate\", 0.1, 1.0, step=0.1),\n",
    "            group_decay_rate=trial.suggest_float(\"group_decay_rate\", 0.1, 1.0, step=0.1),\n",
    "            nearest_neighbors_num=trial.suggest_int(\"nearest_neighbors_num\", low=25, high=500, step=25),\n",
    "            alpha=trial.suggest_float(\"alpha\", 0.0, 1.0, step=0.1),\n",
    "            use_log = trial.suggest_categorical(\"use_log\", [True, False]),\n",
    "            corpus=corpus\n",
    "        )\n",
    "    }\n",
    "\n",
    "    trainer.init_hyperparams(**params)\n",
    "    metrics = trainer.evaluate(mode=\"dev\")\n",
    "    score = metrics[\"ndcg\"]\n",
    "    return score"
   ]
  },
  {
   "cell_type": "code",
   "execution_count": 8,
   "id": "F-b-6YcO7MYf",
   "metadata": {
    "colab": {
     "base_uri": "https://localhost:8080/"
    },
    "executionInfo": {
     "elapsed": 20042784,
     "status": "ok",
     "timestamp": 1682793330456,
     "user": {
      "displayName": "Алексей Романов",
      "userId": "08477654072523777702"
     },
     "user_tz": -180
    },
    "id": "F-b-6YcO7MYf",
    "outputId": "31409cfc-bfbb-4930-b766-101f353cd06e"
   },
   "outputs": [
    {
     "name": "stderr",
     "output_type": "stream",
     "text": [
      "\u001b[32m[I 2023-04-29 13:00:14,299]\u001b[0m A new study created in memory with name: no-name-979a2065-9e76-4da3-a9ea-e10f803b01c2\u001b[0m\n"
     ]
    },
    {
     "name": "stdout",
     "output_type": "stream",
     "text": [
      "TIFUKNNTimeDays fitting...\n"
     ]
    },
    {
     "name": "stderr",
     "output_type": "stream",
     "text": [
      "100%|██████████| 2358/2358 [07:46<00:00,  5.06it/s]\n",
      "100%|██████████| 2357/2357 [05:06<00:00,  7.68it/s]\n",
      "\u001b[32m[I 2023-04-29 13:13:15,930]\u001b[0m Trial 0 finished with value: 0.10244781767325224 and parameters: {'group_size_days': 282, 'within_decay_rate': 0.1, 'group_decay_rate': 0.7000000000000001, 'nearest_neighbors_num': 375, 'alpha': 0.5, 'use_log': True}. Best is trial 0 with value: 0.10244781767325224.\u001b[0m\n"
     ]
    },
    {
     "name": "stdout",
     "output_type": "stream",
     "text": [
      "TIFUKNNTimeDays fitting...\n"
     ]
    },
    {
     "name": "stderr",
     "output_type": "stream",
     "text": [
      "100%|██████████| 2358/2358 [07:45<00:00,  5.06it/s]\n",
      "100%|██████████| 2357/2357 [05:04<00:00,  7.73it/s]\n",
      "\u001b[32m[I 2023-04-29 13:26:14,502]\u001b[0m Trial 1 finished with value: 0.09752797557074781 and parameters: {'group_size_days': 278, 'within_decay_rate': 0.2, 'group_decay_rate': 0.1, 'nearest_neighbors_num': 350, 'alpha': 1.0, 'use_log': False}. Best is trial 0 with value: 0.10244781767325224.\u001b[0m\n"
     ]
    },
    {
     "name": "stdout",
     "output_type": "stream",
     "text": [
      "TIFUKNNTimeDays fitting...\n"
     ]
    },
    {
     "name": "stderr",
     "output_type": "stream",
     "text": [
      "100%|██████████| 2358/2358 [08:01<00:00,  4.89it/s]\n",
      "100%|██████████| 2357/2357 [03:07<00:00, 12.54it/s]\n",
      "\u001b[32m[I 2023-04-29 13:37:33,719]\u001b[0m Trial 2 finished with value: 0.12786320823521036 and parameters: {'group_size_days': 297, 'within_decay_rate': 0.7000000000000001, 'group_decay_rate': 0.8, 'nearest_neighbors_num': 150, 'alpha': 1.0, 'use_log': True}. Best is trial 2 with value: 0.12786320823521036.\u001b[0m\n"
     ]
    },
    {
     "name": "stdout",
     "output_type": "stream",
     "text": [
      "TIFUKNNTimeDays fitting...\n"
     ]
    },
    {
     "name": "stderr",
     "output_type": "stream",
     "text": [
      "100%|██████████| 2358/2358 [07:55<00:00,  4.96it/s]\n",
      "100%|██████████| 2357/2357 [03:44<00:00, 10.52it/s]\n",
      "\u001b[32m[I 2023-04-29 13:49:19,292]\u001b[0m Trial 3 finished with value: 0.1450757981540146 and parameters: {'group_size_days': 52, 'within_decay_rate': 0.4, 'group_decay_rate': 0.7000000000000001, 'nearest_neighbors_num': 225, 'alpha': 0.4, 'use_log': True}. Best is trial 3 with value: 0.1450757981540146.\u001b[0m\n"
     ]
    },
    {
     "name": "stdout",
     "output_type": "stream",
     "text": [
      "TIFUKNNTimeDays fitting...\n"
     ]
    },
    {
     "name": "stderr",
     "output_type": "stream",
     "text": [
      "100%|██████████| 2358/2358 [08:13<00:00,  4.78it/s]\n",
      "100%|██████████| 2357/2357 [04:27<00:00,  8.82it/s]\n",
      "\u001b[32m[I 2023-04-29 14:02:06,884]\u001b[0m Trial 4 finished with value: 0.14793432737615742 and parameters: {'group_size_days': 238, 'within_decay_rate': 0.7000000000000001, 'group_decay_rate': 0.9, 'nearest_neighbors_num': 275, 'alpha': 0.9, 'use_log': True}. Best is trial 4 with value: 0.14793432737615742.\u001b[0m\n"
     ]
    },
    {
     "name": "stdout",
     "output_type": "stream",
     "text": [
      "TIFUKNNTimeDays fitting...\n"
     ]
    },
    {
     "name": "stderr",
     "output_type": "stream",
     "text": [
      "100%|██████████| 2358/2358 [07:46<00:00,  5.05it/s]\n",
      "100%|██████████| 2357/2357 [02:35<00:00, 15.15it/s]\n",
      "\u001b[32m[I 2023-04-29 14:12:37,430]\u001b[0m Trial 5 finished with value: 0.09183445530510459 and parameters: {'group_size_days': 110, 'within_decay_rate': 0.2, 'group_decay_rate': 0.9, 'nearest_neighbors_num': 25, 'alpha': 0.6000000000000001, 'use_log': False}. Best is trial 4 with value: 0.14793432737615742.\u001b[0m\n"
     ]
    },
    {
     "name": "stdout",
     "output_type": "stream",
     "text": [
      "TIFUKNNTimeDays fitting...\n"
     ]
    },
    {
     "name": "stderr",
     "output_type": "stream",
     "text": [
      "100%|██████████| 2358/2358 [08:13<00:00,  4.78it/s]\n",
      "100%|██████████| 2357/2357 [05:42<00:00,  6.88it/s]\n",
      "\u001b[32m[I 2023-04-29 14:26:41,761]\u001b[0m Trial 6 finished with value: 0.16284213604050088 and parameters: {'group_size_days': 73, 'within_decay_rate': 0.9, 'group_decay_rate': 0.4, 'nearest_neighbors_num': 400, 'alpha': 0.30000000000000004, 'use_log': True}. Best is trial 6 with value: 0.16284213604050088.\u001b[0m\n"
     ]
    },
    {
     "name": "stdout",
     "output_type": "stream",
     "text": [
      "TIFUKNNTimeDays fitting...\n"
     ]
    },
    {
     "name": "stderr",
     "output_type": "stream",
     "text": [
      "100%|██████████| 2358/2358 [07:50<00:00,  5.02it/s]\n",
      "100%|██████████| 2357/2357 [05:55<00:00,  6.64it/s]\n",
      "\u001b[32m[I 2023-04-29 14:40:34,558]\u001b[0m Trial 7 finished with value: 0.09626758524106753 and parameters: {'group_size_days': 61, 'within_decay_rate': 0.4, 'group_decay_rate': 0.1, 'nearest_neighbors_num': 425, 'alpha': 0.1, 'use_log': False}. Best is trial 6 with value: 0.16284213604050088.\u001b[0m\n"
     ]
    },
    {
     "name": "stdout",
     "output_type": "stream",
     "text": [
      "TIFUKNNTimeDays fitting...\n"
     ]
    },
    {
     "name": "stderr",
     "output_type": "stream",
     "text": [
      "100%|██████████| 2358/2358 [08:07<00:00,  4.83it/s]\n",
      "100%|██████████| 2357/2357 [03:06<00:00, 12.64it/s]\n",
      "\u001b[32m[I 2023-04-29 14:51:56,029]\u001b[0m Trial 8 finished with value: 0.14648294405977244 and parameters: {'group_size_days': 361, 'within_decay_rate': 0.5, 'group_decay_rate': 0.9, 'nearest_neighbors_num': 150, 'alpha': 0.6000000000000001, 'use_log': True}. Best is trial 6 with value: 0.16284213604050088.\u001b[0m\n"
     ]
    },
    {
     "name": "stdout",
     "output_type": "stream",
     "text": [
      "TIFUKNNTimeDays fitting...\n"
     ]
    },
    {
     "name": "stderr",
     "output_type": "stream",
     "text": [
      "100%|██████████| 2358/2358 [07:49<00:00,  5.03it/s]\n",
      "100%|██████████| 2357/2357 [02:41<00:00, 14.61it/s]\n",
      "\u001b[32m[I 2023-04-29 15:02:34,748]\u001b[0m Trial 9 finished with value: 0.0851127889571306 and parameters: {'group_size_days': 216, 'within_decay_rate': 0.1, 'group_decay_rate': 0.4, 'nearest_neighbors_num': 50, 'alpha': 0.30000000000000004, 'use_log': False}. Best is trial 6 with value: 0.16284213604050088.\u001b[0m\n"
     ]
    },
    {
     "name": "stdout",
     "output_type": "stream",
     "text": [
      "TIFUKNNTimeDays fitting...\n"
     ]
    },
    {
     "name": "stderr",
     "output_type": "stream",
     "text": [
      "100%|██████████| 2358/2358 [08:16<00:00,  4.75it/s]\n",
      "100%|██████████| 2357/2357 [06:07<00:00,  6.41it/s]\n",
      "\u001b[32m[I 2023-04-29 15:17:13,526]\u001b[0m Trial 10 finished with value: 0.11285031365714701 and parameters: {'group_size_days': 139, 'within_decay_rate': 1.0, 'group_decay_rate': 0.4, 'nearest_neighbors_num': 450, 'alpha': 0.0, 'use_log': True}. Best is trial 6 with value: 0.16284213604050088.\u001b[0m\n"
     ]
    },
    {
     "name": "stdout",
     "output_type": "stream",
     "text": [
      "TIFUKNNTimeDays fitting...\n"
     ]
    },
    {
     "name": "stderr",
     "output_type": "stream",
     "text": [
      "100%|██████████| 2358/2358 [08:15<00:00,  4.76it/s]\n",
      "100%|██████████| 2357/2357 [04:48<00:00,  8.16it/s]\n",
      "\u001b[32m[I 2023-04-29 15:30:23,791]\u001b[0m Trial 11 finished with value: 0.12878159788913204 and parameters: {'group_size_days': 9, 'within_decay_rate': 0.8, 'group_decay_rate': 0.5, 'nearest_neighbors_num': 300, 'alpha': 0.8, 'use_log': True}. Best is trial 6 with value: 0.16284213604050088.\u001b[0m\n"
     ]
    },
    {
     "name": "stdout",
     "output_type": "stream",
     "text": [
      "TIFUKNNTimeDays fitting...\n"
     ]
    },
    {
     "name": "stderr",
     "output_type": "stream",
     "text": [
      "100%|██████████| 2358/2358 [08:17<00:00,  4.74it/s]\n",
      "100%|██████████| 2357/2357 [06:34<00:00,  5.97it/s]\n",
      "\u001b[32m[I 2023-04-29 15:45:22,003]\u001b[0m Trial 12 finished with value: 0.14978445501781887 and parameters: {'group_size_days': 197, 'within_decay_rate': 1.0, 'group_decay_rate': 0.30000000000000004, 'nearest_neighbors_num': 500, 'alpha': 0.2, 'use_log': True}. Best is trial 6 with value: 0.16284213604050088.\u001b[0m\n"
     ]
    },
    {
     "name": "stdout",
     "output_type": "stream",
     "text": [
      "TIFUKNNTimeDays fitting...\n"
     ]
    },
    {
     "name": "stderr",
     "output_type": "stream",
     "text": [
      "100%|██████████| 2358/2358 [08:01<00:00,  4.89it/s]\n",
      "100%|██████████| 2357/2357 [06:38<00:00,  5.91it/s]\n",
      "\u001b[32m[I 2023-04-29 16:00:08,604]\u001b[0m Trial 13 finished with value: 0.15098328833174163 and parameters: {'group_size_days': 156, 'within_decay_rate': 1.0, 'group_decay_rate': 0.30000000000000004, 'nearest_neighbors_num': 500, 'alpha': 0.2, 'use_log': True}. Best is trial 6 with value: 0.16284213604050088.\u001b[0m\n"
     ]
    },
    {
     "name": "stdout",
     "output_type": "stream",
     "text": [
      "TIFUKNNTimeDays fitting...\n"
     ]
    },
    {
     "name": "stderr",
     "output_type": "stream",
     "text": [
      "100%|██████████| 2358/2358 [08:25<00:00,  4.66it/s]\n",
      "100%|██████████| 2357/2357 [06:29<00:00,  6.05it/s]\n",
      "\u001b[32m[I 2023-04-29 16:15:11,123]\u001b[0m Trial 14 finished with value: 0.15477669048356776 and parameters: {'group_size_days': 141, 'within_decay_rate': 0.9, 'group_decay_rate': 0.30000000000000004, 'nearest_neighbors_num': 475, 'alpha': 0.2, 'use_log': True}. Best is trial 6 with value: 0.16284213604050088.\u001b[0m\n"
     ]
    },
    {
     "name": "stdout",
     "output_type": "stream",
     "text": [
      "TIFUKNNTimeDays fitting...\n"
     ]
    },
    {
     "name": "stderr",
     "output_type": "stream",
     "text": [
      "100%|██████████| 2358/2358 [08:06<00:00,  4.84it/s]\n",
      "100%|██████████| 2357/2357 [05:47<00:00,  6.78it/s]\n",
      "\u001b[32m[I 2023-04-29 16:29:11,706]\u001b[0m Trial 15 finished with value: 0.11627823716458316 and parameters: {'group_size_days': 95, 'within_decay_rate': 0.8, 'group_decay_rate': 0.2, 'nearest_neighbors_num': 400, 'alpha': 0.0, 'use_log': True}. Best is trial 6 with value: 0.16284213604050088.\u001b[0m\n"
     ]
    },
    {
     "name": "stdout",
     "output_type": "stream",
     "text": [
      "TIFUKNNTimeDays fitting...\n"
     ]
    },
    {
     "name": "stderr",
     "output_type": "stream",
     "text": [
      "100%|██████████| 2358/2358 [08:14<00:00,  4.77it/s]\n",
      "100%|██████████| 2357/2357 [05:17<00:00,  7.42it/s]\n",
      "\u001b[32m[I 2023-04-29 16:42:50,205]\u001b[0m Trial 16 finished with value: 0.1269226552447571 and parameters: {'group_size_days': 6, 'within_decay_rate': 0.8, 'group_decay_rate': 0.6, 'nearest_neighbors_num': 325, 'alpha': 0.30000000000000004, 'use_log': True}. Best is trial 6 with value: 0.16284213604050088.\u001b[0m\n"
     ]
    },
    {
     "name": "stdout",
     "output_type": "stream",
     "text": [
      "TIFUKNNTimeDays fitting...\n"
     ]
    },
    {
     "name": "stderr",
     "output_type": "stream",
     "text": [
      "100%|██████████| 2358/2358 [08:04<00:00,  4.87it/s]\n",
      "100%|██████████| 2357/2357 [06:08<00:00,  6.40it/s]\n",
      "\u001b[32m[I 2023-04-29 16:57:08,733]\u001b[0m Trial 17 finished with value: 0.16478425144345862 and parameters: {'group_size_days': 158, 'within_decay_rate': 0.9, 'group_decay_rate': 0.5, 'nearest_neighbors_num': 450, 'alpha': 0.4, 'use_log': True}. Best is trial 17 with value: 0.16478425144345862.\u001b[0m\n"
     ]
    },
    {
     "name": "stdout",
     "output_type": "stream",
     "text": [
      "TIFUKNNTimeDays fitting...\n"
     ]
    },
    {
     "name": "stderr",
     "output_type": "stream",
     "text": [
      "100%|██████████| 2358/2358 [08:14<00:00,  4.77it/s]\n",
      "100%|██████████| 2357/2357 [04:11<00:00,  9.36it/s]\n",
      "\u001b[32m[I 2023-04-29 17:09:42,264]\u001b[0m Trial 18 finished with value: 0.1089153268398021 and parameters: {'group_size_days': 73, 'within_decay_rate': 0.6, 'group_decay_rate': 0.5, 'nearest_neighbors_num': 225, 'alpha': 0.7000000000000001, 'use_log': False}. Best is trial 17 with value: 0.16478425144345862.\u001b[0m\n"
     ]
    },
    {
     "name": "stdout",
     "output_type": "stream",
     "text": [
      "TIFUKNNTimeDays fitting...\n"
     ]
    },
    {
     "name": "stderr",
     "output_type": "stream",
     "text": [
      "100%|██████████| 2358/2358 [08:05<00:00,  4.86it/s]\n",
      "100%|██████████| 2357/2357 [05:46<00:00,  6.80it/s]\n",
      "\u001b[32m[I 2023-04-29 17:23:45,356]\u001b[0m Trial 19 finished with value: 0.16205686377039183 and parameters: {'group_size_days': 173, 'within_decay_rate': 0.9, 'group_decay_rate': 0.6, 'nearest_neighbors_num': 400, 'alpha': 0.4, 'use_log': True}. Best is trial 17 with value: 0.16478425144345862.\u001b[0m\n"
     ]
    },
    {
     "name": "stdout",
     "output_type": "stream",
     "text": [
      "TIFUKNNTimeDays fitting...\n"
     ]
    },
    {
     "name": "stderr",
     "output_type": "stream",
     "text": [
      "100%|██████████| 2358/2358 [08:19<00:00,  4.72it/s]\n",
      "100%|██████████| 2357/2357 [06:10<00:00,  6.37it/s]\n",
      "\u001b[32m[I 2023-04-29 17:38:24,225]\u001b[0m Trial 20 finished with value: 0.15954296490209074 and parameters: {'group_size_days': 120, 'within_decay_rate': 0.6, 'group_decay_rate': 0.4, 'nearest_neighbors_num': 450, 'alpha': 0.5, 'use_log': True}. Best is trial 17 with value: 0.16478425144345862.\u001b[0m\n"
     ]
    },
    {
     "name": "stdout",
     "output_type": "stream",
     "text": [
      "TIFUKNNTimeDays fitting...\n"
     ]
    },
    {
     "name": "stderr",
     "output_type": "stream",
     "text": [
      "100%|██████████| 2358/2358 [08:03<00:00,  4.87it/s]\n",
      "100%|██████████| 2357/2357 [05:47<00:00,  6.78it/s]\n",
      "\u001b[32m[I 2023-04-29 17:52:23,711]\u001b[0m Trial 21 finished with value: 0.16205686377039183 and parameters: {'group_size_days': 173, 'within_decay_rate': 0.9, 'group_decay_rate': 0.6, 'nearest_neighbors_num': 400, 'alpha': 0.4, 'use_log': True}. Best is trial 17 with value: 0.16478425144345862.\u001b[0m\n"
     ]
    },
    {
     "name": "stdout",
     "output_type": "stream",
     "text": [
      "TIFUKNNTimeDays fitting...\n"
     ]
    },
    {
     "name": "stderr",
     "output_type": "stream",
     "text": [
      "100%|██████████| 2358/2358 [08:08<00:00,  4.83it/s]\n",
      "100%|██████████| 2357/2357 [05:29<00:00,  7.16it/s]\n",
      "\u001b[32m[I 2023-04-29 18:06:09,611]\u001b[0m Trial 22 finished with value: 0.15809701774436274 and parameters: {'group_size_days': 234, 'within_decay_rate': 0.9, 'group_decay_rate': 0.7000000000000001, 'nearest_neighbors_num': 350, 'alpha': 0.4, 'use_log': True}. Best is trial 17 with value: 0.16478425144345862.\u001b[0m\n"
     ]
    },
    {
     "name": "stdout",
     "output_type": "stream",
     "text": [
      "TIFUKNNTimeDays fitting...\n"
     ]
    },
    {
     "name": "stderr",
     "output_type": "stream",
     "text": [
      "100%|██████████| 2358/2358 [08:08<00:00,  4.83it/s]\n",
      "100%|██████████| 2357/2357 [05:56<00:00,  6.61it/s]\n",
      "\u001b[32m[I 2023-04-29 18:20:22,641]\u001b[0m Trial 23 finished with value: 0.15990072490388244 and parameters: {'group_size_days': 186, 'within_decay_rate': 0.7000000000000001, 'group_decay_rate': 0.5, 'nearest_neighbors_num': 425, 'alpha': 0.30000000000000004, 'use_log': True}. Best is trial 17 with value: 0.16478425144345862.\u001b[0m\n"
     ]
    },
    {
     "name": "stdout",
     "output_type": "stream",
     "text": [
      "TIFUKNNTimeDays fitting...\n"
     ]
    },
    {
     "name": "stderr",
     "output_type": "stream",
     "text": [
      "100%|██████████| 2358/2358 [08:12<00:00,  4.79it/s]\n",
      "100%|██████████| 2357/2357 [05:35<00:00,  7.02it/s]\n",
      "\u001b[32m[I 2023-04-29 18:34:17,588]\u001b[0m Trial 24 finished with value: 0.16399709518491712 and parameters: {'group_size_days': 36, 'within_decay_rate': 0.9, 'group_decay_rate': 0.6, 'nearest_neighbors_num': 375, 'alpha': 0.6000000000000001, 'use_log': True}. Best is trial 17 with value: 0.16478425144345862.\u001b[0m\n"
     ]
    }
   ],
   "source": [
    "sampler = optuna.samplers.TPESampler(seed=seed)\n",
    "study = optuna.create_study(direction=\"maximize\", sampler=sampler)\n",
    "study.optimize(objective, n_trials=25)"
   ]
  },
  {
   "cell_type": "markdown",
   "id": "qssPR7BeeMJQ",
   "metadata": {
    "id": "qssPR7BeeMJQ"
   },
   "source": [
    "Test:"
   ]
  },
  {
   "cell_type": "code",
   "execution_count": 9,
   "id": "6K2mP3c67Min",
   "metadata": {
    "colab": {
     "base_uri": "https://localhost:8080/"
    },
    "executionInfo": {
     "elapsed": 524394,
     "status": "ok",
     "timestamp": 1682793856808,
     "user": {
      "displayName": "Алексей Романов",
      "userId": "08477654072523777702"
     },
     "user_tz": -180
    },
    "id": "6K2mP3c67Min",
    "outputId": "4ae7d4f1-4ef4-4a21-b287-591b19186858"
   },
   "outputs": [
    {
     "name": "stdout",
     "output_type": "stream",
     "text": [
      "train dataset preparing...\n"
     ]
    },
    {
     "name": "stderr",
     "output_type": "stream",
     "text": [
      "100%|██████████| 2358/2358 [00:14<00:00, 159.27it/s]\n"
     ]
    },
    {
     "name": "stdout",
     "output_type": "stream",
     "text": [
      "dev dataset preparing...\n"
     ]
    },
    {
     "name": "stderr",
     "output_type": "stream",
     "text": [
      "100%|██████████| 2357/2357 [00:13<00:00, 174.77it/s]\n"
     ]
    },
    {
     "name": "stdout",
     "output_type": "stream",
     "text": [
      "test dataset preparing...\n"
     ]
    },
    {
     "name": "stderr",
     "output_type": "stream",
     "text": [
      "100%|██████████| 2357/2357 [00:15<00:00, 149.19it/s]\n"
     ]
    },
    {
     "name": "stdout",
     "output_type": "stream",
     "text": [
      "TIFUKNNTimeDays fitting...\n"
     ]
    },
    {
     "name": "stderr",
     "output_type": "stream",
     "text": [
      "100%|██████████| 2358/2358 [07:50<00:00,  5.01it/s]\n"
     ]
    }
   ],
   "source": [
    "trainer = NBRTrainer(\n",
    "    corpus=corpus,\n",
    "    max_epochs=None,\n",
    "    topk=10,\n",
    "    early_stop_num=None\n",
    ")\n",
    "params = {\n",
    "    \"model\": TIFUKNNTimeDays(\n",
    "        item_num=corpus.n_items,\n",
    "        user_num=corpus.n_users,\n",
    "        group_size_days=study.best_params[\"group_size_days\"],\n",
    "        within_decay_rate=study.best_params[\"within_decay_rate\"],\n",
    "        group_decay_rate=study.best_params[\"group_decay_rate\"],\n",
    "        nearest_neighbors_num=study.best_params[\"nearest_neighbors_num\"],\n",
    "        alpha=study.best_params[\"alpha\"],\n",
    "        use_log=study.best_params[\"use_log\"],\n",
    "        corpus=corpus\n",
    "    )\n",
    "}\n",
    "\n",
    "trainer.init_hyperparams(**params)"
   ]
  },
  {
   "cell_type": "code",
   "execution_count": 10,
   "id": "ahS0yDkJg-y9",
   "metadata": {
    "colab": {
     "base_uri": "https://localhost:8080/"
    },
    "executionInfo": {
     "elapsed": 349490,
     "status": "ok",
     "timestamp": 1682794206241,
     "user": {
      "displayName": "Алексей Романов",
      "userId": "08477654072523777702"
     },
     "user_tz": -180
    },
    "id": "ahS0yDkJg-y9",
    "outputId": "dd5c26a5-6cff-4609-9611-8552744abde0"
   },
   "outputs": [
    {
     "name": "stderr",
     "output_type": "stream",
     "text": [
      "100%|██████████| 2357/2357 [05:50<00:00,  6.73it/s]\n"
     ]
    },
    {
     "data": {
      "text/plain": [
       "{'precision': 0.1161646160373356,\n",
       " 'recall': 0.17054997430939312,\n",
       " 'ndcg': 0.1592542980590923}"
      ]
     },
     "execution_count": 10,
     "metadata": {},
     "output_type": "execute_result"
    }
   ],
   "source": [
    "trainer.evaluate(mode=\"test\")"
   ]
  },
  {
   "cell_type": "code",
   "execution_count": null,
   "id": "7XB1Y0Q47Mol",
   "metadata": {
    "id": "7XB1Y0Q47Mol"
   },
   "outputs": [],
   "source": []
  },
  {
   "cell_type": "code",
   "execution_count": null,
   "id": "xZGBQoEu7Mrp",
   "metadata": {
    "id": "xZGBQoEu7Mrp"
   },
   "outputs": [],
   "source": []
  }
 ],
 "metadata": {
  "colab": {
   "provenance": []
  },
  "kernelspec": {
   "display_name": "Python 3 (ipykernel)",
   "language": "python",
   "name": "python3"
  },
  "language_info": {
   "codemirror_mode": {
    "name": "ipython",
    "version": 3
   },
   "file_extension": ".py",
   "mimetype": "text/x-python",
   "name": "python",
   "nbconvert_exporter": "python",
   "pygments_lexer": "ipython3",
   "version": "3.11.0"
  }
 },
 "nbformat": 4,
 "nbformat_minor": 5
}
