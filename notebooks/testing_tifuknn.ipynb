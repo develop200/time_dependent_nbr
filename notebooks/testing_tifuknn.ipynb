{
 "cells": [
  {
   "cell_type": "code",
   "execution_count": null,
   "id": "a2c3a25c",
   "metadata": {
    "id": "a2c3a25c"
   },
   "outputs": [],
   "source": [
    "import os\n",
    "import sys\n",
    "sys.path.append(\"..\")\n",
    "from nbr.preparation import Preprocess, save_split, Corpus\n",
    "from nbr.trainer import NBRTrainer\n",
    "from nbr.model import TIFUKNN\n",
    "import torch\n",
    "import random\n",
    "import numpy as np\n",
    "import optuna\n",
    "import warnings\n",
    "warnings.filterwarnings(\"ignore\")"
   ]
  },
  {
   "cell_type": "markdown",
   "id": "d28d8fc2",
   "metadata": {
    "id": "d28d8fc2"
   },
   "source": [
    "# TaFeng"
   ]
  },
  {
   "cell_type": "markdown",
   "id": "gvem-AIjVlpl",
   "metadata": {
    "id": "gvem-AIjVlpl"
   },
   "source": [
    "Fix seed:"
   ]
  },
  {
   "cell_type": "code",
   "execution_count": null,
   "id": "F18plI6IVniT",
   "metadata": {
    "id": "F18plI6IVniT"
   },
   "outputs": [],
   "source": [
    "seed = 10\n",
    "torch.manual_seed(seed)\n",
    "random.seed(seed)\n",
    "np.random.seed(seed)"
   ]
  },
  {
   "cell_type": "markdown",
   "id": "lsokC0LWVqG6",
   "metadata": {
    "id": "lsokC0LWVqG6"
   },
   "source": [
    "Read interactions data (filter users with less than 5 transactions, high purchase frequency and one-day users and items with less than 10 transactions). Train dataset - all baskets except the last two, validation dataset - the last but one basket, test dataset - the last basket:"
   ]
  },
  {
   "cell_type": "code",
   "execution_count": null,
   "id": "bff616a1",
   "metadata": {
    "colab": {
     "base_uri": "https://localhost:8080/"
    },
    "id": "bff616a1",
    "outputId": "3649a347-69eb-47be-a314-2b46fbdb8067"
   },
   "outputs": [
    {
     "name": "stdout",
     "output_type": "stream",
     "text": [
      "Before preprocessing: #users = 32266, #items = 23812, #clicks = 817741 (#illegal records = 0)\n",
      "After preprocessing: #users = 7358, #items = 11202, #clicks = 368951\n",
      "Saving dataset in ./data//data_ta_feng/...\n"
     ]
    }
   ],
   "source": [
    "corpus_path = \"./data/\"\n",
    "dataset_name = \"ta_feng\"\n",
    "\n",
    "preprocessor = Preprocess(corpus_path, dataset_name)\n",
    "preprocessor.load_data(5, 10, filt=True)\n",
    "save_split(corpus_path, dataset_name, preprocessor)"
   ]
  },
  {
   "cell_type": "code",
   "execution_count": null,
   "id": "a852d43f",
   "metadata": {
    "id": "a852d43f"
   },
   "outputs": [],
   "source": [
    "corpus = Corpus(corpus_path, dataset_name)\n",
    "corpus.load_data()"
   ]
  },
  {
   "cell_type": "markdown",
   "id": "e8GL9d6sV1Eq",
   "metadata": {
    "id": "e8GL9d6sV1Eq"
   },
   "source": [
    "Tune hyperparams on validation dataset:"
   ]
  },
  {
   "cell_type": "code",
   "execution_count": null,
   "id": "a8bb75da",
   "metadata": {
    "colab": {
     "base_uri": "https://localhost:8080/"
    },
    "id": "a8bb75da",
    "outputId": "162bb3c3-a932-4d69-f5d0-dfca7c5e2c7d"
   },
   "outputs": [
    {
     "name": "stdout",
     "output_type": "stream",
     "text": [
      "train dataset preparing...\n"
     ]
    },
    {
     "name": "stderr",
     "output_type": "stream",
     "text": [
      "100%|██████████| 7358/7358 [00:12<00:00, 604.73it/s]\n"
     ]
    },
    {
     "name": "stdout",
     "output_type": "stream",
     "text": [
      "dev dataset preparing...\n"
     ]
    },
    {
     "name": "stderr",
     "output_type": "stream",
     "text": [
      "100%|██████████| 7357/7357 [00:01<00:00, 5557.89it/s]\n"
     ]
    },
    {
     "name": "stdout",
     "output_type": "stream",
     "text": [
      "test dataset preparing...\n"
     ]
    },
    {
     "name": "stderr",
     "output_type": "stream",
     "text": [
      "100%|██████████| 7357/7357 [00:02<00:00, 3054.27it/s]\n"
     ]
    }
   ],
   "source": [
    "trainer = NBRTrainer(\n",
    "    corpus=corpus,\n",
    "    max_epochs=None,\n",
    "    topk=10,\n",
    "    early_stop_num=None\n",
    ")"
   ]
  },
  {
   "cell_type": "code",
   "execution_count": null,
   "id": "2904458d",
   "metadata": {
    "id": "2904458d"
   },
   "outputs": [],
   "source": [
    "def objective(trial):\n",
    "    params = {\n",
    "        \"model\": TIFUKNN(\n",
    "            item_num=corpus.n_items,\n",
    "            user_num=corpus.n_users,\n",
    "            group_num=trial.suggest_int(\"group_num\", low=2, high=10, step=1),\n",
    "            within_decay_rate=trial.suggest_float(\"within_decay_rate\", 0.1, 1.0, step=0.1),\n",
    "            group_decay_rate=trial.suggest_float(\"group_decay_rate\", 0.1, 1.0, step=0.1),\n",
    "            nearest_neighbors_num=trial.suggest_int(\"nearest_neighbors_num\", low=25, high=500, step=25),\n",
    "            alpha=trial.suggest_float(\"alpha\", 0.0, 1.0, step=0.1),\n",
    "            corpus=corpus\n",
    "        )\n",
    "    }\n",
    "\n",
    "    trainer.init_hyperparams(**params)\n",
    "    metrics = trainer.evaluate(mode=\"dev\")\n",
    "    score = metrics[\"ndcg\"]\n",
    "    return score"
   ]
  },
  {
   "cell_type": "code",
   "execution_count": null,
   "id": "9ee708f1",
   "metadata": {
    "colab": {
     "base_uri": "https://localhost:8080/"
    },
    "id": "9ee708f1",
    "outputId": "7247447f-11c7-4c17-a738-81392650353c",
    "scrolled": true
   },
   "outputs": [
    {
     "name": "stderr",
     "output_type": "stream",
     "text": [
      "\u001b[32m[I 2023-04-23 21:05:19,176]\u001b[0m A new study created in memory with name: no-name-a58cd8bc-cd3c-4819-8da4-03b99e67430e\u001b[0m\n"
     ]
    },
    {
     "name": "stdout",
     "output_type": "stream",
     "text": [
      "TIFUKNN fitting...\n"
     ]
    },
    {
     "name": "stderr",
     "output_type": "stream",
     "text": [
      "100%|██████████| 7358/7358 [00:12<00:00, 603.22it/s]\n",
      "100%|██████████| 7357/7357 [08:34<00:00, 14.30it/s]\n",
      "\u001b[32m[I 2023-04-23 21:14:09,924]\u001b[0m Trial 0 finished with value: 0.08107959365618923 and parameters: {'group_num': 8, 'within_decay_rate': 0.1, 'group_decay_rate': 0.7000000000000001, 'nearest_neighbors_num': 375, 'alpha': 0.5}. Best is trial 0 with value: 0.08107959365618923.\u001b[0m\n"
     ]
    },
    {
     "name": "stdout",
     "output_type": "stream",
     "text": [
      "TIFUKNN fitting...\n"
     ]
    },
    {
     "name": "stderr",
     "output_type": "stream",
     "text": [
      "100%|██████████| 7358/7358 [00:10<00:00, 695.30it/s] \n",
      "100%|██████████| 7357/7357 [05:28<00:00, 22.40it/s]\n",
      "\u001b[32m[I 2023-04-23 21:19:53,719]\u001b[0m Trial 1 finished with value: 0.06082132891301551 and parameters: {'group_num': 4, 'within_decay_rate': 0.2, 'group_decay_rate': 0.8, 'nearest_neighbors_num': 100, 'alpha': 0.0}. Best is trial 0 with value: 0.08107959365618923.\u001b[0m\n"
     ]
    },
    {
     "name": "stdout",
     "output_type": "stream",
     "text": [
      "TIFUKNN fitting...\n"
     ]
    },
    {
     "name": "stderr",
     "output_type": "stream",
     "text": [
      "100%|██████████| 7358/7358 [00:10<00:00, 677.96it/s] \n",
      "100%|██████████| 7357/7357 [06:13<00:00, 19.67it/s]\n",
      "\u001b[32m[I 2023-04-23 21:26:22,753]\u001b[0m Trial 2 finished with value: 0.08430556349343167 and parameters: {'group_num': 8, 'within_decay_rate': 1.0, 'group_decay_rate': 0.1, 'nearest_neighbors_num': 275, 'alpha': 0.8}. Best is trial 2 with value: 0.08430556349343167.\u001b[0m\n"
     ]
    },
    {
     "name": "stdout",
     "output_type": "stream",
     "text": [
      "TIFUKNN fitting...\n"
     ]
    },
    {
     "name": "stderr",
     "output_type": "stream",
     "text": [
      "100%|██████████| 7358/7358 [00:10<00:00, 674.91it/s] \n",
      "100%|██████████| 7357/7357 [09:35<00:00, 12.78it/s]\n",
      "\u001b[32m[I 2023-04-23 21:36:13,864]\u001b[0m Trial 3 finished with value: 0.08654990976757163 and parameters: {'group_num': 7, 'within_decay_rate': 0.8, 'group_decay_rate': 0.30000000000000004, 'nearest_neighbors_num': 475, 'alpha': 0.7000000000000001}. Best is trial 3 with value: 0.08654990976757163.\u001b[0m\n"
     ]
    },
    {
     "name": "stdout",
     "output_type": "stream",
     "text": [
      "TIFUKNN fitting...\n"
     ]
    },
    {
     "name": "stderr",
     "output_type": "stream",
     "text": [
      "100%|██████████| 7358/7358 [00:10<00:00, 677.84it/s] \n",
      "100%|██████████| 7357/7357 [06:36<00:00, 18.56it/s]\n",
      "\u001b[32m[I 2023-04-23 21:43:06,630]\u001b[0m Trial 4 finished with value: 0.07926344407371379 and parameters: {'group_num': 6, 'within_decay_rate': 0.2, 'group_decay_rate': 0.4, 'nearest_neighbors_num': 350, 'alpha': 0.4}. Best is trial 3 with value: 0.08654990976757163.\u001b[0m\n"
     ]
    },
    {
     "name": "stdout",
     "output_type": "stream",
     "text": [
      "TIFUKNN fitting...\n"
     ]
    },
    {
     "name": "stderr",
     "output_type": "stream",
     "text": [
      "100%|██████████| 7358/7358 [00:10<00:00, 690.37it/s] \n",
      "100%|██████████| 7357/7357 [06:36<00:00, 18.57it/s]\n",
      "\u001b[32m[I 2023-04-23 21:49:58,191]\u001b[0m Trial 5 finished with value: 0.08945295740812033 and parameters: {'group_num': 5, 'within_decay_rate': 0.7000000000000001, 'group_decay_rate': 0.6, 'nearest_neighbors_num': 350, 'alpha': 0.6000000000000001}. Best is trial 5 with value: 0.08945295740812033.\u001b[0m\n"
     ]
    },
    {
     "name": "stdout",
     "output_type": "stream",
     "text": [
      "TIFUKNN fitting...\n"
     ]
    },
    {
     "name": "stderr",
     "output_type": "stream",
     "text": [
      "100%|██████████| 7358/7358 [00:11<00:00, 660.69it/s]\n",
      "100%|██████████| 7357/7357 [05:46<00:00, 21.21it/s]\n",
      "\u001b[32m[I 2023-04-23 21:56:00,851]\u001b[0m Trial 6 finished with value: 0.08372734063630134 and parameters: {'group_num': 9, 'within_decay_rate': 0.6, 'group_decay_rate': 1.0, 'nearest_neighbors_num': 175, 'alpha': 0.0}. Best is trial 5 with value: 0.08945295740812033.\u001b[0m\n"
     ]
    },
    {
     "name": "stdout",
     "output_type": "stream",
     "text": [
      "TIFUKNN fitting...\n"
     ]
    },
    {
     "name": "stderr",
     "output_type": "stream",
     "text": [
      "100%|██████████| 7358/7358 [00:10<00:00, 730.49it/s] \n",
      "100%|██████████| 7357/7357 [05:07<00:00, 23.94it/s]\n",
      "\u001b[32m[I 2023-04-23 22:01:22,474]\u001b[0m Trial 7 finished with value: 0.06873019890689729 and parameters: {'group_num': 4, 'within_decay_rate': 0.2, 'group_decay_rate': 0.9, 'nearest_neighbors_num': 25, 'alpha': 0.6000000000000001}. Best is trial 5 with value: 0.08945295740812033.\u001b[0m\n"
     ]
    },
    {
     "name": "stdout",
     "output_type": "stream",
     "text": [
      "TIFUKNN fitting...\n"
     ]
    },
    {
     "name": "stderr",
     "output_type": "stream",
     "text": [
      "100%|██████████| 7358/7358 [00:09<00:00, 744.54it/s] \n",
      "100%|██████████| 7357/7357 [09:17<00:00, 13.20it/s]\n",
      "\u001b[32m[I 2023-04-23 22:10:55,535]\u001b[0m Trial 8 finished with value: 0.08384626944597413 and parameters: {'group_num': 6, 'within_decay_rate': 0.9, 'group_decay_rate': 0.2, 'nearest_neighbors_num': 450, 'alpha': 0.30000000000000004}. Best is trial 5 with value: 0.08945295740812033.\u001b[0m\n"
     ]
    },
    {
     "name": "stdout",
     "output_type": "stream",
     "text": [
      "TIFUKNN fitting...\n"
     ]
    },
    {
     "name": "stderr",
     "output_type": "stream",
     "text": [
      "100%|██████████| 7358/7358 [00:11<00:00, 661.17it/s] \n",
      "100%|██████████| 7357/7357 [06:07<00:00, 20.04it/s]\n",
      "\u001b[32m[I 2023-04-23 22:17:18,082]\u001b[0m Trial 9 finished with value: 0.07921680102315841 and parameters: {'group_num': 8, 'within_decay_rate': 0.30000000000000004, 'group_decay_rate': 0.9, 'nearest_neighbors_num': 175, 'alpha': 0.1}. Best is trial 5 with value: 0.08945295740812033.\u001b[0m\n"
     ]
    },
    {
     "name": "stdout",
     "output_type": "stream",
     "text": [
      "TIFUKNN fitting...\n"
     ]
    },
    {
     "name": "stderr",
     "output_type": "stream",
     "text": [
      "100%|██████████| 7358/7358 [00:10<00:00, 717.65it/s] \n",
      "100%|██████████| 7357/7357 [07:07<00:00, 17.20it/s]\n",
      "\u001b[32m[I 2023-04-23 22:24:42,630]\u001b[0m Trial 10 finished with value: 0.08790284253796835 and parameters: {'group_num': 2, 'within_decay_rate': 0.6, 'group_decay_rate': 0.6, 'nearest_neighbors_num': 300, 'alpha': 0.9}. Best is trial 5 with value: 0.08945295740812033.\u001b[0m\n"
     ]
    },
    {
     "name": "stdout",
     "output_type": "stream",
     "text": [
      "TIFUKNN fitting...\n"
     ]
    },
    {
     "name": "stderr",
     "output_type": "stream",
     "text": [
      "100%|██████████| 7358/7358 [00:09<00:00, 782.63it/s] \n",
      "100%|██████████| 7357/7357 [06:39<00:00, 18.43it/s]\n",
      "\u001b[32m[I 2023-04-23 22:31:37,959]\u001b[0m Trial 11 finished with value: 0.08264049804711332 and parameters: {'group_num': 2, 'within_decay_rate': 0.6, 'group_decay_rate': 0.6, 'nearest_neighbors_num': 300, 'alpha': 1.0}. Best is trial 5 with value: 0.08945295740812033.\u001b[0m\n"
     ]
    },
    {
     "name": "stdout",
     "output_type": "stream",
     "text": [
      "TIFUKNN fitting...\n"
     ]
    },
    {
     "name": "stderr",
     "output_type": "stream",
     "text": [
      "100%|██████████| 7358/7358 [00:10<00:00, 689.14it/s] \n",
      "100%|██████████| 7357/7357 [06:23<00:00, 19.20it/s]\n",
      "\u001b[32m[I 2023-04-23 22:38:16,564]\u001b[0m Trial 12 finished with value: 0.08105070533496007 and parameters: {'group_num': 2, 'within_decay_rate': 0.5, 'group_decay_rate': 0.5, 'nearest_neighbors_num': 225, 'alpha': 1.0}. Best is trial 5 with value: 0.08945295740812033.\u001b[0m\n"
     ]
    },
    {
     "name": "stdout",
     "output_type": "stream",
     "text": [
      "TIFUKNN fitting...\n"
     ]
    },
    {
     "name": "stderr",
     "output_type": "stream",
     "text": [
      "100%|██████████| 7358/7358 [00:10<00:00, 672.98it/s] \n",
      "100%|██████████| 7357/7357 [09:23<00:00, 13.06it/s]\n",
      "\u001b[32m[I 2023-04-23 22:47:56,044]\u001b[0m Trial 13 finished with value: 0.08520707449631412 and parameters: {'group_num': 4, 'within_decay_rate': 0.7000000000000001, 'group_decay_rate': 0.6, 'nearest_neighbors_num': 375, 'alpha': 0.8}. Best is trial 5 with value: 0.08945295740812033.\u001b[0m\n"
     ]
    },
    {
     "name": "stdout",
     "output_type": "stream",
     "text": [
      "TIFUKNN fitting...\n"
     ]
    },
    {
     "name": "stderr",
     "output_type": "stream",
     "text": [
      "100%|██████████| 7358/7358 [00:11<00:00, 646.17it/s] \n",
      "100%|██████████| 7357/7357 [10:19<00:00, 11.88it/s]\n",
      "\u001b[32m[I 2023-04-23 22:58:31,716]\u001b[0m Trial 14 finished with value: 0.0866371324162653 and parameters: {'group_num': 3, 'within_decay_rate': 0.4, 'group_decay_rate': 0.5, 'nearest_neighbors_num': 425, 'alpha': 0.8}. Best is trial 5 with value: 0.08945295740812033.\u001b[0m\n"
     ]
    },
    {
     "name": "stdout",
     "output_type": "stream",
     "text": [
      "TIFUKNN fitting...\n"
     ]
    },
    {
     "name": "stderr",
     "output_type": "stream",
     "text": [
      "100%|██████████| 7358/7358 [00:11<00:00, 613.22it/s]\n",
      "100%|██████████| 7357/7357 [07:20<00:00, 16.69it/s]\n",
      "\u001b[32m[I 2023-04-23 23:06:11,639]\u001b[0m Trial 15 finished with value: 0.09373774487756065 and parameters: {'group_num': 5, 'within_decay_rate': 0.8, 'group_decay_rate': 0.7000000000000001, 'nearest_neighbors_num': 325, 'alpha': 0.30000000000000004}. Best is trial 15 with value: 0.09373774487756065.\u001b[0m\n"
     ]
    },
    {
     "name": "stdout",
     "output_type": "stream",
     "text": [
      "TIFUKNN fitting...\n"
     ]
    },
    {
     "name": "stderr",
     "output_type": "stream",
     "text": [
      "100%|██████████| 7358/7358 [00:11<00:00, 625.34it/s]\n",
      "100%|██████████| 7357/7357 [11:15<00:00, 10.89it/s]\n",
      "\u001b[32m[I 2023-04-23 23:17:44,472]\u001b[0m Trial 16 finished with value: 0.09439287006269607 and parameters: {'group_num': 5, 'within_decay_rate': 0.8, 'group_decay_rate': 0.7000000000000001, 'nearest_neighbors_num': 500, 'alpha': 0.2}. Best is trial 16 with value: 0.09439287006269607.\u001b[0m\n"
     ]
    },
    {
     "name": "stdout",
     "output_type": "stream",
     "text": [
      "TIFUKNN fitting...\n"
     ]
    },
    {
     "name": "stderr",
     "output_type": "stream",
     "text": [
      "100%|██████████| 7358/7358 [00:12<00:00, 595.62it/s]\n",
      "100%|██████████| 7357/7357 [10:33<00:00, 11.61it/s]\n",
      "\u001b[32m[I 2023-04-23 23:28:35,795]\u001b[0m Trial 17 finished with value: 0.10574871547190032 and parameters: {'group_num': 5, 'within_decay_rate': 1.0, 'group_decay_rate': 0.8, 'nearest_neighbors_num': 500, 'alpha': 0.2}. Best is trial 17 with value: 0.10574871547190032.\u001b[0m\n"
     ]
    },
    {
     "name": "stdout",
     "output_type": "stream",
     "text": [
      "TIFUKNN fitting...\n"
     ]
    },
    {
     "name": "stderr",
     "output_type": "stream",
     "text": [
      "100%|██████████| 7358/7358 [00:11<00:00, 620.51it/s] \n",
      "100%|██████████| 7357/7357 [10:15<00:00, 11.96it/s]\n",
      "\u001b[32m[I 2023-04-23 23:39:10,153]\u001b[0m Trial 18 finished with value: 0.1047040898611304 and parameters: {'group_num': 10, 'within_decay_rate': 1.0, 'group_decay_rate': 0.8, 'nearest_neighbors_num': 500, 'alpha': 0.2}. Best is trial 17 with value: 0.10574871547190032.\u001b[0m\n"
     ]
    },
    {
     "name": "stdout",
     "output_type": "stream",
     "text": [
      "TIFUKNN fitting...\n"
     ]
    },
    {
     "name": "stderr",
     "output_type": "stream",
     "text": [
      "100%|██████████| 7358/7358 [00:10<00:00, 675.10it/s] \n",
      "100%|██████████| 7357/7357 [09:01<00:00, 13.58it/s]\n",
      "\u001b[32m[I 2023-04-23 23:48:29,944]\u001b[0m Trial 19 finished with value: 0.11085931477372793 and parameters: {'group_num': 9, 'within_decay_rate': 1.0, 'group_decay_rate': 1.0, 'nearest_neighbors_num': 425, 'alpha': 0.2}. Best is trial 19 with value: 0.11085931477372793.\u001b[0m\n"
     ]
    },
    {
     "name": "stdout",
     "output_type": "stream",
     "text": [
      "TIFUKNN fitting...\n"
     ]
    },
    {
     "name": "stderr",
     "output_type": "stream",
     "text": [
      "100%|██████████| 7358/7358 [00:11<00:00, 656.08it/s] \n",
      "100%|██████████| 7357/7357 [08:51<00:00, 13.85it/s]\n",
      "\u001b[32m[I 2023-04-23 23:57:36,757]\u001b[0m Trial 20 finished with value: 0.11092596806719811 and parameters: {'group_num': 10, 'within_decay_rate': 1.0, 'group_decay_rate': 1.0, 'nearest_neighbors_num': 400, 'alpha': 0.4}. Best is trial 20 with value: 0.11092596806719811.\u001b[0m\n"
     ]
    },
    {
     "name": "stdout",
     "output_type": "stream",
     "text": [
      "TIFUKNN fitting...\n"
     ]
    },
    {
     "name": "stderr",
     "output_type": "stream",
     "text": [
      "100%|██████████| 7358/7358 [00:10<00:00, 677.97it/s]\n",
      "100%|██████████| 7357/7357 [08:59<00:00, 13.65it/s]\n",
      "\u001b[32m[I 2023-04-24 00:06:52,476]\u001b[0m Trial 21 finished with value: 0.11105743291942718 and parameters: {'group_num': 10, 'within_decay_rate': 1.0, 'group_decay_rate': 1.0, 'nearest_neighbors_num': 425, 'alpha': 0.4}. Best is trial 21 with value: 0.11105743291942718.\u001b[0m\n"
     ]
    },
    {
     "name": "stdout",
     "output_type": "stream",
     "text": [
      "TIFUKNN fitting...\n"
     ]
    },
    {
     "name": "stderr",
     "output_type": "stream",
     "text": [
      "100%|██████████| 7358/7358 [00:10<00:00, 669.17it/s] \n",
      "100%|██████████| 7357/7357 [09:01<00:00, 13.59it/s]\n",
      "\u001b[32m[I 2023-04-24 00:16:09,582]\u001b[0m Trial 22 finished with value: 0.10950544725367108 and parameters: {'group_num': 10, 'within_decay_rate': 0.9, 'group_decay_rate': 1.0, 'nearest_neighbors_num': 425, 'alpha': 0.4}. Best is trial 21 with value: 0.11105743291942718.\u001b[0m\n"
     ]
    },
    {
     "name": "stdout",
     "output_type": "stream",
     "text": [
      "TIFUKNN fitting...\n"
     ]
    },
    {
     "name": "stderr",
     "output_type": "stream",
     "text": [
      "100%|██████████| 7358/7358 [00:10<00:00, 677.76it/s]\n",
      "100%|██████████| 7357/7357 [08:47<00:00, 13.94it/s]\n",
      "\u001b[32m[I 2023-04-24 00:25:12,944]\u001b[0m Trial 23 finished with value: 0.10939951387561178 and parameters: {'group_num': 9, 'within_decay_rate': 0.9, 'group_decay_rate': 1.0, 'nearest_neighbors_num': 400, 'alpha': 0.4}. Best is trial 21 with value: 0.11105743291942718.\u001b[0m\n"
     ]
    },
    {
     "name": "stdout",
     "output_type": "stream",
     "text": [
      "TIFUKNN fitting...\n"
     ]
    },
    {
     "name": "stderr",
     "output_type": "stream",
     "text": [
      "100%|██████████| 7358/7358 [00:11<00:00, 668.43it/s] \n",
      "100%|██████████| 7357/7357 [09:21<00:00, 13.11it/s]\n",
      "\u001b[32m[I 2023-04-24 00:34:50,604]\u001b[0m Trial 24 finished with value: 0.10918993090481564 and parameters: {'group_num': 10, 'within_decay_rate': 1.0, 'group_decay_rate': 0.9, 'nearest_neighbors_num': 450, 'alpha': 0.5}. Best is trial 21 with value: 0.11105743291942718.\u001b[0m\n"
     ]
    }
   ],
   "source": [
    "sampler = optuna.samplers.TPESampler(seed=seed)\n",
    "study = optuna.create_study(direction=\"maximize\", sampler=sampler)\n",
    "study.optimize(objective, n_trials=25)"
   ]
  },
  {
   "cell_type": "markdown",
   "id": "3cUXH3VKdXcP",
   "metadata": {
    "id": "3cUXH3VKdXcP"
   },
   "source": [
    "Test:"
   ]
  },
  {
   "cell_type": "code",
   "execution_count": null,
   "id": "446679d1",
   "metadata": {
    "colab": {
     "base_uri": "https://localhost:8080/"
    },
    "id": "446679d1",
    "outputId": "9f14e516-9ee7-48a8-b9c4-0200664fa743"
   },
   "outputs": [
    {
     "name": "stdout",
     "output_type": "stream",
     "text": [
      "train dataset preparing...\n"
     ]
    },
    {
     "name": "stderr",
     "output_type": "stream",
     "text": [
      "100%|██████████| 7358/7358 [00:11<00:00, 652.68it/s]\n"
     ]
    },
    {
     "name": "stdout",
     "output_type": "stream",
     "text": [
      "dev dataset preparing...\n"
     ]
    },
    {
     "name": "stderr",
     "output_type": "stream",
     "text": [
      "100%|██████████| 7357/7357 [00:01<00:00, 5238.99it/s]\n"
     ]
    },
    {
     "name": "stdout",
     "output_type": "stream",
     "text": [
      "test dataset preparing...\n"
     ]
    },
    {
     "name": "stderr",
     "output_type": "stream",
     "text": [
      "100%|██████████| 7357/7357 [00:01<00:00, 4507.02it/s]\n"
     ]
    },
    {
     "name": "stdout",
     "output_type": "stream",
     "text": [
      "TIFUKNN fitting...\n"
     ]
    },
    {
     "name": "stderr",
     "output_type": "stream",
     "text": [
      "100%|██████████| 7358/7358 [00:08<00:00, 876.22it/s] \n"
     ]
    }
   ],
   "source": [
    "trainer = NBRTrainer(\n",
    "    corpus=corpus,\n",
    "    max_epochs=None,\n",
    "    topk=10,\n",
    "    early_stop_num=None\n",
    ")\n",
    "params = {\n",
    "    \"model\": TIFUKNN(\n",
    "        item_num=corpus.n_items,\n",
    "        user_num=corpus.n_users,\n",
    "        group_num=study.best_params[\"group_num\"],\n",
    "        within_decay_rate=study.best_params[\"within_decay_rate\"],\n",
    "        group_decay_rate=study.best_params[\"group_decay_rate\"],\n",
    "        nearest_neighbors_num=study.best_params[\"nearest_neighbors_num\"],\n",
    "        alpha=study.best_params[\"alpha\"],\n",
    "        corpus=corpus\n",
    "    )\n",
    "}\n",
    "\n",
    "trainer.init_hyperparams(**params)"
   ]
  },
  {
   "cell_type": "code",
   "execution_count": null,
   "id": "PCcEhQPSawaS",
   "metadata": {
    "colab": {
     "base_uri": "https://localhost:8080/"
    },
    "id": "PCcEhQPSawaS",
    "outputId": "932bdcbc-b218-4f9c-a25c-2d1179bbf1bd"
   },
   "outputs": [
    {
     "name": "stderr",
     "output_type": "stream",
     "text": [
      "100%|██████████| 7357/7357 [06:00<00:00, 20.38it/s]\n"
     ]
    },
    {
     "data": {
      "text/plain": [
       "{'precision': 0.057401114584749224,\n",
       " 'recall': 0.135966844520265,\n",
       " 'ndcg': 0.11790728194701038}"
      ]
     },
     "execution_count": 12,
     "metadata": {},
     "output_type": "execute_result"
    }
   ],
   "source": [
    "trainer.evaluate(mode=\"test\")"
   ]
  },
  {
   "cell_type": "markdown",
   "id": "199ab480",
   "metadata": {
    "id": "199ab480"
   },
   "source": [
    "# TaoBao"
   ]
  },
  {
   "cell_type": "markdown",
   "id": "dR-OjFT7ctTP",
   "metadata": {
    "id": "dR-OjFT7ctTP"
   },
   "source": [
    "Fix seed:"
   ]
  },
  {
   "cell_type": "code",
   "execution_count": null,
   "id": "7nLjn1nQcu1C",
   "metadata": {
    "id": "7nLjn1nQcu1C"
   },
   "outputs": [],
   "source": [
    "seed = 10\n",
    "torch.manual_seed(seed)\n",
    "random.seed(seed)\n",
    "np.random.seed(seed)"
   ]
  },
  {
   "cell_type": "markdown",
   "id": "i3ykvMDCcy1I",
   "metadata": {
    "id": "i3ykvMDCcy1I"
   },
   "source": [
    "Read interactions data (filter users with less than 10 transactions, high purchase frequency and one-day users and items with less than 10 transactions). Train dataset - all baskets except the last two, validation dataset - the last but one basket, test dataset - the last basket:"
   ]
  },
  {
   "cell_type": "code",
   "execution_count": null,
   "id": "86f6e71b",
   "metadata": {
    "colab": {
     "base_uri": "https://localhost:8080/"
    },
    "id": "86f6e71b",
    "outputId": "0bad6cda-a48f-4162-c27e-2ca245dd5fda",
    "scrolled": false
   },
   "outputs": [
    {
     "name": "stdout",
     "output_type": "stream",
     "text": [
      "Before preprocessing: #users = 672404, #items = 638962, #clicks = 2015807 (#illegal records = 0)\n",
      "After preprocessing: #users = 10092, #items = 22286, #clicks = 67991\n",
      "Saving dataset in ./data//data_taobao/...\n"
     ]
    }
   ],
   "source": [
    "corpus_path = \"./data/\"\n",
    "dataset_name = \"taobao\"\n",
    "\n",
    "preprocessor = Preprocess(corpus_path, dataset_name)\n",
    "preprocessor.load_data(10, 10, filt=True)\n",
    "save_split(corpus_path, dataset_name, preprocessor)"
   ]
  },
  {
   "cell_type": "code",
   "execution_count": null,
   "id": "c3654262",
   "metadata": {
    "id": "c3654262"
   },
   "outputs": [],
   "source": [
    "corpus = Corpus(corpus_path, dataset_name)\n",
    "corpus.load_data()"
   ]
  },
  {
   "cell_type": "markdown",
   "id": "064sabRic4hD",
   "metadata": {
    "id": "064sabRic4hD"
   },
   "source": [
    "Tune hyperparams on validation dataset:"
   ]
  },
  {
   "cell_type": "code",
   "execution_count": null,
   "id": "8733018e",
   "metadata": {
    "colab": {
     "base_uri": "https://localhost:8080/"
    },
    "id": "8733018e",
    "outputId": "db7a9d58-7ddf-4826-d6c0-28fbeb14b396"
   },
   "outputs": [
    {
     "name": "stdout",
     "output_type": "stream",
     "text": [
      "train dataset preparing...\n"
     ]
    },
    {
     "name": "stderr",
     "output_type": "stream",
     "text": [
      "100%|██████████| 10092/10092 [00:34<00:00, 289.52it/s]\n"
     ]
    },
    {
     "name": "stdout",
     "output_type": "stream",
     "text": [
      "dev dataset preparing...\n"
     ]
    },
    {
     "name": "stderr",
     "output_type": "stream",
     "text": [
      "100%|██████████| 9307/9307 [00:00<00:00, 24261.11it/s]\n"
     ]
    },
    {
     "name": "stdout",
     "output_type": "stream",
     "text": [
      "test dataset preparing...\n"
     ]
    },
    {
     "name": "stderr",
     "output_type": "stream",
     "text": [
      "100%|██████████| 9307/9307 [00:00<00:00, 18817.06it/s]\n"
     ]
    }
   ],
   "source": [
    "trainer = NBRTrainer(\n",
    "    corpus=corpus,\n",
    "    max_epochs=None,\n",
    "    topk=10,\n",
    "    early_stop_num=None\n",
    ")"
   ]
  },
  {
   "cell_type": "code",
   "execution_count": null,
   "id": "f952fb8e",
   "metadata": {
    "id": "f952fb8e"
   },
   "outputs": [],
   "source": [
    "def objective(trial):\n",
    "    params = {\n",
    "        \"model\": TIFUKNN(\n",
    "            item_num=corpus.n_items,\n",
    "            user_num=corpus.n_users,\n",
    "            group_num=trial.suggest_int(\"group_num\", low=2, high=10, step=1),\n",
    "            within_decay_rate=trial.suggest_float(\"within_decay_rate\", 0.1, 1.0, step=0.1),\n",
    "            group_decay_rate=trial.suggest_float(\"group_decay_rate\", 0.1, 1.0, step=0.1),\n",
    "            nearest_neighbors_num=trial.suggest_int(\"nearest_neighbors_num\", low=25, high=500, step=25),\n",
    "            alpha=trial.suggest_float(\"alpha\", 0.0, 1.0, step=0.1),\n",
    "            corpus=corpus\n",
    "        )\n",
    "    }\n",
    "\n",
    "    trainer.init_hyperparams(**params)\n",
    "    metrics = trainer.evaluate(mode=\"dev\")\n",
    "    score = metrics[\"ndcg\"]\n",
    "    return score"
   ]
  },
  {
   "cell_type": "code",
   "execution_count": null,
   "id": "3vZPLsjb_lgZ",
   "metadata": {
    "colab": {
     "base_uri": "https://localhost:8080/"
    },
    "id": "3vZPLsjb_lgZ",
    "outputId": "60d22666-b5c2-4441-b9cf-7dac647b3a31"
   },
   "outputs": [
    {
     "metadata": {
      "tags": null
     },
     "name": "stderr",
     "output_type": "stream",
     "text": [
      "\u001b[32m[I 2023-04-24 16:10:49,847]\u001b[0m A new study created in memory with name: no-name-b404063c-a6ea-445a-987c-39d8846d2c55\u001b[0m\n",
      "\u001b[32m[I 2023-04-24 16:10:49,852]\u001b[0m Trial 0 finished with value: 0.057439564148598785 and parameters: {'group_num': 8, 'within_decay_rate': 0.1, 'group_decay_rate': 0.7000000000000001, 'nearest_neighbors_num': 375, 'alpha': 0.5}. Best is trial 0 with value: 0.057439564148598785.\u001b[0m\n",
      "\u001b[32m[I 2023-04-24 16:10:49,857]\u001b[0m Trial 1 finished with value: 0.013697305773809882 and parameters: {'group_num': 4, 'within_decay_rate': 0.2, 'group_decay_rate': 0.8, 'nearest_neighbors_num': 100, 'alpha': 0.0}. Best is trial 0 with value: 0.057439564148598785.\u001b[0m\n",
      "\u001b[32m[I 2023-04-24 16:10:49,862]\u001b[0m Trial 2 finished with value: 0.06671495591256227 and parameters: {'group_num': 8, 'within_decay_rate': 1.0, 'group_decay_rate': 0.1, 'nearest_neighbors_num': 275, 'alpha': 0.8}. Best is trial 2 with value: 0.06671495591256227.\u001b[0m\n",
      "\u001b[32m[I 2023-04-24 16:10:49,866]\u001b[0m Trial 3 finished with value: 0.0691401981306852 and parameters: {'group_num': 7, 'within_decay_rate': 0.8, 'group_decay_rate': 0.30000000000000004, 'nearest_neighbors_num': 475, 'alpha': 0.7000000000000001}. Best is trial 3 with value: 0.0691401981306852.\u001b[0m\n",
      "\u001b[32m[I 2023-04-24 16:10:49,871]\u001b[0m Trial 4 finished with value: 0.053159038098398295 and parameters: {'group_num': 6, 'within_decay_rate': 0.2, 'group_decay_rate': 0.4, 'nearest_neighbors_num': 350, 'alpha': 0.4}. Best is trial 3 with value: 0.0691401981306852.\u001b[0m\n",
      "\u001b[32m[I 2023-04-24 16:10:49,883]\u001b[0m Trial 5 finished with value: 0.0662370149633712 and parameters: {'group_num': 5, 'within_decay_rate': 0.7000000000000001, 'group_decay_rate': 0.6, 'nearest_neighbors_num': 350, 'alpha': 0.6000000000000001}. Best is trial 3 with value: 0.0691401981306852.\u001b[0m\n",
      "\u001b[32m[I 2023-04-24 16:10:49,894]\u001b[0m Trial 6 finished with value: 0.013702474009455718 and parameters: {'group_num': 9, 'within_decay_rate': 0.6, 'group_decay_rate': 1.0, 'nearest_neighbors_num': 175, 'alpha': 0.0}. Best is trial 3 with value: 0.0691401981306852.\u001b[0m\n",
      "\u001b[32m[I 2023-04-24 16:10:49,902]\u001b[0m Trial 7 finished with value: 0.05200924729920504 and parameters: {'group_num': 4, 'within_decay_rate': 0.2, 'group_decay_rate': 0.9, 'nearest_neighbors_num': 25, 'alpha': 0.6000000000000001}. Best is trial 3 with value: 0.0691401981306852.\u001b[0m\n",
      "\u001b[32m[I 2023-04-24 16:10:49,911]\u001b[0m Trial 8 finished with value: 0.06341520477880135 and parameters: {'group_num': 6, 'within_decay_rate': 0.9, 'group_decay_rate': 0.2, 'nearest_neighbors_num': 450, 'alpha': 0.30000000000000004}. Best is trial 3 with value: 0.0691401981306852.\u001b[0m\n",
      "\u001b[32m[I 2023-04-24 16:10:49,916]\u001b[0m Trial 9 finished with value: 0.054072128527411195 and parameters: {'group_num': 8, 'within_decay_rate': 0.30000000000000004, 'group_decay_rate': 0.9, 'nearest_neighbors_num': 175, 'alpha': 0.1}. Best is trial 3 with value: 0.0691401981306852.\u001b[0m\n",
      "\u001b[32m[I 2023-04-24 16:10:49,944]\u001b[0m Trial 10 finished with value: 0.0702955950429197 and parameters: {'group_num': 2, 'within_decay_rate': 0.8, 'group_decay_rate': 0.4, 'nearest_neighbors_num': 475, 'alpha': 0.9}. Best is trial 10 with value: 0.0702955950429197.\u001b[0m\n",
      "\u001b[32m[I 2023-04-24 16:10:49,971]\u001b[0m Trial 11 finished with value: 0.06991468068270093 and parameters: {'group_num': 2, 'within_decay_rate': 0.8, 'group_decay_rate': 0.4, 'nearest_neighbors_num': 500, 'alpha': 1.0}. Best is trial 10 with value: 0.0702955950429197.\u001b[0m\n",
      "\u001b[32m[I 2023-04-24 16:10:50,009]\u001b[0m Trial 12 finished with value: 0.06958579237495047 and parameters: {'group_num': 2, 'within_decay_rate': 0.5, 'group_decay_rate': 0.5, 'nearest_neighbors_num': 500, 'alpha': 1.0}. Best is trial 10 with value: 0.0702955950429197.\u001b[0m\n",
      "\u001b[32m[I 2023-04-24 16:10:50,041]\u001b[0m Trial 13 finished with value: 0.06991468068270093 and parameters: {'group_num': 2, 'within_decay_rate': 0.8, 'group_decay_rate': 0.4, 'nearest_neighbors_num': 425, 'alpha': 1.0}. Best is trial 10 with value: 0.0702955950429197.\u001b[0m\n",
      "\u001b[32m[I 2023-04-24 16:10:50,072]\u001b[0m Trial 14 finished with value: 0.06524384323819137 and parameters: {'group_num': 3, 'within_decay_rate': 0.5, 'group_decay_rate': 0.5, 'nearest_neighbors_num': 275, 'alpha': 0.9}. Best is trial 10 with value: 0.0702955950429197.\u001b[0m\n"
     ]
    },
    {
     "metadata": {
      "tags": null
     },
     "name": "stdout",
     "output_type": "stream",
     "text": [
      "TIFUKNN fitting...\n"
     ]
    },
    {
     "metadata": {
      "tags": null
     },
     "name": "stderr",
     "output_type": "stream",
     "text": [
      "100%|██████████| 10092/10092 [00:27<00:00, 369.56it/s]\n",
      "100%|██████████| 9307/9307 [30:48<00:00,  5.03it/s]\n",
      "\u001b[32m[I 2023-04-24 16:42:21,613]\u001b[0m Trial 15 finished with value: 0.06557456152146485 and parameters: {'group_num': 3, 'within_decay_rate': 1.0, 'group_decay_rate': 0.30000000000000004, 'nearest_neighbors_num': 400, 'alpha': 0.8}. Best is trial 10 with value: 0.0702955950429197.\u001b[0m\n"
     ]
    },
    {
     "metadata": {
      "tags": null
     },
     "name": "stdout",
     "output_type": "stream",
     "text": [
      "TIFUKNN fitting...\n"
     ]
    },
    {
     "metadata": {
      "tags": null
     },
     "name": "stderr",
     "output_type": "stream",
     "text": [
      "100%|██████████| 10092/10092 [00:25<00:00, 392.02it/s]\n",
      "100%|██████████| 9307/9307 [33:45<00:00,  4.60it/s]\n",
      "\u001b[32m[I 2023-04-24 17:16:51,022]\u001b[0m Trial 16 finished with value: 0.07006161576267411 and parameters: {'group_num': 2, 'within_decay_rate': 0.7000000000000001, 'group_decay_rate': 0.1, 'nearest_neighbors_num': 500, 'alpha': 1.0}. Best is trial 10 with value: 0.0702955950429197.\u001b[0m\n"
     ]
    },
    {
     "metadata": {
      "tags": null
     },
     "name": "stdout",
     "output_type": "stream",
     "text": [
      "TIFUKNN fitting...\n"
     ]
    },
    {
     "metadata": {
      "tags": null
     },
     "name": "stderr",
     "output_type": "stream",
     "text": [
      "100%|██████████| 10092/10092 [00:26<00:00, 387.53it/s]\n",
      "100%|██████████| 9307/9307 [29:22<00:00,  5.28it/s]\n",
      "\u001b[32m[I 2023-04-24 17:47:00,052]\u001b[0m Trial 17 finished with value: 0.0597820342039382 and parameters: {'group_num': 4, 'within_decay_rate': 0.6, 'group_decay_rate': 0.1, 'nearest_neighbors_num': 325, 'alpha': 0.8}. Best is trial 10 with value: 0.0702955950429197.\u001b[0m\n"
     ]
    },
    {
     "metadata": {
      "tags": null
     },
     "name": "stdout",
     "output_type": "stream",
     "text": [
      "TIFUKNN fitting...\n"
     ]
    },
    {
     "metadata": {
      "tags": null
     },
     "name": "stderr",
     "output_type": "stream",
     "text": [
      "100%|██████████| 10092/10092 [00:26<00:00, 386.90it/s]\n",
      "100%|██████████| 9307/9307 [32:12<00:00,  4.82it/s]\n",
      "\u001b[32m[I 2023-04-24 18:19:54,945]\u001b[0m Trial 18 finished with value: 0.07048305004009849 and parameters: {'group_num': 10, 'within_decay_rate': 0.7000000000000001, 'group_decay_rate': 0.2, 'nearest_neighbors_num': 425, 'alpha': 0.9}. Best is trial 18 with value: 0.07048305004009849.\u001b[0m\n"
     ]
    },
    {
     "metadata": {
      "tags": null
     },
     "name": "stdout",
     "output_type": "stream",
     "text": [
      "TIFUKNN fitting...\n"
     ]
    },
    {
     "metadata": {
      "tags": null
     },
     "name": "stderr",
     "output_type": "stream",
     "text": [
      "100%|██████████| 10092/10092 [00:26<00:00, 383.62it/s]\n",
      "100%|██████████| 9307/9307 [31:35<00:00,  4.91it/s]\n",
      "\u001b[32m[I 2023-04-24 18:52:14,053]\u001b[0m Trial 19 finished with value: 0.06560007696234454 and parameters: {'group_num': 9, 'within_decay_rate': 0.4, 'group_decay_rate': 0.30000000000000004, 'nearest_neighbors_num': 425, 'alpha': 0.7000000000000001}. Best is trial 18 with value: 0.07048305004009849.\u001b[0m\n"
     ]
    },
    {
     "metadata": {
      "tags": null
     },
     "name": "stdout",
     "output_type": "stream",
     "text": [
      "TIFUKNN fitting...\n"
     ]
    },
    {
     "metadata": {
      "tags": null
     },
     "name": "stderr",
     "output_type": "stream",
     "text": [
      "100%|██████████| 10092/10092 [00:25<00:00, 393.35it/s]\n",
      "100%|██████████| 9307/9307 [28:23<00:00,  5.46it/s]\n",
      "\u001b[32m[I 2023-04-24 19:21:19,891]\u001b[0m Trial 20 finished with value: 0.06512384065815259 and parameters: {'group_num': 10, 'within_decay_rate': 0.9, 'group_decay_rate': 0.2, 'nearest_neighbors_num': 300, 'alpha': 0.30000000000000004}. Best is trial 18 with value: 0.07048305004009849.\u001b[0m\n"
     ]
    },
    {
     "metadata": {
      "tags": null
     },
     "name": "stdout",
     "output_type": "stream",
     "text": [
      "TIFUKNN fitting...\n"
     ]
    },
    {
     "metadata": {
      "tags": null
     },
     "name": "stderr",
     "output_type": "stream",
     "text": [
      "100%|██████████| 10092/10092 [00:24<00:00, 419.18it/s]\n",
      "100%|██████████| 9307/9307 [32:02<00:00,  4.84it/s]\n",
      "\u001b[32m[I 2023-04-24 19:54:02,976]\u001b[0m Trial 21 finished with value: 0.06599882562807997 and parameters: {'group_num': 3, 'within_decay_rate': 0.7000000000000001, 'group_decay_rate': 0.2, 'nearest_neighbors_num': 450, 'alpha': 0.9}. Best is trial 18 with value: 0.07048305004009849.\u001b[0m\n"
     ]
    },
    {
     "metadata": {
      "tags": null
     },
     "name": "stdout",
     "output_type": "stream",
     "text": [
      "TIFUKNN fitting...\n"
     ]
    },
    {
     "name": "stderr",
     "output_type": "stream",
     "text": [
      "100%|██████████| 10092/10092 [00:24<00:00, 410.01it/s]\n",
      "100%|██████████| 9307/9307 [33:21<00:00,  4.65it/s]\n",
      "\u001b[32m[I 2023-04-24 20:28:05,436]\u001b[0m Trial 22 finished with value: 0.06155363566136018 and parameters: {'group_num': 5, 'within_decay_rate': 0.7000000000000001, 'group_decay_rate': 0.1, 'nearest_neighbors_num': 500, 'alpha': 0.9}. Best is trial 18 with value: 0.07048305004009849.\u001b[0m\n"
     ]
    },
    {
     "name": "stdout",
     "output_type": "stream",
     "text": [
      "TIFUKNN fitting...\n"
     ]
    },
    {
     "name": "stderr",
     "output_type": "stream",
     "text": [
      "100%|██████████| 10092/10092 [00:26<00:00, 383.45it/s]\n",
      "100%|██████████| 9307/9307 [31:07<00:00,  4.98it/s]\n",
      "\u001b[32m[I 2023-04-24 20:59:56,908]\u001b[0m Trial 23 finished with value: 0.07366860344168423 and parameters: {'group_num': 10, 'within_decay_rate': 0.6, 'group_decay_rate': 0.2, 'nearest_neighbors_num': 400, 'alpha': 1.0}. Best is trial 23 with value: 0.07366860344168423.\u001b[0m\n"
     ]
    },
    {
     "name": "stdout",
     "output_type": "stream",
     "text": [
      "TIFUKNN fitting...\n"
     ]
    },
    {
     "name": "stderr",
     "output_type": "stream",
     "text": [
      "100%|██████████| 10092/10092 [00:26<00:00, 383.32it/s]\n",
      "100%|██████████| 9307/9307 [31:15<00:00,  4.96it/s]\n",
      "\u001b[32m[I 2023-04-24 21:31:55,106]\u001b[0m Trial 24 finished with value: 0.07059738999058329 and parameters: {'group_num': 10, 'within_decay_rate': 0.6, 'group_decay_rate': 0.30000000000000004, 'nearest_neighbors_num': 400, 'alpha': 0.9}. Best is trial 23 with value: 0.07366860344168423.\u001b[0m\n"
     ]
    }
   ],
   "source": [
    "sampler = optuna.samplers.TPESampler(seed=seed)\n",
    "study = optuna.create_study(direction=\"maximize\", sampler=sampler)\n",
    "study.optimize(objective, n_trials=25)"
   ]
  },
  {
   "cell_type": "markdown",
   "id": "9TXHw4BEdjDk",
   "metadata": {
    "id": "9TXHw4BEdjDk"
   },
   "source": [
    "Test:"
   ]
  },
  {
   "cell_type": "code",
   "execution_count": null,
   "id": "a1c68d37",
   "metadata": {
    "colab": {
     "base_uri": "https://localhost:8080/"
    },
    "id": "a1c68d37",
    "outputId": "6e58cd3b-bccd-4165-89a3-77c0efc55bba"
   },
   "outputs": [
    {
     "name": "stdout",
     "output_type": "stream",
     "text": [
      "train dataset preparing...\n"
     ]
    },
    {
     "name": "stderr",
     "output_type": "stream",
     "text": [
      "100%|██████████| 10092/10092 [00:41<00:00, 241.42it/s]\n"
     ]
    },
    {
     "name": "stdout",
     "output_type": "stream",
     "text": [
      "dev dataset preparing...\n"
     ]
    },
    {
     "name": "stderr",
     "output_type": "stream",
     "text": [
      "100%|██████████| 9307/9307 [00:00<00:00, 30982.39it/s]\n"
     ]
    },
    {
     "name": "stdout",
     "output_type": "stream",
     "text": [
      "test dataset preparing...\n"
     ]
    },
    {
     "name": "stderr",
     "output_type": "stream",
     "text": [
      "100%|██████████| 9307/9307 [00:00<00:00, 22587.21it/s]"
     ]
    },
    {
     "name": "stdout",
     "output_type": "stream",
     "text": [
      "TIFUKNN fitting...\n"
     ]
    },
    {
     "name": "stderr",
     "output_type": "stream",
     "text": [
      "\n",
      "100%|██████████| 10092/10092 [00:15<00:00, 638.46it/s]\n"
     ]
    }
   ],
   "source": [
    "trainer = NBRTrainer(\n",
    "    corpus=corpus,\n",
    "    max_epochs=None,\n",
    "    topk=10,\n",
    "    early_stop_num=None\n",
    ")\n",
    "params = {\n",
    "    \"model\": TIFUKNN(\n",
    "        item_num=corpus.n_items,\n",
    "        user_num=corpus.n_users,\n",
    "        group_num=study.best_params[\"group_num\"],\n",
    "        within_decay_rate=study.best_params[\"within_decay_rate\"],\n",
    "        group_decay_rate=study.best_params[\"group_decay_rate\"],\n",
    "        nearest_neighbors_num=study.best_params[\"nearest_neighbors_num\"],\n",
    "        alpha=study.best_params[\"alpha\"],\n",
    "        corpus=corpus\n",
    "    )\n",
    "}\n",
    "\n",
    "trainer.init_hyperparams(**params)"
   ]
  },
  {
   "cell_type": "code",
   "execution_count": null,
   "id": "s5-hapIH5tNZ",
   "metadata": {
    "colab": {
     "base_uri": "https://localhost:8080/"
    },
    "id": "s5-hapIH5tNZ",
    "outputId": "c77ac7ed-c911-43ea-803f-317b53d62f5f"
   },
   "outputs": [
    {
     "name": "stderr",
     "output_type": "stream",
     "text": [
      "100%|██████████| 9307/9307 [24:05<00:00,  6.44it/s]\n"
     ]
    },
    {
     "data": {
      "text/plain": [
       "{'precision': 0.0076823895992263885,\n",
       " 'recall': 0.07491672934350488,\n",
       " 'ndcg': 0.052395387393749784}"
      ]
     },
     "execution_count": 8,
     "metadata": {},
     "output_type": "execute_result"
    }
   ],
   "source": [
    "trainer.evaluate(mode=\"test\")"
   ]
  },
  {
   "cell_type": "markdown",
   "id": "0YJoZnyT68ob",
   "metadata": {
    "id": "0YJoZnyT68ob"
   },
   "source": [
    "# Dunnhumby"
   ]
  },
  {
   "cell_type": "markdown",
   "id": "RrYeIswzdqgW",
   "metadata": {
    "id": "RrYeIswzdqgW"
   },
   "source": [
    "Fix seed:"
   ]
  },
  {
   "cell_type": "code",
   "execution_count": null,
   "id": "7ggKK-gbdtaH",
   "metadata": {
    "id": "7ggKK-gbdtaH"
   },
   "outputs": [],
   "source": [
    "seed = 10\n",
    "torch.manual_seed(seed)\n",
    "random.seed(seed)\n",
    "np.random.seed(seed)"
   ]
  },
  {
   "cell_type": "markdown",
   "id": "t5QTCInHdt4V",
   "metadata": {
    "id": "t5QTCInHdt4V"
   },
   "source": [
    "Read interactions data (filter users with less than 5 transactions, high purchase frequency and one-day users and items with less than 10 transactions). Train dataset - all baskets except the last two, validation dataset - the last but one basket, test dataset - the last basket:"
   ]
  },
  {
   "cell_type": "code",
   "execution_count": null,
   "id": "0_cJ9Mfa7KB-",
   "metadata": {
    "colab": {
     "base_uri": "https://localhost:8080/"
    },
    "id": "0_cJ9Mfa7KB-",
    "outputId": "eb56c865-159d-421b-8ffe-e8309a613c7b"
   },
   "outputs": [
    {
     "name": "stdout",
     "output_type": "stream",
     "text": [
      "Before preprocessing: #users = 2500, #items = 92339, #clicks = 2595370 (#illegal records = 0)\n",
      "After preprocessing: #users = 2358, #items = 26756, #clicks = 1976796\n",
      "Saving dataset in ./data//data_dunnhumby/...\n"
     ]
    }
   ],
   "source": [
    "corpus_path = \"./data/\"\n",
    "dataset_name = \"dunnhumby\"\n",
    "\n",
    "preprocessor = Preprocess(corpus_path, dataset_name)\n",
    "preprocessor.load_data(5, 10, filt=True)\n",
    "save_split(corpus_path, dataset_name, preprocessor)"
   ]
  },
  {
   "cell_type": "code",
   "execution_count": null,
   "id": "9-F6B3lg7MLx",
   "metadata": {
    "id": "9-F6B3lg7MLx"
   },
   "outputs": [],
   "source": [
    "corpus = Corpus(corpus_path, dataset_name)\n",
    "corpus.load_data()"
   ]
  },
  {
   "cell_type": "markdown",
   "id": "ot7-t9TOd-cH",
   "metadata": {
    "id": "ot7-t9TOd-cH"
   },
   "source": [
    "Tune hyperparams on validation dataset:"
   ]
  },
  {
   "cell_type": "code",
   "execution_count": null,
   "id": "534sdlbe7MTU",
   "metadata": {
    "colab": {
     "base_uri": "https://localhost:8080/"
    },
    "id": "534sdlbe7MTU",
    "outputId": "52da003e-a641-49fc-b0f7-85eb2d26c7cd"
   },
   "outputs": [
    {
     "name": "stdout",
     "output_type": "stream",
     "text": [
      "train dataset preparing...\n"
     ]
    },
    {
     "name": "stderr",
     "output_type": "stream",
     "text": [
      "100%|██████████| 2358/2358 [00:08<00:00, 271.42it/s]\n"
     ]
    },
    {
     "name": "stdout",
     "output_type": "stream",
     "text": [
      "dev dataset preparing...\n"
     ]
    },
    {
     "name": "stderr",
     "output_type": "stream",
     "text": [
      "100%|██████████| 2357/2357 [00:10<00:00, 222.97it/s]\n"
     ]
    },
    {
     "name": "stdout",
     "output_type": "stream",
     "text": [
      "test dataset preparing...\n"
     ]
    },
    {
     "name": "stderr",
     "output_type": "stream",
     "text": [
      "100%|██████████| 2357/2357 [00:09<00:00, 235.88it/s]\n"
     ]
    }
   ],
   "source": [
    "trainer = NBRTrainer(\n",
    "    corpus=corpus,\n",
    "    max_epochs=None,\n",
    "    topk=10,\n",
    "    early_stop_num=None\n",
    ")"
   ]
  },
  {
   "cell_type": "code",
   "execution_count": null,
   "id": "veSP0dcw7MV9",
   "metadata": {
    "id": "veSP0dcw7MV9"
   },
   "outputs": [],
   "source": [
    "def objective(trial):\n",
    "    params = {\n",
    "        \"model\": TIFUKNN(\n",
    "            item_num=corpus.n_items,\n",
    "            user_num=corpus.n_users,\n",
    "            group_num=trial.suggest_int(\"group_num\", low=2, high=10, step=1),\n",
    "            within_decay_rate=trial.suggest_float(\"within_decay_rate\", 0.1, 1.0, step=0.1),\n",
    "            group_decay_rate=trial.suggest_float(\"group_decay_rate\", 0.1, 1.0, step=0.1),\n",
    "            nearest_neighbors_num=trial.suggest_int(\"nearest_neighbors_num\", low=25, high=500, step=25),\n",
    "            alpha=trial.suggest_float(\"alpha\", 0.0, 1.0, step=0.1),\n",
    "            corpus=corpus\n",
    "        )\n",
    "    }\n",
    "\n",
    "    trainer.init_hyperparams(**params)\n",
    "    metrics = trainer.evaluate(mode=\"dev\")\n",
    "    score = metrics[\"ndcg\"]\n",
    "    return score"
   ]
  },
  {
   "cell_type": "code",
   "execution_count": null,
   "id": "F-b-6YcO7MYf",
   "metadata": {
    "colab": {
     "base_uri": "https://localhost:8080/"
    },
    "id": "F-b-6YcO7MYf",
    "outputId": "733fc33b-8574-4ab1-9605-9a7e7be751b3"
   },
   "outputs": [
    {
     "name": "stderr",
     "output_type": "stream",
     "text": [
      "\u001b[32m[I 2023-04-24 12:33:18,099]\u001b[0m A new study created in memory with name: no-name-96ff447b-41a0-4de7-9e69-adf3145aa2f1\u001b[0m\n"
     ]
    },
    {
     "name": "stdout",
     "output_type": "stream",
     "text": [
      "TIFUKNN fitting...\n"
     ]
    },
    {
     "name": "stderr",
     "output_type": "stream",
     "text": [
      "100%|██████████| 2358/2358 [02:32<00:00, 15.42it/s]\n",
      "100%|██████████| 2357/2357 [05:29<00:00,  7.15it/s]\n",
      "\u001b[32m[I 2023-04-24 12:41:27,001]\u001b[0m Trial 0 finished with value: 0.09253603345186663 and parameters: {'group_num': 8, 'within_decay_rate': 0.1, 'group_decay_rate': 0.7000000000000001, 'nearest_neighbors_num': 375, 'alpha': 0.5}. Best is trial 0 with value: 0.09253603345186663.\u001b[0m\n"
     ]
    },
    {
     "name": "stdout",
     "output_type": "stream",
     "text": [
      "TIFUKNN fitting...\n"
     ]
    },
    {
     "name": "stderr",
     "output_type": "stream",
     "text": [
      "100%|██████████| 2358/2358 [01:56<00:00, 20.23it/s]\n",
      "100%|██████████| 2357/2357 [02:59<00:00, 13.17it/s]\n",
      "\u001b[32m[I 2023-04-24 12:46:28,086]\u001b[0m Trial 1 finished with value: 0.07525198420938144 and parameters: {'group_num': 4, 'within_decay_rate': 0.2, 'group_decay_rate': 0.8, 'nearest_neighbors_num': 100, 'alpha': 0.0}. Best is trial 0 with value: 0.09253603345186663.\u001b[0m\n"
     ]
    },
    {
     "name": "stdout",
     "output_type": "stream",
     "text": [
      "TIFUKNN fitting...\n"
     ]
    },
    {
     "name": "stderr",
     "output_type": "stream",
     "text": [
      "100%|██████████| 2358/2358 [02:29<00:00, 15.81it/s]\n",
      "100%|██████████| 2357/2357 [04:26<00:00,  8.85it/s]\n",
      "\u001b[32m[I 2023-04-24 12:53:29,415]\u001b[0m Trial 2 finished with value: 0.15614767582307007 and parameters: {'group_num': 8, 'within_decay_rate': 1.0, 'group_decay_rate': 0.1, 'nearest_neighbors_num': 275, 'alpha': 0.8}. Best is trial 2 with value: 0.15614767582307007.\u001b[0m\n"
     ]
    },
    {
     "name": "stdout",
     "output_type": "stream",
     "text": [
      "TIFUKNN fitting...\n"
     ]
    },
    {
     "name": "stderr",
     "output_type": "stream",
     "text": [
      "100%|██████████| 2358/2358 [02:24<00:00, 16.31it/s]\n",
      "100%|██████████| 2357/2357 [06:26<00:00,  6.10it/s]\n",
      "\u001b[32m[I 2023-04-24 13:02:26,446]\u001b[0m Trial 3 finished with value: 0.13803990338157807 and parameters: {'group_num': 7, 'within_decay_rate': 0.8, 'group_decay_rate': 0.30000000000000004, 'nearest_neighbors_num': 475, 'alpha': 0.7000000000000001}. Best is trial 2 with value: 0.15614767582307007.\u001b[0m\n"
     ]
    },
    {
     "name": "stdout",
     "output_type": "stream",
     "text": [
      "TIFUKNN fitting...\n"
     ]
    },
    {
     "name": "stderr",
     "output_type": "stream",
     "text": [
      "100%|██████████| 2358/2358 [02:16<00:00, 17.25it/s]\n",
      "100%|██████████| 2357/2357 [05:29<00:00,  7.15it/s]\n",
      "\u001b[32m[I 2023-04-24 13:10:20,360]\u001b[0m Trial 4 finished with value: 0.10143512336473273 and parameters: {'group_num': 6, 'within_decay_rate': 0.2, 'group_decay_rate': 0.4, 'nearest_neighbors_num': 350, 'alpha': 0.4}. Best is trial 2 with value: 0.15614767582307007.\u001b[0m\n"
     ]
    },
    {
     "name": "stdout",
     "output_type": "stream",
     "text": [
      "TIFUKNN fitting...\n"
     ]
    },
    {
     "name": "stderr",
     "output_type": "stream",
     "text": [
      "100%|██████████| 2358/2358 [02:06<00:00, 18.63it/s]\n",
      "100%|██████████| 2357/2357 [05:28<00:00,  7.17it/s]\n",
      "\u001b[32m[I 2023-04-24 13:18:03,066]\u001b[0m Trial 5 finished with value: 0.13410804614024685 and parameters: {'group_num': 5, 'within_decay_rate': 0.7000000000000001, 'group_decay_rate': 0.6, 'nearest_neighbors_num': 350, 'alpha': 0.6000000000000001}. Best is trial 2 with value: 0.15614767582307007.\u001b[0m\n"
     ]
    },
    {
     "name": "stdout",
     "output_type": "stream",
     "text": [
      "TIFUKNN fitting...\n"
     ]
    },
    {
     "name": "stderr",
     "output_type": "stream",
     "text": [
      "100%|██████████| 2358/2358 [02:33<00:00, 15.37it/s]\n",
      "100%|██████████| 2357/2357 [03:26<00:00, 11.41it/s]\n",
      "\u001b[32m[I 2023-04-24 13:24:09,831]\u001b[0m Trial 6 finished with value: 0.09633295542051265 and parameters: {'group_num': 9, 'within_decay_rate': 0.6, 'group_decay_rate': 1.0, 'nearest_neighbors_num': 175, 'alpha': 0.0}. Best is trial 2 with value: 0.15614767582307007.\u001b[0m\n"
     ]
    },
    {
     "name": "stdout",
     "output_type": "stream",
     "text": [
      "TIFUKNN fitting...\n"
     ]
    },
    {
     "name": "stderr",
     "output_type": "stream",
     "text": [
      "100%|██████████| 2358/2358 [02:01<00:00, 19.45it/s]\n",
      "100%|██████████| 2357/2357 [02:38<00:00, 14.89it/s]\n",
      "\u001b[32m[I 2023-04-24 13:28:55,209]\u001b[0m Trial 7 finished with value: 0.095779054181922 and parameters: {'group_num': 4, 'within_decay_rate': 0.2, 'group_decay_rate': 0.9, 'nearest_neighbors_num': 25, 'alpha': 0.6000000000000001}. Best is trial 2 with value: 0.15614767582307007.\u001b[0m\n"
     ]
    },
    {
     "name": "stdout",
     "output_type": "stream",
     "text": [
      "TIFUKNN fitting...\n"
     ]
    },
    {
     "name": "stderr",
     "output_type": "stream",
     "text": [
      "100%|██████████| 2358/2358 [02:14<00:00, 17.57it/s]\n",
      "100%|██████████| 2357/2357 [06:16<00:00,  6.26it/s]\n",
      "\u001b[32m[I 2023-04-24 13:37:35,435]\u001b[0m Trial 8 finished with value: 0.1527917644962287 and parameters: {'group_num': 6, 'within_decay_rate': 0.9, 'group_decay_rate': 0.2, 'nearest_neighbors_num': 450, 'alpha': 0.30000000000000004}. Best is trial 2 with value: 0.15614767582307007.\u001b[0m\n"
     ]
    },
    {
     "name": "stdout",
     "output_type": "stream",
     "text": [
      "TIFUKNN fitting...\n"
     ]
    },
    {
     "name": "stderr",
     "output_type": "stream",
     "text": [
      "100%|██████████| 2358/2358 [02:28<00:00, 15.87it/s]\n",
      "100%|██████████| 2357/2357 [03:36<00:00, 10.88it/s]\n",
      "\u001b[32m[I 2023-04-24 13:43:47,379]\u001b[0m Trial 9 finished with value: 0.0879922526124206 and parameters: {'group_num': 8, 'within_decay_rate': 0.30000000000000004, 'group_decay_rate': 0.9, 'nearest_neighbors_num': 175, 'alpha': 0.1}. Best is trial 2 with value: 0.15614767582307007.\u001b[0m\n"
     ]
    },
    {
     "name": "stdout",
     "output_type": "stream",
     "text": [
      "TIFUKNN fitting...\n"
     ]
    },
    {
     "name": "stderr",
     "output_type": "stream",
     "text": [
      "100%|██████████| 2358/2358 [01:45<00:00, 22.33it/s]\n",
      "100%|██████████| 2357/2357 [04:17<00:00,  9.14it/s]\n",
      "\u001b[32m[I 2023-04-24 13:49:58,997]\u001b[0m Trial 10 finished with value: 0.1615120370126956 and parameters: {'group_num': 2, 'within_decay_rate': 1.0, 'group_decay_rate': 0.1, 'nearest_neighbors_num': 250, 'alpha': 1.0}. Best is trial 10 with value: 0.1615120370126956.\u001b[0m\n"
     ]
    },
    {
     "name": "stdout",
     "output_type": "stream",
     "text": [
      "TIFUKNN fitting...\n"
     ]
    },
    {
     "name": "stderr",
     "output_type": "stream",
     "text": [
      "100%|██████████| 2358/2358 [01:46<00:00, 22.13it/s]\n",
      "100%|██████████| 2357/2357 [03:32<00:00, 11.12it/s]\n",
      "\u001b[32m[I 2023-04-24 13:55:23,091]\u001b[0m Trial 11 finished with value: 0.1615120370126956 and parameters: {'group_num': 2, 'within_decay_rate': 1.0, 'group_decay_rate': 0.1, 'nearest_neighbors_num': 250, 'alpha': 1.0}. Best is trial 10 with value: 0.1615120370126956.\u001b[0m\n"
     ]
    },
    {
     "name": "stdout",
     "output_type": "stream",
     "text": [
      "TIFUKNN fitting...\n"
     ]
    },
    {
     "name": "stderr",
     "output_type": "stream",
     "text": [
      "100%|██████████| 2358/2358 [01:45<00:00, 22.28it/s]\n",
      "100%|██████████| 2357/2357 [03:50<00:00, 10.21it/s]\n",
      "\u001b[32m[I 2023-04-24 14:01:07,402]\u001b[0m Trial 12 finished with value: 0.1615120370126956 and parameters: {'group_num': 2, 'within_decay_rate': 1.0, 'group_decay_rate': 0.1, 'nearest_neighbors_num': 225, 'alpha': 1.0}. Best is trial 10 with value: 0.1615120370126956.\u001b[0m\n"
     ]
    },
    {
     "name": "stdout",
     "output_type": "stream",
     "text": [
      "TIFUKNN fitting...\n"
     ]
    },
    {
     "name": "stderr",
     "output_type": "stream",
     "text": [
      "100%|██████████| 2358/2358 [01:47<00:00, 21.99it/s]\n",
      "100%|██████████| 2357/2357 [04:45<00:00,  8.25it/s]\n",
      "\u001b[32m[I 2023-04-24 14:07:45,877]\u001b[0m Trial 13 finished with value: 0.10810371822947634 and parameters: {'group_num': 2, 'within_decay_rate': 0.5, 'group_decay_rate': 0.4, 'nearest_neighbors_num': 275, 'alpha': 1.0}. Best is trial 10 with value: 0.1615120370126956.\u001b[0m\n"
     ]
    },
    {
     "name": "stdout",
     "output_type": "stream",
     "text": [
      "TIFUKNN fitting...\n"
     ]
    },
    {
     "name": "stderr",
     "output_type": "stream",
     "text": [
      "100%|██████████| 2358/2358 [01:53<00:00, 20.85it/s]\n",
      "100%|██████████| 2357/2357 [03:30<00:00, 11.20it/s]\n",
      "\u001b[32m[I 2023-04-24 14:13:14,822]\u001b[0m Trial 14 finished with value: 0.14149236243295835 and parameters: {'group_num': 3, 'within_decay_rate': 0.8, 'group_decay_rate': 0.30000000000000004, 'nearest_neighbors_num': 200, 'alpha': 0.9}. Best is trial 10 with value: 0.1615120370126956.\u001b[0m\n"
     ]
    },
    {
     "name": "stdout",
     "output_type": "stream",
     "text": [
      "TIFUKNN fitting...\n"
     ]
    },
    {
     "name": "stderr",
     "output_type": "stream",
     "text": [
      "100%|██████████| 2358/2358 [01:51<00:00, 21.09it/s]\n",
      "100%|██████████| 2357/2357 [02:52<00:00, 13.67it/s]\n",
      "\u001b[32m[I 2023-04-24 14:18:04,741]\u001b[0m Trial 15 finished with value: 0.17068007003990598 and parameters: {'group_num': 3, 'within_decay_rate': 1.0, 'group_decay_rate': 0.1, 'nearest_neighbors_num': 100, 'alpha': 0.8}. Best is trial 15 with value: 0.17068007003990598.\u001b[0m\n"
     ]
    },
    {
     "name": "stdout",
     "output_type": "stream",
     "text": [
      "TIFUKNN fitting...\n"
     ]
    },
    {
     "name": "stderr",
     "output_type": "stream",
     "text": [
      "100%|██████████| 2358/2358 [01:59<00:00, 19.72it/s]\n",
      "100%|██████████| 2357/2357 [02:48<00:00, 13.97it/s]\n",
      "\u001b[32m[I 2023-04-24 14:23:00,960]\u001b[0m Trial 16 finished with value: 0.11353122240930302 and parameters: {'group_num': 4, 'within_decay_rate': 0.5, 'group_decay_rate': 0.5, 'nearest_neighbors_num': 75, 'alpha': 0.8}. Best is trial 15 with value: 0.17068007003990598.\u001b[0m\n"
     ]
    },
    {
     "name": "stdout",
     "output_type": "stream",
     "text": [
      "TIFUKNN fitting...\n"
     ]
    },
    {
     "name": "stderr",
     "output_type": "stream",
     "text": [
      "100%|██████████| 2358/2358 [01:52<00:00, 20.98it/s]\n",
      "100%|██████████| 2357/2357 [02:57<00:00, 13.27it/s]\n",
      "\u001b[32m[I 2023-04-24 14:27:59,341]\u001b[0m Trial 17 finished with value: 0.14566834996004863 and parameters: {'group_num': 3, 'within_decay_rate': 0.8, 'group_decay_rate': 0.2, 'nearest_neighbors_num': 125, 'alpha': 0.8}. Best is trial 15 with value: 0.17068007003990598.\u001b[0m\n"
     ]
    },
    {
     "name": "stdout",
     "output_type": "stream",
     "text": [
      "TIFUKNN fitting...\n"
     ]
    },
    {
     "name": "stderr",
     "output_type": "stream",
     "text": [
      "100%|██████████| 2358/2358 [01:49<00:00, 21.55it/s]\n",
      "100%|██████████| 2357/2357 [02:38<00:00, 14.87it/s]\n",
      "\u001b[32m[I 2023-04-24 14:32:33,510]\u001b[0m Trial 18 finished with value: 0.16233130600796747 and parameters: {'group_num': 3, 'within_decay_rate': 0.9, 'group_decay_rate': 0.30000000000000004, 'nearest_neighbors_num': 25, 'alpha': 0.9}. Best is trial 15 with value: 0.17068007003990598.\u001b[0m\n"
     ]
    },
    {
     "name": "stdout",
     "output_type": "stream",
     "text": [
      "TIFUKNN fitting...\n"
     ]
    },
    {
     "name": "stderr",
     "output_type": "stream",
     "text": [
      "100%|██████████| 2358/2358 [02:05<00:00, 18.74it/s]\n",
      "100%|██████████| 2357/2357 [02:37<00:00, 14.95it/s]\n",
      "\u001b[32m[I 2023-04-24 14:37:25,254]\u001b[0m Trial 19 finished with value: 0.13034484311075023 and parameters: {'group_num': 5, 'within_decay_rate': 0.7000000000000001, 'group_decay_rate': 0.30000000000000004, 'nearest_neighbors_num': 25, 'alpha': 0.7000000000000001}. Best is trial 15 with value: 0.17068007003990598.\u001b[0m\n"
     ]
    },
    {
     "name": "stdout",
     "output_type": "stream",
     "text": [
      "TIFUKNN fitting...\n"
     ]
    },
    {
     "name": "stderr",
     "output_type": "stream",
     "text": [
      "100%|██████████| 2358/2358 [01:52<00:00, 21.04it/s]\n",
      "100%|██████████| 2357/2357 [02:48<00:00, 13.96it/s]\n",
      "\u001b[32m[I 2023-04-24 14:42:11,612]\u001b[0m Trial 20 finished with value: 0.16392089723355227 and parameters: {'group_num': 3, 'within_decay_rate': 0.9, 'group_decay_rate': 0.5, 'nearest_neighbors_num': 75, 'alpha': 0.30000000000000004}. Best is trial 15 with value: 0.17068007003990598.\u001b[0m\n"
     ]
    },
    {
     "name": "stdout",
     "output_type": "stream",
     "text": [
      "TIFUKNN fitting...\n"
     ]
    },
    {
     "name": "stderr",
     "output_type": "stream",
     "text": [
      "100%|██████████| 2358/2358 [01:52<00:00, 21.00it/s]\n",
      "100%|██████████| 2357/2357 [02:48<00:00, 14.00it/s]\n",
      "\u001b[32m[I 2023-04-24 14:46:57,747]\u001b[0m Trial 21 finished with value: 0.15856816582491384 and parameters: {'group_num': 3, 'within_decay_rate': 0.9, 'group_decay_rate': 0.5, 'nearest_neighbors_num': 75, 'alpha': 0.2}. Best is trial 15 with value: 0.17068007003990598.\u001b[0m\n"
     ]
    },
    {
     "name": "stdout",
     "output_type": "stream",
     "text": [
      "TIFUKNN fitting...\n"
     ]
    },
    {
     "name": "stderr",
     "output_type": "stream",
     "text": [
      "100%|██████████| 2358/2358 [02:02<00:00, 19.32it/s]\n",
      "100%|██████████| 2357/2357 [02:58<00:00, 13.19it/s]\n",
      "\u001b[32m[I 2023-04-24 14:52:06,481]\u001b[0m Trial 22 finished with value: 0.1599942690657107 and parameters: {'group_num': 5, 'within_decay_rate': 0.9, 'group_decay_rate': 0.4, 'nearest_neighbors_num': 125, 'alpha': 0.30000000000000004}. Best is trial 15 with value: 0.17068007003990598.\u001b[0m\n"
     ]
    },
    {
     "name": "stdout",
     "output_type": "stream",
     "text": [
      "TIFUKNN fitting...\n"
     ]
    },
    {
     "name": "stderr",
     "output_type": "stream",
     "text": [
      "100%|██████████| 2358/2358 [01:49<00:00, 21.62it/s]\n",
      "100%|██████████| 2357/2357 [02:44<00:00, 14.32it/s]\n",
      "\u001b[32m[I 2023-04-24 14:56:47,045]\u001b[0m Trial 23 finished with value: 0.1352820656812531 and parameters: {'group_num': 3, 'within_decay_rate': 0.7000000000000001, 'group_decay_rate': 0.6, 'nearest_neighbors_num': 50, 'alpha': 0.5}. Best is trial 15 with value: 0.17068007003990598.\u001b[0m\n"
     ]
    },
    {
     "name": "stdout",
     "output_type": "stream",
     "text": [
      "TIFUKNN fitting...\n"
     ]
    },
    {
     "name": "stderr",
     "output_type": "stream",
     "text": [
      "100%|██████████| 2358/2358 [01:56<00:00, 20.24it/s]\n",
      "100%|██████████| 2357/2357 [03:00<00:00, 13.05it/s]\n",
      "\u001b[32m[I 2023-04-24 15:01:50,118]\u001b[0m Trial 24 finished with value: 0.1575971068680349 and parameters: {'group_num': 4, 'within_decay_rate': 0.9, 'group_decay_rate': 0.2, 'nearest_neighbors_num': 150, 'alpha': 0.9}. Best is trial 15 with value: 0.17068007003990598.\u001b[0m\n"
     ]
    }
   ],
   "source": [
    "sampler = optuna.samplers.TPESampler(seed=seed)\n",
    "study = optuna.create_study(direction=\"maximize\", sampler=sampler)\n",
    "study.optimize(objective, n_trials=25)"
   ]
  },
  {
   "cell_type": "markdown",
   "id": "qssPR7BeeMJQ",
   "metadata": {
    "id": "qssPR7BeeMJQ"
   },
   "source": [
    "Test:"
   ]
  },
  {
   "cell_type": "code",
   "execution_count": null,
   "id": "6K2mP3c67Min",
   "metadata": {
    "colab": {
     "base_uri": "https://localhost:8080/"
    },
    "id": "6K2mP3c67Min",
    "outputId": "f221073b-f523-4337-d097-a6463a21a562"
   },
   "outputs": [
    {
     "name": "stdout",
     "output_type": "stream",
     "text": [
      "train dataset preparing...\n"
     ]
    },
    {
     "name": "stderr",
     "output_type": "stream",
     "text": [
      "100%|██████████| 2358/2358 [00:09<00:00, 243.37it/s]\n"
     ]
    },
    {
     "name": "stdout",
     "output_type": "stream",
     "text": [
      "dev dataset preparing...\n"
     ]
    },
    {
     "name": "stderr",
     "output_type": "stream",
     "text": [
      "100%|██████████| 2357/2357 [00:08<00:00, 279.67it/s]\n"
     ]
    },
    {
     "name": "stdout",
     "output_type": "stream",
     "text": [
      "test dataset preparing...\n"
     ]
    },
    {
     "name": "stderr",
     "output_type": "stream",
     "text": [
      "100%|██████████| 2357/2357 [00:09<00:00, 240.19it/s]\n"
     ]
    },
    {
     "name": "stdout",
     "output_type": "stream",
     "text": [
      "TIFUKNN fitting...\n"
     ]
    },
    {
     "name": "stderr",
     "output_type": "stream",
     "text": [
      "100%|██████████| 2358/2358 [00:43<00:00, 54.73it/s]\n"
     ]
    }
   ],
   "source": [
    "trainer = NBRTrainer(\n",
    "    corpus=corpus,\n",
    "    max_epochs=None,\n",
    "    topk=10,\n",
    "    early_stop_num=None\n",
    ")\n",
    "params = {\n",
    "    \"model\": TIFUKNN(\n",
    "        item_num=corpus.n_items,\n",
    "        user_num=corpus.n_users,\n",
    "        group_num=study.best_params[\"group_num\"],\n",
    "        within_decay_rate=study.best_params[\"within_decay_rate\"],\n",
    "        group_decay_rate=study.best_params[\"group_decay_rate\"],\n",
    "        nearest_neighbors_num=study.best_params[\"nearest_neighbors_num\"],\n",
    "        alpha=study.best_params[\"alpha\"],\n",
    "        corpus=corpus\n",
    "    )\n",
    "}\n",
    "\n",
    "trainer.init_hyperparams(**params)"
   ]
  },
  {
   "cell_type": "code",
   "execution_count": null,
   "id": "ahS0yDkJg-y9",
   "metadata": {
    "colab": {
     "base_uri": "https://localhost:8080/"
    },
    "id": "ahS0yDkJg-y9",
    "outputId": "f2e6ff48-e3e4-403d-b9f7-e09b60060565"
   },
   "outputs": [
    {
     "name": "stderr",
     "output_type": "stream",
     "text": [
      "100%|██████████| 2357/2357 [01:52<00:00, 20.92it/s]\n"
     ]
    },
    {
     "data": {
      "text/plain": [
       "{'precision': 0.11565549427238016,\n",
       " 'recall': 0.16531576301767698,\n",
       " 'ndcg': 0.16128563456518297}"
      ]
     },
     "execution_count": 22,
     "metadata": {},
     "output_type": "execute_result"
    }
   ],
   "source": [
    "trainer.evaluate(mode=\"test\")"
   ]
  },
  {
   "cell_type": "code",
   "execution_count": null,
   "id": "7XB1Y0Q47Mol",
   "metadata": {
    "id": "7XB1Y0Q47Mol"
   },
   "outputs": [],
   "source": []
  },
  {
   "cell_type": "code",
   "execution_count": null,
   "id": "xZGBQoEu7Mrp",
   "metadata": {
    "id": "xZGBQoEu7Mrp"
   },
   "outputs": [],
   "source": []
  }
 ],
 "metadata": {
  "colab": {
   "provenance": []
  },
  "kernelspec": {
   "display_name": "Python 3 (ipykernel)",
   "language": "python",
   "name": "python3"
  },
  "language_info": {
   "codemirror_mode": {
    "name": "ipython",
    "version": 3
   },
   "file_extension": ".py",
   "mimetype": "text/x-python",
   "name": "python",
   "nbconvert_exporter": "python",
   "pygments_lexer": "ipython3",
   "version": "3.11.0"
  }
 },
 "nbformat": 4,
 "nbformat_minor": 5
}
