{
  "cells": [
    {
      "cell_type": "code",
      "execution_count": null,
      "metadata": {
        "id": "c050939c"
      },
      "outputs": [],
      "source": [
        "import os\n",
        "import sys\n",
        "sys.path.append(\"..\")\n",
        "from nbr.preparation import Preprocess, save_split, Corpus\n",
        "from nbr.trainer import NBRTrainer\n",
        "from nbr.model import RepurchaseModule, NBRKNN\n",
        "import torch\n",
        "import random\n",
        "import numpy as np\n",
        "import optuna\n",
        "import warnings\n",
        "warnings.filterwarnings(\"ignore\")"
      ],
      "id": "c050939c"
    },
    {
      "cell_type": "markdown",
      "metadata": {
        "id": "lmDThZjM1F0o"
      },
      "source": [
        "# TaFeng"
      ],
      "id": "lmDThZjM1F0o"
    },
    {
      "cell_type": "markdown",
      "metadata": {
        "id": "05yruxYdAoaS"
      },
      "source": [
        "Fix seed:"
      ],
      "id": "05yruxYdAoaS"
    },
    {
      "cell_type": "code",
      "execution_count": null,
      "metadata": {
        "id": "9Fjvj_WgwcdC"
      },
      "outputs": [],
      "source": [
        "seed = 10\n",
        "torch.manual_seed(seed)\n",
        "random.seed(seed)\n",
        "np.random.seed(seed)"
      ],
      "id": "9Fjvj_WgwcdC"
    },
    {
      "cell_type": "markdown",
      "metadata": {
        "id": "ceLGEu8CArlm"
      },
      "source": [
        "Read interactions data (filter users with less than 5 transactions, high purchase frequency and one-day users and items with less than 10 transactions). Train dataset - all baskets except the last two, validation dataset - the last but one basket, test dataset - the last basket:"
      ],
      "id": "ceLGEu8CArlm"
    },
    {
      "cell_type": "code",
      "execution_count": null,
      "metadata": {
        "colab": {
          "base_uri": "https://localhost:8080/"
        },
        "id": "7edb4953",
        "outputId": "a83b7909-821d-4ed5-eb9e-d0276631bf8c"
      },
      "outputs": [
        {
          "name": "stdout",
          "output_type": "stream",
          "text": [
            "Before preprocessing: #users = 32266, #items = 23812, #clicks = 817741 (#illegal records = 0)\n",
            "After preprocessing: #users = 7358, #items = 11202, #clicks = 368951\n",
            "Saving dataset in ./data//data_ta_feng/...\n"
          ]
        }
      ],
      "source": [
        "corpus_path = \"./data/\"\n",
        "dataset_name = \"ta_feng\"\n",
        "\n",
        "preprocessor = Preprocess(corpus_path, dataset_name)\n",
        "preprocessor.load_data(5, 10, filt=True)\n",
        "save_split(corpus_path, dataset_name, preprocessor)"
      ],
      "id": "7edb4953"
    },
    {
      "cell_type": "code",
      "execution_count": null,
      "metadata": {
        "id": "501294f7"
      },
      "outputs": [],
      "source": [
        "corpus = Corpus(corpus_path, dataset_name)\n",
        "corpus.load_data()"
      ],
      "id": "501294f7"
    },
    {
      "cell_type": "markdown",
      "metadata": {
        "id": "MbFgpvd1Jd1H"
      },
      "source": [
        "Train Repurchase Module with best hyperparams (see ./testing_repurchasemodule.ipynb):"
      ],
      "id": "MbFgpvd1Jd1H"
    },
    {
      "cell_type": "code",
      "execution_count": null,
      "metadata": {
        "colab": {
          "base_uri": "https://localhost:8080/"
        },
        "id": "0RjHRyx3ABnN",
        "outputId": "80dfed7f-c3b7-4905-9210-49f5cf795fc9"
      },
      "outputs": [
        {
          "name": "stdout",
          "output_type": "stream",
          "text": [
            "train dataset preparing...\n"
          ]
        },
        {
          "name": "stderr",
          "output_type": "stream",
          "text": [
            "100%|██████████| 7358/7358 [00:15<00:00, 461.82it/s]\n"
          ]
        },
        {
          "name": "stdout",
          "output_type": "stream",
          "text": [
            "dev dataset preparing...\n"
          ]
        },
        {
          "name": "stderr",
          "output_type": "stream",
          "text": [
            "100%|██████████| 7357/7357 [00:03<00:00, 2337.01it/s]\n"
          ]
        },
        {
          "name": "stdout",
          "output_type": "stream",
          "text": [
            "test dataset preparing...\n"
          ]
        },
        {
          "name": "stderr",
          "output_type": "stream",
          "text": [
            "100%|██████████| 7357/7357 [00:02<00:00, 2753.44it/s]\n"
          ]
        }
      ],
      "source": [
        "trainer = NBRTrainer(\n",
        "    corpus=corpus,\n",
        "    max_epochs=20,\n",
        "    topk=10,\n",
        "    early_stop_num=3\n",
        ")"
      ],
      "id": "0RjHRyx3ABnN"
    },
    {
      "cell_type": "code",
      "execution_count": null,
      "metadata": {
        "id": "K5zdVv7D-NvQ"
      },
      "outputs": [],
      "source": [
        "slrc_best_params = {'batch_size': 256, 'lr': 0.00011201144001505824, 'l2_reg_coef': 0.00011498224071460201}\n",
        "\n",
        "params = {\n",
        "    \"model\": RepurchaseModule(\n",
        "        item_num=corpus.n_items,\n",
        "        avg_repeat_interval=corpus.total_avg_interval\n",
        "    ),\n",
        "    \"batch_size\": slrc_best_params[\"batch_size\"],\n",
        "    \"lr\": slrc_best_params[\"lr\"],\n",
        "    \"l2_reg_coef\": slrc_best_params[\"l2_reg_coef\"]\n",
        "}\n",
        "\n",
        "trainer.init_hyperparams(**params)"
      ],
      "id": "K5zdVv7D-NvQ"
    },
    {
      "cell_type": "code",
      "execution_count": null,
      "metadata": {
        "colab": {
          "base_uri": "https://localhost:8080/"
        },
        "id": "G6B-UhYuLooT",
        "outputId": "50fca8b4-a543-4891-d440-58d889d7b07e"
      },
      "outputs": [
        {
          "name": "stdout",
          "output_type": "stream",
          "text": [
            "Epoch 1:\n"
          ]
        },
        {
          "name": "stderr",
          "output_type": "stream",
          "text": [
            "Batch loss = 0.676425: 100%|██████████| 1112/1112 [00:25<00:00, 43.51it/s]\n"
          ]
        },
        {
          "name": "stdout",
          "output_type": "stream",
          "text": [
            "\n",
            "Evaluation (dev):\n"
          ]
        },
        {
          "name": "stderr",
          "output_type": "stream",
          "text": [
            "100%|██████████| 7357/7357 [02:11<00:00, 55.96it/s]"
          ]
        },
        {
          "name": "stdout",
          "output_type": "stream",
          "text": [
            "\n",
            " {'precision': 0.05195052331113225, 'recall': 0.11515703682338883, 'ndcg': 0.10148815950513894}\n",
            "Epoch 2:\n"
          ]
        },
        {
          "name": "stderr",
          "output_type": "stream",
          "text": [
            "\n",
            "Batch loss = 0.676221: 100%|██████████| 1112/1112 [00:23<00:00, 48.28it/s]"
          ]
        },
        {
          "name": "stdout",
          "output_type": "stream",
          "text": [
            "\n",
            "Evaluation (dev):\n"
          ]
        },
        {
          "name": "stderr",
          "output_type": "stream",
          "text": [
            "\n",
            "100%|██████████| 7357/7357 [02:09<00:00, 56.70it/s]"
          ]
        },
        {
          "name": "stdout",
          "output_type": "stream",
          "text": [
            "\n",
            " {'precision': 0.05242626070409134, 'recall': 0.11624861635726887, 'ndcg': 0.10236469000386939}\n",
            "Epoch 3:\n"
          ]
        },
        {
          "name": "stderr",
          "output_type": "stream",
          "text": [
            "\n",
            "Batch loss = 0.676014: 100%|██████████| 1112/1112 [00:24<00:00, 44.81it/s]"
          ]
        },
        {
          "name": "stdout",
          "output_type": "stream",
          "text": [
            "\n",
            "Evaluation (dev):\n"
          ]
        },
        {
          "name": "stderr",
          "output_type": "stream",
          "text": [
            "\n",
            "100%|██████████| 7357/7357 [02:13<00:00, 55.12it/s]"
          ]
        },
        {
          "name": "stdout",
          "output_type": "stream",
          "text": [
            "\n",
            " {'precision': 0.052657333152100035, 'recall': 0.11643473131931699, 'ndcg': 0.10294663089929013}\n",
            "Epoch 4:\n"
          ]
        },
        {
          "name": "stderr",
          "output_type": "stream",
          "text": [
            "\n",
            "Batch loss = 0.675803: 100%|██████████| 1112/1112 [00:22<00:00, 49.18it/s]"
          ]
        },
        {
          "name": "stdout",
          "output_type": "stream",
          "text": [
            "\n",
            "Evaluation (dev):\n"
          ]
        },
        {
          "name": "stderr",
          "output_type": "stream",
          "text": [
            "\n",
            "100%|██████████| 7357/7357 [02:11<00:00, 55.96it/s]"
          ]
        },
        {
          "name": "stdout",
          "output_type": "stream",
          "text": [
            "\n",
            " {'precision': 0.0527117031398668, 'recall': 0.11636928241260278, 'ndcg': 0.10297710339558913}\n",
            "Epoch 5:\n"
          ]
        },
        {
          "name": "stderr",
          "output_type": "stream",
          "text": [
            "\n",
            "Batch loss = 0.67559: 100%|██████████| 1112/1112 [00:22<00:00, 50.34it/s]"
          ]
        },
        {
          "name": "stdout",
          "output_type": "stream",
          "text": [
            "\n",
            "Evaluation (dev):\n"
          ]
        },
        {
          "name": "stderr",
          "output_type": "stream",
          "text": [
            "\n",
            "100%|██████████| 7357/7357 [02:16<00:00, 53.81it/s]"
          ]
        },
        {
          "name": "stdout",
          "output_type": "stream",
          "text": [
            "\n",
            " {'precision': 0.052820443115400295, 'recall': 0.1163978595344264, 'ndcg': 0.10288667894946825}\n",
            "Epoch 6:\n"
          ]
        },
        {
          "name": "stderr",
          "output_type": "stream",
          "text": [
            "\n",
            "Batch loss = 0.675375: 100%|██████████| 1112/1112 [00:22<00:00, 48.75it/s]\n"
          ]
        },
        {
          "name": "stdout",
          "output_type": "stream",
          "text": [
            "\n",
            "Evaluation (dev):\n"
          ]
        },
        {
          "name": "stderr",
          "output_type": "stream",
          "text": [
            "100%|██████████| 7357/7357 [02:12<00:00, 55.54it/s]"
          ]
        },
        {
          "name": "stdout",
          "output_type": "stream",
          "text": [
            "\n",
            " {'precision': 0.05286122060622536, 'recall': 0.11661878096090342, 'ndcg': 0.10300096181938187}\n",
            "Epoch 7:\n"
          ]
        },
        {
          "name": "stderr",
          "output_type": "stream",
          "text": [
            "\n",
            "Batch loss = 0.675158: 100%|██████████| 1112/1112 [00:21<00:00, 50.58it/s]"
          ]
        },
        {
          "name": "stdout",
          "output_type": "stream",
          "text": [
            "\n",
            "Evaluation (dev):\n"
          ]
        },
        {
          "name": "stderr",
          "output_type": "stream",
          "text": [
            "\n",
            "100%|██████████| 7357/7357 [02:14<00:00, 54.87it/s]"
          ]
        },
        {
          "name": "stdout",
          "output_type": "stream",
          "text": [
            "\n",
            " {'precision': 0.052752480630691864, 'recall': 0.11635567534079697, 'ndcg': 0.10284861376242276}\n",
            "Epoch 8:\n"
          ]
        },
        {
          "name": "stderr",
          "output_type": "stream",
          "text": [
            "\n",
            "Batch loss = 0.674938: 100%|██████████| 1112/1112 [00:22<00:00, 48.85it/s]"
          ]
        },
        {
          "name": "stdout",
          "output_type": "stream",
          "text": [
            "\n",
            "Evaluation (dev):\n"
          ]
        },
        {
          "name": "stderr",
          "output_type": "stream",
          "text": [
            "\n",
            "100%|██████████| 7357/7357 [02:10<00:00, 56.37it/s]"
          ]
        },
        {
          "name": "stdout",
          "output_type": "stream",
          "text": [
            "\n",
            " {'precision': 0.05267092564904173, 'recall': 0.11613774389070566, 'ndcg': 0.10256797513574398}\n",
            "Epoch 9:\n"
          ]
        },
        {
          "name": "stderr",
          "output_type": "stream",
          "text": [
            "\n",
            "Batch loss = 0.674717: 100%|██████████| 1112/1112 [00:23<00:00, 48.21it/s]"
          ]
        },
        {
          "name": "stdout",
          "output_type": "stream",
          "text": [
            "\n",
            "Evaluation (dev):\n"
          ]
        },
        {
          "name": "stderr",
          "output_type": "stream",
          "text": [
            "\n",
            "100%|██████████| 7357/7357 [02:12<00:00, 55.63it/s]"
          ]
        },
        {
          "name": "stdout",
          "output_type": "stream",
          "text": [
            "\n",
            " {'precision': 0.05253500067962485, 'recall': 0.11583893124912728, 'ndcg': 0.10218510742709311}\n"
          ]
        },
        {
          "name": "stderr",
          "output_type": "stream",
          "text": [
            "\n"
          ]
        },
        {
          "data": {
            "text/plain": [
              "SLRCSimple()"
            ]
          },
          "execution_count": 9,
          "metadata": {},
          "output_type": "execute_result"
        }
      ],
      "source": [
        "trainer.train()"
      ],
      "id": "G6B-UhYuLooT"
    },
    {
      "cell_type": "markdown",
      "metadata": {
        "id": "Q0HvcYVUKDQv"
      },
      "source": [
        "Save users' embeddings for validation step (user's embedding for validation step is his vector of recommendation scores for all items at the time of validation):"
      ],
      "id": "Q0HvcYVUKDQv"
    },
    {
      "cell_type": "code",
      "execution_count": null,
      "metadata": {
        "colab": {
          "base_uri": "https://localhost:8080/"
        },
        "id": "1RQXy-XWzgQX",
        "outputId": "bf6de0b4-7274-4452-f476-00391779c463"
      },
      "outputs": [
        {
          "name": "stderr",
          "output_type": "stream",
          "text": [
            "100%|██████████| 7357/7357 [02:09<00:00, 56.77it/s]\n"
          ]
        }
      ],
      "source": [
        "dev_user_emb = trainer.get_predictions(mode=\"dev\")"
      ],
      "id": "1RQXy-XWzgQX"
    },
    {
      "cell_type": "markdown",
      "metadata": {
        "id": "cqFtJjVlHNOm"
      },
      "source": [
        "Tune Neighborhood Module hyperparams on validation dataset:"
      ],
      "id": "cqFtJjVlHNOm"
    },
    {
      "cell_type": "code",
      "execution_count": null,
      "metadata": {
        "colab": {
          "base_uri": "https://localhost:8080/"
        },
        "id": "VTWJgXn2AM9u",
        "outputId": "3b7444fe-1baa-4c46-9012-91f3019a46fd"
      },
      "outputs": [
        {
          "name": "stdout",
          "output_type": "stream",
          "text": [
            "train dataset preparing...\n"
          ]
        },
        {
          "name": "stderr",
          "output_type": "stream",
          "text": [
            "100%|██████████| 7358/7358 [00:16<00:00, 456.30it/s]\n"
          ]
        },
        {
          "name": "stdout",
          "output_type": "stream",
          "text": [
            "dev dataset preparing...\n"
          ]
        },
        {
          "name": "stderr",
          "output_type": "stream",
          "text": [
            "100%|██████████| 7357/7357 [00:01<00:00, 4256.65it/s]\n"
          ]
        },
        {
          "name": "stdout",
          "output_type": "stream",
          "text": [
            "test dataset preparing...\n"
          ]
        },
        {
          "name": "stderr",
          "output_type": "stream",
          "text": [
            "100%|██████████| 7357/7357 [00:02<00:00, 3648.96it/s]\n"
          ]
        }
      ],
      "source": [
        "trainer = NBRTrainer(\n",
        "    corpus=corpus,\n",
        "    max_epochs=None,\n",
        "    topk=10,\n",
        "    early_stop_num=None\n",
        ")"
      ],
      "id": "VTWJgXn2AM9u"
    },
    {
      "cell_type": "code",
      "execution_count": null,
      "metadata": {
        "id": "57gGZs14AOY0"
      },
      "outputs": [],
      "source": [
        "def objective(trial):\n",
        "    params = {\n",
        "        \"model\": NBRKNN(\n",
        "            item_num=corpus.n_items,\n",
        "            user_num=corpus.n_users,\n",
        "            nearest_neighbors_num=trial.suggest_int(\"nearest_neighbors_num\", low=1, high=200),\n",
        "            alpha=trial.suggest_float(\"alpha\", 0.0, 1.0, step=0.05),\n",
        "            user_emb=dev_user_emb\n",
        "        )\n",
        "    }\n",
        "\n",
        "    trainer.init_hyperparams(**params)\n",
        "    metrics = trainer.evaluate(mode=\"dev\")\n",
        "    score = metrics[\"ndcg\"]\n",
        "    return score"
      ],
      "id": "57gGZs14AOY0"
    },
    {
      "cell_type": "code",
      "execution_count": null,
      "metadata": {
        "colab": {
          "base_uri": "https://localhost:8080/"
        },
        "id": "yvL5Gg5vAPx3",
        "outputId": "ef772ebe-c2ea-442a-ce9f-c96e7d7c5507"
      },
      "outputs": [
        {
          "name": "stderr",
          "output_type": "stream",
          "text": [
            "\u001b[32m[I 2023-05-02 16:14:51,370]\u001b[0m A new study created in memory with name: no-name-78ada8d3-286c-4a92-a7e1-b75ef3db60e8\u001b[0m\n",
            "100%|██████████| 7357/7357 [06:52<00:00, 17.81it/s]\n",
            "\u001b[32m[I 2023-05-02 16:21:52,078]\u001b[0m Trial 0 finished with value: 0.09548180430581692 and parameters: {'nearest_neighbors_num': 155, 'alpha': 0.0}. Best is trial 0 with value: 0.09548180430581692.\u001b[0m\n",
            "100%|██████████| 7357/7357 [06:44<00:00, 18.17it/s]\n",
            "\u001b[32m[I 2023-05-02 16:28:42,677]\u001b[0m Trial 1 finished with value: 0.10705625742842506 and parameters: {'nearest_neighbors_num': 127, 'alpha': 0.75}. Best is trial 1 with value: 0.10705625742842506.\u001b[0m\n",
            "100%|██████████| 7357/7357 [07:07<00:00, 17.19it/s]\n",
            "\u001b[32m[I 2023-05-02 16:35:56,900]\u001b[0m Trial 2 finished with value: 0.11094634153757461 and parameters: {'nearest_neighbors_num': 100, 'alpha': 0.2}. Best is trial 2 with value: 0.11094634153757461.\u001b[0m\n",
            "100%|██████████| 7357/7357 [06:41<00:00, 18.34it/s]\n",
            "\u001b[32m[I 2023-05-02 16:42:45,257]\u001b[0m Trial 3 finished with value: 0.10710593535576808 and parameters: {'nearest_neighbors_num': 40, 'alpha': 0.75}. Best is trial 2 with value: 0.11094634153757461.\u001b[0m\n",
            "100%|██████████| 7357/7357 [06:51<00:00, 17.87it/s]\n",
            "\u001b[32m[I 2023-05-02 16:49:45,322]\u001b[0m Trial 4 finished with value: 0.10306060904216452 and parameters: {'nearest_neighbors_num': 34, 'alpha': 0.05}. Best is trial 2 with value: 0.11094634153757461.\u001b[0m\n",
            "100%|██████████| 7357/7357 [07:05<00:00, 17.28it/s]\n",
            "\u001b[32m[I 2023-05-02 16:56:57,281]\u001b[0m Trial 5 finished with value: 0.10300096181938187 and parameters: {'nearest_neighbors_num': 138, 'alpha': 1.0}. Best is trial 2 with value: 0.11094634153757461.\u001b[0m\n",
            "100%|██████████| 7357/7357 [06:46<00:00, 18.11it/s]\n",
            "\u001b[32m[I 2023-05-02 17:03:51,715]\u001b[0m Trial 6 finished with value: 0.10300096181938187 and parameters: {'nearest_neighbors_num': 1, 'alpha': 0.5}. Best is trial 2 with value: 0.11094634153757461.\u001b[0m\n",
            "100%|██████████| 7357/7357 [07:05<00:00, 17.28it/s]\n",
            "\u001b[32m[I 2023-05-02 17:11:04,935]\u001b[0m Trial 7 finished with value: 0.10753296358456998 and parameters: {'nearest_neighbors_num': 163, 'alpha': 0.6000000000000001}. Best is trial 2 with value: 0.11094634153757461.\u001b[0m\n",
            "100%|██████████| 7357/7357 [07:16<00:00, 16.85it/s]\n",
            "\u001b[32m[I 2023-05-02 17:18:27,355]\u001b[0m Trial 8 finished with value: 0.10943598333410832 and parameters: {'nearest_neighbors_num': 145, 'alpha': 0.30000000000000004}. Best is trial 2 with value: 0.11094634153757461.\u001b[0m\n",
            "100%|██████████| 7357/7357 [07:06<00:00, 17.24it/s]\n",
            "\u001b[32m[I 2023-05-02 17:25:39,828]\u001b[0m Trial 9 finished with value: 0.10701854268011055 and parameters: {'nearest_neighbors_num': 184, 'alpha': 0.75}. Best is trial 2 with value: 0.11094634153757461.\u001b[0m\n",
            "100%|██████████| 7357/7357 [07:04<00:00, 17.34it/s]\n",
            "\u001b[32m[I 2023-05-02 17:32:52,555]\u001b[0m Trial 10 finished with value: 0.1099623228909746 and parameters: {'nearest_neighbors_num': 89, 'alpha': 0.25}. Best is trial 2 with value: 0.11094634153757461.\u001b[0m\n",
            "100%|██████████| 7357/7357 [06:42<00:00, 18.26it/s]\n",
            "\u001b[32m[I 2023-05-02 17:39:40,514]\u001b[0m Trial 11 finished with value: 0.10971402825733916 and parameters: {'nearest_neighbors_num': 87, 'alpha': 0.25}. Best is trial 2 with value: 0.11094634153757461.\u001b[0m\n",
            "100%|██████████| 7357/7357 [07:07<00:00, 17.21it/s]\n",
            "\u001b[32m[I 2023-05-02 17:46:53,705]\u001b[0m Trial 12 finished with value: 0.1096606286360313 and parameters: {'nearest_neighbors_num': 92, 'alpha': 0.25}. Best is trial 2 with value: 0.11094634153757461.\u001b[0m\n",
            "100%|██████████| 7357/7357 [06:43<00:00, 18.23it/s]\n",
            "\u001b[32m[I 2023-05-02 17:53:44,943]\u001b[0m Trial 13 finished with value: 0.11013256890960138 and parameters: {'nearest_neighbors_num': 69, 'alpha': 0.15000000000000002}. Best is trial 2 with value: 0.11094634153757461.\u001b[0m\n",
            "100%|██████████| 7357/7357 [06:51<00:00, 17.86it/s]\n",
            "\u001b[32m[I 2023-05-02 18:00:43,735]\u001b[0m Trial 14 finished with value: 0.10868667366666383 and parameters: {'nearest_neighbors_num': 60, 'alpha': 0.1}. Best is trial 2 with value: 0.11094634153757461.\u001b[0m\n",
            "100%|██████████| 7357/7357 [06:54<00:00, 17.77it/s]\n",
            "\u001b[32m[I 2023-05-02 18:07:44,728]\u001b[0m Trial 15 finished with value: 0.1085342016427732 and parameters: {'nearest_neighbors_num': 115, 'alpha': 0.4}. Best is trial 2 with value: 0.11094634153757461.\u001b[0m\n",
            "100%|██████████| 7357/7357 [06:56<00:00, 17.67it/s]\n",
            "\u001b[32m[I 2023-05-02 18:14:46,245]\u001b[0m Trial 16 finished with value: 0.11037147222030151 and parameters: {'nearest_neighbors_num': 64, 'alpha': 0.15000000000000002}. Best is trial 2 with value: 0.11094634153757461.\u001b[0m\n",
            "100%|██████████| 7357/7357 [06:20<00:00, 19.33it/s]\n",
            "\u001b[32m[I 2023-05-02 18:21:13,429]\u001b[0m Trial 17 finished with value: 0.10528621574219972 and parameters: {'nearest_neighbors_num': 6, 'alpha': 0.4}. Best is trial 2 with value: 0.11094634153757461.\u001b[0m\n",
            "100%|██████████| 7357/7357 [06:53<00:00, 17.79it/s]\n",
            "\u001b[32m[I 2023-05-02 18:28:13,500]\u001b[0m Trial 18 finished with value: 0.10872700880150069 and parameters: {'nearest_neighbors_num': 63, 'alpha': 0.1}. Best is trial 2 with value: 0.11094634153757461.\u001b[0m\n",
            "100%|██████████| 7357/7357 [06:29<00:00, 18.89it/s]\n",
            "\u001b[32m[I 2023-05-02 18:34:48,098]\u001b[0m Trial 19 finished with value: 0.10788864258118606 and parameters: {'nearest_neighbors_num': 38, 'alpha': 0.4}. Best is trial 2 with value: 0.11094634153757461.\u001b[0m\n",
            "100%|██████████| 7357/7357 [07:02<00:00, 17.40it/s]\n",
            "\u001b[32m[I 2023-05-02 18:41:59,148]\u001b[0m Trial 20 finished with value: 0.11088905634036439 and parameters: {'nearest_neighbors_num': 108, 'alpha': 0.15000000000000002}. Best is trial 2 with value: 0.11094634153757461.\u001b[0m\n",
            "100%|██████████| 7357/7357 [06:51<00:00, 17.86it/s]\n",
            "\u001b[32m[I 2023-05-02 18:48:58,890]\u001b[0m Trial 21 finished with value: 0.11093598644831427 and parameters: {'nearest_neighbors_num': 111, 'alpha': 0.15000000000000002}. Best is trial 2 with value: 0.11094634153757461.\u001b[0m\n",
            "100%|██████████| 7357/7357 [07:07<00:00, 17.21it/s]\n",
            "\u001b[32m[I 2023-05-02 18:56:11,707]\u001b[0m Trial 22 finished with value: 0.09669477744003609 and parameters: {'nearest_neighbors_num': 113, 'alpha': 0.0}. Best is trial 2 with value: 0.11094634153757461.\u001b[0m\n",
            "100%|██████████| 7357/7357 [06:54<00:00, 17.76it/s]\n",
            "\u001b[32m[I 2023-05-02 19:03:12,249]\u001b[0m Trial 23 finished with value: 0.1106770341223354 and parameters: {'nearest_neighbors_num': 108, 'alpha': 0.2}. Best is trial 2 with value: 0.11094634153757461.\u001b[0m\n",
            "100%|██████████| 7357/7357 [07:10<00:00, 17.07it/s]\n",
            "\u001b[32m[I 2023-05-02 19:10:29,749]\u001b[0m Trial 24 finished with value: 0.10893215051277272 and parameters: {'nearest_neighbors_num': 132, 'alpha': 0.35000000000000003}. Best is trial 2 with value: 0.11094634153757461.\u001b[0m\n"
          ]
        }
      ],
      "source": [
        "sampler = optuna.samplers.TPESampler(seed=seed)\n",
        "study = optuna.create_study(direction=\"maximize\", sampler=sampler)\n",
        "study.optimize(objective, n_trials=25)"
      ],
      "id": "yvL5Gg5vAPx3"
    },
    {
      "cell_type": "markdown",
      "metadata": {
        "id": "_7qj_JR5H2Tm"
      },
      "source": [
        "Test TAIWI (calculate scores for different seeds):"
      ],
      "id": "_7qj_JR5H2Tm"
    },
    {
      "cell_type": "code",
      "execution_count": null,
      "metadata": {
        "id": "9-0xZGsXHDt-"
      },
      "outputs": [],
      "source": [
        "test_metrics = {\n",
        "    \"precision\": [],\n",
        "    \"recall\": [],\n",
        "    \"ndcg\": []\n",
        "}"
      ],
      "id": "9-0xZGsXHDt-"
    },
    {
      "cell_type": "code",
      "execution_count": null,
      "metadata": {
        "colab": {
          "base_uri": "https://localhost:8080/"
        },
        "id": "sqD7bHwEZcwQ",
        "outputId": "566769e1-0b9f-4a02-bf19-c5492aa9be9d"
      },
      "outputs": [
        {
          "name": "stdout",
          "output_type": "stream",
          "text": [
            "\n",
            "___SEED___3\n",
            "train dataset preparing...\n"
          ]
        },
        {
          "name": "stderr",
          "output_type": "stream",
          "text": [
            "100%|██████████| 7358/7358 [00:11<00:00, 627.64it/s]\n"
          ]
        },
        {
          "name": "stdout",
          "output_type": "stream",
          "text": [
            "dev dataset preparing...\n"
          ]
        },
        {
          "name": "stderr",
          "output_type": "stream",
          "text": [
            "100%|██████████| 7357/7357 [00:01<00:00, 5010.40it/s]\n"
          ]
        },
        {
          "name": "stdout",
          "output_type": "stream",
          "text": [
            "test dataset preparing...\n"
          ]
        },
        {
          "name": "stderr",
          "output_type": "stream",
          "text": [
            "100%|██████████| 7357/7357 [00:01<00:00, 3886.18it/s]\n"
          ]
        },
        {
          "name": "stdout",
          "output_type": "stream",
          "text": [
            "Epoch 1:\n"
          ]
        },
        {
          "name": "stderr",
          "output_type": "stream",
          "text": [
            "Batch loss = 0.676474: 100%|██████████| 1112/1112 [00:17<00:00, 64.05it/s]"
          ]
        },
        {
          "name": "stdout",
          "output_type": "stream",
          "text": [
            "\n",
            "Evaluation (dev):\n"
          ]
        },
        {
          "name": "stderr",
          "output_type": "stream",
          "text": [
            "\n",
            "100%|██████████| 7357/7357 [01:23<00:00, 88.63it/s]"
          ]
        },
        {
          "name": "stdout",
          "output_type": "stream",
          "text": [
            "\n",
            " {'precision': 0.05195052331113225, 'recall': 0.1156230928626154, 'ndcg': 0.10197960100791124}\n",
            "Epoch 2:\n"
          ]
        },
        {
          "name": "stderr",
          "output_type": "stream",
          "text": [
            "\n",
            "Batch loss = 0.67627: 100%|██████████| 1112/1112 [00:16<00:00, 65.71it/s]"
          ]
        },
        {
          "name": "stdout",
          "output_type": "stream",
          "text": [
            "\n",
            "Evaluation (dev):\n"
          ]
        },
        {
          "name": "stderr",
          "output_type": "stream",
          "text": [
            "\n",
            "100%|██████████| 7357/7357 [01:19<00:00, 93.10it/s]"
          ]
        },
        {
          "name": "stdout",
          "output_type": "stream",
          "text": [
            "\n",
            " {'precision': 0.05231752072855783, 'recall': 0.11603974059049585, 'ndcg': 0.10256831109125367}\n",
            "Epoch 3:\n"
          ]
        },
        {
          "name": "stderr",
          "output_type": "stream",
          "text": [
            "\n",
            "Batch loss = 0.676062: 100%|██████████| 1112/1112 [00:16<00:00, 66.24it/s]"
          ]
        },
        {
          "name": "stdout",
          "output_type": "stream",
          "text": [
            "\n",
            "Evaluation (dev):\n"
          ]
        },
        {
          "name": "stderr",
          "output_type": "stream",
          "text": [
            "\n",
            "100%|██████████| 7357/7357 [01:20<00:00, 91.30it/s] "
          ]
        },
        {
          "name": "stdout",
          "output_type": "stream",
          "text": [
            "\n",
            " {'precision': 0.05245344569797472, 'recall': 0.11591048006986918, 'ndcg': 0.1027257458142659}\n",
            "Epoch 4:\n"
          ]
        },
        {
          "name": "stderr",
          "output_type": "stream",
          "text": [
            "\n",
            "Batch loss = 0.675851: 100%|██████████| 1112/1112 [00:16<00:00, 66.28it/s]\n"
          ]
        },
        {
          "name": "stdout",
          "output_type": "stream",
          "text": [
            "\n",
            "Evaluation (dev):\n"
          ]
        },
        {
          "name": "stderr",
          "output_type": "stream",
          "text": [
            "100%|██████████| 7357/7357 [01:21<00:00, 90.74it/s] "
          ]
        },
        {
          "name": "stdout",
          "output_type": "stream",
          "text": [
            "\n",
            " {'precision': 0.05250781568574146, 'recall': 0.11575319397368874, 'ndcg': 0.10271832963370045}\n",
            "Epoch 5:\n"
          ]
        },
        {
          "name": "stderr",
          "output_type": "stream",
          "text": [
            "\n",
            "Batch loss = 0.675638: 100%|██████████| 1112/1112 [00:16<00:00, 69.11it/s]"
          ]
        },
        {
          "name": "stdout",
          "output_type": "stream",
          "text": [
            "\n",
            "Evaluation (dev):\n"
          ]
        },
        {
          "name": "stderr",
          "output_type": "stream",
          "text": [
            "\n",
            "100%|██████████| 7357/7357 [01:21<00:00, 90.73it/s] "
          ]
        },
        {
          "name": "stdout",
          "output_type": "stream",
          "text": [
            "\n",
            " {'precision': 0.052643740655158346, 'recall': 0.11614537193572409, 'ndcg': 0.10285922667664568}\n",
            "Epoch 6:\n"
          ]
        },
        {
          "name": "stderr",
          "output_type": "stream",
          "text": [
            "\n",
            "Batch loss = 0.675423: 100%|██████████| 1112/1112 [00:16<00:00, 66.86it/s]"
          ]
        },
        {
          "name": "stdout",
          "output_type": "stream",
          "text": [
            "\n",
            "Evaluation (dev):\n"
          ]
        },
        {
          "name": "stderr",
          "output_type": "stream",
          "text": [
            "\n",
            "100%|██████████| 7357/7357 [01:20<00:00, 91.51it/s] "
          ]
        },
        {
          "name": "stdout",
          "output_type": "stream",
          "text": [
            "\n",
            " {'precision': 0.05276607312763355, 'recall': 0.11655349943530233, 'ndcg': 0.10290240449312202}\n",
            "Epoch 7:\n"
          ]
        },
        {
          "name": "stderr",
          "output_type": "stream",
          "text": [
            "\n",
            "Batch loss = 0.675206: 100%|██████████| 1112/1112 [00:16<00:00, 68.26it/s]"
          ]
        },
        {
          "name": "stdout",
          "output_type": "stream",
          "text": [
            "\n",
            "Evaluation (dev):\n"
          ]
        },
        {
          "name": "stderr",
          "output_type": "stream",
          "text": [
            "\n",
            "100%|██████████| 7357/7357 [01:20<00:00, 91.43it/s] "
          ]
        },
        {
          "name": "stdout",
          "output_type": "stream",
          "text": [
            "\n",
            " {'precision': 0.052779665624575235, 'recall': 0.11634911496685268, 'ndcg': 0.10273790106213881}\n",
            "Epoch 8:\n"
          ]
        },
        {
          "name": "stderr",
          "output_type": "stream",
          "text": [
            "\n",
            "Batch loss = 0.674986: 100%|██████████| 1112/1112 [00:16<00:00, 67.67it/s]"
          ]
        },
        {
          "name": "stdout",
          "output_type": "stream",
          "text": [
            "\n",
            "Evaluation (dev):\n"
          ]
        },
        {
          "name": "stderr",
          "output_type": "stream",
          "text": [
            "\n",
            "100%|██████████| 7357/7357 [01:20<00:00, 91.57it/s] "
          ]
        },
        {
          "name": "stdout",
          "output_type": "stream",
          "text": [
            "\n",
            " {'precision': 0.05256218567350823, 'recall': 0.11578826871917293, 'ndcg': 0.10241205444898473}\n",
            "Epoch 9:\n"
          ]
        },
        {
          "name": "stderr",
          "output_type": "stream",
          "text": [
            "\n",
            "Batch loss = 0.674764: 100%|██████████| 1112/1112 [00:16<00:00, 67.08it/s]"
          ]
        },
        {
          "name": "stdout",
          "output_type": "stream",
          "text": [
            "\n",
            "Evaluation (dev):\n"
          ]
        },
        {
          "name": "stderr",
          "output_type": "stream",
          "text": [
            "\n",
            "100%|██████████| 7357/7357 [01:20<00:00, 91.19it/s] "
          ]
        },
        {
          "name": "stdout",
          "output_type": "stream",
          "text": [
            "\n",
            " {'precision': 0.05249422318879978, 'recall': 0.11560075292633441, 'ndcg': 0.10212504761594665}\n"
          ]
        },
        {
          "name": "stderr",
          "output_type": "stream",
          "text": [
            "\n",
            "100%|██████████| 7357/7357 [01:18<00:00, 93.63it/s]\n",
            "100%|██████████| 7357/7357 [01:18<00:00, 93.41it/s] \n"
          ]
        },
        {
          "name": "stdout",
          "output_type": "stream",
          "text": [
            "train dataset preparing...\n"
          ]
        },
        {
          "name": "stderr",
          "output_type": "stream",
          "text": [
            "100%|██████████| 7358/7358 [00:11<00:00, 636.48it/s]\n"
          ]
        },
        {
          "name": "stdout",
          "output_type": "stream",
          "text": [
            "dev dataset preparing...\n"
          ]
        },
        {
          "name": "stderr",
          "output_type": "stream",
          "text": [
            "100%|██████████| 7357/7357 [00:01<00:00, 4731.95it/s]\n"
          ]
        },
        {
          "name": "stdout",
          "output_type": "stream",
          "text": [
            "test dataset preparing...\n"
          ]
        },
        {
          "name": "stderr",
          "output_type": "stream",
          "text": [
            "100%|██████████| 7357/7357 [00:01<00:00, 4102.49it/s]\n",
            "100%|██████████| 7357/7357 [04:46<00:00, 25.68it/s]\n"
          ]
        },
        {
          "name": "stdout",
          "output_type": "stream",
          "text": [
            "{'precision': [0.06676634497757239, 0.06725567486747315, 0.06739159983689004, 0.06713334239499796], 'recall': [0.16330173977286047, 0.1645299677770667, 0.16432525138329832, 0.16452850132144814], 'ndcg': [0.12485593594413333, 0.1264572343117576, 0.1275585838242084, 0.12585491718264302]}\n",
            "\n",
            "___SEED___4\n",
            "train dataset preparing...\n"
          ]
        },
        {
          "name": "stderr",
          "output_type": "stream",
          "text": [
            "100%|██████████| 7358/7358 [00:09<00:00, 751.60it/s]\n"
          ]
        },
        {
          "name": "stdout",
          "output_type": "stream",
          "text": [
            "dev dataset preparing...\n"
          ]
        },
        {
          "name": "stderr",
          "output_type": "stream",
          "text": [
            "100%|██████████| 7357/7357 [00:02<00:00, 2896.84it/s]\n"
          ]
        },
        {
          "name": "stdout",
          "output_type": "stream",
          "text": [
            "test dataset preparing...\n"
          ]
        },
        {
          "name": "stderr",
          "output_type": "stream",
          "text": [
            "100%|██████████| 7357/7357 [00:02<00:00, 3387.62it/s]"
          ]
        },
        {
          "name": "stdout",
          "output_type": "stream",
          "text": [
            "Epoch 1:\n"
          ]
        },
        {
          "name": "stderr",
          "output_type": "stream",
          "text": [
            "\n",
            "Batch loss = 0.676412: 100%|██████████| 1112/1112 [00:17<00:00, 64.95it/s]"
          ]
        },
        {
          "name": "stdout",
          "output_type": "stream",
          "text": [
            "\n",
            "Evaluation (dev):\n"
          ]
        },
        {
          "name": "stderr",
          "output_type": "stream",
          "text": [
            "\n",
            "100%|██████████| 7357/7357 [01:21<00:00, 90.19it/s] "
          ]
        },
        {
          "name": "stdout",
          "output_type": "stream",
          "text": [
            "\n",
            " {'precision': 0.0516786733722985, 'recall': 0.11499818536387797, 'ndcg': 0.10150591490811248}\n",
            "Epoch 2:\n"
          ]
        },
        {
          "name": "stderr",
          "output_type": "stream",
          "text": [
            "\n",
            "Batch loss = 0.676208: 100%|██████████| 1112/1112 [00:16<00:00, 66.55it/s]"
          ]
        },
        {
          "name": "stdout",
          "output_type": "stream",
          "text": [
            "\n",
            "Evaluation (dev):\n"
          ]
        },
        {
          "name": "stderr",
          "output_type": "stream",
          "text": [
            "\n",
            "100%|██████████| 7357/7357 [01:21<00:00, 90.03it/s] "
          ]
        },
        {
          "name": "stdout",
          "output_type": "stream",
          "text": [
            "\n",
            " {'precision': 0.0521272257713742, 'recall': 0.11563012852444533, 'ndcg': 0.10222992158679849}\n",
            "Epoch 3:\n"
          ]
        },
        {
          "name": "stderr",
          "output_type": "stream",
          "text": [
            "\n",
            "Batch loss = 0.676: 100%|██████████| 1112/1112 [00:16<00:00, 66.03it/s]"
          ]
        },
        {
          "name": "stdout",
          "output_type": "stream",
          "text": [
            "\n",
            "Evaluation (dev):\n"
          ]
        },
        {
          "name": "stderr",
          "output_type": "stream",
          "text": [
            "\n",
            "100%|██████████| 7357/7357 [01:22<00:00, 89.46it/s] "
          ]
        },
        {
          "name": "stdout",
          "output_type": "stream",
          "text": [
            "\n",
            " {'precision': 0.05257577817044992, 'recall': 0.11628381424230773, 'ndcg': 0.10269160061530277}\n",
            "Epoch 4:\n"
          ]
        },
        {
          "name": "stderr",
          "output_type": "stream",
          "text": [
            "\n",
            "Batch loss = 0.67579: 100%|██████████| 1112/1112 [00:16<00:00, 65.86it/s]"
          ]
        },
        {
          "name": "stdout",
          "output_type": "stream",
          "text": [
            "\n",
            "Evaluation (dev):\n"
          ]
        },
        {
          "name": "stderr",
          "output_type": "stream",
          "text": [
            "\n",
            "100%|██████████| 7357/7357 [01:21<00:00, 90.45it/s] "
          ]
        },
        {
          "name": "stdout",
          "output_type": "stream",
          "text": [
            "\n",
            " {'precision': 0.05252140818268316, 'recall': 0.11570567777503674, 'ndcg': 0.10242643734778803}\n",
            "Epoch 5:\n"
          ]
        },
        {
          "name": "stderr",
          "output_type": "stream",
          "text": [
            "\n",
            "Batch loss = 0.675577: 100%|██████████| 1112/1112 [00:16<00:00, 66.29it/s]"
          ]
        },
        {
          "name": "stdout",
          "output_type": "stream",
          "text": [
            "\n",
            "Evaluation (dev):\n"
          ]
        },
        {
          "name": "stderr",
          "output_type": "stream",
          "text": [
            "\n",
            "100%|██████████| 7357/7357 [01:21<00:00, 90.44it/s] "
          ]
        },
        {
          "name": "stdout",
          "output_type": "stream",
          "text": [
            "\n",
            " {'precision': 0.052752480630691864, 'recall': 0.1162870672163725, 'ndcg': 0.10264102934094418}\n",
            "Epoch 6:\n"
          ]
        },
        {
          "name": "stderr",
          "output_type": "stream",
          "text": [
            "\n",
            "Batch loss = 0.675362: 100%|██████████| 1112/1112 [00:16<00:00, 67.08it/s]"
          ]
        },
        {
          "name": "stdout",
          "output_type": "stream",
          "text": [
            "\n",
            "Evaluation (dev):\n"
          ]
        },
        {
          "name": "stderr",
          "output_type": "stream",
          "text": [
            "\n",
            "100%|██████████| 7357/7357 [01:21<00:00, 90.14it/s]"
          ]
        },
        {
          "name": "stdout",
          "output_type": "stream",
          "text": [
            "\n",
            " {'precision': 0.052752480630691864, 'recall': 0.11651367722218438, 'ndcg': 0.10271090534626744}\n",
            "Epoch 7:\n"
          ]
        },
        {
          "name": "stderr",
          "output_type": "stream",
          "text": [
            "\n",
            "Batch loss = 0.675144: 100%|██████████| 1112/1112 [00:16<00:00, 66.73it/s]"
          ]
        },
        {
          "name": "stdout",
          "output_type": "stream",
          "text": [
            "\n",
            "Evaluation (dev):\n"
          ]
        },
        {
          "name": "stderr",
          "output_type": "stream",
          "text": [
            "\n",
            "100%|██████████| 7357/7357 [01:21<00:00, 90.02it/s]"
          ]
        },
        {
          "name": "stdout",
          "output_type": "stream",
          "text": [
            "\n",
            " {'precision': 0.05271170313986679, 'recall': 0.11629664877014166, 'ndcg': 0.10254315420184261}\n",
            "Epoch 8:\n"
          ]
        },
        {
          "name": "stderr",
          "output_type": "stream",
          "text": [
            "\n",
            "Batch loss = 0.674925: 100%|██████████| 1112/1112 [00:16<00:00, 65.67it/s]"
          ]
        },
        {
          "name": "stdout",
          "output_type": "stream",
          "text": [
            "\n",
            "Evaluation (dev):\n"
          ]
        },
        {
          "name": "stderr",
          "output_type": "stream",
          "text": [
            "\n",
            "100%|██████████| 7357/7357 [01:21<00:00, 90.06it/s]"
          ]
        },
        {
          "name": "stdout",
          "output_type": "stream",
          "text": [
            "\n",
            " {'precision': 0.052602963164333286, 'recall': 0.11587463724567974, 'ndcg': 0.10225979437727453}\n",
            "Epoch 9:\n"
          ]
        },
        {
          "name": "stderr",
          "output_type": "stream",
          "text": [
            "\n",
            "Batch loss = 0.674703: 100%|██████████| 1112/1112 [00:16<00:00, 65.80it/s]"
          ]
        },
        {
          "name": "stdout",
          "output_type": "stream",
          "text": [
            "\n",
            "Evaluation (dev):\n"
          ]
        },
        {
          "name": "stderr",
          "output_type": "stream",
          "text": [
            "\n",
            "100%|██████████| 7357/7357 [01:21<00:00, 89.91it/s] "
          ]
        },
        {
          "name": "stdout",
          "output_type": "stream",
          "text": [
            "\n",
            " {'precision': 0.05252140818268316, 'recall': 0.11592458742058198, 'ndcg': 0.10216093113759561}\n"
          ]
        },
        {
          "name": "stderr",
          "output_type": "stream",
          "text": [
            "\n",
            "100%|██████████| 7357/7357 [01:18<00:00, 93.63it/s] \n",
            "100%|██████████| 7357/7357 [01:20<00:00, 91.58it/s] \n"
          ]
        },
        {
          "name": "stdout",
          "output_type": "stream",
          "text": [
            "train dataset preparing...\n"
          ]
        },
        {
          "name": "stderr",
          "output_type": "stream",
          "text": [
            "100%|██████████| 7358/7358 [00:11<00:00, 647.25it/s]\n"
          ]
        },
        {
          "name": "stdout",
          "output_type": "stream",
          "text": [
            "dev dataset preparing...\n"
          ]
        },
        {
          "name": "stderr",
          "output_type": "stream",
          "text": [
            "100%|██████████| 7357/7357 [00:01<00:00, 4578.31it/s]\n"
          ]
        },
        {
          "name": "stdout",
          "output_type": "stream",
          "text": [
            "test dataset preparing...\n"
          ]
        },
        {
          "name": "stderr",
          "output_type": "stream",
          "text": [
            "100%|██████████| 7357/7357 [00:01<00:00, 4459.73it/s]\n",
            "100%|██████████| 7357/7357 [04:49<00:00, 25.46it/s]"
          ]
        },
        {
          "name": "stdout",
          "output_type": "stream",
          "text": [
            "{'precision': [0.06676634497757239, 0.06725567486747315, 0.06739159983689004, 0.06713334239499796, 0.06705178741334783], 'recall': [0.16330173977286047, 0.1645299677770667, 0.16432525138329832, 0.16452850132144814, 0.1645606933393488], 'ndcg': [0.12485593594413333, 0.1264572343117576, 0.1275585838242084, 0.12585491718264302, 0.12593791089122025]}\n"
          ]
        },
        {
          "name": "stderr",
          "output_type": "stream",
          "text": [
            "\n"
          ]
        }
      ],
      "source": [
        "for seed in range(5):\n",
        "    print(f\"\\n___SEED___{seed}\")\n",
        "    torch.manual_seed(seed)\n",
        "    random.seed(seed)\n",
        "    np.random.seed(seed)\n",
        "\n",
        "    trainer = NBRTrainer(\n",
        "        corpus=corpus,\n",
        "        max_epochs=20,\n",
        "        topk=10,\n",
        "        early_stop_num=3\n",
        "    )\n",
        "\n",
        "    params = {\n",
        "        \"model\": RepurchaseModule(\n",
        "            item_num=corpus.n_items,\n",
        "            avg_repeat_interval=corpus.total_avg_interval\n",
        "        ),\n",
        "        \"batch_size\": slrc_best_params[\"batch_size\"],\n",
        "        \"lr\": slrc_best_params[\"lr\"],\n",
        "        \"l2_reg_coef\": slrc_best_params[\"l2_reg_coef\"]\n",
        "    }\n",
        "\n",
        "    trainer.init_hyperparams(**params)\n",
        "    trainer.train()\n",
        "\n",
        "    dev_user_emb = trainer.get_predictions(mode=\"dev\")\n",
        "    test_user_emb = trainer.get_predictions(mode=\"test\")\n",
        "\n",
        "    trainer = NBRTrainer(\n",
        "        corpus=corpus,\n",
        "        max_epochs=None,\n",
        "        topk=10,\n",
        "        early_stop_num=None\n",
        "    )\n",
        "\n",
        "    params = {\n",
        "        \"model\": NBRKNN(\n",
        "            item_num=corpus.n_items,\n",
        "            user_num=corpus.n_users,\n",
        "            nearest_neighbors_num=study.best_params[\"nearest_neighbors_num\"],\n",
        "            alpha=study.best_params[\"alpha\"],\n",
        "            user_emb=dev_user_emb\n",
        "        )\n",
        "    }\n",
        "    params[\"model\"].set_emb(test_user_emb)\n",
        "\n",
        "    trainer.init_hyperparams(**params)\n",
        "\n",
        "    metrics = trainer.evaluate(mode=\"test\")\n",
        "\n",
        "    test_metrics[\"precision\"].append(metrics[\"precision\"])\n",
        "    test_metrics[\"recall\"].append(metrics[\"recall\"])\n",
        "    test_metrics[\"ndcg\"].append(metrics[\"ndcg\"])\n",
        "    print(test_metrics)"
      ],
      "id": "sqD7bHwEZcwQ"
    },
    {
      "cell_type": "code",
      "execution_count": null,
      "metadata": {
        "colab": {
          "base_uri": "https://localhost:8080/"
        },
        "id": "nBWBtgBoIa9y",
        "outputId": "1528b0c4-f6fa-4263-fc5e-444ab792bca3"
      },
      "outputs": [
        {
          "data": {
            "text/plain": [
              "{'precision': 0.06711974989805627,\n",
              " 'recall': 0.1642492307188045,\n",
              " 'ndcg': 0.1261329164307925}"
            ]
          },
          "execution_count": 10,
          "metadata": {},
          "output_type": "execute_result"
        }
      ],
      "source": [
        "{\n",
        "    \"precision\": np.array(test_metrics[\"precision\"]).mean(),\n",
        "    \"recall\": np.array(test_metrics[\"recall\"]).mean(),\n",
        "    \"ndcg\": np.array(test_metrics[\"ndcg\"]).mean(),\n",
        "}"
      ],
      "id": "nBWBtgBoIa9y"
    },
    {
      "cell_type": "markdown",
      "metadata": {
        "id": "jQktLnAV1OTN"
      },
      "source": [
        "# TaoBao"
      ],
      "id": "jQktLnAV1OTN"
    },
    {
      "cell_type": "markdown",
      "metadata": {
        "id": "-QZ_gcPntKZx"
      },
      "source": [
        "Fix seed:"
      ],
      "id": "-QZ_gcPntKZx"
    },
    {
      "cell_type": "code",
      "execution_count": null,
      "metadata": {
        "id": "rE5NvM18tNTS"
      },
      "outputs": [],
      "source": [
        "seed = 10\n",
        "torch.manual_seed(seed)\n",
        "random.seed(seed)\n",
        "np.random.seed(seed)"
      ],
      "id": "rE5NvM18tNTS"
    },
    {
      "cell_type": "markdown",
      "metadata": {
        "id": "VlfrcCNntS8B"
      },
      "source": [
        "Read interactions data (filter users with less than 10 transactions, high purchase frequency and one-day users and items with less than 10 transactions). Train dataset - all baskets except the last two, validation dataset - the last but one basket, test dataset - the last basket:"
      ],
      "id": "VlfrcCNntS8B"
    },
    {
      "cell_type": "code",
      "execution_count": null,
      "metadata": {
        "colab": {
          "base_uri": "https://localhost:8080/"
        },
        "id": "UjJ6Bocc1NmP",
        "outputId": "a3531394-eccb-463e-9bc5-dae18a80532b"
      },
      "outputs": [
        {
          "name": "stdout",
          "output_type": "stream",
          "text": [
            "Before preprocessing: #users = 672404, #items = 638962, #clicks = 2015807 (#illegal records = 0)\n",
            "After preprocessing: #users = 10092, #items = 22286, #clicks = 67991\n",
            "Saving dataset in ./data//data_taobao/...\n"
          ]
        }
      ],
      "source": [
        "corpus_path = \"./data/\"\n",
        "dataset_name = \"taobao\"\n",
        "\n",
        "preprocessor = Preprocess(corpus_path, dataset_name)\n",
        "preprocessor.load_data(10, 10, filt=True)\n",
        "save_split(corpus_path, dataset_name, preprocessor)"
      ],
      "id": "UjJ6Bocc1NmP"
    },
    {
      "cell_type": "code",
      "execution_count": null,
      "metadata": {
        "id": "MkJuH0Y31Npx"
      },
      "outputs": [],
      "source": [
        "corpus = Corpus(corpus_path, dataset_name)\n",
        "corpus.load_data()"
      ],
      "id": "MkJuH0Y31Npx"
    },
    {
      "cell_type": "markdown",
      "metadata": {
        "id": "Yn4ZvU-htdsw"
      },
      "source": [
        "Train Repurchase Module with best hyperparams (see ./testing_repurchasemodule.ipynb):"
      ],
      "id": "Yn4ZvU-htdsw"
    },
    {
      "cell_type": "code",
      "execution_count": null,
      "metadata": {
        "id": "IlrZpaVnIl7Z"
      },
      "outputs": [],
      "source": [
        "trainer = NBRTrainer(\n",
        "    corpus=corpus,\n",
        "    max_epochs=20,\n",
        "    topk=10,\n",
        "    early_stop_num=3\n",
        ")"
      ],
      "id": "IlrZpaVnIl7Z"
    },
    {
      "cell_type": "code",
      "execution_count": null,
      "metadata": {
        "id": "Of-Twqr6IozD"
      },
      "outputs": [],
      "source": [
        "slrc_best_params = {'batch_size': 256, 'lr': 0.00022155020864083442, 'l2_reg_coef': 0.012687180197268989}\n",
        "\n",
        "params = {\n",
        "    \"model\": RepurchaseModule(\n",
        "        item_num=corpus.n_items,\n",
        "        avg_repeat_interval=corpus.total_avg_interval\n",
        "    ),\n",
        "    \"batch_size\": slrc_best_params[\"batch_size\"],\n",
        "    \"lr\": slrc_best_params[\"lr\"],\n",
        "    \"l2_reg_coef\": slrc_best_params[\"l2_reg_coef\"]\n",
        "}\n",
        "\n",
        "trainer.init_hyperparams(**params)"
      ],
      "id": "Of-Twqr6IozD"
    },
    {
      "cell_type": "code",
      "execution_count": null,
      "metadata": {
        "id": "4uNz9kuLIqD7"
      },
      "outputs": [],
      "source": [
        "trainer.train()"
      ],
      "id": "4uNz9kuLIqD7"
    },
    {
      "cell_type": "markdown",
      "metadata": {
        "id": "KaE_3yG0ujt7"
      },
      "source": [
        "Save users' embeddings for validation step (user's embedding for validation step is his vector of recommendation scores for all items at the time of validation):"
      ],
      "id": "KaE_3yG0ujt7"
    },
    {
      "cell_type": "code",
      "execution_count": null,
      "metadata": {
        "id": "25LKtLY_unaw"
      },
      "outputs": [],
      "source": [
        "dev_user_emb = trainer.get_predictions(mode=\"dev\")"
      ],
      "id": "25LKtLY_unaw"
    },
    {
      "cell_type": "markdown",
      "metadata": {
        "id": "auZ_OrOqutvv"
      },
      "source": [
        "Tune Neighborhood Module hyperparams on validation dataset:"
      ],
      "id": "auZ_OrOqutvv"
    },
    {
      "cell_type": "code",
      "execution_count": null,
      "metadata": {
        "colab": {
          "base_uri": "https://localhost:8080/"
        },
        "id": "TmME29AEggq9",
        "outputId": "899ab453-f76e-4ec9-d542-f33267039067"
      },
      "outputs": [
        {
          "name": "stdout",
          "output_type": "stream",
          "text": [
            "train dataset preparing...\n"
          ]
        },
        {
          "name": "stderr",
          "output_type": "stream",
          "text": [
            "100%|██████████| 10092/10092 [00:49<00:00, 205.66it/s]\n"
          ]
        },
        {
          "name": "stdout",
          "output_type": "stream",
          "text": [
            "dev dataset preparing...\n"
          ]
        },
        {
          "name": "stderr",
          "output_type": "stream",
          "text": [
            "100%|██████████| 9307/9307 [00:00<00:00, 29295.58it/s]\n"
          ]
        },
        {
          "name": "stdout",
          "output_type": "stream",
          "text": [
            "test dataset preparing...\n"
          ]
        },
        {
          "name": "stderr",
          "output_type": "stream",
          "text": [
            "100%|██████████| 9307/9307 [00:00<00:00, 18293.17it/s]\n"
          ]
        }
      ],
      "source": [
        "trainer = NBRTrainer(\n",
        "    corpus=corpus,\n",
        "    max_epochs=None,\n",
        "    topk=10,\n",
        "    early_stop_num=None\n",
        ")"
      ],
      "id": "TmME29AEggq9"
    },
    {
      "cell_type": "code",
      "execution_count": null,
      "metadata": {
        "id": "uqbsYxCOgiJS"
      },
      "outputs": [],
      "source": [
        "def objective(trial):\n",
        "    params = {\n",
        "        \"model\": NBRKNN(\n",
        "            item_num=corpus.n_items,\n",
        "            user_num=corpus.n_users,\n",
        "            nearest_neighbors_num=trial.suggest_int(\"nearest_neighbors_num\", low=1, high=200),\n",
        "            alpha=trial.suggest_float(\"alpha\", 0.0, 1.0, step=0.05),\n",
        "            user_emb=dev_user_emb\n",
        "        )\n",
        "    }\n",
        "\n",
        "    trainer.init_hyperparams(**params)\n",
        "    metrics = trainer.evaluate(mode=\"dev\")\n",
        "    trainer.model.reset()\n",
        "    score = metrics[\"ndcg\"]\n",
        "    return score"
      ],
      "id": "uqbsYxCOgiJS"
    },
    {
      "cell_type": "code",
      "execution_count": null,
      "metadata": {
        "colab": {
          "base_uri": "https://localhost:8080/"
        },
        "id": "Ph8-Q9osbe1D",
        "outputId": "33542c6c-5a20-413e-9c7e-e409ebae3697"
      },
      "outputs": [
        {
          "name": "stderr",
          "output_type": "stream",
          "text": [
            "\u001b[32m[I 2023-05-06 18:57:16,656]\u001b[0m A new study created in memory with name: no-name-c8c3fe05-679e-4cfb-b233-e5caa62b533c\u001b[0m\n",
            "100%|██████████| 9307/9307 [28:33<00:00,  5.43it/s]\n",
            "\u001b[32m[I 2023-05-06 19:26:11,499]\u001b[0m Trial 0 finished with value: 0.02344135825603466 and parameters: {'nearest_neighbors_num': 155, 'alpha': 0.0}. Best is trial 0 with value: 0.02344135825603466.\u001b[0m\n",
            "100%|██████████| 9307/9307 [29:41<00:00,  5.22it/s]\n",
            "\u001b[32m[I 2023-05-06 19:56:13,777]\u001b[0m Trial 1 finished with value: 0.07265987971860889 and parameters: {'nearest_neighbors_num': 127, 'alpha': 0.75}. Best is trial 1 with value: 0.07265987971860889.\u001b[0m\n",
            "100%|██████████| 9307/9307 [29:06<00:00,  5.33it/s]\n",
            "\u001b[32m[I 2023-05-06 20:25:41,039]\u001b[0m Trial 2 finished with value: 0.07020255416138836 and parameters: {'nearest_neighbors_num': 100, 'alpha': 0.2}. Best is trial 1 with value: 0.07265987971860889.\u001b[0m\n",
            "100%|██████████| 9307/9307 [28:02<00:00,  5.53it/s]\n",
            "\u001b[32m[I 2023-05-06 20:54:04,652]\u001b[0m Trial 3 finished with value: 0.07300336535703099 and parameters: {'nearest_neighbors_num': 40, 'alpha': 0.75}. Best is trial 3 with value: 0.07300336535703099.\u001b[0m\n",
            "100%|██████████| 9307/9307 [27:48<00:00,  5.58it/s]\n",
            "\u001b[32m[I 2023-05-06 21:22:14,528]\u001b[0m Trial 4 finished with value: 0.06916007507438231 and parameters: {'nearest_neighbors_num': 34, 'alpha': 0.05}. Best is trial 3 with value: 0.07300336535703099.\u001b[0m\n",
            "100%|██████████| 9307/9307 [29:00<00:00,  5.35it/s]\n",
            "\u001b[32m[I 2023-05-06 21:51:35,164]\u001b[0m Trial 5 finished with value: 0.07429430708761653 and parameters: {'nearest_neighbors_num': 138, 'alpha': 1.0}. Best is trial 5 with value: 0.07429430708761653.\u001b[0m\n",
            "100%|██████████| 9307/9307 [26:38<00:00,  5.82it/s]\n",
            "\u001b[32m[I 2023-05-06 22:18:33,990]\u001b[0m Trial 6 finished with value: 0.07429430708761653 and parameters: {'nearest_neighbors_num': 1, 'alpha': 0.5}. Best is trial 5 with value: 0.07429430708761653.\u001b[0m\n",
            "100%|██████████| 9307/9307 [29:22<00:00,  5.28it/s]\n",
            "\u001b[32m[I 2023-05-06 22:48:17,033]\u001b[0m Trial 7 finished with value: 0.07189318825668507 and parameters: {'nearest_neighbors_num': 163, 'alpha': 0.6000000000000001}. Best is trial 5 with value: 0.07429430708761653.\u001b[0m\n",
            "100%|██████████| 9307/9307 [29:10<00:00,  5.32it/s]\n",
            "\u001b[32m[I 2023-05-06 23:17:48,004]\u001b[0m Trial 8 finished with value: 0.07058759521257314 and parameters: {'nearest_neighbors_num': 145, 'alpha': 0.30000000000000004}. Best is trial 5 with value: 0.07429430708761653.\u001b[0m\n",
            "100%|██████████| 9307/9307 [30:13<00:00,  5.13it/s]\n",
            "\u001b[32m[I 2023-05-06 23:48:22,666]\u001b[0m Trial 9 finished with value: 0.07302243504397653 and parameters: {'nearest_neighbors_num': 184, 'alpha': 0.75}. Best is trial 5 with value: 0.07429430708761653.\u001b[0m\n",
            "100%|██████████| 9307/9307 [28:29<00:00,  5.44it/s]\n",
            "\u001b[32m[I 2023-05-07 00:17:13,428]\u001b[0m Trial 10 finished with value: 0.07429430708761653 and parameters: {'nearest_neighbors_num': 95, 'alpha': 1.0}. Best is trial 5 with value: 0.07429430708761653.\u001b[0m\n",
            "100%|██████████| 9307/9307 [27:03<00:00,  5.73it/s]\n",
            "\u001b[32m[I 2023-05-07 00:44:38,334]\u001b[0m Trial 11 finished with value: 0.0745164240580336 and parameters: {'nearest_neighbors_num': 11, 'alpha': 0.9500000000000001}. Best is trial 11 with value: 0.0745164240580336.\u001b[0m\n",
            "100%|██████████| 9307/9307 [28:04<00:00,  5.53it/s]\n",
            "\u001b[32m[I 2023-05-07 01:13:05,665]\u001b[0m Trial 12 finished with value: 0.07429430708761653 and parameters: {'nearest_neighbors_num': 68, 'alpha': 1.0}. Best is trial 11 with value: 0.0745164240580336.\u001b[0m\n",
            "100%|██████████| 9307/9307 [29:54<00:00,  5.19it/s]\n",
            "\u001b[32m[I 2023-05-07 01:43:22,592]\u001b[0m Trial 13 finished with value: 0.07420902786835341 and parameters: {'nearest_neighbors_num': 196, 'alpha': 0.9}. Best is trial 11 with value: 0.0745164240580336.\u001b[0m\n",
            "100%|██████████| 9307/9307 [29:04<00:00,  5.34it/s]\n",
            "\u001b[32m[I 2023-05-07 02:12:47,893]\u001b[0m Trial 14 finished with value: 0.07354767726308747 and parameters: {'nearest_neighbors_num': 124, 'alpha': 0.8500000000000001}. Best is trial 11 with value: 0.0745164240580336.\u001b[0m\n",
            "100%|██████████| 9307/9307 [27:03<00:00,  5.73it/s]\n",
            "\u001b[32m[I 2023-05-07 02:40:13,645]\u001b[0m Trial 15 finished with value: 0.07251437350341844 and parameters: {'nearest_neighbors_num': 3, 'alpha': 0.6000000000000001}. Best is trial 11 with value: 0.0745164240580336.\u001b[0m\n",
            "100%|██████████| 9307/9307 [27:56<00:00,  5.55it/s]\n",
            "\u001b[32m[I 2023-05-07 03:08:31,617]\u001b[0m Trial 16 finished with value: 0.07325909720206623 and parameters: {'nearest_neighbors_num': 69, 'alpha': 0.8500000000000001}. Best is trial 11 with value: 0.0745164240580336.\u001b[0m\n",
            "100%|██████████| 9307/9307 [28:06<00:00,  5.52it/s]\n",
            "\u001b[32m[I 2023-05-07 03:36:59,954]\u001b[0m Trial 17 finished with value: 0.07429430708761653 and parameters: {'nearest_neighbors_num': 75, 'alpha': 1.0}. Best is trial 11 with value: 0.0745164240580336.\u001b[0m\n",
            "100%|██████████| 9307/9307 [27:24<00:00,  5.66it/s]\n",
            "\u001b[32m[I 2023-05-07 04:04:44,934]\u001b[0m Trial 18 finished with value: 0.07219712798971205 and parameters: {'nearest_neighbors_num': 28, 'alpha': 0.65}. Best is trial 11 with value: 0.0745164240580336.\u001b[0m\n",
            "100%|██████████| 9307/9307 [28:32<00:00,  5.44it/s]\n",
            "\u001b[32m[I 2023-05-07 04:33:37,666]\u001b[0m Trial 19 finished with value: 0.07109230220732209 and parameters: {'nearest_neighbors_num': 120, 'alpha': 0.4}. Best is trial 11 with value: 0.0745164240580336.\u001b[0m\n",
            "100%|██████████| 9307/9307 [29:43<00:00,  5.22it/s]\n",
            "\u001b[32m[I 2023-05-07 05:03:42,425]\u001b[0m Trial 20 finished with value: 0.0742082494044322 and parameters: {'nearest_neighbors_num': 174, 'alpha': 0.9}. Best is trial 11 with value: 0.0745164240580336.\u001b[0m\n",
            "100%|██████████| 9307/9307 [27:29<00:00,  5.64it/s]\n",
            "\u001b[32m[I 2023-05-07 05:31:33,401]\u001b[0m Trial 21 finished with value: 0.07239540812904588 and parameters: {'nearest_neighbors_num': 3, 'alpha': 0.5}. Best is trial 11 with value: 0.0745164240580336.\u001b[0m\n",
            "100%|██████████| 9307/9307 [27:53<00:00,  5.56it/s]\n",
            "\u001b[32m[I 2023-05-07 05:59:49,528]\u001b[0m Trial 22 finished with value: 0.07176021454079964 and parameters: {'nearest_neighbors_num': 19, 'alpha': 0.45}. Best is trial 11 with value: 0.0745164240580336.\u001b[0m\n",
            " 76%|███████▌  | 7075/9307 [21:29<07:55,  4.69it/s]"
          ]
        }
      ],
      "source": [
        "sampler = optuna.samplers.TPESampler(seed=seed)\n",
        "study = optuna.create_study(direction=\"maximize\", sampler=sampler)\n",
        "study.optimize(objective, n_trials=25)"
      ],
      "id": "Ph8-Q9osbe1D"
    },
    {
      "cell_type": "markdown",
      "metadata": {
        "id": "KGULUh7Iv_k9"
      },
      "source": [
        "Test TAIWI (calculate scores for different seeds):"
      ],
      "id": "KGULUh7Iv_k9"
    },
    {
      "cell_type": "code",
      "execution_count": null,
      "metadata": {
        "id": "gF-01CM9Jh-J"
      },
      "outputs": [],
      "source": [
        "test_metrics = {\n",
        "    \"precision\": [],\n",
        "    \"recall\": [],\n",
        "    \"ndcg\": []\n",
        "}"
      ],
      "id": "gF-01CM9Jh-J"
    },
    {
      "cell_type": "code",
      "execution_count": null,
      "metadata": {
        "id": "sho1alo1rBAw"
      },
      "outputs": [],
      "source": [
        "for seed in range(3):\n",
        "    print(f\"\\n___SEED___{seed}\")\n",
        "    torch.manual_seed(seed)\n",
        "    random.seed(seed)\n",
        "    np.random.seed(seed)\n",
        "\n",
        "    trainer = NBRTrainer(\n",
        "        corpus=corpus,\n",
        "        max_epochs=20,\n",
        "        topk=10,\n",
        "        early_stop_num=3\n",
        "    )\n",
        "\n",
        "    params = {\n",
        "        \"model\": RepurchaseModule(\n",
        "            item_num=corpus.n_items,\n",
        "            avg_repeat_interval=corpus.total_avg_interval\n",
        "        ),\n",
        "        \"batch_size\": slrc_best_params[\"batch_size\"],\n",
        "        \"lr\": slrc_best_params[\"lr\"],\n",
        "        \"l2_reg_coef\": slrc_best_params[\"l2_reg_coef\"]\n",
        "    }\n",
        "\n",
        "    trainer.init_hyperparams(**params)\n",
        "    trainer.train()\n",
        "\n",
        "    dev_user_emb = trainer.get_predictions(mode=\"dev\")\n",
        "    test_user_emb = trainer.get_predictions(mode=\"test\")\n",
        "\n",
        "    trainer = NBRTrainer(\n",
        "        corpus=corpus,\n",
        "        max_epochs=None,\n",
        "        topk=10,\n",
        "        early_stop_num=None\n",
        "    )\n",
        "\n",
        "    params = {\n",
        "        \"model\": NBRKNN(\n",
        "            item_num=corpus.n_items,\n",
        "            user_num=corpus.n_users,\n",
        "            nearest_neighbors_num=study.best_params[\"nearest_neighbors_num\"],\n",
        "            alpha=study.best_params[\"alpha\"],\n",
        "            user_emb=dev_user_emb\n",
        "        )\n",
        "    }\n",
        "    params[\"model\"].set_emb(test_user_emb)\n",
        "\n",
        "    trainer.init_hyperparams(**params)\n",
        "\n",
        "    metrics = trainer.evaluate(mode=\"test\")\n",
        "\n",
        "    trainer.model.reset()\n",
        "\n",
        "    test_metrics[\"precision\"].append(metrics[\"precision\"])\n",
        "    test_metrics[\"recall\"].append(metrics[\"recall\"])\n",
        "    test_metrics[\"ndcg\"].append(metrics[\"ndcg\"])\n",
        "    print(test_metrics)"
      ],
      "id": "sho1alo1rBAw"
    },
    {
      "cell_type": "code",
      "execution_count": null,
      "metadata": {
        "colab": {
          "base_uri": "https://localhost:8080/"
        },
        "id": "rHOGeV3MJz0m",
        "outputId": "362f5518-acf2-45cf-a839-ab4c3bd4d018"
      },
      "outputs": [
        {
          "data": {
            "text/plain": [
              "{'precision': 0.0123025679596003,\n",
              " 'recall': 0.11903226961785035,\n",
              " 'ndcg': 0.0809702514792717}"
            ]
          },
          "execution_count": 2,
          "metadata": {},
          "output_type": "execute_result"
        }
      ],
      "source": [
        "{\n",
        "    \"precision\": np.array(test_metrics[\"precision\"]).mean(),\n",
        "    \"recall\": np.array(test_metrics[\"recall\"]).mean(),\n",
        "    \"ndcg\": np.array(test_metrics[\"ndcg\"]).mean(),\n",
        "}"
      ],
      "id": "rHOGeV3MJz0m"
    },
    {
      "cell_type": "markdown",
      "metadata": {
        "id": "XTCeVH_YRby3"
      },
      "source": [
        "# Dunnhumby"
      ],
      "id": "XTCeVH_YRby3"
    },
    {
      "cell_type": "markdown",
      "metadata": {
        "id": "v8qigjFOxjRP"
      },
      "source": [
        "Fix seed:"
      ],
      "id": "v8qigjFOxjRP"
    },
    {
      "cell_type": "code",
      "execution_count": null,
      "metadata": {
        "id": "WwlP1H44xk4b"
      },
      "outputs": [],
      "source": [
        "seed = 10\n",
        "torch.manual_seed(seed)\n",
        "random.seed(seed)\n",
        "np.random.seed(seed)"
      ],
      "id": "WwlP1H44xk4b"
    },
    {
      "cell_type": "markdown",
      "metadata": {
        "id": "nMtgyq3sxlSL"
      },
      "source": [
        "Read interactions data (filter users with less than 5 transactions, high purchase frequency and one-day users and items with less than 10 transactions). Train dataset - all baskets except the last two, validation dataset - the last but one basket, test dataset - the last basket:"
      ],
      "id": "nMtgyq3sxlSL"
    },
    {
      "cell_type": "code",
      "execution_count": null,
      "metadata": {
        "colab": {
          "base_uri": "https://localhost:8080/"
        },
        "id": "093cdded",
        "outputId": "1e021f5f-397a-4861-d386-1260933941a0"
      },
      "outputs": [
        {
          "output_type": "stream",
          "name": "stdout",
          "text": [
            "Before preprocessing: #users = 2500, #items = 92339, #clicks = 2595370 (#illegal records = 0)\n",
            "After preprocessing: #users = 2358, #items = 26756, #clicks = 1976796\n",
            "Saving dataset in ./data//data_dunnhumby/...\n"
          ]
        }
      ],
      "source": [
        "corpus_path = \"./data/\"\n",
        "dataset_name = \"dunnhumby\"\n",
        "\n",
        "preprocessor = Preprocess(corpus_path, dataset_name)\n",
        "preprocessor.load_data(5, 10, filt=True)\n",
        "save_split(corpus_path, dataset_name, preprocessor)"
      ],
      "id": "093cdded"
    },
    {
      "cell_type": "code",
      "execution_count": null,
      "metadata": {
        "id": "KxqJ1WX4RmKt"
      },
      "outputs": [],
      "source": [
        "corpus = Corpus(corpus_path, dataset_name)\n",
        "corpus.load_data()"
      ],
      "id": "KxqJ1WX4RmKt"
    },
    {
      "cell_type": "markdown",
      "metadata": {
        "id": "zF9SVMs7x1XT"
      },
      "source": [
        "Train Repurchase Module with best hyperparams (see ./testing_repurchasemodule.ipynb):"
      ],
      "id": "zF9SVMs7x1XT"
    },
    {
      "cell_type": "code",
      "execution_count": null,
      "metadata": {
        "colab": {
          "background_save": true
        },
        "id": "_7vIqkcQx6Ij",
        "outputId": "08056c0c-ce15-45b6-f6d3-004178cb72d6"
      },
      "outputs": [
        {
          "name": "stdout",
          "output_type": "stream",
          "text": [
            "train dataset preparing...\n"
          ]
        },
        {
          "name": "stderr",
          "output_type": "stream",
          "text": [
            "100%|██████████| 2358/2358 [00:13<00:00, 174.26it/s]\n"
          ]
        },
        {
          "name": "stdout",
          "output_type": "stream",
          "text": [
            "dev dataset preparing...\n"
          ]
        },
        {
          "name": "stderr",
          "output_type": "stream",
          "text": [
            "100%|██████████| 2357/2357 [00:13<00:00, 170.87it/s]\n"
          ]
        },
        {
          "name": "stdout",
          "output_type": "stream",
          "text": [
            "test dataset preparing...\n"
          ]
        },
        {
          "name": "stderr",
          "output_type": "stream",
          "text": [
            "100%|██████████| 2357/2357 [00:13<00:00, 169.82it/s]\n"
          ]
        }
      ],
      "source": [
        "trainer = NBRTrainer(\n",
        "    corpus=corpus,\n",
        "    max_epochs=20,\n",
        "    topk=10,\n",
        "    early_stop_num=3\n",
        ")"
      ],
      "id": "_7vIqkcQx6Ij"
    },
    {
      "cell_type": "code",
      "execution_count": null,
      "metadata": {
        "colab": {
          "background_save": true
        },
        "id": "DNpX4TrhSSUr"
      },
      "outputs": [],
      "source": [
        "slrc_best_params = {'batch_size': 128, 'lr': 2.0869566476632644e-05, 'l2_reg_coef': 0.0008476179290251597}\n",
        "\n",
        "params = {\n",
        "    \"model\": RepurchaseModule(\n",
        "        item_num=corpus.n_items,\n",
        "        avg_repeat_interval=corpus.total_avg_interval\n",
        "    ),\n",
        "    \"batch_size\": slrc_best_params[\"batch_size\"],\n",
        "    \"lr\": slrc_best_params[\"lr\"],\n",
        "    \"l2_reg_coef\": slrc_best_params[\"l2_reg_coef\"]\n",
        "}\n",
        "\n",
        "trainer.init_hyperparams(**params)"
      ],
      "id": "DNpX4TrhSSUr"
    },
    {
      "cell_type": "code",
      "execution_count": null,
      "metadata": {
        "colab": {
          "background_save": true
        },
        "id": "33JbC2fGd5Da",
        "outputId": "5e64ac8a-cb8e-415a-941f-2c0281504501"
      },
      "outputs": [
        {
          "name": "stdout",
          "output_type": "stream",
          "text": [
            "Epoch 1:\n"
          ]
        },
        {
          "name": "stderr",
          "output_type": "stream",
          "text": [
            "Batch loss = 0.577438: 100%|██████████| 15060/15060 [04:32<00:00, 55.20it/s]"
          ]
        },
        {
          "name": "stdout",
          "output_type": "stream",
          "text": [
            "\n",
            "Evaluation (dev):\n"
          ]
        },
        {
          "name": "stderr",
          "output_type": "stream",
          "text": [
            "\n",
            "100%|██████████| 2357/2357 [03:16<00:00, 11.97it/s]"
          ]
        },
        {
          "name": "stdout",
          "output_type": "stream",
          "text": [
            "\n",
            " {'precision': 0.11565549427238016, 'recall': 0.17684104601420847, 'ndcg': 0.1648580594543285}\n",
            "Epoch 2:\n"
          ]
        },
        {
          "name": "stderr",
          "output_type": "stream",
          "text": [
            "\n",
            "Batch loss = 0.576048: 100%|██████████| 15060/15060 [04:34<00:00, 54.85it/s]"
          ]
        },
        {
          "name": "stdout",
          "output_type": "stream",
          "text": [
            "\n",
            "Evaluation (dev):\n"
          ]
        },
        {
          "name": "stderr",
          "output_type": "stream",
          "text": [
            "\n",
            "100%|██████████| 2357/2357 [03:15<00:00, 12.03it/s]"
          ]
        },
        {
          "name": "stdout",
          "output_type": "stream",
          "text": [
            "\n",
            " {'precision': 0.11574034789987275, 'recall': 0.17606794780701862, 'ndcg': 0.16434954068456503}\n"
          ]
        },
        {
          "name": "stderr",
          "output_type": "stream",
          "text": [
            "\n"
          ]
        },
        {
          "name": "stdout",
          "output_type": "stream",
          "text": [
            "Epoch 3:\n"
          ]
        },
        {
          "name": "stderr",
          "output_type": "stream",
          "text": [
            "Batch loss = 0.574895: 100%|██████████| 15060/15060 [04:15<00:00, 59.03it/s]"
          ]
        },
        {
          "name": "stdout",
          "output_type": "stream",
          "text": [
            "\n",
            "Evaluation (dev):\n"
          ]
        },
        {
          "name": "stderr",
          "output_type": "stream",
          "text": [
            "\n",
            "100%|██████████| 2357/2357 [03:14<00:00, 12.10it/s]"
          ]
        },
        {
          "name": "stdout",
          "output_type": "stream",
          "text": [
            "\n",
            " {'precision': 0.11629189647857446, 'recall': 0.17655253422588868, 'ndcg': 0.164681952386545}\n",
            "Epoch 4:\n"
          ]
        },
        {
          "name": "stderr",
          "output_type": "stream",
          "text": [
            "\n",
            "Batch loss = 0.573924: 100%|██████████| 15060/15060 [04:11<00:00, 59.83it/s]"
          ]
        },
        {
          "name": "stdout",
          "output_type": "stream",
          "text": [
            "\n",
            "Evaluation (dev):\n"
          ]
        },
        {
          "name": "stderr",
          "output_type": "stream",
          "text": [
            "\n",
            "100%|██████████| 2357/2357 [03:14<00:00, 12.11it/s]"
          ]
        },
        {
          "name": "stdout",
          "output_type": "stream",
          "text": [
            "\n",
            " {'precision': 0.11624946966482817, 'recall': 0.17662851344398434, 'ndcg': 0.1649731924751921}\n",
            "Epoch 5:\n"
          ]
        },
        {
          "name": "stderr",
          "output_type": "stream",
          "text": [
            "\n",
            "Batch loss = 0.573097: 100%|██████████| 15060/15060 [04:13<00:00, 59.45it/s]"
          ]
        },
        {
          "name": "stdout",
          "output_type": "stream",
          "text": [
            "\n",
            "Evaluation (dev):\n"
          ]
        },
        {
          "name": "stderr",
          "output_type": "stream",
          "text": [
            "\n",
            "100%|██████████| 2357/2357 [03:15<00:00, 12.06it/s]"
          ]
        },
        {
          "name": "stdout",
          "output_type": "stream",
          "text": [
            "\n",
            " {'precision': 0.1161646160373356, 'recall': 0.17646262212661903, 'ndcg': 0.16486376186879517}\n",
            "Epoch 6:\n"
          ]
        },
        {
          "name": "stderr",
          "output_type": "stream",
          "text": [
            "\n",
            "Batch loss = 0.572386: 100%|██████████| 15060/15060 [04:12<00:00, 59.74it/s]\n"
          ]
        },
        {
          "name": "stdout",
          "output_type": "stream",
          "text": [
            "\n",
            "Evaluation (dev):\n"
          ]
        },
        {
          "name": "stderr",
          "output_type": "stream",
          "text": [
            "100%|██████████| 2357/2357 [03:14<00:00, 12.09it/s]"
          ]
        },
        {
          "name": "stdout",
          "output_type": "stream",
          "text": [
            "\n",
            " {'precision': 0.11599490878235044, 'recall': 0.1754830049059438, 'ndcg': 0.1643936293198781}\n",
            "Epoch 7:\n"
          ]
        },
        {
          "name": "stderr",
          "output_type": "stream",
          "text": [
            "\n",
            "Batch loss = 0.571765: 100%|██████████| 15060/15060 [04:12<00:00, 59.57it/s]"
          ]
        },
        {
          "name": "stdout",
          "output_type": "stream",
          "text": [
            "\n",
            "Evaluation (dev):\n"
          ]
        },
        {
          "name": "stderr",
          "output_type": "stream",
          "text": [
            "\n",
            "100%|██████████| 2357/2357 [03:15<00:00, 12.05it/s]"
          ]
        },
        {
          "name": "stdout",
          "output_type": "stream",
          "text": [
            "\n",
            " {'precision': 0.11582520152736529, 'recall': 0.17394463845647845, 'ndcg': 0.16410026592749155}\n"
          ]
        },
        {
          "name": "stderr",
          "output_type": "stream",
          "text": [
            "\n"
          ]
        },
        {
          "data": {
            "text/plain": [
              "SLRCSimple()"
            ]
          },
          "execution_count": 20,
          "metadata": {},
          "output_type": "execute_result"
        }
      ],
      "source": [
        "trainer.train()"
      ],
      "id": "33JbC2fGd5Da"
    },
    {
      "cell_type": "markdown",
      "metadata": {
        "id": "0LcJUFmiycaq"
      },
      "source": [
        "Save users' embeddings for validation step (user's embedding for validation step is his vector of recommendation scores for all items at the time of validation):"
      ],
      "id": "0LcJUFmiycaq"
    },
    {
      "cell_type": "code",
      "execution_count": null,
      "metadata": {
        "colab": {
          "background_save": true
        },
        "id": "T2yzTFv7yd9n",
        "outputId": "917759d8-f745-44c4-8362-f066c9449600"
      },
      "outputs": [
        {
          "name": "stderr",
          "output_type": "stream",
          "text": [
            "100%|██████████| 2357/2357 [03:29<00:00, 11.27it/s]\n"
          ]
        }
      ],
      "source": [
        "dev_user_emb = trainer.get_predictions(mode=\"dev\")"
      ],
      "id": "T2yzTFv7yd9n"
    },
    {
      "cell_type": "markdown",
      "metadata": {
        "id": "-i1zBxcHyk6k"
      },
      "source": [
        "Tune Neighborhood Module hyperparams on validation dataset:"
      ],
      "id": "-i1zBxcHyk6k"
    },
    {
      "cell_type": "code",
      "execution_count": null,
      "metadata": {
        "colab": {
          "background_save": true
        },
        "id": "UaP7p2OjSfD6",
        "outputId": "d82032b1-5d19-4700-9bf3-c7c9c9850636"
      },
      "outputs": [
        {
          "name": "stdout",
          "output_type": "stream",
          "text": [
            "train dataset preparing...\n"
          ]
        },
        {
          "name": "stderr",
          "output_type": "stream",
          "text": [
            "100%|██████████| 2358/2358 [00:16<00:00, 145.73it/s]\n"
          ]
        },
        {
          "name": "stdout",
          "output_type": "stream",
          "text": [
            "dev dataset preparing...\n"
          ]
        },
        {
          "name": "stderr",
          "output_type": "stream",
          "text": [
            "100%|██████████| 2357/2357 [00:12<00:00, 189.84it/s]\n"
          ]
        },
        {
          "name": "stdout",
          "output_type": "stream",
          "text": [
            "test dataset preparing...\n"
          ]
        },
        {
          "name": "stderr",
          "output_type": "stream",
          "text": [
            "100%|██████████| 2357/2357 [00:12<00:00, 184.62it/s]\n"
          ]
        }
      ],
      "source": [
        "trainer = NBRTrainer(\n",
        "    corpus=corpus,\n",
        "    max_epochs=None,\n",
        "    topk=10,\n",
        "    early_stop_num=None\n",
        ")"
      ],
      "id": "UaP7p2OjSfD6"
    },
    {
      "cell_type": "code",
      "execution_count": null,
      "metadata": {
        "colab": {
          "background_save": true
        },
        "id": "bOnOO6kVSgZb"
      },
      "outputs": [],
      "source": [
        "def objective(trial):\n",
        "    params = {\n",
        "        \"model\": NBRKNN(\n",
        "            item_num=corpus.n_items,\n",
        "            user_num=corpus.n_users,\n",
        "            nearest_neighbors_num=trial.suggest_int(\"nearest_neighbors_num\", low=1, high=200),\n",
        "            alpha=trial.suggest_float(\"alpha\", 0.0, 1.0, step=0.05),\n",
        "            user_emb=dev_user_emb\n",
        "        )\n",
        "    }\n",
        "\n",
        "    trainer.init_hyperparams(**params)\n",
        "    metrics = trainer.evaluate(mode=\"dev\")\n",
        "    score = metrics[\"ndcg\"]\n",
        "    return score"
      ],
      "id": "bOnOO6kVSgZb"
    },
    {
      "cell_type": "code",
      "execution_count": null,
      "metadata": {
        "colab": {
          "base_uri": "https://localhost:8080/"
        },
        "id": "yJ1kwzkNSgds",
        "outputId": "98edb510-00ae-4d14-8a5d-5af435ed126b"
      },
      "outputs": [
        {
          "name": "stderr",
          "output_type": "stream",
          "text": [
            "\u001b[32m[I 2023-05-02 20:44:53,469]\u001b[0m A new study created in memory with name: no-name-7325d121-200b-4c25-880c-0966116ae882\u001b[0m\n",
            "100%|██████████| 2357/2357 [03:00<00:00, 13.09it/s]\n",
            "\u001b[32m[I 2023-05-02 20:47:59,098]\u001b[0m Trial 0 finished with value: 0.12311387916948324 and parameters: {'nearest_neighbors_num': 155, 'alpha': 0.0}. Best is trial 0 with value: 0.12311387916948324.\u001b[0m\n",
            "100%|██████████| 2357/2357 [02:57<00:00, 13.26it/s]\n",
            "\u001b[32m[I 2023-05-02 20:51:02,569]\u001b[0m Trial 1 finished with value: 0.1718346591905977 and parameters: {'nearest_neighbors_num': 127, 'alpha': 0.75}. Best is trial 1 with value: 0.1718346591905977.\u001b[0m\n",
            "100%|██████████| 2357/2357 [02:58<00:00, 13.20it/s]\n",
            "\u001b[32m[I 2023-05-02 20:54:07,413]\u001b[0m Trial 2 finished with value: 0.1527396060836034 and parameters: {'nearest_neighbors_num': 100, 'alpha': 0.2}. Best is trial 1 with value: 0.1718346591905977.\u001b[0m\n",
            "100%|██████████| 2357/2357 [02:37<00:00, 14.96it/s]\n",
            "\u001b[32m[I 2023-05-02 20:56:50,192]\u001b[0m Trial 3 finished with value: 0.1735124404810969 and parameters: {'nearest_neighbors_num': 40, 'alpha': 0.75}. Best is trial 3 with value: 0.1735124404810969.\u001b[0m\n",
            "100%|██████████| 2357/2357 [02:47<00:00, 14.11it/s]\n",
            "\u001b[32m[I 2023-05-02 20:59:42,134]\u001b[0m Trial 4 finished with value: 0.13959245399318834 and parameters: {'nearest_neighbors_num': 34, 'alpha': 0.05}. Best is trial 3 with value: 0.1735124404810969.\u001b[0m\n",
            "100%|██████████| 2357/2357 [02:57<00:00, 13.28it/s]\n",
            "\u001b[32m[I 2023-05-02 21:02:47,176]\u001b[0m Trial 5 finished with value: 0.1649731924751921 and parameters: {'nearest_neighbors_num': 138, 'alpha': 1.0}. Best is trial 3 with value: 0.1735124404810969.\u001b[0m\n",
            "100%|██████████| 2357/2357 [02:38<00:00, 14.84it/s]\n",
            "\u001b[32m[I 2023-05-02 21:05:30,743]\u001b[0m Trial 6 finished with value: 0.1649731924751921 and parameters: {'nearest_neighbors_num': 1, 'alpha': 0.5}. Best is trial 3 with value: 0.1735124404810969.\u001b[0m\n",
            "100%|██████████| 2357/2357 [03:01<00:00, 13.01it/s]\n",
            "\u001b[32m[I 2023-05-02 21:08:36,968]\u001b[0m Trial 7 finished with value: 0.1727120042784215 and parameters: {'nearest_neighbors_num': 163, 'alpha': 0.6000000000000001}. Best is trial 3 with value: 0.1735124404810969.\u001b[0m\n",
            "100%|██████████| 2357/2357 [03:04<00:00, 12.74it/s]\n",
            "\u001b[32m[I 2023-05-02 21:11:46,580]\u001b[0m Trial 8 finished with value: 0.16170261428818314 and parameters: {'nearest_neighbors_num': 145, 'alpha': 0.30000000000000004}. Best is trial 3 with value: 0.1735124404810969.\u001b[0m\n",
            "100%|██████████| 2357/2357 [03:05<00:00, 12.74it/s]\n",
            "\u001b[32m[I 2023-05-02 21:14:56,247]\u001b[0m Trial 9 finished with value: 0.1720988216992505 and parameters: {'nearest_neighbors_num': 184, 'alpha': 0.75}. Best is trial 3 with value: 0.1735124404810969.\u001b[0m\n",
            "100%|██████████| 2357/2357 [02:50<00:00, 13.81it/s]\n",
            "\u001b[32m[I 2023-05-02 21:17:51,883]\u001b[0m Trial 10 finished with value: 0.1649731924751921 and parameters: {'nearest_neighbors_num': 72, 'alpha': 1.0}. Best is trial 3 with value: 0.1735124404810969.\u001b[0m\n",
            "100%|██████████| 2357/2357 [03:08<00:00, 12.49it/s]\n",
            "\u001b[32m[I 2023-05-02 21:21:05,473]\u001b[0m Trial 11 finished with value: 0.17324206268169134 and parameters: {'nearest_neighbors_num': 198, 'alpha': 0.65}. Best is trial 3 with value: 0.1735124404810969.\u001b[0m\n",
            "100%|██████████| 2357/2357 [02:49<00:00, 13.91it/s]\n",
            "\u001b[32m[I 2023-05-02 21:24:01,448]\u001b[0m Trial 12 finished with value: 0.1728234332314457 and parameters: {'nearest_neighbors_num': 67, 'alpha': 0.75}. Best is trial 3 with value: 0.1735124404810969.\u001b[0m\n",
            "100%|██████████| 2357/2357 [03:10<00:00, 12.40it/s]\n",
            "\u001b[32m[I 2023-05-02 21:27:18,169]\u001b[0m Trial 13 finished with value: 0.17291724169007808 and parameters: {'nearest_neighbors_num': 200, 'alpha': 0.6000000000000001}. Best is trial 3 with value: 0.1735124404810969.\u001b[0m\n",
            "100%|██████████| 2357/2357 [02:43<00:00, 14.45it/s]\n",
            "\u001b[32m[I 2023-05-02 21:30:06,140]\u001b[0m Trial 14 finished with value: 0.170624010630603 and parameters: {'nearest_neighbors_num': 38, 'alpha': 0.8500000000000001}. Best is trial 3 with value: 0.1735124404810969.\u001b[0m\n",
            "100%|██████████| 2357/2357 [02:48<00:00, 13.97it/s]\n",
            "\u001b[32m[I 2023-05-02 21:33:01,175]\u001b[0m Trial 15 finished with value: 0.16855397535118918 and parameters: {'nearest_neighbors_num': 104, 'alpha': 0.4}. Best is trial 3 with value: 0.1735124404810969.\u001b[0m\n",
            "100%|██████████| 2357/2357 [02:38<00:00, 14.85it/s]\n",
            "\u001b[32m[I 2023-05-02 21:35:46,530]\u001b[0m Trial 16 finished with value: 0.1753921839253257 and parameters: {'nearest_neighbors_num': 22, 'alpha': 0.6000000000000001}. Best is trial 16 with value: 0.1753921839253257.\u001b[0m\n",
            "100%|██████████| 2357/2357 [02:30<00:00, 15.67it/s]\n",
            "\u001b[32m[I 2023-05-02 21:38:22,693]\u001b[0m Trial 17 finished with value: 0.16897976342079282 and parameters: {'nearest_neighbors_num': 5, 'alpha': 0.5}. Best is trial 16 with value: 0.1753921839253257.\u001b[0m\n",
            "100%|██████████| 2357/2357 [02:42<00:00, 14.47it/s]\n",
            "\u001b[32m[I 2023-05-02 21:41:10,457]\u001b[0m Trial 18 finished with value: 0.17105171801948627 and parameters: {'nearest_neighbors_num': 34, 'alpha': 0.8500000000000001}. Best is trial 16 with value: 0.1753921839253257.\u001b[0m\n",
            "100%|██████████| 2357/2357 [02:40<00:00, 14.71it/s]\n",
            "\u001b[32m[I 2023-05-02 21:43:56,581]\u001b[0m Trial 19 finished with value: 0.16888678277035193 and parameters: {'nearest_neighbors_num': 58, 'alpha': 0.4}. Best is trial 16 with value: 0.1753921839253257.\u001b[0m\n",
            "100%|██████████| 2357/2357 [02:38<00:00, 14.89it/s]\n",
            "\u001b[32m[I 2023-05-02 21:46:39,656]\u001b[0m Trial 20 finished with value: 0.1703144424236722 and parameters: {'nearest_neighbors_num': 21, 'alpha': 0.9}. Best is trial 16 with value: 0.1753921839253257.\u001b[0m\n",
            "100%|██████████| 2357/2357 [02:48<00:00, 14.00it/s]\n",
            "\u001b[32m[I 2023-05-02 21:49:32,646]\u001b[0m Trial 21 finished with value: 0.17397848467715085 and parameters: {'nearest_neighbors_num': 95, 'alpha': 0.65}. Best is trial 16 with value: 0.1753921839253257.\u001b[0m\n",
            "100%|██████████| 2357/2357 [02:52<00:00, 13.67it/s]\n",
            "\u001b[32m[I 2023-05-02 21:52:29,817]\u001b[0m Trial 22 finished with value: 0.17421153650714333 and parameters: {'nearest_neighbors_num': 86, 'alpha': 0.65}. Best is trial 16 with value: 0.1753921839253257.\u001b[0m\n",
            "100%|██████████| 2357/2357 [02:53<00:00, 13.57it/s]\n",
            "\u001b[32m[I 2023-05-02 21:55:28,665]\u001b[0m Trial 23 finished with value: 0.17432549227404404 and parameters: {'nearest_neighbors_num': 91, 'alpha': 0.65}. Best is trial 16 with value: 0.1753921839253257.\u001b[0m\n",
            "100%|██████████| 2357/2357 [02:56<00:00, 13.34it/s]\n",
            "\u001b[32m[I 2023-05-02 21:58:30,903]\u001b[0m Trial 24 finished with value: 0.16846691750563333 and parameters: {'nearest_neighbors_num': 114, 'alpha': 0.4}. Best is trial 16 with value: 0.1753921839253257.\u001b[0m\n"
          ]
        }
      ],
      "source": [
        "sampler = optuna.samplers.TPESampler(seed=seed)\n",
        "study = optuna.create_study(direction=\"maximize\", sampler=sampler)\n",
        "study.optimize(objective, n_trials=25)"
      ],
      "id": "yJ1kwzkNSgds"
    },
    {
      "cell_type": "markdown",
      "metadata": {
        "id": "bs8RXNyPy1dO"
      },
      "source": [
        "Test TAIWI (calculate scores for different seeds):"
      ],
      "id": "bs8RXNyPy1dO"
    },
    {
      "cell_type": "code",
      "execution_count": null,
      "metadata": {
        "id": "vFoQ_5_qKIEG"
      },
      "outputs": [],
      "source": [
        "test_metrics = {\n",
        "    \"precision\": [],\n",
        "    \"recall\": [],\n",
        "    \"ndcg\": []\n",
        "}"
      ],
      "id": "vFoQ_5_qKIEG"
    },
    {
      "cell_type": "code",
      "execution_count": null,
      "metadata": {
        "colab": {
          "base_uri": "https://localhost:8080/"
        },
        "id": "vLbJSPlrLghN",
        "outputId": "e36dd3da-9134-427e-c1d1-156dd36d509a"
      },
      "outputs": [
        {
          "name": "stdout",
          "output_type": "stream",
          "text": [
            "\n",
            "___SEED___0\n",
            "train dataset preparing...\n"
          ]
        },
        {
          "name": "stderr",
          "output_type": "stream",
          "text": [
            "100%|██████████| 2358/2358 [00:08<00:00, 279.27it/s]\n"
          ]
        },
        {
          "name": "stdout",
          "output_type": "stream",
          "text": [
            "dev dataset preparing...\n"
          ]
        },
        {
          "name": "stderr",
          "output_type": "stream",
          "text": [
            "100%|██████████| 2357/2357 [00:11<00:00, 201.10it/s]\n"
          ]
        },
        {
          "name": "stdout",
          "output_type": "stream",
          "text": [
            "test dataset preparing...\n"
          ]
        },
        {
          "name": "stderr",
          "output_type": "stream",
          "text": [
            "100%|██████████| 2357/2357 [00:12<00:00, 194.80it/s]"
          ]
        },
        {
          "name": "stdout",
          "output_type": "stream",
          "text": [
            "Epoch 1:\n"
          ]
        },
        {
          "name": "stderr",
          "output_type": "stream",
          "text": [
            "\n",
            "Batch loss = 0.577507: 100%|██████████| 15060/15060 [02:47<00:00, 89.90it/s]\n"
          ]
        },
        {
          "name": "stdout",
          "output_type": "stream",
          "text": [
            "\n",
            "Evaluation (dev):\n"
          ]
        },
        {
          "name": "stderr",
          "output_type": "stream",
          "text": [
            "100%|██████████| 2357/2357 [01:12<00:00, 32.49it/s]"
          ]
        },
        {
          "name": "stdout",
          "output_type": "stream",
          "text": [
            "\n",
            " {'precision': 0.11535850657615612, 'recall': 0.17654723061333896, 'ndcg': 0.16435737794573518}\n",
            "Epoch 2:\n"
          ]
        },
        {
          "name": "stderr",
          "output_type": "stream",
          "text": [
            "\n",
            "Batch loss = 0.576102: 100%|██████████| 15060/15060 [02:45<00:00, 90.85it/s]"
          ]
        },
        {
          "name": "stdout",
          "output_type": "stream",
          "text": [
            "\n",
            "Evaluation (dev):\n"
          ]
        },
        {
          "name": "stderr",
          "output_type": "stream",
          "text": [
            "\n",
            "100%|██████████| 2357/2357 [01:13<00:00, 31.92it/s]"
          ]
        },
        {
          "name": "stdout",
          "output_type": "stream",
          "text": [
            "\n",
            " {'precision': 0.11591005515485789, 'recall': 0.1762658233669282, 'ndcg': 0.16437461229120745}\n",
            "Epoch 3:\n"
          ]
        },
        {
          "name": "stderr",
          "output_type": "stream",
          "text": [
            "\n",
            "Batch loss = 0.574934: 100%|██████████| 15060/15060 [02:47<00:00, 89.77it/s]"
          ]
        },
        {
          "name": "stdout",
          "output_type": "stream",
          "text": [
            "\n",
            "Evaluation (dev):\n"
          ]
        },
        {
          "name": "stderr",
          "output_type": "stream",
          "text": [
            "\n",
            "100%|██████████| 2357/2357 [01:14<00:00, 31.82it/s]"
          ]
        },
        {
          "name": "stdout",
          "output_type": "stream",
          "text": [
            "\n",
            " {'precision': 0.11629189647857445, 'recall': 0.1767296561883852, 'ndcg': 0.16486385888226146}\n",
            "Epoch 4:\n"
          ]
        },
        {
          "name": "stderr",
          "output_type": "stream",
          "text": [
            "\n",
            "Batch loss = 0.57395: 100%|██████████| 15060/15060 [02:46<00:00, 90.54it/s]"
          ]
        },
        {
          "name": "stdout",
          "output_type": "stream",
          "text": [
            "\n",
            "Evaluation (dev):\n"
          ]
        },
        {
          "name": "stderr",
          "output_type": "stream",
          "text": [
            "\n",
            "100%|██████████| 2357/2357 [01:13<00:00, 32.20it/s]"
          ]
        },
        {
          "name": "stdout",
          "output_type": "stream",
          "text": [
            "\n",
            " {'precision': 0.11633432329232074, 'recall': 0.17644111433967338, 'ndcg': 0.1648813214212546}\n",
            "Epoch 5:\n"
          ]
        },
        {
          "name": "stderr",
          "output_type": "stream",
          "text": [
            "\n",
            "Batch loss = 0.573112: 100%|██████████| 15060/15060 [02:46<00:00, 90.34it/s]"
          ]
        },
        {
          "name": "stdout",
          "output_type": "stream",
          "text": [
            "\n",
            "Evaluation (dev):\n"
          ]
        },
        {
          "name": "stderr",
          "output_type": "stream",
          "text": [
            "\n",
            "100%|██████████| 2357/2357 [01:12<00:00, 32.55it/s]"
          ]
        },
        {
          "name": "stdout",
          "output_type": "stream",
          "text": [
            "\n",
            " {'precision': 0.11612218922358933, 'recall': 0.1760895660491336, 'ndcg': 0.16441869769084638}\n",
            "Epoch 6:\n"
          ]
        },
        {
          "name": "stderr",
          "output_type": "stream",
          "text": [
            "\n",
            "Batch loss = 0.572391: 100%|██████████| 15060/15060 [02:47<00:00, 90.01it/s]"
          ]
        },
        {
          "name": "stdout",
          "output_type": "stream",
          "text": [
            "\n",
            "Evaluation (dev):\n"
          ]
        },
        {
          "name": "stderr",
          "output_type": "stream",
          "text": [
            "\n",
            "100%|██████████| 2357/2357 [01:12<00:00, 32.60it/s]"
          ]
        },
        {
          "name": "stdout",
          "output_type": "stream",
          "text": [
            "\n",
            " {'precision': 0.1158676283411116, 'recall': 0.1751983259060505, 'ndcg': 0.16430355773481312}\n",
            "Epoch 7:\n"
          ]
        },
        {
          "name": "stderr",
          "output_type": "stream",
          "text": [
            "\n",
            "Batch loss = 0.571763: 100%|██████████| 15060/15060 [02:47<00:00, 90.05it/s]"
          ]
        },
        {
          "name": "stdout",
          "output_type": "stream",
          "text": [
            "\n",
            "Evaluation (dev):\n"
          ]
        },
        {
          "name": "stderr",
          "output_type": "stream",
          "text": [
            "\n",
            "100%|██████████| 2357/2357 [01:12<00:00, 32.67it/s]"
          ]
        },
        {
          "name": "stdout",
          "output_type": "stream",
          "text": [
            "\n",
            " {'precision': 0.11582520152736529, 'recall': 0.17432394715513913, 'ndcg': 0.16400502673968226}\n"
          ]
        },
        {
          "name": "stderr",
          "output_type": "stream",
          "text": [
            "\n",
            "100%|██████████| 2357/2357 [01:12<00:00, 32.71it/s]\n",
            "100%|██████████| 2357/2357 [01:12<00:00, 32.54it/s]\n"
          ]
        },
        {
          "name": "stdout",
          "output_type": "stream",
          "text": [
            "train dataset preparing...\n"
          ]
        },
        {
          "name": "stderr",
          "output_type": "stream",
          "text": [
            "100%|██████████| 2358/2358 [00:11<00:00, 201.09it/s]\n"
          ]
        },
        {
          "name": "stdout",
          "output_type": "stream",
          "text": [
            "dev dataset preparing...\n"
          ]
        },
        {
          "name": "stderr",
          "output_type": "stream",
          "text": [
            "100%|██████████| 2357/2357 [00:11<00:00, 204.73it/s]\n"
          ]
        },
        {
          "name": "stdout",
          "output_type": "stream",
          "text": [
            "test dataset preparing...\n"
          ]
        },
        {
          "name": "stderr",
          "output_type": "stream",
          "text": [
            "100%|██████████| 2357/2357 [00:11<00:00, 207.01it/s]\n",
            "100%|██████████| 2357/2357 [01:58<00:00, 19.82it/s]\n"
          ]
        },
        {
          "name": "stdout",
          "output_type": "stream",
          "text": [
            "{'precision': [0.12095884599066611], 'recall': [0.17612002745219862], 'ndcg': [0.17098355046152433]}\n",
            "\n",
            "___SEED___1\n",
            "train dataset preparing...\n"
          ]
        },
        {
          "name": "stderr",
          "output_type": "stream",
          "text": [
            "100%|██████████| 2358/2358 [00:10<00:00, 227.92it/s]\n"
          ]
        },
        {
          "name": "stdout",
          "output_type": "stream",
          "text": [
            "dev dataset preparing...\n"
          ]
        },
        {
          "name": "stderr",
          "output_type": "stream",
          "text": [
            "100%|██████████| 2357/2357 [00:11<00:00, 213.78it/s]\n"
          ]
        },
        {
          "name": "stdout",
          "output_type": "stream",
          "text": [
            "test dataset preparing...\n"
          ]
        },
        {
          "name": "stderr",
          "output_type": "stream",
          "text": [
            "100%|██████████| 2357/2357 [00:11<00:00, 197.95it/s]"
          ]
        },
        {
          "name": "stdout",
          "output_type": "stream",
          "text": [
            "Epoch 1:\n"
          ]
        },
        {
          "name": "stderr",
          "output_type": "stream",
          "text": [
            "\n",
            "Batch loss = 0.577462: 100%|██████████| 15060/15060 [02:49<00:00, 88.85it/s]"
          ]
        },
        {
          "name": "stdout",
          "output_type": "stream",
          "text": [
            "\n",
            "Evaluation (dev):\n"
          ]
        },
        {
          "name": "stderr",
          "output_type": "stream",
          "text": [
            "\n",
            "100%|██████████| 2357/2357 [01:12<00:00, 32.35it/s]"
          ]
        },
        {
          "name": "stdout",
          "output_type": "stream",
          "text": [
            "\n",
            " {'precision': 0.11506151887993214, 'recall': 0.1765820492392197, 'ndcg': 0.16449431960363373}\n",
            "Epoch 2:\n"
          ]
        },
        {
          "name": "stderr",
          "output_type": "stream",
          "text": [
            "\n",
            "Batch loss = 0.576074: 100%|██████████| 15060/15060 [02:48<00:00, 89.54it/s]"
          ]
        },
        {
          "name": "stdout",
          "output_type": "stream",
          "text": [
            "\n",
            "Evaluation (dev):\n"
          ]
        },
        {
          "name": "stderr",
          "output_type": "stream",
          "text": [
            "\n",
            "100%|██████████| 2357/2357 [01:12<00:00, 32.58it/s]"
          ]
        },
        {
          "name": "stdout",
          "output_type": "stream",
          "text": [
            "\n",
            " {'precision': 0.11540093338990241, 'recall': 0.17548989428823922, 'ndcg': 0.16405846192863924}\n",
            "Epoch 3:\n"
          ]
        },
        {
          "name": "stderr",
          "output_type": "stream",
          "text": [
            "\n",
            "Batch loss = 0.574922: 100%|██████████| 15060/15060 [02:48<00:00, 89.13it/s]\n"
          ]
        },
        {
          "name": "stdout",
          "output_type": "stream",
          "text": [
            "\n",
            "Evaluation (dev):\n"
          ]
        },
        {
          "name": "stderr",
          "output_type": "stream",
          "text": [
            "100%|██████████| 2357/2357 [01:13<00:00, 32.18it/s]"
          ]
        },
        {
          "name": "stdout",
          "output_type": "stream",
          "text": [
            "\n",
            " {'precision': 0.11591005515485786, 'recall': 0.17585670966119427, 'ndcg': 0.1642078415204301}\n",
            "Epoch 4:\n"
          ]
        },
        {
          "name": "stderr",
          "output_type": "stream",
          "text": [
            "\n",
            "Batch loss = 0.573952: 100%|██████████| 15060/15060 [02:48<00:00, 89.47it/s]\n"
          ]
        },
        {
          "name": "stdout",
          "output_type": "stream",
          "text": [
            "\n",
            "Evaluation (dev):\n"
          ]
        },
        {
          "name": "stderr",
          "output_type": "stream",
          "text": [
            "100%|██████████| 2357/2357 [01:13<00:00, 32.28it/s]"
          ]
        },
        {
          "name": "stdout",
          "output_type": "stream",
          "text": [
            "\n",
            " {'precision': 0.11595248196860417, 'recall': 0.1756660622423153, 'ndcg': 0.16442445542687847}\n"
          ]
        },
        {
          "name": "stderr",
          "output_type": "stream",
          "text": [
            "\n",
            "100%|██████████| 2357/2357 [01:12<00:00, 32.43it/s]\n",
            "100%|██████████| 2357/2357 [01:12<00:00, 32.37it/s]\n"
          ]
        },
        {
          "name": "stdout",
          "output_type": "stream",
          "text": [
            "train dataset preparing...\n"
          ]
        },
        {
          "name": "stderr",
          "output_type": "stream",
          "text": [
            "100%|██████████| 2358/2358 [00:11<00:00, 203.61it/s]\n"
          ]
        },
        {
          "name": "stdout",
          "output_type": "stream",
          "text": [
            "dev dataset preparing...\n"
          ]
        },
        {
          "name": "stderr",
          "output_type": "stream",
          "text": [
            "100%|██████████| 2357/2357 [00:11<00:00, 206.72it/s]\n"
          ]
        },
        {
          "name": "stdout",
          "output_type": "stream",
          "text": [
            "test dataset preparing...\n"
          ]
        },
        {
          "name": "stderr",
          "output_type": "stream",
          "text": [
            "100%|██████████| 2357/2357 [00:10<00:00, 215.58it/s]\n",
            "100%|██████████| 2357/2357 [01:54<00:00, 20.51it/s]\n"
          ]
        },
        {
          "name": "stdout",
          "output_type": "stream",
          "text": [
            "{'precision': [0.12095884599066611, 0.12134068731438269], 'recall': [0.17612002745219862, 0.17772127477198774], 'ndcg': [0.17098355046152433, 0.17145930304056856]}\n",
            "\n",
            "___SEED___2\n",
            "train dataset preparing...\n"
          ]
        },
        {
          "name": "stderr",
          "output_type": "stream",
          "text": [
            "100%|██████████| 2358/2358 [00:10<00:00, 214.85it/s]\n"
          ]
        },
        {
          "name": "stdout",
          "output_type": "stream",
          "text": [
            "dev dataset preparing...\n"
          ]
        },
        {
          "name": "stderr",
          "output_type": "stream",
          "text": [
            "100%|██████████| 2357/2357 [00:11<00:00, 210.98it/s]\n"
          ]
        },
        {
          "name": "stdout",
          "output_type": "stream",
          "text": [
            "test dataset preparing...\n"
          ]
        },
        {
          "name": "stderr",
          "output_type": "stream",
          "text": [
            "100%|██████████| 2357/2357 [00:11<00:00, 207.74it/s]"
          ]
        },
        {
          "name": "stdout",
          "output_type": "stream",
          "text": [
            "Epoch 1:\n"
          ]
        },
        {
          "name": "stderr",
          "output_type": "stream",
          "text": [
            "\n",
            "Batch loss = 0.577384: 100%|██████████| 15060/15060 [02:48<00:00, 89.15it/s]"
          ]
        },
        {
          "name": "stdout",
          "output_type": "stream",
          "text": [
            "\n",
            "Evaluation (dev):\n"
          ]
        },
        {
          "name": "stderr",
          "output_type": "stream",
          "text": [
            "\n",
            "100%|██████████| 2357/2357 [01:13<00:00, 32.18it/s]"
          ]
        },
        {
          "name": "stdout",
          "output_type": "stream",
          "text": [
            "\n",
            " {'precision': 0.11523122613491728, 'recall': 0.17673341506202614, 'ndcg': 0.16472421538662033}\n",
            "Epoch 2:\n"
          ]
        },
        {
          "name": "stderr",
          "output_type": "stream",
          "text": [
            "\n",
            "Batch loss = 0.575992: 100%|██████████| 15060/15060 [02:49<00:00, 88.95it/s]"
          ]
        },
        {
          "name": "stdout",
          "output_type": "stream",
          "text": [
            "\n",
            "Evaluation (dev):\n"
          ]
        },
        {
          "name": "stderr",
          "output_type": "stream",
          "text": [
            "\n",
            "100%|██████████| 2357/2357 [01:12<00:00, 32.56it/s]"
          ]
        },
        {
          "name": "stdout",
          "output_type": "stream",
          "text": [
            "\n",
            " {'precision': 0.11565549427238016, 'recall': 0.17654839324982205, 'ndcg': 0.16454621682819276}\n",
            "Epoch 3:\n"
          ]
        },
        {
          "name": "stderr",
          "output_type": "stream",
          "text": [
            "\n",
            "Batch loss = 0.574835: 100%|██████████| 15060/15060 [02:50<00:00, 88.48it/s]"
          ]
        },
        {
          "name": "stdout",
          "output_type": "stream",
          "text": [
            "\n",
            "Evaluation (dev):\n"
          ]
        },
        {
          "name": "stderr",
          "output_type": "stream",
          "text": [
            "\n",
            "100%|██████████| 2357/2357 [01:12<00:00, 32.60it/s]"
          ]
        },
        {
          "name": "stdout",
          "output_type": "stream",
          "text": [
            "\n",
            " {'precision': 0.11582520152736529, 'recall': 0.17622632417097026, 'ndcg': 0.16452099030358078}\n",
            "Epoch 4:\n"
          ]
        },
        {
          "name": "stderr",
          "output_type": "stream",
          "text": [
            "\n",
            "Batch loss = 0.573862: 100%|██████████| 15060/15060 [02:50<00:00, 88.22it/s]"
          ]
        },
        {
          "name": "stdout",
          "output_type": "stream",
          "text": [
            "\n",
            "Evaluation (dev):\n"
          ]
        },
        {
          "name": "stderr",
          "output_type": "stream",
          "text": [
            "\n",
            "100%|██████████| 2357/2357 [01:12<00:00, 32.32it/s]"
          ]
        },
        {
          "name": "stdout",
          "output_type": "stream",
          "text": [
            "\n",
            " {'precision': 0.11591005515485789, 'recall': 0.17607234421162468, 'ndcg': 0.16460485467650643}\n"
          ]
        },
        {
          "name": "stderr",
          "output_type": "stream",
          "text": [
            "\n",
            "100%|██████████| 2357/2357 [01:12<00:00, 32.36it/s]\n",
            "100%|██████████| 2357/2357 [01:14<00:00, 31.47it/s]\n"
          ]
        },
        {
          "name": "stdout",
          "output_type": "stream",
          "text": [
            "train dataset preparing...\n"
          ]
        },
        {
          "name": "stderr",
          "output_type": "stream",
          "text": [
            "100%|██████████| 2358/2358 [00:09<00:00, 240.05it/s]\n"
          ]
        },
        {
          "name": "stdout",
          "output_type": "stream",
          "text": [
            "dev dataset preparing...\n"
          ]
        },
        {
          "name": "stderr",
          "output_type": "stream",
          "text": [
            "100%|██████████| 2357/2357 [00:11<00:00, 207.90it/s]\n"
          ]
        },
        {
          "name": "stdout",
          "output_type": "stream",
          "text": [
            "test dataset preparing...\n"
          ]
        },
        {
          "name": "stderr",
          "output_type": "stream",
          "text": [
            "100%|██████████| 2357/2357 [00:11<00:00, 206.43it/s]\n",
            "100%|██████████| 2357/2357 [01:59<00:00, 19.79it/s]\n"
          ]
        },
        {
          "name": "stdout",
          "output_type": "stream",
          "text": [
            "{'precision': [0.12095884599066611, 0.12134068731438269, 0.12112855324565125], 'recall': [0.17612002745219862, 0.17772127477198774, 0.17742432221031992], 'ndcg': [0.17098355046152433, 0.17145930304056856, 0.17137393142884408]}\n",
            "\n",
            "___SEED___3\n",
            "train dataset preparing...\n"
          ]
        },
        {
          "name": "stderr",
          "output_type": "stream",
          "text": [
            "100%|██████████| 2358/2358 [00:11<00:00, 213.11it/s]\n"
          ]
        },
        {
          "name": "stdout",
          "output_type": "stream",
          "text": [
            "dev dataset preparing...\n"
          ]
        },
        {
          "name": "stderr",
          "output_type": "stream",
          "text": [
            "100%|██████████| 2357/2357 [00:11<00:00, 203.28it/s]\n"
          ]
        },
        {
          "name": "stdout",
          "output_type": "stream",
          "text": [
            "test dataset preparing...\n"
          ]
        },
        {
          "name": "stderr",
          "output_type": "stream",
          "text": [
            "100%|██████████| 2357/2357 [00:10<00:00, 214.55it/s]"
          ]
        },
        {
          "name": "stdout",
          "output_type": "stream",
          "text": [
            "Epoch 1:\n"
          ]
        },
        {
          "name": "stderr",
          "output_type": "stream",
          "text": [
            "\n",
            "Batch loss = 0.577585: 100%|██████████| 15060/15060 [02:54<00:00, 86.48it/s]"
          ]
        },
        {
          "name": "stdout",
          "output_type": "stream",
          "text": [
            "\n",
            "Evaluation (dev):\n"
          ]
        },
        {
          "name": "stderr",
          "output_type": "stream",
          "text": [
            "\n",
            "100%|██████████| 2357/2357 [01:14<00:00, 31.83it/s]"
          ]
        },
        {
          "name": "stdout",
          "output_type": "stream",
          "text": [
            "\n",
            " {'precision': 0.11557064064488756, 'recall': 0.1767706526724302, 'ndcg': 0.16486263754332411}\n",
            "Epoch 2:\n"
          ]
        },
        {
          "name": "stderr",
          "output_type": "stream",
          "text": [
            "\n",
            "Batch loss = 0.576177: 100%|██████████| 15060/15060 [02:51<00:00, 87.88it/s]"
          ]
        },
        {
          "name": "stdout",
          "output_type": "stream",
          "text": [
            "\n",
            "Evaluation (dev):\n"
          ]
        },
        {
          "name": "stderr",
          "output_type": "stream",
          "text": [
            "\n",
            "100%|██████████| 2357/2357 [01:13<00:00, 31.94it/s]"
          ]
        },
        {
          "name": "stdout",
          "output_type": "stream",
          "text": [
            "\n",
            " {'precision': 0.11565549427238016, 'recall': 0.17640132038679918, 'ndcg': 0.16459255363632255}\n",
            "Epoch 3:\n"
          ]
        },
        {
          "name": "stderr",
          "output_type": "stream",
          "text": [
            "\n",
            "Batch loss = 0.575007: 100%|██████████| 15060/15060 [02:51<00:00, 87.61it/s]"
          ]
        },
        {
          "name": "stdout",
          "output_type": "stream",
          "text": [
            "\n",
            "Evaluation (dev):\n"
          ]
        },
        {
          "name": "stderr",
          "output_type": "stream",
          "text": [
            "\n",
            "100%|██████████| 2357/2357 [01:13<00:00, 32.21it/s]"
          ]
        },
        {
          "name": "stdout",
          "output_type": "stream",
          "text": [
            "\n",
            " {'precision': 0.11603733559609673, 'recall': 0.17665838357019475, 'ndcg': 0.16480815545779082}\n",
            "Epoch 4:\n"
          ]
        },
        {
          "name": "stderr",
          "output_type": "stream",
          "text": [
            "\n",
            "Batch loss = 0.57402: 100%|██████████| 15060/15060 [02:52<00:00, 87.41it/s]"
          ]
        },
        {
          "name": "stdout",
          "output_type": "stream",
          "text": [
            "\n",
            "Evaluation (dev):\n"
          ]
        },
        {
          "name": "stderr",
          "output_type": "stream",
          "text": [
            "\n",
            "100%|██████████| 2357/2357 [01:13<00:00, 32.05it/s]"
          ]
        },
        {
          "name": "stdout",
          "output_type": "stream",
          "text": [
            "\n",
            " {'precision': 0.11624946966482817, 'recall': 0.17608793864796965, 'ndcg': 0.1646243433827141}\n"
          ]
        },
        {
          "name": "stderr",
          "output_type": "stream",
          "text": [
            "\n",
            "100%|██████████| 2357/2357 [01:13<00:00, 32.28it/s]\n",
            "100%|██████████| 2357/2357 [01:12<00:00, 32.41it/s]\n"
          ]
        },
        {
          "name": "stdout",
          "output_type": "stream",
          "text": [
            "train dataset preparing...\n"
          ]
        },
        {
          "name": "stderr",
          "output_type": "stream",
          "text": [
            "100%|██████████| 2358/2358 [00:11<00:00, 213.97it/s]\n"
          ]
        },
        {
          "name": "stdout",
          "output_type": "stream",
          "text": [
            "dev dataset preparing...\n"
          ]
        },
        {
          "name": "stderr",
          "output_type": "stream",
          "text": [
            "100%|██████████| 2357/2357 [00:11<00:00, 213.83it/s]\n"
          ]
        },
        {
          "name": "stdout",
          "output_type": "stream",
          "text": [
            "test dataset preparing...\n"
          ]
        },
        {
          "name": "stderr",
          "output_type": "stream",
          "text": [
            "100%|██████████| 2357/2357 [00:10<00:00, 225.32it/s]\n",
            "100%|██████████| 2357/2357 [01:56<00:00, 20.18it/s]\n"
          ]
        },
        {
          "name": "stdout",
          "output_type": "stream",
          "text": [
            "{'precision': [0.12095884599066611, 0.12134068731438269, 0.12112855324565125, 0.12108612643190496], 'recall': [0.17612002745219862, 0.17772127477198774, 0.17742432221031992, 0.17745281735556748], 'ndcg': [0.17098355046152433, 0.17145930304056856, 0.17137393142884408, 0.17143860369949687]}\n",
            "\n",
            "___SEED___4\n",
            "train dataset preparing...\n"
          ]
        },
        {
          "name": "stderr",
          "output_type": "stream",
          "text": [
            "100%|██████████| 2358/2358 [00:10<00:00, 214.69it/s]\n"
          ]
        },
        {
          "name": "stdout",
          "output_type": "stream",
          "text": [
            "dev dataset preparing...\n"
          ]
        },
        {
          "name": "stderr",
          "output_type": "stream",
          "text": [
            "100%|██████████| 2357/2357 [00:11<00:00, 206.80it/s]\n"
          ]
        },
        {
          "name": "stdout",
          "output_type": "stream",
          "text": [
            "test dataset preparing...\n"
          ]
        },
        {
          "name": "stderr",
          "output_type": "stream",
          "text": [
            "100%|██████████| 2357/2357 [00:11<00:00, 201.93it/s]"
          ]
        },
        {
          "name": "stdout",
          "output_type": "stream",
          "text": [
            "Epoch 1:\n"
          ]
        },
        {
          "name": "stderr",
          "output_type": "stream",
          "text": [
            "\n",
            "Batch loss = 0.577492: 100%|██████████| 15060/15060 [02:51<00:00, 87.74it/s]"
          ]
        },
        {
          "name": "stdout",
          "output_type": "stream",
          "text": [
            "\n",
            "Evaluation (dev):\n"
          ]
        },
        {
          "name": "stderr",
          "output_type": "stream",
          "text": [
            "\n",
            "100%|██████████| 2357/2357 [01:14<00:00, 31.78it/s]"
          ]
        },
        {
          "name": "stdout",
          "output_type": "stream",
          "text": [
            "\n",
            " {'precision': 0.11527365294866357, 'recall': 0.17695473105777185, 'ndcg': 0.16486642007309535}\n",
            "Epoch 2:\n"
          ]
        },
        {
          "name": "stderr",
          "output_type": "stream",
          "text": [
            "\n",
            "Batch loss = 0.576083: 100%|██████████| 15060/15060 [02:52<00:00, 87.53it/s]"
          ]
        },
        {
          "name": "stdout",
          "output_type": "stream",
          "text": [
            "\n",
            "Evaluation (dev):\n"
          ]
        },
        {
          "name": "stderr",
          "output_type": "stream",
          "text": [
            "\n",
            "100%|██████████| 2357/2357 [01:13<00:00, 31.88it/s]"
          ]
        },
        {
          "name": "stdout",
          "output_type": "stream",
          "text": [
            "\n",
            " {'precision': 0.11548578701739501, 'recall': 0.1765150323151148, 'ndcg': 0.1648176459997348}\n",
            "Epoch 3:\n"
          ]
        },
        {
          "name": "stderr",
          "output_type": "stream",
          "text": [
            "\n",
            "Batch loss = 0.57491: 100%|██████████| 15060/15060 [02:51<00:00, 87.66it/s]"
          ]
        },
        {
          "name": "stdout",
          "output_type": "stream",
          "text": [
            "\n",
            "Evaluation (dev):\n"
          ]
        },
        {
          "name": "stderr",
          "output_type": "stream",
          "text": [
            "\n",
            "100%|██████████| 2357/2357 [01:12<00:00, 32.33it/s]"
          ]
        },
        {
          "name": "stdout",
          "output_type": "stream",
          "text": [
            "\n",
            " {'precision': 0.11578277471361902, 'recall': 0.1759971937348859, 'ndcg': 0.16475452493203535}\n",
            "Epoch 4:\n"
          ]
        },
        {
          "name": "stderr",
          "output_type": "stream",
          "text": [
            "\n",
            "Batch loss = 0.573921: 100%|██████████| 15060/15060 [02:52<00:00, 87.32it/s]"
          ]
        },
        {
          "name": "stdout",
          "output_type": "stream",
          "text": [
            "\n",
            "Evaluation (dev):\n"
          ]
        },
        {
          "name": "stderr",
          "output_type": "stream",
          "text": [
            "\n",
            "100%|██████████| 2357/2357 [01:12<00:00, 32.60it/s]"
          ]
        },
        {
          "name": "stdout",
          "output_type": "stream",
          "text": [
            "\n",
            " {'precision': 0.11595248196860414, 'recall': 0.17583848400859664, 'ndcg': 0.1647625265138274}\n"
          ]
        },
        {
          "name": "stderr",
          "output_type": "stream",
          "text": [
            "\n",
            "100%|██████████| 2357/2357 [01:13<00:00, 32.22it/s]\n",
            "100%|██████████| 2357/2357 [01:13<00:00, 32.18it/s]\n"
          ]
        },
        {
          "name": "stdout",
          "output_type": "stream",
          "text": [
            "train dataset preparing...\n"
          ]
        },
        {
          "name": "stderr",
          "output_type": "stream",
          "text": [
            "100%|██████████| 2358/2358 [00:10<00:00, 230.37it/s]\n"
          ]
        },
        {
          "name": "stdout",
          "output_type": "stream",
          "text": [
            "dev dataset preparing...\n"
          ]
        },
        {
          "name": "stderr",
          "output_type": "stream",
          "text": [
            "100%|██████████| 2357/2357 [00:10<00:00, 221.07it/s]\n"
          ]
        },
        {
          "name": "stdout",
          "output_type": "stream",
          "text": [
            "test dataset preparing...\n"
          ]
        },
        {
          "name": "stderr",
          "output_type": "stream",
          "text": [
            "100%|██████████| 2357/2357 [00:11<00:00, 208.46it/s]\n",
            "100%|██████████| 2357/2357 [01:57<00:00, 20.04it/s]"
          ]
        },
        {
          "name": "stdout",
          "output_type": "stream",
          "text": [
            "{'precision': [0.12095884599066611, 0.12134068731438269, 0.12112855324565125, 0.12108612643190496, 0.12104369961815868], 'recall': [0.17612002745219862, 0.17772127477198774, 0.17742432221031992, 0.17745281735556748, 0.17755391459587222], 'ndcg': [0.17098355046152433, 0.17145930304056856, 0.17137393142884408, 0.17143860369949687, 0.17146823846395248]}\n"
          ]
        },
        {
          "name": "stderr",
          "output_type": "stream",
          "text": [
            "\n"
          ]
        }
      ],
      "source": [
        "for seed in range(5):\n",
        "    print(f\"\\n___SEED___{seed}\")\n",
        "    torch.manual_seed(seed)\n",
        "    random.seed(seed)\n",
        "    np.random.seed(seed)\n",
        "\n",
        "    trainer = NBRTrainer(\n",
        "        corpus=corpus,\n",
        "        max_epochs=20,\n",
        "        topk=10,\n",
        "        early_stop_num=3\n",
        "    )\n",
        "\n",
        "    params = {\n",
        "        \"model\": RepurchaseModule(\n",
        "            item_num=corpus.n_items,\n",
        "            avg_repeat_interval=corpus.total_avg_interval\n",
        "        ),\n",
        "        \"batch_size\": slrc_best_params[\"batch_size\"],\n",
        "        \"lr\": slrc_best_params[\"lr\"],\n",
        "        \"l2_reg_coef\": slrc_best_params[\"l2_reg_coef\"]\n",
        "    }\n",
        "\n",
        "    trainer.init_hyperparams(**params)\n",
        "    trainer.train()\n",
        "\n",
        "    dev_user_emb = trainer.get_predictions(mode=\"dev\")\n",
        "    test_user_emb = trainer.get_predictions(mode=\"test\")\n",
        "\n",
        "    trainer = NBRTrainer(\n",
        "        corpus=corpus,\n",
        "        max_epochs=None,\n",
        "        topk=10,\n",
        "        early_stop_num=None\n",
        "    )\n",
        "\n",
        "    params = {\n",
        "        \"model\": NBRKNN(\n",
        "            item_num=corpus.n_items,\n",
        "            user_num=corpus.n_users,\n",
        "            nearest_neighbors_num=study.best_params[\"nearest_neighbors_num\"],\n",
        "            alpha=study.best_params[\"alpha\"],\n",
        "            user_emb=dev_user_emb\n",
        "        )\n",
        "    }\n",
        "    params[\"model\"].set_emb(test_user_emb)\n",
        "\n",
        "    trainer.init_hyperparams(**params)\n",
        "\n",
        "    metrics = trainer.evaluate(mode=\"test\")\n",
        "\n",
        "    test_metrics[\"precision\"].append(metrics[\"precision\"])\n",
        "    test_metrics[\"recall\"].append(metrics[\"recall\"])\n",
        "    test_metrics[\"ndcg\"].append(metrics[\"ndcg\"])\n",
        "    print(test_metrics)"
      ],
      "id": "vLbJSPlrLghN"
    },
    {
      "cell_type": "code",
      "execution_count": null,
      "metadata": {
        "colab": {
          "base_uri": "https://localhost:8080/"
        },
        "id": "dzP4ftV_CWnG",
        "outputId": "51177460-0730-4018-80cd-30ae206ec932"
      },
      "outputs": [
        {
          "data": {
            "text/plain": [
              "{'precision': 0.12111158252015272,\n",
              " 'recall': 0.1772544712771892,\n",
              " 'ndcg': 0.17134472541887727}"
            ]
          },
          "execution_count": 17,
          "metadata": {},
          "output_type": "execute_result"
        }
      ],
      "source": [
        "{\n",
        "    \"precision\": np.array(test_metrics[\"precision\"]).mean(),\n",
        "    \"recall\": np.array(test_metrics[\"recall\"]).mean(),\n",
        "    \"ndcg\": np.array(test_metrics[\"ndcg\"]).mean(),\n",
        "}"
      ],
      "id": "dzP4ftV_CWnG"
    },
    {
      "cell_type": "code",
      "execution_count": null,
      "metadata": {
        "id": "j3qT0qGbSSmC"
      },
      "outputs": [],
      "source": [],
      "id": "j3qT0qGbSSmC"
    }
  ],
  "metadata": {
    "accelerator": "GPU",
    "colab": {
      "provenance": []
    },
    "gpuClass": "standard",
    "kernelspec": {
      "display_name": "Python 3 (ipykernel)",
      "language": "python",
      "name": "python3"
    },
    "language_info": {
      "codemirror_mode": {
        "name": "ipython",
        "version": 3
      },
      "file_extension": ".py",
      "mimetype": "text/x-python",
      "name": "python",
      "nbconvert_exporter": "python",
      "pygments_lexer": "ipython3",
      "version": "3.11.0"
    }
  },
  "nbformat": 4,
  "nbformat_minor": 5
}