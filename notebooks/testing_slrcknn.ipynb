{
 "cells": [
  {
   "cell_type": "code",
   "execution_count": null,
   "id": "c050939c",
   "metadata": {
    "id": "c050939c"
   },
   "outputs": [],
   "source": [
    "import os\n",
    "import sys\n",
    "sys.path.append(\"..\")\n",
    "from nbr.preparation import Preprocess, save_split, Corpus\n",
    "from nbr.trainer import NBRTrainer\n",
    "from nbr.model import BPR, SLRC, NBRKNN\n",
    "import torch\n",
    "import random\n",
    "import numpy as np\n",
    "import optuna\n",
    "import warnings\n",
    "warnings.filterwarnings(\"ignore\")"
   ]
  },
  {
   "cell_type": "markdown",
   "id": "lmDThZjM1F0o",
   "metadata": {
    "id": "lmDThZjM1F0o"
   },
   "source": [
    "# TaFeng"
   ]
  },
  {
   "cell_type": "markdown",
   "id": "05yruxYdAoaS",
   "metadata": {
    "id": "05yruxYdAoaS"
   },
   "source": [
    "Fix seed:"
   ]
  },
  {
   "cell_type": "code",
   "execution_count": null,
   "id": "9Fjvj_WgwcdC",
   "metadata": {
    "id": "9Fjvj_WgwcdC"
   },
   "outputs": [],
   "source": [
    "seed = 10\n",
    "torch.manual_seed(seed)\n",
    "random.seed(seed)\n",
    "np.random.seed(seed)"
   ]
  },
  {
   "cell_type": "markdown",
   "id": "ceLGEu8CArlm",
   "metadata": {
    "id": "ceLGEu8CArlm"
   },
   "source": [
    "Read interactions data (filter users with less than 5 transactions, high purchase frequency and one-day users and items with less than 10 transactions). Train dataset - all baskets except the last two, validation dataset - the last but one basket, test dataset - the last basket:"
   ]
  },
  {
   "cell_type": "code",
   "execution_count": null,
   "id": "7edb4953",
   "metadata": {
    "colab": {
     "base_uri": "https://localhost:8080/"
    },
    "id": "7edb4953",
    "outputId": "9ebb3521-7932-4c24-8430-f0ee902a7250"
   },
   "outputs": [
    {
     "name": "stdout",
     "output_type": "stream",
     "text": [
      "Before preprocessing: #users = 32266, #items = 23812, #clicks = 817741 (#illegal records = 0)\n",
      "After preprocessing: #users = 7358, #items = 11202, #clicks = 368951\n",
      "Saving dataset in ./data//data_ta_feng/...\n"
     ]
    }
   ],
   "source": [
    "corpus_path = \"./data/\"\n",
    "dataset_name = \"ta_feng\"\n",
    "\n",
    "preprocessor = Preprocess(corpus_path, dataset_name)\n",
    "preprocessor.load_data(5, 10, filt=True)\n",
    "save_split(corpus_path, dataset_name, preprocessor)"
   ]
  },
  {
   "cell_type": "code",
   "execution_count": null,
   "id": "501294f7",
   "metadata": {
    "id": "501294f7"
   },
   "outputs": [],
   "source": [
    "corpus = Corpus(corpus_path, dataset_name)\n",
    "corpus.load_data()"
   ]
  },
  {
   "cell_type": "markdown",
   "id": "MbFgpvd1Jd1H",
   "metadata": {
    "id": "MbFgpvd1Jd1H"
   },
   "source": [
    "Train SLRC model with best hyperparams (see ./testing_slrc.ipynb):"
   ]
  },
  {
   "cell_type": "code",
   "execution_count": null,
   "id": "0RjHRyx3ABnN",
   "metadata": {
    "colab": {
     "base_uri": "https://localhost:8080/"
    },
    "id": "0RjHRyx3ABnN",
    "outputId": "12b4053d-d456-4ac4-cf5e-af93252fa783"
   },
   "outputs": [
    {
     "name": "stdout",
     "output_type": "stream",
     "text": [
      "train dataset preparing...\n"
     ]
    },
    {
     "name": "stderr",
     "output_type": "stream",
     "text": [
      "100%|██████████| 7358/7358 [00:11<00:00, 638.75it/s]\n"
     ]
    },
    {
     "name": "stdout",
     "output_type": "stream",
     "text": [
      "dev dataset preparing...\n"
     ]
    },
    {
     "name": "stderr",
     "output_type": "stream",
     "text": [
      "100%|██████████| 7357/7357 [00:01<00:00, 4386.31it/s]\n"
     ]
    },
    {
     "name": "stdout",
     "output_type": "stream",
     "text": [
      "test dataset preparing...\n"
     ]
    },
    {
     "name": "stderr",
     "output_type": "stream",
     "text": [
      "100%|██████████| 7357/7357 [00:02<00:00, 2830.84it/s]\n"
     ]
    }
   ],
   "source": [
    "trainer = NBRTrainer(\n",
    "    corpus=corpus,\n",
    "    max_epochs=20,\n",
    "    topk=10,\n",
    "    early_stop_num=3\n",
    ")"
   ]
  },
  {
   "cell_type": "code",
   "execution_count": null,
   "id": "K5zdVv7D-NvQ",
   "metadata": {
    "id": "K5zdVv7D-NvQ"
   },
   "outputs": [],
   "source": [
    "slrc_best_params = {'emb_size': 64, 'batch_size': 64, 'lr': 0.0006142297613045982, 'l2_reg_coef': 0.0047331742711911855}\n",
    "\n",
    "params = {\n",
    "    \"model\": SLRC(\n",
    "        base_model_class=BPR,\n",
    "        base_model_config={\n",
    "            \"emb_size\": slrc_best_params[\"emb_size\"],\n",
    "            \"user_num\": corpus.n_users,\n",
    "            \"item_num\": corpus.n_items,\n",
    "            \"click_num\": corpus.n_clicks\n",
    "        },\n",
    "        item_num=corpus.n_items,\n",
    "        avg_repeat_interval=corpus.total_avg_interval\n",
    "    ),\n",
    "    \"batch_size\": slrc_best_params[\"batch_size\"],\n",
    "    \"lr\": slrc_best_params[\"lr\"],\n",
    "    \"l2_reg_coef\": slrc_best_params[\"l2_reg_coef\"]\n",
    "}\n",
    "\n",
    "trainer.init_hyperparams(**params)"
   ]
  },
  {
   "cell_type": "code",
   "execution_count": null,
   "id": "G6B-UhYuLooT",
   "metadata": {
    "colab": {
     "base_uri": "https://localhost:8080/"
    },
    "id": "G6B-UhYuLooT",
    "outputId": "0a7682a2-8f7f-448a-f80c-e59cf1b6c44e"
   },
   "outputs": [
    {
     "name": "stdout",
     "output_type": "stream",
     "text": [
      "Epoch 1:\n"
     ]
    },
    {
     "name": "stderr",
     "output_type": "stream",
     "text": [
      "Batch loss = 0.648382: 100%|██████████| 4445/4445 [00:46<00:00, 95.77it/s]"
     ]
    },
    {
     "name": "stdout",
     "output_type": "stream",
     "text": [
      "\n",
      "Evaluation (dev):\n"
     ]
    },
    {
     "name": "stderr",
     "output_type": "stream",
     "text": [
      "\n",
      "100%|██████████| 7357/7357 [01:18<00:00, 94.15it/s] "
     ]
    },
    {
     "name": "stdout",
     "output_type": "stream",
     "text": [
      "\n",
      " {'precision': 0.05296996058175887, 'recall': 0.11711213174337326, 'ndcg': 0.10312238567113029}\n",
      "Epoch 2:\n"
     ]
    },
    {
     "name": "stderr",
     "output_type": "stream",
     "text": [
      "\n",
      "Batch loss = 0.620238: 100%|██████████| 4445/4445 [00:44<00:00, 99.37it/s] "
     ]
    },
    {
     "name": "stdout",
     "output_type": "stream",
     "text": [
      "\n",
      "Evaluation (dev):\n"
     ]
    },
    {
     "name": "stderr",
     "output_type": "stream",
     "text": [
      "\n",
      "100%|██████████| 7357/7357 [01:19<00:00, 92.87it/s]"
     ]
    },
    {
     "name": "stdout",
     "output_type": "stream",
     "text": [
      "\n",
      " {'precision': 0.055008835123012106, 'recall': 0.12688101431125864, 'ndcg': 0.10693213499769577}\n"
     ]
    },
    {
     "name": "stderr",
     "output_type": "stream",
     "text": [
      "\n"
     ]
    },
    {
     "name": "stdout",
     "output_type": "stream",
     "text": [
      "Epoch 3:\n"
     ]
    },
    {
     "name": "stderr",
     "output_type": "stream",
     "text": [
      "Batch loss = 0.516222: 100%|██████████| 4445/4445 [00:44<00:00, 99.62it/s]"
     ]
    },
    {
     "name": "stdout",
     "output_type": "stream",
     "text": [
      "\n",
      "Evaluation (dev):\n"
     ]
    },
    {
     "name": "stderr",
     "output_type": "stream",
     "text": [
      "\n",
      "100%|██████████| 7357/7357 [01:15<00:00, 97.55it/s] "
     ]
    },
    {
     "name": "stdout",
     "output_type": "stream",
     "text": [
      "\n",
      " {'precision': 0.05620497485388066, 'recall': 0.13271546807521978, 'ndcg': 0.1095805846360861}\n",
      "Epoch 4:\n"
     ]
    },
    {
     "name": "stderr",
     "output_type": "stream",
     "text": [
      "\n",
      "Batch loss = 0.485183: 100%|██████████| 4445/4445 [00:44<00:00, 100.69it/s]"
     ]
    },
    {
     "name": "stdout",
     "output_type": "stream",
     "text": [
      "\n",
      "Evaluation (dev):\n"
     ]
    },
    {
     "name": "stderr",
     "output_type": "stream",
     "text": [
      "\n",
      "100%|██████████| 7357/7357 [01:17<00:00, 95.05it/s]"
     ]
    },
    {
     "name": "stdout",
     "output_type": "stream",
     "text": [
      "\n",
      " {'precision': 0.05596030990893027, 'recall': 0.13146033295519385, 'ndcg': 0.10894357560113532}\n",
      "Epoch 5:\n"
     ]
    },
    {
     "name": "stderr",
     "output_type": "stream",
     "text": [
      "\n",
      "Batch loss = 0.424968: 100%|██████████| 4445/4445 [00:44<00:00, 100.76it/s]"
     ]
    },
    {
     "name": "stdout",
     "output_type": "stream",
     "text": [
      "\n",
      "Evaluation (dev):\n"
     ]
    },
    {
     "name": "stderr",
     "output_type": "stream",
     "text": [
      "\n",
      "100%|██████████| 7357/7357 [01:14<00:00, 98.15it/s] "
     ]
    },
    {
     "name": "stdout",
     "output_type": "stream",
     "text": [
      "\n",
      " {'precision': 0.055892347424221826, 'recall': 0.1296131429002266, 'ndcg': 0.10869963177684373}\n",
      "Epoch 6:\n"
     ]
    },
    {
     "name": "stderr",
     "output_type": "stream",
     "text": [
      "\n",
      "Batch loss = 0.407367: 100%|██████████| 4445/4445 [00:44<00:00, 99.59it/s] "
     ]
    },
    {
     "name": "stdout",
     "output_type": "stream",
     "text": [
      "\n",
      "Evaluation (dev):\n"
     ]
    },
    {
     "name": "stderr",
     "output_type": "stream",
     "text": [
      "\n",
      "100%|██████████| 7357/7357 [01:17<00:00, 95.38it/s] "
     ]
    },
    {
     "name": "stdout",
     "output_type": "stream",
     "text": [
      "\n",
      " {'precision': 0.05601467989669703, 'recall': 0.12955432394369182, 'ndcg': 0.10851308820929444}\n"
     ]
    },
    {
     "name": "stderr",
     "output_type": "stream",
     "text": [
      "\n"
     ]
    },
    {
     "data": {
      "text/plain": [
       "SLRC(\n",
       "  (base_model): BPR(\n",
       "    (user_emb): Embedding(7358, 64)\n",
       "    (item_emb): Embedding(11202, 64)\n",
       "  )\n",
       ")"
      ]
     },
     "execution_count": 9,
     "metadata": {},
     "output_type": "execute_result"
    }
   ],
   "source": [
    "trainer.train()"
   ]
  },
  {
   "cell_type": "markdown",
   "id": "Q0HvcYVUKDQv",
   "metadata": {
    "id": "Q0HvcYVUKDQv"
   },
   "source": [
    "Save users' embeddings for validation step (user's embedding for validation step is his vector of recommendation scores for all items at the time of validation):"
   ]
  },
  {
   "cell_type": "code",
   "execution_count": null,
   "id": "1RQXy-XWzgQX",
   "metadata": {
    "colab": {
     "base_uri": "https://localhost:8080/"
    },
    "id": "1RQXy-XWzgQX",
    "outputId": "7ce745db-d0a5-4c38-e4e4-b2d20882a1d7"
   },
   "outputs": [
    {
     "name": "stderr",
     "output_type": "stream",
     "text": [
      "100%|██████████| 7357/7357 [01:27<00:00, 84.54it/s] \n"
     ]
    }
   ],
   "source": [
    "dev_user_emb = trainer.get_predictions(mode=\"dev\")"
   ]
  },
  {
   "cell_type": "markdown",
   "id": "cqFtJjVlHNOm",
   "metadata": {
    "id": "cqFtJjVlHNOm"
   },
   "source": [
    "Tune KNN hyperparams on validation dataset:"
   ]
  },
  {
   "cell_type": "code",
   "execution_count": null,
   "id": "VTWJgXn2AM9u",
   "metadata": {
    "colab": {
     "base_uri": "https://localhost:8080/"
    },
    "id": "VTWJgXn2AM9u",
    "outputId": "10946a17-c9fc-4bf5-ad61-94b4f5c9ea43"
   },
   "outputs": [
    {
     "name": "stdout",
     "output_type": "stream",
     "text": [
      "train dataset preparing...\n"
     ]
    },
    {
     "name": "stderr",
     "output_type": "stream",
     "text": [
      "100%|██████████| 7358/7358 [00:11<00:00, 645.05it/s]\n"
     ]
    },
    {
     "name": "stdout",
     "output_type": "stream",
     "text": [
      "dev dataset preparing...\n"
     ]
    },
    {
     "name": "stderr",
     "output_type": "stream",
     "text": [
      "100%|██████████| 7357/7357 [00:01<00:00, 4430.63it/s]\n"
     ]
    },
    {
     "name": "stdout",
     "output_type": "stream",
     "text": [
      "test dataset preparing...\n"
     ]
    },
    {
     "name": "stderr",
     "output_type": "stream",
     "text": [
      "100%|██████████| 7357/7357 [00:01<00:00, 3869.20it/s]\n"
     ]
    }
   ],
   "source": [
    "trainer = NBRTrainer(\n",
    "    corpus=corpus,\n",
    "    max_epochs=None,\n",
    "    topk=10,\n",
    "    early_stop_num=None\n",
    ")"
   ]
  },
  {
   "cell_type": "code",
   "execution_count": null,
   "id": "57gGZs14AOY0",
   "metadata": {
    "id": "57gGZs14AOY0"
   },
   "outputs": [],
   "source": [
    "def objective(trial):\n",
    "    params = {\n",
    "        \"model\": NBRKNN(\n",
    "            item_num=corpus.n_items,\n",
    "            user_num=corpus.n_users,\n",
    "            nearest_neighbors_num=trial.suggest_int(\"nearest_neighbors_num\", low=1, high=200),\n",
    "            alpha=trial.suggest_float(\"alpha\", 0.0, 1.0, step=0.05),\n",
    "            user_emb=dev_user_emb\n",
    "        )\n",
    "    }\n",
    "\n",
    "    trainer.init_hyperparams(**params)\n",
    "    metrics = trainer.evaluate(mode=\"dev\")\n",
    "    score = metrics[\"ndcg\"]\n",
    "    return score"
   ]
  },
  {
   "cell_type": "code",
   "execution_count": null,
   "id": "yvL5Gg5vAPx3",
   "metadata": {
    "colab": {
     "base_uri": "https://localhost:8080/"
    },
    "id": "yvL5Gg5vAPx3",
    "outputId": "81b81fa5-08a0-4072-9387-badbea49869d"
   },
   "outputs": [
    {
     "name": "stderr",
     "output_type": "stream",
     "text": [
      "\u001b[32m[I 2023-04-23 17:16:00,621]\u001b[0m A new study created in memory with name: no-name-81d739ff-b480-460a-bfa0-1ef674af2e74\u001b[0m\n",
      "100%|██████████| 7357/7357 [06:17<00:00, 19.47it/s]\n",
      "\u001b[32m[I 2023-04-23 17:22:23,884]\u001b[0m Trial 0 finished with value: 0.0653908618873418 and parameters: {'nearest_neighbors_num': 155, 'alpha': 0.0}. Best is trial 0 with value: 0.0653908618873418.\u001b[0m\n",
      "100%|██████████| 7357/7357 [06:11<00:00, 19.79it/s]\n",
      "\u001b[32m[I 2023-04-23 17:28:39,754]\u001b[0m Trial 1 finished with value: 0.11081685513222486 and parameters: {'nearest_neighbors_num': 127, 'alpha': 0.75}. Best is trial 1 with value: 0.11081685513222486.\u001b[0m\n",
      "100%|██████████| 7357/7357 [06:46<00:00, 18.10it/s]\n",
      "\u001b[32m[I 2023-04-23 17:35:31,426]\u001b[0m Trial 2 finished with value: 0.09549438245097476 and parameters: {'nearest_neighbors_num': 100, 'alpha': 0.2}. Best is trial 1 with value: 0.11081685513222486.\u001b[0m\n",
      "100%|██████████| 7357/7357 [06:38<00:00, 18.45it/s]\n",
      "\u001b[32m[I 2023-04-23 17:42:14,985]\u001b[0m Trial 3 finished with value: 0.11056909102577692 and parameters: {'nearest_neighbors_num': 40, 'alpha': 0.75}. Best is trial 1 with value: 0.11081685513222486.\u001b[0m\n",
      "100%|██████████| 7357/7357 [06:39<00:00, 18.41it/s]\n",
      "\u001b[32m[I 2023-04-23 17:49:00,438]\u001b[0m Trial 4 finished with value: 0.0796832163125487 and parameters: {'nearest_neighbors_num': 34, 'alpha': 0.05}. Best is trial 1 with value: 0.11081685513222486.\u001b[0m\n",
      "100%|██████████| 7357/7357 [07:10<00:00, 17.08it/s]\n",
      "\u001b[32m[I 2023-04-23 17:56:15,885]\u001b[0m Trial 5 finished with value: 0.1095805846360861 and parameters: {'nearest_neighbors_num': 138, 'alpha': 1.0}. Best is trial 1 with value: 0.11081685513222486.\u001b[0m\n",
      "100%|██████████| 7357/7357 [06:32<00:00, 18.77it/s]\n",
      "\u001b[32m[I 2023-04-23 18:02:52,220]\u001b[0m Trial 6 finished with value: 0.1095805846360861 and parameters: {'nearest_neighbors_num': 1, 'alpha': 0.5}. Best is trial 1 with value: 0.11081685513222486.\u001b[0m\n",
      "100%|██████████| 7357/7357 [07:17<00:00, 16.81it/s]\n",
      "\u001b[32m[I 2023-04-23 18:10:14,185]\u001b[0m Trial 7 finished with value: 0.11158518451993564 and parameters: {'nearest_neighbors_num': 163, 'alpha': 0.6000000000000001}. Best is trial 7 with value: 0.11158518451993564.\u001b[0m\n",
      "100%|██████████| 7357/7357 [07:13<00:00, 16.95it/s]\n",
      "\u001b[32m[I 2023-04-23 18:17:32,483]\u001b[0m Trial 8 finished with value: 0.10434687280833219 and parameters: {'nearest_neighbors_num': 145, 'alpha': 0.30000000000000004}. Best is trial 7 with value: 0.11158518451993564.\u001b[0m\n",
      "100%|██████████| 7357/7357 [07:23<00:00, 16.57it/s]\n",
      "\u001b[32m[I 2023-04-23 18:25:00,706]\u001b[0m Trial 9 finished with value: 0.11080988241638019 and parameters: {'nearest_neighbors_num': 184, 'alpha': 0.75}. Best is trial 7 with value: 0.11158518451993564.\u001b[0m\n",
      "100%|██████████| 7357/7357 [07:11<00:00, 17.03it/s]\n",
      "\u001b[32m[I 2023-04-23 18:32:21,493]\u001b[0m Trial 10 finished with value: 0.11099595362469729 and parameters: {'nearest_neighbors_num': 188, 'alpha': 0.45}. Best is trial 7 with value: 0.11158518451993564.\u001b[0m\n",
      "100%|██████████| 7357/7357 [07:28<00:00, 16.39it/s]\n",
      "\u001b[32m[I 2023-04-23 18:39:56,947]\u001b[0m Trial 11 finished with value: 0.11119142803838838 and parameters: {'nearest_neighbors_num': 199, 'alpha': 0.5}. Best is trial 7 with value: 0.11158518451993564.\u001b[0m\n",
      "100%|██████████| 7357/7357 [07:30<00:00, 16.34it/s]\n",
      "\u001b[32m[I 2023-04-23 18:47:31,813]\u001b[0m Trial 12 finished with value: 0.11104575395878852 and parameters: {'nearest_neighbors_num': 190, 'alpha': 0.5}. Best is trial 7 with value: 0.11158518451993564.\u001b[0m\n",
      "100%|██████████| 7357/7357 [07:09<00:00, 17.11it/s]\n",
      "\u001b[32m[I 2023-04-23 18:54:46,100]\u001b[0m Trial 13 finished with value: 0.1114828813060702 and parameters: {'nearest_neighbors_num': 102, 'alpha': 0.6000000000000001}. Best is trial 7 with value: 0.11158518451993564.\u001b[0m\n",
      "100%|██████████| 7357/7357 [07:10<00:00, 17.08it/s]\n",
      "\u001b[32m[I 2023-04-23 19:02:03,337]\u001b[0m Trial 14 finished with value: 0.10986182699228549 and parameters: {'nearest_neighbors_num': 102, 'alpha': 0.9}. Best is trial 7 with value: 0.11158518451993564.\u001b[0m\n",
      "100%|██████████| 7357/7357 [06:57<00:00, 17.62it/s]\n",
      "\u001b[32m[I 2023-04-23 19:09:07,666]\u001b[0m Trial 15 finished with value: 0.11110523698412876 and parameters: {'nearest_neighbors_num': 60, 'alpha': 0.65}. Best is trial 7 with value: 0.11158518451993564.\u001b[0m\n",
      "100%|██████████| 7357/7357 [07:06<00:00, 17.24it/s]\n",
      "\u001b[32m[I 2023-04-23 19:16:20,019]\u001b[0m Trial 16 finished with value: 0.10806284197836302 and parameters: {'nearest_neighbors_num': 91, 'alpha': 0.35000000000000003}. Best is trial 7 with value: 0.11158518451993564.\u001b[0m\n",
      "100%|██████████| 7357/7357 [07:00<00:00, 17.48it/s]\n",
      "\u001b[32m[I 2023-04-23 19:23:25,451]\u001b[0m Trial 17 finished with value: 0.11103822124240498 and parameters: {'nearest_neighbors_num': 75, 'alpha': 0.65}. Best is trial 7 with value: 0.11158518451993564.\u001b[0m\n",
      "100%|██████████| 7357/7357 [07:28<00:00, 16.41it/s]\n",
      "\u001b[32m[I 2023-04-23 19:30:58,360]\u001b[0m Trial 18 finished with value: 0.11097689151922216 and parameters: {'nearest_neighbors_num': 165, 'alpha': 0.65}. Best is trial 7 with value: 0.11158518451993564.\u001b[0m\n",
      "100%|██████████| 7357/7357 [07:17<00:00, 16.82it/s]\n",
      "\u001b[32m[I 2023-04-23 19:38:20,248]\u001b[0m Trial 19 finished with value: 0.10783444167004722 and parameters: {'nearest_neighbors_num': 128, 'alpha': 0.35000000000000003}. Best is trial 7 with value: 0.11158518451993564.\u001b[0m\n",
      "100%|██████████| 7357/7357 [07:28<00:00, 16.40it/s]\n",
      "\u001b[32m[I 2023-04-23 19:45:53,499]\u001b[0m Trial 20 finished with value: 0.11030465692488134 and parameters: {'nearest_neighbors_num': 164, 'alpha': 0.8500000000000001}. Best is trial 7 with value: 0.11158518451993564.\u001b[0m\n",
      "100%|██████████| 7357/7357 [07:37<00:00, 16.08it/s]\n",
      "\u001b[32m[I 2023-04-23 19:53:35,581]\u001b[0m Trial 21 finished with value: 0.11148882526223264 and parameters: {'nearest_neighbors_num': 199, 'alpha': 0.55}. Best is trial 7 with value: 0.11158518451993564.\u001b[0m\n",
      "100%|██████████| 7357/7357 [07:30<00:00, 16.35it/s]\n",
      "\u001b[32m[I 2023-04-23 20:01:11,038]\u001b[0m Trial 22 finished with value: 0.11150770100363204 and parameters: {'nearest_neighbors_num': 174, 'alpha': 0.55}. Best is trial 7 with value: 0.11158518451993564.\u001b[0m\n",
      "100%|██████████| 7357/7357 [07:29<00:00, 16.35it/s]\n",
      "\u001b[32m[I 2023-04-23 20:08:45,542]\u001b[0m Trial 23 finished with value: 0.1114645517823826 and parameters: {'nearest_neighbors_num': 173, 'alpha': 0.55}. Best is trial 7 with value: 0.11158518451993564.\u001b[0m\n",
      "100%|██████████| 7357/7357 [07:31<00:00, 16.30it/s]\n",
      "\u001b[32m[I 2023-04-23 20:16:21,390]\u001b[0m Trial 24 finished with value: 0.10998170033533575 and parameters: {'nearest_neighbors_num': 175, 'alpha': 0.4}. Best is trial 7 with value: 0.11158518451993564.\u001b[0m\n"
     ]
    }
   ],
   "source": [
    "sampler = optuna.samplers.TPESampler(seed=seed)\n",
    "study = optuna.create_study(direction=\"maximize\", sampler=sampler)\n",
    "study.optimize(objective, n_trials=25)"
   ]
  },
  {
   "cell_type": "markdown",
   "id": "_7qj_JR5H2Tm",
   "metadata": {
    "id": "_7qj_JR5H2Tm"
   },
   "source": [
    "Test SLRCKNN (calculate scores for different seeds):"
   ]
  },
  {
   "cell_type": "code",
   "execution_count": null,
   "id": "GRvJQb99_Qph",
   "metadata": {
    "id": "GRvJQb99_Qph"
   },
   "outputs": [],
   "source": [
    "test_metrics = {\n",
    "    \"precision\": [],\n",
    "    \"recall\": [],\n",
    "    \"ndcg\": []\n",
    "}"
   ]
  },
  {
   "cell_type": "code",
   "execution_count": null,
   "id": "sqD7bHwEZcwQ",
   "metadata": {
    "colab": {
     "base_uri": "https://localhost:8080/"
    },
    "id": "sqD7bHwEZcwQ",
    "outputId": "9e0fedc5-032e-4453-adc8-1c603ebd7554"
   },
   "outputs": [
    {
     "name": "stdout",
     "output_type": "stream",
     "text": [
      "\n",
      "___SEED___0\n",
      "train dataset preparing...\n"
     ]
    },
    {
     "name": "stderr",
     "output_type": "stream",
     "text": [
      "100%|██████████| 7358/7358 [00:10<00:00, 679.69it/s]\n"
     ]
    },
    {
     "name": "stdout",
     "output_type": "stream",
     "text": [
      "dev dataset preparing...\n"
     ]
    },
    {
     "name": "stderr",
     "output_type": "stream",
     "text": [
      "100%|██████████| 7357/7357 [00:02<00:00, 2826.54it/s]\n"
     ]
    },
    {
     "name": "stdout",
     "output_type": "stream",
     "text": [
      "test dataset preparing...\n"
     ]
    },
    {
     "name": "stderr",
     "output_type": "stream",
     "text": [
      "100%|██████████| 7357/7357 [00:01<00:00, 3977.13it/s]\n"
     ]
    },
    {
     "name": "stdout",
     "output_type": "stream",
     "text": [
      "Epoch 1:\n"
     ]
    },
    {
     "name": "stderr",
     "output_type": "stream",
     "text": [
      "Batch loss = 0.647844: 100%|██████████| 4445/4445 [00:50<00:00, 87.92it/s]"
     ]
    },
    {
     "name": "stdout",
     "output_type": "stream",
     "text": [
      "\n",
      "Evaluation (dev):\n"
     ]
    },
    {
     "name": "stderr",
     "output_type": "stream",
     "text": [
      "\n",
      "100%|██████████| 7357/7357 [01:19<00:00, 92.70it/s] "
     ]
    },
    {
     "name": "stdout",
     "output_type": "stream",
     "text": [
      "\n",
      " {'precision': 0.05306510806035069, 'recall': 0.11760657494409904, 'ndcg': 0.10338726165353773}\n",
      "Epoch 2:\n"
     ]
    },
    {
     "name": "stderr",
     "output_type": "stream",
     "text": [
      "\n",
      "Batch loss = 0.613529: 100%|██████████| 4445/4445 [00:47<00:00, 93.57it/s] "
     ]
    },
    {
     "name": "stdout",
     "output_type": "stream",
     "text": [
      "\n",
      "Evaluation (dev):\n"
     ]
    },
    {
     "name": "stderr",
     "output_type": "stream",
     "text": [
      "\n",
      "100%|██████████| 7357/7357 [01:18<00:00, 93.96it/s] "
     ]
    },
    {
     "name": "stdout",
     "output_type": "stream",
     "text": [
      "\n",
      " {'precision': 0.055280685061845865, 'recall': 0.12787036008393035, 'ndcg': 0.10752063171562534}\n",
      "Epoch 3:\n"
     ]
    },
    {
     "name": "stderr",
     "output_type": "stream",
     "text": [
      "\n",
      "Batch loss = 0.484176: 100%|██████████| 4445/4445 [00:48<00:00, 92.16it/s]"
     ]
    },
    {
     "name": "stdout",
     "output_type": "stream",
     "text": [
      "\n",
      "Evaluation (dev):\n"
     ]
    },
    {
     "name": "stderr",
     "output_type": "stream",
     "text": [
      "\n",
      "100%|██████████| 7357/7357 [01:20<00:00, 91.66it/s] "
     ]
    },
    {
     "name": "stdout",
     "output_type": "stream",
     "text": [
      "\n",
      " {'precision': 0.05630012233247248, 'recall': 0.13254850400181878, 'ndcg': 0.1095571150683061}\n",
      "Epoch 4:\n"
     ]
    },
    {
     "name": "stderr",
     "output_type": "stream",
     "text": [
      "\n",
      "Batch loss = 0.412783: 100%|██████████| 4445/4445 [00:47<00:00, 93.04it/s]"
     ]
    },
    {
     "name": "stdout",
     "output_type": "stream",
     "text": [
      "\n",
      "Evaluation (dev):\n"
     ]
    },
    {
     "name": "stderr",
     "output_type": "stream",
     "text": [
      "\n",
      "100%|██████████| 7357/7357 [01:18<00:00, 93.97it/s] "
     ]
    },
    {
     "name": "stdout",
     "output_type": "stream",
     "text": [
      "\n",
      " {'precision': 0.056069049884463776, 'recall': 0.13089943342672652, 'ndcg': 0.10860200062750996}\n",
      "Epoch 5:\n"
     ]
    },
    {
     "name": "stderr",
     "output_type": "stream",
     "text": [
      "\n",
      "Batch loss = 0.40947: 100%|██████████| 4445/4445 [00:47<00:00, 93.05it/s] "
     ]
    },
    {
     "name": "stdout",
     "output_type": "stream",
     "text": [
      "\n",
      "Evaluation (dev):\n"
     ]
    },
    {
     "name": "stderr",
     "output_type": "stream",
     "text": [
      "\n",
      "100%|██████████| 7357/7357 [01:20<00:00, 91.34it/s] \n"
     ]
    },
    {
     "name": "stdout",
     "output_type": "stream",
     "text": [
      "\n",
      " {'precision': 0.055579719994563, 'recall': 0.12869468613279975, 'ndcg': 0.1081829218646605}\n",
      "Epoch 6:\n"
     ]
    },
    {
     "name": "stderr",
     "output_type": "stream",
     "text": [
      "Batch loss = 0.405149: 100%|██████████| 4445/4445 [00:47<00:00, 93.46it/s]"
     ]
    },
    {
     "name": "stdout",
     "output_type": "stream",
     "text": [
      "\n",
      "Evaluation (dev):\n"
     ]
    },
    {
     "name": "stderr",
     "output_type": "stream",
     "text": [
      "\n",
      "100%|██████████| 7357/7357 [01:18<00:00, 93.92it/s]"
     ]
    },
    {
     "name": "stdout",
     "output_type": "stream",
     "text": [
      "\n",
      " {'precision': 0.05598749490281364, 'recall': 0.13105695275419954, 'ndcg': 0.1091629061070286}\n"
     ]
    },
    {
     "name": "stderr",
     "output_type": "stream",
     "text": [
      "\n",
      "100%|██████████| 7357/7357 [01:18<00:00, 93.68it/s] \n",
      "100%|██████████| 7357/7357 [01:18<00:00, 93.98it/s] \n"
     ]
    },
    {
     "name": "stdout",
     "output_type": "stream",
     "text": [
      "train dataset preparing...\n"
     ]
    },
    {
     "name": "stderr",
     "output_type": "stream",
     "text": [
      "100%|██████████| 7358/7358 [00:10<00:00, 678.91it/s]\n"
     ]
    },
    {
     "name": "stdout",
     "output_type": "stream",
     "text": [
      "dev dataset preparing...\n"
     ]
    },
    {
     "name": "stderr",
     "output_type": "stream",
     "text": [
      "100%|██████████| 7357/7357 [00:02<00:00, 3540.92it/s]\n"
     ]
    },
    {
     "name": "stdout",
     "output_type": "stream",
     "text": [
      "test dataset preparing...\n"
     ]
    },
    {
     "name": "stderr",
     "output_type": "stream",
     "text": [
      "100%|██████████| 7357/7357 [00:01<00:00, 3949.13it/s]\n",
      "100%|██████████| 7357/7357 [04:58<00:00, 24.67it/s]\n"
     ]
    },
    {
     "name": "stdout",
     "output_type": "stream",
     "text": [
      "{'precision': [0.06450999048525215], 'recall': [0.15753115753591798], 'ndcg': [0.12668185595179357]}\n",
      "\n",
      "___SEED___1\n",
      "train dataset preparing...\n"
     ]
    },
    {
     "name": "stderr",
     "output_type": "stream",
     "text": [
      "100%|██████████| 7358/7358 [00:11<00:00, 652.38it/s]\n"
     ]
    },
    {
     "name": "stdout",
     "output_type": "stream",
     "text": [
      "dev dataset preparing...\n"
     ]
    },
    {
     "name": "stderr",
     "output_type": "stream",
     "text": [
      "100%|██████████| 7357/7357 [00:01<00:00, 4670.75it/s]\n"
     ]
    },
    {
     "name": "stdout",
     "output_type": "stream",
     "text": [
      "test dataset preparing...\n"
     ]
    },
    {
     "name": "stderr",
     "output_type": "stream",
     "text": [
      "100%|██████████| 7357/7357 [00:02<00:00, 3349.24it/s]"
     ]
    },
    {
     "name": "stdout",
     "output_type": "stream",
     "text": [
      "Epoch 1:\n"
     ]
    },
    {
     "name": "stderr",
     "output_type": "stream",
     "text": [
      "\n",
      "Batch loss = 0.648115: 100%|██████████| 4445/4445 [00:48<00:00, 91.75it/s]\n"
     ]
    },
    {
     "name": "stdout",
     "output_type": "stream",
     "text": [
      "\n",
      "Evaluation (dev):\n"
     ]
    },
    {
     "name": "stderr",
     "output_type": "stream",
     "text": [
      "100%|██████████| 7357/7357 [01:17<00:00, 95.14it/s] "
     ]
    },
    {
     "name": "stdout",
     "output_type": "stream",
     "text": [
      "\n",
      " {'precision': 0.052983553078700556, 'recall': 0.11730884025233931, 'ndcg': 0.10326253450365228}\n",
      "Epoch 2:\n"
     ]
    },
    {
     "name": "stderr",
     "output_type": "stream",
     "text": [
      "\n",
      "Batch loss = 0.618138: 100%|██████████| 4445/4445 [00:47<00:00, 92.79it/s]"
     ]
    },
    {
     "name": "stdout",
     "output_type": "stream",
     "text": [
      "\n",
      "Evaluation (dev):\n"
     ]
    },
    {
     "name": "stderr",
     "output_type": "stream",
     "text": [
      "\n",
      "100%|██████████| 7357/7357 [01:21<00:00, 90.49it/s] "
     ]
    },
    {
     "name": "stdout",
     "output_type": "stream",
     "text": [
      "\n",
      " {'precision': 0.05518553758325404, 'recall': 0.12778208290447507, 'ndcg': 0.10736117864801158}\n",
      "Epoch 3:\n"
     ]
    },
    {
     "name": "stderr",
     "output_type": "stream",
     "text": [
      "\n",
      "Batch loss = 0.49879: 100%|██████████| 4445/4445 [00:49<00:00, 90.33it/s]"
     ]
    },
    {
     "name": "stdout",
     "output_type": "stream",
     "text": [
      "\n",
      "Evaluation (dev):\n"
     ]
    },
    {
     "name": "stderr",
     "output_type": "stream",
     "text": [
      "\n",
      "100%|██████████| 7357/7357 [01:17<00:00, 94.56it/s] "
     ]
    },
    {
     "name": "stdout",
     "output_type": "stream",
     "text": [
      "\n",
      " {'precision': 0.05597390240587196, 'recall': 0.13212535969929048, 'ndcg': 0.10932099089009956}\n",
      "Epoch 4:\n"
     ]
    },
    {
     "name": "stderr",
     "output_type": "stream",
     "text": [
      "\n",
      "Batch loss = 0.498291: 100%|██████████| 4445/4445 [00:50<00:00, 88.78it/s]"
     ]
    },
    {
     "name": "stdout",
     "output_type": "stream",
     "text": [
      "\n",
      "Evaluation (dev):\n"
     ]
    },
    {
     "name": "stderr",
     "output_type": "stream",
     "text": [
      "\n",
      "100%|██████████| 7357/7357 [01:18<00:00, 93.30it/s] "
     ]
    },
    {
     "name": "stdout",
     "output_type": "stream",
     "text": [
      "\n",
      " {'precision': 0.056286529835530785, 'recall': 0.1320072938810533, 'ndcg': 0.10893477085005902}\n",
      "Epoch 5:\n"
     ]
    },
    {
     "name": "stderr",
     "output_type": "stream",
     "text": [
      "\n",
      "Batch loss = 0.393214: 100%|██████████| 4445/4445 [00:47<00:00, 93.52it/s]"
     ]
    },
    {
     "name": "stdout",
     "output_type": "stream",
     "text": [
      "\n",
      "Evaluation (dev):\n"
     ]
    },
    {
     "name": "stderr",
     "output_type": "stream",
     "text": [
      "\n",
      "100%|██████████| 7357/7357 [01:19<00:00, 92.76it/s]"
     ]
    },
    {
     "name": "stdout",
     "output_type": "stream",
     "text": [
      "\n",
      " {'precision': 0.05566127497621313, 'recall': 0.128561368615953, 'ndcg': 0.10802543395474196}\n",
      "Epoch 6:\n"
     ]
    },
    {
     "name": "stderr",
     "output_type": "stream",
     "text": [
      "\n",
      "Batch loss = 0.372129: 100%|██████████| 4445/4445 [00:48<00:00, 92.00it/s] "
     ]
    },
    {
     "name": "stdout",
     "output_type": "stream",
     "text": [
      "\n",
      "Evaluation (dev):\n"
     ]
    },
    {
     "name": "stderr",
     "output_type": "stream",
     "text": [
      "\n",
      "100%|██████████| 7357/7357 [01:15<00:00, 97.29it/s] "
     ]
    },
    {
     "name": "stdout",
     "output_type": "stream",
     "text": [
      "\n",
      " {'precision': 0.05598749490281364, 'recall': 0.12938509283272898, 'ndcg': 0.1089098140710593}\n"
     ]
    },
    {
     "name": "stderr",
     "output_type": "stream",
     "text": [
      "\n",
      "100%|██████████| 7357/7357 [01:19<00:00, 92.89it/s] \n",
      "100%|██████████| 7357/7357 [01:15<00:00, 97.58it/s] \n"
     ]
    },
    {
     "name": "stdout",
     "output_type": "stream",
     "text": [
      "train dataset preparing...\n"
     ]
    },
    {
     "name": "stderr",
     "output_type": "stream",
     "text": [
      "100%|██████████| 7358/7358 [00:11<00:00, 649.58it/s]\n"
     ]
    },
    {
     "name": "stdout",
     "output_type": "stream",
     "text": [
      "dev dataset preparing...\n"
     ]
    },
    {
     "name": "stderr",
     "output_type": "stream",
     "text": [
      "100%|██████████| 7357/7357 [00:01<00:00, 4983.80it/s]\n"
     ]
    },
    {
     "name": "stdout",
     "output_type": "stream",
     "text": [
      "test dataset preparing...\n"
     ]
    },
    {
     "name": "stderr",
     "output_type": "stream",
     "text": [
      "100%|██████████| 7357/7357 [00:01<00:00, 4574.46it/s]\n",
      "100%|██████████| 7357/7357 [04:55<00:00, 24.90it/s]\n"
     ]
    },
    {
     "name": "stdout",
     "output_type": "stream",
     "text": [
      "{'precision': [0.06450999048525215, 0.06457795296996058], 'recall': [0.15753115753591798, 0.15716937136322623], 'ndcg': [0.12668185595179357, 0.12680662331986717]}\n",
      "\n",
      "___SEED___2\n",
      "train dataset preparing...\n"
     ]
    },
    {
     "name": "stderr",
     "output_type": "stream",
     "text": [
      "100%|██████████| 7358/7358 [00:11<00:00, 644.42it/s]\n"
     ]
    },
    {
     "name": "stdout",
     "output_type": "stream",
     "text": [
      "dev dataset preparing...\n"
     ]
    },
    {
     "name": "stderr",
     "output_type": "stream",
     "text": [
      "100%|██████████| 7357/7357 [00:01<00:00, 4832.44it/s]\n"
     ]
    },
    {
     "name": "stdout",
     "output_type": "stream",
     "text": [
      "test dataset preparing...\n"
     ]
    },
    {
     "name": "stderr",
     "output_type": "stream",
     "text": [
      "100%|██████████| 7357/7357 [00:01<00:00, 4173.96it/s]\n"
     ]
    },
    {
     "name": "stdout",
     "output_type": "stream",
     "text": [
      "Epoch 1:\n"
     ]
    },
    {
     "name": "stderr",
     "output_type": "stream",
     "text": [
      "Batch loss = 0.64851: 100%|██████████| 4445/4445 [00:48<00:00, 91.08it/s]"
     ]
    },
    {
     "name": "stdout",
     "output_type": "stream",
     "text": [
      "\n",
      "Evaluation (dev):\n"
     ]
    },
    {
     "name": "stderr",
     "output_type": "stream",
     "text": [
      "\n",
      "100%|██████████| 7357/7357 [01:17<00:00, 94.36it/s] "
     ]
    },
    {
     "name": "stdout",
     "output_type": "stream",
     "text": [
      "\n",
      " {'precision': 0.052942775587875496, 'recall': 0.11726026876172108, 'ndcg': 0.10313874782031339}\n",
      "Epoch 2:\n"
     ]
    },
    {
     "name": "stderr",
     "output_type": "stream",
     "text": [
      "\n",
      "Batch loss = 0.613944: 100%|██████████| 4445/4445 [00:48<00:00, 91.04it/s]\n"
     ]
    },
    {
     "name": "stdout",
     "output_type": "stream",
     "text": [
      "\n",
      "Evaluation (dev):\n"
     ]
    },
    {
     "name": "stderr",
     "output_type": "stream",
     "text": [
      "100%|██████████| 7357/7357 [01:19<00:00, 92.21it/s] "
     ]
    },
    {
     "name": "stdout",
     "output_type": "stream",
     "text": [
      "\n",
      " {'precision': 0.0552263150740791, 'recall': 0.12784914315486998, 'ndcg': 0.10745646263383438}\n",
      "Epoch 3:\n"
     ]
    },
    {
     "name": "stderr",
     "output_type": "stream",
     "text": [
      "\n",
      "Batch loss = 0.515254: 100%|██████████| 4445/4445 [00:47<00:00, 93.19it/s]"
     ]
    },
    {
     "name": "stdout",
     "output_type": "stream",
     "text": [
      "\n",
      "Evaluation (dev):\n"
     ]
    },
    {
     "name": "stderr",
     "output_type": "stream",
     "text": [
      "\n",
      "100%|██████████| 7357/7357 [01:17<00:00, 94.78it/s]"
     ]
    },
    {
     "name": "stdout",
     "output_type": "stream",
     "text": [
      "\n",
      " {'precision': 0.05615060486611391, 'recall': 0.1321609177451479, 'ndcg': 0.10964041700697584}\n",
      "Epoch 4:\n"
     ]
    },
    {
     "name": "stderr",
     "output_type": "stream",
     "text": [
      "\n",
      "Batch loss = 0.40877: 100%|██████████| 4445/4445 [00:48<00:00, 92.39it/s]"
     ]
    },
    {
     "name": "stdout",
     "output_type": "stream",
     "text": [
      "\n",
      "Evaluation (dev):\n"
     ]
    },
    {
     "name": "stderr",
     "output_type": "stream",
     "text": [
      "\n",
      "100%|██████████| 7357/7357 [01:18<00:00, 94.31it/s] "
     ]
    },
    {
     "name": "stdout",
     "output_type": "stream",
     "text": [
      "\n",
      " {'precision': 0.05593312491504689, 'recall': 0.12980271658558626, 'ndcg': 0.10834286228903398}\n",
      "Epoch 5:\n"
     ]
    },
    {
     "name": "stderr",
     "output_type": "stream",
     "text": [
      "\n",
      "Batch loss = 0.396547: 100%|██████████| 4445/4445 [00:48<00:00, 92.16it/s]"
     ]
    },
    {
     "name": "stdout",
     "output_type": "stream",
     "text": [
      "\n",
      "Evaluation (dev):\n"
     ]
    },
    {
     "name": "stderr",
     "output_type": "stream",
     "text": [
      "\n",
      "100%|██████████| 7357/7357 [01:16<00:00, 96.21it/s] "
     ]
    },
    {
     "name": "stdout",
     "output_type": "stream",
     "text": [
      "\n",
      " {'precision': 0.056082642381405465, 'recall': 0.13033290741866962, 'ndcg': 0.10892434725283648}\n",
      "Epoch 6:\n"
     ]
    },
    {
     "name": "stderr",
     "output_type": "stream",
     "text": [
      "\n",
      "Batch loss = 0.359622: 100%|██████████| 4445/4445 [00:49<00:00, 89.89it/s]"
     ]
    },
    {
     "name": "stdout",
     "output_type": "stream",
     "text": [
      "\n",
      "Evaluation (dev):\n"
     ]
    },
    {
     "name": "stderr",
     "output_type": "stream",
     "text": [
      "\n",
      "100%|██████████| 7357/7357 [01:17<00:00, 94.98it/s]"
     ]
    },
    {
     "name": "stdout",
     "output_type": "stream",
     "text": [
      "\n",
      " {'precision': 0.056259344841647414, 'recall': 0.13130733438514197, 'ndcg': 0.1093480871326376}\n"
     ]
    },
    {
     "name": "stderr",
     "output_type": "stream",
     "text": [
      "\n",
      "100%|██████████| 7357/7357 [01:15<00:00, 97.47it/s] \n",
      "100%|██████████| 7357/7357 [01:19<00:00, 92.94it/s] \n"
     ]
    },
    {
     "name": "stdout",
     "output_type": "stream",
     "text": [
      "train dataset preparing...\n"
     ]
    },
    {
     "name": "stderr",
     "output_type": "stream",
     "text": [
      "100%|██████████| 7358/7358 [00:10<00:00, 675.80it/s]\n"
     ]
    },
    {
     "name": "stdout",
     "output_type": "stream",
     "text": [
      "dev dataset preparing...\n"
     ]
    },
    {
     "name": "stderr",
     "output_type": "stream",
     "text": [
      "100%|██████████| 7357/7357 [00:01<00:00, 3865.39it/s]\n"
     ]
    },
    {
     "name": "stdout",
     "output_type": "stream",
     "text": [
      "test dataset preparing...\n"
     ]
    },
    {
     "name": "stderr",
     "output_type": "stream",
     "text": [
      "100%|██████████| 7357/7357 [00:01<00:00, 4311.82it/s]\n",
      "100%|██████████| 7357/7357 [04:57<00:00, 24.71it/s]\n"
     ]
    },
    {
     "name": "stdout",
     "output_type": "stream",
     "text": [
      "{'precision': [0.06450999048525215, 0.06457795296996058, 0.06449639798831046], 'recall': [0.15753115753591798, 0.15716937136322623, 0.15741345312343014], 'ndcg': [0.12668185595179357, 0.12680662331986717, 0.12738603062291842]}\n",
      "\n",
      "___SEED___3\n",
      "train dataset preparing...\n"
     ]
    },
    {
     "name": "stderr",
     "output_type": "stream",
     "text": [
      "100%|██████████| 7358/7358 [00:10<00:00, 709.86it/s]\n"
     ]
    },
    {
     "name": "stdout",
     "output_type": "stream",
     "text": [
      "dev dataset preparing...\n"
     ]
    },
    {
     "name": "stderr",
     "output_type": "stream",
     "text": [
      "100%|██████████| 7357/7357 [00:02<00:00, 3114.30it/s]\n"
     ]
    },
    {
     "name": "stdout",
     "output_type": "stream",
     "text": [
      "test dataset preparing...\n"
     ]
    },
    {
     "name": "stderr",
     "output_type": "stream",
     "text": [
      "100%|██████████| 7357/7357 [00:01<00:00, 4281.86it/s]"
     ]
    },
    {
     "name": "stdout",
     "output_type": "stream",
     "text": [
      "Epoch 1:\n"
     ]
    },
    {
     "name": "stderr",
     "output_type": "stream",
     "text": [
      "\n",
      "Batch loss = 0.648213: 100%|██████████| 4445/4445 [00:49<00:00, 90.30it/s] "
     ]
    },
    {
     "name": "stdout",
     "output_type": "stream",
     "text": [
      "\n",
      "Evaluation (dev):\n"
     ]
    },
    {
     "name": "stderr",
     "output_type": "stream",
     "text": [
      "\n",
      "100%|██████████| 7357/7357 [01:17<00:00, 94.58it/s]"
     ]
    },
    {
     "name": "stdout",
     "output_type": "stream",
     "text": [
      "\n",
      " {'precision': 0.05292918309093381, 'recall': 0.11722428625684035, 'ndcg': 0.10334206215700821}\n",
      "Epoch 2:\n"
     ]
    },
    {
     "name": "stderr",
     "output_type": "stream",
     "text": [
      "\n",
      "Batch loss = 0.613215: 100%|██████████| 4445/4445 [00:48<00:00, 91.89it/s]"
     ]
    },
    {
     "name": "stdout",
     "output_type": "stream",
     "text": [
      "\n",
      "Evaluation (dev):\n"
     ]
    },
    {
     "name": "stderr",
     "output_type": "stream",
     "text": [
      "\n",
      "100%|██████████| 7357/7357 [01:17<00:00, 94.38it/s]"
     ]
    },
    {
     "name": "stdout",
     "output_type": "stream",
     "text": [
      "\n",
      " {'precision': 0.055307870055729236, 'recall': 0.12817648204870014, 'ndcg': 0.10749804528714656}\n",
      "Epoch 3:\n"
     ]
    },
    {
     "name": "stderr",
     "output_type": "stream",
     "text": [
      "\n",
      "Batch loss = 0.522081: 100%|██████████| 4445/4445 [00:48<00:00, 91.74it/s]"
     ]
    },
    {
     "name": "stdout",
     "output_type": "stream",
     "text": [
      "\n",
      "Evaluation (dev):\n"
     ]
    },
    {
     "name": "stderr",
     "output_type": "stream",
     "text": [
      "\n",
      "100%|██████████| 7357/7357 [01:16<00:00, 96.58it/s] "
     ]
    },
    {
     "name": "stdout",
     "output_type": "stream",
     "text": [
      "\n",
      " {'precision': 0.056096234878347154, 'recall': 0.1320079945827257, 'ndcg': 0.10941848721221557}\n",
      "Epoch 4:\n"
     ]
    },
    {
     "name": "stderr",
     "output_type": "stream",
     "text": [
      "\n",
      "Batch loss = 0.455008: 100%|██████████| 4445/4445 [00:48<00:00, 91.79it/s]"
     ]
    },
    {
     "name": "stdout",
     "output_type": "stream",
     "text": [
      "\n",
      "Evaluation (dev):\n"
     ]
    },
    {
     "name": "stderr",
     "output_type": "stream",
     "text": [
      "\n",
      "100%|██████████| 7357/7357 [01:19<00:00, 92.09it/s] "
     ]
    },
    {
     "name": "stdout",
     "output_type": "stream",
     "text": [
      "\n",
      " {'precision': 0.05605545738752209, 'recall': 0.13052547489044342, 'ndcg': 0.10846417290285777}\n",
      "Epoch 5:\n"
     ]
    },
    {
     "name": "stderr",
     "output_type": "stream",
     "text": [
      "\n",
      "Batch loss = 0.462366: 100%|██████████| 4445/4445 [00:48<00:00, 90.80it/s]"
     ]
    },
    {
     "name": "stdout",
     "output_type": "stream",
     "text": [
      "\n",
      "Evaluation (dev):\n"
     ]
    },
    {
     "name": "stderr",
     "output_type": "stream",
     "text": [
      "\n",
      "100%|██████████| 7357/7357 [01:18<00:00, 93.83it/s] "
     ]
    },
    {
     "name": "stdout",
     "output_type": "stream",
     "text": [
      "\n",
      " {'precision': 0.05559331249150469, 'recall': 0.12858402374791061, 'ndcg': 0.10827293938903636}\n",
      "Epoch 6:\n"
     ]
    },
    {
     "name": "stderr",
     "output_type": "stream",
     "text": [
      "\n",
      "Batch loss = 0.455538: 100%|██████████| 4445/4445 [00:49<00:00, 90.23it/s]"
     ]
    },
    {
     "name": "stdout",
     "output_type": "stream",
     "text": [
      "\n",
      "Evaluation (dev):\n"
     ]
    },
    {
     "name": "stderr",
     "output_type": "stream",
     "text": [
      "\n",
      "100%|██████████| 7357/7357 [01:16<00:00, 96.60it/s] "
     ]
    },
    {
     "name": "stdout",
     "output_type": "stream",
     "text": [
      "\n",
      " {'precision': 0.056449639798831046, 'recall': 0.13171414304460102, 'ndcg': 0.10979318641736421}\n",
      "Epoch 7:\n"
     ]
    },
    {
     "name": "stderr",
     "output_type": "stream",
     "text": [
      "\n",
      "Batch loss = 0.354771: 100%|██████████| 4445/4445 [00:50<00:00, 87.27it/s]"
     ]
    },
    {
     "name": "stdout",
     "output_type": "stream",
     "text": [
      "\n",
      "Evaluation (dev):\n"
     ]
    },
    {
     "name": "stderr",
     "output_type": "stream",
     "text": [
      "\n",
      "100%|██████████| 7357/7357 [01:17<00:00, 94.68it/s] "
     ]
    },
    {
     "name": "stdout",
     "output_type": "stream",
     "text": [
      "\n",
      " {'precision': 0.056123419872230525, 'recall': 0.13106735390259025, 'ndcg': 0.10969199779528051}\n",
      "Epoch 8:\n"
     ]
    },
    {
     "name": "stderr",
     "output_type": "stream",
     "text": [
      "\n",
      "Batch loss = 0.431846: 100%|██████████| 4445/4445 [00:49<00:00, 89.61it/s]"
     ]
    },
    {
     "name": "stdout",
     "output_type": "stream",
     "text": [
      "\n",
      "Evaluation (dev):\n"
     ]
    },
    {
     "name": "stderr",
     "output_type": "stream",
     "text": [
      "\n",
      "100%|██████████| 7357/7357 [01:17<00:00, 95.02it/s] "
     ]
    },
    {
     "name": "stdout",
     "output_type": "stream",
     "text": [
      "\n",
      " {'precision': 0.056272937338589096, 'recall': 0.13061539721897414, 'ndcg': 0.10898434919210259}\n",
      "Epoch 9:\n"
     ]
    },
    {
     "name": "stderr",
     "output_type": "stream",
     "text": [
      "\n",
      "Batch loss = 0.355546: 100%|██████████| 4445/4445 [00:49<00:00, 89.36it/s]"
     ]
    },
    {
     "name": "stdout",
     "output_type": "stream",
     "text": [
      "\n",
      "Evaluation (dev):\n"
     ]
    },
    {
     "name": "stderr",
     "output_type": "stream",
     "text": [
      "\n",
      "100%|██████████| 7357/7357 [01:17<00:00, 94.54it/s] "
     ]
    },
    {
     "name": "stdout",
     "output_type": "stream",
     "text": [
      "\n",
      " {'precision': 0.05598749490281364, 'recall': 0.1302838275905165, 'ndcg': 0.10907176493139453}\n"
     ]
    },
    {
     "name": "stderr",
     "output_type": "stream",
     "text": [
      "\n",
      "100%|██████████| 7357/7357 [01:15<00:00, 97.29it/s] \n",
      "100%|██████████| 7357/7357 [01:19<00:00, 92.43it/s] \n"
     ]
    },
    {
     "name": "stdout",
     "output_type": "stream",
     "text": [
      "train dataset preparing...\n"
     ]
    },
    {
     "name": "stderr",
     "output_type": "stream",
     "text": [
      "100%|██████████| 7358/7358 [00:11<00:00, 647.55it/s]\n"
     ]
    },
    {
     "name": "stdout",
     "output_type": "stream",
     "text": [
      "dev dataset preparing...\n"
     ]
    },
    {
     "name": "stderr",
     "output_type": "stream",
     "text": [
      "100%|██████████| 7357/7357 [00:01<00:00, 4879.01it/s]\n"
     ]
    },
    {
     "name": "stdout",
     "output_type": "stream",
     "text": [
      "test dataset preparing...\n"
     ]
    },
    {
     "name": "stderr",
     "output_type": "stream",
     "text": [
      "100%|██████████| 7357/7357 [00:01<00:00, 4177.82it/s]\n",
      "100%|██████████| 7357/7357 [05:00<00:00, 24.47it/s]\n"
     ]
    },
    {
     "name": "stdout",
     "output_type": "stream",
     "text": [
      "{'precision': [0.06450999048525215, 0.06457795296996058, 0.06449639798831046, 0.06414299306782656], 'recall': [0.15753115753591798, 0.15716937136322623, 0.15741345312343014, 0.1542435238541085], 'ndcg': [0.12668185595179357, 0.12680662331986717, 0.12738603062291842, 0.12652970898499827]}\n",
      "\n",
      "___SEED___4\n",
      "train dataset preparing...\n"
     ]
    },
    {
     "name": "stderr",
     "output_type": "stream",
     "text": [
      "100%|██████████| 7358/7358 [00:11<00:00, 639.56it/s]\n"
     ]
    },
    {
     "name": "stdout",
     "output_type": "stream",
     "text": [
      "dev dataset preparing...\n"
     ]
    },
    {
     "name": "stderr",
     "output_type": "stream",
     "text": [
      "100%|██████████| 7357/7357 [00:01<00:00, 4912.18it/s]\n"
     ]
    },
    {
     "name": "stdout",
     "output_type": "stream",
     "text": [
      "test dataset preparing...\n"
     ]
    },
    {
     "name": "stderr",
     "output_type": "stream",
     "text": [
      "100%|██████████| 7357/7357 [00:01<00:00, 4187.43it/s]"
     ]
    },
    {
     "name": "stdout",
     "output_type": "stream",
     "text": [
      "Epoch 1:\n"
     ]
    },
    {
     "name": "stderr",
     "output_type": "stream",
     "text": [
      "\n",
      "Batch loss = 0.648428: 100%|██████████| 4445/4445 [00:50<00:00, 88.35it/s]"
     ]
    },
    {
     "name": "stdout",
     "output_type": "stream",
     "text": [
      "\n",
      "Evaluation (dev):\n"
     ]
    },
    {
     "name": "stderr",
     "output_type": "stream",
     "text": [
      "\n",
      "100%|██████████| 7357/7357 [01:18<00:00, 93.13it/s] "
     ]
    },
    {
     "name": "stdout",
     "output_type": "stream",
     "text": [
      "\n",
      " {'precision': 0.05283403561234199, 'recall': 0.11688602227934589, 'ndcg': 0.10315941097580893}\n",
      "Epoch 2:\n"
     ]
    },
    {
     "name": "stderr",
     "output_type": "stream",
     "text": [
      "\n",
      "Batch loss = 0.617539: 100%|██████████| 4445/4445 [00:49<00:00, 89.81it/s]"
     ]
    },
    {
     "name": "stdout",
     "output_type": "stream",
     "text": [
      "\n",
      "Evaluation (dev):\n"
     ]
    },
    {
     "name": "stderr",
     "output_type": "stream",
     "text": [
      "\n",
      "100%|██████████| 7357/7357 [01:19<00:00, 92.08it/s] "
     ]
    },
    {
     "name": "stdout",
     "output_type": "stream",
     "text": [
      "\n",
      " {'precision': 0.055280685061845865, 'recall': 0.12808553041197648, 'ndcg': 0.1075739078236309}\n",
      "Epoch 3:\n"
     ]
    },
    {
     "name": "stderr",
     "output_type": "stream",
     "text": [
      "\n",
      "Batch loss = 0.526964: 100%|██████████| 4445/4445 [00:50<00:00, 88.85it/s]"
     ]
    },
    {
     "name": "stdout",
     "output_type": "stream",
     "text": [
      "\n",
      "Evaluation (dev):\n"
     ]
    },
    {
     "name": "stderr",
     "output_type": "stream",
     "text": [
      "\n",
      "100%|██████████| 7357/7357 [01:17<00:00, 94.66it/s] \n"
     ]
    },
    {
     "name": "stdout",
     "output_type": "stream",
     "text": [
      "\n",
      " {'precision': 0.05610982737528884, 'recall': 0.1318116758528083, 'ndcg': 0.10937556278952634}\n",
      "Epoch 4:\n"
     ]
    },
    {
     "name": "stderr",
     "output_type": "stream",
     "text": [
      "Batch loss = 0.467776: 100%|██████████| 4445/4445 [00:51<00:00, 87.11it/s]"
     ]
    },
    {
     "name": "stdout",
     "output_type": "stream",
     "text": [
      "\n",
      "Evaluation (dev):\n"
     ]
    },
    {
     "name": "stderr",
     "output_type": "stream",
     "text": [
      "\n",
      "100%|██████████| 7357/7357 [01:16<00:00, 95.82it/s] "
     ]
    },
    {
     "name": "stdout",
     "output_type": "stream",
     "text": [
      "\n",
      " {'precision': 0.05589234742422183, 'recall': 0.13093346527700872, 'ndcg': 0.10873333472870504}\n",
      "Epoch 5:\n"
     ]
    },
    {
     "name": "stderr",
     "output_type": "stream",
     "text": [
      "\n",
      "Batch loss = 0.472686: 100%|██████████| 4445/4445 [00:49<00:00, 89.56it/s]\n"
     ]
    },
    {
     "name": "stdout",
     "output_type": "stream",
     "text": [
      "\n",
      "Evaluation (dev):\n"
     ]
    },
    {
     "name": "stderr",
     "output_type": "stream",
     "text": [
      "100%|██████████| 7357/7357 [01:21<00:00, 90.67it/s] "
     ]
    },
    {
     "name": "stdout",
     "output_type": "stream",
     "text": [
      "\n",
      " {'precision': 0.05564768247927144, 'recall': 0.12844266576522984, 'ndcg': 0.10794656347332765}\n",
      "Epoch 6:\n"
     ]
    },
    {
     "name": "stderr",
     "output_type": "stream",
     "text": [
      "\n",
      "Batch loss = 0.3681: 100%|██████████| 4445/4445 [00:49<00:00, 89.10it/s]"
     ]
    },
    {
     "name": "stdout",
     "output_type": "stream",
     "text": [
      "\n",
      "Evaluation (dev):\n"
     ]
    },
    {
     "name": "stderr",
     "output_type": "stream",
     "text": [
      "\n",
      "100%|██████████| 7357/7357 [01:18<00:00, 93.97it/s] "
     ]
    },
    {
     "name": "stdout",
     "output_type": "stream",
     "text": [
      "\n",
      " {'precision': 0.05593312491504689, 'recall': 0.12913710209741236, 'ndcg': 0.10902443637702317}\n"
     ]
    },
    {
     "name": "stderr",
     "output_type": "stream",
     "text": [
      "\n",
      "100%|██████████| 7357/7357 [01:18<00:00, 94.10it/s] \n",
      "100%|██████████| 7357/7357 [01:18<00:00, 93.50it/s] \n"
     ]
    },
    {
     "name": "stdout",
     "output_type": "stream",
     "text": [
      "train dataset preparing...\n"
     ]
    },
    {
     "name": "stderr",
     "output_type": "stream",
     "text": [
      "100%|██████████| 7358/7358 [00:11<00:00, 640.01it/s]\n"
     ]
    },
    {
     "name": "stdout",
     "output_type": "stream",
     "text": [
      "dev dataset preparing...\n"
     ]
    },
    {
     "name": "stderr",
     "output_type": "stream",
     "text": [
      "100%|██████████| 7357/7357 [00:01<00:00, 4902.25it/s]\n"
     ]
    },
    {
     "name": "stdout",
     "output_type": "stream",
     "text": [
      "test dataset preparing...\n"
     ]
    },
    {
     "name": "stderr",
     "output_type": "stream",
     "text": [
      "100%|██████████| 7357/7357 [00:01<00:00, 4065.62it/s]\n",
      "100%|██████████| 7357/7357 [05:02<00:00, 24.28it/s]"
     ]
    },
    {
     "name": "stdout",
     "output_type": "stream",
     "text": [
      "{'precision': [0.06450999048525215, 0.06457795296996058, 0.06449639798831046, 0.06414299306782656, 0.06436047301889357], 'recall': [0.15753115753591798, 0.15716937136322623, 0.15741345312343014, 0.1542435238541085, 0.15622437697356328], 'ndcg': [0.12668185595179357, 0.12680662331986717, 0.12738603062291842, 0.12652970898499827, 0.12634257404156424]}\n"
     ]
    },
    {
     "name": "stderr",
     "output_type": "stream",
     "text": [
      "\n"
     ]
    }
   ],
   "source": [
    "for seed in range(5):\n",
    "    print(f\"\\n___SEED___{seed}\")\n",
    "    torch.manual_seed(seed)\n",
    "    random.seed(seed)\n",
    "    np.random.seed(seed)\n",
    "\n",
    "    trainer = NBRTrainer(\n",
    "        corpus=corpus,\n",
    "        max_epochs=20,\n",
    "        topk=10,\n",
    "        early_stop_num=3\n",
    "    )\n",
    "\n",
    "    params = {\n",
    "        \"model\": SLRC(\n",
    "            base_model_class=BPR,\n",
    "            base_model_config={\n",
    "                \"emb_size\": slrc_best_params[\"emb_size\"],\n",
    "                \"user_num\": corpus.n_users,\n",
    "                \"item_num\": corpus.n_items,\n",
    "                \"click_num\": corpus.n_clicks\n",
    "            },\n",
    "            item_num=corpus.n_items,\n",
    "            avg_repeat_interval=corpus.total_avg_interval\n",
    "        ),\n",
    "        \"batch_size\": slrc_best_params[\"batch_size\"],\n",
    "        \"lr\": slrc_best_params[\"lr\"],\n",
    "        \"l2_reg_coef\": slrc_best_params[\"l2_reg_coef\"]\n",
    "    }\n",
    "\n",
    "    trainer.init_hyperparams(**params)\n",
    "    trainer.train()\n",
    "\n",
    "    dev_user_emb = trainer.get_predictions(mode=\"dev\")\n",
    "    test_user_emb = trainer.get_predictions(mode=\"test\")\n",
    "\n",
    "    trainer = NBRTrainer(\n",
    "        corpus=corpus,\n",
    "        max_epochs=None,\n",
    "        topk=10,\n",
    "        early_stop_num=None\n",
    "    )\n",
    "\n",
    "    params = {\n",
    "        \"model\": NBRKNN(\n",
    "            item_num=corpus.n_items,\n",
    "            user_num=corpus.n_users,\n",
    "            nearest_neighbors_num=study.best_params[\"nearest_neighbors_num\"],\n",
    "            alpha=study.best_params[\"alpha\"],\n",
    "            user_emb=dev_user_emb\n",
    "        )\n",
    "    }\n",
    "    params[\"model\"].set_emb(test_user_emb)\n",
    "\n",
    "    trainer.init_hyperparams(**params)\n",
    "\n",
    "    metrics = trainer.evaluate(mode=\"test\")\n",
    "\n",
    "    test_metrics[\"precision\"].append(metrics[\"precision\"])\n",
    "    test_metrics[\"recall\"].append(metrics[\"recall\"])\n",
    "    test_metrics[\"ndcg\"].append(metrics[\"ndcg\"])"
   ]
  },
  {
   "cell_type": "code",
   "execution_count": null,
   "id": "JgYsHhUqehSS",
   "metadata": {
    "colab": {
     "base_uri": "https://localhost:8080/"
    },
    "id": "JgYsHhUqehSS",
    "outputId": "b997becb-f61b-46ed-ea3e-cfb900132661"
   },
   "outputs": [
    {
     "data": {
      "text/plain": [
       "{'precision': 0.06441756150604867,\n",
       " 'recall': 0.15651637657004921,\n",
       " 'ndcg': 0.12674935858422834}"
      ]
     },
     "execution_count": 12,
     "metadata": {},
     "output_type": "execute_result"
    }
   ],
   "source": [
    "{\n",
    "    \"precision\": np.array(test_metrics[\"precision\"]).mean(),\n",
    "    \"recall\": np.array(test_metrics[\"recall\"]).mean(),\n",
    "    \"ndcg\": np.array(test_metrics[\"ndcg\"]).mean(),\n",
    "}"
   ]
  },
  {
   "cell_type": "markdown",
   "id": "jQktLnAV1OTN",
   "metadata": {
    "id": "jQktLnAV1OTN"
   },
   "source": [
    "# TaoBao"
   ]
  },
  {
   "cell_type": "markdown",
   "id": "-QZ_gcPntKZx",
   "metadata": {
    "id": "-QZ_gcPntKZx"
   },
   "source": [
    "Fix seed:"
   ]
  },
  {
   "cell_type": "code",
   "execution_count": null,
   "id": "rE5NvM18tNTS",
   "metadata": {
    "id": "rE5NvM18tNTS"
   },
   "outputs": [],
   "source": [
    "seed = 10\n",
    "torch.manual_seed(seed)\n",
    "random.seed(seed)\n",
    "np.random.seed(seed)"
   ]
  },
  {
   "cell_type": "markdown",
   "id": "VlfrcCNntS8B",
   "metadata": {
    "id": "VlfrcCNntS8B"
   },
   "source": [
    "Read interactions data (filter users with less than 10 transactions, high purchase frequency and one-day users and items with less than 10 transactions). Train dataset - all baskets except the last two, validation dataset - the last but one basket, test dataset - the last basket:"
   ]
  },
  {
   "cell_type": "code",
   "execution_count": null,
   "id": "UjJ6Bocc1NmP",
   "metadata": {
    "colab": {
     "base_uri": "https://localhost:8080/"
    },
    "id": "UjJ6Bocc1NmP",
    "outputId": "65ceaa7e-3e96-4207-ecab-9c85bf4d493d"
   },
   "outputs": [
    {
     "name": "stdout",
     "output_type": "stream",
     "text": [
      "Before preprocessing: #users = 672404, #items = 638962, #clicks = 2015807 (#illegal records = 0)\n",
      "After preprocessing: #users = 10092, #items = 22286, #clicks = 67991\n",
      "Saving dataset in ./data//data_taobao/...\n"
     ]
    }
   ],
   "source": [
    "corpus_path = \"./data/\"\n",
    "dataset_name = \"taobao\"\n",
    "\n",
    "preprocessor = Preprocess(corpus_path, dataset_name)\n",
    "preprocessor.load_data(10, 10, filt=True)\n",
    "save_split(corpus_path, dataset_name, preprocessor)"
   ]
  },
  {
   "cell_type": "code",
   "execution_count": null,
   "id": "MkJuH0Y31Npx",
   "metadata": {
    "id": "MkJuH0Y31Npx"
   },
   "outputs": [],
   "source": [
    "corpus = Corpus(corpus_path, dataset_name)\n",
    "corpus.load_data()"
   ]
  },
  {
   "cell_type": "markdown",
   "id": "Yn4ZvU-htdsw",
   "metadata": {
    "id": "Yn4ZvU-htdsw"
   },
   "source": [
    "Train SLRC model with best hyperparams (see ./testing_slrc.ipynb):"
   ]
  },
  {
   "cell_type": "code",
   "execution_count": null,
   "id": "pTPI_m3U1jfF",
   "metadata": {
    "colab": {
     "base_uri": "https://localhost:8080/"
    },
    "id": "pTPI_m3U1jfF",
    "outputId": "d94a933e-4a44-496d-fbe9-229dcdfcc0ba"
   },
   "outputs": [
    {
     "name": "stdout",
     "output_type": "stream",
     "text": [
      "train dataset preparing...\n"
     ]
    },
    {
     "name": "stderr",
     "output_type": "stream",
     "text": [
      "100%|██████████| 10092/10092 [00:52<00:00, 192.79it/s]\n"
     ]
    },
    {
     "name": "stdout",
     "output_type": "stream",
     "text": [
      "dev dataset preparing...\n"
     ]
    },
    {
     "name": "stderr",
     "output_type": "stream",
     "text": [
      "100%|██████████| 9307/9307 [00:00<00:00, 28371.88it/s]\n"
     ]
    },
    {
     "name": "stdout",
     "output_type": "stream",
     "text": [
      "test dataset preparing...\n"
     ]
    },
    {
     "name": "stderr",
     "output_type": "stream",
     "text": [
      "100%|██████████| 9307/9307 [00:00<00:00, 17490.10it/s]\n"
     ]
    }
   ],
   "source": [
    "trainer = NBRTrainer(\n",
    "    corpus=corpus,\n",
    "    max_epochs=20,\n",
    "    topk=10,\n",
    "    early_stop_num=3\n",
    ")"
   ]
  },
  {
   "cell_type": "code",
   "execution_count": null,
   "id": "99Phoj2cfUNx",
   "metadata": {
    "id": "99Phoj2cfUNx"
   },
   "outputs": [],
   "source": [
    "slrc_best_params = {'emb_size': 32, 'batch_size': 256, 'lr': 1.0851391597925009e-05, 'l2_reg_coef': 0.03239377807560215}\n",
    "\n",
    "params = {\n",
    "    \"model\": SLRC(\n",
    "        base_model_class=BPR,\n",
    "        base_model_config={\n",
    "            \"emb_size\": slrc_best_params[\"emb_size\"],\n",
    "            \"user_num\": corpus.n_users,\n",
    "            \"item_num\": corpus.n_items,\n",
    "            \"click_num\": corpus.n_clicks\n",
    "        },\n",
    "        item_num=corpus.n_items,\n",
    "        avg_repeat_interval=corpus.total_avg_interval\n",
    "    ),\n",
    "    \"batch_size\": slrc_best_params[\"batch_size\"],\n",
    "    \"lr\": slrc_best_params[\"lr\"],\n",
    "    \"l2_reg_coef\": slrc_best_params[\"l2_reg_coef\"]\n",
    "}\n",
    "\n",
    "trainer.init_hyperparams(**params)"
   ]
  },
  {
   "cell_type": "code",
   "execution_count": null,
   "id": "D3F-EeU2z-Sf",
   "metadata": {
    "colab": {
     "base_uri": "https://localhost:8080/"
    },
    "id": "D3F-EeU2z-Sf",
    "outputId": "56357b3a-eb65-4b6b-a0a2-ba6ba657a04c"
   },
   "outputs": [
    {
     "metadata": {
      "tags": null
     },
     "name": "stdout",
     "output_type": "stream",
     "text": [
      "Epoch 1:\n"
     ]
    },
    {
     "metadata": {
      "tags": null
     },
     "name": "stderr",
     "output_type": "stream",
     "text": [
      "Batch loss = 0.671828: 100%|██████████| 191/191 [00:03<00:00, 57.04it/s]"
     ]
    },
    {
     "metadata": {
      "tags": null
     },
     "name": "stdout",
     "output_type": "stream",
     "text": [
      "\n",
      "Evaluation (dev):\n"
     ]
    },
    {
     "metadata": {
      "tags": null
     },
     "name": "stderr",
     "output_type": "stream",
     "text": [
      "\n",
      "100%|██████████| 9307/9307 [02:58<00:00, 52.10it/s]"
     ]
    },
    {
     "metadata": {
      "tags": null
     },
     "name": "stdout",
     "output_type": "stream",
     "text": [
      "\n",
      " {'precision': 0.010443752014612655, 'recall': 0.09904193975860463, 'ndcg': 0.07283291962948076}\n"
     ]
    },
    {
     "metadata": {
      "tags": null
     },
     "name": "stderr",
     "output_type": "stream",
     "text": [
      "\n"
     ]
    },
    {
     "metadata": {
      "tags": null
     },
     "name": "stdout",
     "output_type": "stream",
     "text": [
      "Epoch 2:\n"
     ]
    },
    {
     "metadata": {
      "tags": null
     },
     "name": "stderr",
     "output_type": "stream",
     "text": [
      "Batch loss = 0.671776: 100%|██████████| 191/191 [00:03<00:00, 63.08it/s]"
     ]
    },
    {
     "metadata": {
      "tags": null
     },
     "name": "stdout",
     "output_type": "stream",
     "text": [
      "\n",
      "Evaluation (dev):\n"
     ]
    },
    {
     "name": "stderr",
     "output_type": "stream",
     "text": [
      "\n",
      "100%|██████████| 9307/9307 [02:54<00:00, 53.42it/s]"
     ]
    },
    {
     "name": "stdout",
     "output_type": "stream",
     "text": [
      "\n",
      " {'precision': 0.010433007413774578, 'recall': 0.09898821675441424, 'ndcg': 0.0728535311003784}\n",
      "Epoch 3:\n"
     ]
    },
    {
     "name": "stderr",
     "output_type": "stream",
     "text": [
      "\n",
      "Batch loss = 0.671721: 100%|██████████| 191/191 [00:03<00:00, 56.73it/s]"
     ]
    },
    {
     "name": "stdout",
     "output_type": "stream",
     "text": [
      "\n",
      "Evaluation (dev):\n"
     ]
    },
    {
     "name": "stderr",
     "output_type": "stream",
     "text": [
      "\n",
      "100%|██████████| 9307/9307 [02:47<00:00, 55.46it/s]"
     ]
    },
    {
     "name": "stdout",
     "output_type": "stream",
     "text": [
      "\n",
      " {'precision': 0.010433007413774578, 'recall': 0.09898821675441424, 'ndcg': 0.07282528539007627}\n",
      "Epoch 4:\n"
     ]
    },
    {
     "name": "stderr",
     "output_type": "stream",
     "text": [
      "\n",
      "Batch loss = 0.671692: 100%|██████████| 191/191 [00:03<00:00, 56.97it/s]"
     ]
    },
    {
     "name": "stdout",
     "output_type": "stream",
     "text": [
      "\n",
      "Evaluation (dev):\n"
     ]
    },
    {
     "name": "stderr",
     "output_type": "stream",
     "text": [
      "\n",
      "100%|██████████| 9307/9307 [02:49<00:00, 55.01it/s]"
     ]
    },
    {
     "name": "stdout",
     "output_type": "stream",
     "text": [
      "\n",
      " {'precision': 0.0104222628129365, 'recall': 0.09888077074603345, 'ndcg': 0.07280322602580534}\n",
      "Epoch 5:\n"
     ]
    },
    {
     "name": "stderr",
     "output_type": "stream",
     "text": [
      "\n",
      "Batch loss = 0.671657: 100%|██████████| 191/191 [00:02<00:00, 64.91it/s]"
     ]
    },
    {
     "name": "stdout",
     "output_type": "stream",
     "text": [
      "\n",
      "Evaluation (dev):\n"
     ]
    },
    {
     "name": "stderr",
     "output_type": "stream",
     "text": [
      "\n",
      "100%|██████████| 9307/9307 [02:49<00:00, 54.78it/s]"
     ]
    },
    {
     "name": "stdout",
     "output_type": "stream",
     "text": [
      "\n",
      " {'precision': 0.0104222628129365, 'recall': 0.09888077074603345, 'ndcg': 0.07288007857110268}\n",
      "Epoch 6:\n"
     ]
    },
    {
     "name": "stderr",
     "output_type": "stream",
     "text": [
      "\n",
      "Batch loss = 0.671621: 100%|██████████| 191/191 [00:02<00:00, 64.77it/s]"
     ]
    },
    {
     "name": "stdout",
     "output_type": "stream",
     "text": [
      "\n",
      "Evaluation (dev):\n"
     ]
    },
    {
     "name": "stderr",
     "output_type": "stream",
     "text": [
      "\n",
      "100%|██████████| 9307/9307 [02:48<00:00, 55.09it/s]"
     ]
    },
    {
     "name": "stdout",
     "output_type": "stream",
     "text": [
      "\n",
      " {'precision': 0.010411518212098422, 'recall': 0.09877332473765266, 'ndcg': 0.07279130981357429}\n",
      "Epoch 7:\n"
     ]
    },
    {
     "name": "stderr",
     "output_type": "stream",
     "text": [
      "\n",
      "Batch loss = 0.671538: 100%|██████████| 191/191 [00:03<00:00, 62.79it/s]"
     ]
    },
    {
     "name": "stdout",
     "output_type": "stream",
     "text": [
      "\n",
      "Evaluation (dev):\n"
     ]
    },
    {
     "name": "stderr",
     "output_type": "stream",
     "text": [
      "\n",
      "100%|██████████| 9307/9307 [02:50<00:00, 54.51it/s]"
     ]
    },
    {
     "name": "stdout",
     "output_type": "stream",
     "text": [
      "\n",
      " {'precision': 0.010411518212098422, 'recall': 0.09877332473765266, 'ndcg': 0.07284312215258729}\n",
      "Epoch 8:\n"
     ]
    },
    {
     "name": "stderr",
     "output_type": "stream",
     "text": [
      "\n",
      "Batch loss = 0.671486: 100%|██████████| 191/191 [00:03<00:00, 55.48it/s]"
     ]
    },
    {
     "name": "stdout",
     "output_type": "stream",
     "text": [
      "\n",
      "Evaluation (dev):\n"
     ]
    },
    {
     "name": "stderr",
     "output_type": "stream",
     "text": [
      "\n",
      "100%|██████████| 9307/9307 [02:48<00:00, 55.36it/s]"
     ]
    },
    {
     "name": "stdout",
     "output_type": "stream",
     "text": [
      "\n",
      " {'precision': 0.010411518212098422, 'recall': 0.09877332473765266, 'ndcg': 0.0728146605521322}\n"
     ]
    },
    {
     "name": "stderr",
     "output_type": "stream",
     "text": [
      "\n"
     ]
    },
    {
     "data": {
      "text/plain": [
       "SLRC(\n",
       "  (base_model): BPR(\n",
       "    (user_emb): Embedding(10092, 32)\n",
       "    (item_emb): Embedding(22286, 32)\n",
       "  )\n",
       ")"
      ]
     },
     "execution_count": 9,
     "metadata": {},
     "output_type": "execute_result"
    }
   ],
   "source": [
    "trainer.train()"
   ]
  },
  {
   "cell_type": "markdown",
   "id": "KaE_3yG0ujt7",
   "metadata": {
    "id": "KaE_3yG0ujt7"
   },
   "source": [
    "Save users' embeddings for validation step (user's embedding for validation step is his vector of recommendation scores for all items at the time of validation):"
   ]
  },
  {
   "cell_type": "code",
   "execution_count": null,
   "id": "25LKtLY_unaw",
   "metadata": {
    "colab": {
     "base_uri": "https://localhost:8080/"
    },
    "id": "25LKtLY_unaw",
    "outputId": "56223c4c-e660-49d9-e3bf-574d89c24db8"
   },
   "outputs": [
    {
     "name": "stderr",
     "output_type": "stream",
     "text": [
      "100%|██████████| 9307/9307 [02:48<00:00, 55.35it/s]\n"
     ]
    }
   ],
   "source": [
    "dev_user_emb = trainer.get_predictions(mode=\"dev\")"
   ]
  },
  {
   "cell_type": "markdown",
   "id": "auZ_OrOqutvv",
   "metadata": {
    "id": "auZ_OrOqutvv"
   },
   "source": [
    "Tune KNN hyperparams on validation dataset:"
   ]
  },
  {
   "cell_type": "code",
   "execution_count": null,
   "id": "TmME29AEggq9",
   "metadata": {
    "colab": {
     "base_uri": "https://localhost:8080/"
    },
    "id": "TmME29AEggq9",
    "outputId": "441f5e7f-e937-4d55-fc56-b9e4582a44b8"
   },
   "outputs": [
    {
     "name": "stdout",
     "output_type": "stream",
     "text": [
      "train dataset preparing...\n"
     ]
    },
    {
     "name": "stderr",
     "output_type": "stream",
     "text": [
      "100%|██████████| 10092/10092 [00:36<00:00, 279.85it/s]\n"
     ]
    },
    {
     "name": "stdout",
     "output_type": "stream",
     "text": [
      "dev dataset preparing...\n"
     ]
    },
    {
     "name": "stderr",
     "output_type": "stream",
     "text": [
      "100%|██████████| 9307/9307 [00:00<00:00, 31671.81it/s]\n"
     ]
    },
    {
     "name": "stdout",
     "output_type": "stream",
     "text": [
      "test dataset preparing...\n"
     ]
    },
    {
     "name": "stderr",
     "output_type": "stream",
     "text": [
      "100%|██████████| 9307/9307 [00:00<00:00, 24917.03it/s]\n"
     ]
    }
   ],
   "source": [
    "trainer = NBRTrainer(\n",
    "    corpus=corpus,\n",
    "    max_epochs=None,\n",
    "    topk=10,\n",
    "    early_stop_num=None\n",
    ")"
   ]
  },
  {
   "cell_type": "code",
   "execution_count": null,
   "id": "uqbsYxCOgiJS",
   "metadata": {
    "id": "uqbsYxCOgiJS"
   },
   "outputs": [],
   "source": [
    "def objective(trial):\n",
    "    params = {\n",
    "        \"model\": NBRKNN(\n",
    "            item_num=corpus.n_items,\n",
    "            user_num=corpus.n_users,\n",
    "            nearest_neighbors_num=trial.suggest_int(\"nearest_neighbors_num\", low=0, high=200, step=10),\n",
    "            alpha=trial.suggest_float(\"alpha\", 0.0, 1.0, step=0.05),\n",
    "            user_emb=dev_user_emb\n",
    "        )\n",
    "    }\n",
    "\n",
    "    trainer.init_hyperparams(**params)\n",
    "    metrics = trainer.evaluate(mode=\"dev\")\n",
    "    score = metrics[\"ndcg\"]\n",
    "    return score"
   ]
  },
  {
   "cell_type": "code",
   "execution_count": null,
   "id": "RWHtAkpOgjqP",
   "metadata": {
    "colab": {
     "base_uri": "https://localhost:8080/"
    },
    "id": "RWHtAkpOgjqP",
    "outputId": "2dee8489-32aa-4f2a-c17b-69fe7a7c3614"
   },
   "outputs": [
    {
     "name": "stderr",
     "output_type": "stream",
     "text": [
      "\u001b[32m[I 2023-04-22 11:10:59,225]\u001b[0m A new study created in memory with name: no-name-b2391149-ef11-47d7-bee4-7c156b63cb88\u001b[0m\n",
      "100%|██████████| 9307/9307 [21:44<00:00,  7.14it/s]\n",
      "\u001b[32m[I 2023-04-22 11:32:58,461]\u001b[0m Trial 0 finished with value: 0.05488958889693859 and parameters: {'nearest_neighbors_num': 160, 'alpha': 0.0}. Best is trial 0 with value: 0.05488958889693859.\u001b[0m\n",
      "100%|██████████| 9307/9307 [22:13<00:00,  6.98it/s]\n",
      "\u001b[32m[I 2023-04-22 11:55:32,208]\u001b[0m Trial 1 finished with value: 0.0739815303147157 and parameters: {'nearest_neighbors_num': 130, 'alpha': 0.75}. Best is trial 1 with value: 0.0739815303147157.\u001b[0m\n",
      "100%|██████████| 9307/9307 [21:59<00:00,  7.05it/s]\n",
      "\u001b[32m[I 2023-04-22 12:17:52,354]\u001b[0m Trial 2 finished with value: 0.07189376061244337 and parameters: {'nearest_neighbors_num': 100, 'alpha': 0.2}. Best is trial 1 with value: 0.0739815303147157.\u001b[0m\n",
      "100%|██████████| 9307/9307 [21:24<00:00,  7.25it/s]\n",
      "\u001b[32m[I 2023-04-22 12:39:37,152]\u001b[0m Trial 3 finished with value: 0.07372222189684938 and parameters: {'nearest_neighbors_num': 40, 'alpha': 0.75}. Best is trial 1 with value: 0.0739815303147157.\u001b[0m\n",
      "100%|██████████| 9307/9307 [21:21<00:00,  7.26it/s]\n",
      "\u001b[32m[I 2023-04-22 13:01:19,049]\u001b[0m Trial 4 finished with value: 0.06966689720757849 and parameters: {'nearest_neighbors_num': 30, 'alpha': 0.05}. Best is trial 1 with value: 0.0739815303147157.\u001b[0m\n",
      "100%|██████████| 9307/9307 [22:41<00:00,  6.84it/s]\n",
      "\u001b[32m[I 2023-04-22 13:24:23,167]\u001b[0m Trial 5 finished with value: 0.07288007857110268 and parameters: {'nearest_neighbors_num': 140, 'alpha': 1.0}. Best is trial 1 with value: 0.0739815303147157.\u001b[0m\n",
      "100%|██████████| 9307/9307 [03:55<00:00, 39.46it/s]\n",
      "\u001b[32m[I 2023-04-22 13:28:40,180]\u001b[0m Trial 6 finished with value: 0.00041996886795163884 and parameters: {'nearest_neighbors_num': 0, 'alpha': 0.5}. Best is trial 1 with value: 0.0739815303147157.\u001b[0m\n",
      "100%|██████████| 9307/9307 [23:23<00:00,  6.63it/s]\n",
      "\u001b[32m[I 2023-04-22 13:52:19,099]\u001b[0m Trial 7 finished with value: 0.073742019253553 and parameters: {'nearest_neighbors_num': 170, 'alpha': 0.6000000000000001}. Best is trial 1 with value: 0.0739815303147157.\u001b[0m\n",
      "100%|██████████| 9307/9307 [23:09<00:00,  6.70it/s]\n",
      "\u001b[32m[I 2023-04-22 14:15:43,578]\u001b[0m Trial 8 finished with value: 0.07259685747907021 and parameters: {'nearest_neighbors_num': 150, 'alpha': 0.30000000000000004}. Best is trial 1 with value: 0.0739815303147157.\u001b[0m\n",
      "100%|██████████| 9307/9307 [26:14<00:00,  5.91it/s]\n",
      "\u001b[32m[I 2023-04-22 14:42:12,939]\u001b[0m Trial 9 finished with value: 0.07390910672121691 and parameters: {'nearest_neighbors_num': 190, 'alpha': 0.75}. Best is trial 1 with value: 0.0739815303147157.\u001b[0m\n",
      "100%|██████████| 9307/9307 [22:33<00:00,  6.88it/s]\n",
      "\u001b[32m[I 2023-04-22 15:05:01,413]\u001b[0m Trial 10 finished with value: 0.07288007857110268 and parameters: {'nearest_neighbors_num': 100, 'alpha': 1.0}. Best is trial 1 with value: 0.0739815303147157.\u001b[0m\n",
      "100%|██████████| 9307/9307 [26:29<00:00,  5.86it/s]\n",
      "\u001b[32m[I 2023-04-22 15:31:45,750]\u001b[0m Trial 11 finished with value: 0.07384660053554577 and parameters: {'nearest_neighbors_num': 200, 'alpha': 0.75}. Best is trial 1 with value: 0.0739815303147157.\u001b[0m\n",
      "100%|██████████| 9307/9307 [25:59<00:00,  5.97it/s]\n",
      "\u001b[32m[I 2023-04-22 15:58:06,363]\u001b[0m Trial 12 finished with value: 0.07390910672121691 and parameters: {'nearest_neighbors_num': 190, 'alpha': 0.75}. Best is trial 1 with value: 0.0739815303147157.\u001b[0m\n",
      "100%|██████████| 9307/9307 [22:55<00:00,  6.77it/s]\n",
      "\u001b[32m[I 2023-04-22 16:21:17,022]\u001b[0m Trial 13 finished with value: 0.07386897943308188 and parameters: {'nearest_neighbors_num': 120, 'alpha': 0.8500000000000001}. Best is trial 1 with value: 0.0739815303147157.\u001b[0m\n",
      "100%|██████████| 9307/9307 [22:28<00:00,  6.90it/s]\n",
      "\u001b[32m[I 2023-04-22 16:44:01,012]\u001b[0m Trial 14 finished with value: 0.07359266544159722 and parameters: {'nearest_neighbors_num': 80, 'alpha': 0.6000000000000001}. Best is trial 1 with value: 0.0739815303147157.\u001b[0m\n",
      "100%|██████████| 9307/9307 [23:18<00:00,  6.65it/s]\n",
      "\u001b[32m[I 2023-04-22 17:07:35,365]\u001b[0m Trial 15 finished with value: 0.07304920414177454 and parameters: {'nearest_neighbors_num': 130, 'alpha': 0.4}. Best is trial 1 with value: 0.0739815303147157.\u001b[0m\n",
      "100%|██████████| 9307/9307 [23:55<00:00,  6.48it/s]\n",
      "\u001b[32m[I 2023-04-22 17:31:46,939]\u001b[0m Trial 16 finished with value: 0.07381471885296544 and parameters: {'nearest_neighbors_num': 180, 'alpha': 0.8500000000000001}. Best is trial 1 with value: 0.0739815303147157.\u001b[0m\n",
      "100%|██████████| 9307/9307 [22:39<00:00,  6.85it/s]\n",
      "\u001b[32m[I 2023-04-22 17:54:42,648]\u001b[0m Trial 17 finished with value: 0.07350602359984736 and parameters: {'nearest_neighbors_num': 70, 'alpha': 0.6000000000000001}. Best is trial 1 with value: 0.0739815303147157.\u001b[0m\n",
      "100%|██████████| 9307/9307 [26:59<00:00,  5.75it/s]\n",
      "\u001b[32m[I 2023-04-22 18:21:59,080]\u001b[0m Trial 18 finished with value: 0.07367532026841338 and parameters: {'nearest_neighbors_num': 200, 'alpha': 0.8500000000000001}. Best is trial 1 with value: 0.0739815303147157.\u001b[0m\n",
      "100%|██████████| 9307/9307 [22:57<00:00,  6.76it/s]\n",
      "\u001b[32m[I 2023-04-22 18:45:20,275]\u001b[0m Trial 19 finished with value: 0.07340029082007705 and parameters: {'nearest_neighbors_num': 110, 'alpha': 0.5}. Best is trial 1 with value: 0.0739815303147157.\u001b[0m\n",
      "100%|██████████| 9307/9307 [22:49<00:00,  6.80it/s]\n",
      "\u001b[32m[I 2023-04-22 19:08:25,105]\u001b[0m Trial 20 finished with value: 0.0737996005957825 and parameters: {'nearest_neighbors_num': 70, 'alpha': 0.7000000000000001}. Best is trial 1 with value: 0.0739815303147157.\u001b[0m\n",
      "100%|██████████| 9307/9307 [23:40<00:00,  6.55it/s]\n",
      "\u001b[32m[I 2023-04-22 19:32:28,245]\u001b[0m Trial 21 finished with value: 0.07391613169901487 and parameters: {'nearest_neighbors_num': 180, 'alpha': 0.7000000000000001}. Best is trial 1 with value: 0.0739815303147157.\u001b[0m\n",
      "100%|██████████| 9307/9307 [24:02<00:00,  6.45it/s]\n",
      "\u001b[32m[I 2023-04-22 19:56:45,898]\u001b[0m Trial 22 finished with value: 0.07348485282258697 and parameters: {'nearest_neighbors_num': 160, 'alpha': 0.9}. Best is trial 1 with value: 0.0739815303147157.\u001b[0m\n",
      "100%|██████████| 9307/9307 [24:13<00:00,  6.40it/s]\n",
      "\u001b[32m[I 2023-04-22 20:21:14,839]\u001b[0m Trial 23 finished with value: 0.07366845109906145 and parameters: {'nearest_neighbors_num': 180, 'alpha': 0.65}. Best is trial 1 with value: 0.0739815303147157.\u001b[0m\n",
      "100%|██████████| 9307/9307 [23:53<00:00,  6.49it/s]\n",
      "\u001b[32m[I 2023-04-22 20:45:23,574]\u001b[0m Trial 24 finished with value: 0.07310286498173772 and parameters: {'nearest_neighbors_num': 140, 'alpha': 0.4}. Best is trial 1 with value: 0.0739815303147157.\u001b[0m\n"
     ]
    }
   ],
   "source": [
    "sampler = optuna.samplers.TPESampler(seed=seed)\n",
    "study = optuna.create_study(direction=\"maximize\", sampler=sampler)\n",
    "study.optimize(objective, n_trials=25)"
   ]
  },
  {
   "cell_type": "markdown",
   "id": "KGULUh7Iv_k9",
   "metadata": {
    "id": "KGULUh7Iv_k9"
   },
   "source": [
    "Test SLRCKNN (calculate scores for different seeds):"
   ]
  },
  {
   "cell_type": "code",
   "execution_count": null,
   "id": "ZC-UzPAAwCyi",
   "metadata": {
    "id": "ZC-UzPAAwCyi"
   },
   "outputs": [],
   "source": [
    "test_metrics = {\n",
    "    \"precision\": [],\n",
    "    \"recall\": [],\n",
    "    \"ndcg\": []\n",
    "}"
   ]
  },
  {
   "cell_type": "code",
   "execution_count": null,
   "id": "sho1alo1rBAw",
   "metadata": {
    "id": "sho1alo1rBAw"
   },
   "outputs": [],
   "source": [
    "for seed in range(2):\n",
    "    print(f\"\\n___SEED___{seed}\")\n",
    "    torch.manual_seed(seed)\n",
    "    random.seed(seed)\n",
    "    np.random.seed(seed)\n",
    "\n",
    "    trainer = NBRTrainer(\n",
    "        corpus=corpus,\n",
    "        max_epochs=20,\n",
    "        topk=10,\n",
    "        early_stop_num=3\n",
    "    )\n",
    "\n",
    "    params = {\n",
    "        \"model\": SLRC(\n",
    "            base_model_class=BPR,\n",
    "            base_model_config={\n",
    "                \"emb_size\": slrc_best_params[\"emb_size\"],\n",
    "                \"user_num\": corpus.n_users,\n",
    "                \"item_num\": corpus.n_items,\n",
    "                \"click_num\": corpus.n_clicks\n",
    "            },\n",
    "            item_num=corpus.n_items,\n",
    "            avg_repeat_interval=corpus.total_avg_interval\n",
    "        ),\n",
    "        \"batch_size\": slrc_best_params[\"batch_size\"],\n",
    "        \"lr\": slrc_best_params[\"lr\"],\n",
    "        \"l2_reg_coef\": slrc_best_params[\"l2_reg_coef\"]\n",
    "    }\n",
    "\n",
    "    trainer.init_hyperparams(**params)\n",
    "    trainer.train()\n",
    "\n",
    "    dev_user_emb = trainer.get_predictions(mode=\"dev\")\n",
    "    test_user_emb = trainer.get_predictions(mode=\"test\")\n",
    "\n",
    "    trainer = NBRTrainer(\n",
    "        corpus=corpus,\n",
    "        max_epochs=None,\n",
    "        topk=10,\n",
    "        early_stop_num=None\n",
    "    )\n",
    "\n",
    "    params = {\n",
    "        \"model\": NBRKNN(\n",
    "            item_num=corpus.n_items,\n",
    "            user_num=corpus.n_users,\n",
    "            nearest_neighbors_num=study.best_params[\"nearest_neighbors_num\"],\n",
    "            alpha=study.best_params[\"alpha\"],\n",
    "            user_emb=dev_user_emb\n",
    "        )\n",
    "    }\n",
    "    params[\"model\"].set_emb(test_user_emb)\n",
    "\n",
    "    trainer.init_hyperparams(**params)\n",
    "\n",
    "    metrics = trainer.evaluate(mode=\"test\")\n",
    "\n",
    "    test_metrics[\"precision\"].append(metrics[\"precision\"])\n",
    "    test_metrics[\"recall\"].append(metrics[\"recall\"])\n",
    "    test_metrics[\"ndcg\"].append(metrics[\"ndcg\"])\n",
    "    print(test_metrics)"
   ]
  },
  {
   "cell_type": "code",
   "execution_count": null,
   "id": "vf3QHIm5s4Zg",
   "metadata": {
    "colab": {
     "base_uri": "https://localhost:8080/"
    },
    "id": "vf3QHIm5s4Zg",
    "outputId": "54f66514-ea36-4f4f-e367-491c48c98bb1"
   },
   "outputs": [
    {
     "data": {
      "text/plain": [
       "{'precision': 0.012189749650800474,\n",
       " 'recall': 0.11793094803194727,\n",
       " 'ndcg': 0.08094238210382983}"
      ]
     },
     "execution_count": 16,
     "metadata": {},
     "output_type": "execute_result"
    }
   ],
   "source": [
    "{\n",
    "    \"precision\": np.array(test_metrics[\"precision\"]).mean(),\n",
    "    \"recall\": np.array(test_metrics[\"recall\"]).mean(),\n",
    "    \"ndcg\": np.array(test_metrics[\"ndcg\"]).mean(),\n",
    "}"
   ]
  },
  {
   "cell_type": "markdown",
   "id": "XTCeVH_YRby3",
   "metadata": {
    "id": "XTCeVH_YRby3"
   },
   "source": [
    "# Dunnhumby"
   ]
  },
  {
   "cell_type": "markdown",
   "id": "v8qigjFOxjRP",
   "metadata": {
    "id": "v8qigjFOxjRP"
   },
   "source": [
    "Fix seed:"
   ]
  },
  {
   "cell_type": "code",
   "execution_count": null,
   "id": "WwlP1H44xk4b",
   "metadata": {
    "id": "WwlP1H44xk4b"
   },
   "outputs": [],
   "source": [
    "seed = 10\n",
    "torch.manual_seed(seed)\n",
    "random.seed(seed)\n",
    "np.random.seed(seed)"
   ]
  },
  {
   "cell_type": "markdown",
   "id": "nMtgyq3sxlSL",
   "metadata": {
    "id": "nMtgyq3sxlSL"
   },
   "source": [
    "Read interactions data (filter users with less than 5 transactions, high purchase frequency and one-day users and items with less than 10 transactions). Train dataset - all baskets except the last two, validation dataset - the last but one basket, test dataset - the last basket:"
   ]
  },
  {
   "cell_type": "code",
   "execution_count": null,
   "id": "093cdded",
   "metadata": {
    "colab": {
     "base_uri": "https://localhost:8080/"
    },
    "id": "093cdded",
    "outputId": "4d13bd90-2922-48b3-867e-bd862e5366d5"
   },
   "outputs": [
    {
     "name": "stdout",
     "output_type": "stream",
     "text": [
      "Before preprocessing: #users = 2500, #items = 92339, #clicks = 2595370 (#illegal records = 0)\n",
      "After preprocessing: #users = 2358, #items = 26756, #clicks = 1976796\n",
      "Saving dataset in ./data//data_dunnhumby/...\n"
     ]
    }
   ],
   "source": [
    "corpus_path = \"./data/\"\n",
    "dataset_name = \"dunnhumby\"\n",
    "\n",
    "preprocessor = Preprocess(corpus_path, dataset_name)\n",
    "preprocessor.load_data(5, 10, filt=True)\n",
    "save_split(corpus_path, dataset_name, preprocessor)"
   ]
  },
  {
   "cell_type": "code",
   "execution_count": null,
   "id": "KxqJ1WX4RmKt",
   "metadata": {
    "id": "KxqJ1WX4RmKt"
   },
   "outputs": [],
   "source": [
    "corpus = Corpus(corpus_path, dataset_name)\n",
    "corpus.load_data()"
   ]
  },
  {
   "cell_type": "markdown",
   "id": "zF9SVMs7x1XT",
   "metadata": {
    "id": "zF9SVMs7x1XT"
   },
   "source": [
    "Train SLRC model with best hyperparams (see ./testing_slrc.ipynb):"
   ]
  },
  {
   "cell_type": "code",
   "execution_count": null,
   "id": "_7vIqkcQx6Ij",
   "metadata": {
    "colab": {
     "base_uri": "https://localhost:8080/"
    },
    "id": "_7vIqkcQx6Ij",
    "outputId": "a0505bf4-cf08-49e2-aee5-dda4ee616fe9"
   },
   "outputs": [
    {
     "name": "stdout",
     "output_type": "stream",
     "text": [
      "train dataset preparing...\n"
     ]
    },
    {
     "name": "stderr",
     "output_type": "stream",
     "text": [
      "100%|██████████| 2358/2358 [00:10<00:00, 220.61it/s]\n"
     ]
    },
    {
     "name": "stdout",
     "output_type": "stream",
     "text": [
      "dev dataset preparing...\n"
     ]
    },
    {
     "name": "stderr",
     "output_type": "stream",
     "text": [
      "100%|██████████| 2357/2357 [00:10<00:00, 219.72it/s]\n"
     ]
    },
    {
     "name": "stdout",
     "output_type": "stream",
     "text": [
      "test dataset preparing...\n"
     ]
    },
    {
     "name": "stderr",
     "output_type": "stream",
     "text": [
      "100%|██████████| 2357/2357 [00:11<00:00, 199.37it/s]\n"
     ]
    }
   ],
   "source": [
    "trainer = NBRTrainer(\n",
    "    corpus=corpus,\n",
    "    max_epochs=20,\n",
    "    topk=10,\n",
    "    early_stop_num=3\n",
    ")"
   ]
  },
  {
   "cell_type": "code",
   "execution_count": null,
   "id": "DNpX4TrhSSUr",
   "metadata": {
    "id": "DNpX4TrhSSUr"
   },
   "outputs": [],
   "source": [
    "slrc_best_params = {'emb_size': 32, 'batch_size': 256, 'lr': 0.0006366285017414498, 'l2_reg_coef': 0.09063752099202302}\n",
    "\n",
    "params = {\n",
    "    \"model\": SLRC(\n",
    "        base_model_class=BPR,\n",
    "        base_model_config={\n",
    "            \"emb_size\": slrc_best_params[\"emb_size\"],\n",
    "            \"user_num\": corpus.n_users,\n",
    "            \"item_num\": corpus.n_items,\n",
    "            \"click_num\": corpus.n_clicks\n",
    "        },\n",
    "        item_num=corpus.n_items,\n",
    "        avg_repeat_interval=corpus.total_avg_interval\n",
    "    ),\n",
    "    \"batch_size\": slrc_best_params[\"batch_size\"],\n",
    "    \"lr\": slrc_best_params[\"lr\"],\n",
    "    \"l2_reg_coef\": slrc_best_params[\"l2_reg_coef\"]\n",
    "}\n",
    "\n",
    "trainer.init_hyperparams(**params)"
   ]
  },
  {
   "cell_type": "code",
   "execution_count": null,
   "id": "33JbC2fGd5Da",
   "metadata": {
    "colab": {
     "base_uri": "https://localhost:8080/"
    },
    "id": "33JbC2fGd5Da",
    "outputId": "78b80593-3c72-4d03-9bf4-ef1ab228515f"
   },
   "outputs": [
    {
     "name": "stdout",
     "output_type": "stream",
     "text": [
      "Epoch 1:\n"
     ]
    },
    {
     "name": "stderr",
     "output_type": "stream",
     "text": [
      "Batch loss = 0.575686: 100%|██████████| 7530/7530 [02:11<00:00, 57.43it/s]"
     ]
    },
    {
     "name": "stdout",
     "output_type": "stream",
     "text": [
      "\n",
      "Evaluation (dev):\n"
     ]
    },
    {
     "name": "stderr",
     "output_type": "stream",
     "text": [
      "\n",
      "100%|██████████| 2357/2357 [01:15<00:00, 31.39it/s]"
     ]
    },
    {
     "name": "stdout",
     "output_type": "stream",
     "text": [
      "\n",
      " {'precision': 0.11904963937208317, 'recall': 0.182277700424532, 'ndcg': 0.1694145228041231}\n",
      "Epoch 2:\n"
     ]
    },
    {
     "name": "stderr",
     "output_type": "stream",
     "text": [
      "\n",
      "Batch loss = 0.533279: 100%|██████████| 7530/7530 [02:14<00:00, 56.14it/s]\n"
     ]
    },
    {
     "name": "stdout",
     "output_type": "stream",
     "text": [
      "\n",
      "Evaluation (dev):\n"
     ]
    },
    {
     "name": "stderr",
     "output_type": "stream",
     "text": [
      "100%|██████████| 2357/2357 [01:11<00:00, 33.18it/s]"
     ]
    },
    {
     "name": "stdout",
     "output_type": "stream",
     "text": [
      "\n",
      " {'precision': 0.11714043275350022, 'recall': 0.18073043804384614, 'ndcg': 0.16877583293808682}\n",
      "Epoch 3:\n"
     ]
    },
    {
     "name": "stderr",
     "output_type": "stream",
     "text": [
      "\n",
      "Batch loss = 0.498366: 100%|██████████| 7530/7530 [02:16<00:00, 55.17it/s]"
     ]
    },
    {
     "name": "stdout",
     "output_type": "stream",
     "text": [
      "\n",
      "Evaluation (dev):\n"
     ]
    },
    {
     "name": "stderr",
     "output_type": "stream",
     "text": [
      "\n",
      "100%|██████████| 2357/2357 [01:12<00:00, 32.48it/s]"
     ]
    },
    {
     "name": "stdout",
     "output_type": "stream",
     "text": [
      "\n",
      " {'precision': 0.11709800593975392, 'recall': 0.18133129790695426, 'ndcg': 0.16794579661060294}\n",
      "Epoch 4:\n"
     ]
    },
    {
     "name": "stderr",
     "output_type": "stream",
     "text": [
      "\n",
      "Batch loss = 0.459155: 100%|██████████| 7530/7530 [02:16<00:00, 55.09it/s]"
     ]
    },
    {
     "name": "stdout",
     "output_type": "stream",
     "text": [
      "\n",
      "Evaluation (dev):\n"
     ]
    },
    {
     "name": "stderr",
     "output_type": "stream",
     "text": [
      "\n",
      "100%|██████████| 2357/2357 [01:12<00:00, 32.59it/s]"
     ]
    },
    {
     "name": "stdout",
     "output_type": "stream",
     "text": [
      "\n",
      " {'precision': 0.11646160373355961, 'recall': 0.1801680333166432, 'ndcg': 0.16614035622344148}\n"
     ]
    },
    {
     "name": "stderr",
     "output_type": "stream",
     "text": [
      "\n"
     ]
    },
    {
     "data": {
      "text/plain": [
       "SLRC(\n",
       "  (base_model): BPR(\n",
       "    (user_emb): Embedding(2358, 32)\n",
       "    (item_emb): Embedding(26756, 32)\n",
       "  )\n",
       ")"
      ]
     },
     "execution_count": 9,
     "metadata": {},
     "output_type": "execute_result"
    }
   ],
   "source": [
    "trainer.train()"
   ]
  },
  {
   "cell_type": "markdown",
   "id": "0LcJUFmiycaq",
   "metadata": {
    "id": "0LcJUFmiycaq"
   },
   "source": [
    "Save users' embeddings for validation step (user's embedding for validation step is his vector of recommendation scores for all items at the time of validation):"
   ]
  },
  {
   "cell_type": "code",
   "execution_count": null,
   "id": "T2yzTFv7yd9n",
   "metadata": {
    "colab": {
     "base_uri": "https://localhost:8080/"
    },
    "id": "T2yzTFv7yd9n",
    "outputId": "deea9c4f-558e-4034-b0e5-c3bf411df81d"
   },
   "outputs": [
    {
     "name": "stderr",
     "output_type": "stream",
     "text": [
      "100%|██████████| 2357/2357 [01:14<00:00, 31.70it/s]\n"
     ]
    }
   ],
   "source": [
    "dev_user_emb = trainer.get_predictions(mode=\"dev\")"
   ]
  },
  {
   "cell_type": "markdown",
   "id": "-i1zBxcHyk6k",
   "metadata": {
    "id": "-i1zBxcHyk6k"
   },
   "source": [
    "Tune KNN hyperparams on validation dataset:"
   ]
  },
  {
   "cell_type": "code",
   "execution_count": null,
   "id": "UaP7p2OjSfD6",
   "metadata": {
    "colab": {
     "base_uri": "https://localhost:8080/"
    },
    "id": "UaP7p2OjSfD6",
    "outputId": "a60d7255-a0df-42bd-a26a-bfc525249c6b"
   },
   "outputs": [
    {
     "name": "stdout",
     "output_type": "stream",
     "text": [
      "train dataset preparing...\n"
     ]
    },
    {
     "name": "stderr",
     "output_type": "stream",
     "text": [
      "100%|██████████| 2358/2358 [00:10<00:00, 221.38it/s]\n"
     ]
    },
    {
     "name": "stdout",
     "output_type": "stream",
     "text": [
      "dev dataset preparing...\n"
     ]
    },
    {
     "name": "stderr",
     "output_type": "stream",
     "text": [
      "100%|██████████| 2357/2357 [00:10<00:00, 223.89it/s]\n"
     ]
    },
    {
     "name": "stdout",
     "output_type": "stream",
     "text": [
      "test dataset preparing...\n"
     ]
    },
    {
     "name": "stderr",
     "output_type": "stream",
     "text": [
      "100%|██████████| 2357/2357 [00:12<00:00, 195.26it/s]\n"
     ]
    }
   ],
   "source": [
    "trainer = NBRTrainer(\n",
    "    corpus=corpus,\n",
    "    max_epochs=None,\n",
    "    topk=10,\n",
    "    early_stop_num=None\n",
    ")"
   ]
  },
  {
   "cell_type": "code",
   "execution_count": null,
   "id": "bOnOO6kVSgZb",
   "metadata": {
    "id": "bOnOO6kVSgZb"
   },
   "outputs": [],
   "source": [
    "def objective(trial):\n",
    "    params = {\n",
    "        \"model\": NBRKNN(\n",
    "            item_num=corpus.n_items,\n",
    "            user_num=corpus.n_users,\n",
    "            nearest_neighbors_num=trial.suggest_int(\"nearest_neighbors_num\", low=1, high=200),\n",
    "            alpha=trial.suggest_float(\"alpha\", 0.0, 1.0, step=0.05),\n",
    "            user_emb=dev_user_emb\n",
    "        )\n",
    "    }\n",
    "\n",
    "    trainer.init_hyperparams(**params)\n",
    "    metrics = trainer.evaluate(mode=\"dev\")\n",
    "    score = metrics[\"ndcg\"]\n",
    "    return score"
   ]
  },
  {
   "cell_type": "code",
   "execution_count": null,
   "id": "yJ1kwzkNSgds",
   "metadata": {
    "colab": {
     "base_uri": "https://localhost:8080/"
    },
    "id": "yJ1kwzkNSgds",
    "outputId": "0d24ddd7-6419-48c2-9030-7d4415d1042c"
   },
   "outputs": [
    {
     "name": "stderr",
     "output_type": "stream",
     "text": [
      "\u001b[32m[I 2023-04-23 09:44:10,283]\u001b[0m A new study created in memory with name: no-name-dab2f14e-1955-4c2c-a7e3-0be41ae025c0\u001b[0m\n",
      "100%|██████████| 2357/2357 [03:09<00:00, 12.42it/s]\n",
      "\u001b[32m[I 2023-04-23 09:47:25,259]\u001b[0m Trial 0 finished with value: 0.12505135057878455 and parameters: {'nearest_neighbors_num': 155, 'alpha': 0.0}. Best is trial 0 with value: 0.12505135057878455.\u001b[0m\n",
      "100%|██████████| 2357/2357 [02:48<00:00, 13.98it/s]\n",
      "\u001b[32m[I 2023-04-23 09:50:17,249]\u001b[0m Trial 1 finished with value: 0.17325260973753215 and parameters: {'nearest_neighbors_num': 127, 'alpha': 0.75}. Best is trial 1 with value: 0.17325260973753215.\u001b[0m\n",
      "100%|██████████| 2357/2357 [02:45<00:00, 14.27it/s]\n",
      "\u001b[32m[I 2023-04-23 09:53:05,837]\u001b[0m Trial 2 finished with value: 0.16500951841871095 and parameters: {'nearest_neighbors_num': 100, 'alpha': 0.2}. Best is trial 1 with value: 0.17325260973753215.\u001b[0m\n",
      "100%|██████████| 2357/2357 [02:35<00:00, 15.13it/s]\n",
      "\u001b[32m[I 2023-04-23 09:55:47,644]\u001b[0m Trial 3 finished with value: 0.17335123850649198 and parameters: {'nearest_neighbors_num': 40, 'alpha': 0.75}. Best is trial 3 with value: 0.17335123850649198.\u001b[0m\n",
      "100%|██████████| 2357/2357 [02:34<00:00, 15.24it/s]\n",
      "\u001b[32m[I 2023-04-23 09:58:26,515]\u001b[0m Trial 4 finished with value: 0.1486473264679638 and parameters: {'nearest_neighbors_num': 34, 'alpha': 0.05}. Best is trial 3 with value: 0.17335123850649198.\u001b[0m\n",
      "100%|██████████| 2357/2357 [02:55<00:00, 13.42it/s]\n",
      "\u001b[32m[I 2023-04-23 10:01:26,507]\u001b[0m Trial 5 finished with value: 0.1694145228041231 and parameters: {'nearest_neighbors_num': 138, 'alpha': 1.0}. Best is trial 3 with value: 0.17335123850649198.\u001b[0m\n",
      "100%|██████████| 2357/2357 [02:32<00:00, 15.41it/s]\n",
      "\u001b[32m[I 2023-04-23 10:04:02,918]\u001b[0m Trial 6 finished with value: 0.1694145228041231 and parameters: {'nearest_neighbors_num': 1, 'alpha': 0.5}. Best is trial 3 with value: 0.17335123850649198.\u001b[0m\n",
      "100%|██████████| 2357/2357 [03:11<00:00, 12.31it/s]\n",
      "\u001b[32m[I 2023-04-23 10:07:18,090]\u001b[0m Trial 7 finished with value: 0.1740835245644275 and parameters: {'nearest_neighbors_num': 163, 'alpha': 0.6000000000000001}. Best is trial 7 with value: 0.1740835245644275.\u001b[0m\n",
      "100%|██████████| 2357/2357 [02:59<00:00, 13.16it/s]\n",
      "\u001b[32m[I 2023-04-23 10:10:22,345]\u001b[0m Trial 8 finished with value: 0.1706492976099446 and parameters: {'nearest_neighbors_num': 145, 'alpha': 0.30000000000000004}. Best is trial 7 with value: 0.1740835245644275.\u001b[0m\n",
      "100%|██████████| 2357/2357 [03:08<00:00, 12.50it/s]\n",
      "\u001b[32m[I 2023-04-23 10:13:34,317]\u001b[0m Trial 9 finished with value: 0.1733920638858527 and parameters: {'nearest_neighbors_num': 184, 'alpha': 0.75}. Best is trial 7 with value: 0.1740835245644275.\u001b[0m\n",
      "100%|██████████| 2357/2357 [03:08<00:00, 12.52it/s]\n",
      "\u001b[32m[I 2023-04-23 10:16:48,358]\u001b[0m Trial 10 finished with value: 0.17404911201723897 and parameters: {'nearest_neighbors_num': 188, 'alpha': 0.45}. Best is trial 7 with value: 0.1740835245644275.\u001b[0m\n",
      "100%|██████████| 2357/2357 [03:12<00:00, 12.23it/s]\n",
      "\u001b[32m[I 2023-04-23 10:20:04,632]\u001b[0m Trial 11 finished with value: 0.174289947877544 and parameters: {'nearest_neighbors_num': 199, 'alpha': 0.5}. Best is trial 11 with value: 0.174289947877544.\u001b[0m\n",
      "100%|██████████| 2357/2357 [03:10<00:00, 12.35it/s]\n",
      "\u001b[32m[I 2023-04-23 10:23:20,596]\u001b[0m Trial 12 finished with value: 0.17398467650302593 and parameters: {'nearest_neighbors_num': 190, 'alpha': 0.5}. Best is trial 11 with value: 0.174289947877544.\u001b[0m\n",
      "100%|██████████| 2357/2357 [02:52<00:00, 13.70it/s]\n",
      "\u001b[32m[I 2023-04-23 10:26:16,122]\u001b[0m Trial 13 finished with value: 0.17349843686313676 and parameters: {'nearest_neighbors_num': 102, 'alpha': 0.6000000000000001}. Best is trial 11 with value: 0.174289947877544.\u001b[0m\n",
      "100%|██████████| 2357/2357 [03:04<00:00, 12.75it/s]\n",
      "\u001b[32m[I 2023-04-23 10:29:26,192]\u001b[0m Trial 14 finished with value: 0.17024505556246813 and parameters: {'nearest_neighbors_num': 166, 'alpha': 0.30000000000000004}. Best is trial 11 with value: 0.174289947877544.\u001b[0m\n",
      "100%|██████████| 2357/2357 [02:52<00:00, 13.63it/s]\n",
      "\u001b[32m[I 2023-04-23 10:32:23,786]\u001b[0m Trial 15 finished with value: 0.17162508221117134 and parameters: {'nearest_neighbors_num': 113, 'alpha': 0.9}. Best is trial 11 with value: 0.174289947877544.\u001b[0m\n",
      "100%|██████████| 2357/2357 [03:18<00:00, 11.85it/s]\n",
      "\u001b[32m[I 2023-04-23 10:35:49,827]\u001b[0m Trial 16 finished with value: 0.17400610671014408 and parameters: {'nearest_neighbors_num': 199, 'alpha': 0.65}. Best is trial 11 with value: 0.174289947877544.\u001b[0m\n",
      "100%|██████████| 2357/2357 [02:46<00:00, 14.18it/s]\n",
      "\u001b[32m[I 2023-04-23 10:38:40,272]\u001b[0m Trial 17 finished with value: 0.17161233413173235 and parameters: {'nearest_neighbors_num': 75, 'alpha': 0.4}. Best is trial 11 with value: 0.174289947877544.\u001b[0m\n",
      "100%|██████████| 2357/2357 [03:03<00:00, 12.81it/s]\n",
      "\u001b[32m[I 2023-04-23 10:41:47,706]\u001b[0m Trial 18 finished with value: 0.1741930732256086 and parameters: {'nearest_neighbors_num': 169, 'alpha': 0.65}. Best is trial 11 with value: 0.174289947877544.\u001b[0m\n",
      "100%|██████████| 2357/2357 [03:04<00:00, 12.78it/s]\n",
      "\u001b[32m[I 2023-04-23 10:44:55,727]\u001b[0m Trial 19 finished with value: 0.17310349224641214 and parameters: {'nearest_neighbors_num': 169, 'alpha': 0.8500000000000001}. Best is trial 11 with value: 0.174289947877544.\u001b[0m\n",
      "100%|██████████| 2357/2357 [02:48<00:00, 14.01it/s]\n",
      "\u001b[32m[I 2023-04-23 10:47:47,715]\u001b[0m Trial 20 finished with value: 0.17099114828999842 and parameters: {'nearest_neighbors_num': 80, 'alpha': 0.35000000000000003}. Best is trial 11 with value: 0.174289947877544.\u001b[0m\n",
      "100%|██████████| 2357/2357 [03:04<00:00, 12.76it/s]\n",
      "\u001b[32m[I 2023-04-23 10:50:56,015]\u001b[0m Trial 21 finished with value: 0.1739062540635558 and parameters: {'nearest_neighbors_num': 169, 'alpha': 0.6000000000000001}. Best is trial 11 with value: 0.174289947877544.\u001b[0m\n",
      "100%|██████████| 2357/2357 [03:06<00:00, 12.66it/s]\n",
      "\u001b[32m[I 2023-04-23 10:54:07,511]\u001b[0m Trial 22 finished with value: 0.1741807145063487 and parameters: {'nearest_neighbors_num': 174, 'alpha': 0.65}. Best is trial 11 with value: 0.174289947877544.\u001b[0m\n",
      "100%|██████████| 2357/2357 [03:06<00:00, 12.63it/s]\n",
      "\u001b[32m[I 2023-04-23 10:57:18,106]\u001b[0m Trial 23 finished with value: 0.17343776813412104 and parameters: {'nearest_neighbors_num': 178, 'alpha': 0.7000000000000001}. Best is trial 11 with value: 0.174289947877544.\u001b[0m\n",
      "100%|██████████| 2357/2357 [03:20<00:00, 11.76it/s]\n",
      "\u001b[32m[I 2023-04-23 11:00:41,954]\u001b[0m Trial 24 finished with value: 0.17277975082042232 and parameters: {'nearest_neighbors_num': 199, 'alpha': 0.8500000000000001}. Best is trial 11 with value: 0.174289947877544.\u001b[0m\n"
     ]
    }
   ],
   "source": [
    "sampler = optuna.samplers.TPESampler(seed=seed)\n",
    "study = optuna.create_study(direction=\"maximize\", sampler=sampler)\n",
    "study.optimize(objective, n_trials=25)"
   ]
  },
  {
   "cell_type": "markdown",
   "id": "bs8RXNyPy1dO",
   "metadata": {
    "id": "bs8RXNyPy1dO"
   },
   "source": [
    "Test SLRCKNN (calculate scores for different seeds):"
   ]
  },
  {
   "cell_type": "code",
   "execution_count": null,
   "id": "2iEABJe_y2bu",
   "metadata": {
    "id": "2iEABJe_y2bu"
   },
   "outputs": [],
   "source": [
    "test_metrics = {\n",
    "    \"precision\": [],\n",
    "    \"recall\": [],\n",
    "    \"ndcg\": []\n",
    "}"
   ]
  },
  {
   "cell_type": "code",
   "execution_count": null,
   "id": "vLbJSPlrLghN",
   "metadata": {
    "colab": {
     "base_uri": "https://localhost:8080/"
    },
    "id": "vLbJSPlrLghN",
    "outputId": "b1dda001-de17-4637-d5e4-d94e00a19463"
   },
   "outputs": [
    {
     "name": "stdout",
     "output_type": "stream",
     "text": [
      "\n",
      "___SEED___5\n",
      "train dataset preparing...\n"
     ]
    },
    {
     "name": "stderr",
     "output_type": "stream",
     "text": [
      "100%|██████████| 2358/2358 [00:10<00:00, 230.36it/s]\n"
     ]
    },
    {
     "name": "stdout",
     "output_type": "stream",
     "text": [
      "dev dataset preparing...\n"
     ]
    },
    {
     "name": "stderr",
     "output_type": "stream",
     "text": [
      "100%|██████████| 2357/2357 [00:11<00:00, 198.26it/s]\n"
     ]
    },
    {
     "name": "stdout",
     "output_type": "stream",
     "text": [
      "test dataset preparing...\n"
     ]
    },
    {
     "name": "stderr",
     "output_type": "stream",
     "text": [
      "100%|██████████| 2357/2357 [00:11<00:00, 206.72it/s]"
     ]
    },
    {
     "name": "stdout",
     "output_type": "stream",
     "text": [
      "Epoch 1:\n"
     ]
    },
    {
     "name": "stderr",
     "output_type": "stream",
     "text": [
      "\n",
      "Batch loss = 0.576517: 100%|██████████| 7530/7530 [02:16<00:00, 55.27it/s]"
     ]
    },
    {
     "name": "stdout",
     "output_type": "stream",
     "text": [
      "\n",
      "Evaluation (dev):\n"
     ]
    },
    {
     "name": "stderr",
     "output_type": "stream",
     "text": [
      "\n",
      "100%|██████████| 2357/2357 [01:11<00:00, 33.01it/s]"
     ]
    },
    {
     "name": "stdout",
     "output_type": "stream",
     "text": [
      "\n",
      " {'precision': 0.11909206618582946, 'recall': 0.1816936625914881, 'ndcg': 0.16942664273979618}\n",
      "Epoch 2:\n"
     ]
    },
    {
     "name": "stderr",
     "output_type": "stream",
     "text": [
      "\n",
      "Batch loss = 0.52811: 100%|██████████| 7530/7530 [02:16<00:00, 55.21it/s]"
     ]
    },
    {
     "name": "stdout",
     "output_type": "stream",
     "text": [
      "\n",
      "Evaluation (dev):\n"
     ]
    },
    {
     "name": "stderr",
     "output_type": "stream",
     "text": [
      "\n",
      "100%|██████████| 2357/2357 [01:13<00:00, 32.22it/s]\n"
     ]
    },
    {
     "name": "stdout",
     "output_type": "stream",
     "text": [
      "\n",
      " {'precision': 0.11726771319473907, 'recall': 0.18205315665071786, 'ndcg': 0.16932931108776003}\n",
      "Epoch 3:\n"
     ]
    },
    {
     "name": "stderr",
     "output_type": "stream",
     "text": [
      "Batch loss = 0.502174: 100%|██████████| 7530/7530 [02:15<00:00, 55.70it/s]\n"
     ]
    },
    {
     "name": "stdout",
     "output_type": "stream",
     "text": [
      "\n",
      "Evaluation (dev):\n"
     ]
    },
    {
     "name": "stderr",
     "output_type": "stream",
     "text": [
      "100%|██████████| 2357/2357 [01:13<00:00, 32.08it/s]\n"
     ]
    },
    {
     "name": "stdout",
     "output_type": "stream",
     "text": [
      "\n",
      " {'precision': 0.11701315231226135, 'recall': 0.18059159247070394, 'ndcg': 0.16785163645861054}\n",
      "Epoch 4:\n"
     ]
    },
    {
     "name": "stderr",
     "output_type": "stream",
     "text": [
      "Batch loss = 0.461852: 100%|██████████| 7530/7530 [02:14<00:00, 55.82it/s]"
     ]
    },
    {
     "name": "stdout",
     "output_type": "stream",
     "text": [
      "\n",
      "Evaluation (dev):\n"
     ]
    },
    {
     "name": "stderr",
     "output_type": "stream",
     "text": [
      "\n",
      "100%|██████████| 2357/2357 [01:11<00:00, 33.04it/s]"
     ]
    },
    {
     "name": "stdout",
     "output_type": "stream",
     "text": [
      "\n",
      " {'precision': 0.11667373780229105, 'recall': 0.1804356088446267, 'ndcg': 0.16649578888396796}\n"
     ]
    },
    {
     "name": "stderr",
     "output_type": "stream",
     "text": [
      "\n",
      "100%|██████████| 2357/2357 [01:13<00:00, 32.15it/s]\n",
      "100%|██████████| 2357/2357 [01:13<00:00, 32.06it/s]\n"
     ]
    },
    {
     "name": "stdout",
     "output_type": "stream",
     "text": [
      "train dataset preparing...\n"
     ]
    },
    {
     "name": "stderr",
     "output_type": "stream",
     "text": [
      "100%|██████████| 2358/2358 [00:08<00:00, 276.14it/s]\n"
     ]
    },
    {
     "name": "stdout",
     "output_type": "stream",
     "text": [
      "dev dataset preparing...\n"
     ]
    },
    {
     "name": "stderr",
     "output_type": "stream",
     "text": [
      "100%|██████████| 2357/2357 [00:11<00:00, 204.31it/s]\n"
     ]
    },
    {
     "name": "stdout",
     "output_type": "stream",
     "text": [
      "test dataset preparing...\n"
     ]
    },
    {
     "name": "stderr",
     "output_type": "stream",
     "text": [
      "100%|██████████| 2357/2357 [00:11<00:00, 198.20it/s]\n",
      "100%|██████████| 2357/2357 [02:00<00:00, 19.55it/s]\n"
     ]
    },
    {
     "name": "stdout",
     "output_type": "stream",
     "text": [
      "\n",
      "___SEED___6\n",
      "train dataset preparing...\n"
     ]
    },
    {
     "name": "stderr",
     "output_type": "stream",
     "text": [
      "100%|██████████| 2358/2358 [00:09<00:00, 244.41it/s]\n"
     ]
    },
    {
     "name": "stdout",
     "output_type": "stream",
     "text": [
      "dev dataset preparing...\n"
     ]
    },
    {
     "name": "stderr",
     "output_type": "stream",
     "text": [
      "100%|██████████| 2357/2357 [00:10<00:00, 226.17it/s]\n"
     ]
    },
    {
     "name": "stdout",
     "output_type": "stream",
     "text": [
      "test dataset preparing...\n"
     ]
    },
    {
     "name": "stderr",
     "output_type": "stream",
     "text": [
      "100%|██████████| 2357/2357 [00:12<00:00, 196.07it/s]\n"
     ]
    },
    {
     "name": "stdout",
     "output_type": "stream",
     "text": [
      "Epoch 1:\n"
     ]
    },
    {
     "name": "stderr",
     "output_type": "stream",
     "text": [
      "Batch loss = 0.575805: 100%|██████████| 7530/7530 [02:16<00:00, 54.97it/s]"
     ]
    },
    {
     "name": "stdout",
     "output_type": "stream",
     "text": [
      "\n",
      "Evaluation (dev):\n"
     ]
    },
    {
     "name": "stderr",
     "output_type": "stream",
     "text": [
      "\n",
      "100%|██████████| 2357/2357 [01:11<00:00, 33.04it/s]"
     ]
    },
    {
     "name": "stdout",
     "output_type": "stream",
     "text": [
      "\n",
      " {'precision': 0.1189647857445906, 'recall': 0.18178134620769365, 'ndcg': 0.16954631282716995}\n",
      "Epoch 2:\n"
     ]
    },
    {
     "name": "stderr",
     "output_type": "stream",
     "text": [
      "\n",
      "Batch loss = 0.532363: 100%|██████████| 7530/7530 [02:15<00:00, 55.48it/s]"
     ]
    },
    {
     "name": "stdout",
     "output_type": "stream",
     "text": [
      "\n",
      "Evaluation (dev):\n"
     ]
    },
    {
     "name": "stderr",
     "output_type": "stream",
     "text": [
      "\n",
      "100%|██████████| 2357/2357 [01:12<00:00, 32.64it/s]"
     ]
    },
    {
     "name": "stdout",
     "output_type": "stream",
     "text": [
      "\n",
      " {'precision': 0.11739499363597794, 'recall': 0.1817094479443964, 'ndcg': 0.16923569394288773}\n",
      "Epoch 3:\n"
     ]
    },
    {
     "name": "stderr",
     "output_type": "stream",
     "text": [
      "\n",
      "Batch loss = 0.499747: 100%|██████████| 7530/7530 [02:14<00:00, 55.98it/s]"
     ]
    },
    {
     "name": "stdout",
     "output_type": "stream",
     "text": [
      "\n",
      "Evaluation (dev):\n"
     ]
    },
    {
     "name": "stderr",
     "output_type": "stream",
     "text": [
      "\n",
      "100%|██████████| 2357/2357 [01:12<00:00, 32.62it/s]"
     ]
    },
    {
     "name": "stdout",
     "output_type": "stream",
     "text": [
      "\n",
      " {'precision': 0.11718285956724651, 'recall': 0.18091609397344938, 'ndcg': 0.167754981486724}\n",
      "Epoch 4:\n"
     ]
    },
    {
     "name": "stderr",
     "output_type": "stream",
     "text": [
      "\n",
      "Batch loss = 0.462985: 100%|██████████| 7530/7530 [02:14<00:00, 55.98it/s]"
     ]
    },
    {
     "name": "stdout",
     "output_type": "stream",
     "text": [
      "\n",
      "Evaluation (dev):\n"
     ]
    },
    {
     "name": "stderr",
     "output_type": "stream",
     "text": [
      "\n",
      "100%|██████████| 2357/2357 [01:10<00:00, 33.33it/s]"
     ]
    },
    {
     "name": "stdout",
     "output_type": "stream",
     "text": [
      "\n",
      " {'precision': 0.11654645736105218, 'recall': 0.18121965610649654, 'ndcg': 0.16633207977679035}\n"
     ]
    },
    {
     "name": "stderr",
     "output_type": "stream",
     "text": [
      "\n",
      "100%|██████████| 2357/2357 [01:12<00:00, 32.45it/s]\n",
      "100%|██████████| 2357/2357 [01:10<00:00, 33.22it/s]\n"
     ]
    },
    {
     "name": "stdout",
     "output_type": "stream",
     "text": [
      "train dataset preparing...\n"
     ]
    },
    {
     "name": "stderr",
     "output_type": "stream",
     "text": [
      "100%|██████████| 2358/2358 [00:10<00:00, 235.51it/s]\n"
     ]
    },
    {
     "name": "stdout",
     "output_type": "stream",
     "text": [
      "dev dataset preparing...\n"
     ]
    },
    {
     "name": "stderr",
     "output_type": "stream",
     "text": [
      "100%|██████████| 2357/2357 [00:11<00:00, 205.72it/s]\n"
     ]
    },
    {
     "name": "stdout",
     "output_type": "stream",
     "text": [
      "test dataset preparing...\n"
     ]
    },
    {
     "name": "stderr",
     "output_type": "stream",
     "text": [
      "100%|██████████| 2357/2357 [00:11<00:00, 204.04it/s]\n",
      "100%|██████████| 2357/2357 [02:00<00:00, 19.50it/s]\n"
     ]
    },
    {
     "name": "stdout",
     "output_type": "stream",
     "text": [
      "\n",
      "___SEED___7\n",
      "train dataset preparing...\n"
     ]
    },
    {
     "name": "stderr",
     "output_type": "stream",
     "text": [
      "100%|██████████| 2358/2358 [00:08<00:00, 273.38it/s]\n"
     ]
    },
    {
     "name": "stdout",
     "output_type": "stream",
     "text": [
      "dev dataset preparing...\n"
     ]
    },
    {
     "name": "stderr",
     "output_type": "stream",
     "text": [
      "100%|██████████| 2357/2357 [00:11<00:00, 203.50it/s]\n"
     ]
    },
    {
     "name": "stdout",
     "output_type": "stream",
     "text": [
      "test dataset preparing...\n"
     ]
    },
    {
     "name": "stderr",
     "output_type": "stream",
     "text": [
      "100%|██████████| 2357/2357 [00:11<00:00, 204.51it/s]"
     ]
    },
    {
     "name": "stdout",
     "output_type": "stream",
     "text": [
      "Epoch 1:\n"
     ]
    },
    {
     "name": "stderr",
     "output_type": "stream",
     "text": [
      "\n",
      "Batch loss = 0.576668: 100%|██████████| 7530/7530 [02:14<00:00, 55.95it/s]"
     ]
    },
    {
     "name": "stdout",
     "output_type": "stream",
     "text": [
      "\n",
      "Evaluation (dev):\n"
     ]
    },
    {
     "name": "stderr",
     "output_type": "stream",
     "text": [
      "\n",
      "100%|██████████| 2357/2357 [01:11<00:00, 33.13it/s]"
     ]
    },
    {
     "name": "stdout",
     "output_type": "stream",
     "text": [
      "\n",
      " {'precision': 0.118879932117098, 'recall': 0.1819256543850468, 'ndcg': 0.16957137538323058}\n"
     ]
    },
    {
     "name": "stderr",
     "output_type": "stream",
     "text": [
      "\n"
     ]
    },
    {
     "name": "stdout",
     "output_type": "stream",
     "text": [
      "Epoch 2:\n"
     ]
    },
    {
     "name": "stderr",
     "output_type": "stream",
     "text": [
      "Batch loss = 0.5369: 100%|██████████| 7530/7530 [02:14<00:00, 55.96it/s]"
     ]
    },
    {
     "name": "stdout",
     "output_type": "stream",
     "text": [
      "\n",
      "Evaluation (dev):\n"
     ]
    },
    {
     "name": "stderr",
     "output_type": "stream",
     "text": [
      "\n",
      "100%|██████████| 2357/2357 [01:12<00:00, 32.50it/s]"
     ]
    },
    {
     "name": "stdout",
     "output_type": "stream",
     "text": [
      "\n",
      " {'precision': 0.11731014000848536, 'recall': 0.18189316691467738, 'ndcg': 0.16943840425944304}\n",
      "Epoch 3:\n"
     ]
    },
    {
     "name": "stderr",
     "output_type": "stream",
     "text": [
      "\n",
      "Batch loss = 0.467617: 100%|██████████| 7530/7530 [02:14<00:00, 56.07it/s]"
     ]
    },
    {
     "name": "stdout",
     "output_type": "stream",
     "text": [
      "\n",
      "Evaluation (dev):\n"
     ]
    },
    {
     "name": "stderr",
     "output_type": "stream",
     "text": [
      "\n",
      "100%|██████████| 2357/2357 [01:12<00:00, 32.62it/s]"
     ]
    },
    {
     "name": "stdout",
     "output_type": "stream",
     "text": [
      "\n",
      " {'precision': 0.11688587187102249, 'recall': 0.1812946529555746, 'ndcg': 0.16804107086527448}\n",
      "Epoch 4:\n"
     ]
    },
    {
     "name": "stderr",
     "output_type": "stream",
     "text": [
      "\n",
      "Batch loss = 0.474033: 100%|██████████| 7530/7530 [02:15<00:00, 55.57it/s]"
     ]
    },
    {
     "name": "stdout",
     "output_type": "stream",
     "text": [
      "\n",
      "Evaluation (dev):\n"
     ]
    },
    {
     "name": "stderr",
     "output_type": "stream",
     "text": [
      "\n",
      "100%|██████████| 2357/2357 [01:11<00:00, 32.77it/s]"
     ]
    },
    {
     "name": "stdout",
     "output_type": "stream",
     "text": [
      "\n",
      " {'precision': 0.11654645736105221, 'recall': 0.18039926126278322, 'ndcg': 0.1662084808753522}\n"
     ]
    },
    {
     "name": "stderr",
     "output_type": "stream",
     "text": [
      "\n",
      "100%|██████████| 2357/2357 [01:13<00:00, 31.99it/s]\n",
      "100%|██████████| 2357/2357 [01:11<00:00, 32.97it/s]\n"
     ]
    },
    {
     "name": "stdout",
     "output_type": "stream",
     "text": [
      "train dataset preparing...\n"
     ]
    },
    {
     "name": "stderr",
     "output_type": "stream",
     "text": [
      "100%|██████████| 2358/2358 [00:08<00:00, 280.73it/s]\n"
     ]
    },
    {
     "name": "stdout",
     "output_type": "stream",
     "text": [
      "dev dataset preparing...\n"
     ]
    },
    {
     "name": "stderr",
     "output_type": "stream",
     "text": [
      "100%|██████████| 2357/2357 [00:11<00:00, 200.07it/s]\n"
     ]
    },
    {
     "name": "stdout",
     "output_type": "stream",
     "text": [
      "test dataset preparing...\n"
     ]
    },
    {
     "name": "stderr",
     "output_type": "stream",
     "text": [
      "100%|██████████| 2357/2357 [00:11<00:00, 198.37it/s]\n",
      "100%|██████████| 2357/2357 [02:00<00:00, 19.64it/s]\n"
     ]
    },
    {
     "name": "stdout",
     "output_type": "stream",
     "text": [
      "\n",
      "___SEED___8\n",
      "train dataset preparing...\n"
     ]
    },
    {
     "name": "stderr",
     "output_type": "stream",
     "text": [
      "100%|██████████| 2358/2358 [00:10<00:00, 232.59it/s]\n"
     ]
    },
    {
     "name": "stdout",
     "output_type": "stream",
     "text": [
      "dev dataset preparing...\n"
     ]
    },
    {
     "name": "stderr",
     "output_type": "stream",
     "text": [
      "100%|██████████| 2357/2357 [00:11<00:00, 211.85it/s]\n"
     ]
    },
    {
     "name": "stdout",
     "output_type": "stream",
     "text": [
      "test dataset preparing...\n"
     ]
    },
    {
     "name": "stderr",
     "output_type": "stream",
     "text": [
      "100%|██████████| 2357/2357 [00:10<00:00, 220.89it/s]"
     ]
    },
    {
     "name": "stdout",
     "output_type": "stream",
     "text": [
      "Epoch 1:\n"
     ]
    },
    {
     "name": "stderr",
     "output_type": "stream",
     "text": [
      "\n",
      "Batch loss = 0.575454: 100%|██████████| 7530/7530 [02:16<00:00, 55.15it/s]"
     ]
    },
    {
     "name": "stdout",
     "output_type": "stream",
     "text": [
      "\n",
      "Evaluation (dev):\n"
     ]
    },
    {
     "name": "stderr",
     "output_type": "stream",
     "text": [
      "\n",
      "100%|██████████| 2357/2357 [01:14<00:00, 31.54it/s]"
     ]
    },
    {
     "name": "stdout",
     "output_type": "stream",
     "text": [
      "\n",
      " {'precision': 0.11909206618582945, 'recall': 0.18189637145436685, 'ndcg': 0.1694731387135353}\n",
      "Epoch 2:\n"
     ]
    },
    {
     "name": "stderr",
     "output_type": "stream",
     "text": [
      "\n",
      "Batch loss = 0.531506: 100%|██████████| 7530/7530 [02:15<00:00, 55.65it/s]"
     ]
    },
    {
     "name": "stdout",
     "output_type": "stream",
     "text": [
      "\n",
      "Evaluation (dev):\n"
     ]
    },
    {
     "name": "stderr",
     "output_type": "stream",
     "text": [
      "\n",
      "100%|██████████| 2357/2357 [01:13<00:00, 32.18it/s]"
     ]
    },
    {
     "name": "stdout",
     "output_type": "stream",
     "text": [
      "\n",
      " {'precision': 0.11735256682223166, 'recall': 0.18180877962591882, 'ndcg': 0.16934792847171723}\n",
      "Epoch 3:\n"
     ]
    },
    {
     "name": "stderr",
     "output_type": "stream",
     "text": [
      "\n",
      "Batch loss = 0.505593: 100%|██████████| 7530/7530 [02:17<00:00, 54.84it/s]"
     ]
    },
    {
     "name": "stdout",
     "output_type": "stream",
     "text": [
      "\n",
      "Evaluation (dev):\n"
     ]
    },
    {
     "name": "stderr",
     "output_type": "stream",
     "text": [
      "\n",
      "100%|██████████| 2357/2357 [01:12<00:00, 32.45it/s]"
     ]
    },
    {
     "name": "stdout",
     "output_type": "stream",
     "text": [
      "\n",
      " {'precision': 0.11718285956724651, 'recall': 0.181164966619237, 'ndcg': 0.16792980349814512}\n",
      "Epoch 4:\n"
     ]
    },
    {
     "name": "stderr",
     "output_type": "stream",
     "text": [
      "\n",
      "Batch loss = 0.452233: 100%|██████████| 7530/7530 [02:18<00:00, 54.26it/s]\n"
     ]
    },
    {
     "name": "stdout",
     "output_type": "stream",
     "text": [
      "\n",
      "Evaluation (dev):\n"
     ]
    },
    {
     "name": "stderr",
     "output_type": "stream",
     "text": [
      "100%|██████████| 2357/2357 [01:13<00:00, 32.13it/s]"
     ]
    },
    {
     "name": "stdout",
     "output_type": "stream",
     "text": [
      "\n",
      " {'precision': 0.11629189647857446, 'recall': 0.179298056851432, 'ndcg': 0.16540755906633184}\n"
     ]
    },
    {
     "name": "stderr",
     "output_type": "stream",
     "text": [
      "\n",
      "100%|██████████| 2357/2357 [01:12<00:00, 32.68it/s]\n",
      "100%|██████████| 2357/2357 [01:14<00:00, 31.66it/s]\n"
     ]
    },
    {
     "name": "stdout",
     "output_type": "stream",
     "text": [
      "train dataset preparing...\n"
     ]
    },
    {
     "name": "stderr",
     "output_type": "stream",
     "text": [
      "100%|██████████| 2358/2358 [00:08<00:00, 276.05it/s]\n"
     ]
    },
    {
     "name": "stdout",
     "output_type": "stream",
     "text": [
      "dev dataset preparing...\n"
     ]
    },
    {
     "name": "stderr",
     "output_type": "stream",
     "text": [
      "100%|██████████| 2357/2357 [00:11<00:00, 207.49it/s]\n"
     ]
    },
    {
     "name": "stdout",
     "output_type": "stream",
     "text": [
      "test dataset preparing...\n"
     ]
    },
    {
     "name": "stderr",
     "output_type": "stream",
     "text": [
      "100%|██████████| 2357/2357 [00:11<00:00, 206.00it/s]\n",
      "100%|██████████| 2357/2357 [02:00<00:00, 19.49it/s]\n"
     ]
    },
    {
     "name": "stdout",
     "output_type": "stream",
     "text": [
      "\n",
      "___SEED___9\n",
      "train dataset preparing...\n"
     ]
    },
    {
     "name": "stderr",
     "output_type": "stream",
     "text": [
      "100%|██████████| 2358/2358 [00:10<00:00, 233.56it/s]\n"
     ]
    },
    {
     "name": "stdout",
     "output_type": "stream",
     "text": [
      "dev dataset preparing...\n"
     ]
    },
    {
     "name": "stderr",
     "output_type": "stream",
     "text": [
      "100%|██████████| 2357/2357 [00:10<00:00, 224.29it/s]\n"
     ]
    },
    {
     "name": "stdout",
     "output_type": "stream",
     "text": [
      "test dataset preparing...\n"
     ]
    },
    {
     "name": "stderr",
     "output_type": "stream",
     "text": [
      "100%|██████████| 2357/2357 [00:11<00:00, 213.91it/s]"
     ]
    },
    {
     "name": "stdout",
     "output_type": "stream",
     "text": [
      "Epoch 1:\n"
     ]
    },
    {
     "name": "stderr",
     "output_type": "stream",
     "text": [
      "\n",
      "Batch loss = 0.575165: 100%|██████████| 7530/7530 [02:17<00:00, 54.82it/s]"
     ]
    },
    {
     "name": "stdout",
     "output_type": "stream",
     "text": [
      "\n",
      "Evaluation (dev):\n"
     ]
    },
    {
     "name": "stderr",
     "output_type": "stream",
     "text": [
      "\n",
      "100%|██████████| 2357/2357 [01:12<00:00, 32.64it/s]"
     ]
    },
    {
     "name": "stdout",
     "output_type": "stream",
     "text": [
      "\n",
      " {'precision': 0.1186677980483666, 'recall': 0.18133206525202128, 'ndcg': 0.169222446929408}\n",
      "Epoch 2:\n"
     ]
    },
    {
     "name": "stderr",
     "output_type": "stream",
     "text": [
      "\n",
      "Batch loss = 0.531134: 100%|██████████| 7530/7530 [02:15<00:00, 55.49it/s]"
     ]
    },
    {
     "name": "stdout",
     "output_type": "stream",
     "text": [
      "\n",
      "Evaluation (dev):\n"
     ]
    },
    {
     "name": "stderr",
     "output_type": "stream",
     "text": [
      "\n",
      "100%|██████████| 2357/2357 [01:11<00:00, 32.89it/s]"
     ]
    },
    {
     "name": "stdout",
     "output_type": "stream",
     "text": [
      "\n",
      " {'precision': 0.11692829868476878, 'recall': 0.18118967642153244, 'ndcg': 0.16907854927875582}\n",
      "Epoch 3:\n"
     ]
    },
    {
     "name": "stderr",
     "output_type": "stream",
     "text": [
      "\n",
      "Batch loss = 0.476006: 100%|██████████| 7530/7530 [02:15<00:00, 55.68it/s]"
     ]
    },
    {
     "name": "stdout",
     "output_type": "stream",
     "text": [
      "\n",
      "Evaluation (dev):\n"
     ]
    },
    {
     "name": "stderr",
     "output_type": "stream",
     "text": [
      "\n",
      "100%|██████████| 2357/2357 [01:13<00:00, 31.93it/s]"
     ]
    },
    {
     "name": "stdout",
     "output_type": "stream",
     "text": [
      "\n",
      " {'precision': 0.11671616461603734, 'recall': 0.18052541718280948, 'ndcg': 0.16759469297125762}\n",
      "Epoch 4:\n"
     ]
    },
    {
     "name": "stderr",
     "output_type": "stream",
     "text": [
      "\n",
      "Batch loss = 0.461174: 100%|██████████| 7530/7530 [02:18<00:00, 54.26it/s]"
     ]
    },
    {
     "name": "stdout",
     "output_type": "stream",
     "text": [
      "\n",
      "Evaluation (dev):\n"
     ]
    },
    {
     "name": "stderr",
     "output_type": "stream",
     "text": [
      "\n",
      "100%|██████████| 2357/2357 [01:11<00:00, 32.86it/s]"
     ]
    },
    {
     "name": "stdout",
     "output_type": "stream",
     "text": [
      "\n",
      " {'precision': 0.11658888417479847, 'recall': 0.1801133409705749, 'ndcg': 0.16616766212100362}\n"
     ]
    },
    {
     "name": "stderr",
     "output_type": "stream",
     "text": [
      "\n",
      "100%|██████████| 2357/2357 [01:13<00:00, 32.18it/s]\n",
      "100%|██████████| 2357/2357 [01:12<00:00, 32.50it/s]\n"
     ]
    },
    {
     "name": "stdout",
     "output_type": "stream",
     "text": [
      "train dataset preparing...\n"
     ]
    },
    {
     "name": "stderr",
     "output_type": "stream",
     "text": [
      "100%|██████████| 2358/2358 [00:10<00:00, 232.09it/s]\n"
     ]
    },
    {
     "name": "stdout",
     "output_type": "stream",
     "text": [
      "dev dataset preparing...\n"
     ]
    },
    {
     "name": "stderr",
     "output_type": "stream",
     "text": [
      "100%|██████████| 2357/2357 [00:11<00:00, 208.60it/s]\n"
     ]
    },
    {
     "name": "stdout",
     "output_type": "stream",
     "text": [
      "test dataset preparing...\n"
     ]
    },
    {
     "name": "stderr",
     "output_type": "stream",
     "text": [
      "100%|██████████| 2357/2357 [00:10<00:00, 222.01it/s]\n",
      "100%|██████████| 2357/2357 [02:00<00:00, 19.54it/s]\n"
     ]
    }
   ],
   "source": [
    "for seed in range(10):\n",
    "    print(f\"\\n___SEED___{seed}\")\n",
    "    torch.manual_seed(seed)\n",
    "    random.seed(seed)\n",
    "    np.random.seed(seed)\n",
    "\n",
    "    trainer = NBRTrainer(\n",
    "        corpus=corpus,\n",
    "        max_epochs=20,\n",
    "        topk=10,\n",
    "        early_stop_num=3\n",
    "    )\n",
    "\n",
    "    params = {\n",
    "        \"model\": SLRC(\n",
    "            base_model_class=BPR,\n",
    "            base_model_config={\n",
    "                \"emb_size\": slrc_best_params[\"emb_size\"],\n",
    "                \"user_num\": corpus.n_users,\n",
    "                \"item_num\": corpus.n_items,\n",
    "                \"click_num\": corpus.n_clicks\n",
    "            },\n",
    "            item_num=corpus.n_items,\n",
    "            avg_repeat_interval=corpus.total_avg_interval\n",
    "        ),\n",
    "        \"batch_size\": slrc_best_params[\"batch_size\"],\n",
    "        \"lr\": slrc_best_params[\"lr\"],\n",
    "        \"l2_reg_coef\": slrc_best_params[\"l2_reg_coef\"]\n",
    "    }\n",
    "\n",
    "    trainer.init_hyperparams(**params)\n",
    "    trainer.train()\n",
    "\n",
    "    dev_user_emb = trainer.get_predictions(mode=\"dev\")\n",
    "    test_user_emb = trainer.get_predictions(mode=\"test\")\n",
    "\n",
    "    trainer = NBRTrainer(\n",
    "        corpus=corpus,\n",
    "        max_epochs=None,\n",
    "        topk=10,\n",
    "        early_stop_num=None\n",
    "    )\n",
    "\n",
    "    params = {\n",
    "        \"model\": NBRKNN(\n",
    "            item_num=corpus.n_items,\n",
    "            user_num=corpus.n_users,\n",
    "            nearest_neighbors_num=study.best_params[\"nearest_neighbors_num\"],\n",
    "            alpha=study.best_params[\"alpha\"],\n",
    "            user_emb=dev_user_emb\n",
    "        )\n",
    "    }\n",
    "    params[\"model\"].set_emb(test_user_emb)\n",
    "\n",
    "    trainer.init_hyperparams(**params)\n",
    "\n",
    "    metrics = trainer.evaluate(mode=\"test\")\n",
    "\n",
    "    test_metrics[\"precision\"].append(metrics[\"precision\"])\n",
    "    test_metrics[\"recall\"].append(metrics[\"recall\"])\n",
    "    test_metrics[\"ndcg\"].append(metrics[\"ndcg\"])"
   ]
  },
  {
   "cell_type": "code",
   "execution_count": null,
   "id": "jz6Ihf4OLpmc",
   "metadata": {
    "colab": {
     "base_uri": "https://localhost:8080/"
    },
    "id": "jz6Ihf4OLpmc",
    "outputId": "6fe72012-5eef-40e4-b70d-c75077384e80"
   },
   "outputs": [
    {
     "data": {
      "text/plain": [
       "{'precision': 0.12135341535850656,\n",
       " 'recall': 0.17906825951192068,\n",
       " 'ndcg': 0.17062814846815227}"
      ]
     },
     "execution_count": 13,
     "metadata": {},
     "output_type": "execute_result"
    }
   ],
   "source": [
    "{\n",
    "    \"precision\": np.array(test_metrics[\"precision\"]).mean(),\n",
    "    \"recall\": np.array(test_metrics[\"recall\"]).mean(),\n",
    "    \"ndcg\": np.array(test_metrics[\"ndcg\"]).mean(),\n",
    "}"
   ]
  },
  {
   "cell_type": "code",
   "execution_count": null,
   "id": "DxmZ04gMyhxm",
   "metadata": {
    "id": "DxmZ04gMyhxm"
   },
   "outputs": [],
   "source": []
  },
  {
   "cell_type": "code",
   "execution_count": null,
   "id": "j3qT0qGbSSmC",
   "metadata": {
    "id": "j3qT0qGbSSmC"
   },
   "outputs": [],
   "source": []
  }
 ],
 "metadata": {
  "colab": {
   "gpuType": "T4",
   "provenance": []
  },
  "gpuClass": "standard",
  "kernelspec": {
   "display_name": "Python 3 (ipykernel)",
   "language": "python",
   "name": "python3"
  },
  "language_info": {
   "codemirror_mode": {
    "name": "ipython",
    "version": 3
   },
   "file_extension": ".py",
   "mimetype": "text/x-python",
   "name": "python",
   "nbconvert_exporter": "python",
   "pygments_lexer": "ipython3",
   "version": "3.11.0"
  }
 },
 "nbformat": 4,
 "nbformat_minor": 5
}
