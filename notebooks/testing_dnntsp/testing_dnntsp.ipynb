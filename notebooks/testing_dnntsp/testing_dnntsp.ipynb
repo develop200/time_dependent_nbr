{
 "cells": [
  {
   "cell_type": "code",
   "execution_count": null,
   "metadata": {
    "id": "LphmLYI3id_b"
   },
   "outputs": [],
   "source": [
    "import DNNTSP\n",
    "from DNNTSP.train.train_main import train, create_model\n",
    "from DNNTSP.utils.load_config import get_attribute\n",
    "from DNNTSP.utils.metric import evaluate\n",
    "from DNNTSP.utils.data_container import get_data_loader\n",
    "from DNNTSP.utils.util import load_model, convert_to_gpu\n",
    "import torch\n",
    "import random\n",
    "import numpy as np\n",
    "import json\n",
    "import optuna\n",
    "import warnings\n",
    "warnings.filterwarnings(\"ignore\")"
   ]
  },
  {
   "cell_type": "markdown",
   "metadata": {
    "id": "80pNr1aNU_3z"
   },
   "source": [
    "# Ta Feng"
   ]
  },
  {
   "cell_type": "markdown",
   "metadata": {
    "id": "3Y6hbHqLVIph"
   },
   "source": [
    "Fix seed:"
   ]
  },
  {
   "cell_type": "code",
   "execution_count": null,
   "metadata": {
    "id": "LVyAKCeBjnRp"
   },
   "outputs": [],
   "source": [
    "seed = 10\n",
    "torch.manual_seed(seed)\n",
    "random.seed(seed)\n",
    "np.random.seed(seed)"
   ]
  },
  {
   "cell_type": "markdown",
   "metadata": {
    "id": "ntyf6OWhVLJF"
   },
   "source": [
    "Tune hyperparams on validation dataset:"
   ]
  },
  {
   "cell_type": "code",
   "execution_count": null,
   "metadata": {
    "id": "M9Sm9pi7ilIf"
   },
   "outputs": [],
   "source": [
    "def objective(trial):\n",
    "    params = {\n",
    "        \"data\": \"TaFeng\",\n",
    "        \"save_model_folder\": \"DNNTSP\",\n",
    "        \"item_embed_dim\": trial.suggest_categorical(\"item_embed_dim\", [16, 32, 64, 128]),\n",
    "        \"n_heads\": trial.suggest_categorical(\"n_heads\", [1, 2, 4]),\n",
    "        \"attention_aggregate\": trial.suggest_categorical(\"attention_aggregate\", [\"concat\", \"mean\"]),\n",
    "        \"cuda\": 0,\n",
    "        \"loss_function\": \"multi_label_soft_loss\",\n",
    "        \"epochs\": 8,\n",
    "        \"batch_size\": trial.suggest_categorical(\"batch_size\", [16, 32, 64, 128]),\n",
    "        \"learning_rate\": trial.suggest_loguniform(\"learning_rate\", 1e-5, 1e-1),\n",
    "        \"optim\": \"Adam\",\n",
    "        \"weight_decay\": trial.suggest_loguniform(\"weight_decay\", 1e-6, 1e-1)\n",
    "    }\n",
    "\n",
    "    DNNTSP.utils.load_config.CONFIG = params\n",
    "    score = train(validate_flg=False)\n",
    "    return score"
   ]
  },
  {
   "cell_type": "code",
   "execution_count": null,
   "metadata": {
    "colab": {
     "base_uri": "https://localhost:8080/"
    },
    "id": "gsP2WcZvjDhv",
    "outputId": "7bf7fe61-0953-4ba4-b48d-6c4faf4facbc"
   },
   "outputs": [
    {
     "metadata": {
      "tags": null
     },
     "name": "stderr",
     "output_type": "stream",
     "text": [
      "\u001b[32m[I 2023-04-15 09:07:00,932]\u001b[0m A new study created in memory with name: no-name-946cae2d-751b-4204-8bbc-2d21792a696e\u001b[0m\n"
     ]
    },
    {
     "metadata": {
      "tags": null
     },
     "name": "stdout",
     "output_type": "stream",
     "text": [
      "TaFeng/DNNTSP\n",
      "train data length -> 7352\n",
      "validate data length -> 7357\n",
      "temporal_set_prediction(\n",
      "  (item_embedding): Embedding(11202, 16)\n",
      "  (stacked_gcn): stacked_weighted_GCN_blocks(\n",
      "    (0): weighted_GCN(\n",
      "      (gcns): ModuleList(\n",
      "        (0-1): 2 x weighted_graph_conv(\n",
      "          (linear): Linear(in_features=16, out_features=16, bias=True)\n",
      "        )\n",
      "      )\n",
      "      (relus): ModuleList(\n",
      "        (0-1): 2 x ReLU()\n",
      "      )\n",
      "      (bns): ModuleList(\n",
      "        (0-1): 2 x BatchNorm1d(16, eps=1e-05, momentum=0.1, affine=True, track_running_stats=True)\n",
      "      )\n",
      "    )\n",
      "  )\n",
      "  (masked_self_attention): masked_self_attention(\n",
      "    (Wq): Linear(in_features=16, out_features=16, bias=False)\n",
      "    (Wk): Linear(in_features=16, out_features=16, bias=False)\n",
      "    (Wv): Linear(in_features=16, out_features=16, bias=False)\n",
      "  )\n",
      "  (aggregate_nodes_temporal_feature): aggregate_nodes_temporal_feature(\n",
      "    (Wq): Linear(in_features=16, out_features=1, bias=False)\n",
      "  )\n",
      "  (global_gated_update): global_gated_update(\n",
      "    (item_embedding): Embedding(11202, 16)\n",
      "  )\n",
      "  (fc_output): Linear(in_features=16, out_features=1, bias=True)\n",
      ")\n",
      "Adam (\n",
      "Parameter Group 0\n",
      "    amsgrad: False\n",
      "    betas: (0.9, 0.999)\n",
      "    capturable: False\n",
      "    differentiable: False\n",
      "    eps: 1e-08\n",
      "    foreach: None\n",
      "    fused: None\n",
      "    lr: 0.0011188427539040415\n",
      "    maximize: False\n",
      "    weight_decay: 0.011563912803570744\n",
      ")\n"
     ]
    },
    {
     "metadata": {
      "tags": null
     },
     "name": "stderr",
     "output_type": "stream",
     "text": [
      "train epoch: 0, train loss: 0.639416838210562: 100%|██████████| 115/115 [01:10<00:00,  1.63it/s]\n"
     ]
    },
    {
     "metadata": {
      "tags": null
     },
     "name": "stdout",
     "output_type": "stream",
     "text": [
      "train metric ...\n",
      "{\n",
      "    \"PHR_10\": 0.003264417845484222,\n",
      "    \"PHR_20\": 0.005576713819368879,\n",
      "    \"PHR_30\": 0.009249183895538629,\n",
      "    \"PHR_40\": 0.012241566920565832,\n",
      "    \"ndcg_10\": 0.0003834063245449215,\n",
      "    \"ndcg_20\": 0.000465832999907434,\n",
      "    \"ndcg_30\": 0.0006650529685430229,\n",
      "    \"ndcg_40\": 0.0007687986944802105,\n",
      "    \"recall_10\": 0.00034938775934278965,\n",
      "    \"recall_20\": 0.0006009761709719896,\n",
      "    \"recall_30\": 0.0011805498506873846,\n",
      "    \"recall_40\": 0.0014295774744823575\n",
      "}\n"
     ]
    },
    {
     "metadata": {
      "tags": null
     },
     "name": "stderr",
     "output_type": "stream",
     "text": [
      "train epoch: 1, train loss: 0.5688423783882804: 100%|██████████| 115/115 [01:04<00:00,  1.78it/s]\n"
     ]
    },
    {
     "metadata": {
      "tags": null
     },
     "name": "stdout",
     "output_type": "stream",
     "text": [
      "train metric ...\n",
      "{\n",
      "    \"PHR_10\": 0.0019042437431991295,\n",
      "    \"PHR_20\": 0.003944504896626768,\n",
      "    \"PHR_30\": 0.007072905331882481,\n",
      "    \"PHR_40\": 0.011833514689880305,\n",
      "    \"ndcg_10\": 0.00020698001026175916,\n",
      "    \"ndcg_20\": 0.00031286044395528734,\n",
      "    \"ndcg_30\": 0.000497151748277247,\n",
      "    \"ndcg_40\": 0.0007234937511384487,\n",
      "    \"recall_10\": 0.00023910179152153432,\n",
      "    \"recall_20\": 0.0004629397299140692,\n",
      "    \"recall_30\": 0.000992441549897194,\n",
      "    \"recall_40\": 0.0015973241534084082\n",
      "}\n"
     ]
    },
    {
     "metadata": {
      "tags": null
     },
     "name": "stderr",
     "output_type": "stream",
     "text": [
      "train epoch: 2, train loss: 0.5167321313982425: 100%|██████████| 115/115 [01:03<00:00,  1.80it/s]\n"
     ]
    },
    {
     "metadata": {
      "tags": null
     },
     "name": "stdout",
     "output_type": "stream",
     "text": [
      "train metric ...\n",
      "{\n",
      "    \"PHR_10\": 0.0035364526659412403,\n",
      "    \"PHR_20\": 0.008161044613710556,\n",
      "    \"PHR_30\": 0.013873775843307944,\n",
      "    \"PHR_40\": 0.017954298150163223,\n",
      "    \"ndcg_10\": 0.00041823709034360945,\n",
      "    \"ndcg_20\": 0.0006914511322975159,\n",
      "    \"ndcg_30\": 0.001075439271517098,\n",
      "    \"ndcg_40\": 0.0012925832998007536,\n",
      "    \"recall_10\": 0.0005949005717411637,\n",
      "    \"recall_20\": 0.0012615184532478452,\n",
      "    \"recall_30\": 0.00245922920294106,\n",
      "    \"recall_40\": 0.0030852037016302347\n",
      "}\n"
     ]
    },
    {
     "metadata": {
      "tags": null
     },
     "name": "stderr",
     "output_type": "stream",
     "text": [
      "train epoch: 3, train loss: 0.4713916488315748: 100%|██████████| 115/115 [01:03<00:00,  1.80it/s]\n"
     ]
    },
    {
     "metadata": {
      "tags": null
     },
     "name": "stdout",
     "output_type": "stream",
     "text": [
      "train metric ...\n",
      "{\n",
      "    \"PHR_10\": 0.003264417845484222,\n",
      "    \"PHR_20\": 0.008569096844396083,\n",
      "    \"PHR_30\": 0.015097932535364527,\n",
      "    \"PHR_40\": 0.017818280739934713,\n",
      "    \"ndcg_10\": 0.00039365803240798414,\n",
      "    \"ndcg_20\": 0.0006833994411863387,\n",
      "    \"ndcg_30\": 0.0010378024308010936,\n",
      "    \"ndcg_40\": 0.0012012164806947112,\n",
      "    \"recall_10\": 0.0005853172042407095,\n",
      "    \"recall_20\": 0.0012342948466539383,\n",
      "    \"recall_30\": 0.002154116751626134,\n",
      "    \"recall_40\": 0.002693293849006295\n",
      "}\n"
     ]
    },
    {
     "metadata": {
      "tags": null
     },
     "name": "stderr",
     "output_type": "stream",
     "text": [
      "train epoch: 4, train loss: 0.4308731931707133: 100%|██████████| 115/115 [01:03<00:00,  1.80it/s]\n"
     ]
    },
    {
     "metadata": {
      "tags": null
     },
     "name": "stdout",
     "output_type": "stream",
     "text": [
      "train metric ...\n",
      "{\n",
      "    \"PHR_10\": 0.002040261153427639,\n",
      "    \"PHR_20\": 0.005032644178454842,\n",
      "    \"PHR_30\": 0.013601741022850925,\n",
      "    \"PHR_40\": 0.021218715995647442,\n",
      "    \"ndcg_10\": 0.00019571329175960273,\n",
      "    \"ndcg_20\": 0.0003821355348918587,\n",
      "    \"ndcg_30\": 0.0008710970287211239,\n",
      "    \"ndcg_40\": 0.0012490791268646717,\n",
      "    \"recall_10\": 0.0002431236207485199,\n",
      "    \"recall_20\": 0.0007143510738387704,\n",
      "    \"recall_30\": 0.0020612573716789484,\n",
      "    \"recall_40\": 0.0031555199529975653\n",
      "}\n"
     ]
    },
    {
     "metadata": {
      "tags": null
     },
     "name": "stderr",
     "output_type": "stream",
     "text": [
      "train epoch: 5, train loss: 0.39452947041262754: 100%|██████████| 115/115 [01:06<00:00,  1.74it/s]\n"
     ]
    },
    {
     "metadata": {
      "tags": null
     },
     "name": "stdout",
     "output_type": "stream",
     "text": [
      "train metric ...\n",
      "{\n",
      "    \"PHR_10\": 0.002040261153427639,\n",
      "    \"PHR_20\": 0.004624591947769314,\n",
      "    \"PHR_30\": 0.012241566920565832,\n",
      "    \"PHR_40\": 0.016730141458106636,\n",
      "    \"ndcg_10\": 0.00020115273946430534,\n",
      "    \"ndcg_20\": 0.00036234973231330514,\n",
      "    \"ndcg_30\": 0.0007480345666408539,\n",
      "    \"ndcg_40\": 0.000993893714621663,\n",
      "    \"recall_10\": 0.0002479323011357337,\n",
      "    \"recall_20\": 0.0006595961167477071,\n",
      "    \"recall_30\": 0.0016492869472131133,\n",
      "    \"recall_40\": 0.0023870167788118124\n",
      "}\n"
     ]
    },
    {
     "metadata": {
      "tags": null
     },
     "name": "stderr",
     "output_type": "stream",
     "text": [
      "train epoch: 6, train loss: 0.361905242567477: 100%|██████████| 115/115 [01:06<00:00,  1.72it/s]\n"
     ]
    },
    {
     "metadata": {
      "tags": null
     },
     "name": "stdout",
     "output_type": "stream",
     "text": [
      "train metric ...\n",
      "{\n",
      "    \"PHR_10\": 0.002040261153427639,\n",
      "    \"PHR_20\": 0.005032644178454842,\n",
      "    \"PHR_30\": 0.012785636561479869,\n",
      "    \"PHR_40\": 0.01985854189336235,\n",
      "    \"ndcg_10\": 0.00021095876581966877,\n",
      "    \"ndcg_20\": 0.00038465592660941184,\n",
      "    \"ndcg_30\": 0.0008041557157412171,\n",
      "    \"ndcg_40\": 0.001217226847074926,\n",
      "    \"recall_10\": 0.0002479323011357337,\n",
      "    \"recall_20\": 0.0006790756597183645,\n",
      "    \"recall_30\": 0.001802978222258389,\n",
      "    \"recall_40\": 0.0031127030961215496\n",
      "}\n"
     ]
    },
    {
     "metadata": {
      "tags": null
     },
     "name": "stderr",
     "output_type": "stream",
     "text": [
      "train epoch: 7, train loss: 0.3326014669045158: 100%|██████████| 115/115 [01:05<00:00,  1.75it/s]\n"
     ]
    },
    {
     "metadata": {
      "tags": null
     },
     "name": "stdout",
     "output_type": "stream",
     "text": [
      "train metric ...\n",
      "{\n",
      "    \"PHR_10\": 0.002040261153427639,\n",
      "    \"PHR_20\": 0.00544069640914037,\n",
      "    \"PHR_30\": 0.011969532100108813,\n",
      "    \"PHR_40\": 0.02366702937976061,\n",
      "    \"ndcg_10\": 0.00022194570919964463,\n",
      "    \"ndcg_20\": 0.00040108984103426337,\n",
      "    \"ndcg_30\": 0.0007704257150180638,\n",
      "    \"ndcg_40\": 0.0014395195757970214,\n",
      "    \"recall_10\": 0.0002479323011357337,\n",
      "    \"recall_20\": 0.0006786919548176229,\n",
      "    \"recall_30\": 0.0016559578943997622,\n",
      "    \"recall_40\": 0.003780919825658202\n",
      "}\n"
     ]
    },
    {
     "metadata": {
      "tags": null
     },
     "name": "stderr",
     "output_type": "stream",
     "text": [
      "validate epoch: 7, validate loss: 0.3188340855681378: 100%|██████████| 115/115 [01:06<00:00,  1.72it/s]\n"
     ]
    },
    {
     "metadata": {
      "tags": null
     },
     "name": "stdout",
     "output_type": "stream",
     "text": [
      "validate metric ...\n",
      "{\n",
      "    \"PHR_10\": 0.00434959902134022,\n",
      "    \"PHR_20\": 0.006932173440260976,\n",
      "    \"PHR_30\": 0.016854696207693354,\n",
      "    \"PHR_40\": 0.03031126817996466,\n",
      "    \"ndcg_10\": 0.0005916330264881253,\n",
      "    \"ndcg_20\": 0.0006897816783748567,\n",
      "    \"ndcg_30\": 0.0012581974733620882,\n",
      "    \"ndcg_40\": 0.002090028254315257,\n",
      "    \"recall_10\": 0.0007633659988641739,\n",
      "    \"recall_20\": 0.0011061126133427024,\n",
      "    \"recall_30\": 0.002647408749908209,\n",
      "    \"recall_40\": 0.005405794829130173\n",
      "}\n",
      "model save as ./DNNTSP/save_model_folder/TaFeng/DNNTSP/best_model.pkl\n",
      "cost 720 seconds\n"
     ]
    },
    {
     "metadata": {
      "tags": null
     },
     "name": "stderr",
     "output_type": "stream",
     "text": [
      "\u001b[32m[I 2023-04-15 09:19:13,505]\u001b[0m Trial 0 finished with value: 0.0005916330264881253 and parameters: {'item_embed_dim': 16, 'n_heads': 1, 'attention_aggregate': 'concat', 'batch_size': 64, 'learning_rate': 0.0011188427539040415, 'weight_decay': 0.011563912803570744}. Best is trial 0 with value: 0.0005916330264881253.\u001b[0m\n"
     ]
    },
    {
     "metadata": {
      "tags": null
     },
     "name": "stdout",
     "output_type": "stream",
     "text": [
      "TaFeng/DNNTSP\n",
      "train data length -> 7352\n",
      "validate data length -> 7357\n",
      "temporal_set_prediction(\n",
      "  (item_embedding): Embedding(11202, 128)\n",
      "  (stacked_gcn): stacked_weighted_GCN_blocks(\n",
      "    (0): weighted_GCN(\n",
      "      (gcns): ModuleList(\n",
      "        (0-1): 2 x weighted_graph_conv(\n",
      "          (linear): Linear(in_features=128, out_features=128, bias=True)\n",
      "        )\n",
      "      )\n",
      "      (relus): ModuleList(\n",
      "        (0-1): 2 x ReLU()\n",
      "      )\n",
      "      (bns): ModuleList(\n",
      "        (0-1): 2 x BatchNorm1d(128, eps=1e-05, momentum=0.1, affine=True, track_running_stats=True)\n",
      "      )\n",
      "    )\n",
      "  )\n",
      "  (masked_self_attention): masked_self_attention(\n",
      "    (Wq): Linear(in_features=128, out_features=128, bias=False)\n",
      "    (Wk): Linear(in_features=128, out_features=128, bias=False)\n",
      "    (Wv): Linear(in_features=128, out_features=128, bias=False)\n",
      "  )\n",
      "  (aggregate_nodes_temporal_feature): aggregate_nodes_temporal_feature(\n",
      "    (Wq): Linear(in_features=128, out_features=1, bias=False)\n",
      "  )\n",
      "  (global_gated_update): global_gated_update(\n",
      "    (item_embedding): Embedding(11202, 128)\n",
      "  )\n",
      "  (fc_output): Linear(in_features=128, out_features=1, bias=True)\n",
      ")\n",
      "Adam (\n",
      "Parameter Group 0\n",
      "    amsgrad: False\n",
      "    betas: (0.9, 0.999)\n",
      "    capturable: False\n",
      "    differentiable: False\n",
      "    eps: 1e-08\n",
      "    foreach: None\n",
      "    fused: None\n",
      "    lr: 0.003995661855958764\n",
      "    maximize: False\n",
      "    weight_decay: 0.0010120332166548565\n",
      ")\n"
     ]
    },
    {
     "metadata": {
      "tags": null
     },
     "name": "stderr",
     "output_type": "stream",
     "text": [
      "train epoch: 0, train loss: 0.5546039697916612: 100%|██████████| 115/115 [01:12<00:00,  1.59it/s]\n"
     ]
    },
    {
     "metadata": {
      "tags": null
     },
     "name": "stdout",
     "output_type": "stream",
     "text": [
      "train metric ...\n",
      "{\n",
      "    \"PHR_10\": 0.0053046789989118605,\n",
      "    \"PHR_20\": 0.00911316648531012,\n",
      "    \"PHR_30\": 0.013465723612622415,\n",
      "    \"PHR_40\": 0.017682263329706203,\n",
      "    \"ndcg_10\": 0.0008426808635704219,\n",
      "    \"ndcg_20\": 0.0011232321849092841,\n",
      "    \"ndcg_30\": 0.0013388865627348423,\n",
      "    \"ndcg_40\": 0.0015694530447944999,\n",
      "    \"recall_10\": 0.0008027714211493731,\n",
      "    \"recall_20\": 0.001719991210848093,\n",
      "    \"recall_30\": 0.002269901568070054,\n",
      "    \"recall_40\": 0.0029869743157178164\n",
      "}\n"
     ]
    },
    {
     "metadata": {
      "tags": null
     },
     "name": "stderr",
     "output_type": "stream",
     "text": [
      "train epoch: 1, train loss: 0.3977043913758319: 100%|██████████| 115/115 [01:11<00:00,  1.60it/s]\n"
     ]
    },
    {
     "metadata": {
      "tags": null
     },
     "name": "stdout",
     "output_type": "stream",
     "text": [
      "train metric ...\n",
      "{\n",
      "    \"PHR_10\": 0.004624591947769314,\n",
      "    \"PHR_20\": 0.010473340587595211,\n",
      "    \"PHR_30\": 0.015369967355821546,\n",
      "    \"PHR_40\": 0.026523394994559305,\n",
      "    \"ndcg_10\": 0.0005802898085676134,\n",
      "    \"ndcg_20\": 0.000939973397180438,\n",
      "    \"ndcg_30\": 0.0012510482920333743,\n",
      "    \"ndcg_40\": 0.0018587260274216533,\n",
      "    \"recall_10\": 0.0007386706420220435,\n",
      "    \"recall_20\": 0.0016780751757323742,\n",
      "    \"recall_30\": 0.0026655239053070545,\n",
      "    \"recall_40\": 0.004516485147178173\n",
      "}\n"
     ]
    },
    {
     "metadata": {
      "tags": null
     },
     "name": "stderr",
     "output_type": "stream",
     "text": [
      "train epoch: 2, train loss: 0.2936231652031774: 100%|██████████| 115/115 [01:13<00:00,  1.56it/s]\n"
     ]
    },
    {
     "metadata": {
      "tags": null
     },
     "name": "stdout",
     "output_type": "stream",
     "text": [
      "train metric ...\n",
      "{\n",
      "    \"PHR_10\": 0.005848748639825898,\n",
      "    \"PHR_20\": 0.011289445048966267,\n",
      "    \"PHR_30\": 0.01455386289445049,\n",
      "    \"PHR_40\": 0.018498367791077257,\n",
      "    \"ndcg_10\": 0.0007506512920372188,\n",
      "    \"ndcg_20\": 0.0010665829759091139,\n",
      "    \"ndcg_30\": 0.0012386540183797479,\n",
      "    \"ndcg_40\": 0.0014774897135794163,\n",
      "    \"recall_10\": 0.0008449055021628737,\n",
      "    \"recall_20\": 0.0017853319877758622,\n",
      "    \"recall_30\": 0.0023023891262710094,\n",
      "    \"recall_40\": 0.0031354003585875034\n",
      "}\n"
     ]
    },
    {
     "metadata": {
      "tags": null
     },
     "name": "stderr",
     "output_type": "stream",
     "text": [
      "train epoch: 3, train loss: 0.22286662588948788: 100%|██████████| 115/115 [01:13<00:00,  1.57it/s]\n"
     ]
    },
    {
     "metadata": {
      "tags": null
     },
     "name": "stdout",
     "output_type": "stream",
     "text": [
      "train metric ...\n",
      "{\n",
      "    \"PHR_10\": 0.005168661588683352,\n",
      "    \"PHR_20\": 0.010473340587595211,\n",
      "    \"PHR_30\": 0.013873775843307944,\n",
      "    \"PHR_40\": 0.017546245919477694,\n",
      "    \"ndcg_10\": 0.0007759042200632393,\n",
      "    \"ndcg_20\": 0.0010766553459689021,\n",
      "    \"ndcg_30\": 0.0012777335941791534,\n",
      "    \"ndcg_40\": 0.0014936260413378477,\n",
      "    \"recall_10\": 0.0007721686270087957,\n",
      "    \"recall_20\": 0.0017110605258494616,\n",
      "    \"recall_30\": 0.0023625511676073074,\n",
      "    \"recall_40\": 0.0030848339665681124\n",
      "}\n"
     ]
    },
    {
     "metadata": {
      "tags": null
     },
     "name": "stderr",
     "output_type": "stream",
     "text": [
      "train epoch: 4, train loss: 0.1737854628459267: 100%|██████████| 115/115 [01:13<00:00,  1.57it/s]\n"
     ]
    },
    {
     "metadata": {
      "tags": null
     },
     "name": "stdout",
     "output_type": "stream",
     "text": [
      "train metric ...\n",
      "{\n",
      "    \"PHR_10\": 0.005168661588683352,\n",
      "    \"PHR_20\": 0.008841131664853102,\n",
      "    \"PHR_30\": 0.013465723612622415,\n",
      "    \"PHR_40\": 0.018770402611534277,\n",
      "    \"ndcg_10\": 0.0007653589127585292,\n",
      "    \"ndcg_20\": 0.0009870212525129318,\n",
      "    \"ndcg_30\": 0.0012781936675310135,\n",
      "    \"ndcg_40\": 0.001505675376392901,\n",
      "    \"recall_10\": 0.0007675782544538379,\n",
      "    \"recall_20\": 0.001505209133028984,\n",
      "    \"recall_30\": 0.0024328441359102726,\n",
      "    \"recall_40\": 0.003025288227945566\n",
      "}\n"
     ]
    },
    {
     "metadata": {
      "tags": null
     },
     "name": "stderr",
     "output_type": "stream",
     "text": [
      "train epoch: 5, train loss: 0.1388961765429248: 100%|██████████| 115/115 [01:14<00:00,  1.55it/s]\n"
     ]
    },
    {
     "metadata": {
      "tags": null
     },
     "name": "stdout",
     "output_type": "stream",
     "text": [
      "train metric ...\n",
      "{\n",
      "    \"PHR_10\": 0.005848748639825898,\n",
      "    \"PHR_20\": 0.009657236126224157,\n",
      "    \"PHR_30\": 0.012785636561479869,\n",
      "    \"PHR_40\": 0.02149075081610446,\n",
      "    \"ndcg_10\": 0.0008464240818284452,\n",
      "    \"ndcg_20\": 0.0010161552345380187,\n",
      "    \"ndcg_30\": 0.0012017374392598867,\n",
      "    \"ndcg_40\": 0.0016787464264780283,\n",
      "    \"recall_10\": 0.0008550335187464952,\n",
      "    \"recall_20\": 0.0013974430039525032,\n",
      "    \"recall_30\": 0.002027298789471388,\n",
      "    \"recall_40\": 0.0035121128894388676\n",
      "}\n"
     ]
    },
    {
     "metadata": {
      "tags": null
     },
     "name": "stderr",
     "output_type": "stream",
     "text": [
      "train epoch: 6, train loss: 0.11355267082867415: 100%|██████████| 115/115 [01:13<00:00,  1.57it/s]\n"
     ]
    },
    {
     "metadata": {
      "tags": null
     },
     "name": "stdout",
     "output_type": "stream",
     "text": [
      "train metric ...\n",
      "{\n",
      "    \"PHR_10\": 0.006800870511425462,\n",
      "    \"PHR_20\": 0.009793253536452665,\n",
      "    \"PHR_30\": 0.012377584330794342,\n",
      "    \"PHR_40\": 0.024075081610446136,\n",
      "    \"ndcg_10\": 0.000944125116802752,\n",
      "    \"ndcg_20\": 0.0010492380242794752,\n",
      "    \"ndcg_30\": 0.0012020691065117717,\n",
      "    \"ndcg_40\": 0.0017887059366330504,\n",
      "    \"recall_10\": 0.000950127316173166,\n",
      "    \"recall_20\": 0.0014341699425131083,\n",
      "    \"recall_30\": 0.0019438035087659955,\n",
      "    \"recall_40\": 0.003655200358480215\n",
      "}\n"
     ]
    },
    {
     "metadata": {
      "tags": null
     },
     "name": "stderr",
     "output_type": "stream",
     "text": [
      "train epoch: 7, train loss: 0.09478988524364389: 100%|██████████| 115/115 [01:13<00:00,  1.57it/s]\n"
     ]
    },
    {
     "metadata": {
      "tags": null
     },
     "name": "stdout",
     "output_type": "stream",
     "text": [
      "train metric ...\n",
      "{\n",
      "    \"PHR_10\": 0.006936887921653972,\n",
      "    \"PHR_20\": 0.01088139281828074,\n",
      "    \"PHR_30\": 0.02013057671381937,\n",
      "    \"PHR_40\": 0.0308759521218716,\n",
      "    \"ndcg_10\": 0.0009052981622517109,\n",
      "    \"ndcg_20\": 0.0010765333427116275,\n",
      "    \"ndcg_30\": 0.001608208753168583,\n",
      "    \"ndcg_40\": 0.002190516795963049,\n",
      "    \"recall_10\": 0.0009682041709311306,\n",
      "    \"recall_20\": 0.0016113398596644402,\n",
      "    \"recall_30\": 0.0030837261583656073,\n",
      "    \"recall_40\": 0.004857405088841915\n",
      "}\n"
     ]
    },
    {
     "metadata": {
      "tags": null
     },
     "name": "stderr",
     "output_type": "stream",
     "text": [
      "validate epoch: 7, validate loss: 0.08695237351500469: 100%|██████████| 115/115 [01:11<00:00,  1.60it/s]\n"
     ]
    },
    {
     "metadata": {
      "tags": null
     },
     "name": "stdout",
     "output_type": "stream",
     "text": [
      "validate metric ...\n",
      "{\n",
      "    \"PHR_10\": 0.004757373929590866,\n",
      "    \"PHR_20\": 0.005980698654342803,\n",
      "    \"PHR_30\": 0.021204295229033575,\n",
      "    \"PHR_40\": 0.028136468669294548,\n",
      "    \"ndcg_10\": 0.000628362235147506,\n",
      "    \"ndcg_20\": 0.0006795916124247015,\n",
      "    \"ndcg_30\": 0.0015949578955769539,\n",
      "    \"ndcg_40\": 0.0019706247840076685,\n",
      "    \"recall_10\": 0.0008111217175610363,\n",
      "    \"recall_20\": 0.001042084419168532,\n",
      "    \"recall_30\": 0.003422338282689452,\n",
      "    \"recall_40\": 0.004586294759064913\n",
      "}\n",
      "model save as ./DNNTSP/save_model_folder/TaFeng/DNNTSP/best_model.pkl\n",
      "cost 776 seconds\n"
     ]
    },
    {
     "metadata": {
      "tags": null
     },
     "name": "stderr",
     "output_type": "stream",
     "text": [
      "\u001b[32m[I 2023-04-15 09:32:15,869]\u001b[0m Trial 1 finished with value: 0.000628362235147506 and parameters: {'item_embed_dim': 128, 'n_heads': 1, 'attention_aggregate': 'mean', 'batch_size': 64, 'learning_rate': 0.003995661855958764, 'weight_decay': 0.0010120332166548565}. Best is trial 1 with value: 0.000628362235147506.\u001b[0m\n"
     ]
    },
    {
     "metadata": {
      "tags": null
     },
     "name": "stdout",
     "output_type": "stream",
     "text": [
      "TaFeng/DNNTSP\n",
      "train data length -> 7352\n",
      "validate data length -> 7357\n",
      "temporal_set_prediction(\n",
      "  (item_embedding): Embedding(11202, 64)\n",
      "  (stacked_gcn): stacked_weighted_GCN_blocks(\n",
      "    (0): weighted_GCN(\n",
      "      (gcns): ModuleList(\n",
      "        (0-1): 2 x weighted_graph_conv(\n",
      "          (linear): Linear(in_features=64, out_features=64, bias=True)\n",
      "        )\n",
      "      )\n",
      "      (relus): ModuleList(\n",
      "        (0-1): 2 x ReLU()\n",
      "      )\n",
      "      (bns): ModuleList(\n",
      "        (0-1): 2 x BatchNorm1d(64, eps=1e-05, momentum=0.1, affine=True, track_running_stats=True)\n",
      "      )\n",
      "    )\n",
      "  )\n",
      "  (masked_self_attention): masked_self_attention(\n",
      "    (Wq): Linear(in_features=64, out_features=64, bias=False)\n",
      "    (Wk): Linear(in_features=64, out_features=64, bias=False)\n",
      "    (Wv): Linear(in_features=64, out_features=64, bias=False)\n",
      "  )\n",
      "  (aggregate_nodes_temporal_feature): aggregate_nodes_temporal_feature(\n",
      "    (Wq): Linear(in_features=64, out_features=1, bias=False)\n",
      "  )\n",
      "  (global_gated_update): global_gated_update(\n",
      "    (item_embedding): Embedding(11202, 64)\n",
      "  )\n",
      "  (fc_output): Linear(in_features=64, out_features=1, bias=True)\n",
      ")\n",
      "Adam (\n",
      "Parameter Group 0\n",
      "    amsgrad: False\n",
      "    betas: (0.9, 0.999)\n",
      "    capturable: False\n",
      "    differentiable: False\n",
      "    eps: 1e-08\n",
      "    foreach: None\n",
      "    fused: None\n",
      "    lr: 0.02675476925825261\n",
      "    maximize: False\n",
      "    weight_decay: 5.731432699830861e-05\n",
      ")\n"
     ]
    },
    {
     "metadata": {
      "tags": null
     },
     "name": "stderr",
     "output_type": "stream",
     "text": [
      "train epoch: 0, train loss: 0.23409139044258906: 100%|██████████| 115/115 [01:10<00:00,  1.64it/s]\n"
     ]
    },
    {
     "metadata": {
      "tags": null
     },
     "name": "stdout",
     "output_type": "stream",
     "text": [
      "train metric ...\n",
      "{\n",
      "    \"PHR_10\": 0.024483133841131665,\n",
      "    \"PHR_20\": 0.034140369967355824,\n",
      "    \"PHR_30\": 0.04298150163220892,\n",
      "    \"PHR_40\": 0.04978237214363439,\n",
      "    \"ndcg_10\": 0.00420863414183259,\n",
      "    \"ndcg_20\": 0.004595755133777857,\n",
      "    \"ndcg_30\": 0.0051654945127666,\n",
      "    \"ndcg_40\": 0.005553854629397392,\n",
      "    \"recall_10\": 0.0035223851446062326,\n",
      "    \"recall_20\": 0.005334761459380388,\n",
      "    \"recall_30\": 0.007257598452270031,\n",
      "    \"recall_40\": 0.008456546813249588\n",
      "}\n"
     ]
    },
    {
     "metadata": {
      "tags": null
     },
     "name": "stderr",
     "output_type": "stream",
     "text": [
      "train epoch: 1, train loss: 0.036166115461484245: 100%|██████████| 115/115 [01:10<00:00,  1.64it/s]\n"
     ]
    },
    {
     "metadata": {
      "tags": null
     },
     "name": "stdout",
     "output_type": "stream",
     "text": [
      "train metric ...\n",
      "{\n",
      "    \"PHR_10\": 0.11901523394994559,\n",
      "    \"PHR_20\": 0.15846028291621328,\n",
      "    \"PHR_30\": 0.1868879216539717,\n",
      "    \"PHR_40\": 0.2132752992383025,\n",
      "    \"ndcg_10\": 0.029911700636148453,\n",
      "    \"ndcg_20\": 0.03285057842731476,\n",
      "    \"ndcg_30\": 0.035306379199028015,\n",
      "    \"ndcg_40\": 0.037646546959877014,\n",
      "    \"recall_10\": 0.032550543546676636,\n",
      "    \"recall_20\": 0.04239344969391823,\n",
      "    \"recall_30\": 0.050247665494680405,\n",
      "    \"recall_40\": 0.05773842707276344\n",
      "}\n"
     ]
    },
    {
     "metadata": {
      "tags": null
     },
     "name": "stderr",
     "output_type": "stream",
     "text": [
      "train epoch: 2, train loss: 0.021153792803702148: 100%|██████████| 115/115 [01:10<00:00,  1.64it/s]\n"
     ]
    },
    {
     "metadata": {
      "tags": null
     },
     "name": "stdout",
     "output_type": "stream",
     "text": [
      "train metric ...\n",
      "{\n",
      "    \"PHR_10\": 0.17695865070729053,\n",
      "    \"PHR_20\": 0.2457834602829162,\n",
      "    \"PHR_30\": 0.29039717083786726,\n",
      "    \"PHR_40\": 0.3279379760609358,\n",
      "    \"ndcg_10\": 0.04388563707470894,\n",
      "    \"ndcg_20\": 0.05020369589328766,\n",
      "    \"ndcg_30\": 0.054807499051094055,\n",
      "    \"ndcg_40\": 0.05857386440038681,\n",
      "    \"recall_10\": 0.04974796622991562,\n",
      "    \"recall_20\": 0.06890253722667694,\n",
      "    \"recall_30\": 0.08333954960107803,\n",
      "    \"recall_40\": 0.09573940187692642\n",
      "}\n"
     ]
    },
    {
     "metadata": {
      "tags": null
     },
     "name": "stderr",
     "output_type": "stream",
     "text": [
      "train epoch: 3, train loss: 0.015824918805257132: 100%|██████████| 115/115 [01:09<00:00,  1.65it/s]\n"
     ]
    },
    {
     "metadata": {
      "tags": null
     },
     "name": "stdout",
     "output_type": "stream",
     "text": [
      "train metric ...\n",
      "{\n",
      "    \"PHR_10\": 0.1720620239390642,\n",
      "    \"PHR_20\": 0.23993471164309033,\n",
      "    \"PHR_30\": 0.28196409140369966,\n",
      "    \"PHR_40\": 0.3177366702937976,\n",
      "    \"ndcg_10\": 0.04223058745265007,\n",
      "    \"ndcg_20\": 0.04837578907608986,\n",
      "    \"ndcg_30\": 0.052535805851221085,\n",
      "    \"ndcg_40\": 0.05634346604347229,\n",
      "    \"recall_10\": 0.04832031950354576,\n",
      "    \"recall_20\": 0.06715226918458939,\n",
      "    \"recall_30\": 0.08017268776893616,\n",
      "    \"recall_40\": 0.09311673790216446\n",
      "}\n"
     ]
    },
    {
     "metadata": {
      "tags": null
     },
     "name": "stderr",
     "output_type": "stream",
     "text": [
      "train epoch: 4, train loss: 0.01297367684867071: 100%|██████████| 115/115 [01:09<00:00,  1.65it/s]\n"
     ]
    },
    {
     "metadata": {
      "tags": null
     },
     "name": "stdout",
     "output_type": "stream",
     "text": [
      "train metric ...\n",
      "{\n",
      "    \"PHR_10\": 0.16648531011969533,\n",
      "    \"PHR_20\": 0.23408596300326442,\n",
      "    \"PHR_30\": 0.2778835690968444,\n",
      "    \"PHR_40\": 0.3150163220892274,\n",
      "    \"ndcg_10\": 0.0410904586315155,\n",
      "    \"ndcg_20\": 0.047392718493938446,\n",
      "    \"ndcg_30\": 0.05171852931380272,\n",
      "    \"ndcg_40\": 0.055297959595918655,\n",
      "    \"recall_10\": 0.04613282531499863,\n",
      "    \"recall_20\": 0.06531886756420135,\n",
      "    \"recall_30\": 0.07897728681564331,\n",
      "    \"recall_40\": 0.0905909463763237\n",
      "}\n"
     ]
    },
    {
     "metadata": {
      "tags": null
     },
     "name": "stderr",
     "output_type": "stream",
     "text": [
      "train epoch: 5, train loss: 0.011167176270290562: 100%|██████████| 115/115 [01:09<00:00,  1.66it/s]\n"
     ]
    },
    {
     "metadata": {
      "tags": null
     },
     "name": "stdout",
     "output_type": "stream",
     "text": [
      "train metric ...\n",
      "{\n",
      "    \"PHR_10\": 0.16553318824809576,\n",
      "    \"PHR_20\": 0.23258977149075083,\n",
      "    \"PHR_30\": 0.27543525571273125,\n",
      "    \"PHR_40\": 0.3142002176278564,\n",
      "    \"ndcg_10\": 0.040614619851112366,\n",
      "    \"ndcg_20\": 0.04695136472582817,\n",
      "    \"ndcg_30\": 0.05105719342827797,\n",
      "    \"ndcg_40\": 0.054759036749601364,\n",
      "    \"recall_10\": 0.04578464478254318,\n",
      "    \"recall_20\": 0.06526920199394226,\n",
      "    \"recall_30\": 0.07786078006029129,\n",
      "    \"recall_40\": 0.08996083587408066\n",
      "}\n"
     ]
    },
    {
     "metadata": {
      "tags": null
     },
     "name": "stderr",
     "output_type": "stream",
     "text": [
      "train epoch: 6, train loss: 0.009903003979960214: 100%|██████████| 115/115 [01:07<00:00,  1.69it/s]\n"
     ]
    },
    {
     "metadata": {
      "tags": null
     },
     "name": "stdout",
     "output_type": "stream",
     "text": [
      "train metric ...\n",
      "{\n",
      "    \"PHR_10\": 0.16281284004352556,\n",
      "    \"PHR_20\": 0.23000544069640913,\n",
      "    \"PHR_30\": 0.2767954298150163,\n",
      "    \"PHR_40\": 0.3132480957562568,\n",
      "    \"ndcg_10\": 0.040275465697050095,\n",
      "    \"ndcg_20\": 0.04676910117268562,\n",
      "    \"ndcg_30\": 0.05126842111349106,\n",
      "    \"ndcg_40\": 0.05480792373418808,\n",
      "    \"recall_10\": 0.044787369668483734,\n",
      "    \"recall_20\": 0.06459708511829376,\n",
      "    \"recall_30\": 0.07865412533283234,\n",
      "    \"recall_40\": 0.08994454890489578\n",
      "}\n"
     ]
    },
    {
     "metadata": {
      "tags": null
     },
     "name": "stderr",
     "output_type": "stream",
     "text": [
      "train epoch: 7, train loss: 0.008956812795899485: 100%|██████████| 115/115 [01:10<00:00,  1.64it/s]\n"
     ]
    },
    {
     "metadata": {
      "tags": null
     },
     "name": "stdout",
     "output_type": "stream",
     "text": [
      "train metric ...\n",
      "{\n",
      "    \"PHR_10\": 0.16226877040261153,\n",
      "    \"PHR_20\": 0.22986942328618062,\n",
      "    \"PHR_30\": 0.27761153427638735,\n",
      "    \"PHR_40\": 0.3135201305767138,\n",
      "    \"ndcg_10\": 0.040189336985349655,\n",
      "    \"ndcg_20\": 0.04676803946495056,\n",
      "    \"ndcg_30\": 0.05128186196088791,\n",
      "    \"ndcg_40\": 0.054905965924263,\n",
      "    \"recall_10\": 0.044601764529943466,\n",
      "    \"recall_20\": 0.06464873254299164,\n",
      "    \"recall_30\": 0.07868768274784088,\n",
      "    \"recall_40\": 0.09030624479055405\n",
      "}\n"
     ]
    },
    {
     "metadata": {
      "tags": null
     },
     "name": "stderr",
     "output_type": "stream",
     "text": [
      "validate epoch: 7, validate loss: 0.008435030390872903: 100%|██████████| 115/115 [01:07<00:00,  1.69it/s]\n"
     ]
    },
    {
     "metadata": {
      "tags": null
     },
     "name": "stdout",
     "output_type": "stream",
     "text": [
      "validate metric ...\n"
     ]
    },
    {
     "metadata": {
      "tags": null
     },
     "name": "stderr",
     "output_type": "stream",
     "text": [
      "\u001b[32m[I 2023-04-15 09:44:47,664]\u001b[0m Trial 2 finished with value: 0.05008644238114357 and parameters: {'item_embed_dim': 64, 'n_heads': 2, 'attention_aggregate': 'concat', 'batch_size': 64, 'learning_rate': 0.02675476925825261, 'weight_decay': 5.731432699830861e-05}. Best is trial 2 with value: 0.05008644238114357.\u001b[0m\n"
     ]
    },
    {
     "metadata": {
      "tags": null
     },
     "name": "stdout",
     "output_type": "stream",
     "text": [
      "{\n",
      "    \"PHR_10\": 0.1957319559603099,\n",
      "    \"PHR_20\": 0.27076253907842873,\n",
      "    \"PHR_30\": 0.3139866793529971,\n",
      "    \"PHR_40\": 0.3398124235422047,\n",
      "    \"ndcg_10\": 0.05008644238114357,\n",
      "    \"ndcg_20\": 0.05799432843923569,\n",
      "    \"ndcg_30\": 0.06260137259960175,\n",
      "    \"ndcg_40\": 0.06615038216114044,\n",
      "    \"recall_10\": 0.06547747552394867,\n",
      "    \"recall_20\": 0.0878586694598198,\n",
      "    \"recall_30\": 0.10145476460456848,\n",
      "    \"recall_40\": 0.11465690284967422\n",
      "}\n",
      "model save as ./DNNTSP/save_model_folder/TaFeng/DNNTSP/best_model.pkl\n",
      "cost 746 seconds\n",
      "TaFeng/DNNTSP\n",
      "train data length -> 7352\n",
      "validate data length -> 7357\n",
      "temporal_set_prediction(\n",
      "  (item_embedding): Embedding(11202, 64)\n",
      "  (stacked_gcn): stacked_weighted_GCN_blocks(\n",
      "    (0): weighted_GCN(\n",
      "      (gcns): ModuleList(\n",
      "        (0-1): 2 x weighted_graph_conv(\n",
      "          (linear): Linear(in_features=64, out_features=64, bias=True)\n",
      "        )\n",
      "      )\n",
      "      (relus): ModuleList(\n",
      "        (0-1): 2 x ReLU()\n",
      "      )\n",
      "      (bns): ModuleList(\n",
      "        (0-1): 2 x BatchNorm1d(64, eps=1e-05, momentum=0.1, affine=True, track_running_stats=True)\n",
      "      )\n",
      "    )\n",
      "  )\n",
      "  (masked_self_attention): masked_self_attention(\n",
      "    (Wq): Linear(in_features=64, out_features=64, bias=False)\n",
      "    (Wk): Linear(in_features=64, out_features=64, bias=False)\n",
      "    (Wv): Linear(in_features=64, out_features=64, bias=False)\n",
      "  )\n",
      "  (aggregate_nodes_temporal_feature): aggregate_nodes_temporal_feature(\n",
      "    (Wq): Linear(in_features=64, out_features=1, bias=False)\n",
      "  )\n",
      "  (global_gated_update): global_gated_update(\n",
      "    (item_embedding): Embedding(11202, 64)\n",
      "  )\n",
      "  (fc_output): Linear(in_features=64, out_features=1, bias=True)\n",
      ")\n",
      "Adam (\n",
      "Parameter Group 0\n",
      "    amsgrad: False\n",
      "    betas: (0.9, 0.999)\n",
      "    capturable: False\n",
      "    differentiable: False\n",
      "    eps: 1e-08\n",
      "    foreach: None\n",
      "    fused: None\n",
      "    lr: 0.02016003934561091\n",
      "    maximize: False\n",
      "    weight_decay: 1.80663604603961e-05\n",
      ")\n"
     ]
    },
    {
     "metadata": {
      "tags": null
     },
     "name": "stderr",
     "output_type": "stream",
     "text": [
      "train epoch: 0, train loss: 0.19526957258906052: 100%|██████████| 115/115 [01:09<00:00,  1.65it/s]\n"
     ]
    },
    {
     "metadata": {
      "tags": null
     },
     "name": "stdout",
     "output_type": "stream",
     "text": [
      "train metric ...\n",
      "{\n",
      "    \"PHR_10\": 0.056583242655059846,\n",
      "    \"PHR_20\": 0.07331338411316649,\n",
      "    \"PHR_30\": 0.08990750816104462,\n",
      "    \"PHR_40\": 0.10038084874863983,\n",
      "    \"ndcg_10\": 0.013099327683448792,\n",
      "    \"ndcg_20\": 0.014096593484282494,\n",
      "    \"ndcg_30\": 0.015285412780940533,\n",
      "    \"ndcg_40\": 0.016084585338830948,\n",
      "    \"recall_10\": 0.013322070240974426,\n",
      "    \"recall_20\": 0.017373189330101013,\n",
      "    \"recall_30\": 0.021381162106990814,\n",
      "    \"recall_40\": 0.02412717230618\n",
      "}\n"
     ]
    },
    {
     "metadata": {
      "tags": null
     },
     "name": "stderr",
     "output_type": "stream",
     "text": [
      "train epoch: 1, train loss: 0.017074177827200165: 100%|██████████| 115/115 [01:09<00:00,  1.65it/s]\n"
     ]
    },
    {
     "metadata": {
      "tags": null
     },
     "name": "stdout",
     "output_type": "stream",
     "text": [
      "train metric ...\n",
      "{\n",
      "    \"PHR_10\": 0.16757344940152338,\n",
      "    \"PHR_20\": 0.23354189336235037,\n",
      "    \"PHR_30\": 0.27081066376496193,\n",
      "    \"PHR_40\": 0.30127856365614797,\n",
      "    \"ndcg_10\": 0.04164901748299599,\n",
      "    \"ndcg_20\": 0.047457918524742126,\n",
      "    \"ndcg_30\": 0.05123303458094597,\n",
      "    \"ndcg_40\": 0.054227206856012344,\n",
      "    \"recall_10\": 0.047551535069942474,\n",
      "    \"recall_20\": 0.06603085249662399,\n",
      "    \"recall_30\": 0.07794144004583359,\n",
      "    \"recall_40\": 0.08762722462415695\n",
      "}\n"
     ]
    },
    {
     "metadata": {
      "tags": null
     },
     "name": "stderr",
     "output_type": "stream",
     "text": [
      "train epoch: 2, train loss: 0.011550759621288466: 100%|██████████| 115/115 [01:09<00:00,  1.67it/s]\n"
     ]
    },
    {
     "metadata": {
      "tags": null
     },
     "name": "stdout",
     "output_type": "stream",
     "text": [
      "train metric ...\n",
      "{\n",
      "    \"PHR_10\": 0.1644450489662677,\n",
      "    \"PHR_20\": 0.22891730141458105,\n",
      "    \"PHR_30\": 0.2735310119695321,\n",
      "    \"PHR_40\": 0.30807943416757344,\n",
      "    \"ndcg_10\": 0.040826842188835144,\n",
      "    \"ndcg_20\": 0.04651743546128273,\n",
      "    \"ndcg_30\": 0.05104943737387657,\n",
      "    \"ndcg_40\": 0.05456932261586189,\n",
      "    \"recall_10\": 0.0459732823073864,\n",
      "    \"recall_20\": 0.06389305740594864,\n",
      "    \"recall_30\": 0.07903478294610977,\n",
      "    \"recall_40\": 0.09038492292165756\n",
      "}\n"
     ]
    },
    {
     "metadata": {
      "tags": null
     },
     "name": "stderr",
     "output_type": "stream",
     "text": [
      "train epoch: 3, train loss: 0.009353994286578635: 100%|██████████| 115/115 [01:10<00:00,  1.63it/s]\n"
     ]
    },
    {
     "metadata": {
      "tags": null
     },
     "name": "stdout",
     "output_type": "stream",
     "text": [
      "train metric ...\n",
      "{\n",
      "    \"PHR_10\": 0.15832426550598477,\n",
      "    \"PHR_20\": 0.22021218715995647,\n",
      "    \"PHR_30\": 0.26414581066376497,\n",
      "    \"PHR_40\": 0.2942056583242655,\n",
      "    \"ndcg_10\": 0.03820096701383591,\n",
      "    \"ndcg_20\": 0.04374288022518158,\n",
      "    \"ndcg_30\": 0.04802531749010086,\n",
      "    \"ndcg_40\": 0.05110524594783783,\n",
      "    \"recall_10\": 0.04378784820437431,\n",
      "    \"recall_20\": 0.06105419248342514,\n",
      "    \"recall_30\": 0.07470037788152695,\n",
      "    \"recall_40\": 0.08427625149488449\n",
      "}\n"
     ]
    },
    {
     "metadata": {
      "tags": null
     },
     "name": "stderr",
     "output_type": "stream",
     "text": [
      "train epoch: 4, train loss: 0.008188927930820248: 100%|██████████| 115/115 [01:08<00:00,  1.67it/s]\n"
     ]
    },
    {
     "metadata": {
      "tags": null
     },
     "name": "stdout",
     "output_type": "stream",
     "text": [
      "train metric ...\n",
      "{\n",
      "    \"PHR_10\": 0.15356365614798695,\n",
      "    \"PHR_20\": 0.21490750816104462,\n",
      "    \"PHR_30\": 0.25911316648531013,\n",
      "    \"PHR_40\": 0.2912132752992383,\n",
      "    \"ndcg_10\": 0.0358407124876976,\n",
      "    \"ndcg_20\": 0.0412549264729023,\n",
      "    \"ndcg_30\": 0.04568367823958397,\n",
      "    \"ndcg_40\": 0.04891597107052803,\n",
      "    \"recall_10\": 0.04128049686551094,\n",
      "    \"recall_20\": 0.05791621655225754,\n",
      "    \"recall_30\": 0.0719633474946022,\n",
      "    \"recall_40\": 0.08259882777929306\n",
      "}\n"
     ]
    },
    {
     "metadata": {
      "tags": null
     },
     "name": "stderr",
     "output_type": "stream",
     "text": [
      "train epoch: 5, train loss: 0.007475022194178208: 100%|██████████| 115/115 [01:13<00:00,  1.56it/s]\n"
     ]
    },
    {
     "metadata": {
      "tags": null
     },
     "name": "stdout",
     "output_type": "stream",
     "text": [
      "train metric ...\n",
      "{\n",
      "    \"PHR_10\": 0.14757889009793254,\n",
      "    \"PHR_20\": 0.20783460282916214,\n",
      "    \"PHR_30\": 0.2527203482045702,\n",
      "    \"PHR_40\": 0.28278019586507075,\n",
      "    \"ndcg_10\": 0.03348442167043686,\n",
      "    \"ndcg_20\": 0.03868289664387703,\n",
      "    \"ndcg_30\": 0.043079253286123276,\n",
      "    \"ndcg_40\": 0.046160660684108734,\n",
      "    \"recall_10\": 0.039364032447338104,\n",
      "    \"recall_20\": 0.05533750355243683,\n",
      "    \"recall_30\": 0.0694999173283577,\n",
      "    \"recall_40\": 0.07970213145017624\n",
      "}\n"
     ]
    },
    {
     "metadata": {
      "tags": null
     },
     "name": "stderr",
     "output_type": "stream",
     "text": [
      "train epoch: 6, train loss: 0.006982848335705374: 100%|██████████| 115/115 [01:10<00:00,  1.63it/s]\n"
     ]
    },
    {
     "metadata": {
      "tags": null
     },
     "name": "stdout",
     "output_type": "stream",
     "text": [
      "train metric ...\n",
      "{\n",
      "    \"PHR_10\": 0.14621871599564745,\n",
      "    \"PHR_20\": 0.20729053318824808,\n",
      "    \"PHR_30\": 0.25163220892274213,\n",
      "    \"PHR_40\": 0.279923830250272,\n",
      "    \"ndcg_10\": 0.032982680946588516,\n",
      "    \"ndcg_20\": 0.038357213139534,\n",
      "    \"ndcg_30\": 0.042589105665683746,\n",
      "    \"ndcg_40\": 0.0455063171684742,\n",
      "    \"recall_10\": 0.038382843136787415,\n",
      "    \"recall_20\": 0.05523630604147911,\n",
      "    \"recall_30\": 0.06893838196992874,\n",
      "    \"recall_40\": 0.07843932509422302\n",
      "}\n"
     ]
    },
    {
     "metadata": {
      "tags": null
     },
     "name": "stderr",
     "output_type": "stream",
     "text": [
      "train epoch: 7, train loss: 0.006638285388117251: 100%|██████████| 115/115 [01:12<00:00,  1.59it/s]\n"
     ]
    },
    {
     "metadata": {
      "tags": null
     },
     "name": "stdout",
     "output_type": "stream",
     "text": [
      "train metric ...\n",
      "{\n",
      "    \"PHR_10\": 0.14281828073993472,\n",
      "    \"PHR_20\": 0.20076169749727965,\n",
      "    \"PHR_30\": 0.24319912948857453,\n",
      "    \"PHR_40\": 0.27461915125136016,\n",
      "    \"ndcg_10\": 0.03227920085191727,\n",
      "    \"ndcg_20\": 0.037311851978302,\n",
      "    \"ndcg_30\": 0.04161302000284195,\n",
      "    \"ndcg_40\": 0.04456609860062599,\n",
      "    \"recall_10\": 0.036882009357213974,\n",
      "    \"recall_20\": 0.05293884128332138,\n",
      "    \"recall_30\": 0.06703390181064606,\n",
      "    \"recall_40\": 0.0766444131731987\n",
      "}\n"
     ]
    },
    {
     "metadata": {
      "tags": null
     },
     "name": "stderr",
     "output_type": "stream",
     "text": [
      "validate epoch: 7, validate loss: 0.0063175859901568165: 100%|██████████| 115/115 [01:13<00:00,  1.56it/s]\n"
     ]
    },
    {
     "metadata": {
      "tags": null
     },
     "name": "stdout",
     "output_type": "stream",
     "text": [
      "validate metric ...\n"
     ]
    },
    {
     "metadata": {
      "tags": null
     },
     "name": "stderr",
     "output_type": "stream",
     "text": [
      "\u001b[32m[I 2023-04-15 09:57:35,884]\u001b[0m Trial 3 finished with value: 0.05984567478299141 and parameters: {'item_embed_dim': 64, 'n_heads': 2, 'attention_aggregate': 'concat', 'batch_size': 64, 'learning_rate': 0.02016003934561091, 'weight_decay': 1.80663604603961e-05}. Best is trial 3 with value: 0.05984567478299141.\u001b[0m\n"
     ]
    },
    {
     "metadata": {
      "tags": null
     },
     "name": "stdout",
     "output_type": "stream",
     "text": [
      "{\n",
      "    \"PHR_10\": 0.17439173576185946,\n",
      "    \"PHR_20\": 0.2407231208372978,\n",
      "    \"PHR_30\": 0.28014136196819356,\n",
      "    \"PHR_40\": 0.3051515563408998,\n",
      "    \"ndcg_10\": 0.05984567478299141,\n",
      "    \"ndcg_20\": 0.06744284927845001,\n",
      "    \"ndcg_30\": 0.07162299007177353,\n",
      "    \"ndcg_40\": 0.07369019836187363,\n",
      "    \"recall_10\": 0.059133365750312805,\n",
      "    \"recall_20\": 0.08235481381416321,\n",
      "    \"recall_30\": 0.09602297842502594,\n",
      "    \"recall_40\": 0.10259319841861725\n",
      "}\n",
      "model save as ./DNNTSP/save_model_folder/TaFeng/DNNTSP/best_model.pkl\n",
      "cost 762 seconds\n",
      "TaFeng/DNNTSP\n",
      "train data length -> 7352\n",
      "validate data length -> 7357\n",
      "temporal_set_prediction(\n",
      "  (item_embedding): Embedding(11202, 32)\n",
      "  (stacked_gcn): stacked_weighted_GCN_blocks(\n",
      "    (0): weighted_GCN(\n",
      "      (gcns): ModuleList(\n",
      "        (0-1): 2 x weighted_graph_conv(\n",
      "          (linear): Linear(in_features=32, out_features=32, bias=True)\n",
      "        )\n",
      "      )\n",
      "      (relus): ModuleList(\n",
      "        (0-1): 2 x ReLU()\n",
      "      )\n",
      "      (bns): ModuleList(\n",
      "        (0-1): 2 x BatchNorm1d(32, eps=1e-05, momentum=0.1, affine=True, track_running_stats=True)\n",
      "      )\n",
      "    )\n",
      "  )\n",
      "  (masked_self_attention): masked_self_attention(\n",
      "    (Wq): Linear(in_features=32, out_features=64, bias=False)\n",
      "    (Wk): Linear(in_features=32, out_features=64, bias=False)\n",
      "    (Wv): Linear(in_features=32, out_features=64, bias=False)\n",
      "  )\n",
      "  (aggregate_nodes_temporal_feature): aggregate_nodes_temporal_feature(\n",
      "    (Wq): Linear(in_features=32, out_features=1, bias=False)\n",
      "  )\n",
      "  (global_gated_update): global_gated_update(\n",
      "    (item_embedding): Embedding(11202, 32)\n",
      "  )\n",
      "  (fc_output): Linear(in_features=32, out_features=1, bias=True)\n",
      ")\n",
      "Adam (\n",
      "Parameter Group 0\n",
      "    amsgrad: False\n",
      "    betas: (0.9, 0.999)\n",
      "    capturable: False\n",
      "    differentiable: False\n",
      "    eps: 1e-08\n",
      "    foreach: None\n",
      "    fused: None\n",
      "    lr: 0.003515317630276031\n",
      "    maximize: False\n",
      "    weight_decay: 5.391824532466961e-05\n",
      ")\n"
     ]
    },
    {
     "metadata": {
      "tags": null
     },
     "name": "stderr",
     "output_type": "stream",
     "text": [
      "train epoch: 0, train loss: 0.3283573077991605: 100%|██████████| 460/460 [01:20<00:00,  5.73it/s]\n"
     ]
    },
    {
     "metadata": {
      "tags": null
     },
     "name": "stdout",
     "output_type": "stream",
     "text": [
      "train metric ...\n",
      "{\n",
      "    \"PHR_10\": 0.013329706202393906,\n",
      "    \"PHR_20\": 0.017546245919477694,\n",
      "    \"PHR_30\": 0.022578890097932534,\n",
      "    \"PHR_40\": 0.026523394994559305,\n",
      "    \"ndcg_10\": 0.0019800756126642227,\n",
      "    \"ndcg_20\": 0.0022477677557617426,\n",
      "    \"ndcg_30\": 0.002526183146983385,\n",
      "    \"ndcg_40\": 0.0028198326472193003,\n",
      "    \"recall_10\": 0.0036029117181897163,\n",
      "    \"recall_20\": 0.004463613033294678,\n",
      "    \"recall_30\": 0.005233396776020527,\n",
      "    \"recall_40\": 0.006330274976789951\n",
      "}\n"
     ]
    },
    {
     "metadata": {
      "tags": null
     },
     "name": "stderr",
     "output_type": "stream",
     "text": [
      "train epoch: 1, train loss: 0.03048285047888108: 100%|██████████| 460/460 [01:20<00:00,  5.68it/s]\n"
     ]
    },
    {
     "metadata": {
      "tags": null
     },
     "name": "stdout",
     "output_type": "stream",
     "text": [
      "train metric ...\n",
      "{\n",
      "    \"PHR_10\": 0.041893362350380846,\n",
      "    \"PHR_20\": 0.0661044613710555,\n",
      "    \"PHR_30\": 0.08759521218715996,\n",
      "    \"PHR_40\": 0.10228509249183895,\n",
      "    \"ndcg_10\": 0.009682150557637215,\n",
      "    \"ndcg_20\": 0.0116778165102005,\n",
      "    \"ndcg_30\": 0.013359063304960728,\n",
      "    \"ndcg_40\": 0.01452295109629631,\n",
      "    \"recall_10\": 0.011514967307448387,\n",
      "    \"recall_20\": 0.01772172562777996,\n",
      "    \"recall_30\": 0.023049751296639442,\n",
      "    \"recall_40\": 0.027098558843135834\n",
      "}\n"
     ]
    },
    {
     "metadata": {
      "tags": null
     },
     "name": "stderr",
     "output_type": "stream",
     "text": [
      "train epoch: 2, train loss: 0.018028189061695468: 100%|██████████| 460/460 [01:22<00:00,  5.55it/s]\n"
     ]
    },
    {
     "metadata": {
      "tags": null
     },
     "name": "stdout",
     "output_type": "stream",
     "text": [
      "train metric ...\n",
      "{\n",
      "    \"PHR_10\": 0.14825897714907507,\n",
      "    \"PHR_20\": 0.1970892274211099,\n",
      "    \"PHR_30\": 0.23041349292709468,\n",
      "    \"PHR_40\": 0.25829706202393904,\n",
      "    \"ndcg_10\": 0.03774657100439072,\n",
      "    \"ndcg_20\": 0.0417732298374176,\n",
      "    \"ndcg_30\": 0.04463380202651024,\n",
      "    \"ndcg_40\": 0.04701540246605873,\n",
      "    \"recall_10\": 0.041751280426979065,\n",
      "    \"recall_20\": 0.05497684329748154,\n",
      "    \"recall_30\": 0.06413515657186508,\n",
      "    \"recall_40\": 0.07205794006586075\n",
      "}\n"
     ]
    },
    {
     "metadata": {
      "tags": null
     },
     "name": "stderr",
     "output_type": "stream",
     "text": [
      "train epoch: 3, train loss: 0.013928120498262022: 100%|██████████| 460/460 [01:21<00:00,  5.64it/s]\n"
     ]
    },
    {
     "metadata": {
      "tags": null
     },
     "name": "stdout",
     "output_type": "stream",
     "text": [
      "train metric ...\n",
      "{\n",
      "    \"PHR_10\": 0.16009249183895538,\n",
      "    \"PHR_20\": 0.2218443960826986,\n",
      "    \"PHR_30\": 0.26088139281828077,\n",
      "    \"PHR_40\": 0.29026115342763875,\n",
      "    \"ndcg_10\": 0.038564763963222504,\n",
      "    \"ndcg_20\": 0.04399912431836128,\n",
      "    \"ndcg_30\": 0.04748571291565895,\n",
      "    \"ndcg_40\": 0.050485603511333466,\n",
      "    \"recall_10\": 0.044576410204172134,\n",
      "    \"recall_20\": 0.061613623052835464,\n",
      "    \"recall_30\": 0.07208806276321411,\n",
      "    \"recall_40\": 0.08198392391204834\n",
      "}\n"
     ]
    },
    {
     "metadata": {
      "tags": null
     },
     "name": "stderr",
     "output_type": "stream",
     "text": [
      "train epoch: 4, train loss: 0.011807688791304827: 100%|██████████| 460/460 [01:19<00:00,  5.80it/s]\n"
     ]
    },
    {
     "metadata": {
      "tags": null
     },
     "name": "stdout",
     "output_type": "stream",
     "text": [
      "train metric ...\n",
      "{\n",
      "    \"PHR_10\": 0.15478781284004353,\n",
      "    \"PHR_20\": 0.21490750816104462,\n",
      "    \"PHR_30\": 0.2535364526659412,\n",
      "    \"PHR_40\": 0.2807399347116431,\n",
      "    \"ndcg_10\": 0.03699950501322746,\n",
      "    \"ndcg_20\": 0.042324502021074295,\n",
      "    \"ndcg_30\": 0.04564734548330307,\n",
      "    \"ndcg_40\": 0.048507023602724075,\n",
      "    \"recall_10\": 0.042844194918870926,\n",
      "    \"recall_20\": 0.059742383658885956,\n",
      "    \"recall_30\": 0.06964389979839325,\n",
      "    \"recall_40\": 0.07933015376329422\n",
      "}\n"
     ]
    },
    {
     "metadata": {
      "tags": null
     },
     "name": "stderr",
     "output_type": "stream",
     "text": [
      "train epoch: 5, train loss: 0.010522430896273126: 100%|██████████| 460/460 [01:21<00:00,  5.61it/s]\n"
     ]
    },
    {
     "metadata": {
      "tags": null
     },
     "name": "stdout",
     "output_type": "stream",
     "text": [
      "train metric ...\n",
      "{\n",
      "    \"PHR_10\": 0.15206746463547335,\n",
      "    \"PHR_20\": 0.20946681175190424,\n",
      "    \"PHR_30\": 0.24537540805223068,\n",
      "    \"PHR_40\": 0.2736670293797606,\n",
      "    \"ndcg_10\": 0.03593441843986511,\n",
      "    \"ndcg_20\": 0.04084666818380356,\n",
      "    \"ndcg_30\": 0.044080205261707306,\n",
      "    \"ndcg_40\": 0.04682494327425957,\n",
      "    \"recall_10\": 0.041905034333467484,\n",
      "    \"recall_20\": 0.05747676268219948,\n",
      "    \"recall_30\": 0.06754269450902939,\n",
      "    \"recall_40\": 0.07631842792034149\n",
      "}\n"
     ]
    },
    {
     "metadata": {
      "tags": null
     },
     "name": "stderr",
     "output_type": "stream",
     "text": [
      "train epoch: 6, train loss: 0.009688503386290825: 100%|██████████| 460/460 [01:21<00:00,  5.63it/s]\n"
     ]
    },
    {
     "metadata": {
      "tags": null
     },
     "name": "stdout",
     "output_type": "stream",
     "text": [
      "train metric ...\n",
      "{\n",
      "    \"PHR_10\": 0.14907508161044614,\n",
      "    \"PHR_20\": 0.2045701849836779,\n",
      "    \"PHR_30\": 0.24047878128400435,\n",
      "    \"PHR_40\": 0.2687704026115343,\n",
      "    \"ndcg_10\": 0.035022933036088943,\n",
      "    \"ndcg_20\": 0.03970516473054886,\n",
      "    \"ndcg_30\": 0.04287232086062431,\n",
      "    \"ndcg_40\": 0.04558723792433739,\n",
      "    \"recall_10\": 0.04131963476538658,\n",
      "    \"recall_20\": 0.05587686598300934,\n",
      "    \"recall_30\": 0.06590242683887482,\n",
      "    \"recall_40\": 0.07465209066867828\n",
      "}\n"
     ]
    },
    {
     "metadata": {
      "tags": null
     },
     "name": "stderr",
     "output_type": "stream",
     "text": [
      "train epoch: 7, train loss: 0.009133420618372443: 100%|██████████| 460/460 [01:20<00:00,  5.69it/s]\n"
     ]
    },
    {
     "metadata": {
      "tags": null
     },
     "name": "stdout",
     "output_type": "stream",
     "text": [
      "train metric ...\n",
      "{\n",
      "    \"PHR_10\": 0.1485310119695321,\n",
      "    \"PHR_20\": 0.20089771490750816,\n",
      "    \"PHR_30\": 0.2366702937976061,\n",
      "    \"PHR_40\": 0.26550598476605003,\n",
      "    \"ndcg_10\": 0.034863006323575974,\n",
      "    \"ndcg_20\": 0.03919365629553795,\n",
      "    \"ndcg_30\": 0.042368046939373016,\n",
      "    \"ndcg_40\": 0.045087434351444244,\n",
      "    \"recall_10\": 0.041171278804540634,\n",
      "    \"recall_20\": 0.05475147068500519,\n",
      "    \"recall_30\": 0.06479169428348541,\n",
      "    \"recall_40\": 0.07369248569011688\n",
      "}\n"
     ]
    },
    {
     "metadata": {
      "tags": null
     },
     "name": "stderr",
     "output_type": "stream",
     "text": [
      "validate epoch: 7, validate loss: 0.00874020785154046: 100%|██████████| 460/460 [01:18<00:00,  5.90it/s]\n"
     ]
    },
    {
     "metadata": {
      "tags": null
     },
     "name": "stdout",
     "output_type": "stream",
     "text": [
      "validate metric ...\n",
      "{\n",
      "    \"PHR_10\": 0.16990621177110235,\n",
      "    \"PHR_20\": 0.2176158760364279,\n",
      "    \"PHR_30\": 0.249694168818812,\n",
      "    \"PHR_40\": 0.29006388473562594,\n",
      "    \"ndcg_10\": 0.05753627419471741,\n",
      "    \"ndcg_20\": 0.062199436128139496,\n",
      "    \"ndcg_30\": 0.06496897339820862,\n",
      "    \"ndcg_40\": 0.06842216849327087,\n",
      "    \"recall_10\": 0.05312247946858406,\n",
      "    \"recall_20\": 0.06883363425731659,\n",
      "    \"recall_30\": 0.07712999731302261,\n",
      "    \"recall_40\": 0.08808388561010361\n",
      "}\n",
      "model save as ./DNNTSP/save_model_folder/TaFeng/DNNTSP/best_model.pkl\n",
      "cost 860 seconds\n"
     ]
    },
    {
     "metadata": {
      "tags": null
     },
     "name": "stderr",
     "output_type": "stream",
     "text": [
      "\u001b[32m[I 2023-04-15 10:12:02,931]\u001b[0m Trial 4 finished with value: 0.05753627419471741 and parameters: {'item_embed_dim': 32, 'n_heads': 2, 'attention_aggregate': 'mean', 'batch_size': 16, 'learning_rate': 0.003515317630276031, 'weight_decay': 5.391824532466961e-05}. Best is trial 3 with value: 0.05984567478299141.\u001b[0m\n"
     ]
    },
    {
     "metadata": {
      "tags": null
     },
     "name": "stdout",
     "output_type": "stream",
     "text": [
      "TaFeng/DNNTSP\n",
      "train data length -> 7352\n",
      "validate data length -> 7357\n",
      "temporal_set_prediction(\n",
      "  (item_embedding): Embedding(11202, 32)\n",
      "  (stacked_gcn): stacked_weighted_GCN_blocks(\n",
      "    (0): weighted_GCN(\n",
      "      (gcns): ModuleList(\n",
      "        (0-1): 2 x weighted_graph_conv(\n",
      "          (linear): Linear(in_features=32, out_features=32, bias=True)\n",
      "        )\n",
      "      )\n",
      "      (relus): ModuleList(\n",
      "        (0-1): 2 x ReLU()\n",
      "      )\n",
      "      (bns): ModuleList(\n",
      "        (0-1): 2 x BatchNorm1d(32, eps=1e-05, momentum=0.1, affine=True, track_running_stats=True)\n",
      "      )\n",
      "    )\n",
      "  )\n",
      "  (masked_self_attention): masked_self_attention(\n",
      "    (Wq): Linear(in_features=32, out_features=32, bias=False)\n",
      "    (Wk): Linear(in_features=32, out_features=32, bias=False)\n",
      "    (Wv): Linear(in_features=32, out_features=32, bias=False)\n",
      "  )\n",
      "  (aggregate_nodes_temporal_feature): aggregate_nodes_temporal_feature(\n",
      "    (Wq): Linear(in_features=32, out_features=1, bias=False)\n",
      "  )\n",
      "  (global_gated_update): global_gated_update(\n",
      "    (item_embedding): Embedding(11202, 32)\n",
      "  )\n",
      "  (fc_output): Linear(in_features=32, out_features=1, bias=True)\n",
      ")\n",
      "Adam (\n",
      "Parameter Group 0\n",
      "    amsgrad: False\n",
      "    betas: (0.9, 0.999)\n",
      "    capturable: False\n",
      "    differentiable: False\n",
      "    eps: 1e-08\n",
      "    foreach: None\n",
      "    fused: None\n",
      "    lr: 0.0016994670732385824\n",
      "    maximize: False\n",
      "    weight_decay: 0.0006722566383273701\n",
      ")\n"
     ]
    },
    {
     "metadata": {
      "tags": null
     },
     "name": "stderr",
     "output_type": "stream",
     "text": [
      "train epoch: 0, train loss: 0.6847475000049756: 100%|██████████| 115/115 [01:13<00:00,  1.56it/s]\n"
     ]
    },
    {
     "metadata": {
      "tags": null
     },
     "name": "stdout",
     "output_type": "stream",
     "text": [
      "train metric ...\n",
      "{\n",
      "    \"PHR_10\": 0.004352557127312296,\n",
      "    \"PHR_20\": 0.007072905331882481,\n",
      "    \"PHR_30\": 0.010337323177366704,\n",
      "    \"PHR_40\": 0.014145810663764961,\n",
      "    \"ndcg_10\": 0.000638091005384922,\n",
      "    \"ndcg_20\": 0.0007372768595814705,\n",
      "    \"ndcg_30\": 0.0008653602562844753,\n",
      "    \"ndcg_40\": 0.001054146676324308,\n",
      "    \"recall_10\": 0.0005885742139071226,\n",
      "    \"recall_20\": 0.0009587441454641521,\n",
      "    \"recall_30\": 0.001294003683142364,\n",
      "    \"recall_40\": 0.0018225052626803517\n",
      "}\n"
     ]
    },
    {
     "metadata": {
      "tags": null
     },
     "name": "stderr",
     "output_type": "stream",
     "text": [
      "train epoch: 1, train loss: 0.5872536882110264: 100%|██████████| 115/115 [01:12<00:00,  1.58it/s]\n"
     ]
    },
    {
     "metadata": {
      "tags": null
     },
     "name": "stdout",
     "output_type": "stream",
     "text": [
      "train metric ...\n",
      "{\n",
      "    \"PHR_10\": 0.002312295973884657,\n",
      "    \"PHR_20\": 0.010337323177366704,\n",
      "    \"PHR_30\": 0.016866158868335146,\n",
      "    \"PHR_40\": 0.0235310119695321,\n",
      "    \"ndcg_10\": 0.0002993567322846502,\n",
      "    \"ndcg_20\": 0.0007846236112527549,\n",
      "    \"ndcg_30\": 0.0011121497955173254,\n",
      "    \"ndcg_40\": 0.0014703503111377358,\n",
      "    \"recall_10\": 0.0004991698078811169,\n",
      "    \"recall_20\": 0.001584241515956819,\n",
      "    \"recall_30\": 0.0024349899031221867,\n",
      "    \"recall_40\": 0.0035197921097278595\n",
      "}\n"
     ]
    },
    {
     "metadata": {
      "tags": null
     },
     "name": "stderr",
     "output_type": "stream",
     "text": [
      "train epoch: 2, train loss: 0.5119707610296167: 100%|██████████| 115/115 [01:09<00:00,  1.65it/s]\n"
     ]
    },
    {
     "metadata": {
      "tags": null
     },
     "name": "stdout",
     "output_type": "stream",
     "text": [
      "train metric ...\n",
      "{\n",
      "    \"PHR_10\": 0.00367247007616975,\n",
      "    \"PHR_20\": 0.015233949945593036,\n",
      "    \"PHR_30\": 0.017818280739934713,\n",
      "    \"PHR_40\": 0.021218715995647442,\n",
      "    \"ndcg_10\": 0.0003875114198308438,\n",
      "    \"ndcg_20\": 0.0011317605385556817,\n",
      "    \"ndcg_30\": 0.00126273138448596,\n",
      "    \"ndcg_40\": 0.001448688330128789,\n",
      "    \"recall_10\": 0.0006422359147109091,\n",
      "    \"recall_20\": 0.002383224433287978,\n",
      "    \"recall_30\": 0.002781332703307271,\n",
      "    \"recall_40\": 0.0033608609810471535\n",
      "}\n"
     ]
    },
    {
     "metadata": {
      "tags": null
     },
     "name": "stderr",
     "output_type": "stream",
     "text": [
      "train epoch: 3, train loss: 0.44770800134410027: 100%|██████████| 115/115 [01:08<00:00,  1.67it/s]\n"
     ]
    },
    {
     "metadata": {
      "tags": null
     },
     "name": "stdout",
     "output_type": "stream",
     "text": [
      "train metric ...\n",
      "{\n",
      "    \"PHR_10\": 0.004080522306855278,\n",
      "    \"PHR_20\": 0.015505984766050054,\n",
      "    \"PHR_30\": 0.017954298150163223,\n",
      "    \"PHR_40\": 0.0220348204570185,\n",
      "    \"ndcg_10\": 0.00043221417581662536,\n",
      "    \"ndcg_20\": 0.0011610141955316067,\n",
      "    \"ndcg_30\": 0.0013035538140684366,\n",
      "    \"ndcg_40\": 0.0015488876961171627,\n",
      "    \"recall_10\": 0.0007096149493008852,\n",
      "    \"recall_20\": 0.0024577639997005463,\n",
      "    \"recall_30\": 0.0029159346595406532,\n",
      "    \"recall_40\": 0.0037005902267992496\n",
      "}\n"
     ]
    },
    {
     "metadata": {
      "tags": null
     },
     "name": "stderr",
     "output_type": "stream",
     "text": [
      "train epoch: 4, train loss: 0.3928267224975254: 100%|██████████| 115/115 [01:10<00:00,  1.62it/s]\n"
     ]
    },
    {
     "metadata": {
      "tags": null
     },
     "name": "stdout",
     "output_type": "stream",
     "text": [
      "train metric ...\n",
      "{\n",
      "    \"PHR_10\": 0.0035364526659412403,\n",
      "    \"PHR_20\": 0.015505984766050054,\n",
      "    \"PHR_30\": 0.017954298150163223,\n",
      "    \"PHR_40\": 0.020810663764961917,\n",
      "    \"ndcg_10\": 0.00040219188667833805,\n",
      "    \"ndcg_20\": 0.0011607087217271328,\n",
      "    \"ndcg_30\": 0.0012898652348667383,\n",
      "    \"ndcg_40\": 0.0014718918828293681,\n",
      "    \"recall_10\": 0.0006088971858844161,\n",
      "    \"recall_20\": 0.0024519034195691347,\n",
      "    \"recall_30\": 0.0028335903771221638,\n",
      "    \"recall_40\": 0.0034329460468143225\n",
      "}\n"
     ]
    },
    {
     "metadata": {
      "tags": null
     },
     "name": "stderr",
     "output_type": "stream",
     "text": [
      "train epoch: 5, train loss: 0.34596975290257: 100%|██████████| 115/115 [01:13<00:00,  1.57it/s]\n"
     ]
    },
    {
     "metadata": {
      "tags": null
     },
     "name": "stdout",
     "output_type": "stream",
     "text": [
      "train metric ...\n",
      "{\n",
      "    \"PHR_10\": 0.004080522306855278,\n",
      "    \"PHR_20\": 0.01101741022850925,\n",
      "    \"PHR_30\": 0.018906420021762786,\n",
      "    \"PHR_40\": 0.022442872687704025,\n",
      "    \"ndcg_10\": 0.0004989724257029593,\n",
      "    \"ndcg_20\": 0.0009727088618092239,\n",
      "    \"ndcg_30\": 0.0013646706938743591,\n",
      "    \"ndcg_40\": 0.001616703113541007,\n",
      "    \"recall_10\": 0.0007435274310410023,\n",
      "    \"recall_20\": 0.0019675823859870434,\n",
      "    \"recall_30\": 0.0029219421558082104,\n",
      "    \"recall_40\": 0.003821468912065029\n",
      "}\n"
     ]
    },
    {
     "metadata": {
      "tags": null
     },
     "name": "stderr",
     "output_type": "stream",
     "text": [
      "train epoch: 6, train loss: 0.3059144691280697: 100%|██████████| 115/115 [01:14<00:00,  1.55it/s]\n"
     ]
    },
    {
     "metadata": {
      "tags": null
     },
     "name": "stdout",
     "output_type": "stream",
     "text": [
      "train metric ...\n",
      "{\n",
      "    \"PHR_10\": 0.004080522306855278,\n",
      "    \"PHR_20\": 0.013193688792165398,\n",
      "    \"PHR_30\": 0.01985854189336235,\n",
      "    \"PHR_40\": 0.024211099020674646,\n",
      "    \"ndcg_10\": 0.0005196196725592017,\n",
      "    \"ndcg_20\": 0.001123730093240738,\n",
      "    \"ndcg_30\": 0.0014582586009055376,\n",
      "    \"ndcg_40\": 0.0017046110006049275,\n",
      "    \"recall_10\": 0.0007635720539838076,\n",
      "    \"recall_20\": 0.002322247251868248,\n",
      "    \"recall_30\": 0.0031271185725927353,\n",
      "    \"recall_40\": 0.0039143976755440235\n",
      "}\n"
     ]
    },
    {
     "metadata": {
      "tags": null
     },
     "name": "stderr",
     "output_type": "stream",
     "text": [
      "train epoch: 7, train loss: 0.27158884768900665: 100%|██████████| 115/115 [01:09<00:00,  1.66it/s]\n"
     ]
    },
    {
     "metadata": {
      "tags": null
     },
     "name": "stdout",
     "output_type": "stream",
     "text": [
      "train metric ...\n",
      "{\n",
      "    \"PHR_10\": 0.005032644178454842,\n",
      "    \"PHR_20\": 0.009929270946681175,\n",
      "    \"PHR_30\": 0.019178454842219805,\n",
      "    \"PHR_40\": 0.024347116430903155,\n",
      "    \"ndcg_10\": 0.0006330868345685303,\n",
      "    \"ndcg_20\": 0.0009614617447368801,\n",
      "    \"ndcg_30\": 0.0014485560823231936,\n",
      "    \"ndcg_40\": 0.0017231196397915483,\n",
      "    \"recall_10\": 0.0009050390217453241,\n",
      "    \"recall_20\": 0.0017327229725196958,\n",
      "    \"recall_30\": 0.003017605282366276,\n",
      "    \"recall_40\": 0.003836057847365737\n",
      "}\n"
     ]
    },
    {
     "metadata": {
      "tags": null
     },
     "name": "stderr",
     "output_type": "stream",
     "text": [
      "validate epoch: 7, validate loss: 0.2559512467487999: 100%|██████████| 115/115 [01:13<00:00,  1.56it/s]\n"
     ]
    },
    {
     "metadata": {
      "tags": null
     },
     "name": "stdout",
     "output_type": "stream",
     "text": [
      "validate metric ...\n"
     ]
    },
    {
     "metadata": {
      "tags": null
     },
     "name": "stderr",
     "output_type": "stream",
     "text": [
      "\u001b[32m[I 2023-04-15 10:25:03,375]\u001b[0m Trial 5 finished with value: 0.0006275780615396798 and parameters: {'item_embed_dim': 32, 'n_heads': 2, 'attention_aggregate': 'concat', 'batch_size': 64, 'learning_rate': 0.0016994670732385824, 'weight_decay': 0.0006722566383273701}. Best is trial 3 with value: 0.05984567478299141.\u001b[0m\n"
     ]
    },
    {
     "metadata": {
      "tags": null
     },
     "name": "stdout",
     "output_type": "stream",
     "text": [
      "{\n",
      "    \"PHR_10\": 0.005029223868424629,\n",
      "    \"PHR_20\": 0.008019573195596031,\n",
      "    \"PHR_30\": 0.016854696207693354,\n",
      "    \"PHR_40\": 0.022155770014951746,\n",
      "    \"ndcg_10\": 0.0006275780615396798,\n",
      "    \"ndcg_20\": 0.0007761383312754333,\n",
      "    \"ndcg_30\": 0.0013079395284876227,\n",
      "    \"ndcg_40\": 0.0015868450282141566,\n",
      "    \"recall_10\": 0.0007886504754424095,\n",
      "    \"recall_20\": 0.0011681863106787205,\n",
      "    \"recall_30\": 0.002707222243770957,\n",
      "    \"recall_40\": 0.0034935767762362957\n",
      "}\n",
      "model save as ./DNNTSP/save_model_folder/TaFeng/DNNTSP/best_model.pkl\n",
      "cost 775 seconds\n",
      "TaFeng/DNNTSP\n",
      "train data length -> 7352\n",
      "validate data length -> 7357\n",
      "temporal_set_prediction(\n",
      "  (item_embedding): Embedding(11202, 128)\n",
      "  (stacked_gcn): stacked_weighted_GCN_blocks(\n",
      "    (0): weighted_GCN(\n",
      "      (gcns): ModuleList(\n",
      "        (0-1): 2 x weighted_graph_conv(\n",
      "          (linear): Linear(in_features=128, out_features=128, bias=True)\n",
      "        )\n",
      "      )\n",
      "      (relus): ModuleList(\n",
      "        (0-1): 2 x ReLU()\n",
      "      )\n",
      "      (bns): ModuleList(\n",
      "        (0-1): 2 x BatchNorm1d(128, eps=1e-05, momentum=0.1, affine=True, track_running_stats=True)\n",
      "      )\n",
      "    )\n",
      "  )\n",
      "  (masked_self_attention): masked_self_attention(\n",
      "    (Wq): Linear(in_features=128, out_features=128, bias=False)\n",
      "    (Wk): Linear(in_features=128, out_features=128, bias=False)\n",
      "    (Wv): Linear(in_features=128, out_features=128, bias=False)\n",
      "  )\n",
      "  (aggregate_nodes_temporal_feature): aggregate_nodes_temporal_feature(\n",
      "    (Wq): Linear(in_features=128, out_features=1, bias=False)\n",
      "  )\n",
      "  (global_gated_update): global_gated_update(\n",
      "    (item_embedding): Embedding(11202, 128)\n",
      "  )\n",
      "  (fc_output): Linear(in_features=128, out_features=1, bias=True)\n",
      ")\n",
      "Adam (\n",
      "Parameter Group 0\n",
      "    amsgrad: False\n",
      "    betas: (0.9, 0.999)\n",
      "    capturable: False\n",
      "    differentiable: False\n",
      "    eps: 1e-08\n",
      "    foreach: None\n",
      "    fused: None\n",
      "    lr: 0.0007213121225589909\n",
      "    maximize: False\n",
      "    weight_decay: 0.008123545047301329\n",
      ")\n"
     ]
    },
    {
     "metadata": {
      "tags": null
     },
     "name": "stderr",
     "output_type": "stream",
     "text": [
      "train epoch: 0, train loss: 0.6818823337554931: 100%|██████████| 115/115 [01:16<00:00,  1.50it/s]\n"
     ]
    },
    {
     "metadata": {
      "tags": null
     },
     "name": "stdout",
     "output_type": "stream",
     "text": [
      "train metric ...\n",
      "{\n",
      "    \"PHR_10\": 0.0053046789989118605,\n",
      "    \"PHR_20\": 0.01074537540805223,\n",
      "    \"PHR_30\": 0.017410228509249184,\n",
      "    \"PHR_40\": 0.025027203482045703,\n",
      "    \"ndcg_10\": 0.0007608406012877822,\n",
      "    \"ndcg_20\": 0.0010374686680734158,\n",
      "    \"ndcg_30\": 0.0013922126963734627,\n",
      "    \"ndcg_40\": 0.0017795008607208729,\n",
      "    \"recall_10\": 0.000694190850481391,\n",
      "    \"recall_20\": 0.0015024000313133001,\n",
      "    \"recall_30\": 0.002508056117221713,\n",
      "    \"recall_40\": 0.0036033173091709614\n",
      "}\n"
     ]
    },
    {
     "metadata": {
      "tags": null
     },
     "name": "stderr",
     "output_type": "stream",
     "text": [
      "train epoch: 1, train loss: 0.6313168219898058: 100%|██████████| 115/115 [01:15<00:00,  1.53it/s]\n"
     ]
    },
    {
     "metadata": {
      "tags": null
     },
     "name": "stdout",
     "output_type": "stream",
     "text": [
      "train metric ...\n",
      "{\n",
      "    \"PHR_10\": 0.004080522306855278,\n",
      "    \"PHR_20\": 0.0063928182807399345,\n",
      "    \"PHR_30\": 0.009385201305767138,\n",
      "    \"PHR_40\": 0.013193688792165398,\n",
      "    \"ndcg_10\": 0.0005952824139967561,\n",
      "    \"ndcg_20\": 0.0006704971310682595,\n",
      "    \"ndcg_30\": 0.000806868018116802,\n",
      "    \"ndcg_40\": 0.0010503282537683845,\n",
      "    \"recall_10\": 0.0005488799070008099,\n",
      "    \"recall_20\": 0.0009312215261161327,\n",
      "    \"recall_30\": 0.0013226987794041634,\n",
      "    \"recall_40\": 0.002214084379374981\n",
      "}\n"
     ]
    },
    {
     "metadata": {
      "tags": null
     },
     "name": "stderr",
     "output_type": "stream",
     "text": [
      "train epoch: 2, train loss: 0.5946437089339547: 100%|██████████| 115/115 [01:14<00:00,  1.54it/s]\n"
     ]
    },
    {
     "metadata": {
      "tags": null
     },
     "name": "stdout",
     "output_type": "stream",
     "text": [
      "train metric ...\n",
      "{\n",
      "    \"PHR_10\": 0.004352557127312296,\n",
      "    \"PHR_20\": 0.0073449401523395,\n",
      "    \"PHR_30\": 0.010337323177366704,\n",
      "    \"PHR_40\": 0.013193688792165398,\n",
      "    \"ndcg_10\": 0.00048136827535927296,\n",
      "    \"ndcg_20\": 0.000629015383310616,\n",
      "    \"ndcg_30\": 0.0007936214096844196,\n",
      "    \"ndcg_40\": 0.0009509402443654835,\n",
      "    \"recall_10\": 0.0005642572068609297,\n",
      "    \"recall_20\": 0.001090133679099381,\n",
      "    \"recall_30\": 0.0015969004016369581,\n",
      "    \"recall_40\": 0.0020910261664539576\n",
      "}\n"
     ]
    },
    {
     "metadata": {
      "tags": null
     },
     "name": "stderr",
     "output_type": "stream",
     "text": [
      "train epoch: 3, train loss: 0.5605755536452584: 100%|██████████| 115/115 [01:18<00:00,  1.47it/s]\n"
     ]
    },
    {
     "metadata": {
      "tags": null
     },
     "name": "stdout",
     "output_type": "stream",
     "text": [
      "train metric ...\n",
      "{\n",
      "    \"PHR_10\": 0.004352557127312296,\n",
      "    \"PHR_20\": 0.00720892274211099,\n",
      "    \"PHR_30\": 0.009929270946681175,\n",
      "    \"PHR_40\": 0.012785636561479869,\n",
      "    \"ndcg_10\": 0.0004616311634890735,\n",
      "    \"ndcg_20\": 0.0005957885296083987,\n",
      "    \"ndcg_30\": 0.0007798291626386344,\n",
      "    \"ndcg_40\": 0.0009277793578803539,\n",
      "    \"recall_10\": 0.0005019158707000315,\n",
      "    \"recall_20\": 0.0009921740274876356,\n",
      "    \"recall_30\": 0.0015943587059155107,\n",
      "    \"recall_40\": 0.0020242587197571993\n",
      "}\n"
     ]
    },
    {
     "metadata": {
      "tags": null
     },
     "name": "stderr",
     "output_type": "stream",
     "text": [
      "train epoch: 4, train loss: 0.5286468340002972: 100%|██████████| 115/115 [01:18<00:00,  1.47it/s]\n"
     ]
    },
    {
     "metadata": {
      "tags": null
     },
     "name": "stdout",
     "output_type": "stream",
     "text": [
      "train metric ...\n",
      "{\n",
      "    \"PHR_10\": 0.004352557127312296,\n",
      "    \"PHR_20\": 0.007616974972796518,\n",
      "    \"PHR_30\": 0.010201305767138194,\n",
      "    \"PHR_40\": 0.012105549510337323,\n",
      "    \"ndcg_10\": 0.0004543226968962699,\n",
      "    \"ndcg_20\": 0.000618570891674608,\n",
      "    \"ndcg_30\": 0.0007883747457526624,\n",
      "    \"ndcg_40\": 0.0008827234269119799,\n",
      "    \"recall_10\": 0.0005019158707000315,\n",
      "    \"recall_20\": 0.0010639871470630169,\n",
      "    \"recall_30\": 0.0016326321056112647,\n",
      "    \"recall_40\": 0.001910200109705329\n",
      "}\n"
     ]
    },
    {
     "metadata": {
      "tags": null
     },
     "name": "stderr",
     "output_type": "stream",
     "text": [
      "train epoch: 5, train loss: 0.4987311876338461: 100%|██████████| 115/115 [01:20<00:00,  1.43it/s]\n"
     ]
    },
    {
     "metadata": {
      "tags": null
     },
     "name": "stdout",
     "output_type": "stream",
     "text": [
      "train metric ...\n",
      "{\n",
      "    \"PHR_10\": 0.004352557127312296,\n",
      "    \"PHR_20\": 0.008025027203482046,\n",
      "    \"PHR_30\": 0.010473340587595211,\n",
      "    \"PHR_40\": 0.012785636561479869,\n",
      "    \"ndcg_10\": 0.0004499020578805357,\n",
      "    \"ndcg_20\": 0.000671778863761574,\n",
      "    \"ndcg_30\": 0.0008137939148582518,\n",
      "    \"ndcg_40\": 0.000931778980884701,\n",
      "    \"recall_10\": 0.0005019158707000315,\n",
      "    \"recall_20\": 0.0012668798444792628,\n",
      "    \"recall_30\": 0.0017586150206625462,\n",
      "    \"recall_40\": 0.0021193716675043106\n",
      "}\n"
     ]
    },
    {
     "metadata": {
      "tags": null
     },
     "name": "stderr",
     "output_type": "stream",
     "text": [
      "train epoch: 6, train loss: 0.470712455459263: 100%|██████████| 115/115 [01:17<00:00,  1.49it/s]\n"
     ]
    },
    {
     "metadata": {
      "tags": null
     },
     "name": "stdout",
     "output_type": "stream",
     "text": [
      "train metric ...\n",
      "{\n",
      "    \"PHR_10\": 0.004488574537540806,\n",
      "    \"PHR_20\": 0.008433079434167573,\n",
      "    \"PHR_30\": 0.01264961915125136,\n",
      "    \"PHR_40\": 0.015642002176278563,\n",
      "    \"ndcg_10\": 0.00045393212349154055,\n",
      "    \"ndcg_20\": 0.000695561699103564,\n",
      "    \"ndcg_30\": 0.0009107662481255829,\n",
      "    \"ndcg_40\": 0.001090332050807774,\n",
      "    \"recall_10\": 0.00048774739843793213,\n",
      "    \"recall_20\": 0.0013168200384825468,\n",
      "    \"recall_30\": 0.0019678964745253325,\n",
      "    \"recall_40\": 0.0025295803789049387\n",
      "}\n"
     ]
    },
    {
     "metadata": {
      "tags": null
     },
     "name": "stderr",
     "output_type": "stream",
     "text": [
      "train epoch: 7, train loss: 0.4444761405820432: 100%|██████████| 115/115 [01:15<00:00,  1.51it/s]\n"
     ]
    },
    {
     "metadata": {
      "tags": null
     },
     "name": "stdout",
     "output_type": "stream",
     "text": [
      "train metric ...\n",
      "{\n",
      "    \"PHR_10\": 0.004488574537540806,\n",
      "    \"PHR_20\": 0.008433079434167573,\n",
      "    \"PHR_30\": 0.013601741022850925,\n",
      "    \"PHR_40\": 0.015914036996735582,\n",
      "    \"ndcg_10\": 0.00043600506614893675,\n",
      "    \"ndcg_20\": 0.0007110836450010538,\n",
      "    \"ndcg_30\": 0.0009874394163489342,\n",
      "    \"ndcg_40\": 0.0011048688320443034,\n",
      "    \"recall_10\": 0.00040637992788106203,\n",
      "    \"recall_20\": 0.0014074984937906265,\n",
      "    \"recall_30\": 0.0021666919346898794,\n",
      "    \"recall_40\": 0.0025091110728681087\n",
      "}\n"
     ]
    },
    {
     "metadata": {
      "tags": null
     },
     "name": "stderr",
     "output_type": "stream",
     "text": [
      "validate epoch: 7, validate loss: 0.4318068918974503: 100%|██████████| 115/115 [01:13<00:00,  1.56it/s]\n"
     ]
    },
    {
     "metadata": {
      "tags": null
     },
     "name": "stdout",
     "output_type": "stream",
     "text": [
      "validate metric ...\n",
      "{\n",
      "    \"PHR_10\": 0.003398124235422047,\n",
      "    \"PHR_20\": 0.005708848715509039,\n",
      "    \"PHR_30\": 0.010058447736849259,\n",
      "    \"PHR_40\": 0.012641022155770015,\n",
      "    \"ndcg_10\": 0.00032085165730677545,\n",
      "    \"ndcg_20\": 0.00045150620280764997,\n",
      "    \"ndcg_30\": 0.0007288418128155172,\n",
      "    \"ndcg_40\": 0.000890703871846199,\n",
      "    \"recall_10\": 0.0004363793705124408,\n",
      "    \"recall_20\": 0.0007951411535032094,\n",
      "    \"recall_30\": 0.0016332988161593676,\n",
      "    \"recall_40\": 0.002138077048584819\n",
      "}\n",
      "model save as ./DNNTSP/save_model_folder/TaFeng/DNNTSP/best_model.pkl\n",
      "cost 821 seconds\n"
     ]
    },
    {
     "metadata": {
      "tags": null
     },
     "name": "stderr",
     "output_type": "stream",
     "text": [
      "\u001b[32m[I 2023-04-15 10:38:51,087]\u001b[0m Trial 6 finished with value: 0.00032085165730677545 and parameters: {'item_embed_dim': 128, 'n_heads': 4, 'attention_aggregate': 'concat', 'batch_size': 64, 'learning_rate': 0.0007213121225589909, 'weight_decay': 0.008123545047301329}. Best is trial 3 with value: 0.05984567478299141.\u001b[0m\n"
     ]
    },
    {
     "metadata": {
      "tags": null
     },
     "name": "stdout",
     "output_type": "stream",
     "text": [
      "TaFeng/DNNTSP\n",
      "train data length -> 7352\n",
      "validate data length -> 7357\n",
      "temporal_set_prediction(\n",
      "  (item_embedding): Embedding(11202, 16)\n",
      "  (stacked_gcn): stacked_weighted_GCN_blocks(\n",
      "    (0): weighted_GCN(\n",
      "      (gcns): ModuleList(\n",
      "        (0-1): 2 x weighted_graph_conv(\n",
      "          (linear): Linear(in_features=16, out_features=16, bias=True)\n",
      "        )\n",
      "      )\n",
      "      (relus): ModuleList(\n",
      "        (0-1): 2 x ReLU()\n",
      "      )\n",
      "      (bns): ModuleList(\n",
      "        (0-1): 2 x BatchNorm1d(16, eps=1e-05, momentum=0.1, affine=True, track_running_stats=True)\n",
      "      )\n",
      "    )\n",
      "  )\n",
      "  (masked_self_attention): masked_self_attention(\n",
      "    (Wq): Linear(in_features=16, out_features=16, bias=False)\n",
      "    (Wk): Linear(in_features=16, out_features=16, bias=False)\n",
      "    (Wv): Linear(in_features=16, out_features=16, bias=False)\n",
      "  )\n",
      "  (aggregate_nodes_temporal_feature): aggregate_nodes_temporal_feature(\n",
      "    (Wq): Linear(in_features=16, out_features=1, bias=False)\n",
      "  )\n",
      "  (global_gated_update): global_gated_update(\n",
      "    (item_embedding): Embedding(11202, 16)\n",
      "  )\n",
      "  (fc_output): Linear(in_features=16, out_features=1, bias=True)\n",
      ")\n",
      "Adam (\n",
      "Parameter Group 0\n",
      "    amsgrad: False\n",
      "    betas: (0.9, 0.999)\n",
      "    capturable: False\n",
      "    differentiable: False\n",
      "    eps: 1e-08\n",
      "    foreach: None\n",
      "    fused: None\n",
      "    lr: 0.034938832175517805\n",
      "    maximize: False\n",
      "    weight_decay: 6.711581311385595e-05\n",
      ")\n"
     ]
    },
    {
     "metadata": {
      "tags": null
     },
     "name": "stderr",
     "output_type": "stream",
     "text": [
      "train epoch: 0, train loss: 0.10501767697784564: 100%|██████████| 230/230 [01:19<00:00,  2.90it/s]\n"
     ]
    },
    {
     "metadata": {
      "tags": null
     },
     "name": "stdout",
     "output_type": "stream",
     "text": [
      "train metric ...\n",
      "{\n",
      "    \"PHR_10\": 0.07113710554951033,\n",
      "    \"PHR_20\": 0.10554951033732318,\n",
      "    \"PHR_30\": 0.1326169749727965,\n",
      "    \"PHR_40\": 0.15614798694232862,\n",
      "    \"ndcg_10\": 0.01515042781829834,\n",
      "    \"ndcg_20\": 0.018138861283659935,\n",
      "    \"ndcg_30\": 0.020401956513524055,\n",
      "    \"ndcg_40\": 0.02233140915632248,\n",
      "    \"recall_10\": 0.018396325409412384,\n",
      "    \"recall_20\": 0.027960361912846565,\n",
      "    \"recall_30\": 0.03521912172436714,\n",
      "    \"recall_40\": 0.04169560596346855\n",
      "}\n"
     ]
    },
    {
     "metadata": {
      "tags": null
     },
     "name": "stderr",
     "output_type": "stream",
     "text": [
      "train epoch: 1, train loss: 0.012706438051131757: 100%|██████████| 230/230 [01:13<00:00,  3.15it/s]\n"
     ]
    },
    {
     "metadata": {
      "tags": null
     },
     "name": "stdout",
     "output_type": "stream",
     "text": [
      "train metric ...\n",
      "{\n",
      "    \"PHR_10\": 0.11411860718171926,\n",
      "    \"PHR_20\": 0.16526115342763872,\n",
      "    \"PHR_30\": 0.198449401523395,\n",
      "    \"PHR_40\": 0.2308215451577802,\n",
      "    \"ndcg_10\": 0.026328690350055695,\n",
      "    \"ndcg_20\": 0.03057556413114071,\n",
      "    \"ndcg_30\": 0.03349890559911728,\n",
      "    \"ndcg_40\": 0.03644288703799248,\n",
      "    \"recall_10\": 0.029616639018058777,\n",
      "    \"recall_20\": 0.043014585971832275,\n",
      "    \"recall_30\": 0.05220617353916168,\n",
      "    \"recall_40\": 0.06225648894906044\n",
      "}\n"
     ]
    },
    {
     "metadata": {
      "tags": null
     },
     "name": "stderr",
     "output_type": "stream",
     "text": [
      "train epoch: 2, train loss: 0.009953675803768894: 100%|██████████| 230/230 [01:13<00:00,  3.14it/s]\n"
     ]
    },
    {
     "metadata": {
      "tags": null
     },
     "name": "stdout",
     "output_type": "stream",
     "text": [
      "train metric ...\n",
      "{\n",
      "    \"PHR_10\": 0.1145266594124048,\n",
      "    \"PHR_20\": 0.16362894450489662,\n",
      "    \"PHR_30\": 0.19804134929270947,\n",
      "    \"PHR_40\": 0.2248367791077258,\n",
      "    \"ndcg_10\": 0.025999363511800766,\n",
      "    \"ndcg_20\": 0.030205992981791496,\n",
      "    \"ndcg_30\": 0.032970525324344635,\n",
      "    \"ndcg_40\": 0.035352930426597595,\n",
      "    \"recall_10\": 0.029764650389552116,\n",
      "    \"recall_20\": 0.043319474905729294,\n",
      "    \"recall_30\": 0.051705941557884216,\n",
      "    \"recall_40\": 0.0592455230653286\n",
      "}\n"
     ]
    },
    {
     "metadata": {
      "tags": null
     },
     "name": "stderr",
     "output_type": "stream",
     "text": [
      "train epoch: 3, train loss: 0.008750224678331742: 100%|██████████| 230/230 [01:10<00:00,  3.24it/s]\n"
     ]
    },
    {
     "metadata": {
      "tags": null
     },
     "name": "stdout",
     "output_type": "stream",
     "text": [
      "train metric ...\n",
      "{\n",
      "    \"PHR_10\": 0.12826441784548423,\n",
      "    \"PHR_20\": 0.1792709466811752,\n",
      "    \"PHR_30\": 0.21436343852013057,\n",
      "    \"PHR_40\": 0.24360718171926007,\n",
      "    \"ndcg_10\": 0.029839400202035904,\n",
      "    \"ndcg_20\": 0.034186288714408875,\n",
      "    \"ndcg_30\": 0.03708840161561966,\n",
      "    \"ndcg_40\": 0.03971276804804802,\n",
      "    \"recall_10\": 0.034165799617767334,\n",
      "    \"recall_20\": 0.04841974377632141,\n",
      "    \"recall_30\": 0.05719544738531113,\n",
      "    \"recall_40\": 0.0657302588224411\n",
      "}\n"
     ]
    },
    {
     "metadata": {
      "tags": null
     },
     "name": "stderr",
     "output_type": "stream",
     "text": [
      "train epoch: 4, train loss: 0.007748773805392177: 100%|██████████| 230/230 [01:10<00:00,  3.25it/s]\n"
     ]
    },
    {
     "metadata": {
      "tags": null
     },
     "name": "stdout",
     "output_type": "stream",
     "text": [
      "train metric ...\n",
      "{\n",
      "    \"PHR_10\": 0.14445048966267682,\n",
      "    \"PHR_20\": 0.19776931447225246,\n",
      "    \"PHR_30\": 0.23449401523394994,\n",
      "    \"PHR_40\": 0.264961915125136,\n",
      "    \"ndcg_10\": 0.03413572534918785,\n",
      "    \"ndcg_20\": 0.038631461560726166,\n",
      "    \"ndcg_30\": 0.041978467255830765,\n",
      "    \"ndcg_40\": 0.04486110433936119,\n",
      "    \"recall_10\": 0.03937269747257233,\n",
      "    \"recall_20\": 0.053869280964136124,\n",
      "    \"recall_30\": 0.06410963833332062,\n",
      "    \"recall_40\": 0.07411719858646393\n",
      "}\n"
     ]
    },
    {
     "metadata": {
      "tags": null
     },
     "name": "stderr",
     "output_type": "stream",
     "text": [
      "train epoch: 5, train loss: 0.006714821959157353: 100%|██████████| 230/230 [01:09<00:00,  3.30it/s]\n"
     ]
    },
    {
     "metadata": {
      "tags": null
     },
     "name": "stdout",
     "output_type": "stream",
     "text": [
      "train metric ...\n",
      "{\n",
      "    \"PHR_10\": 0.15669205658324264,\n",
      "    \"PHR_20\": 0.21449945593035907,\n",
      "    \"PHR_30\": 0.25217627856365615,\n",
      "    \"PHR_40\": 0.28454842219804133,\n",
      "    \"ndcg_10\": 0.03837668523192406,\n",
      "    \"ndcg_20\": 0.04329567775130272,\n",
      "    \"ndcg_30\": 0.047122977674007416,\n",
      "    \"ndcg_40\": 0.05022114887833595,\n",
      "    \"recall_10\": 0.043111737817525864,\n",
      "    \"recall_20\": 0.058811794966459274,\n",
      "    \"recall_30\": 0.07078734040260315,\n",
      "    \"recall_40\": 0.08127740770578384\n",
      "}\n"
     ]
    },
    {
     "metadata": {
      "tags": null
     },
     "name": "stderr",
     "output_type": "stream",
     "text": [
      "train epoch: 6, train loss: 0.005876878661144039: 100%|██████████| 230/230 [01:11<00:00,  3.24it/s]\n"
     ]
    },
    {
     "metadata": {
      "tags": null
     },
     "name": "stdout",
     "output_type": "stream",
     "text": [
      "train metric ...\n",
      "{\n",
      "    \"PHR_10\": 0.15859630032644179,\n",
      "    \"PHR_20\": 0.22102829162132753,\n",
      "    \"PHR_30\": 0.25829706202393904,\n",
      "    \"PHR_40\": 0.2879488574537541,\n",
      "    \"ndcg_10\": 0.039310600608587265,\n",
      "    \"ndcg_20\": 0.04493710771203041,\n",
      "    \"ndcg_30\": 0.04876517876982689,\n",
      "    \"ndcg_40\": 0.051774244755506516,\n",
      "    \"recall_10\": 0.04346579313278198,\n",
      "    \"recall_20\": 0.061218492686748505,\n",
      "    \"recall_30\": 0.07318999618291855,\n",
      "    \"recall_40\": 0.08308514207601547\n",
      "}\n"
     ]
    },
    {
     "name": "stderr",
     "output_type": "stream",
     "text": [
      "train epoch: 7, train loss: 0.005361662894163443: 100%|██████████| 230/230 [01:08<00:00,  3.36it/s]\n"
     ]
    },
    {
     "name": "stdout",
     "output_type": "stream",
     "text": [
      "train metric ...\n",
      "{\n",
      "    \"PHR_10\": 0.15805223068552773,\n",
      "    \"PHR_20\": 0.21830794341675736,\n",
      "    \"PHR_30\": 0.2538084874863983,\n",
      "    \"PHR_40\": 0.2837323177366703,\n",
      "    \"ndcg_10\": 0.039241962134838104,\n",
      "    \"ndcg_20\": 0.044720716774463654,\n",
      "    \"ndcg_30\": 0.04816851764917374,\n",
      "    \"ndcg_40\": 0.051064349710941315,\n",
      "    \"recall_10\": 0.0434112511575222,\n",
      "    \"recall_20\": 0.0611402653157711,\n",
      "    \"recall_30\": 0.07159397006034851,\n",
      "    \"recall_40\": 0.0814482793211937\n",
      "}\n"
     ]
    },
    {
     "name": "stderr",
     "output_type": "stream",
     "text": [
      "validate epoch: 7, validate loss: 0.005082881481022291: 100%|██████████| 230/230 [01:05<00:00,  3.50it/s]\n"
     ]
    },
    {
     "name": "stdout",
     "output_type": "stream",
     "text": [
      "validate metric ...\n"
     ]
    },
    {
     "name": "stderr",
     "output_type": "stream",
     "text": [
      "\u001b[32m[I 2023-04-15 10:51:42,930]\u001b[0m Trial 7 finished with value: 0.06438826024532318 and parameters: {'item_embed_dim': 16, 'n_heads': 1, 'attention_aggregate': 'concat', 'batch_size': 32, 'learning_rate': 0.034938832175517805, 'weight_decay': 6.711581311385595e-05}. Best is trial 7 with value: 0.06438826024532318.\u001b[0m\n"
     ]
    },
    {
     "name": "stdout",
     "output_type": "stream",
     "text": [
      "{\n",
      "    \"PHR_10\": 0.19695528068506185,\n",
      "    \"PHR_20\": 0.2533641429930678,\n",
      "    \"PHR_30\": 0.28041321190702734,\n",
      "    \"PHR_40\": 0.30569525621856736,\n",
      "    \"ndcg_10\": 0.06438826024532318,\n",
      "    \"ndcg_20\": 0.07075073570013046,\n",
      "    \"ndcg_30\": 0.07367805391550064,\n",
      "    \"ndcg_40\": 0.07631190866231918,\n",
      "    \"recall_10\": 0.06343019008636475,\n",
      "    \"recall_20\": 0.08568018674850464,\n",
      "    \"recall_30\": 0.09458572417497635,\n",
      "    \"recall_40\": 0.10289932042360306\n",
      "}\n",
      "model save as ./DNNTSP/save_model_folder/TaFeng/DNNTSP/best_model.pkl\n",
      "cost 765 seconds\n",
      "TaFeng/DNNTSP\n",
      "train data length -> 7352\n",
      "validate data length -> 7357\n",
      "temporal_set_prediction(\n",
      "  (item_embedding): Embedding(11202, 32)\n",
      "  (stacked_gcn): stacked_weighted_GCN_blocks(\n",
      "    (0): weighted_GCN(\n",
      "      (gcns): ModuleList(\n",
      "        (0-1): 2 x weighted_graph_conv(\n",
      "          (linear): Linear(in_features=32, out_features=32, bias=True)\n",
      "        )\n",
      "      )\n",
      "      (relus): ModuleList(\n",
      "        (0-1): 2 x ReLU()\n",
      "      )\n",
      "      (bns): ModuleList(\n",
      "        (0-1): 2 x BatchNorm1d(32, eps=1e-05, momentum=0.1, affine=True, track_running_stats=True)\n",
      "      )\n",
      "    )\n",
      "  )\n",
      "  (masked_self_attention): masked_self_attention(\n",
      "    (Wq): Linear(in_features=32, out_features=64, bias=False)\n",
      "    (Wk): Linear(in_features=32, out_features=64, bias=False)\n",
      "    (Wv): Linear(in_features=32, out_features=64, bias=False)\n",
      "  )\n",
      "  (aggregate_nodes_temporal_feature): aggregate_nodes_temporal_feature(\n",
      "    (Wq): Linear(in_features=32, out_features=1, bias=False)\n",
      "  )\n",
      "  (global_gated_update): global_gated_update(\n",
      "    (item_embedding): Embedding(11202, 32)\n",
      "  )\n",
      "  (fc_output): Linear(in_features=32, out_features=1, bias=True)\n",
      ")\n",
      "Adam (\n",
      "Parameter Group 0\n",
      "    amsgrad: False\n",
      "    betas: (0.9, 0.999)\n",
      "    capturable: False\n",
      "    differentiable: False\n",
      "    eps: 1e-08\n",
      "    foreach: None\n",
      "    fused: None\n",
      "    lr: 0.00033546416878630703\n",
      "    maximize: False\n",
      "    weight_decay: 0.04084735450421408\n",
      ")\n"
     ]
    },
    {
     "name": "stderr",
     "output_type": "stream",
     "text": [
      "train epoch: 0, train loss: 0.7136385394179303: 100%|██████████| 115/115 [01:06<00:00,  1.72it/s]\n"
     ]
    },
    {
     "name": "stdout",
     "output_type": "stream",
     "text": [
      "train metric ...\n",
      "{\n",
      "    \"PHR_10\": 0.004896626768226333,\n",
      "    \"PHR_20\": 0.011969532100108813,\n",
      "    \"PHR_30\": 0.015505984766050054,\n",
      "    \"PHR_40\": 0.020402611534276388,\n",
      "    \"ndcg_10\": 0.0007280333084054291,\n",
      "    \"ndcg_20\": 0.0011308740358799696,\n",
      "    \"ndcg_30\": 0.0013683782890439034,\n",
      "    \"ndcg_40\": 0.0015979111194610596,\n",
      "    \"recall_10\": 0.0007945332326926291,\n",
      "    \"recall_20\": 0.0018208647379651666,\n",
      "    \"recall_30\": 0.0026016186457127333,\n",
      "    \"recall_40\": 0.003236678196117282\n",
      "}\n"
     ]
    },
    {
     "name": "stderr",
     "output_type": "stream",
     "text": [
      "train epoch: 1, train loss: 0.679450623885445: 100%|██████████| 115/115 [01:06<00:00,  1.72it/s]\n"
     ]
    },
    {
     "name": "stdout",
     "output_type": "stream",
     "text": [
      "train metric ...\n",
      "{\n",
      "    \"PHR_10\": 0.006664853101196953,\n",
      "    \"PHR_20\": 0.009793253536452665,\n",
      "    \"PHR_30\": 0.013329706202393906,\n",
      "    \"PHR_40\": 0.016594124047878127,\n",
      "    \"ndcg_10\": 0.0007541333325207233,\n",
      "    \"ndcg_20\": 0.0009094718261621892,\n",
      "    \"ndcg_30\": 0.0011862957617267966,\n",
      "    \"ndcg_40\": 0.0013656220398843288,\n",
      "    \"recall_10\": 0.0010438808239996433,\n",
      "    \"recall_20\": 0.0015310143353417516,\n",
      "    \"recall_30\": 0.002431158907711506,\n",
      "    \"recall_40\": 0.003005576552823186\n",
      "}\n"
     ]
    },
    {
     "name": "stderr",
     "output_type": "stream",
     "text": [
      "train epoch: 2, train loss: 0.6535427388937577: 100%|██████████| 115/115 [01:08<00:00,  1.68it/s]\n"
     ]
    },
    {
     "name": "stdout",
     "output_type": "stream",
     "text": [
      "train metric ...\n",
      "{\n",
      "    \"PHR_10\": 0.007616974972796518,\n",
      "    \"PHR_20\": 0.009385201305767138,\n",
      "    \"PHR_30\": 0.013057671381936888,\n",
      "    \"PHR_40\": 0.0161860718171926,\n",
      "    \"ndcg_10\": 0.0008378828060813248,\n",
      "    \"ndcg_20\": 0.0008977886172942817,\n",
      "    \"ndcg_30\": 0.001149353920482099,\n",
      "    \"ndcg_40\": 0.0013382505858317018,\n",
      "    \"recall_10\": 0.0011561678256839514,\n",
      "    \"recall_20\": 0.0014364650705829263,\n",
      "    \"recall_30\": 0.002214303705841303,\n",
      "    \"recall_40\": 0.002811558311805129\n",
      "}\n"
     ]
    },
    {
     "name": "stderr",
     "output_type": "stream",
     "text": [
      "train epoch: 3, train loss: 0.6320831443952477: 100%|██████████| 115/115 [01:09<00:00,  1.65it/s]\n"
     ]
    },
    {
     "name": "stdout",
     "output_type": "stream",
     "text": [
      "train metric ...\n",
      "{\n",
      "    \"PHR_10\": 0.007616974972796518,\n",
      "    \"PHR_20\": 0.01088139281828074,\n",
      "    \"PHR_30\": 0.013601741022850925,\n",
      "    \"PHR_40\": 0.016594124047878127,\n",
      "    \"ndcg_10\": 0.0008591084624640644,\n",
      "    \"ndcg_20\": 0.0010713865049183369,\n",
      "    \"ndcg_30\": 0.0012076966231688857,\n",
      "    \"ndcg_40\": 0.0013516787439584732,\n",
      "    \"recall_10\": 0.0011454750783741474,\n",
      "    \"recall_20\": 0.0018917224369943142,\n",
      "    \"recall_30\": 0.002252949168905616,\n",
      "    \"recall_40\": 0.0026532160118222237\n",
      "}\n"
     ]
    },
    {
     "name": "stderr",
     "output_type": "stream",
     "text": [
      "train epoch: 4, train loss: 0.6131229654602383: 100%|██████████| 115/115 [01:07<00:00,  1.70it/s]\n"
     ]
    },
    {
     "name": "stdout",
     "output_type": "stream",
     "text": [
      "train metric ...\n",
      "{\n",
      "    \"PHR_10\": 0.00544069640914037,\n",
      "    \"PHR_20\": 0.01088139281828074,\n",
      "    \"PHR_30\": 0.014009793253536452,\n",
      "    \"PHR_40\": 0.018362350380848748,\n",
      "    \"ndcg_10\": 0.0005994041566736996,\n",
      "    \"ndcg_20\": 0.0009012699592858553,\n",
      "    \"ndcg_30\": 0.0011318043107166886,\n",
      "    \"ndcg_40\": 0.0013793737161904573,\n",
      "    \"recall_10\": 0.0009228523122146726,\n",
      "    \"recall_20\": 0.0016383077017962933,\n",
      "    \"recall_30\": 0.002382385078817606,\n",
      "    \"recall_40\": 0.0031816100236028433\n",
      "}\n"
     ]
    },
    {
     "name": "stderr",
     "output_type": "stream",
     "text": [
      "train epoch: 5, train loss: 0.5956685154334359: 100%|██████████| 115/115 [01:07<00:00,  1.71it/s]\n"
     ]
    },
    {
     "name": "stdout",
     "output_type": "stream",
     "text": [
      "train metric ...\n",
      "{\n",
      "    \"PHR_10\": 0.002312295973884657,\n",
      "    \"PHR_20\": 0.004896626768226333,\n",
      "    \"PHR_30\": 0.009249183895538629,\n",
      "    \"PHR_40\": 0.014689880304679,\n",
      "    \"ndcg_10\": 0.0002906899026129395,\n",
      "    \"ndcg_20\": 0.00046238821232691407,\n",
      "    \"ndcg_30\": 0.0007075472385622561,\n",
      "    \"ndcg_40\": 0.0010111260926350951,\n",
      "    \"recall_10\": 0.0004167999140918255,\n",
      "    \"recall_20\": 0.0008615301921963692,\n",
      "    \"recall_30\": 0.001518823322840035,\n",
      "    \"recall_40\": 0.0024508333299309015\n",
      "}\n"
     ]
    },
    {
     "name": "stderr",
     "output_type": "stream",
     "text": [
      "train epoch: 6, train loss: 0.5791986595029416: 100%|██████████| 115/115 [01:07<00:00,  1.71it/s]\n"
     ]
    },
    {
     "name": "stdout",
     "output_type": "stream",
     "text": [
      "train metric ...\n",
      "{\n",
      "    \"PHR_10\": 0.002584330794341676,\n",
      "    \"PHR_20\": 0.004760609357997824,\n",
      "    \"PHR_30\": 0.007752992383025027,\n",
      "    \"PHR_40\": 0.01088139281828074,\n",
      "    \"ndcg_10\": 0.0003135048027615994,\n",
      "    \"ndcg_20\": 0.00049809884512797,\n",
      "    \"ndcg_30\": 0.0006650841096416116,\n",
      "    \"ndcg_40\": 0.0008447989239357412,\n",
      "    \"recall_10\": 0.0005054091452620924,\n",
      "    \"recall_20\": 0.001075879903510213,\n",
      "    \"recall_30\": 0.0015367766609415412,\n",
      "    \"recall_40\": 0.0021016118116676807\n",
      "}\n"
     ]
    },
    {
     "name": "stderr",
     "output_type": "stream",
     "text": [
      "train epoch: 7, train loss: 0.5634408655373947: 100%|██████████| 115/115 [01:07<00:00,  1.71it/s]\n"
     ]
    },
    {
     "name": "stdout",
     "output_type": "stream",
     "text": [
      "train metric ...\n",
      "{\n",
      "    \"PHR_10\": 0.0024483133841131663,\n",
      "    \"PHR_20\": 0.005848748639825898,\n",
      "    \"PHR_30\": 0.008433079434167573,\n",
      "    \"PHR_40\": 0.01074537540805223,\n",
      "    \"ndcg_10\": 0.0003686673881020397,\n",
      "    \"ndcg_20\": 0.0006021622102707624,\n",
      "    \"ndcg_30\": 0.0007500993669964373,\n",
      "    \"ndcg_40\": 0.0008770503918640316,\n",
      "    \"recall_10\": 0.0006127961678430438,\n",
      "    \"recall_20\": 0.0012633296428248286,\n",
      "    \"recall_30\": 0.0016637302469462156,\n",
      "    \"recall_40\": 0.0020669472869485617\n",
      "}\n"
     ]
    },
    {
     "name": "stderr",
     "output_type": "stream",
     "text": [
      "validate epoch: 7, validate loss: 0.5556891202926636: 100%|██████████| 115/115 [01:06<00:00,  1.73it/s]\n"
     ]
    },
    {
     "name": "stdout",
     "output_type": "stream",
     "text": [
      "validate metric ...\n"
     ]
    },
    {
     "name": "stderr",
     "output_type": "stream",
     "text": [
      "\u001b[32m[I 2023-04-15 11:04:00,100]\u001b[0m Trial 8 finished with value: 0.00028627330902963877 and parameters: {'item_embed_dim': 32, 'n_heads': 2, 'attention_aggregate': 'mean', 'batch_size': 64, 'learning_rate': 0.00033546416878630703, 'weight_decay': 0.04084735450421408}. Best is trial 7 with value: 0.06438826024532318.\u001b[0m\n"
     ]
    },
    {
     "name": "stdout",
     "output_type": "stream",
     "text": [
      "{\n",
      "    \"PHR_10\": 0.0024466494495038738,\n",
      "    \"PHR_20\": 0.006524398532010331,\n",
      "    \"PHR_30\": 0.008835123012097322,\n",
      "    \"PHR_40\": 0.011689547369851842,\n",
      "    \"ndcg_10\": 0.00028627330902963877,\n",
      "    \"ndcg_20\": 0.0006469143554568291,\n",
      "    \"ndcg_30\": 0.0007629528408870101,\n",
      "    \"ndcg_40\": 0.0009034405811689794,\n",
      "    \"recall_10\": 0.00039095969987101853,\n",
      "    \"recall_20\": 0.0015146018704399467,\n",
      "    \"recall_30\": 0.0018221540376543999,\n",
      "    \"recall_40\": 0.0022318444680422544\n",
      "}\n",
      "model save as ./DNNTSP/save_model_folder/TaFeng/DNNTSP/best_model.pkl\n",
      "cost 730 seconds\n",
      "TaFeng/DNNTSP\n",
      "train data length -> 7352\n",
      "validate data length -> 7357\n",
      "temporal_set_prediction(\n",
      "  (item_embedding): Embedding(11202, 16)\n",
      "  (stacked_gcn): stacked_weighted_GCN_blocks(\n",
      "    (0): weighted_GCN(\n",
      "      (gcns): ModuleList(\n",
      "        (0-1): 2 x weighted_graph_conv(\n",
      "          (linear): Linear(in_features=16, out_features=16, bias=True)\n",
      "        )\n",
      "      )\n",
      "      (relus): ModuleList(\n",
      "        (0-1): 2 x ReLU()\n",
      "      )\n",
      "      (bns): ModuleList(\n",
      "        (0-1): 2 x BatchNorm1d(16, eps=1e-05, momentum=0.1, affine=True, track_running_stats=True)\n",
      "      )\n",
      "    )\n",
      "  )\n",
      "  (masked_self_attention): masked_self_attention(\n",
      "    (Wq): Linear(in_features=16, out_features=16, bias=False)\n",
      "    (Wk): Linear(in_features=16, out_features=16, bias=False)\n",
      "    (Wv): Linear(in_features=16, out_features=16, bias=False)\n",
      "  )\n",
      "  (aggregate_nodes_temporal_feature): aggregate_nodes_temporal_feature(\n",
      "    (Wq): Linear(in_features=16, out_features=1, bias=False)\n",
      "  )\n",
      "  (global_gated_update): global_gated_update(\n",
      "    (item_embedding): Embedding(11202, 16)\n",
      "  )\n",
      "  (fc_output): Linear(in_features=16, out_features=1, bias=True)\n",
      ")\n",
      "Adam (\n",
      "Parameter Group 0\n",
      "    amsgrad: False\n",
      "    betas: (0.9, 0.999)\n",
      "    capturable: False\n",
      "    differentiable: False\n",
      "    eps: 1e-08\n",
      "    foreach: None\n",
      "    fused: None\n",
      "    lr: 0.005964310785315423\n",
      "    maximize: False\n",
      "    weight_decay: 3.335022149436862e-06\n",
      ")\n"
     ]
    },
    {
     "name": "stderr",
     "output_type": "stream",
     "text": [
      "train epoch: 0, train loss: 0.18978509766090176: 100%|██████████| 230/230 [01:09<00:00,  3.31it/s]\n"
     ]
    },
    {
     "name": "stdout",
     "output_type": "stream",
     "text": [
      "train metric ...\n",
      "{\n",
      "    \"PHR_10\": 0.040805223068552776,\n",
      "    \"PHR_20\": 0.058759521218716,\n",
      "    \"PHR_30\": 0.07576169749727965,\n",
      "    \"PHR_40\": 0.09017954298150163,\n",
      "    \"ndcg_10\": 0.008617864921689034,\n",
      "    \"ndcg_20\": 0.010090912692248821,\n",
      "    \"ndcg_30\": 0.01150506641715765,\n",
      "    \"ndcg_40\": 0.012645861133933067,\n",
      "    \"recall_10\": 0.01012916024774313,\n",
      "    \"recall_20\": 0.014689572155475616,\n",
      "    \"recall_30\": 0.019335824996232986,\n",
      "    \"recall_40\": 0.023233093321323395\n",
      "}\n"
     ]
    },
    {
     "name": "stderr",
     "output_type": "stream",
     "text": [
      "train epoch: 1, train loss: 0.013374361432278934: 100%|██████████| 230/230 [01:09<00:00,  3.31it/s]\n"
     ]
    },
    {
     "name": "stdout",
     "output_type": "stream",
     "text": [
      "train metric ...\n",
      "{\n",
      "    \"PHR_10\": 0.24360718171926007,\n",
      "    \"PHR_20\": 0.32385745375408054,\n",
      "    \"PHR_30\": 0.3715995647442873,\n",
      "    \"PHR_40\": 0.40968443960826983,\n",
      "    \"ndcg_10\": 0.05787801370024681,\n",
      "    \"ndcg_20\": 0.06558989733457565,\n",
      "    \"ndcg_30\": 0.07148333638906479,\n",
      "    \"ndcg_40\": 0.07606999576091766,\n",
      "    \"recall_10\": 0.06727714091539383,\n",
      "    \"recall_20\": 0.09271448850631714,\n",
      "    \"recall_30\": 0.1114577054977417,\n",
      "    \"recall_40\": 0.1261686384677887\n",
      "}\n"
     ]
    },
    {
     "name": "stderr",
     "output_type": "stream",
     "text": [
      "train epoch: 2, train loss: 0.00954288360055374: 100%|██████████| 230/230 [01:09<00:00,  3.30it/s]\n"
     ]
    },
    {
     "name": "stdout",
     "output_type": "stream",
     "text": [
      "train metric ...\n",
      "{\n",
      "    \"PHR_10\": 0.23775843307943417,\n",
      "    \"PHR_20\": 0.3178726877040261,\n",
      "    \"PHR_30\": 0.37268770402611534,\n",
      "    \"PHR_40\": 0.4105005440696409,\n",
      "    \"ndcg_10\": 0.057480767369270325,\n",
      "    \"ndcg_20\": 0.06531157344579697,\n",
      "    \"ndcg_30\": 0.07198922336101532,\n",
      "    \"ndcg_40\": 0.0768795907497406,\n",
      "    \"recall_10\": 0.06621261686086655,\n",
      "    \"recall_20\": 0.09134425967931747,\n",
      "    \"recall_30\": 0.11306837946176529,\n",
      "    \"recall_40\": 0.12896864116191864\n",
      "}\n"
     ]
    },
    {
     "name": "stderr",
     "output_type": "stream",
     "text": [
      "train epoch: 3, train loss: 0.007979139671458498: 100%|██████████| 230/230 [01:09<00:00,  3.33it/s]\n"
     ]
    },
    {
     "name": "stdout",
     "output_type": "stream",
     "text": [
      "train metric ...\n",
      "{\n",
      "    \"PHR_10\": 0.2312295973884657,\n",
      "    \"PHR_20\": 0.3099836779107726,\n",
      "    \"PHR_30\": 0.36194232861806314,\n",
      "    \"PHR_40\": 0.39975516866158867,\n",
      "    \"ndcg_10\": 0.055219653993844986,\n",
      "    \"ndcg_20\": 0.062923863530159,\n",
      "    \"ndcg_30\": 0.0693269595503807,\n",
      "    \"ndcg_40\": 0.07417319715023041,\n",
      "    \"recall_10\": 0.06399030238389969,\n",
      "    \"recall_20\": 0.08840736746788025,\n",
      "    \"recall_30\": 0.10904911905527115,\n",
      "    \"recall_40\": 0.12494447082281113\n",
      "}\n"
     ]
    },
    {
     "name": "stderr",
     "output_type": "stream",
     "text": [
      "train epoch: 4, train loss: 0.007134368610770806: 100%|██████████| 230/230 [01:09<00:00,  3.33it/s]\n"
     ]
    },
    {
     "name": "stdout",
     "output_type": "stream",
     "text": [
      "train metric ...\n",
      "{\n",
      "    \"PHR_10\": 0.235310119695321,\n",
      "    \"PHR_20\": 0.31229597388465724,\n",
      "    \"PHR_30\": 0.3593579978237214,\n",
      "    \"PHR_40\": 0.39934711643090315,\n",
      "    \"ndcg_10\": 0.05663808807730675,\n",
      "    \"ndcg_20\": 0.06427130848169327,\n",
      "    \"ndcg_30\": 0.07003798335790634,\n",
      "    \"ndcg_40\": 0.07516935467720032,\n",
      "    \"recall_10\": 0.06663314253091812,\n",
      "    \"recall_20\": 0.09057288616895676,\n",
      "    \"recall_30\": 0.10842164605855942,\n",
      "    \"recall_40\": 0.12520679831504822\n",
      "}\n"
     ]
    },
    {
     "name": "stderr",
     "output_type": "stream",
     "text": [
      "train epoch: 5, train loss: 0.0065979284416560246: 100%|██████████| 230/230 [01:09<00:00,  3.30it/s]\n"
     ]
    },
    {
     "name": "stdout",
     "output_type": "stream",
     "text": [
      "train metric ...\n",
      "{\n",
      "    \"PHR_10\": 0.21368335146898804,\n",
      "    \"PHR_20\": 0.294069640914037,\n",
      "    \"PHR_30\": 0.3412676822633297,\n",
      "    \"PHR_40\": 0.3838411316648531,\n",
      "    \"ndcg_10\": 0.050422366708517075,\n",
      "    \"ndcg_20\": 0.058223359286785126,\n",
      "    \"ndcg_30\": 0.06393449008464813,\n",
      "    \"ndcg_40\": 0.06899801641702652,\n",
      "    \"recall_10\": 0.058476854115724564,\n",
      "    \"recall_20\": 0.08283846080303192,\n",
      "    \"recall_30\": 0.10099092125892639,\n",
      "    \"recall_40\": 0.11795841157436371\n",
      "}\n"
     ]
    },
    {
     "name": "stderr",
     "output_type": "stream",
     "text": [
      "train epoch: 6, train loss: 0.006211364020229034: 100%|██████████| 230/230 [01:09<00:00,  3.30it/s]\n"
     ]
    },
    {
     "name": "stdout",
     "output_type": "stream",
     "text": [
      "train metric ...\n",
      "{\n",
      "    \"PHR_10\": 0.21436343852013057,\n",
      "    \"PHR_20\": 0.28930903155603915,\n",
      "    \"PHR_30\": 0.338411316648531,\n",
      "    \"PHR_40\": 0.38112078346028294,\n",
      "    \"ndcg_10\": 0.05065291002392769,\n",
      "    \"ndcg_20\": 0.0577300600707531,\n",
      "    \"ndcg_30\": 0.06333509832620621,\n",
      "    \"ndcg_40\": 0.06840583682060242,\n",
      "    \"recall_10\": 0.058592114597558975,\n",
      "    \"recall_20\": 0.08132747560739517,\n",
      "    \"recall_30\": 0.09889859706163406,\n",
      "    \"recall_40\": 0.11564597487449646\n",
      "}\n"
     ]
    },
    {
     "name": "stderr",
     "output_type": "stream",
     "text": [
      "train epoch: 7, train loss: 0.005919234995203822: 100%|██████████| 230/230 [01:09<00:00,  3.31it/s]\n"
     ]
    },
    {
     "name": "stdout",
     "output_type": "stream",
     "text": [
      "train metric ...\n",
      "{\n",
      "    \"PHR_10\": 0.20946681175190424,\n",
      "    \"PHR_20\": 0.2838683351468988,\n",
      "    \"PHR_30\": 0.3341947769314472,\n",
      "    \"PHR_40\": 0.37595212187159954,\n",
      "    \"ndcg_10\": 0.04989065229892731,\n",
      "    \"ndcg_20\": 0.056892551481723785,\n",
      "    \"ndcg_30\": 0.0626063421368599,\n",
      "    \"ndcg_40\": 0.0673954114317894,\n",
      "    \"recall_10\": 0.05750838667154312,\n",
      "    \"recall_20\": 0.07961956411600113,\n",
      "    \"recall_30\": 0.09775085002183914,\n",
      "    \"recall_40\": 0.11349351704120636\n",
      "}\n"
     ]
    },
    {
     "name": "stderr",
     "output_type": "stream",
     "text": [
      "validate epoch: 7, validate loss: 0.005649960925802588: 100%|██████████| 230/230 [01:07<00:00,  3.41it/s]\n"
     ]
    },
    {
     "name": "stdout",
     "output_type": "stream",
     "text": [
      "validate metric ...\n"
     ]
    },
    {
     "name": "stderr",
     "output_type": "stream",
     "text": [
      "\u001b[32m[I 2023-04-15 11:16:27,994]\u001b[0m Trial 9 finished with value: 0.07213349640369415 and parameters: {'item_embed_dim': 16, 'n_heads': 1, 'attention_aggregate': 'mean', 'batch_size': 32, 'learning_rate': 0.005964310785315423, 'weight_decay': 3.335022149436862e-06}. Best is trial 9 with value: 0.07213349640369415.\u001b[0m\n"
     ]
    },
    {
     "name": "stdout",
     "output_type": "stream",
     "text": [
      "{\n",
      "    \"PHR_10\": 0.24194644556204975,\n",
      "    \"PHR_20\": 0.3111322549952426,\n",
      "    \"PHR_30\": 0.3497349463096371,\n",
      "    \"PHR_40\": 0.3932309365230393,\n",
      "    \"ndcg_10\": 0.07213349640369415,\n",
      "    \"ndcg_20\": 0.07892412692308426,\n",
      "    \"ndcg_30\": 0.08347655087709427,\n",
      "    \"ndcg_40\": 0.08997708559036255,\n",
      "    \"recall_10\": 0.07712005078792572,\n",
      "    \"recall_20\": 0.09847346693277359,\n",
      "    \"recall_30\": 0.11176884919404984,\n",
      "    \"recall_40\": 0.13462002575397491\n",
      "}\n",
      "model save as ./DNNTSP/save_model_folder/TaFeng/DNNTSP/best_model.pkl\n",
      "cost 742 seconds\n",
      "TaFeng/DNNTSP\n",
      "train data length -> 7352\n",
      "validate data length -> 7357\n",
      "temporal_set_prediction(\n",
      "  (item_embedding): Embedding(11202, 16)\n",
      "  (stacked_gcn): stacked_weighted_GCN_blocks(\n",
      "    (0): weighted_GCN(\n",
      "      (gcns): ModuleList(\n",
      "        (0-1): 2 x weighted_graph_conv(\n",
      "          (linear): Linear(in_features=16, out_features=16, bias=True)\n",
      "        )\n",
      "      )\n",
      "      (relus): ModuleList(\n",
      "        (0-1): 2 x ReLU()\n",
      "      )\n",
      "      (bns): ModuleList(\n",
      "        (0-1): 2 x BatchNorm1d(16, eps=1e-05, momentum=0.1, affine=True, track_running_stats=True)\n",
      "      )\n",
      "    )\n",
      "  )\n",
      "  (masked_self_attention): masked_self_attention(\n",
      "    (Wq): Linear(in_features=16, out_features=64, bias=False)\n",
      "    (Wk): Linear(in_features=16, out_features=64, bias=False)\n",
      "    (Wv): Linear(in_features=16, out_features=64, bias=False)\n",
      "  )\n",
      "  (aggregate_nodes_temporal_feature): aggregate_nodes_temporal_feature(\n",
      "    (Wq): Linear(in_features=16, out_features=1, bias=False)\n",
      "  )\n",
      "  (global_gated_update): global_gated_update(\n",
      "    (item_embedding): Embedding(11202, 16)\n",
      "  )\n",
      "  (fc_output): Linear(in_features=16, out_features=1, bias=True)\n",
      ")\n",
      "Adam (\n",
      "Parameter Group 0\n",
      "    amsgrad: False\n",
      "    betas: (0.9, 0.999)\n",
      "    capturable: False\n",
      "    differentiable: False\n",
      "    eps: 1e-08\n",
      "    foreach: None\n",
      "    fused: None\n",
      "    lr: 3.29159097762132e-05\n",
      "    maximize: False\n",
      "    weight_decay: 1.0665719639564587e-06\n",
      ")\n"
     ]
    },
    {
     "name": "stderr",
     "output_type": "stream",
     "text": [
      "train epoch: 0, train loss: 0.756043077542864: 100%|██████████| 58/58 [01:05<00:00,  1.13s/it]\n"
     ]
    },
    {
     "name": "stdout",
     "output_type": "stream",
     "text": [
      "train metric ...\n",
      "{\n",
      "    \"PHR_10\": 0.006936887921653972,\n",
      "    \"PHR_20\": 0.011289445048966267,\n",
      "    \"PHR_30\": 0.017410228509249184,\n",
      "    \"PHR_40\": 0.02162676822633297,\n",
      "    \"ndcg_10\": 0.0008594187092967331,\n",
      "    \"ndcg_20\": 0.0011418830836191773,\n",
      "    \"ndcg_30\": 0.001501598977483809,\n",
      "    \"ndcg_40\": 0.0017694567795842886,\n",
      "    \"recall_10\": 0.0011636076960712671,\n",
      "    \"recall_20\": 0.0021100493613630533,\n",
      "    \"recall_30\": 0.0031056455336511135,\n",
      "    \"recall_40\": 0.004084051586687565\n",
      "}\n"
     ]
    },
    {
     "name": "stderr",
     "output_type": "stream",
     "text": [
      "train epoch: 1, train loss: 0.7526828852193109: 100%|██████████| 58/58 [01:04<00:00,  1.11s/it]\n"
     ]
    },
    {
     "name": "stdout",
     "output_type": "stream",
     "text": [
      "train metric ...\n",
      "{\n",
      "    \"PHR_10\": 0.007072905331882481,\n",
      "    \"PHR_20\": 0.01441784548422198,\n",
      "    \"PHR_30\": 0.017138193688792165,\n",
      "    \"PHR_40\": 0.021218715995647442,\n",
      "    \"ndcg_10\": 0.0008658092701807618,\n",
      "    \"ndcg_20\": 0.0013157292269170284,\n",
      "    \"ndcg_30\": 0.0014719587052240968,\n",
      "    \"ndcg_40\": 0.0017388904234394431,\n",
      "    \"recall_10\": 0.0011949368054047227,\n",
      "    \"recall_20\": 0.002536614891141653,\n",
      "    \"recall_30\": 0.0030561063904315233,\n",
      "    \"recall_40\": 0.0040352665819227695\n",
      "}\n"
     ]
    },
    {
     "name": "stderr",
     "output_type": "stream",
     "text": [
      "train epoch: 2, train loss: 0.7494086047698711: 100%|██████████| 58/58 [01:05<00:00,  1.13s/it]\n"
     ]
    },
    {
     "name": "stdout",
     "output_type": "stream",
     "text": [
      "train metric ...\n",
      "{\n",
      "    \"PHR_10\": 0.006800870511425462,\n",
      "    \"PHR_20\": 0.014145810663764961,\n",
      "    \"PHR_30\": 0.016866158868335146,\n",
      "    \"PHR_40\": 0.020810663764961917,\n",
      "    \"ndcg_10\": 0.0008357507758773863,\n",
      "    \"ndcg_20\": 0.0012507656356319785,\n",
      "    \"ndcg_30\": 0.001443212735466659,\n",
      "    \"ndcg_40\": 0.0017050435999408364,\n",
      "    \"recall_10\": 0.0011518646497279406,\n",
      "    \"recall_20\": 0.002386347623541951,\n",
      "    \"recall_30\": 0.003019835101440549,\n",
      "    \"recall_40\": 0.003985392861068249\n",
      "}\n"
     ]
    },
    {
     "name": "stderr",
     "output_type": "stream",
     "text": [
      "train epoch: 3, train loss: 0.7462102020608967: 100%|██████████| 58/58 [01:05<00:00,  1.13s/it]\n"
     ]
    },
    {
     "name": "stdout",
     "output_type": "stream",
     "text": [
      "train metric ...\n",
      "{\n",
      "    \"PHR_10\": 0.006664853101196953,\n",
      "    \"PHR_20\": 0.013057671381936888,\n",
      "    \"PHR_30\": 0.0161860718171926,\n",
      "    \"PHR_40\": 0.020674646354733407,\n",
      "    \"ndcg_10\": 0.0007958248606882989,\n",
      "    \"ndcg_20\": 0.0011813900200650096,\n",
      "    \"ndcg_30\": 0.0013675176305696368,\n",
      "    \"ndcg_40\": 0.001671635895036161,\n",
      "    \"recall_10\": 0.0011243373155593872,\n",
      "    \"recall_20\": 0.0022975404281169176,\n",
      "    \"recall_30\": 0.0028495485894382,\n",
      "    \"recall_40\": 0.003946531098335981\n",
      "}\n"
     ]
    },
    {
     "name": "stderr",
     "output_type": "stream",
     "text": [
      "train epoch: 4, train loss: 0.7430799706228848: 100%|██████████| 58/58 [01:04<00:00,  1.10s/it]\n"
     ]
    },
    {
     "name": "stdout",
     "output_type": "stream",
     "text": [
      "train metric ...\n",
      "{\n",
      "    \"PHR_10\": 0.006528835690968444,\n",
      "    \"PHR_20\": 0.01264961915125136,\n",
      "    \"PHR_30\": 0.015369967355821546,\n",
      "    \"PHR_40\": 0.02013057671381937,\n",
      "    \"ndcg_10\": 0.000740880030207336,\n",
      "    \"ndcg_20\": 0.0011245294008404016,\n",
      "    \"ndcg_30\": 0.001287573715671897,\n",
      "    \"ndcg_40\": 0.0016047593671828508,\n",
      "    \"recall_10\": 0.001078859786503017,\n",
      "    \"recall_20\": 0.0022311510983854532,\n",
      "    \"recall_30\": 0.0027343526016920805,\n",
      "    \"recall_40\": 0.003863037098199129\n",
      "}\n"
     ]
    },
    {
     "name": "stderr",
     "output_type": "stream",
     "text": [
      "train epoch: 5, train loss: 0.7400109922063762: 100%|██████████| 58/58 [01:05<00:00,  1.12s/it]\n"
     ]
    },
    {
     "name": "stdout",
     "output_type": "stream",
     "text": [
      "train metric ...\n",
      "{\n",
      "    \"PHR_10\": 0.006120783460282916,\n",
      "    \"PHR_20\": 0.012513601741022852,\n",
      "    \"PHR_30\": 0.015369967355821546,\n",
      "    \"PHR_40\": 0.020402611534276388,\n",
      "    \"ndcg_10\": 0.0006499454029835761,\n",
      "    \"ndcg_20\": 0.0010549573926255107,\n",
      "    \"ndcg_30\": 0.0012362569104880095,\n",
      "    \"ndcg_40\": 0.0015630454290658236,\n",
      "    \"recall_10\": 0.0009807329624891281,\n",
      "    \"recall_20\": 0.0021778109949082136,\n",
      "    \"recall_30\": 0.0027343526016920805,\n",
      "    \"recall_40\": 0.003900374984368682\n",
      "}\n"
     ]
    },
    {
     "name": "stderr",
     "output_type": "stream",
     "text": [
      "train epoch: 6, train loss: 0.7369983206535208: 100%|██████████| 58/58 [01:03<00:00,  1.10s/it]\n"
     ]
    },
    {
     "name": "stdout",
     "output_type": "stream",
     "text": [
      "train metric ...\n",
      "{\n",
      "    \"PHR_10\": 0.005984766050054407,\n",
      "    \"PHR_20\": 0.010337323177366704,\n",
      "    \"PHR_30\": 0.015369967355821546,\n",
      "    \"PHR_40\": 0.01985854189336235,\n",
      "    \"ndcg_10\": 0.0006762298289686441,\n",
      "    \"ndcg_20\": 0.0009827418252825737,\n",
      "    \"ndcg_30\": 0.0012499134754762053,\n",
      "    \"ndcg_40\": 0.0015361045952886343,\n",
      "    \"recall_10\": 0.0009727319120429456,\n",
      "    \"recall_20\": 0.002019462175667286,\n",
      "    \"recall_30\": 0.002707015722990036,\n",
      "    \"recall_40\": 0.003737021004781127\n",
      "}\n"
     ]
    },
    {
     "name": "stderr",
     "output_type": "stream",
     "text": [
      "train epoch: 7, train loss: 0.7340366141549473: 100%|██████████| 58/58 [01:05<00:00,  1.13s/it]\n"
     ]
    },
    {
     "name": "stdout",
     "output_type": "stream",
     "text": [
      "train metric ...\n",
      "{\n",
      "    \"PHR_10\": 0.006120783460282916,\n",
      "    \"PHR_20\": 0.008025027203482046,\n",
      "    \"PHR_30\": 0.014825897714907508,\n",
      "    \"PHR_40\": 0.019314472252448315,\n",
      "    \"ndcg_10\": 0.0007392828701995313,\n",
      "    \"ndcg_20\": 0.0008850847952999175,\n",
      "    \"ndcg_30\": 0.0012451016809791327,\n",
      "    \"ndcg_40\": 0.001539721735753119,\n",
      "    \"recall_10\": 0.0010336285922676325,\n",
      "    \"recall_20\": 0.0017269288655370474,\n",
      "    \"recall_30\": 0.0026241824962198734,\n",
      "    \"recall_40\": 0.0036786552518606186\n",
      "}\n"
     ]
    },
    {
     "name": "stderr",
     "output_type": "stream",
     "text": [
      "validate epoch: 7, validate loss: 0.7326098115279757: 100%|██████████| 58/58 [01:03<00:00,  1.09s/it]\n"
     ]
    },
    {
     "name": "stdout",
     "output_type": "stream",
     "text": [
      "validate metric ...\n",
      "{\n",
      "    \"PHR_10\": 0.005029223868424629,\n",
      "    \"PHR_20\": 0.008019573195596031,\n",
      "    \"PHR_30\": 0.012912872094603779,\n",
      "    \"PHR_40\": 0.017126546146527116,\n",
      "    \"ndcg_10\": 0.0005786201218143106,\n",
      "    \"ndcg_20\": 0.0008417137432843447,\n",
      "    \"ndcg_30\": 0.0011012536706402898,\n",
      "    \"ndcg_40\": 0.0013249005423858762,\n",
      "    \"recall_10\": 0.0006332937628030777,\n",
      "    \"recall_20\": 0.0016687819734215736,\n",
      "    \"recall_30\": 0.002383760642260313,\n",
      "    \"recall_40\": 0.0031196039635688066\n",
      "}\n",
      "model save as ./DNNTSP/save_model_folder/TaFeng/DNNTSP/best_model.pkl\n",
      "cost 704 seconds\n"
     ]
    },
    {
     "name": "stderr",
     "output_type": "stream",
     "text": [
      "\u001b[32m[I 2023-04-15 11:28:17,599]\u001b[0m Trial 10 finished with value: 0.0005786201218143106 and parameters: {'item_embed_dim': 16, 'n_heads': 4, 'attention_aggregate': 'mean', 'batch_size': 128, 'learning_rate': 3.29159097762132e-05, 'weight_decay': 1.0665719639564587e-06}. Best is trial 9 with value: 0.07213349640369415.\u001b[0m\n"
     ]
    },
    {
     "name": "stdout",
     "output_type": "stream",
     "text": [
      "TaFeng/DNNTSP\n",
      "train data length -> 7352\n",
      "validate data length -> 7357\n",
      "temporal_set_prediction(\n",
      "  (item_embedding): Embedding(11202, 16)\n",
      "  (stacked_gcn): stacked_weighted_GCN_blocks(\n",
      "    (0): weighted_GCN(\n",
      "      (gcns): ModuleList(\n",
      "        (0-1): 2 x weighted_graph_conv(\n",
      "          (linear): Linear(in_features=16, out_features=16, bias=True)\n",
      "        )\n",
      "      )\n",
      "      (relus): ModuleList(\n",
      "        (0-1): 2 x ReLU()\n",
      "      )\n",
      "      (bns): ModuleList(\n",
      "        (0-1): 2 x BatchNorm1d(16, eps=1e-05, momentum=0.1, affine=True, track_running_stats=True)\n",
      "      )\n",
      "    )\n",
      "  )\n",
      "  (masked_self_attention): masked_self_attention(\n",
      "    (Wq): Linear(in_features=16, out_features=16, bias=False)\n",
      "    (Wk): Linear(in_features=16, out_features=16, bias=False)\n",
      "    (Wv): Linear(in_features=16, out_features=16, bias=False)\n",
      "  )\n",
      "  (aggregate_nodes_temporal_feature): aggregate_nodes_temporal_feature(\n",
      "    (Wq): Linear(in_features=16, out_features=1, bias=False)\n",
      "  )\n",
      "  (global_gated_update): global_gated_update(\n",
      "    (item_embedding): Embedding(11202, 16)\n",
      "  )\n",
      "  (fc_output): Linear(in_features=16, out_features=1, bias=True)\n",
      ")\n",
      "Adam (\n",
      "Parameter Group 0\n",
      "    amsgrad: False\n",
      "    betas: (0.9, 0.999)\n",
      "    capturable: False\n",
      "    differentiable: False\n",
      "    eps: 1e-08\n",
      "    foreach: None\n",
      "    fused: None\n",
      "    lr: 0.06895666106648175\n",
      "    maximize: False\n",
      "    weight_decay: 2.9559096627438517e-06\n",
      ")\n"
     ]
    },
    {
     "name": "stderr",
     "output_type": "stream",
     "text": [
      "train epoch: 0, train loss: 0.02855510246616019: 100%|██████████| 230/230 [01:08<00:00,  3.34it/s]\n"
     ]
    },
    {
     "name": "stdout",
     "output_type": "stream",
     "text": [
      "train metric ...\n",
      "{\n",
      "    \"PHR_10\": 0.1116702937976061,\n",
      "    \"PHR_20\": 0.15968443960826986,\n",
      "    \"PHR_30\": 0.19205658324265507,\n",
      "    \"PHR_40\": 0.2192600652883569,\n",
      "    \"ndcg_10\": 0.023538654670119286,\n",
      "    \"ndcg_20\": 0.02757089026272297,\n",
      "    \"ndcg_30\": 0.030141983181238174,\n",
      "    \"ndcg_40\": 0.0324922576546669,\n",
      "    \"recall_10\": 0.028543051332235336,\n",
      "    \"recall_20\": 0.04131174832582474,\n",
      "    \"recall_30\": 0.04908531904220581,\n",
      "    \"recall_40\": 0.05699240788817406\n",
      "}\n"
     ]
    },
    {
     "name": "stderr",
     "output_type": "stream",
     "text": [
      "train epoch: 1, train loss: 0.005611222030837899: 100%|██████████| 230/230 [01:08<00:00,  3.34it/s]\n"
     ]
    },
    {
     "name": "stdout",
     "output_type": "stream",
     "text": [
      "train metric ...\n",
      "{\n",
      "    \"PHR_10\": 0.08718715995647443,\n",
      "    \"PHR_20\": 0.13125680087051142,\n",
      "    \"PHR_30\": 0.15356365614798695,\n",
      "    \"PHR_40\": 0.176278563656148,\n",
      "    \"ndcg_10\": 0.017407869920134544,\n",
      "    \"ndcg_20\": 0.02118319645524025,\n",
      "    \"ndcg_30\": 0.022903967648744583,\n",
      "    \"ndcg_40\": 0.024687616154551506,\n",
      "    \"recall_10\": 0.021912939846515656,\n",
      "    \"recall_20\": 0.03328807279467583,\n",
      "    \"recall_30\": 0.038736045360565186,\n",
      "    \"recall_40\": 0.04475703462958336\n",
      "}\n"
     ]
    },
    {
     "name": "stderr",
     "output_type": "stream",
     "text": [
      "train epoch: 2, train loss: 0.00542150345813159: 100%|██████████| 230/230 [01:09<00:00,  3.32it/s]\n"
     ]
    },
    {
     "name": "stdout",
     "output_type": "stream",
     "text": [
      "train metric ...\n",
      "{\n",
      "    \"PHR_10\": 0.07290533188248095,\n",
      "    \"PHR_20\": 0.10663764961915125,\n",
      "    \"PHR_30\": 0.1220076169749728,\n",
      "    \"PHR_40\": 0.13887377584330796,\n",
      "    \"ndcg_10\": 0.013706292025744915,\n",
      "    \"ndcg_20\": 0.016551662236452103,\n",
      "    \"ndcg_30\": 0.017782486975193024,\n",
      "    \"ndcg_40\": 0.019105995073914528,\n",
      "    \"recall_10\": 0.017401494085788727,\n",
      "    \"recall_20\": 0.02662886306643486,\n",
      "    \"recall_30\": 0.030762696638703346,\n",
      "    \"recall_40\": 0.035387467592954636\n",
      "}\n"
     ]
    },
    {
     "name": "stderr",
     "output_type": "stream",
     "text": [
      "train epoch: 3, train loss: 0.0053456684210054254: 100%|██████████| 230/230 [01:09<00:00,  3.32it/s]\n"
     ]
    },
    {
     "name": "stdout",
     "output_type": "stream",
     "text": [
      "train metric ...\n",
      "{\n",
      "    \"PHR_10\": 0.062295973884657234,\n",
      "    \"PHR_20\": 0.08446681175190425,\n",
      "    \"PHR_30\": 0.10418933623503808,\n",
      "    \"PHR_40\": 0.12472796517954299,\n",
      "    \"ndcg_10\": 0.012078615836799145,\n",
      "    \"ndcg_20\": 0.013816889375448227,\n",
      "    \"ndcg_30\": 0.015286048874258995,\n",
      "    \"ndcg_40\": 0.016881028190255165,\n",
      "    \"recall_10\": 0.01599390245974064,\n",
      "    \"recall_20\": 0.021675553172826767,\n",
      "    \"recall_30\": 0.026578446850180626,\n",
      "    \"recall_40\": 0.03211570531129837\n",
      "}\n"
     ]
    },
    {
     "name": "stderr",
     "output_type": "stream",
     "text": [
      "train epoch: 4, train loss: 0.005281806354532423: 100%|██████████| 230/230 [01:10<00:00,  3.28it/s]\n"
     ]
    },
    {
     "name": "stdout",
     "output_type": "stream",
     "text": [
      "train metric ...\n",
      "{\n",
      "    \"PHR_10\": 0.05807943416757345,\n",
      "    \"PHR_20\": 0.07712187159956474,\n",
      "    \"PHR_30\": 0.10405331882480957,\n",
      "    \"PHR_40\": 0.12840043525571274,\n",
      "    \"ndcg_10\": 0.01175009086728096,\n",
      "    \"ndcg_20\": 0.013142958283424377,\n",
      "    \"ndcg_30\": 0.015335094183683395,\n",
      "    \"ndcg_40\": 0.017097197473049164,\n",
      "    \"recall_10\": 0.014825759455561638,\n",
      "    \"recall_20\": 0.019916677847504616,\n",
      "    \"recall_30\": 0.02717062085866928,\n",
      "    \"recall_40\": 0.033091384917497635\n",
      "}\n"
     ]
    },
    {
     "name": "stderr",
     "output_type": "stream",
     "text": [
      "train epoch: 5, train loss: 0.005197361292843909: 100%|██████████| 230/230 [01:09<00:00,  3.29it/s]\n"
     ]
    },
    {
     "name": "stdout",
     "output_type": "stream",
     "text": [
      "train metric ...\n",
      "{\n",
      "    \"PHR_10\": 0.06107181719260065,\n",
      "    \"PHR_20\": 0.0854189336235038,\n",
      "    \"PHR_30\": 0.10718171926006528,\n",
      "    \"PHR_40\": 0.1339771490750816,\n",
      "    \"ndcg_10\": 0.012815441936254501,\n",
      "    \"ndcg_20\": 0.014697779901325703,\n",
      "    \"ndcg_30\": 0.01638684794306755,\n",
      "    \"ndcg_40\": 0.018356863409280777,\n",
      "    \"recall_10\": 0.015545220114290714,\n",
      "    \"recall_20\": 0.021895380690693855,\n",
      "    \"recall_30\": 0.027569662779569626,\n",
      "    \"recall_40\": 0.03415626287460327\n",
      "}\n"
     ]
    },
    {
     "name": "stderr",
     "output_type": "stream",
     "text": [
      "train epoch: 6, train loss: 0.005096735263688733: 100%|██████████| 230/230 [01:10<00:00,  3.27it/s]\n"
     ]
    },
    {
     "name": "stdout",
     "output_type": "stream",
     "text": [
      "train metric ...\n",
      "{\n",
      "    \"PHR_10\": 0.07100108813928183,\n",
      "    \"PHR_20\": 0.1059575625680087,\n",
      "    \"PHR_30\": 0.1267682263329706,\n",
      "    \"PHR_40\": 0.14812295973884657,\n",
      "    \"ndcg_10\": 0.01451517641544342,\n",
      "    \"ndcg_20\": 0.017257925122976303,\n",
      "    \"ndcg_30\": 0.018962103873491287,\n",
      "    \"ndcg_40\": 0.020602039992809296,\n",
      "    \"recall_10\": 0.0179356187582016,\n",
      "    \"recall_20\": 0.026254622265696526,\n",
      "    \"recall_30\": 0.03213530778884888,\n",
      "    \"recall_40\": 0.03777403011918068\n",
      "}\n"
     ]
    },
    {
     "name": "stderr",
     "output_type": "stream",
     "text": [
      "train epoch: 7, train loss: 0.004979571785129931: 100%|██████████| 230/230 [01:11<00:00,  3.22it/s]\n"
     ]
    },
    {
     "name": "stdout",
     "output_type": "stream",
     "text": [
      "train metric ...\n",
      "{\n",
      "    \"PHR_10\": 0.08433079434167573,\n",
      "    \"PHR_20\": 0.1266322089227421,\n",
      "    \"PHR_30\": 0.15560391730141457,\n",
      "    \"PHR_40\": 0.17478237214363437,\n",
      "    \"ndcg_10\": 0.017549924552440643,\n",
      "    \"ndcg_20\": 0.021223770454525948,\n",
      "    \"ndcg_30\": 0.02347026765346527,\n",
      "    \"ndcg_40\": 0.024982258677482605,\n",
      "    \"recall_10\": 0.021759068593382835,\n",
      "    \"recall_20\": 0.03311270847916603,\n",
      "    \"recall_30\": 0.039980873465538025,\n",
      "    \"recall_40\": 0.04474414512515068\n",
      "}\n"
     ]
    },
    {
     "name": "stderr",
     "output_type": "stream",
     "text": [
      "validate epoch: 7, validate loss: 0.004666594331881598: 100%|██████████| 230/230 [01:08<00:00,  3.37it/s]\n"
     ]
    },
    {
     "name": "stdout",
     "output_type": "stream",
     "text": [
      "validate metric ...\n"
     ]
    },
    {
     "name": "stderr",
     "output_type": "stream",
     "text": [
      "\u001b[32m[I 2023-04-15 11:40:52,426]\u001b[0m Trial 11 finished with value: 0.050383422523736954 and parameters: {'item_embed_dim': 16, 'n_heads': 1, 'attention_aggregate': 'mean', 'batch_size': 32, 'learning_rate': 0.06895666106648175, 'weight_decay': 2.9559096627438517e-06}. Best is trial 9 with value: 0.07213349640369415.\u001b[0m\n"
     ]
    },
    {
     "name": "stdout",
     "output_type": "stream",
     "text": [
      "{\n",
      "    \"PHR_10\": 0.1319831453037923,\n",
      "    \"PHR_20\": 0.1635177382085089,\n",
      "    \"PHR_30\": 0.174935435639527,\n",
      "    \"PHR_40\": 0.18879978252004892,\n",
      "    \"ndcg_10\": 0.050383422523736954,\n",
      "    \"ndcg_20\": 0.05254131555557251,\n",
      "    \"ndcg_30\": 0.053448636084795,\n",
      "    \"ndcg_40\": 0.05444033071398735,\n",
      "    \"recall_10\": 0.04240415245294571,\n",
      "    \"recall_20\": 0.05003710463643074,\n",
      "    \"recall_30\": 0.05281199887394905,\n",
      "    \"recall_40\": 0.05602172762155533\n",
      "}\n",
      "model save as ./DNNTSP/save_model_folder/TaFeng/DNNTSP/best_model.pkl\n",
      "cost 749 seconds\n",
      "TaFeng/DNNTSP\n",
      "train data length -> 7352\n",
      "validate data length -> 7357\n",
      "temporal_set_prediction(\n",
      "  (item_embedding): Embedding(11202, 16)\n",
      "  (stacked_gcn): stacked_weighted_GCN_blocks(\n",
      "    (0): weighted_GCN(\n",
      "      (gcns): ModuleList(\n",
      "        (0-1): 2 x weighted_graph_conv(\n",
      "          (linear): Linear(in_features=16, out_features=16, bias=True)\n",
      "        )\n",
      "      )\n",
      "      (relus): ModuleList(\n",
      "        (0-1): 2 x ReLU()\n",
      "      )\n",
      "      (bns): ModuleList(\n",
      "        (0-1): 2 x BatchNorm1d(16, eps=1e-05, momentum=0.1, affine=True, track_running_stats=True)\n",
      "      )\n",
      "    )\n",
      "  )\n",
      "  (masked_self_attention): masked_self_attention(\n",
      "    (Wq): Linear(in_features=16, out_features=16, bias=False)\n",
      "    (Wk): Linear(in_features=16, out_features=16, bias=False)\n",
      "    (Wv): Linear(in_features=16, out_features=16, bias=False)\n",
      "  )\n",
      "  (aggregate_nodes_temporal_feature): aggregate_nodes_temporal_feature(\n",
      "    (Wq): Linear(in_features=16, out_features=1, bias=False)\n",
      "  )\n",
      "  (global_gated_update): global_gated_update(\n",
      "    (item_embedding): Embedding(11202, 16)\n",
      "  )\n",
      "  (fc_output): Linear(in_features=16, out_features=1, bias=True)\n",
      ")\n",
      "Adam (\n",
      "Parameter Group 0\n",
      "    amsgrad: False\n",
      "    betas: (0.9, 0.999)\n",
      "    capturable: False\n",
      "    differentiable: False\n",
      "    eps: 1e-08\n",
      "    foreach: None\n",
      "    fused: None\n",
      "    lr: 0.09854233061041466\n",
      "    maximize: False\n",
      "    weight_decay: 5.636281752581488e-06\n",
      ")\n"
     ]
    },
    {
     "name": "stderr",
     "output_type": "stream",
     "text": [
      "train epoch: 0, train loss: 0.023695230156021273: 100%|██████████| 230/230 [01:09<00:00,  3.29it/s]\n"
     ]
    },
    {
     "name": "stdout",
     "output_type": "stream",
     "text": [
      "train metric ...\n",
      "{\n",
      "    \"PHR_10\": 0.07916213275299239,\n",
      "    \"PHR_20\": 0.12119151251360175,\n",
      "    \"PHR_30\": 0.15043525571273123,\n",
      "    \"PHR_40\": 0.1707018498367791,\n",
      "    \"ndcg_10\": 0.016898566856980324,\n",
      "    \"ndcg_20\": 0.020434468984603882,\n",
      "    \"ndcg_30\": 0.02277994342148304,\n",
      "    \"ndcg_40\": 0.02443215623497963,\n",
      "    \"recall_10\": 0.020286284387111664,\n",
      "    \"recall_20\": 0.03129807487130165,\n",
      "    \"recall_30\": 0.03878521919250488,\n",
      "    \"recall_40\": 0.044333457946777344\n",
      "}\n"
     ]
    },
    {
     "name": "stderr",
     "output_type": "stream",
     "text": [
      "train epoch: 1, train loss: 0.0058755184888191845: 100%|██████████| 230/230 [01:10<00:00,  3.28it/s]\n"
     ]
    },
    {
     "name": "stdout",
     "output_type": "stream",
     "text": [
      "train metric ...\n",
      "{\n",
      "    \"PHR_10\": 0.05223068552774755,\n",
      "    \"PHR_20\": 0.08065832426550598,\n",
      "    \"PHR_30\": 0.10391730141458107,\n",
      "    \"PHR_40\": 0.11887921653971709,\n",
      "    \"ndcg_10\": 0.010058281943202019,\n",
      "    \"ndcg_20\": 0.012187456712126732,\n",
      "    \"ndcg_30\": 0.013922208920121193,\n",
      "    \"ndcg_40\": 0.015002421103417873,\n",
      "    \"recall_10\": 0.014172283932566643,\n",
      "    \"recall_20\": 0.02069263719022274,\n",
      "    \"recall_30\": 0.02606293372809887,\n",
      "    \"recall_40\": 0.029667753726243973\n",
      "}\n"
     ]
    },
    {
     "name": "stderr",
     "output_type": "stream",
     "text": [
      "train epoch: 2, train loss: 0.0055822396468695095: 100%|██████████| 230/230 [01:10<00:00,  3.27it/s]\n"
     ]
    },
    {
     "name": "stdout",
     "output_type": "stream",
     "text": [
      "train metric ...\n",
      "{\n",
      "    \"PHR_10\": 0.05304678998911861,\n",
      "    \"PHR_20\": 0.08392274211099021,\n",
      "    \"PHR_30\": 0.10078890097932536,\n",
      "    \"PHR_40\": 0.11547878128400435,\n",
      "    \"ndcg_10\": 0.010081154294312,\n",
      "    \"ndcg_20\": 0.012588978745043278,\n",
      "    \"ndcg_30\": 0.013797716237604618,\n",
      "    \"ndcg_40\": 0.015017298981547356,\n",
      "    \"recall_10\": 0.013264212757349014,\n",
      "    \"recall_20\": 0.02126714028418064,\n",
      "    \"recall_30\": 0.02514103427529335,\n",
      "    \"recall_40\": 0.02960282377898693\n",
      "}\n"
     ]
    },
    {
     "name": "stderr",
     "output_type": "stream",
     "text": [
      "train epoch: 3, train loss: 0.005353321475179299: 100%|██████████| 230/230 [01:10<00:00,  3.28it/s]\n"
     ]
    },
    {
     "name": "stdout",
     "output_type": "stream",
     "text": [
      "train metric ...\n",
      "{\n",
      "    \"PHR_10\": 0.06515233949945592,\n",
      "    \"PHR_20\": 0.0926278563656148,\n",
      "    \"PHR_30\": 0.11411860718171926,\n",
      "    \"PHR_40\": 0.13152883569096843,\n",
      "    \"ndcg_10\": 0.013081713579595089,\n",
      "    \"ndcg_20\": 0.015129552222788334,\n",
      "    \"ndcg_30\": 0.01683715172111988,\n",
      "    \"ndcg_40\": 0.018171928822994232,\n",
      "    \"recall_10\": 0.017084237188100815,\n",
      "    \"recall_20\": 0.02367337979376316,\n",
      "    \"recall_30\": 0.02941194362938404,\n",
      "    \"recall_40\": 0.03398530185222626\n",
      "}\n"
     ]
    },
    {
     "name": "stderr",
     "output_type": "stream",
     "text": [
      "train epoch: 4, train loss: 0.005083258446994359: 100%|██████████| 230/230 [01:09<00:00,  3.29it/s]\n"
     ]
    },
    {
     "name": "stdout",
     "output_type": "stream",
     "text": [
      "train metric ...\n",
      "{\n",
      "    \"PHR_10\": 0.07807399347116431,\n",
      "    \"PHR_20\": 0.10405331882480957,\n",
      "    \"PHR_30\": 0.12826441784548423,\n",
      "    \"PHR_40\": 0.15356365614798695,\n",
      "    \"ndcg_10\": 0.016854193061590195,\n",
      "    \"ndcg_20\": 0.01882597990334034,\n",
      "    \"ndcg_30\": 0.02068321406841278,\n",
      "    \"ndcg_40\": 0.022516854107379913,\n",
      "    \"recall_10\": 0.0198065098375082,\n",
      "    \"recall_20\": 0.026390215381979942,\n",
      "    \"recall_30\": 0.03245111554861069,\n",
      "    \"recall_40\": 0.038487426936626434\n",
      "}\n"
     ]
    },
    {
     "name": "stderr",
     "output_type": "stream",
     "text": [
      "train epoch: 5, train loss: 0.004785376538158111: 100%|██████████| 230/230 [01:09<00:00,  3.29it/s]\n"
     ]
    },
    {
     "name": "stdout",
     "output_type": "stream",
     "text": [
      "train metric ...\n",
      "{\n",
      "    \"PHR_10\": 0.10378128400435256,\n",
      "    \"PHR_20\": 0.14921109902067464,\n",
      "    \"PHR_30\": 0.18253536452665942,\n",
      "    \"PHR_40\": 0.20674646354733406,\n",
      "    \"ndcg_10\": 0.02226068265736103,\n",
      "    \"ndcg_20\": 0.02585545741021633,\n",
      "    \"ndcg_30\": 0.028673293069005013,\n",
      "    \"ndcg_40\": 0.030740996822714806,\n",
      "    \"recall_10\": 0.026818105950951576,\n",
      "    \"recall_20\": 0.03782588988542557,\n",
      "    \"recall_30\": 0.04681480675935745,\n",
      "    \"recall_40\": 0.05366203933954239\n",
      "}\n"
     ]
    },
    {
     "name": "stderr",
     "output_type": "stream",
     "text": [
      "train epoch: 6, train loss: 0.004517130647866946: 100%|██████████| 230/230 [01:09<00:00,  3.31it/s]\n"
     ]
    },
    {
     "name": "stdout",
     "output_type": "stream",
     "text": [
      "train metric ...\n",
      "{\n",
      "    \"PHR_10\": 0.139689880304679,\n",
      "    \"PHR_20\": 0.19232861806311208,\n",
      "    \"PHR_30\": 0.2293253536452666,\n",
      "    \"PHR_40\": 0.25965723612622416,\n",
      "    \"ndcg_10\": 0.03241409733891487,\n",
      "    \"ndcg_20\": 0.037082985043525696,\n",
      "    \"ndcg_30\": 0.04059760272502899,\n",
      "    \"ndcg_40\": 0.04350460320711136,\n",
      "    \"recall_10\": 0.0364878810942173,\n",
      "    \"recall_20\": 0.05130583047866821,\n",
      "    \"recall_30\": 0.06271446496248245,\n",
      "    \"recall_40\": 0.07224157452583313\n",
      "}\n"
     ]
    },
    {
     "name": "stderr",
     "output_type": "stream",
     "text": [
      "train epoch: 7, train loss: 0.004388730373719464: 100%|██████████| 230/230 [01:09<00:00,  3.31it/s]\n"
     ]
    },
    {
     "name": "stdout",
     "output_type": "stream",
     "text": [
      "train metric ...\n",
      "{\n",
      "    \"PHR_10\": 0.16267682263329705,\n",
      "    \"PHR_20\": 0.22619695321001088,\n",
      "    \"PHR_30\": 0.26836235038084877,\n",
      "    \"PHR_40\": 0.3025027203482046,\n",
      "    \"ndcg_10\": 0.03823459520936012,\n",
      "    \"ndcg_20\": 0.04399608075618744,\n",
      "    \"ndcg_30\": 0.04801402613520622,\n",
      "    \"ndcg_40\": 0.05144452303647995,\n",
      "    \"recall_10\": 0.04387352243065834,\n",
      "    \"recall_20\": 0.062230050563812256,\n",
      "    \"recall_30\": 0.07489505410194397,\n",
      "    \"recall_40\": 0.08633597940206528\n",
      "}\n"
     ]
    },
    {
     "name": "stderr",
     "output_type": "stream",
     "text": [
      "validate epoch: 7, validate loss: 0.0042270375982574795: 100%|██████████| 230/230 [01:07<00:00,  3.43it/s]\n"
     ]
    },
    {
     "name": "stdout",
     "output_type": "stream",
     "text": [
      "validate metric ...\n",
      "{\n",
      "    \"PHR_10\": 0.21109147750441756,\n",
      "    \"PHR_20\": 0.2719858638031806,\n",
      "    \"PHR_30\": 0.29957863259480766,\n",
      "    \"PHR_40\": 0.3205110778850075,\n",
      "    \"ndcg_10\": 0.0672532245516777,\n",
      "    \"ndcg_20\": 0.07265675812959671,\n",
      "    \"ndcg_30\": 0.07647351175546646,\n",
      "    \"ndcg_40\": 0.07870171964168549,\n",
      "    \"recall_10\": 0.07190825790166855,\n",
      "    \"recall_20\": 0.08891291916370392,\n",
      "    \"recall_30\": 0.10118844360113144,\n",
      "    \"recall_40\": 0.10899454355239868\n",
      "}\n",
      "model save as ./DNNTSP/save_model_folder/TaFeng/DNNTSP/best_model.pkl\n",
      "cost 749 seconds\n"
     ]
    },
    {
     "name": "stderr",
     "output_type": "stream",
     "text": [
      "\u001b[32m[I 2023-04-15 11:53:26,547]\u001b[0m Trial 12 finished with value: 0.0672532245516777 and parameters: {'item_embed_dim': 16, 'n_heads': 1, 'attention_aggregate': 'concat', 'batch_size': 32, 'learning_rate': 0.09854233061041466, 'weight_decay': 5.636281752581488e-06}. Best is trial 9 with value: 0.07213349640369415.\u001b[0m\n"
     ]
    },
    {
     "name": "stdout",
     "output_type": "stream",
     "text": [
      "TaFeng/DNNTSP\n",
      "train data length -> 7352\n",
      "validate data length -> 7357\n",
      "temporal_set_prediction(\n",
      "  (item_embedding): Embedding(11202, 16)\n",
      "  (stacked_gcn): stacked_weighted_GCN_blocks(\n",
      "    (0): weighted_GCN(\n",
      "      (gcns): ModuleList(\n",
      "        (0-1): 2 x weighted_graph_conv(\n",
      "          (linear): Linear(in_features=16, out_features=16, bias=True)\n",
      "        )\n",
      "      )\n",
      "      (relus): ModuleList(\n",
      "        (0-1): 2 x ReLU()\n",
      "      )\n",
      "      (bns): ModuleList(\n",
      "        (0-1): 2 x BatchNorm1d(16, eps=1e-05, momentum=0.1, affine=True, track_running_stats=True)\n",
      "      )\n",
      "    )\n",
      "  )\n",
      "  (masked_self_attention): masked_self_attention(\n",
      "    (Wq): Linear(in_features=16, out_features=16, bias=False)\n",
      "    (Wk): Linear(in_features=16, out_features=16, bias=False)\n",
      "    (Wv): Linear(in_features=16, out_features=16, bias=False)\n",
      "  )\n",
      "  (aggregate_nodes_temporal_feature): aggregate_nodes_temporal_feature(\n",
      "    (Wq): Linear(in_features=16, out_features=1, bias=False)\n",
      "  )\n",
      "  (global_gated_update): global_gated_update(\n",
      "    (item_embedding): Embedding(11202, 16)\n",
      "  )\n",
      "  (fc_output): Linear(in_features=16, out_features=1, bias=True)\n",
      ")\n",
      "Adam (\n",
      "Parameter Group 0\n",
      "    amsgrad: False\n",
      "    betas: (0.9, 0.999)\n",
      "    capturable: False\n",
      "    differentiable: False\n",
      "    eps: 1e-08\n",
      "    foreach: None\n",
      "    fused: None\n",
      "    lr: 0.09195886437027284\n",
      "    maximize: False\n",
      "    weight_decay: 5.386309844015365e-06\n",
      ")\n"
     ]
    },
    {
     "name": "stderr",
     "output_type": "stream",
     "text": [
      "train epoch: 0, train loss: 0.02615139143055548: 100%|██████████| 230/230 [01:09<00:00,  3.31it/s]\n"
     ]
    },
    {
     "name": "stdout",
     "output_type": "stream",
     "text": [
      "train metric ...\n",
      "{\n",
      "    \"PHR_10\": 0.08161044613710555,\n",
      "    \"PHR_20\": 0.12431991294885746,\n",
      "    \"PHR_30\": 0.1557399347116431,\n",
      "    \"PHR_40\": 0.17478237214363437,\n",
      "    \"ndcg_10\": 0.017072545364499092,\n",
      "    \"ndcg_20\": 0.020699724555015564,\n",
      "    \"ndcg_30\": 0.023365257307887077,\n",
      "    \"ndcg_40\": 0.024793487042188644,\n",
      "    \"recall_10\": 0.02123239077627659,\n",
      "    \"recall_20\": 0.03206068277359009,\n",
      "    \"recall_30\": 0.04024093970656395,\n",
      "    \"recall_40\": 0.044842980802059174\n",
      "}\n"
     ]
    },
    {
     "name": "stderr",
     "output_type": "stream",
     "text": [
      "train epoch: 1, train loss: 0.005953284766039122: 100%|██████████| 230/230 [01:09<00:00,  3.30it/s]\n"
     ]
    },
    {
     "name": "stdout",
     "output_type": "stream",
     "text": [
      "train metric ...\n",
      "{\n",
      "    \"PHR_10\": 0.05563112078346028,\n",
      "    \"PHR_20\": 0.0882752992383025,\n",
      "    \"PHR_30\": 0.11262241566920565,\n",
      "    \"PHR_40\": 0.1263601741022851,\n",
      "    \"ndcg_10\": 0.011048583313822746,\n",
      "    \"ndcg_20\": 0.013804103247821331,\n",
      "    \"ndcg_30\": 0.01569434069097042,\n",
      "    \"ndcg_40\": 0.016737960278987885,\n",
      "    \"recall_10\": 0.014526545070111752,\n",
      "    \"recall_20\": 0.022856520488858223,\n",
      "    \"recall_30\": 0.02889050729572773,\n",
      "    \"recall_40\": 0.03263765573501587\n",
      "}\n"
     ]
    },
    {
     "name": "stderr",
     "output_type": "stream",
     "text": [
      "train epoch: 2, train loss: 0.005797680030050485: 100%|██████████| 230/230 [01:09<00:00,  3.32it/s]\n"
     ]
    },
    {
     "name": "stdout",
     "output_type": "stream",
     "text": [
      "train metric ...\n",
      "{\n",
      "    \"PHR_10\": 0.04978237214363439,\n",
      "    \"PHR_20\": 0.07453754080522307,\n",
      "    \"PHR_30\": 0.09167573449401524,\n",
      "    \"PHR_40\": 0.1043253536452666,\n",
      "    \"ndcg_10\": 0.009876334108412266,\n",
      "    \"ndcg_20\": 0.011793816462159157,\n",
      "    \"ndcg_30\": 0.012984048575162888,\n",
      "    \"ndcg_40\": 0.013900181278586388,\n",
      "    \"recall_10\": 0.012465130537748337,\n",
      "    \"recall_20\": 0.018766585737466812,\n",
      "    \"recall_30\": 0.022514736279845238,\n",
      "    \"recall_40\": 0.025596141815185547\n",
      "}\n"
     ]
    },
    {
     "name": "stderr",
     "output_type": "stream",
     "text": [
      "train epoch: 3, train loss: 0.005444156725728965: 100%|██████████| 230/230 [01:09<00:00,  3.31it/s]\n"
     ]
    },
    {
     "name": "stdout",
     "output_type": "stream",
     "text": [
      "train metric ...\n",
      "{\n",
      "    \"PHR_10\": 0.056311207834602826,\n",
      "    \"PHR_20\": 0.08691512513601742,\n",
      "    \"PHR_30\": 0.10337323177366703,\n",
      "    \"PHR_40\": 0.11874319912948858,\n",
      "    \"ndcg_10\": 0.01090988889336586,\n",
      "    \"ndcg_20\": 0.013403410091996193,\n",
      "    \"ndcg_30\": 0.014686866663396358,\n",
      "    \"ndcg_40\": 0.01573537476360798,\n",
      "    \"recall_10\": 0.015048438683152199,\n",
      "    \"recall_20\": 0.0229220949113369,\n",
      "    \"recall_30\": 0.02720143273472786,\n",
      "    \"recall_40\": 0.030767211690545082\n",
      "}\n"
     ]
    },
    {
     "name": "stderr",
     "output_type": "stream",
     "text": [
      "train epoch: 4, train loss: 0.005264436818011429: 100%|██████████| 230/230 [01:09<00:00,  3.32it/s]\n"
     ]
    },
    {
     "name": "stdout",
     "output_type": "stream",
     "text": [
      "train metric ...\n",
      "{\n",
      "    \"PHR_10\": 0.06692056583242655,\n",
      "    \"PHR_20\": 0.09317192600652884,\n",
      "    \"PHR_30\": 0.11561479869423286,\n",
      "    \"PHR_40\": 0.1326169749727965,\n",
      "    \"ndcg_10\": 0.013555156998336315,\n",
      "    \"ndcg_20\": 0.015549184754490852,\n",
      "    \"ndcg_30\": 0.01727728359401226,\n",
      "    \"ndcg_40\": 0.018524929881095886,\n",
      "    \"recall_10\": 0.016976498067378998,\n",
      "    \"recall_20\": 0.023609761148691177,\n",
      "    \"recall_30\": 0.029462886974215508,\n",
      "    \"recall_40\": 0.033663809299468994\n",
      "}\n"
     ]
    },
    {
     "name": "stderr",
     "output_type": "stream",
     "text": [
      "train epoch: 5, train loss: 0.005042746336118359: 100%|██████████| 230/230 [01:09<00:00,  3.30it/s]\n"
     ]
    },
    {
     "name": "stdout",
     "output_type": "stream",
     "text": [
      "train metric ...\n",
      "{\n",
      "    \"PHR_10\": 0.07684983677910773,\n",
      "    \"PHR_20\": 0.10092491838955386,\n",
      "    \"PHR_30\": 0.12880848748639825,\n",
      "    \"PHR_40\": 0.15560391730141457,\n",
      "    \"ndcg_10\": 0.016468560323119164,\n",
      "    \"ndcg_20\": 0.018178625032305717,\n",
      "    \"ndcg_30\": 0.020283687859773636,\n",
      "    \"ndcg_40\": 0.02225925587117672,\n",
      "    \"recall_10\": 0.01960425265133381,\n",
      "    \"recall_20\": 0.025510113686323166,\n",
      "    \"recall_30\": 0.032276999205350876,\n",
      "    \"recall_40\": 0.038882434368133545\n",
      "}\n"
     ]
    },
    {
     "name": "stderr",
     "output_type": "stream",
     "text": [
      "train epoch: 6, train loss: 0.004789170392019594: 100%|██████████| 230/230 [01:09<00:00,  3.30it/s]\n"
     ]
    },
    {
     "name": "stdout",
     "output_type": "stream",
     "text": [
      "train metric ...\n",
      "{\n",
      "    \"PHR_10\": 0.10514145810663765,\n",
      "    \"PHR_20\": 0.14948313384113165,\n",
      "    \"PHR_30\": 0.1838955386289445,\n",
      "    \"PHR_40\": 0.20701849836779107,\n",
      "    \"ndcg_10\": 0.022816533222794533,\n",
      "    \"ndcg_20\": 0.02632233314216137,\n",
      "    \"ndcg_30\": 0.029250191524624825,\n",
      "    \"ndcg_40\": 0.03127547353506088,\n",
      "    \"recall_10\": 0.026809830218553543,\n",
      "    \"recall_20\": 0.037897989153862,\n",
      "    \"recall_30\": 0.0471799336373806,\n",
      "    \"recall_40\": 0.053996238857507706\n",
      "}\n"
     ]
    },
    {
     "name": "stderr",
     "output_type": "stream",
     "text": [
      "train epoch: 7, train loss: 0.004543048582728143: 100%|██████████| 230/230 [01:09<00:00,  3.29it/s]\n"
     ]
    },
    {
     "name": "stdout",
     "output_type": "stream",
     "text": [
      "train metric ...\n",
      "{\n",
      "    \"PHR_10\": 0.13275299238302501,\n",
      "    \"PHR_20\": 0.18647986942328618,\n",
      "    \"PHR_30\": 0.22157236126224156,\n",
      "    \"PHR_40\": 0.25081610446137104,\n",
      "    \"ndcg_10\": 0.03022819012403488,\n",
      "    \"ndcg_20\": 0.03498169034719467,\n",
      "    \"ndcg_30\": 0.03825528919696808,\n",
      "    \"ndcg_40\": 0.041069094091653824,\n",
      "    \"recall_10\": 0.03403294086456299,\n",
      "    \"recall_20\": 0.049304842948913574,\n",
      "    \"recall_30\": 0.059519119560718536,\n",
      "    \"recall_40\": 0.06878357380628586\n",
      "}\n"
     ]
    },
    {
     "name": "stderr",
     "output_type": "stream",
     "text": [
      "validate epoch: 7, validate loss: 0.004284807024321154: 100%|██████████| 230/230 [01:07<00:00,  3.40it/s]\n"
     ]
    },
    {
     "name": "stdout",
     "output_type": "stream",
     "text": [
      "validate metric ...\n"
     ]
    },
    {
     "name": "stderr",
     "output_type": "stream",
     "text": [
      "\u001b[32m[I 2023-04-15 12:05:56,036]\u001b[0m Trial 13 finished with value: 0.060704972594976425 and parameters: {'item_embed_dim': 16, 'n_heads': 1, 'attention_aggregate': 'mean', 'batch_size': 32, 'learning_rate': 0.09195886437027284, 'weight_decay': 5.386309844015365e-06}. Best is trial 9 with value: 0.07213349640369415.\u001b[0m\n"
     ]
    },
    {
     "name": "stdout",
     "output_type": "stream",
     "text": [
      "{\n",
      "    \"PHR_10\": 0.18716868288704636,\n",
      "    \"PHR_20\": 0.22169362511893434,\n",
      "    \"PHR_30\": 0.2631507407910833,\n",
      "    \"PHR_40\": 0.29060758461329345,\n",
      "    \"ndcg_10\": 0.060704972594976425,\n",
      "    \"ndcg_20\": 0.06397435814142227,\n",
      "    \"ndcg_30\": 0.06809794157743454,\n",
      "    \"ndcg_40\": 0.07167229056358337,\n",
      "    \"recall_10\": 0.05813909322023392,\n",
      "    \"recall_20\": 0.06947735697031021,\n",
      "    \"recall_30\": 0.08392104506492615,\n",
      "    \"recall_40\": 0.09588788449764252\n",
      "}\n",
      "model save as ./DNNTSP/save_model_folder/TaFeng/DNNTSP/best_model.pkl\n",
      "cost 744 seconds\n",
      "TaFeng/DNNTSP\n",
      "train data length -> 7352\n",
      "validate data length -> 7357\n",
      "temporal_set_prediction(\n",
      "  (item_embedding): Embedding(11202, 16)\n",
      "  (stacked_gcn): stacked_weighted_GCN_blocks(\n",
      "    (0): weighted_GCN(\n",
      "      (gcns): ModuleList(\n",
      "        (0-1): 2 x weighted_graph_conv(\n",
      "          (linear): Linear(in_features=16, out_features=16, bias=True)\n",
      "        )\n",
      "      )\n",
      "      (relus): ModuleList(\n",
      "        (0-1): 2 x ReLU()\n",
      "      )\n",
      "      (bns): ModuleList(\n",
      "        (0-1): 2 x BatchNorm1d(16, eps=1e-05, momentum=0.1, affine=True, track_running_stats=True)\n",
      "      )\n",
      "    )\n",
      "  )\n",
      "  (masked_self_attention): masked_self_attention(\n",
      "    (Wq): Linear(in_features=16, out_features=16, bias=False)\n",
      "    (Wk): Linear(in_features=16, out_features=16, bias=False)\n",
      "    (Wv): Linear(in_features=16, out_features=16, bias=False)\n",
      "  )\n",
      "  (aggregate_nodes_temporal_feature): aggregate_nodes_temporal_feature(\n",
      "    (Wq): Linear(in_features=16, out_features=1, bias=False)\n",
      "  )\n",
      "  (global_gated_update): global_gated_update(\n",
      "    (item_embedding): Embedding(11202, 16)\n",
      "  )\n",
      "  (fc_output): Linear(in_features=16, out_features=1, bias=True)\n",
      ")\n",
      "Adam (\n",
      "Parameter Group 0\n",
      "    amsgrad: False\n",
      "    betas: (0.9, 0.999)\n",
      "    capturable: False\n",
      "    differentiable: False\n",
      "    eps: 1e-08\n",
      "    foreach: None\n",
      "    fused: None\n",
      "    lr: 0.0076281872828971664\n",
      "    maximize: False\n",
      "    weight_decay: 1.3858000147132485e-06\n",
      ")\n"
     ]
    },
    {
     "name": "stderr",
     "output_type": "stream",
     "text": [
      "train epoch: 0, train loss: 0.12352741548548574: 100%|██████████| 230/230 [01:09<00:00,  3.30it/s]\n"
     ]
    },
    {
     "name": "stdout",
     "output_type": "stream",
     "text": [
      "train metric ...\n",
      "{\n",
      "    \"PHR_10\": 0.06746463547334058,\n",
      "    \"PHR_20\": 0.095620239390642,\n",
      "    \"PHR_30\": 0.11493471164309031,\n",
      "    \"PHR_40\": 0.13152883569096843,\n",
      "    \"ndcg_10\": 0.014975756406784058,\n",
      "    \"ndcg_20\": 0.01730235293507576,\n",
      "    \"ndcg_30\": 0.019084421917796135,\n",
      "    \"ndcg_40\": 0.020633701235055923,\n",
      "    \"recall_10\": 0.01754029467701912,\n",
      "    \"recall_20\": 0.024952011182904243,\n",
      "    \"recall_30\": 0.03069954179227352,\n",
      "    \"recall_40\": 0.036073777824640274\n",
      "}\n"
     ]
    },
    {
     "name": "stderr",
     "output_type": "stream",
     "text": [
      "train epoch: 1, train loss: 0.007971849557741181: 100%|██████████| 230/230 [01:09<00:00,  3.29it/s]\n"
     ]
    },
    {
     "name": "stdout",
     "output_type": "stream",
     "text": [
      "train metric ...\n",
      "{\n",
      "    \"PHR_10\": 0.26332970620239393,\n",
      "    \"PHR_20\": 0.34915669205658323,\n",
      "    \"PHR_30\": 0.40233949945593034,\n",
      "    \"PHR_40\": 0.44096844396082696,\n",
      "    \"ndcg_10\": 0.062475405633449554,\n",
      "    \"ndcg_20\": 0.07200069725513458,\n",
      "    \"ndcg_30\": 0.07882943004369736,\n",
      "    \"ndcg_40\": 0.08378210663795471,\n",
      "    \"recall_10\": 0.07669941335916519,\n",
      "    \"recall_20\": 0.10739659518003464,\n",
      "    \"recall_30\": 0.12869079411029816,\n",
      "    \"recall_40\": 0.14440716803073883\n",
      "}\n"
     ]
    },
    {
     "name": "stderr",
     "output_type": "stream",
     "text": [
      "train epoch: 2, train loss: 0.006537339603528381: 100%|██████████| 230/230 [01:09<00:00,  3.30it/s]\n"
     ]
    },
    {
     "name": "stdout",
     "output_type": "stream",
     "text": [
      "train metric ...\n",
      "{\n",
      "    \"PHR_10\": 0.265233949945593,\n",
      "    \"PHR_20\": 0.3397714907508161,\n",
      "    \"PHR_30\": 0.3945865070729053,\n",
      "    \"PHR_40\": 0.4385201305767138,\n",
      "    \"ndcg_10\": 0.06302200257778168,\n",
      "    \"ndcg_20\": 0.07086407393217087,\n",
      "    \"ndcg_30\": 0.07784248143434525,\n",
      "    \"ndcg_40\": 0.08337432891130447,\n",
      "    \"recall_10\": 0.07712186872959137,\n",
      "    \"recall_20\": 0.10268017649650574,\n",
      "    \"recall_30\": 0.12467090040445328,\n",
      "    \"recall_40\": 0.14256839454174042\n",
      "}\n"
     ]
    },
    {
     "name": "stderr",
     "output_type": "stream",
     "text": [
      "train epoch: 3, train loss: 0.005825219987689153: 100%|██████████| 230/230 [01:09<00:00,  3.31it/s]\n"
     ]
    },
    {
     "name": "stdout",
     "output_type": "stream",
     "text": [
      "train metric ...\n",
      "{\n",
      "    \"PHR_10\": 0.2675462459194777,\n",
      "    \"PHR_20\": 0.34752448313384116,\n",
      "    \"PHR_30\": 0.3981229597388466,\n",
      "    \"PHR_40\": 0.44056039173014144,\n",
      "    \"ndcg_10\": 0.06311167031526566,\n",
      "    \"ndcg_20\": 0.07215213775634766,\n",
      "    \"ndcg_30\": 0.07868588715791702,\n",
      "    \"ndcg_40\": 0.08406633138656616,\n",
      "    \"recall_10\": 0.07681893557310104,\n",
      "    \"recall_20\": 0.1053985059261322,\n",
      "    \"recall_30\": 0.12604722380638123,\n",
      "    \"recall_40\": 0.14355455338954926\n",
      "}\n"
     ]
    },
    {
     "name": "stderr",
     "output_type": "stream",
     "text": [
      "train epoch: 4, train loss: 0.00544602211524287: 100%|██████████| 230/230 [01:09<00:00,  3.30it/s]\n"
     ]
    },
    {
     "name": "stdout",
     "output_type": "stream",
     "text": [
      "train metric ...\n",
      "{\n",
      "    \"PHR_10\": 0.24211099020674645,\n",
      "    \"PHR_20\": 0.32412948857453755,\n",
      "    \"PHR_30\": 0.374455930359086,\n",
      "    \"PHR_40\": 0.4160772578890098,\n",
      "    \"ndcg_10\": 0.05631333217024803,\n",
      "    \"ndcg_20\": 0.06510761380195618,\n",
      "    \"ndcg_30\": 0.0716404989361763,\n",
      "    \"ndcg_40\": 0.07688415795564651,\n",
      "    \"recall_10\": 0.0674336850643158,\n",
      "    \"recall_20\": 0.09493261575698853,\n",
      "    \"recall_30\": 0.1156526580452919,\n",
      "    \"recall_40\": 0.13305369019508362\n",
      "}\n"
     ]
    },
    {
     "name": "stderr",
     "output_type": "stream",
     "text": [
      "train epoch: 5, train loss: 0.005199855498200201: 100%|██████████| 230/230 [01:09<00:00,  3.30it/s]\n"
     ]
    },
    {
     "name": "stdout",
     "output_type": "stream",
     "text": [
      "train metric ...\n",
      "{\n",
      "    \"PHR_10\": 0.24061479869423286,\n",
      "    \"PHR_20\": 0.32004896626768226,\n",
      "    \"PHR_30\": 0.36847116430903154,\n",
      "    \"PHR_40\": 0.41226877040261156,\n",
      "    \"ndcg_10\": 0.056512728333473206,\n",
      "    \"ndcg_20\": 0.06479139626026154,\n",
      "    \"ndcg_30\": 0.0709102600812912,\n",
      "    \"ndcg_40\": 0.07626614719629288,\n",
      "    \"recall_10\": 0.06743498891592026,\n",
      "    \"recall_20\": 0.09333955496549606,\n",
      "    \"recall_30\": 0.11284872144460678,\n",
      "    \"recall_40\": 0.1305815726518631\n",
      "}\n"
     ]
    },
    {
     "name": "stderr",
     "output_type": "stream",
     "text": [
      "train epoch: 6, train loss: 0.005017491983776184: 100%|██████████| 230/230 [01:09<00:00,  3.31it/s]\n"
     ]
    },
    {
     "name": "stdout",
     "output_type": "stream",
     "text": [
      "train metric ...\n",
      "{\n",
      "    \"PHR_10\": 0.24768770402611534,\n",
      "    \"PHR_20\": 0.3252176278563656,\n",
      "    \"PHR_30\": 0.375272034820457,\n",
      "    \"PHR_40\": 0.4134929270946681,\n",
      "    \"ndcg_10\": 0.059589117765426636,\n",
      "    \"ndcg_20\": 0.06802956014871597,\n",
      "    \"ndcg_30\": 0.07392343133687973,\n",
      "    \"ndcg_40\": 0.07869231700897217,\n",
      "    \"recall_10\": 0.06923083961009979,\n",
      "    \"recall_20\": 0.09633287787437439,\n",
      "    \"recall_30\": 0.1148281842470169,\n",
      "    \"recall_40\": 0.1303674876689911\n",
      "}\n"
     ]
    },
    {
     "name": "stderr",
     "output_type": "stream",
     "text": [
      "train epoch: 7, train loss: 0.004884847965212944: 100%|██████████| 230/230 [01:09<00:00,  3.30it/s]\n"
     ]
    },
    {
     "name": "stdout",
     "output_type": "stream",
     "text": [
      "train metric ...\n",
      "{\n",
      "    \"PHR_10\": 0.25095212187159954,\n",
      "    \"PHR_20\": 0.3288900979325354,\n",
      "    \"PHR_30\": 0.3794885745375408,\n",
      "    \"PHR_40\": 0.4159412404787813,\n",
      "    \"ndcg_10\": 0.0603516511619091,\n",
      "    \"ndcg_20\": 0.06884792447090149,\n",
      "    \"ndcg_30\": 0.0748189240694046,\n",
      "    \"ndcg_40\": 0.07943722605705261,\n",
      "    \"recall_10\": 0.07037799805402756,\n",
      "    \"recall_20\": 0.09783988445997238,\n",
      "    \"recall_30\": 0.11665087193250656,\n",
      "    \"recall_40\": 0.13216419517993927\n",
      "}\n"
     ]
    },
    {
     "name": "stderr",
     "output_type": "stream",
     "text": [
      "validate epoch: 7, validate loss: 0.004750174978424025: 100%|██████████| 230/230 [01:07<00:00,  3.43it/s]\n"
     ]
    },
    {
     "name": "stdout",
     "output_type": "stream",
     "text": [
      "validate metric ...\n"
     ]
    },
    {
     "name": "stderr",
     "output_type": "stream",
     "text": [
      "\u001b[32m[I 2023-04-15 12:18:25,919]\u001b[0m Trial 14 finished with value: 0.08854873478412628 and parameters: {'item_embed_dim': 16, 'n_heads': 1, 'attention_aggregate': 'mean', 'batch_size': 32, 'learning_rate': 0.0076281872828971664, 'weight_decay': 1.3858000147132485e-06}. Best is trial 14 with value: 0.08854873478412628.\u001b[0m\n"
     ]
    },
    {
     "name": "stdout",
     "output_type": "stream",
     "text": [
      "{\n",
      "    \"PHR_10\": 0.3262199266005165,\n",
      "    \"PHR_20\": 0.40260975941280414,\n",
      "    \"PHR_30\": 0.4492320239227946,\n",
      "    \"PHR_40\": 0.48212586652168005,\n",
      "    \"ndcg_10\": 0.08854873478412628,\n",
      "    \"ndcg_20\": 0.0976468026638031,\n",
      "    \"ndcg_30\": 0.10460521280765533,\n",
      "    \"ndcg_40\": 0.10995007306337357,\n",
      "    \"recall_10\": 0.10268538445234299,\n",
      "    \"recall_20\": 0.13207031786441803,\n",
      "    \"recall_30\": 0.15373629331588745,\n",
      "    \"recall_40\": 0.1710355579853058\n",
      "}\n",
      "model save as ./DNNTSP/save_model_folder/TaFeng/DNNTSP/best_model.pkl\n",
      "cost 745 seconds\n",
      "TaFeng/DNNTSP\n",
      "train data length -> 7352\n",
      "validate data length -> 7357\n",
      "temporal_set_prediction(\n",
      "  (item_embedding): Embedding(11202, 16)\n",
      "  (stacked_gcn): stacked_weighted_GCN_blocks(\n",
      "    (0): weighted_GCN(\n",
      "      (gcns): ModuleList(\n",
      "        (0-1): 2 x weighted_graph_conv(\n",
      "          (linear): Linear(in_features=16, out_features=16, bias=True)\n",
      "        )\n",
      "      )\n",
      "      (relus): ModuleList(\n",
      "        (0-1): 2 x ReLU()\n",
      "      )\n",
      "      (bns): ModuleList(\n",
      "        (0-1): 2 x BatchNorm1d(16, eps=1e-05, momentum=0.1, affine=True, track_running_stats=True)\n",
      "      )\n",
      "    )\n",
      "  )\n",
      "  (masked_self_attention): masked_self_attention(\n",
      "    (Wq): Linear(in_features=16, out_features=16, bias=False)\n",
      "    (Wk): Linear(in_features=16, out_features=16, bias=False)\n",
      "    (Wv): Linear(in_features=16, out_features=16, bias=False)\n",
      "  )\n",
      "  (aggregate_nodes_temporal_feature): aggregate_nodes_temporal_feature(\n",
      "    (Wq): Linear(in_features=16, out_features=1, bias=False)\n",
      "  )\n",
      "  (global_gated_update): global_gated_update(\n",
      "    (item_embedding): Embedding(11202, 16)\n",
      "  )\n",
      "  (fc_output): Linear(in_features=16, out_features=1, bias=True)\n",
      ")\n",
      "Adam (\n",
      "Parameter Group 0\n",
      "    amsgrad: False\n",
      "    betas: (0.9, 0.999)\n",
      "    capturable: False\n",
      "    differentiable: False\n",
      "    eps: 1e-08\n",
      "    foreach: None\n",
      "    fused: None\n",
      "    lr: 0.010501466404711248\n",
      "    maximize: False\n",
      "    weight_decay: 1.246873180563682e-06\n",
      ")\n"
     ]
    },
    {
     "name": "stderr",
     "output_type": "stream",
     "text": [
      "train epoch: 0, train loss: 0.07976033789429651: 100%|██████████| 230/230 [01:09<00:00,  3.29it/s]\n"
     ]
    },
    {
     "name": "stdout",
     "output_type": "stream",
     "text": [
      "train metric ...\n",
      "{\n",
      "    \"PHR_10\": 0.14200217627856365,\n",
      "    \"PHR_20\": 0.19015233949945592,\n",
      "    \"PHR_30\": 0.2219804134929271,\n",
      "    \"PHR_40\": 0.24360718171926007,\n",
      "    \"ndcg_10\": 0.031117277219891548,\n",
      "    \"ndcg_20\": 0.03613559529185295,\n",
      "    \"ndcg_30\": 0.03959652781486511,\n",
      "    \"ndcg_40\": 0.042083367705345154,\n",
      "    \"recall_10\": 0.03753523528575897,\n",
      "    \"recall_20\": 0.05403735116124153,\n",
      "    \"recall_30\": 0.06503811478614807,\n",
      "    \"recall_40\": 0.07308924943208694\n",
      "}\n"
     ]
    },
    {
     "name": "stderr",
     "output_type": "stream",
     "text": [
      "train epoch: 1, train loss: 0.006487484254023951: 100%|██████████| 230/230 [01:10<00:00,  3.25it/s]\n"
     ]
    },
    {
     "name": "stdout",
     "output_type": "stream",
     "text": [
      "train metric ...\n",
      "{\n",
      "    \"PHR_10\": 0.2663220892274211,\n",
      "    \"PHR_20\": 0.3408596300326442,\n",
      "    \"PHR_30\": 0.3910500544069641,\n",
      "    \"PHR_40\": 0.4280467899891186,\n",
      "    \"ndcg_10\": 0.06465816497802734,\n",
      "    \"ndcg_20\": 0.07228074967861176,\n",
      "    \"ndcg_30\": 0.07867738604545593,\n",
      "    \"ndcg_40\": 0.08361981809139252,\n",
      "    \"recall_10\": 0.07689019292593002,\n",
      "    \"recall_20\": 0.10259941220283508,\n",
      "    \"recall_30\": 0.12304612249135971,\n",
      "    \"recall_40\": 0.13874664902687073\n",
      "}\n"
     ]
    },
    {
     "name": "stderr",
     "output_type": "stream",
     "text": [
      "train epoch: 2, train loss: 0.005459129454001136: 100%|██████████| 230/230 [01:09<00:00,  3.31it/s]\n"
     ]
    },
    {
     "name": "stdout",
     "output_type": "stream",
     "text": [
      "train metric ...\n",
      "{\n",
      "    \"PHR_10\": 0.25081610446137104,\n",
      "    \"PHR_20\": 0.33011425462459193,\n",
      "    \"PHR_30\": 0.3785364526659412,\n",
      "    \"PHR_40\": 0.4192056583242655,\n",
      "    \"ndcg_10\": 0.05945557355880737,\n",
      "    \"ndcg_20\": 0.06794413924217224,\n",
      "    \"ndcg_30\": 0.07405389845371246,\n",
      "    \"ndcg_40\": 0.07912329584360123,\n",
      "    \"recall_10\": 0.07060180604457855,\n",
      "    \"recall_20\": 0.0977332815527916,\n",
      "    \"recall_30\": 0.11707841604948044,\n",
      "    \"recall_40\": 0.13432349264621735\n",
      "}\n"
     ]
    },
    {
     "name": "stderr",
     "output_type": "stream",
     "text": [
      "train epoch: 3, train loss: 0.005045812131594057: 100%|██████████| 230/230 [01:09<00:00,  3.29it/s]\n"
     ]
    },
    {
     "name": "stdout",
     "output_type": "stream",
     "text": [
      "train metric ...\n",
      "{\n",
      "    \"PHR_10\": 0.23177366702937977,\n",
      "    \"PHR_20\": 0.3117519042437432,\n",
      "    \"PHR_30\": 0.3646626768226333,\n",
      "    \"PHR_40\": 0.4030195865070729,\n",
      "    \"ndcg_10\": 0.05533893406391144,\n",
      "    \"ndcg_20\": 0.06389574706554413,\n",
      "    \"ndcg_30\": 0.06995318084955215,\n",
      "    \"ndcg_40\": 0.0748039111495018,\n",
      "    \"recall_10\": 0.0643952265381813,\n",
      "    \"recall_20\": 0.09178865700960159,\n",
      "    \"recall_30\": 0.11059652268886566,\n",
      "    \"recall_40\": 0.12684215605258942\n",
      "}\n"
     ]
    },
    {
     "name": "stderr",
     "output_type": "stream",
     "text": [
      "train epoch: 4, train loss: 0.00482270916842896: 100%|██████████| 230/230 [01:10<00:00,  3.25it/s]\n"
     ]
    },
    {
     "name": "stdout",
     "output_type": "stream",
     "text": [
      "train metric ...\n",
      "{\n",
      "    \"PHR_10\": 0.22320457018498369,\n",
      "    \"PHR_20\": 0.3003264417845484,\n",
      "    \"PHR_30\": 0.35106093579978237,\n",
      "    \"PHR_40\": 0.39159412404787813,\n",
      "    \"ndcg_10\": 0.05246961489319801,\n",
      "    \"ndcg_20\": 0.060743995010852814,\n",
      "    \"ndcg_30\": 0.06643649935722351,\n",
      "    \"ndcg_40\": 0.07133375108242035,\n",
      "    \"recall_10\": 0.06080657243728638,\n",
      "    \"recall_20\": 0.08699923753738403,\n",
      "    \"recall_30\": 0.10497172176837921,\n",
      "    \"recall_40\": 0.12120970338582993\n",
      "}\n"
     ]
    },
    {
     "name": "stderr",
     "output_type": "stream",
     "text": [
      "train epoch: 5, train loss: 0.00468007773667088: 100%|██████████| 230/230 [01:09<00:00,  3.29it/s]\n"
     ]
    },
    {
     "name": "stdout",
     "output_type": "stream",
     "text": [
      "train metric ...\n",
      "{\n",
      "    \"PHR_10\": 0.23054951033732318,\n",
      "    \"PHR_20\": 0.3065832426550599,\n",
      "    \"PHR_30\": 0.35378128400435255,\n",
      "    \"PHR_40\": 0.3895538628944505,\n",
      "    \"ndcg_10\": 0.05400126427412033,\n",
      "    \"ndcg_20\": 0.06206268072128296,\n",
      "    \"ndcg_30\": 0.06759911775588989,\n",
      "    \"ndcg_40\": 0.07194375991821289,\n",
      "    \"recall_10\": 0.06266851723194122,\n",
      "    \"recall_20\": 0.08840008080005646,\n",
      "    \"recall_30\": 0.10605137050151825,\n",
      "    \"recall_40\": 0.12016308307647705\n",
      "}\n"
     ]
    },
    {
     "name": "stderr",
     "output_type": "stream",
     "text": [
      "train epoch: 6, train loss: 0.0045858130294262715: 100%|██████████| 230/230 [01:10<00:00,  3.28it/s]\n"
     ]
    },
    {
     "name": "stdout",
     "output_type": "stream",
     "text": [
      "train metric ...\n",
      "{\n",
      "    \"PHR_10\": 0.2309575625680087,\n",
      "    \"PHR_20\": 0.3076713819368879,\n",
      "    \"PHR_30\": 0.3524211099020675,\n",
      "    \"PHR_40\": 0.38846572361262244,\n",
      "    \"ndcg_10\": 0.055053967982530594,\n",
      "    \"ndcg_20\": 0.06284838914871216,\n",
      "    \"ndcg_30\": 0.06834264099597931,\n",
      "    \"ndcg_40\": 0.07252909243106842,\n",
      "    \"recall_10\": 0.0635479986667633,\n",
      "    \"recall_20\": 0.0887153297662735,\n",
      "    \"recall_30\": 0.10640013217926025,\n",
      "    \"recall_40\": 0.12000102549791336\n",
      "}\n"
     ]
    },
    {
     "name": "stderr",
     "output_type": "stream",
     "text": [
      "train epoch: 7, train loss: 0.004520167766705803: 100%|██████████| 230/230 [01:10<00:00,  3.26it/s]\n"
     ]
    },
    {
     "name": "stdout",
     "output_type": "stream",
     "text": [
      "train metric ...\n",
      "{\n",
      "    \"PHR_10\": 0.23014145810663764,\n",
      "    \"PHR_20\": 0.3045429815016322,\n",
      "    \"PHR_30\": 0.35092491838955386,\n",
      "    \"PHR_40\": 0.38479325353645266,\n",
      "    \"ndcg_10\": 0.054950591176748276,\n",
      "    \"ndcg_20\": 0.06250114738941193,\n",
      "    \"ndcg_30\": 0.06813745945692062,\n",
      "    \"ndcg_40\": 0.07206352800130844,\n",
      "    \"recall_10\": 0.06307986378669739,\n",
      "    \"recall_20\": 0.087945856153965,\n",
      "    \"recall_30\": 0.10578373819589615,\n",
      "    \"recall_40\": 0.1185765340924263\n",
      "}\n"
     ]
    },
    {
     "name": "stderr",
     "output_type": "stream",
     "text": [
      "validate epoch: 7, validate loss: 0.004339239885018248: 100%|██████████| 230/230 [01:08<00:00,  3.38it/s]\n"
     ]
    },
    {
     "name": "stdout",
     "output_type": "stream",
     "text": [
      "validate metric ...\n",
      "{\n",
      "    \"PHR_10\": 0.2722577137420144,\n",
      "    \"PHR_20\": 0.34239499796112544,\n",
      "    \"PHR_30\": 0.37025961669158625,\n",
      "    \"PHR_40\": 0.40777490825064566,\n",
      "    \"ndcg_10\": 0.07852281630039215,\n",
      "    \"ndcg_20\": 0.08575296401977539,\n",
      "    \"ndcg_30\": 0.0898883193731308,\n",
      "    \"ndcg_40\": 0.09502352029085159,\n",
      "    \"recall_10\": 0.08735279738903046,\n",
      "    \"recall_20\": 0.10956514626741409,\n",
      "    \"recall_30\": 0.12232945114374161,\n",
      "    \"recall_40\": 0.14015042781829834\n",
      "}\n",
      "model save as ./DNNTSP/save_model_folder/TaFeng/DNNTSP/best_model.pkl\n",
      "cost 750 seconds\n"
     ]
    },
    {
     "name": "stderr",
     "output_type": "stream",
     "text": [
      "\u001b[32m[I 2023-04-15 12:31:02,467]\u001b[0m Trial 15 finished with value: 0.07852281630039215 and parameters: {'item_embed_dim': 16, 'n_heads': 1, 'attention_aggregate': 'mean', 'batch_size': 32, 'learning_rate': 0.010501466404711248, 'weight_decay': 1.246873180563682e-06}. Best is trial 14 with value: 0.08854873478412628.\u001b[0m\n"
     ]
    },
    {
     "name": "stdout",
     "output_type": "stream",
     "text": [
      "TaFeng/DNNTSP\n",
      "train data length -> 7352\n",
      "validate data length -> 7357\n",
      "temporal_set_prediction(\n",
      "  (item_embedding): Embedding(11202, 16)\n",
      "  (stacked_gcn): stacked_weighted_GCN_blocks(\n",
      "    (0): weighted_GCN(\n",
      "      (gcns): ModuleList(\n",
      "        (0-1): 2 x weighted_graph_conv(\n",
      "          (linear): Linear(in_features=16, out_features=16, bias=True)\n",
      "        )\n",
      "      )\n",
      "      (relus): ModuleList(\n",
      "        (0-1): 2 x ReLU()\n",
      "      )\n",
      "      (bns): ModuleList(\n",
      "        (0-1): 2 x BatchNorm1d(16, eps=1e-05, momentum=0.1, affine=True, track_running_stats=True)\n",
      "      )\n",
      "    )\n",
      "  )\n",
      "  (masked_self_attention): masked_self_attention(\n",
      "    (Wq): Linear(in_features=16, out_features=16, bias=False)\n",
      "    (Wk): Linear(in_features=16, out_features=16, bias=False)\n",
      "    (Wv): Linear(in_features=16, out_features=16, bias=False)\n",
      "  )\n",
      "  (aggregate_nodes_temporal_feature): aggregate_nodes_temporal_feature(\n",
      "    (Wq): Linear(in_features=16, out_features=1, bias=False)\n",
      "  )\n",
      "  (global_gated_update): global_gated_update(\n",
      "    (item_embedding): Embedding(11202, 16)\n",
      "  )\n",
      "  (fc_output): Linear(in_features=16, out_features=1, bias=True)\n",
      ")\n",
      "Adam (\n",
      "Parameter Group 0\n",
      "    amsgrad: False\n",
      "    betas: (0.9, 0.999)\n",
      "    capturable: False\n",
      "    differentiable: False\n",
      "    eps: 1e-08\n",
      "    foreach: None\n",
      "    fused: None\n",
      "    lr: 0.009905501653399507\n",
      "    maximize: False\n",
      "    weight_decay: 1.1259924524808632e-06\n",
      ")\n"
     ]
    },
    {
     "name": "stderr",
     "output_type": "stream",
     "text": [
      "train epoch: 0, train loss: 0.05032651835910814: 100%|██████████| 460/460 [01:17<00:00,  5.95it/s]\n"
     ]
    },
    {
     "name": "stdout",
     "output_type": "stream",
     "text": [
      "train metric ...\n",
      "{\n",
      "    \"PHR_10\": 0.1893362350380849,\n",
      "    \"PHR_20\": 0.24727965179542982,\n",
      "    \"PHR_30\": 0.29066920565832427,\n",
      "    \"PHR_40\": 0.3207290533188248,\n",
      "    \"ndcg_10\": 0.045108649879693985,\n",
      "    \"ndcg_20\": 0.050423312932252884,\n",
      "    \"ndcg_30\": 0.055322229862213135,\n",
      "    \"ndcg_40\": 0.0590200237929821,\n",
      "    \"recall_10\": 0.05158655345439911,\n",
      "    \"recall_20\": 0.06956101208925247,\n",
      "    \"recall_30\": 0.08563182502985,\n",
      "    \"recall_40\": 0.09801100939512253\n",
      "}\n"
     ]
    },
    {
     "name": "stderr",
     "output_type": "stream",
     "text": [
      "train epoch: 1, train loss: 0.005662248581749104: 100%|██████████| 460/460 [01:15<00:00,  6.07it/s]\n"
     ]
    },
    {
     "name": "stdout",
     "output_type": "stream",
     "text": [
      "train metric ...\n",
      "{\n",
      "    \"PHR_10\": 0.235310119695321,\n",
      "    \"PHR_20\": 0.31705658324265507,\n",
      "    \"PHR_30\": 0.360310119695321,\n",
      "    \"PHR_40\": 0.39975516866158867,\n",
      "    \"ndcg_10\": 0.05724901705980301,\n",
      "    \"ndcg_20\": 0.0654745101928711,\n",
      "    \"ndcg_30\": 0.07084735482931137,\n",
      "    \"ndcg_40\": 0.07553815841674805,\n",
      "    \"recall_10\": 0.06727921962738037,\n",
      "    \"recall_20\": 0.09301967173814774,\n",
      "    \"recall_30\": 0.11013573408126831,\n",
      "    \"recall_40\": 0.12550801038742065\n",
      "}\n"
     ]
    },
    {
     "name": "stderr",
     "output_type": "stream",
     "text": [
      "train epoch: 2, train loss: 0.005024240426111805: 100%|██████████| 460/460 [01:16<00:00,  6.04it/s]\n"
     ]
    },
    {
     "name": "stdout",
     "output_type": "stream",
     "text": [
      "train metric ...\n",
      "{\n",
      "    \"PHR_10\": 0.2251088139281828,\n",
      "    \"PHR_20\": 0.3000544069640914,\n",
      "    \"PHR_30\": 0.3400435255712731,\n",
      "    \"PHR_40\": 0.3707834602829162,\n",
      "    \"ndcg_10\": 0.05309261754155159,\n",
      "    \"ndcg_20\": 0.060504715889692307,\n",
      "    \"ndcg_30\": 0.06528204679489136,\n",
      "    \"ndcg_40\": 0.06877026706933975,\n",
      "    \"recall_10\": 0.06265583634376526,\n",
      "    \"recall_20\": 0.08673536777496338,\n",
      "    \"recall_30\": 0.10172194242477417,\n",
      "    \"recall_40\": 0.11290183663368225\n",
      "}\n"
     ]
    },
    {
     "name": "stderr",
     "output_type": "stream",
     "text": [
      "train epoch: 3, train loss: 0.0047808903730069486: 100%|██████████| 460/460 [01:17<00:00,  5.91it/s]\n"
     ]
    },
    {
     "name": "stdout",
     "output_type": "stream",
     "text": [
      "train metric ...\n",
      "{\n",
      "    \"PHR_10\": 0.1969532100108814,\n",
      "    \"PHR_20\": 0.26400979325353646,\n",
      "    \"PHR_30\": 0.3072633297062024,\n",
      "    \"PHR_40\": 0.3416757344940152,\n",
      "    \"ndcg_10\": 0.04615005478262901,\n",
      "    \"ndcg_20\": 0.05249154567718506,\n",
      "    \"ndcg_30\": 0.05692930147051811,\n",
      "    \"ndcg_40\": 0.060380131006240845,\n",
      "    \"recall_10\": 0.053720586001873016,\n",
      "    \"recall_20\": 0.07478664070367813,\n",
      "    \"recall_30\": 0.08853907138109207,\n",
      "    \"recall_40\": 0.09973465651273727\n",
      "}\n"
     ]
    },
    {
     "name": "stderr",
     "output_type": "stream",
     "text": [
      "train epoch: 4, train loss: 0.00464297106752739: 100%|██████████| 460/460 [01:15<00:00,  6.08it/s]\n"
     ]
    },
    {
     "name": "stdout",
     "output_type": "stream",
     "text": [
      "train metric ...\n",
      "{\n",
      "    \"PHR_10\": 0.20797062023939064,\n",
      "    \"PHR_20\": 0.27557127312295976,\n",
      "    \"PHR_30\": 0.31637649619151254,\n",
      "    \"PHR_40\": 0.3484766050054407,\n",
      "    \"ndcg_10\": 0.0488632507622242,\n",
      "    \"ndcg_20\": 0.05538668856024742,\n",
      "    \"ndcg_30\": 0.05976243317127228,\n",
      "    \"ndcg_40\": 0.06323368847370148,\n",
      "    \"recall_10\": 0.057247012853622437,\n",
      "    \"recall_20\": 0.07883314043283463,\n",
      "    \"recall_30\": 0.09278895705938339,\n",
      "    \"recall_40\": 0.1038609966635704\n",
      "}\n"
     ]
    },
    {
     "name": "stderr",
     "output_type": "stream",
     "text": [
      "train epoch: 5, train loss: 0.004574216798494529: 100%|██████████| 460/460 [01:16<00:00,  5.98it/s]\n"
     ]
    },
    {
     "name": "stdout",
     "output_type": "stream",
     "text": [
      "train metric ...\n",
      "{\n",
      "    \"PHR_10\": 0.17315016322089227,\n",
      "    \"PHR_20\": 0.23735038084874863,\n",
      "    \"PHR_30\": 0.28005984766050057,\n",
      "    \"PHR_40\": 0.31719260065288357,\n",
      "    \"ndcg_10\": 0.040209393948316574,\n",
      "    \"ndcg_20\": 0.04627211019396782,\n",
      "    \"ndcg_30\": 0.05047810077667236,\n",
      "    \"ndcg_40\": 0.05401613563299179,\n",
      "    \"recall_10\": 0.046122245490550995,\n",
      "    \"recall_20\": 0.06614591181278229,\n",
      "    \"recall_30\": 0.0792618989944458,\n",
      "    \"recall_40\": 0.09067214280366898\n",
      "}\n"
     ]
    },
    {
     "name": "stderr",
     "output_type": "stream",
     "text": [
      "train epoch: 6, train loss: 0.004524149596387439: 100%|██████████| 460/460 [01:17<00:00,  5.94it/s]\n"
     ]
    },
    {
     "name": "stdout",
     "output_type": "stream",
     "text": [
      "train metric ...\n",
      "{\n",
      "    \"PHR_10\": 0.18199129488574536,\n",
      "    \"PHR_20\": 0.24360718171926007,\n",
      "    \"PHR_30\": 0.2844124047878128,\n",
      "    \"PHR_40\": 0.31664853101196955,\n",
      "    \"ndcg_10\": 0.04279421269893646,\n",
      "    \"ndcg_20\": 0.04853205755352974,\n",
      "    \"ndcg_30\": 0.05266229063272476,\n",
      "    \"ndcg_40\": 0.05584563687443733,\n",
      "    \"recall_10\": 0.04869576543569565,\n",
      "    \"recall_20\": 0.06774858385324478,\n",
      "    \"recall_30\": 0.08056270331144333,\n",
      "    \"recall_40\": 0.0910198912024498\n",
      "}\n"
     ]
    },
    {
     "name": "stderr",
     "output_type": "stream",
     "text": [
      "train epoch: 7, train loss: 0.004501008585540821: 100%|██████████| 460/460 [01:16<00:00,  6.01it/s]\n"
     ]
    },
    {
     "name": "stdout",
     "output_type": "stream",
     "text": [
      "train metric ...\n",
      "{\n",
      "    \"PHR_10\": 0.16254080522306855,\n",
      "    \"PHR_20\": 0.22320457018498369,\n",
      "    \"PHR_30\": 0.26673014145810664,\n",
      "    \"PHR_40\": 0.2982861806311208,\n",
      "    \"ndcg_10\": 0.037377819418907166,\n",
      "    \"ndcg_20\": 0.042889852076768875,\n",
      "    \"ndcg_30\": 0.04706835746765137,\n",
      "    \"ndcg_40\": 0.05022214725613594,\n",
      "    \"recall_10\": 0.04387957975268364,\n",
      "    \"recall_20\": 0.06147187948226929,\n",
      "    \"recall_30\": 0.07439979910850525,\n",
      "    \"recall_40\": 0.08480856567621231\n",
      "}\n"
     ]
    },
    {
     "name": "stderr",
     "output_type": "stream",
     "text": [
      "validate epoch: 7, validate loss: 0.004284084346347853: 100%|██████████| 460/460 [01:12<00:00,  6.36it/s]\n"
     ]
    },
    {
     "name": "stdout",
     "output_type": "stream",
     "text": [
      "validate metric ...\n"
     ]
    },
    {
     "name": "stderr",
     "output_type": "stream",
     "text": [
      "\u001b[32m[I 2023-04-15 12:44:34,312]\u001b[0m Trial 16 finished with value: 0.06645280867815018 and parameters: {'item_embed_dim': 16, 'n_heads': 1, 'attention_aggregate': 'mean', 'batch_size': 16, 'learning_rate': 0.009905501653399507, 'weight_decay': 1.1259924524808632e-06}. Best is trial 14 with value: 0.08854873478412628.\u001b[0m\n"
     ]
    },
    {
     "name": "stdout",
     "output_type": "stream",
     "text": [
      "{\n",
      "    \"PHR_10\": 0.2085089030854968,\n",
      "    \"PHR_20\": 0.26124779121924696,\n",
      "    \"PHR_30\": 0.2982193829006389,\n",
      "    \"PHR_40\": 0.31575370395541663,\n",
      "    \"ndcg_10\": 0.06645280867815018,\n",
      "    \"ndcg_20\": 0.07104173302650452,\n",
      "    \"ndcg_30\": 0.07457146048545837,\n",
      "    \"ndcg_40\": 0.07619233429431915,\n",
      "    \"recall_10\": 0.0653090626001358,\n",
      "    \"recall_20\": 0.08189596235752106,\n",
      "    \"recall_30\": 0.09259214252233505,\n",
      "    \"recall_40\": 0.09768863767385483\n",
      "}\n",
      "model save as ./DNNTSP/save_model_folder/TaFeng/DNNTSP/best_model.pkl\n",
      "cost 806 seconds\n",
      "TaFeng/DNNTSP\n",
      "train data length -> 7352\n",
      "validate data length -> 7357\n",
      "temporal_set_prediction(\n",
      "  (item_embedding): Embedding(11202, 64)\n",
      "  (stacked_gcn): stacked_weighted_GCN_blocks(\n",
      "    (0): weighted_GCN(\n",
      "      (gcns): ModuleList(\n",
      "        (0-1): 2 x weighted_graph_conv(\n",
      "          (linear): Linear(in_features=64, out_features=64, bias=True)\n",
      "        )\n",
      "      )\n",
      "      (relus): ModuleList(\n",
      "        (0-1): 2 x ReLU()\n",
      "      )\n",
      "      (bns): ModuleList(\n",
      "        (0-1): 2 x BatchNorm1d(64, eps=1e-05, momentum=0.1, affine=True, track_running_stats=True)\n",
      "      )\n",
      "    )\n",
      "  )\n",
      "  (masked_self_attention): masked_self_attention(\n",
      "    (Wq): Linear(in_features=64, out_features=256, bias=False)\n",
      "    (Wk): Linear(in_features=64, out_features=256, bias=False)\n",
      "    (Wv): Linear(in_features=64, out_features=256, bias=False)\n",
      "  )\n",
      "  (aggregate_nodes_temporal_feature): aggregate_nodes_temporal_feature(\n",
      "    (Wq): Linear(in_features=64, out_features=1, bias=False)\n",
      "  )\n",
      "  (global_gated_update): global_gated_update(\n",
      "    (item_embedding): Embedding(11202, 64)\n",
      "  )\n",
      "  (fc_output): Linear(in_features=64, out_features=1, bias=True)\n",
      ")\n",
      "Adam (\n",
      "Parameter Group 0\n",
      "    amsgrad: False\n",
      "    betas: (0.9, 0.999)\n",
      "    capturable: False\n",
      "    differentiable: False\n",
      "    eps: 1e-08\n",
      "    foreach: None\n",
      "    fused: None\n",
      "    lr: 0.01178938003287219\n",
      "    maximize: False\n",
      "    weight_decay: 1.0824501073456424e-05\n",
      ")\n"
     ]
    },
    {
     "name": "stderr",
     "output_type": "stream",
     "text": [
      "train epoch: 0, train loss: 0.38821605271820364: 100%|██████████| 58/58 [01:08<00:00,  1.18s/it]\n"
     ]
    },
    {
     "name": "stdout",
     "output_type": "stream",
     "text": [
      "train metric ...\n",
      "{\n",
      "    \"PHR_10\": 0.006664853101196953,\n",
      "    \"PHR_20\": 0.012377584330794342,\n",
      "    \"PHR_30\": 0.016594124047878127,\n",
      "    \"PHR_40\": 0.02013057671381937,\n",
      "    \"ndcg_10\": 0.0008374083554372191,\n",
      "    \"ndcg_20\": 0.0012093957047909498,\n",
      "    \"ndcg_30\": 0.0015226963441818953,\n",
      "    \"ndcg_40\": 0.001744550303556025,\n",
      "    \"recall_10\": 0.0011911347974091768,\n",
      "    \"recall_20\": 0.0022872283589094877,\n",
      "    \"recall_30\": 0.003289231099188328,\n",
      "    \"recall_40\": 0.004020933993160725\n",
      "}\n"
     ]
    },
    {
     "name": "stderr",
     "output_type": "stream",
     "text": [
      "train epoch: 1, train loss: 0.026819969848569096: 100%|██████████| 58/58 [01:07<00:00,  1.16s/it]\n"
     ]
    },
    {
     "name": "stdout",
     "output_type": "stream",
     "text": [
      "train metric ...\n",
      "{\n",
      "    \"PHR_10\": 0.09779651795429815,\n",
      "    \"PHR_20\": 0.11901523394994559,\n",
      "    \"PHR_30\": 0.132480957562568,\n",
      "    \"PHR_40\": 0.1439064200217628,\n",
      "    \"ndcg_10\": 0.025754587724804878,\n",
      "    \"ndcg_20\": 0.02684520184993744,\n",
      "    \"ndcg_30\": 0.027875706553459167,\n",
      "    \"ndcg_40\": 0.028604039922356606,\n",
      "    \"recall_10\": 0.025309117510914803,\n",
      "    \"recall_20\": 0.03116147592663765,\n",
      "    \"recall_30\": 0.03501420468091965,\n",
      "    \"recall_40\": 0.037393663078546524\n",
      "}\n"
     ]
    },
    {
     "name": "stderr",
     "output_type": "stream",
     "text": [
      "train epoch: 2, train loss: 0.016555753440178674: 100%|██████████| 58/58 [01:08<00:00,  1.17s/it]\n"
     ]
    },
    {
     "name": "stdout",
     "output_type": "stream",
     "text": [
      "train metric ...\n",
      "{\n",
      "    \"PHR_10\": 0.16743743199129488,\n",
      "    \"PHR_20\": 0.20021762785636563,\n",
      "    \"PHR_30\": 0.22687704026115343,\n",
      "    \"PHR_40\": 0.24809575625680086,\n",
      "    \"ndcg_10\": 0.043114349246025085,\n",
      "    \"ndcg_20\": 0.04511960595846176,\n",
      "    \"ndcg_30\": 0.047512829303741455,\n",
      "    \"ndcg_40\": 0.049141619354486465,\n",
      "    \"recall_10\": 0.045875731855630875,\n",
      "    \"recall_20\": 0.055051423609256744,\n",
      "    \"recall_30\": 0.06275254487991333,\n",
      "    \"recall_40\": 0.06779646128416061\n",
      "}\n"
     ]
    },
    {
     "name": "stderr",
     "output_type": "stream",
     "text": [
      "train epoch: 3, train loss: 0.012580450961430525: 100%|██████████| 58/58 [01:08<00:00,  1.18s/it]\n"
     ]
    },
    {
     "name": "stdout",
     "output_type": "stream",
     "text": [
      "train metric ...\n",
      "{\n",
      "    \"PHR_10\": 0.19246463547334058,\n",
      "    \"PHR_20\": 0.25816104461371053,\n",
      "    \"PHR_30\": 0.3044069640914037,\n",
      "    \"PHR_40\": 0.338139281828074,\n",
      "    \"ndcg_10\": 0.046801455318927765,\n",
      "    \"ndcg_20\": 0.05305038392543793,\n",
      "    \"ndcg_30\": 0.05792492255568504,\n",
      "    \"ndcg_40\": 0.0617523193359375,\n",
      "    \"recall_10\": 0.05362660065293312,\n",
      "    \"recall_20\": 0.07353433221578598,\n",
      "    \"recall_30\": 0.08824016898870468,\n",
      "    \"recall_40\": 0.10048313438892365\n",
      "}\n"
     ]
    },
    {
     "name": "stderr",
     "output_type": "stream",
     "text": [
      "train epoch: 4, train loss: 0.010578260355596912: 100%|██████████| 58/58 [01:07<00:00,  1.17s/it]\n"
     ]
    },
    {
     "name": "stdout",
     "output_type": "stream",
     "text": [
      "train metric ...\n",
      "{\n",
      "    \"PHR_10\": 0.19083242655059848,\n",
      "    \"PHR_20\": 0.264689880304679,\n",
      "    \"PHR_30\": 0.3177366702937976,\n",
      "    \"PHR_40\": 0.35799782372143635,\n",
      "    \"ndcg_10\": 0.045967429876327515,\n",
      "    \"ndcg_20\": 0.05266667529940605,\n",
      "    \"ndcg_30\": 0.058837126940488815,\n",
      "    \"ndcg_40\": 0.0633830577135086,\n",
      "    \"recall_10\": 0.05305447056889534,\n",
      "    \"recall_20\": 0.07366034388542175,\n",
      "    \"recall_30\": 0.09331740438938141,\n",
      "    \"recall_40\": 0.1080557107925415\n",
      "}\n"
     ]
    },
    {
     "name": "stderr",
     "output_type": "stream",
     "text": [
      "train epoch: 5, train loss: 0.00937213859488738: 100%|██████████| 58/58 [01:07<00:00,  1.17s/it]\n"
     ]
    },
    {
     "name": "stdout",
     "output_type": "stream",
     "text": [
      "train metric ...\n",
      "{\n",
      "    \"PHR_10\": 0.18593579978237215,\n",
      "    \"PHR_20\": 0.264689880304679,\n",
      "    \"PHR_30\": 0.3185527747551687,\n",
      "    \"PHR_40\": 0.35799782372143635,\n",
      "    \"ndcg_10\": 0.04485219344496727,\n",
      "    \"ndcg_20\": 0.051971133798360825,\n",
      "    \"ndcg_30\": 0.058052752166986465,\n",
      "    \"ndcg_40\": 0.0629611685872078,\n",
      "    \"recall_10\": 0.051874831318855286,\n",
      "    \"recall_20\": 0.07369618117809296,\n",
      "    \"recall_30\": 0.09282698482275009,\n",
      "    \"recall_40\": 0.1091156005859375\n",
      "}\n"
     ]
    },
    {
     "name": "stderr",
     "output_type": "stream",
     "text": [
      "train epoch: 6, train loss: 0.008561698133768192: 100%|██████████| 58/58 [01:07<00:00,  1.16s/it]\n"
     ]
    },
    {
     "name": "stdout",
     "output_type": "stream",
     "text": [
      "train metric ...\n",
      "{\n",
      "    \"PHR_10\": 0.1868879216539717,\n",
      "    \"PHR_20\": 0.2589771490750816,\n",
      "    \"PHR_30\": 0.3147442872687704,\n",
      "    \"PHR_40\": 0.3544613710554951,\n",
      "    \"ndcg_10\": 0.04460954666137695,\n",
      "    \"ndcg_20\": 0.05121329426765442,\n",
      "    \"ndcg_30\": 0.0570870116353035,\n",
      "    \"ndcg_40\": 0.062045495957136154,\n",
      "    \"recall_10\": 0.052208103239536285,\n",
      "    \"recall_20\": 0.07264413684606552,\n",
      "    \"recall_30\": 0.09077463299036026,\n",
      "    \"recall_40\": 0.10723988711833954\n",
      "}\n"
     ]
    },
    {
     "name": "stderr",
     "output_type": "stream",
     "text": [
      "train epoch: 7, train loss: 0.007975805101209673: 100%|██████████| 58/58 [01:07<00:00,  1.17s/it]\n"
     ]
    },
    {
     "name": "stdout",
     "output_type": "stream",
     "text": [
      "train metric ...\n",
      "{\n",
      "    \"PHR_10\": 0.18076713819368878,\n",
      "    \"PHR_20\": 0.25571273122959737,\n",
      "    \"PHR_30\": 0.31107181719260063,\n",
      "    \"PHR_40\": 0.35106093579978237,\n",
      "    \"ndcg_10\": 0.042644988745450974,\n",
      "    \"ndcg_20\": 0.04957790672779083,\n",
      "    \"ndcg_30\": 0.05535423383116722,\n",
      "    \"ndcg_40\": 0.06007511168718338,\n",
      "    \"recall_10\": 0.0500476248562336,\n",
      "    \"recall_20\": 0.07107795029878616,\n",
      "    \"recall_30\": 0.08896010369062424,\n",
      "    \"recall_40\": 0.10442212969064713\n",
      "}\n"
     ]
    },
    {
     "name": "stderr",
     "output_type": "stream",
     "text": [
      "validate epoch: 7, validate loss: 0.007582526421174407: 100%|██████████| 58/58 [01:06<00:00,  1.14s/it]\n"
     ]
    },
    {
     "name": "stdout",
     "output_type": "stream",
     "text": [
      "validate metric ...\n",
      "{\n",
      "    \"PHR_10\": 0.19831453037923066,\n",
      "    \"PHR_20\": 0.28068506184586106,\n",
      "    \"PHR_30\": 0.326763626478184,\n",
      "    \"PHR_40\": 0.3718907163245888,\n",
      "    \"ndcg_10\": 0.06496213376522064,\n",
      "    \"ndcg_20\": 0.07369788736104965,\n",
      "    \"ndcg_30\": 0.07903312146663666,\n",
      "    \"ndcg_40\": 0.08416756242513657,\n",
      "    \"recall_10\": 0.06524627655744553,\n",
      "    \"recall_20\": 0.09109027683734894,\n",
      "    \"recall_30\": 0.10736879706382751,\n",
      "    \"recall_40\": 0.12433069199323654\n",
      "}\n",
      "model save as ./DNNTSP/save_model_folder/TaFeng/DNNTSP/best_model.pkl\n",
      "cost 727 seconds\n"
     ]
    },
    {
     "name": "stderr",
     "output_type": "stream",
     "text": [
      "\u001b[32m[I 2023-04-15 12:56:48,303]\u001b[0m Trial 17 finished with value: 0.06496213376522064 and parameters: {'item_embed_dim': 64, 'n_heads': 4, 'attention_aggregate': 'mean', 'batch_size': 128, 'learning_rate': 0.01178938003287219, 'weight_decay': 1.0824501073456424e-05}. Best is trial 14 with value: 0.08854873478412628.\u001b[0m\n"
     ]
    },
    {
     "name": "stdout",
     "output_type": "stream",
     "text": [
      "TaFeng/DNNTSP\n",
      "train data length -> 7352\n",
      "validate data length -> 7357\n",
      "temporal_set_prediction(\n",
      "  (item_embedding): Embedding(11202, 128)\n",
      "  (stacked_gcn): stacked_weighted_GCN_blocks(\n",
      "    (0): weighted_GCN(\n",
      "      (gcns): ModuleList(\n",
      "        (0-1): 2 x weighted_graph_conv(\n",
      "          (linear): Linear(in_features=128, out_features=128, bias=True)\n",
      "        )\n",
      "      )\n",
      "      (relus): ModuleList(\n",
      "        (0-1): 2 x ReLU()\n",
      "      )\n",
      "      (bns): ModuleList(\n",
      "        (0-1): 2 x BatchNorm1d(128, eps=1e-05, momentum=0.1, affine=True, track_running_stats=True)\n",
      "      )\n",
      "    )\n",
      "  )\n",
      "  (masked_self_attention): masked_self_attention(\n",
      "    (Wq): Linear(in_features=128, out_features=128, bias=False)\n",
      "    (Wk): Linear(in_features=128, out_features=128, bias=False)\n",
      "    (Wv): Linear(in_features=128, out_features=128, bias=False)\n",
      "  )\n",
      "  (aggregate_nodes_temporal_feature): aggregate_nodes_temporal_feature(\n",
      "    (Wq): Linear(in_features=128, out_features=1, bias=False)\n",
      "  )\n",
      "  (global_gated_update): global_gated_update(\n",
      "    (item_embedding): Embedding(11202, 128)\n",
      "  )\n",
      "  (fc_output): Linear(in_features=128, out_features=1, bias=True)\n",
      ")\n",
      "Adam (\n",
      "Parameter Group 0\n",
      "    amsgrad: False\n",
      "    betas: (0.9, 0.999)\n",
      "    capturable: False\n",
      "    differentiable: False\n",
      "    eps: 1e-08\n",
      "    foreach: None\n",
      "    fused: None\n",
      "    lr: 0.0114317266951159\n",
      "    maximize: False\n",
      "    weight_decay: 1.1296959014325488e-06\n",
      ")\n"
     ]
    },
    {
     "name": "stderr",
     "output_type": "stream",
     "text": [
      "train epoch: 0, train loss: 0.04520876521811537: 100%|██████████| 230/230 [01:17<00:00,  2.96it/s]\n"
     ]
    },
    {
     "name": "stdout",
     "output_type": "stream",
     "text": [
      "train metric ...\n",
      "{\n",
      "    \"PHR_10\": 0.19042437431991294,\n",
      "    \"PHR_20\": 0.2614254624591948,\n",
      "    \"PHR_30\": 0.30399891186071815,\n",
      "    \"PHR_40\": 0.3374591947769314,\n",
      "    \"ndcg_10\": 0.04244634136557579,\n",
      "    \"ndcg_20\": 0.04957813397049904,\n",
      "    \"ndcg_30\": 0.05458981171250343,\n",
      "    \"ndcg_40\": 0.05825870484113693,\n",
      "    \"recall_10\": 0.05175333842635155,\n",
      "    \"recall_20\": 0.07387131452560425,\n",
      "    \"recall_30\": 0.09007411450147629,\n",
      "    \"recall_40\": 0.10205702483654022\n",
      "}\n"
     ]
    },
    {
     "name": "stderr",
     "output_type": "stream",
     "text": [
      "train epoch: 1, train loss: 0.005498347257304451: 100%|██████████| 230/230 [01:15<00:00,  3.05it/s]\n"
     ]
    },
    {
     "name": "stdout",
     "output_type": "stream",
     "text": [
      "train metric ...\n",
      "{\n",
      "    \"PHR_10\": 0.20769858541893363,\n",
      "    \"PHR_20\": 0.28482045701849834,\n",
      "    \"PHR_30\": 0.33174646354733406,\n",
      "    \"PHR_40\": 0.3647986942328618,\n",
      "    \"ndcg_10\": 0.04843832179903984,\n",
      "    \"ndcg_20\": 0.05594826862215996,\n",
      "    \"ndcg_30\": 0.060987506061792374,\n",
      "    \"ndcg_40\": 0.0646783709526062,\n",
      "    \"recall_10\": 0.057777609676122665,\n",
      "    \"recall_20\": 0.08147682994604111,\n",
      "    \"recall_30\": 0.09765829890966415,\n",
      "    \"recall_40\": 0.10970089584589005\n",
      "}\n"
     ]
    },
    {
     "name": "stderr",
     "output_type": "stream",
     "text": [
      "train epoch: 2, train loss: 0.004892074242841615: 100%|██████████| 230/230 [01:17<00:00,  2.97it/s]\n"
     ]
    },
    {
     "name": "stdout",
     "output_type": "stream",
     "text": [
      "train metric ...\n",
      "{\n",
      "    \"PHR_10\": 0.18647986942328618,\n",
      "    \"PHR_20\": 0.2536724700761698,\n",
      "    \"PHR_30\": 0.29747007616974974,\n",
      "    \"PHR_40\": 0.3291621327529924,\n",
      "    \"ndcg_10\": 0.042593564838171005,\n",
      "    \"ndcg_20\": 0.04900277778506279,\n",
      "    \"ndcg_30\": 0.053080759942531586,\n",
      "    \"ndcg_40\": 0.05642935633659363,\n",
      "    \"recall_10\": 0.05050044506788254,\n",
      "    \"recall_20\": 0.07126002013683319,\n",
      "    \"recall_30\": 0.0838312953710556,\n",
      "    \"recall_40\": 0.09522224962711334\n",
      "}\n"
     ]
    },
    {
     "name": "stderr",
     "output_type": "stream",
     "text": [
      "train epoch: 3, train loss: 0.004743051329506157: 100%|██████████| 230/230 [01:18<00:00,  2.93it/s]\n"
     ]
    },
    {
     "name": "stdout",
     "output_type": "stream",
     "text": [
      "train metric ...\n",
      "{\n",
      "    \"PHR_10\": 0.1868879216539717,\n",
      "    \"PHR_20\": 0.25244831338411317,\n",
      "    \"PHR_30\": 0.2924374319912949,\n",
      "    \"PHR_40\": 0.32372143634385203,\n",
      "    \"ndcg_10\": 0.041156187653541565,\n",
      "    \"ndcg_20\": 0.04747168347239494,\n",
      "    \"ndcg_30\": 0.05168721079826355,\n",
      "    \"ndcg_40\": 0.054883018136024475,\n",
      "    \"recall_10\": 0.04968860745429993,\n",
      "    \"recall_20\": 0.07076871395111084,\n",
      "    \"recall_30\": 0.08426138013601303,\n",
      "    \"recall_40\": 0.09483212232589722\n",
      "}\n"
     ]
    },
    {
     "name": "stderr",
     "output_type": "stream",
     "text": [
      "train epoch: 4, train loss: 0.004702442562531518: 100%|██████████| 230/230 [01:16<00:00,  3.02it/s]\n"
     ]
    },
    {
     "name": "stdout",
     "output_type": "stream",
     "text": [
      "train metric ...\n",
      "{\n",
      "    \"PHR_10\": 0.16675734494015235,\n",
      "    \"PHR_20\": 0.227829162132753,\n",
      "    \"PHR_30\": 0.2705386289445049,\n",
      "    \"PHR_40\": 0.30359085963003263,\n",
      "    \"ndcg_10\": 0.03785643354058266,\n",
      "    \"ndcg_20\": 0.04342380166053772,\n",
      "    \"ndcg_30\": 0.047660503536462784,\n",
      "    \"ndcg_40\": 0.05092429369688034,\n",
      "    \"recall_10\": 0.04389695078134537,\n",
      "    \"recall_20\": 0.06186555325984955,\n",
      "    \"recall_30\": 0.07519758492708206,\n",
      "    \"recall_40\": 0.08613460510969162\n",
      "}\n"
     ]
    },
    {
     "name": "stderr",
     "output_type": "stream",
     "text": [
      "train epoch: 5, train loss: 0.0046948774181225375: 100%|██████████| 230/230 [01:18<00:00,  2.93it/s]\n"
     ]
    },
    {
     "name": "stdout",
     "output_type": "stream",
     "text": [
      "train metric ...\n",
      "{\n",
      "    \"PHR_10\": 0.14091403699673558,\n",
      "    \"PHR_20\": 0.19953754080522307,\n",
      "    \"PHR_30\": 0.2385745375408052,\n",
      "    \"PHR_40\": 0.27094668117519044,\n",
      "    \"ndcg_10\": 0.031159112229943275,\n",
      "    \"ndcg_20\": 0.035915207117795944,\n",
      "    \"ndcg_30\": 0.03960749879479408,\n",
      "    \"ndcg_40\": 0.04276023805141449,\n",
      "    \"recall_10\": 0.036924008280038834,\n",
      "    \"recall_20\": 0.0518488883972168,\n",
      "    \"recall_30\": 0.06336670368909836,\n",
      "    \"recall_40\": 0.07398301362991333\n",
      "}\n"
     ]
    },
    {
     "name": "stderr",
     "output_type": "stream",
     "text": [
      "train epoch: 6, train loss: 0.0046816043120444465: 100%|██████████| 230/230 [01:16<00:00,  3.03it/s]\n"
     ]
    },
    {
     "name": "stdout",
     "output_type": "stream",
     "text": [
      "train metric ...\n",
      "{\n",
      "    \"PHR_10\": 0.1572361262241567,\n",
      "    \"PHR_20\": 0.21708378672470077,\n",
      "    \"PHR_30\": 0.2558487486398259,\n",
      "    \"PHR_40\": 0.28740478781284007,\n",
      "    \"ndcg_10\": 0.03481661528348923,\n",
      "    \"ndcg_20\": 0.04023140296339989,\n",
      "    \"ndcg_30\": 0.043978381901979446,\n",
      "    \"ndcg_40\": 0.046943727880716324,\n",
      "    \"recall_10\": 0.04163050279021263,\n",
      "    \"recall_20\": 0.058836448937654495,\n",
      "    \"recall_30\": 0.07056037336587906,\n",
      "    \"recall_40\": 0.08033224195241928\n",
      "}\n"
     ]
    },
    {
     "name": "stderr",
     "output_type": "stream",
     "text": [
      "train epoch: 7, train loss: 0.004691372945418824: 100%|██████████| 230/230 [01:17<00:00,  2.97it/s]\n"
     ]
    },
    {
     "name": "stdout",
     "output_type": "stream",
     "text": [
      "train metric ...\n",
      "{\n",
      "    \"PHR_10\": 0.13207290533188248,\n",
      "    \"PHR_20\": 0.18607181719260066,\n",
      "    \"PHR_30\": 0.2309575625680087,\n",
      "    \"PHR_40\": 0.25965723612622416,\n",
      "    \"ndcg_10\": 0.028715113177895546,\n",
      "    \"ndcg_20\": 0.033444151282310486,\n",
      "    \"ndcg_30\": 0.03730490058660507,\n",
      "    \"ndcg_40\": 0.03993024304509163,\n",
      "    \"recall_10\": 0.033579032868146896,\n",
      "    \"recall_20\": 0.048838261514902115,\n",
      "    \"recall_30\": 0.060846421867609024,\n",
      "    \"recall_40\": 0.06944450736045837\n",
      "}\n"
     ]
    },
    {
     "name": "stderr",
     "output_type": "stream",
     "text": [
      "validate epoch: 7, validate loss: 0.004464755834930617: 100%|██████████| 230/230 [01:11<00:00,  3.20it/s]\n"
     ]
    },
    {
     "name": "stdout",
     "output_type": "stream",
     "text": [
      "validate metric ...\n",
      "{\n",
      "    \"PHR_10\": 0.17520728557836074,\n",
      "    \"PHR_20\": 0.2445290199809705,\n",
      "    \"PHR_30\": 0.2751121380997689,\n",
      "    \"PHR_40\": 0.2984912328394726,\n",
      "    \"ndcg_10\": 0.05856724828481674,\n",
      "    \"ndcg_20\": 0.06559165567159653,\n",
      "    \"ndcg_30\": 0.06866976618766785,\n",
      "    \"ndcg_40\": 0.07070925831794739,\n",
      "    \"recall_10\": 0.05477036163210869,\n",
      "    \"recall_20\": 0.07558261603116989,\n",
      "    \"recall_30\": 0.08507570624351501,\n",
      "    \"recall_40\": 0.09144308418035507\n",
      "}\n",
      "model save as ./DNNTSP/save_model_folder/TaFeng/DNNTSP/best_model.pkl\n",
      "cost 807 seconds\n"
     ]
    },
    {
     "name": "stderr",
     "output_type": "stream",
     "text": [
      "\u001b[32m[I 2023-04-15 13:10:20,912]\u001b[0m Trial 18 finished with value: 0.05856724828481674 and parameters: {'item_embed_dim': 128, 'n_heads': 1, 'attention_aggregate': 'mean', 'batch_size': 32, 'learning_rate': 0.0114317266951159, 'weight_decay': 1.1296959014325488e-06}. Best is trial 14 with value: 0.08854873478412628.\u001b[0m\n"
     ]
    },
    {
     "name": "stdout",
     "output_type": "stream",
     "text": [
      "TaFeng/DNNTSP\n",
      "train data length -> 7352\n",
      "validate data length -> 7357\n",
      "temporal_set_prediction(\n",
      "  (item_embedding): Embedding(11202, 16)\n",
      "  (stacked_gcn): stacked_weighted_GCN_blocks(\n",
      "    (0): weighted_GCN(\n",
      "      (gcns): ModuleList(\n",
      "        (0-1): 2 x weighted_graph_conv(\n",
      "          (linear): Linear(in_features=16, out_features=16, bias=True)\n",
      "        )\n",
      "      )\n",
      "      (relus): ModuleList(\n",
      "        (0-1): 2 x ReLU()\n",
      "      )\n",
      "      (bns): ModuleList(\n",
      "        (0-1): 2 x BatchNorm1d(16, eps=1e-05, momentum=0.1, affine=True, track_running_stats=True)\n",
      "      )\n",
      "    )\n",
      "  )\n",
      "  (masked_self_attention): masked_self_attention(\n",
      "    (Wq): Linear(in_features=16, out_features=16, bias=False)\n",
      "    (Wk): Linear(in_features=16, out_features=16, bias=False)\n",
      "    (Wv): Linear(in_features=16, out_features=16, bias=False)\n",
      "  )\n",
      "  (aggregate_nodes_temporal_feature): aggregate_nodes_temporal_feature(\n",
      "    (Wq): Linear(in_features=16, out_features=1, bias=False)\n",
      "  )\n",
      "  (global_gated_update): global_gated_update(\n",
      "    (item_embedding): Embedding(11202, 16)\n",
      "  )\n",
      "  (fc_output): Linear(in_features=16, out_features=1, bias=True)\n",
      ")\n",
      "Adam (\n",
      "Parameter Group 0\n",
      "    amsgrad: False\n",
      "    betas: (0.9, 0.999)\n",
      "    capturable: False\n",
      "    differentiable: False\n",
      "    eps: 1e-08\n",
      "    foreach: None\n",
      "    fused: None\n",
      "    lr: 0.0027110170569441387\n",
      "    maximize: False\n",
      "    weight_decay: 1.8555326036420292e-05\n",
      ")\n"
     ]
    },
    {
     "name": "stderr",
     "output_type": "stream",
     "text": [
      "train epoch: 0, train loss: 0.5617604587389076: 100%|██████████| 230/230 [01:10<00:00,  3.25it/s]\n"
     ]
    },
    {
     "name": "stdout",
     "output_type": "stream",
     "text": [
      "train metric ...\n",
      "{\n",
      "    \"PHR_10\": 0.003400435255712731,\n",
      "    \"PHR_20\": 0.008297062023939063,\n",
      "    \"PHR_30\": 0.017410228509249184,\n",
      "    \"PHR_40\": 0.022986942328618063,\n",
      "    \"ndcg_10\": 0.0004331278905738145,\n",
      "    \"ndcg_20\": 0.0008090662304311991,\n",
      "    \"ndcg_30\": 0.0014992434298619628,\n",
      "    \"ndcg_40\": 0.001795597025193274,\n",
      "    \"recall_10\": 0.0005067130550742149,\n",
      "    \"recall_20\": 0.0014949612086638808,\n",
      "    \"recall_30\": 0.0037468383088707924,\n",
      "    \"recall_40\": 0.0046898615546524525\n",
      "}\n"
     ]
    },
    {
     "name": "stderr",
     "output_type": "stream",
     "text": [
      "train epoch: 1, train loss: 0.072421420171209: 100%|██████████| 230/230 [01:10<00:00,  3.26it/s]\n"
     ]
    },
    {
     "name": "stdout",
     "output_type": "stream",
     "text": [
      "train metric ...\n",
      "{\n",
      "    \"PHR_10\": 0.002312295973884657,\n",
      "    \"PHR_20\": 0.008841131664853102,\n",
      "    \"PHR_30\": 0.013193688792165398,\n",
      "    \"PHR_40\": 0.02162676822633297,\n",
      "    \"ndcg_10\": 0.0004558242217171937,\n",
      "    \"ndcg_20\": 0.0009462654124945402,\n",
      "    \"ndcg_30\": 0.0011394311441108584,\n",
      "    \"ndcg_40\": 0.0017045692075043917,\n",
      "    \"recall_10\": 0.0005485144210979342,\n",
      "    \"recall_20\": 0.0018375655636191368,\n",
      "    \"recall_30\": 0.0023150930646806955,\n",
      "    \"recall_40\": 0.004286216106265783\n",
      "}\n"
     ]
    },
    {
     "name": "stderr",
     "output_type": "stream",
     "text": [
      "train epoch: 2, train loss: 0.03432824122517005: 100%|██████████| 230/230 [01:11<00:00,  3.22it/s]\n"
     ]
    },
    {
     "name": "stdout",
     "output_type": "stream",
     "text": [
      "train metric ...\n",
      "{\n",
      "    \"PHR_10\": 0.056855277475516865,\n",
      "    \"PHR_20\": 0.07739390642002177,\n",
      "    \"PHR_30\": 0.08433079434167573,\n",
      "    \"PHR_40\": 0.09330794341675734,\n",
      "    \"ndcg_10\": 0.011128553189337254,\n",
      "    \"ndcg_20\": 0.01279541291296482,\n",
      "    \"ndcg_30\": 0.013210447505116463,\n",
      "    \"ndcg_40\": 0.013715622946619987,\n",
      "    \"recall_10\": 0.01657118648290634,\n",
      "    \"recall_20\": 0.021643709391355515,\n",
      "    \"recall_30\": 0.022873755544424057,\n",
      "    \"recall_40\": 0.024395840242505074\n",
      "}\n"
     ]
    },
    {
     "name": "stderr",
     "output_type": "stream",
     "text": [
      "train epoch: 3, train loss: 0.02473279087925735: 100%|██████████| 230/230 [01:10<00:00,  3.26it/s]\n"
     ]
    },
    {
     "name": "stdout",
     "output_type": "stream",
     "text": [
      "train metric ...\n",
      "{\n",
      "    \"PHR_10\": 0.09915669205658324,\n",
      "    \"PHR_20\": 0.11901523394994559,\n",
      "    \"PHR_30\": 0.13533732317736671,\n",
      "    \"PHR_40\": 0.1531556039173014,\n",
      "    \"ndcg_10\": 0.028305791318416595,\n",
      "    \"ndcg_20\": 0.029246294870972633,\n",
      "    \"ndcg_30\": 0.030415499582886696,\n",
      "    \"ndcg_40\": 0.03166031464934349,\n",
      "    \"recall_10\": 0.029627496376633644,\n",
      "    \"recall_20\": 0.03379913419485092,\n",
      "    \"recall_30\": 0.037589944899082184,\n",
      "    \"recall_40\": 0.04179023206233978\n",
      "}\n"
     ]
    },
    {
     "name": "stderr",
     "output_type": "stream",
     "text": [
      "train epoch: 4, train loss: 0.019832303334513437: 100%|██████████| 230/230 [01:11<00:00,  3.22it/s]\n"
     ]
    },
    {
     "name": "stdout",
     "output_type": "stream",
     "text": [
      "train metric ...\n",
      "{\n",
      "    \"PHR_10\": 0.14281828073993472,\n",
      "    \"PHR_20\": 0.18729597388465724,\n",
      "    \"PHR_30\": 0.2219804134929271,\n",
      "    \"PHR_40\": 0.24523939064200218,\n",
      "    \"ndcg_10\": 0.039078451693058014,\n",
      "    \"ndcg_20\": 0.042323630303144455,\n",
      "    \"ndcg_30\": 0.04503665491938591,\n",
      "    \"ndcg_40\": 0.04689284414052963,\n",
      "    \"recall_10\": 0.0417339950799942,\n",
      "    \"recall_20\": 0.052645109593868256,\n",
      "    \"recall_30\": 0.060963843017816544,\n",
      "    \"recall_40\": 0.06700529903173447\n",
      "}\n"
     ]
    },
    {
     "name": "stderr",
     "output_type": "stream",
     "text": [
      "train epoch: 5, train loss: 0.01683594269435043: 100%|██████████| 230/230 [01:11<00:00,  3.24it/s]\n"
     ]
    },
    {
     "name": "stdout",
     "output_type": "stream",
     "text": [
      "train metric ...\n",
      "{\n",
      "    \"PHR_10\": 0.18185527747551686,\n",
      "    \"PHR_20\": 0.24197497279651795,\n",
      "    \"PHR_30\": 0.2917573449401523,\n",
      "    \"PHR_40\": 0.3204570184983678,\n",
      "    \"ndcg_10\": 0.04531099647283554,\n",
      "    \"ndcg_20\": 0.050360944122076035,\n",
      "    \"ndcg_30\": 0.05530361458659172,\n",
      "    \"ndcg_40\": 0.058463696390390396,\n",
      "    \"recall_10\": 0.051264453679323196,\n",
      "    \"recall_20\": 0.06747942417860031,\n",
      "    \"recall_30\": 0.08302218466997147,\n",
      "    \"recall_40\": 0.09336833655834198\n",
      "}\n"
     ]
    },
    {
     "name": "stderr",
     "output_type": "stream",
     "text": [
      "train epoch: 6, train loss: 0.014799505330460228: 100%|██████████| 230/230 [01:10<00:00,  3.26it/s]\n"
     ]
    },
    {
     "name": "stdout",
     "output_type": "stream",
     "text": [
      "train metric ...\n",
      "{\n",
      "    \"PHR_10\": 0.19436887921653972,\n",
      "    \"PHR_20\": 0.26332970620239393,\n",
      "    \"PHR_30\": 0.3148803046789989,\n",
      "    \"PHR_40\": 0.3517410228509249,\n",
      "    \"ndcg_10\": 0.046947214752435684,\n",
      "    \"ndcg_20\": 0.05358024686574936,\n",
      "    \"ndcg_30\": 0.05927903577685356,\n",
      "    \"ndcg_40\": 0.06351050734519958,\n",
      "    \"recall_10\": 0.05360928922891617,\n",
      "    \"recall_20\": 0.07441465556621552,\n",
      "    \"recall_30\": 0.09269747883081436,\n",
      "    \"recall_40\": 0.10616743564605713\n",
      "}\n"
     ]
    },
    {
     "name": "stderr",
     "output_type": "stream",
     "text": [
      "train epoch: 7, train loss: 0.013311491331652455: 100%|██████████| 230/230 [01:10<00:00,  3.26it/s]\n"
     ]
    },
    {
     "name": "stdout",
     "output_type": "stream",
     "text": [
      "train metric ...\n",
      "{\n",
      "    \"PHR_10\": 0.19491294885745375,\n",
      "    \"PHR_20\": 0.26713819368879216,\n",
      "    \"PHR_30\": 0.3193688792165397,\n",
      "    \"PHR_40\": 0.3593579978237214,\n",
      "    \"ndcg_10\": 0.046918246895074844,\n",
      "    \"ndcg_20\": 0.053689274936914444,\n",
      "    \"ndcg_30\": 0.059554025530815125,\n",
      "    \"ndcg_40\": 0.0642777532339096,\n",
      "    \"recall_10\": 0.054006513208150864,\n",
      "    \"recall_20\": 0.07488381117582321,\n",
      "    \"recall_30\": 0.09352152794599533,\n",
      "    \"recall_40\": 0.10909456014633179\n",
      "}\n"
     ]
    },
    {
     "name": "stderr",
     "output_type": "stream",
     "text": [
      "validate epoch: 7, validate loss: 0.012572541472542545: 100%|██████████| 230/230 [01:08<00:00,  3.38it/s]\n"
     ]
    },
    {
     "name": "stdout",
     "output_type": "stream",
     "text": [
      "validate metric ...\n",
      "{\n",
      "    \"PHR_10\": 0.22101400027184995,\n",
      "    \"PHR_20\": 0.2948212586652168,\n",
      "    \"PHR_30\": 0.33519097458203073,\n",
      "    \"PHR_40\": 0.37950251461193424,\n",
      "    \"ndcg_10\": 0.0690307691693306,\n",
      "    \"ndcg_20\": 0.0761912539601326,\n",
      "    \"ndcg_30\": 0.08087428659200668,\n",
      "    \"ndcg_40\": 0.08600945770740509,\n",
      "    \"recall_10\": 0.0735289603471756,\n",
      "    \"recall_20\": 0.09444484859704971,\n",
      "    \"recall_30\": 0.10859902948141098,\n",
      "    \"recall_40\": 0.12562350928783417\n",
      "}\n",
      "model save as ./DNNTSP/save_model_folder/TaFeng/DNNTSP/best_model.pkl\n",
      "cost 754 seconds\n"
     ]
    },
    {
     "name": "stderr",
     "output_type": "stream",
     "text": [
      "\u001b[32m[I 2023-04-15 13:23:01,031]\u001b[0m Trial 19 finished with value: 0.0690307691693306 and parameters: {'item_embed_dim': 16, 'n_heads': 1, 'attention_aggregate': 'mean', 'batch_size': 32, 'learning_rate': 0.0027110170569441387, 'weight_decay': 1.8555326036420292e-05}. Best is trial 14 with value: 0.08854873478412628.\u001b[0m\n"
     ]
    },
    {
     "name": "stdout",
     "output_type": "stream",
     "text": [
      "TaFeng/DNNTSP\n",
      "train data length -> 7352\n",
      "validate data length -> 7357\n",
      "temporal_set_prediction(\n",
      "  (item_embedding): Embedding(11202, 16)\n",
      "  (stacked_gcn): stacked_weighted_GCN_blocks(\n",
      "    (0): weighted_GCN(\n",
      "      (gcns): ModuleList(\n",
      "        (0-1): 2 x weighted_graph_conv(\n",
      "          (linear): Linear(in_features=16, out_features=16, bias=True)\n",
      "        )\n",
      "      )\n",
      "      (relus): ModuleList(\n",
      "        (0-1): 2 x ReLU()\n",
      "      )\n",
      "      (bns): ModuleList(\n",
      "        (0-1): 2 x BatchNorm1d(16, eps=1e-05, momentum=0.1, affine=True, track_running_stats=True)\n",
      "      )\n",
      "    )\n",
      "  )\n",
      "  (masked_self_attention): masked_self_attention(\n",
      "    (Wq): Linear(in_features=16, out_features=64, bias=False)\n",
      "    (Wk): Linear(in_features=16, out_features=64, bias=False)\n",
      "    (Wv): Linear(in_features=16, out_features=64, bias=False)\n",
      "  )\n",
      "  (aggregate_nodes_temporal_feature): aggregate_nodes_temporal_feature(\n",
      "    (Wq): Linear(in_features=16, out_features=1, bias=False)\n",
      "  )\n",
      "  (global_gated_update): global_gated_update(\n",
      "    (item_embedding): Embedding(11202, 16)\n",
      "  )\n",
      "  (fc_output): Linear(in_features=16, out_features=1, bias=True)\n",
      ")\n",
      "Adam (\n",
      "Parameter Group 0\n",
      "    amsgrad: False\n",
      "    betas: (0.9, 0.999)\n",
      "    capturable: False\n",
      "    differentiable: False\n",
      "    eps: 1e-08\n",
      "    foreach: None\n",
      "    fused: None\n",
      "    lr: 0.03162962979181326\n",
      "    maximize: False\n",
      "    weight_decay: 0.00019630604722516607\n",
      ")\n"
     ]
    },
    {
     "name": "stderr",
     "output_type": "stream",
     "text": [
      "train epoch: 0, train loss: 0.15701448965169815: 100%|██████████| 230/230 [01:10<00:00,  3.25it/s]\n"
     ]
    },
    {
     "name": "stdout",
     "output_type": "stream",
     "text": [
      "train metric ...\n",
      "{\n",
      "    \"PHR_10\": 0.03618063112078346,\n",
      "    \"PHR_20\": 0.06147986942328618,\n",
      "    \"PHR_30\": 0.08392274211099021,\n",
      "    \"PHR_40\": 0.09793253536452666,\n",
      "    \"ndcg_10\": 0.006385397166013718,\n",
      "    \"ndcg_20\": 0.00832101609557867,\n",
      "    \"ndcg_30\": 0.010196484625339508,\n",
      "    \"ndcg_40\": 0.011305306106805801,\n",
      "    \"recall_10\": 0.008791523054242134,\n",
      "    \"recall_20\": 0.014190180227160454,\n",
      "    \"recall_30\": 0.02007482200860977,\n",
      "    \"recall_40\": 0.02355874516069889\n",
      "}\n"
     ]
    },
    {
     "name": "stderr",
     "output_type": "stream",
     "text": [
      "train epoch: 1, train loss: 0.021366123701243297: 100%|██████████| 230/230 [01:10<00:00,  3.25it/s]\n"
     ]
    },
    {
     "name": "stdout",
     "output_type": "stream",
     "text": [
      "train metric ...\n",
      "{\n",
      "    \"PHR_10\": 0.13887377584330796,\n",
      "    \"PHR_20\": 0.19613710554951033,\n",
      "    \"PHR_30\": 0.23721436343852012,\n",
      "    \"PHR_40\": 0.27094668117519044,\n",
      "    \"ndcg_10\": 0.032863058149814606,\n",
      "    \"ndcg_20\": 0.03787688538432121,\n",
      "    \"ndcg_30\": 0.04155343025922775,\n",
      "    \"ndcg_40\": 0.04461106285452843,\n",
      "    \"recall_10\": 0.03704652190208435,\n",
      "    \"recall_20\": 0.052866578102111816,\n",
      "    \"recall_30\": 0.0643467903137207,\n",
      "    \"recall_40\": 0.07418683916330338\n",
      "}\n"
     ]
    },
    {
     "name": "stderr",
     "output_type": "stream",
     "text": [
      "train epoch: 2, train loss: 0.015299628772165464: 100%|██████████| 230/230 [01:11<00:00,  3.23it/s]\n"
     ]
    },
    {
     "name": "stdout",
     "output_type": "stream",
     "text": [
      "train metric ...\n",
      "{\n",
      "    \"PHR_10\": 0.1497551686615887,\n",
      "    \"PHR_20\": 0.20633841131664854,\n",
      "    \"PHR_30\": 0.250272034820457,\n",
      "    \"PHR_40\": 0.2853645266594124,\n",
      "    \"ndcg_10\": 0.037008028477430344,\n",
      "    \"ndcg_20\": 0.04191941022872925,\n",
      "    \"ndcg_30\": 0.04585215076804161,\n",
      "    \"ndcg_40\": 0.0492095872759819,\n",
      "    \"recall_10\": 0.041250914335250854,\n",
      "    \"recall_20\": 0.05690775066614151,\n",
      "    \"recall_30\": 0.0689942017197609,\n",
      "    \"recall_40\": 0.07996533811092377\n",
      "}\n"
     ]
    },
    {
     "name": "stderr",
     "output_type": "stream",
     "text": [
      "train epoch: 3, train loss: 0.010442568600663673: 100%|██████████| 230/230 [01:11<00:00,  3.23it/s]\n"
     ]
    },
    {
     "name": "stdout",
     "output_type": "stream",
     "text": [
      "train metric ...\n",
      "{\n",
      "    \"PHR_10\": 0.1425462459194777,\n",
      "    \"PHR_20\": 0.20252992383025029,\n",
      "    \"PHR_30\": 0.24075081610446136,\n",
      "    \"PHR_40\": 0.2725788900979325,\n",
      "    \"ndcg_10\": 0.036251407116651535,\n",
      "    \"ndcg_20\": 0.041286125779151917,\n",
      "    \"ndcg_30\": 0.04492586478590965,\n",
      "    \"ndcg_40\": 0.04786286875605583,\n",
      "    \"recall_10\": 0.03971376270055771,\n",
      "    \"recall_20\": 0.05545425042510033,\n",
      "    \"recall_30\": 0.06668643653392792,\n",
      "    \"recall_40\": 0.07650531828403473\n",
      "}\n"
     ]
    },
    {
     "name": "stderr",
     "output_type": "stream",
     "text": [
      "train epoch: 4, train loss: 0.007879952217816658: 100%|██████████| 230/230 [01:10<00:00,  3.25it/s]\n"
     ]
    },
    {
     "name": "stdout",
     "output_type": "stream",
     "text": [
      "train metric ...\n",
      "{\n",
      "    \"PHR_10\": 0.13479325353645266,\n",
      "    \"PHR_20\": 0.1911044613710555,\n",
      "    \"PHR_30\": 0.2237486398258977,\n",
      "    \"PHR_40\": 0.256936887921654,\n",
      "    \"ndcg_10\": 0.03451130911707878,\n",
      "    \"ndcg_20\": 0.03875742852687836,\n",
      "    \"ndcg_30\": 0.0417669340968132,\n",
      "    \"ndcg_40\": 0.04494844749569893,\n",
      "    \"recall_10\": 0.037981681525707245,\n",
      "    \"recall_20\": 0.05102136358618736,\n",
      "    \"recall_30\": 0.0604466050863266,\n",
      "    \"recall_40\": 0.0714428648352623\n",
      "}\n"
     ]
    },
    {
     "name": "stderr",
     "output_type": "stream",
     "text": [
      "train epoch: 5, train loss: 0.006686287636504225: 100%|██████████| 230/230 [01:10<00:00,  3.24it/s]\n"
     ]
    },
    {
     "name": "stdout",
     "output_type": "stream",
     "text": [
      "train metric ...\n",
      "{\n",
      "    \"PHR_10\": 0.13139281828073993,\n",
      "    \"PHR_20\": 0.1822633297062024,\n",
      "    \"PHR_30\": 0.21817192600652885,\n",
      "    \"PHR_40\": 0.24809575625680086,\n",
      "    \"ndcg_10\": 0.03282911330461502,\n",
      "    \"ndcg_20\": 0.036687493324279785,\n",
      "    \"ndcg_30\": 0.0398375429213047,\n",
      "    \"ndcg_40\": 0.04259349778294563,\n",
      "    \"recall_10\": 0.036462150514125824,\n",
      "    \"recall_20\": 0.04877771437168121,\n",
      "    \"recall_30\": 0.05859185755252838,\n",
      "    \"recall_40\": 0.06802704185247421\n",
      "}\n"
     ]
    },
    {
     "name": "stderr",
     "output_type": "stream",
     "text": [
      "train epoch: 6, train loss: 0.0060623029084957165: 100%|██████████| 230/230 [01:10<00:00,  3.27it/s]\n"
     ]
    },
    {
     "name": "stdout",
     "output_type": "stream",
     "text": [
      "train metric ...\n",
      "{\n",
      "    \"PHR_10\": 0.10786180631120783,\n",
      "    \"PHR_20\": 0.15669205658324264,\n",
      "    \"PHR_30\": 0.19409684439608269,\n",
      "    \"PHR_40\": 0.22701305767138194,\n",
      "    \"ndcg_10\": 0.024880530312657356,\n",
      "    \"ndcg_20\": 0.02882966957986355,\n",
      "    \"ndcg_30\": 0.03203551098704338,\n",
      "    \"ndcg_40\": 0.034837037324905396,\n",
      "    \"recall_10\": 0.02919205091893673,\n",
      "    \"recall_20\": 0.04154876992106438,\n",
      "    \"recall_30\": 0.051686424762010574,\n",
      "    \"recall_40\": 0.06070857122540474\n",
      "}\n"
     ]
    },
    {
     "name": "stderr",
     "output_type": "stream",
     "text": [
      "train epoch: 7, train loss: 0.005704416861028775: 100%|██████████| 230/230 [01:10<00:00,  3.27it/s]\n"
     ]
    },
    {
     "name": "stdout",
     "output_type": "stream",
     "text": [
      "train metric ...\n",
      "{\n",
      "    \"PHR_10\": 0.0632480957562568,\n",
      "    \"PHR_20\": 0.10364526659412404,\n",
      "    \"PHR_30\": 0.1381936887921654,\n",
      "    \"PHR_40\": 0.16689336235038085,\n",
      "    \"ndcg_10\": 0.01093781553208828,\n",
      "    \"ndcg_20\": 0.014484778977930546,\n",
      "    \"ndcg_30\": 0.017000962048768997,\n",
      "    \"ndcg_40\": 0.019147401675581932,\n",
      "    \"recall_10\": 0.016978973522782326,\n",
      "    \"recall_20\": 0.02718200907111168,\n",
      "    \"recall_30\": 0.03446624055504799,\n",
      "    \"recall_40\": 0.0413881354033947\n",
      "}\n"
     ]
    },
    {
     "name": "stderr",
     "output_type": "stream",
     "text": [
      "validate epoch: 7, validate loss: 0.005477159273932161: 100%|██████████| 230/230 [01:06<00:00,  3.44it/s]\n"
     ]
    },
    {
     "name": "stdout",
     "output_type": "stream",
     "text": [
      "validate metric ...\n",
      "{\n",
      "    \"PHR_10\": 0.02528204431154003,\n",
      "    \"PHR_20\": 0.15046894114448825,\n",
      "    \"PHR_30\": 0.21054777762675003,\n",
      "    \"PHR_40\": 0.23746092157129264,\n",
      "    \"ndcg_10\": 0.003127665724605322,\n",
      "    \"ndcg_20\": 0.017339743673801422,\n",
      "    \"ndcg_30\": 0.023098090663552284,\n",
      "    \"ndcg_40\": 0.025126872584223747,\n",
      "    \"recall_10\": 0.006373900454491377,\n",
      "    \"recall_20\": 0.04747343808412552,\n",
      "    \"recall_30\": 0.06807302683591843,\n",
      "    \"recall_40\": 0.07469732314348221\n",
      "}\n",
      "model save as ./DNNTSP/save_model_folder/TaFeng/DNNTSP/best_model.pkl\n",
      "cost 751 seconds\n"
     ]
    },
    {
     "name": "stderr",
     "output_type": "stream",
     "text": [
      "\u001b[32m[I 2023-04-15 13:35:37,699]\u001b[0m Trial 20 finished with value: 0.003127665724605322 and parameters: {'item_embed_dim': 16, 'n_heads': 4, 'attention_aggregate': 'mean', 'batch_size': 32, 'learning_rate': 0.03162962979181326, 'weight_decay': 0.00019630604722516607}. Best is trial 14 with value: 0.08854873478412628.\u001b[0m\n"
     ]
    },
    {
     "name": "stdout",
     "output_type": "stream",
     "text": [
      "TaFeng/DNNTSP\n",
      "train data length -> 7352\n",
      "validate data length -> 7357\n",
      "temporal_set_prediction(\n",
      "  (item_embedding): Embedding(11202, 16)\n",
      "  (stacked_gcn): stacked_weighted_GCN_blocks(\n",
      "    (0): weighted_GCN(\n",
      "      (gcns): ModuleList(\n",
      "        (0-1): 2 x weighted_graph_conv(\n",
      "          (linear): Linear(in_features=16, out_features=16, bias=True)\n",
      "        )\n",
      "      )\n",
      "      (relus): ModuleList(\n",
      "        (0-1): 2 x ReLU()\n",
      "      )\n",
      "      (bns): ModuleList(\n",
      "        (0-1): 2 x BatchNorm1d(16, eps=1e-05, momentum=0.1, affine=True, track_running_stats=True)\n",
      "      )\n",
      "    )\n",
      "  )\n",
      "  (masked_self_attention): masked_self_attention(\n",
      "    (Wq): Linear(in_features=16, out_features=16, bias=False)\n",
      "    (Wk): Linear(in_features=16, out_features=16, bias=False)\n",
      "    (Wv): Linear(in_features=16, out_features=16, bias=False)\n",
      "  )\n",
      "  (aggregate_nodes_temporal_feature): aggregate_nodes_temporal_feature(\n",
      "    (Wq): Linear(in_features=16, out_features=1, bias=False)\n",
      "  )\n",
      "  (global_gated_update): global_gated_update(\n",
      "    (item_embedding): Embedding(11202, 16)\n",
      "  )\n",
      "  (fc_output): Linear(in_features=16, out_features=1, bias=True)\n",
      ")\n",
      "Adam (\n",
      "Parameter Group 0\n",
      "    amsgrad: False\n",
      "    betas: (0.9, 0.999)\n",
      "    capturable: False\n",
      "    differentiable: False\n",
      "    eps: 1e-08\n",
      "    foreach: None\n",
      "    fused: None\n",
      "    lr: 0.006091293174242892\n",
      "    maximize: False\n",
      "    weight_decay: 3.1486369586640648e-06\n",
      ")\n"
     ]
    },
    {
     "name": "stderr",
     "output_type": "stream",
     "text": [
      "train epoch: 0, train loss: 0.17429939378862797: 100%|██████████| 230/230 [01:10<00:00,  3.28it/s]\n"
     ]
    },
    {
     "name": "stdout",
     "output_type": "stream",
     "text": [
      "train metric ...\n",
      "{\n",
      "    \"PHR_10\": 0.051686615886833515,\n",
      "    \"PHR_20\": 0.0705930359085963,\n",
      "    \"PHR_30\": 0.08949945593035909,\n",
      "    \"PHR_40\": 0.10908596300326442,\n",
      "    \"ndcg_10\": 0.012690387666225433,\n",
      "    \"ndcg_20\": 0.01417978759855032,\n",
      "    \"ndcg_30\": 0.015741899609565735,\n",
      "    \"ndcg_40\": 0.017330216243863106,\n",
      "    \"recall_10\": 0.012612820602953434,\n",
      "    \"recall_20\": 0.01780044659972191,\n",
      "    \"recall_30\": 0.02267085760831833,\n",
      "    \"recall_40\": 0.028134457767009735\n",
      "}\n"
     ]
    },
    {
     "name": "stderr",
     "output_type": "stream",
     "text": [
      "train epoch: 1, train loss: 0.012474384478738774: 100%|██████████| 230/230 [01:09<00:00,  3.29it/s]\n"
     ]
    },
    {
     "name": "stdout",
     "output_type": "stream",
     "text": [
      "train metric ...\n",
      "{\n",
      "    \"PHR_10\": 0.23313384113166485,\n",
      "    \"PHR_20\": 0.3107997823721436,\n",
      "    \"PHR_30\": 0.3679270946681175,\n",
      "    \"PHR_40\": 0.4027475516866159,\n",
      "    \"ndcg_10\": 0.05458560213446617,\n",
      "    \"ndcg_20\": 0.06265462934970856,\n",
      "    \"ndcg_30\": 0.06918273866176605,\n",
      "    \"ndcg_40\": 0.07371443510055542,\n",
      "    \"recall_10\": 0.06363638490438461,\n",
      "    \"recall_20\": 0.08969184756278992,\n",
      "    \"recall_30\": 0.11023593693971634,\n",
      "    \"recall_40\": 0.12533698976039886\n",
      "}\n"
     ]
    },
    {
     "name": "stderr",
     "output_type": "stream",
     "text": [
      "train epoch: 2, train loss: 0.00898971219709062: 100%|██████████| 230/230 [01:09<00:00,  3.29it/s]\n"
     ]
    },
    {
     "name": "stdout",
     "output_type": "stream",
     "text": [
      "train metric ...\n",
      "{\n",
      "    \"PHR_10\": 0.2411588683351469,\n",
      "    \"PHR_20\": 0.32113710554951036,\n",
      "    \"PHR_30\": 0.37282372143634385,\n",
      "    \"PHR_40\": 0.41390097932535364,\n",
      "    \"ndcg_10\": 0.057772014290094376,\n",
      "    \"ndcg_20\": 0.0662505105137825,\n",
      "    \"ndcg_30\": 0.07268296927213669,\n",
      "    \"ndcg_40\": 0.07793363183736801,\n",
      "    \"recall_10\": 0.0669810101389885,\n",
      "    \"recall_20\": 0.09400472044944763,\n",
      "    \"recall_30\": 0.11442216485738754,\n",
      "    \"recall_40\": 0.13178274035453796\n",
      "}\n"
     ]
    },
    {
     "name": "stderr",
     "output_type": "stream",
     "text": [
      "train epoch: 3, train loss: 0.0075702428291349304: 100%|██████████| 230/230 [01:10<00:00,  3.28it/s]\n"
     ]
    },
    {
     "name": "stdout",
     "output_type": "stream",
     "text": [
      "train metric ...\n",
      "{\n",
      "    \"PHR_10\": 0.24333514689880303,\n",
      "    \"PHR_20\": 0.32304134929270945,\n",
      "    \"PHR_30\": 0.3735038084874864,\n",
      "    \"PHR_40\": 0.41240478781284007,\n",
      "    \"ndcg_10\": 0.0581054612994194,\n",
      "    \"ndcg_20\": 0.06654155999422073,\n",
      "    \"ndcg_30\": 0.07280605286359787,\n",
      "    \"ndcg_40\": 0.07784923166036606,\n",
      "    \"recall_10\": 0.06850835680961609,\n",
      "    \"recall_20\": 0.09563063830137253,\n",
      "    \"recall_30\": 0.11489109694957733,\n",
      "    \"recall_40\": 0.13146382570266724\n",
      "}\n"
     ]
    },
    {
     "name": "stderr",
     "output_type": "stream",
     "text": [
      "train epoch: 4, train loss: 0.0068133721371059835: 100%|██████████| 230/230 [01:10<00:00,  3.27it/s]\n"
     ]
    },
    {
     "name": "stdout",
     "output_type": "stream",
     "text": [
      "train metric ...\n",
      "{\n",
      "    \"PHR_10\": 0.21354733405875953,\n",
      "    \"PHR_20\": 0.2955658324265506,\n",
      "    \"PHR_30\": 0.35024483133841133,\n",
      "    \"PHR_40\": 0.3895538628944505,\n",
      "    \"ndcg_10\": 0.051072198897600174,\n",
      "    \"ndcg_20\": 0.05928792059421539,\n",
      "    \"ndcg_30\": 0.06563728302717209,\n",
      "    \"ndcg_40\": 0.07053711265325546,\n",
      "    \"recall_10\": 0.058901332318782806,\n",
      "    \"recall_20\": 0.08436588943004608,\n",
      "    \"recall_30\": 0.10447276383638382,\n",
      "    \"recall_40\": 0.12026957422494888\n",
      "}\n"
     ]
    },
    {
     "name": "stderr",
     "output_type": "stream",
     "text": [
      "train epoch: 5, train loss: 0.006324076016797967: 100%|██████████| 230/230 [01:10<00:00,  3.28it/s]\n"
     ]
    },
    {
     "name": "stdout",
     "output_type": "stream",
     "text": [
      "train metric ...\n",
      "{\n",
      "    \"PHR_10\": 0.21245919477693145,\n",
      "    \"PHR_20\": 0.2924374319912949,\n",
      "    \"PHR_30\": 0.34289989118607184,\n",
      "    \"PHR_40\": 0.38452121871599565,\n",
      "    \"ndcg_10\": 0.05156836286187172,\n",
      "    \"ndcg_20\": 0.05922266095876694,\n",
      "    \"ndcg_30\": 0.06531336158514023,\n",
      "    \"ndcg_40\": 0.07009965181350708,\n",
      "    \"recall_10\": 0.0581694096326828,\n",
      "    \"recall_20\": 0.08282237499952316,\n",
      "    \"recall_30\": 0.10194380581378937,\n",
      "    \"recall_40\": 0.11751855164766312\n",
      "}\n"
     ]
    },
    {
     "name": "stderr",
     "output_type": "stream",
     "text": [
      "train epoch: 6, train loss: 0.005977247928714622: 100%|██████████| 230/230 [01:10<00:00,  3.25it/s]\n"
     ]
    },
    {
     "name": "stdout",
     "output_type": "stream",
     "text": [
      "train metric ...\n",
      "{\n",
      "    \"PHR_10\": 0.20946681175190424,\n",
      "    \"PHR_20\": 0.2869967355821545,\n",
      "    \"PHR_30\": 0.3366430903155604,\n",
      "    \"PHR_40\": 0.3789445048966268,\n",
      "    \"ndcg_10\": 0.050469256937503815,\n",
      "    \"ndcg_20\": 0.05770321190357208,\n",
      "    \"ndcg_30\": 0.06365210562944412,\n",
      "    \"ndcg_40\": 0.06853893399238586,\n",
      "    \"recall_10\": 0.05742901936173439,\n",
      "    \"recall_20\": 0.08029119670391083,\n",
      "    \"recall_30\": 0.09923567622900009,\n",
      "    \"recall_40\": 0.11533941328525543\n",
      "}\n"
     ]
    },
    {
     "name": "stderr",
     "output_type": "stream",
     "text": [
      "train epoch: 7, train loss: 0.005714808604882463: 100%|██████████| 230/230 [01:10<00:00,  3.26it/s]\n"
     ]
    },
    {
     "name": "stdout",
     "output_type": "stream",
     "text": [
      "train metric ...\n",
      "{\n",
      "    \"PHR_10\": 0.20511425462459196,\n",
      "    \"PHR_20\": 0.28196409140369966,\n",
      "    \"PHR_30\": 0.3322905331882481,\n",
      "    \"PHR_40\": 0.37295973884657235,\n",
      "    \"ndcg_10\": 0.04936882108449936,\n",
      "    \"ndcg_20\": 0.056522488594055176,\n",
      "    \"ndcg_30\": 0.062368959188461304,\n",
      "    \"ndcg_40\": 0.0670834630727768,\n",
      "    \"recall_10\": 0.055934611707925797,\n",
      "    \"recall_20\": 0.07868865877389908,\n",
      "    \"recall_30\": 0.0974380224943161,\n",
      "    \"recall_40\": 0.11289648711681366\n",
      "}\n"
     ]
    },
    {
     "name": "stderr",
     "output_type": "stream",
     "text": [
      "validate epoch: 7, validate loss: 0.005458821690357898: 100%|██████████| 230/230 [01:08<00:00,  3.37it/s]\n"
     ]
    },
    {
     "name": "stdout",
     "output_type": "stream",
     "text": [
      "validate metric ...\n",
      "{\n",
      "    \"PHR_10\": 0.24031534592904716,\n",
      "    \"PHR_20\": 0.30705450591273614,\n",
      "    \"PHR_30\": 0.3493271714013864,\n",
      "    \"PHR_40\": 0.3875220878075302,\n",
      "    \"ndcg_10\": 0.07153655588626862,\n",
      "    \"ndcg_20\": 0.07797347754240036,\n",
      "    \"ndcg_30\": 0.08295215666294098,\n",
      "    \"ndcg_40\": 0.08859987556934357,\n",
      "    \"recall_10\": 0.07669121772050858,\n",
      "    \"recall_20\": 0.09719355404376984,\n",
      "    \"recall_30\": 0.11176132410764694,\n",
      "    \"recall_40\": 0.13142187893390656\n",
      "}\n",
      "model save as ./DNNTSP/save_model_folder/TaFeng/DNNTSP/best_model.pkl\n",
      "cost 748 seconds\n"
     ]
    },
    {
     "name": "stderr",
     "output_type": "stream",
     "text": [
      "\u001b[32m[I 2023-04-15 13:48:12,120]\u001b[0m Trial 21 finished with value: 0.07153655588626862 and parameters: {'item_embed_dim': 16, 'n_heads': 1, 'attention_aggregate': 'mean', 'batch_size': 32, 'learning_rate': 0.006091293174242892, 'weight_decay': 3.1486369586640648e-06}. Best is trial 14 with value: 0.08854873478412628.\u001b[0m\n"
     ]
    },
    {
     "name": "stdout",
     "output_type": "stream",
     "text": [
      "TaFeng/DNNTSP\n",
      "train data length -> 7352\n",
      "validate data length -> 7357\n",
      "temporal_set_prediction(\n",
      "  (item_embedding): Embedding(11202, 16)\n",
      "  (stacked_gcn): stacked_weighted_GCN_blocks(\n",
      "    (0): weighted_GCN(\n",
      "      (gcns): ModuleList(\n",
      "        (0-1): 2 x weighted_graph_conv(\n",
      "          (linear): Linear(in_features=16, out_features=16, bias=True)\n",
      "        )\n",
      "      )\n",
      "      (relus): ModuleList(\n",
      "        (0-1): 2 x ReLU()\n",
      "      )\n",
      "      (bns): ModuleList(\n",
      "        (0-1): 2 x BatchNorm1d(16, eps=1e-05, momentum=0.1, affine=True, track_running_stats=True)\n",
      "      )\n",
      "    )\n",
      "  )\n",
      "  (masked_self_attention): masked_self_attention(\n",
      "    (Wq): Linear(in_features=16, out_features=16, bias=False)\n",
      "    (Wk): Linear(in_features=16, out_features=16, bias=False)\n",
      "    (Wv): Linear(in_features=16, out_features=16, bias=False)\n",
      "  )\n",
      "  (aggregate_nodes_temporal_feature): aggregate_nodes_temporal_feature(\n",
      "    (Wq): Linear(in_features=16, out_features=1, bias=False)\n",
      "  )\n",
      "  (global_gated_update): global_gated_update(\n",
      "    (item_embedding): Embedding(11202, 16)\n",
      "  )\n",
      "  (fc_output): Linear(in_features=16, out_features=1, bias=True)\n",
      ")\n",
      "Adam (\n",
      "Parameter Group 0\n",
      "    amsgrad: False\n",
      "    betas: (0.9, 0.999)\n",
      "    capturable: False\n",
      "    differentiable: False\n",
      "    eps: 1e-08\n",
      "    foreach: None\n",
      "    fused: None\n",
      "    lr: 0.008119309635063326\n",
      "    maximize: False\n",
      "    weight_decay: 2.6680577087170517e-06\n",
      ")\n"
     ]
    },
    {
     "name": "stderr",
     "output_type": "stream",
     "text": [
      "train epoch: 0, train loss: 0.11160635650157928: 100%|██████████| 230/230 [01:11<00:00,  3.24it/s]\n"
     ]
    },
    {
     "name": "stdout",
     "output_type": "stream",
     "text": [
      "train metric ...\n",
      "{\n",
      "    \"PHR_10\": 0.09752448313384113,\n",
      "    \"PHR_20\": 0.1292165397170838,\n",
      "    \"PHR_30\": 0.14880304678998912,\n",
      "    \"PHR_40\": 0.16594124047878128,\n",
      "    \"ndcg_10\": 0.021865416318178177,\n",
      "    \"ndcg_20\": 0.024731816723942757,\n",
      "    \"ndcg_30\": 0.026447299867868423,\n",
      "    \"ndcg_40\": 0.02810448594391346,\n",
      "    \"recall_10\": 0.025257479399442673,\n",
      "    \"recall_20\": 0.03468143939971924,\n",
      "    \"recall_30\": 0.03973821923136711,\n",
      "    \"recall_40\": 0.04510055482387543\n",
      "}\n"
     ]
    },
    {
     "name": "stderr",
     "output_type": "stream",
     "text": [
      "train epoch: 1, train loss: 0.00939637204915609: 100%|██████████| 230/230 [01:10<00:00,  3.25it/s]\n"
     ]
    },
    {
     "name": "stdout",
     "output_type": "stream",
     "text": [
      "train metric ...\n",
      "{\n",
      "    \"PHR_10\": 0.24469532100108815,\n",
      "    \"PHR_20\": 0.3254896626768226,\n",
      "    \"PHR_30\": 0.37663220892274213,\n",
      "    \"PHR_40\": 0.4164853101196953,\n",
      "    \"ndcg_10\": 0.058953672647476196,\n",
      "    \"ndcg_20\": 0.06709358841180801,\n",
      "    \"ndcg_30\": 0.07346633821725845,\n",
      "    \"ndcg_40\": 0.0786127969622612,\n",
      "    \"recall_10\": 0.06959298253059387,\n",
      "    \"recall_20\": 0.09531628340482712,\n",
      "    \"recall_30\": 0.11526498198509216,\n",
      "    \"recall_40\": 0.13222025334835052\n",
      "}\n"
     ]
    },
    {
     "name": "stderr",
     "output_type": "stream",
     "text": [
      "train epoch: 2, train loss: 0.00717470265277054: 100%|██████████| 230/230 [01:10<00:00,  3.25it/s]\n"
     ]
    },
    {
     "name": "stdout",
     "output_type": "stream",
     "text": [
      "train metric ...\n",
      "{\n",
      "    \"PHR_10\": 0.2294613710554951,\n",
      "    \"PHR_20\": 0.31243199129488575,\n",
      "    \"PHR_30\": 0.36520674646354734,\n",
      "    \"PHR_40\": 0.4047878128400435,\n",
      "    \"ndcg_10\": 0.05495889112353325,\n",
      "    \"ndcg_20\": 0.06340416520833969,\n",
      "    \"ndcg_30\": 0.06976255774497986,\n",
      "    \"ndcg_40\": 0.07462362945079803,\n",
      "    \"recall_10\": 0.06549172848463058,\n",
      "    \"recall_20\": 0.09118325263261795,\n",
      "    \"recall_30\": 0.11143365502357483,\n",
      "    \"recall_40\": 0.12733213603496552\n",
      "}\n"
     ]
    },
    {
     "name": "stderr",
     "output_type": "stream",
     "text": [
      "train epoch: 3, train loss: 0.006316006529833312: 100%|██████████| 230/230 [01:10<00:00,  3.26it/s]\n"
     ]
    },
    {
     "name": "stdout",
     "output_type": "stream",
     "text": [
      "train metric ...\n",
      "{\n",
      "    \"PHR_10\": 0.20334602829162132,\n",
      "    \"PHR_20\": 0.28155603917301414,\n",
      "    \"PHR_30\": 0.3336507072905332,\n",
      "    \"PHR_40\": 0.37391186071817195,\n",
      "    \"ndcg_10\": 0.04801863804459572,\n",
      "    \"ndcg_20\": 0.055574264377355576,\n",
      "    \"ndcg_30\": 0.06181415542960167,\n",
      "    \"ndcg_40\": 0.06676210463047028,\n",
      "    \"recall_10\": 0.0557762086391449,\n",
      "    \"recall_20\": 0.07893610745668411,\n",
      "    \"recall_30\": 0.09892496466636658,\n",
      "    \"recall_40\": 0.11531146615743637\n",
      "}\n"
     ]
    },
    {
     "name": "stderr",
     "output_type": "stream",
     "text": [
      "train epoch: 4, train loss: 0.005836570131309006: 100%|██████████| 230/230 [01:10<00:00,  3.25it/s]\n"
     ]
    },
    {
     "name": "stdout",
     "output_type": "stream",
     "text": [
      "train metric ...\n",
      "{\n",
      "    \"PHR_10\": 0.20321001088139282,\n",
      "    \"PHR_20\": 0.2778835690968444,\n",
      "    \"PHR_30\": 0.33025027203482044,\n",
      "    \"PHR_40\": 0.36561479869423286,\n",
      "    \"ndcg_10\": 0.04834895581007004,\n",
      "    \"ndcg_20\": 0.055467717349529266,\n",
      "    \"ndcg_30\": 0.06111368164420128,\n",
      "    \"ndcg_40\": 0.06534973531961441,\n",
      "    \"recall_10\": 0.05585726350545883,\n",
      "    \"recall_20\": 0.07813610881567001,\n",
      "    \"recall_30\": 0.09606385976076126,\n",
      "    \"recall_40\": 0.10995475947856903\n",
      "}\n"
     ]
    },
    {
     "name": "stderr",
     "output_type": "stream",
     "text": [
      "train epoch: 5, train loss: 0.005522874283158908: 100%|██████████| 230/230 [01:10<00:00,  3.26it/s]\n"
     ]
    },
    {
     "name": "stdout",
     "output_type": "stream",
     "text": [
      "train metric ...\n",
      "{\n",
      "    \"PHR_10\": 0.19912948857453755,\n",
      "    \"PHR_20\": 0.2725788900979325,\n",
      "    \"PHR_30\": 0.32317736670293795,\n",
      "    \"PHR_40\": 0.360582154515778,\n",
      "    \"ndcg_10\": 0.047048091888427734,\n",
      "    \"ndcg_20\": 0.054183635860681534,\n",
      "    \"ndcg_30\": 0.05978064239025116,\n",
      "    \"ndcg_40\": 0.06389350444078445,\n",
      "    \"recall_10\": 0.054398007690906525,\n",
      "    \"recall_20\": 0.07651793956756592,\n",
      "    \"recall_30\": 0.09441492706537247,\n",
      "    \"recall_40\": 0.10784730315208435\n",
      "}\n"
     ]
    },
    {
     "name": "stderr",
     "output_type": "stream",
     "text": [
      "train epoch: 6, train loss: 0.005290623591281474: 100%|██████████| 230/230 [01:11<00:00,  3.23it/s]\n"
     ]
    },
    {
     "name": "stdout",
     "output_type": "stream",
     "text": [
      "train metric ...\n",
      "{\n",
      "    \"PHR_10\": 0.21953210010881394,\n",
      "    \"PHR_20\": 0.29678998911860716,\n",
      "    \"PHR_30\": 0.34357997823721437,\n",
      "    \"PHR_40\": 0.3797606093579978,\n",
      "    \"ndcg_10\": 0.05242908000946045,\n",
      "    \"ndcg_20\": 0.06046146899461746,\n",
      "    \"ndcg_30\": 0.0659937858581543,\n",
      "    \"ndcg_40\": 0.07028454542160034,\n",
      "    \"recall_10\": 0.05997980758547783,\n",
      "    \"recall_20\": 0.08543480932712555,\n",
      "    \"recall_30\": 0.10312613099813461,\n",
      "    \"recall_40\": 0.11737944930791855\n",
      "}\n"
     ]
    },
    {
     "name": "stderr",
     "output_type": "stream",
     "text": [
      "train epoch: 7, train loss: 0.005145193266925281: 100%|██████████| 230/230 [01:10<00:00,  3.26it/s]\n"
     ]
    },
    {
     "name": "stdout",
     "output_type": "stream",
     "text": [
      "train metric ...\n",
      "{\n",
      "    \"PHR_10\": 0.17682263329706202,\n",
      "    \"PHR_20\": 0.24714363438520132,\n",
      "    \"PHR_30\": 0.29488574537540807,\n",
      "    \"PHR_40\": 0.33161044613710555,\n",
      "    \"ndcg_10\": 0.04162665829062462,\n",
      "    \"ndcg_20\": 0.04796909913420677,\n",
      "    \"ndcg_30\": 0.053062472492456436,\n",
      "    \"ndcg_40\": 0.05692988634109497,\n",
      "    \"recall_10\": 0.048611514270305634,\n",
      "    \"recall_20\": 0.06815376877784729,\n",
      "    \"recall_30\": 0.08427385240793228,\n",
      "    \"recall_40\": 0.09693541377782822\n",
      "}\n"
     ]
    },
    {
     "name": "stderr",
     "output_type": "stream",
     "text": [
      "validate epoch: 7, validate loss: 0.004915649566353987: 100%|██████████| 230/230 [01:08<00:00,  3.37it/s]\n"
     ]
    },
    {
     "name": "stdout",
     "output_type": "stream",
     "text": [
      "validate metric ...\n"
     ]
    },
    {
     "name": "stderr",
     "output_type": "stream",
     "text": [
      "\u001b[32m[I 2023-04-15 14:00:51,398]\u001b[0m Trial 22 finished with value: 0.06955162435770035 and parameters: {'item_embed_dim': 16, 'n_heads': 1, 'attention_aggregate': 'mean', 'batch_size': 32, 'learning_rate': 0.008119309635063326, 'weight_decay': 2.6680577087170517e-06}. Best is trial 14 with value: 0.08854873478412628.\u001b[0m\n"
     ]
    },
    {
     "name": "stdout",
     "output_type": "stream",
     "text": [
      "{\n",
      "    \"PHR_10\": 0.22862579855919532,\n",
      "    \"PHR_20\": 0.2717140138643469,\n",
      "    \"PHR_30\": 0.3031126817996466,\n",
      "    \"PHR_40\": 0.3481038466766345,\n",
      "    \"ndcg_10\": 0.06955162435770035,\n",
      "    \"ndcg_20\": 0.07276662439107895,\n",
      "    \"ndcg_30\": 0.07712627202272415,\n",
      "    \"ndcg_40\": 0.08192586153745651,\n",
      "    \"recall_10\": 0.07528059184551239,\n",
      "    \"recall_20\": 0.08683641999959946,\n",
      "    \"recall_30\": 0.10057038068771362,\n",
      "    \"recall_40\": 0.11721236258745193\n",
      "}\n",
      "model save as ./DNNTSP/save_model_folder/TaFeng/DNNTSP/best_model.pkl\n",
      "cost 754 seconds\n",
      "TaFeng/DNNTSP\n",
      "train data length -> 7352\n",
      "validate data length -> 7357\n",
      "temporal_set_prediction(\n",
      "  (item_embedding): Embedding(11202, 16)\n",
      "  (stacked_gcn): stacked_weighted_GCN_blocks(\n",
      "    (0): weighted_GCN(\n",
      "      (gcns): ModuleList(\n",
      "        (0-1): 2 x weighted_graph_conv(\n",
      "          (linear): Linear(in_features=16, out_features=16, bias=True)\n",
      "        )\n",
      "      )\n",
      "      (relus): ModuleList(\n",
      "        (0-1): 2 x ReLU()\n",
      "      )\n",
      "      (bns): ModuleList(\n",
      "        (0-1): 2 x BatchNorm1d(16, eps=1e-05, momentum=0.1, affine=True, track_running_stats=True)\n",
      "      )\n",
      "    )\n",
      "  )\n",
      "  (masked_self_attention): masked_self_attention(\n",
      "    (Wq): Linear(in_features=16, out_features=16, bias=False)\n",
      "    (Wk): Linear(in_features=16, out_features=16, bias=False)\n",
      "    (Wv): Linear(in_features=16, out_features=16, bias=False)\n",
      "  )\n",
      "  (aggregate_nodes_temporal_feature): aggregate_nodes_temporal_feature(\n",
      "    (Wq): Linear(in_features=16, out_features=1, bias=False)\n",
      "  )\n",
      "  (global_gated_update): global_gated_update(\n",
      "    (item_embedding): Embedding(11202, 16)\n",
      "  )\n",
      "  (fc_output): Linear(in_features=16, out_features=1, bias=True)\n",
      ")\n",
      "Adam (\n",
      "Parameter Group 0\n",
      "    amsgrad: False\n",
      "    betas: (0.9, 0.999)\n",
      "    capturable: False\n",
      "    differentiable: False\n",
      "    eps: 1e-08\n",
      "    foreach: None\n",
      "    fused: None\n",
      "    lr: 0.004528813442349764\n",
      "    maximize: False\n",
      "    weight_decay: 7.636850163092478e-06\n",
      ")\n"
     ]
    },
    {
     "name": "stderr",
     "output_type": "stream",
     "text": [
      "train epoch: 0, train loss: 0.26194971398976835: 100%|██████████| 230/230 [01:10<00:00,  3.26it/s]\n"
     ]
    },
    {
     "name": "stdout",
     "output_type": "stream",
     "text": [
      "train metric ...\n",
      "{\n",
      "    \"PHR_10\": 0.010337323177366704,\n",
      "    \"PHR_20\": 0.016050054406964092,\n",
      "    \"PHR_30\": 0.020946681175190423,\n",
      "    \"PHR_40\": 0.029515778019586505,\n",
      "    \"ndcg_10\": 0.001491947565227747,\n",
      "    \"ndcg_20\": 0.001846476225182414,\n",
      "    \"ndcg_30\": 0.0021571642719209194,\n",
      "    \"ndcg_40\": 0.0026273366529494524,\n",
      "    \"recall_10\": 0.0016780197620391846,\n",
      "    \"recall_20\": 0.0029265752527862787,\n",
      "    \"recall_30\": 0.003842398524284363,\n",
      "    \"recall_40\": 0.005261487327516079\n",
      "}\n"
     ]
    },
    {
     "name": "stderr",
     "output_type": "stream",
     "text": [
      "train epoch: 1, train loss: 0.022389035712441673: 100%|██████████| 230/230 [01:10<00:00,  3.26it/s]\n"
     ]
    },
    {
     "name": "stdout",
     "output_type": "stream",
     "text": [
      "train metric ...\n",
      "{\n",
      "    \"PHR_10\": 0.1339771490750816,\n",
      "    \"PHR_20\": 0.16131664853101196,\n",
      "    \"PHR_30\": 0.17859085963003266,\n",
      "    \"PHR_40\": 0.19518498367791076,\n",
      "    \"ndcg_10\": 0.03485996276140213,\n",
      "    \"ndcg_20\": 0.03639838472008705,\n",
      "    \"ndcg_30\": 0.037715185433626175,\n",
      "    \"ndcg_40\": 0.03908883407711983,\n",
      "    \"recall_10\": 0.03656503185629845,\n",
      "    \"recall_20\": 0.04377731680870056,\n",
      "    \"recall_30\": 0.04814445972442627,\n",
      "    \"recall_40\": 0.05271993577480316\n",
      "}\n"
     ]
    },
    {
     "name": "stderr",
     "output_type": "stream",
     "text": [
      "train epoch: 2, train loss: 0.01438316059825213: 100%|██████████| 230/230 [01:10<00:00,  3.27it/s]\n"
     ]
    },
    {
     "name": "stdout",
     "output_type": "stream",
     "text": [
      "train metric ...\n",
      "{\n",
      "    \"PHR_10\": 0.20661044613710555,\n",
      "    \"PHR_20\": 0.26659412404787813,\n",
      "    \"PHR_30\": 0.30508705114254625,\n",
      "    \"PHR_40\": 0.3322905331882481,\n",
      "    \"ndcg_10\": 0.04966176673769951,\n",
      "    \"ndcg_20\": 0.05502040684223175,\n",
      "    \"ndcg_30\": 0.058955784887075424,\n",
      "    \"ndcg_40\": 0.062032174319028854,\n",
      "    \"recall_10\": 0.05746917054057121,\n",
      "    \"recall_20\": 0.07483214884996414,\n",
      "    \"recall_30\": 0.08704914152622223,\n",
      "    \"recall_40\": 0.09708434343338013\n",
      "}\n"
     ]
    },
    {
     "name": "stderr",
     "output_type": "stream",
     "text": [
      "train epoch: 3, train loss: 0.011350265408501677: 100%|██████████| 230/230 [01:10<00:00,  3.25it/s]\n"
     ]
    },
    {
     "name": "stdout",
     "output_type": "stream",
     "text": [
      "train metric ...\n",
      "{\n",
      "    \"PHR_10\": 0.20484221980413492,\n",
      "    \"PHR_20\": 0.27842763873775844,\n",
      "    \"PHR_30\": 0.3307943416757345,\n",
      "    \"PHR_40\": 0.3737758433079434,\n",
      "    \"ndcg_10\": 0.04926692694425583,\n",
      "    \"ndcg_20\": 0.05610407143831253,\n",
      "    \"ndcg_30\": 0.062010910362005234,\n",
      "    \"ndcg_40\": 0.06717841327190399,\n",
      "    \"recall_10\": 0.057063087821006775,\n",
      "    \"recall_20\": 0.07806599885225296,\n",
      "    \"recall_30\": 0.09644674509763718,\n",
      "    \"recall_40\": 0.11370638757944107\n",
      "}\n"
     ]
    },
    {
     "name": "stderr",
     "output_type": "stream",
     "text": [
      "train epoch: 4, train loss: 0.009759046538206546: 100%|██████████| 230/230 [01:10<00:00,  3.27it/s]\n"
     ]
    },
    {
     "name": "stdout",
     "output_type": "stream",
     "text": [
      "train metric ...\n",
      "{\n",
      "    \"PHR_10\": 0.20171381936887922,\n",
      "    \"PHR_20\": 0.2735310119695321,\n",
      "    \"PHR_30\": 0.3261697497279652,\n",
      "    \"PHR_40\": 0.367791077257889,\n",
      "    \"ndcg_10\": 0.048715732991695404,\n",
      "    \"ndcg_20\": 0.055508192628622055,\n",
      "    \"ndcg_30\": 0.06144355610013008,\n",
      "    \"ndcg_40\": 0.06635717302560806,\n",
      "    \"recall_10\": 0.05594855174422264,\n",
      "    \"recall_20\": 0.07732391357421875,\n",
      "    \"recall_30\": 0.09561711549758911,\n",
      "    \"recall_40\": 0.11180072277784348\n",
      "}\n"
     ]
    },
    {
     "name": "stderr",
     "output_type": "stream",
     "text": [
      "train epoch: 5, train loss: 0.008756962463097729: 100%|██████████| 230/230 [01:09<00:00,  3.29it/s]\n"
     ]
    },
    {
     "name": "stdout",
     "output_type": "stream",
     "text": [
      "train metric ...\n",
      "{\n",
      "    \"PHR_10\": 0.198721436343852,\n",
      "    \"PHR_20\": 0.2705386289445049,\n",
      "    \"PHR_30\": 0.3207290533188248,\n",
      "    \"PHR_40\": 0.3630304678998912,\n",
      "    \"ndcg_10\": 0.048067931085824966,\n",
      "    \"ndcg_20\": 0.05473969131708145,\n",
      "    \"ndcg_30\": 0.06040608882904053,\n",
      "    \"ndcg_40\": 0.0652996227145195,\n",
      "    \"recall_10\": 0.05551248788833618,\n",
      "    \"recall_20\": 0.0764184221625328,\n",
      "    \"recall_30\": 0.09391313046216965,\n",
      "    \"recall_40\": 0.11015918850898743\n",
      "}\n"
     ]
    },
    {
     "name": "stderr",
     "output_type": "stream",
     "text": [
      "train epoch: 6, train loss: 0.008051778503653148: 100%|██████████| 230/230 [01:10<00:00,  3.28it/s]\n"
     ]
    },
    {
     "name": "stdout",
     "output_type": "stream",
     "text": [
      "train metric ...\n",
      "{\n",
      "    \"PHR_10\": 0.19464091403699674,\n",
      "    \"PHR_20\": 0.2645538628944505,\n",
      "    \"PHR_30\": 0.31651251360174104,\n",
      "    \"PHR_40\": 0.3560935799782372,\n",
      "    \"ndcg_10\": 0.04726601019501686,\n",
      "    \"ndcg_20\": 0.05356696620583534,\n",
      "    \"ndcg_30\": 0.05931766331195831,\n",
      "    \"ndcg_40\": 0.06399423629045486,\n",
      "    \"recall_10\": 0.0547417514026165,\n",
      "    \"recall_20\": 0.07432115823030472,\n",
      "    \"recall_30\": 0.09220341593027115,\n",
      "    \"recall_40\": 0.10753919929265976\n",
      "}\n"
     ]
    },
    {
     "name": "stderr",
     "output_type": "stream",
     "text": [
      "train epoch: 7, train loss: 0.007518206917397354: 100%|██████████| 230/230 [01:09<00:00,  3.29it/s]\n"
     ]
    },
    {
     "name": "stdout",
     "output_type": "stream",
     "text": [
      "train metric ...\n",
      "{\n",
      "    \"PHR_10\": 0.19328073993471165,\n",
      "    \"PHR_20\": 0.26251360174102284,\n",
      "    \"PHR_30\": 0.3118879216539717,\n",
      "    \"PHR_40\": 0.3520130576713819,\n",
      "    \"ndcg_10\": 0.0467713363468647,\n",
      "    \"ndcg_20\": 0.05303614214062691,\n",
      "    \"ndcg_30\": 0.05851691961288452,\n",
      "    \"ndcg_40\": 0.06308581680059433,\n",
      "    \"recall_10\": 0.05406336858868599,\n",
      "    \"recall_20\": 0.07340630143880844,\n",
      "    \"recall_30\": 0.09041865170001984,\n",
      "    \"recall_40\": 0.10530123859643936\n",
      "}\n"
     ]
    },
    {
     "name": "stderr",
     "output_type": "stream",
     "text": [
      "validate epoch: 7, validate loss: 0.007149109531841848: 100%|██████████| 230/230 [01:07<00:00,  3.38it/s]\n"
     ]
    },
    {
     "name": "stdout",
     "output_type": "stream",
     "text": [
      "validate metric ...\n"
     ]
    },
    {
     "name": "stderr",
     "output_type": "stream",
     "text": [
      "\u001b[32m[I 2023-04-15 14:13:26,399]\u001b[0m Trial 23 finished with value: 0.06891950964927673 and parameters: {'item_embed_dim': 16, 'n_heads': 1, 'attention_aggregate': 'mean', 'batch_size': 32, 'learning_rate': 0.004528813442349764, 'weight_decay': 7.636850163092478e-06}. Best is trial 14 with value: 0.08854873478412628.\u001b[0m\n"
     ]
    },
    {
     "name": "stdout",
     "output_type": "stream",
     "text": [
      "{\n",
      "    \"PHR_10\": 0.22223732499660187,\n",
      "    \"PHR_20\": 0.285442435775452,\n",
      "    \"PHR_30\": 0.33165692537719177,\n",
      "    \"PHR_40\": 0.37392959086584204,\n",
      "    \"ndcg_10\": 0.06891950964927673,\n",
      "    \"ndcg_20\": 0.07476290315389633,\n",
      "    \"ndcg_30\": 0.07977508008480072,\n",
      "    \"ndcg_40\": 0.08579859137535095,\n",
      "    \"recall_10\": 0.07256042212247849,\n",
      "    \"recall_20\": 0.09118291735649109,\n",
      "    \"recall_30\": 0.10608641058206558,\n",
      "    \"recall_40\": 0.12727974355220795\n",
      "}\n",
      "model save as ./DNNTSP/save_model_folder/TaFeng/DNNTSP/best_model.pkl\n",
      "cost 750 seconds\n",
      "TaFeng/DNNTSP\n",
      "train data length -> 7352\n",
      "validate data length -> 7357\n",
      "temporal_set_prediction(\n",
      "  (item_embedding): Embedding(11202, 16)\n",
      "  (stacked_gcn): stacked_weighted_GCN_blocks(\n",
      "    (0): weighted_GCN(\n",
      "      (gcns): ModuleList(\n",
      "        (0-1): 2 x weighted_graph_conv(\n",
      "          (linear): Linear(in_features=16, out_features=16, bias=True)\n",
      "        )\n",
      "      )\n",
      "      (relus): ModuleList(\n",
      "        (0-1): 2 x ReLU()\n",
      "      )\n",
      "      (bns): ModuleList(\n",
      "        (0-1): 2 x BatchNorm1d(16, eps=1e-05, momentum=0.1, affine=True, track_running_stats=True)\n",
      "      )\n",
      "    )\n",
      "  )\n",
      "  (masked_self_attention): masked_self_attention(\n",
      "    (Wq): Linear(in_features=16, out_features=16, bias=False)\n",
      "    (Wk): Linear(in_features=16, out_features=16, bias=False)\n",
      "    (Wv): Linear(in_features=16, out_features=16, bias=False)\n",
      "  )\n",
      "  (aggregate_nodes_temporal_feature): aggregate_nodes_temporal_feature(\n",
      "    (Wq): Linear(in_features=16, out_features=1, bias=False)\n",
      "  )\n",
      "  (global_gated_update): global_gated_update(\n",
      "    (item_embedding): Embedding(11202, 16)\n",
      "  )\n",
      "  (fc_output): Linear(in_features=16, out_features=1, bias=True)\n",
      ")\n",
      "Adam (\n",
      "Parameter Group 0\n",
      "    amsgrad: False\n",
      "    betas: (0.9, 0.999)\n",
      "    capturable: False\n",
      "    differentiable: False\n",
      "    eps: 1e-08\n",
      "    foreach: None\n",
      "    fused: None\n",
      "    lr: 0.016470151916636654\n",
      "    maximize: False\n",
      "    weight_decay: 2.618488099419745e-06\n",
      ")\n"
     ]
    },
    {
     "name": "stderr",
     "output_type": "stream",
     "text": [
      "train epoch: 0, train loss: 0.2287202150689374: 100%|██████████| 58/58 [01:05<00:00,  1.13s/it]\n"
     ]
    },
    {
     "name": "stdout",
     "output_type": "stream",
     "text": [
      "train metric ...\n",
      "{\n",
      "    \"PHR_10\": 0.003808487486398259,\n",
      "    \"PHR_20\": 0.01101741022850925,\n",
      "    \"PHR_30\": 0.01972252448313384,\n",
      "    \"PHR_40\": 0.025027203482045703,\n",
      "    \"ndcg_10\": 0.000525287410710007,\n",
      "    \"ndcg_20\": 0.0008739713812246919,\n",
      "    \"ndcg_30\": 0.0013388346415013075,\n",
      "    \"ndcg_40\": 0.0016463695792481303,\n",
      "    \"recall_10\": 0.00037436309503391385,\n",
      "    \"recall_20\": 0.0011742622591555119,\n",
      "    \"recall_30\": 0.0024271581787616014,\n",
      "    \"recall_40\": 0.0033878551330417395\n",
      "}\n"
     ]
    },
    {
     "name": "stderr",
     "output_type": "stream",
     "text": [
      "train epoch: 1, train loss: 0.014151067601452613: 100%|██████████| 58/58 [01:03<00:00,  1.09s/it]\n"
     ]
    },
    {
     "name": "stdout",
     "output_type": "stream",
     "text": [
      "train metric ...\n",
      "{\n",
      "    \"PHR_10\": 0.183487486398259,\n",
      "    \"PHR_20\": 0.24523939064200218,\n",
      "    \"PHR_30\": 0.28890097932535364,\n",
      "    \"PHR_40\": 0.3193688792165397,\n",
      "    \"ndcg_10\": 0.042327769100666046,\n",
      "    \"ndcg_20\": 0.04765806347131729,\n",
      "    \"ndcg_30\": 0.052281010895967484,\n",
      "    \"ndcg_40\": 0.05574867129325867,\n",
      "    \"recall_10\": 0.04984552785754204,\n",
      "    \"recall_20\": 0.06840863823890686,\n",
      "    \"recall_30\": 0.08350192755460739,\n",
      "    \"recall_40\": 0.09502091258764267\n",
      "}\n"
     ]
    },
    {
     "name": "stderr",
     "output_type": "stream",
     "text": [
      "train epoch: 2, train loss: 0.010698308349297992: 100%|██████████| 58/58 [01:05<00:00,  1.12s/it]\n"
     ]
    },
    {
     "name": "stdout",
     "output_type": "stream",
     "text": [
      "train metric ...\n",
      "{\n",
      "    \"PHR_10\": 0.23898258977149076,\n",
      "    \"PHR_20\": 0.32018498367791076,\n",
      "    \"PHR_30\": 0.36887921653971706,\n",
      "    \"PHR_40\": 0.40682807399347115,\n",
      "    \"ndcg_10\": 0.05722693353891373,\n",
      "    \"ndcg_20\": 0.06547623127698898,\n",
      "    \"ndcg_30\": 0.07144530117511749,\n",
      "    \"ndcg_40\": 0.07663905620574951,\n",
      "    \"recall_10\": 0.06938812136650085,\n",
      "    \"recall_20\": 0.09546783566474915,\n",
      "    \"recall_30\": 0.11382860690355301,\n",
      "    \"recall_40\": 0.13158182799816132\n",
      "}\n"
     ]
    },
    {
     "name": "stderr",
     "output_type": "stream",
     "text": [
      "train epoch: 3, train loss: 0.008676332726689249: 100%|██████████| 58/58 [01:04<00:00,  1.11s/it]\n"
     ]
    },
    {
     "name": "stdout",
     "output_type": "stream",
     "text": [
      "train metric ...\n",
      "{\n",
      "    \"PHR_10\": 0.2368063112078346,\n",
      "    \"PHR_20\": 0.32385745375408054,\n",
      "    \"PHR_30\": 0.37010337323177367,\n",
      "    \"PHR_40\": 0.40723612622415667,\n",
      "    \"ndcg_10\": 0.05712985619902611,\n",
      "    \"ndcg_20\": 0.06584275513887405,\n",
      "    \"ndcg_30\": 0.07168900221586227,\n",
      "    \"ndcg_40\": 0.07684256136417389,\n",
      "    \"recall_10\": 0.0685839131474495,\n",
      "    \"recall_20\": 0.0958995372056961,\n",
      "    \"recall_30\": 0.11384618282318115,\n",
      "    \"recall_40\": 0.1308070719242096\n",
      "}\n"
     ]
    },
    {
     "name": "stderr",
     "output_type": "stream",
     "text": [
      "train epoch: 4, train loss: 0.007584158949361279: 100%|██████████| 58/58 [01:05<00:00,  1.13s/it]\n"
     ]
    },
    {
     "name": "stdout",
     "output_type": "stream",
     "text": [
      "train metric ...\n",
      "{\n",
      "    \"PHR_10\": 0.24183895538628944,\n",
      "    \"PHR_20\": 0.31977693144722524,\n",
      "    \"PHR_30\": 0.36942328618063114,\n",
      "    \"PHR_40\": 0.4062840043525571,\n",
      "    \"ndcg_10\": 0.05774857848882675,\n",
      "    \"ndcg_20\": 0.06592350453138351,\n",
      "    \"ndcg_30\": 0.07190585881471634,\n",
      "    \"ndcg_40\": 0.07685237377882004,\n",
      "    \"recall_10\": 0.06995829939842224,\n",
      "    \"recall_20\": 0.09574183821678162,\n",
      "    \"recall_30\": 0.11442621052265167,\n",
      "    \"recall_40\": 0.13032042980194092\n",
      "}\n"
     ]
    },
    {
     "name": "stderr",
     "output_type": "stream",
     "text": [
      "train epoch: 5, train loss: 0.006910053033638617: 100%|██████████| 58/58 [01:04<00:00,  1.12s/it]\n"
     ]
    },
    {
     "name": "stdout",
     "output_type": "stream",
     "text": [
      "train metric ...\n",
      "{\n",
      "    \"PHR_10\": 0.2455114254624592,\n",
      "    \"PHR_20\": 0.32399347116430904,\n",
      "    \"PHR_30\": 0.37268770402611534,\n",
      "    \"PHR_40\": 0.4105005440696409,\n",
      "    \"ndcg_10\": 0.05732627585530281,\n",
      "    \"ndcg_20\": 0.06593285501003265,\n",
      "    \"ndcg_30\": 0.07171023637056351,\n",
      "    \"ndcg_40\": 0.07684312760829926,\n",
      "    \"recall_10\": 0.07019572705030441,\n",
      "    \"recall_20\": 0.09726004302501678,\n",
      "    \"recall_30\": 0.11514025181531906,\n",
      "    \"recall_40\": 0.13216064870357513\n",
      "}\n"
     ]
    },
    {
     "name": "stderr",
     "output_type": "stream",
     "text": [
      "train epoch: 6, train loss: 0.006457451747023854: 100%|██████████| 58/58 [01:03<00:00,  1.10s/it]\n"
     ]
    },
    {
     "name": "stdout",
     "output_type": "stream",
     "text": [
      "train metric ...\n",
      "{\n",
      "    \"PHR_10\": 0.2237486398258977,\n",
      "    \"PHR_20\": 0.30168661588683354,\n",
      "    \"PHR_30\": 0.35677366702937974,\n",
      "    \"PHR_40\": 0.39948313384113165,\n",
      "    \"ndcg_10\": 0.052502576261758804,\n",
      "    \"ndcg_20\": 0.06044748052954674,\n",
      "    \"ndcg_30\": 0.06695690751075745,\n",
      "    \"ndcg_40\": 0.07229337096214294,\n",
      "    \"recall_10\": 0.06401955336332321,\n",
      "    \"recall_20\": 0.0888863056898117,\n",
      "    \"recall_30\": 0.10942454636096954,\n",
      "    \"recall_40\": 0.1267121285200119\n",
      "}\n"
     ]
    },
    {
     "name": "stderr",
     "output_type": "stream",
     "text": [
      "train epoch: 7, train loss: 0.006124001710900459: 100%|██████████| 58/58 [01:05<00:00,  1.13s/it]\n"
     ]
    },
    {
     "name": "stdout",
     "output_type": "stream",
     "text": [
      "train metric ...\n",
      "{\n",
      "    \"PHR_10\": 0.22850924918389554,\n",
      "    \"PHR_20\": 0.30807943416757344,\n",
      "    \"PHR_30\": 0.36153427638737756,\n",
      "    \"PHR_40\": 0.4009793253536453,\n",
      "    \"ndcg_10\": 0.05342018976807594,\n",
      "    \"ndcg_20\": 0.06175493448972702,\n",
      "    \"ndcg_30\": 0.06834034621715546,\n",
      "    \"ndcg_40\": 0.07337348163127899,\n",
      "    \"recall_10\": 0.0647522509098053,\n",
      "    \"recall_20\": 0.0908629447221756,\n",
      "    \"recall_30\": 0.11151352524757385,\n",
      "    \"recall_40\": 0.1279977560043335\n",
      "}\n"
     ]
    },
    {
     "name": "stderr",
     "output_type": "stream",
     "text": [
      "validate epoch: 7, validate loss: 0.005869291273170504: 100%|██████████| 58/58 [01:02<00:00,  1.08s/it]\n"
     ]
    },
    {
     "name": "stdout",
     "output_type": "stream",
     "text": [
      "validate metric ...\n"
     ]
    },
    {
     "name": "stderr",
     "output_type": "stream",
     "text": [
      "\u001b[32m[I 2023-04-15 14:25:11,492]\u001b[0m Trial 24 finished with value: 0.07948501408100128 and parameters: {'item_embed_dim': 16, 'n_heads': 1, 'attention_aggregate': 'mean', 'batch_size': 128, 'learning_rate': 0.016470151916636654, 'weight_decay': 2.618488099419745e-06}. Best is trial 14 with value: 0.08854873478412628.\u001b[0m\n"
     ]
    },
    {
     "name": "stdout",
     "output_type": "stream",
     "text": [
      "{\n",
      "    \"PHR_10\": 0.29278238412396357,\n",
      "    \"PHR_20\": 0.3727062661410901,\n",
      "    \"PHR_30\": 0.43088215305151556,\n",
      "    \"PHR_40\": 0.47519369308141907,\n",
      "    \"ndcg_10\": 0.07948501408100128,\n",
      "    \"ndcg_20\": 0.08797330409288406,\n",
      "    \"ndcg_30\": 0.0959809347987175,\n",
      "    \"ndcg_40\": 0.10174170136451721,\n",
      "    \"recall_10\": 0.09444158524274826,\n",
      "    \"recall_20\": 0.12066439539194107,\n",
      "    \"recall_30\": 0.1447935253381729,\n",
      "    \"recall_40\": 0.1635805368423462\n",
      "}\n",
      "model save as ./DNNTSP/save_model_folder/TaFeng/DNNTSP/best_model.pkl\n",
      "cost 700 seconds\n"
     ]
    }
   ],
   "source": [
    "sampler = optuna.samplers.TPESampler(seed=seed)\n",
    "study = optuna.create_study(direction=\"maximize\", sampler=sampler)\n",
    "study.optimize(objective, n_trials=25)"
   ]
  },
  {
   "cell_type": "markdown",
   "metadata": {
    "id": "oDpf-7ZeVS1R"
   },
   "source": [
    "Test:"
   ]
  },
  {
   "cell_type": "code",
   "execution_count": null,
   "metadata": {
    "id": "0cM3CT8vUVDf"
   },
   "outputs": [],
   "source": [
    "seed = 10\n",
    "torch.manual_seed(seed)\n",
    "random.seed(seed)\n",
    "np.random.seed(seed)"
   ]
  },
  {
   "cell_type": "code",
   "execution_count": null,
   "metadata": {
    "colab": {
     "base_uri": "https://localhost:8080/"
    },
    "id": "jdY7NI2jTWRk",
    "outputId": "44ba8494-a519-49de-b79d-b077de52b0c0"
   },
   "outputs": [
    {
     "name": "stdout",
     "output_type": "stream",
     "text": [
      "train data length -> 7352\n",
      "validate data length -> 7357\n",
      "temporal_set_prediction(\n",
      "  (item_embedding): Embedding(11202, 16)\n",
      "  (stacked_gcn): stacked_weighted_GCN_blocks(\n",
      "    (0): weighted_GCN(\n",
      "      (gcns): ModuleList(\n",
      "        (0-1): 2 x weighted_graph_conv(\n",
      "          (linear): Linear(in_features=16, out_features=16, bias=True)\n",
      "        )\n",
      "      )\n",
      "      (relus): ModuleList(\n",
      "        (0-1): 2 x ReLU()\n",
      "      )\n",
      "      (bns): ModuleList(\n",
      "        (0-1): 2 x BatchNorm1d(16, eps=1e-05, momentum=0.1, affine=True, track_running_stats=True)\n",
      "      )\n",
      "    )\n",
      "  )\n",
      "  (masked_self_attention): masked_self_attention(\n",
      "    (Wq): Linear(in_features=16, out_features=16, bias=False)\n",
      "    (Wk): Linear(in_features=16, out_features=16, bias=False)\n",
      "    (Wv): Linear(in_features=16, out_features=16, bias=False)\n",
      "  )\n",
      "  (aggregate_nodes_temporal_feature): aggregate_nodes_temporal_feature(\n",
      "    (Wq): Linear(in_features=16, out_features=1, bias=False)\n",
      "  )\n",
      "  (global_gated_update): global_gated_update(\n",
      "    (item_embedding): Embedding(11202, 16)\n",
      "  )\n",
      "  (fc_output): Linear(in_features=16, out_features=1, bias=True)\n",
      ")\n",
      "Adam (\n",
      "Parameter Group 0\n",
      "    amsgrad: False\n",
      "    betas: (0.9, 0.999)\n",
      "    capturable: False\n",
      "    differentiable: False\n",
      "    eps: 1e-08\n",
      "    foreach: None\n",
      "    fused: None\n",
      "    lr: 0.0076281872828971664\n",
      "    maximize: False\n",
      "    weight_decay: 1.3858000147132485e-06\n",
      ")\n"
     ]
    },
    {
     "name": "stderr",
     "output_type": "stream",
     "text": [
      "train epoch: 0, train loss: 0.11672604647262588: 100%|██████████| 230/230 [01:09<00:00,  3.30it/s]\n"
     ]
    },
    {
     "name": "stdout",
     "output_type": "stream",
     "text": [
      "train metric ...\n",
      "{\n",
      "    \"PHR_10\": 0.08446681175190425,\n",
      "    \"PHR_20\": 0.11996735582154516,\n",
      "    \"PHR_30\": 0.14186615886833515,\n",
      "    \"PHR_40\": 0.1571001088139282,\n",
      "    \"PHR_5\": 0.0572633297062024,\n",
      "    \"ndcg_10\": 0.018628062680363655,\n",
      "    \"ndcg_20\": 0.021938245743513107,\n",
      "    \"ndcg_30\": 0.024222735315561295,\n",
      "    \"ndcg_40\": 0.025882743299007416,\n",
      "    \"ndcg_5\": 0.017162377014756203,\n",
      "    \"precision_10\": 0.009616431780159473,\n",
      "    \"precision_20\": 0.007276931311935186,\n",
      "    \"precision_30\": 0.006034639198333025,\n",
      "    \"precision_40\": 0.005209467373788357,\n",
      "    \"precision_5\": 0.012595213018357754,\n",
      "    \"recall_10\": 0.022114649415016174,\n",
      "    \"recall_20\": 0.032647352665662766,\n",
      "    \"recall_30\": 0.039925333112478256,\n",
      "    \"recall_40\": 0.04552125930786133,\n",
      "    \"recall_5\": 0.014720115810632706\n",
      "}\n"
     ]
    },
    {
     "name": "stderr",
     "output_type": "stream",
     "text": [
      "validate epoch: 0, validate loss: 0.009151427468042012: 100%|██████████| 230/230 [01:10<00:00,  3.27it/s]\n"
     ]
    },
    {
     "name": "stdout",
     "output_type": "stream",
     "text": [
      "validate metric ...\n",
      "{\n",
      "    \"PHR_10\": 0.32214217751801005,\n",
      "    \"PHR_20\": 0.4030175343210548,\n",
      "    \"PHR_30\": 0.45263014815821667,\n",
      "    \"PHR_40\": 0.48851434008427347,\n",
      "    \"PHR_5\": 0.23324724751936932,\n",
      "    \"ndcg_10\": 0.07832063734531403,\n",
      "    \"ndcg_20\": 0.08830128610134125,\n",
      "    \"ndcg_30\": 0.09565026313066483,\n",
      "    \"ndcg_40\": 0.10094818472862244,\n",
      "    \"ndcg_5\": 0.07087743282318115,\n",
      "    \"precision_10\": 0.040070682764053345,\n",
      "    \"precision_20\": 0.028279192745685577,\n",
      "    \"precision_30\": 0.022848987951874733,\n",
      "    \"precision_40\": 0.019365910440683365,\n",
      "    \"precision_5\": 0.05235829949378967,\n",
      "    \"recall_10\": 0.10272727906703949,\n",
      "    \"recall_20\": 0.13422387838363647,\n",
      "    \"recall_30\": 0.1563034951686859,\n",
      "    \"recall_40\": 0.17370183765888214,\n",
      "    \"recall_5\": 0.07271647453308105\n",
      "}\n",
      "model save as ./DNNTSP/save_model_folder/TaFeng/best_model.pkl\n"
     ]
    },
    {
     "name": "stderr",
     "output_type": "stream",
     "text": [
      "train epoch: 1, train loss: 0.007807006194944615: 100%|██████████| 230/230 [01:10<00:00,  3.24it/s]\n"
     ]
    },
    {
     "name": "stdout",
     "output_type": "stream",
     "text": [
      "train metric ...\n",
      "{\n",
      "    \"PHR_10\": 0.28291621327529926,\n",
      "    \"PHR_20\": 0.36983133841131666,\n",
      "    \"PHR_30\": 0.42178998911860716,\n",
      "    \"PHR_40\": 0.4590587595212187,\n",
      "    \"PHR_5\": 0.19736126224156691,\n",
      "    \"ndcg_10\": 0.06531728804111481,\n",
      "    \"ndcg_20\": 0.07557176798582077,\n",
      "    \"ndcg_30\": 0.08273833245038986,\n",
      "    \"ndcg_40\": 0.08774790912866592,\n",
      "    \"ndcg_5\": 0.05821477621793747,\n",
      "    \"precision_10\": 0.035690970718860626,\n",
      "    \"precision_20\": 0.025748098269104958,\n",
      "    \"precision_30\": 0.020942147821187973,\n",
      "    \"precision_40\": 0.017920292913913727,\n",
      "    \"precision_5\": 0.044586509466171265,\n",
      "    \"recall_10\": 0.08157522976398468,\n",
      "    \"recall_20\": 0.11444801092147827,\n",
      "    \"recall_30\": 0.13744030892848969,\n",
      "    \"recall_40\": 0.15358132123947144,\n",
      "    \"recall_5\": 0.05426666885614395\n",
      "}\n"
     ]
    },
    {
     "name": "stderr",
     "output_type": "stream",
     "text": [
      "validate epoch: 1, validate loss: 0.006716510580609674: 100%|██████████| 230/230 [01:10<00:00,  3.24it/s]\n"
     ]
    },
    {
     "name": "stdout",
     "output_type": "stream",
     "text": [
      "validate metric ...\n",
      "{\n",
      "    \"PHR_10\": 0.3294821258665217,\n",
      "    \"PHR_20\": 0.4141633818132391,\n",
      "    \"PHR_30\": 0.46336822074215034,\n",
      "    \"PHR_40\": 0.5008835123012098,\n",
      "    \"PHR_5\": 0.23963572108196277,\n",
      "    \"ndcg_10\": 0.08664979785680771,\n",
      "    \"ndcg_20\": 0.09744902700185776,\n",
      "    \"ndcg_30\": 0.10465166717767715,\n",
      "    \"ndcg_40\": 0.1099216416478157,\n",
      "    \"ndcg_5\": 0.07918307930231094,\n",
      "    \"precision_10\": 0.041130900382995605,\n",
      "    \"precision_20\": 0.029176292940974236,\n",
      "    \"precision_30\": 0.023442527279257774,\n",
      "    \"precision_40\": 0.01985863968729973,\n",
      "    \"precision_5\": 0.05369036644697189,\n",
      "    \"recall_10\": 0.10532955825328827,\n",
      "    \"recall_20\": 0.1388757824897766,\n",
      "    \"recall_30\": 0.16030707955360413,\n",
      "    \"recall_40\": 0.17708010971546173,\n",
      "    \"recall_5\": 0.07497671246528625\n",
      "}\n",
      "model save as ./DNNTSP/save_model_folder/TaFeng/best_model.pkl\n"
     ]
    },
    {
     "name": "stderr",
     "output_type": "stream",
     "text": [
      "train epoch: 2, train loss: 0.006290312362429888: 100%|██████████| 230/230 [01:18<00:00,  2.94it/s]\n"
     ]
    },
    {
     "name": "stdout",
     "output_type": "stream",
     "text": [
      "train metric ...\n",
      "{\n",
      "    \"PHR_10\": 0.26550598476605003,\n",
      "    \"PHR_20\": 0.34970076169749725,\n",
      "    \"PHR_30\": 0.40220348204570183,\n",
      "    \"PHR_40\": 0.4426006528835691,\n",
      "    \"PHR_5\": 0.18634385201305767,\n",
      "    \"ndcg_10\": 0.06212007999420166,\n",
      "    \"ndcg_20\": 0.07201138138771057,\n",
      "    \"ndcg_30\": 0.07878294587135315,\n",
      "    \"ndcg_40\": 0.08411741256713867,\n",
      "    \"ndcg_5\": 0.05663762241601944,\n",
      "    \"precision_10\": 0.031923286616802216,\n",
      "    \"precision_20\": 0.023605823516845703,\n",
      "    \"precision_30\": 0.01934167556464672,\n",
      "    \"precision_40\": 0.016764147207140923,\n",
      "    \"precision_5\": 0.041240476071834564,\n",
      "    \"recall_10\": 0.07536448538303375,\n",
      "    \"recall_20\": 0.10611408203840256,\n",
      "    \"recall_30\": 0.1274239718914032,\n",
      "    \"recall_40\": 0.1451035439968109,\n",
      "    \"recall_5\": 0.05218663066625595\n",
      "}\n"
     ]
    },
    {
     "name": "stderr",
     "output_type": "stream",
     "text": [
      "validate epoch: 2, validate loss: 0.005824999025334483: 100%|██████████| 230/230 [01:10<00:00,  3.28it/s]\n"
     ]
    },
    {
     "name": "stdout",
     "output_type": "stream",
     "text": [
      "validate metric ...\n",
      "{\n",
      "    \"PHR_10\": 0.3264917765393503,\n",
      "    \"PHR_20\": 0.4094060078836482,\n",
      "    \"PHR_30\": 0.4582030719043088,\n",
      "    \"PHR_40\": 0.495990213402202,\n",
      "    \"PHR_5\": 0.23882017126546146,\n",
      "    \"ndcg_10\": 0.08659143000841141,\n",
      "    \"ndcg_20\": 0.09688089042901993,\n",
      "    \"ndcg_30\": 0.10394496470689774,\n",
      "    \"ndcg_40\": 0.10956726968288422,\n",
      "    \"ndcg_5\": 0.07870028167963028,\n",
      "    \"precision_10\": 0.04030175879597664,\n",
      "    \"precision_20\": 0.028523854911327362,\n",
      "    \"precision_30\": 0.02274930849671364,\n",
      "    \"precision_40\": 0.01946105994284153,\n",
      "    \"precision_5\": 0.05222237855195999,\n",
      "    \"recall_10\": 0.10561881959438324,\n",
      "    \"recall_20\": 0.13690721988677979,\n",
      "    \"recall_30\": 0.15851545333862305,\n",
      "    \"recall_40\": 0.17663615942001343,\n",
      "    \"recall_5\": 0.0749758929014206\n",
      "}\n"
     ]
    },
    {
     "name": "stderr",
     "output_type": "stream",
     "text": [
      "train epoch: 3, train loss: 0.005628638672035026: 100%|██████████| 230/230 [01:13<00:00,  3.14it/s]\n"
     ]
    },
    {
     "name": "stdout",
     "output_type": "stream",
     "text": [
      "train metric ...\n",
      "{\n",
      "    \"PHR_10\": 0.2534004352557127,\n",
      "    \"PHR_20\": 0.3352829162132753,\n",
      "    \"PHR_30\": 0.3852013057671382,\n",
      "    \"PHR_40\": 0.42859085963003263,\n",
      "    \"PHR_5\": 0.17682263329706202,\n",
      "    \"ndcg_10\": 0.059867165982723236,\n",
      "    \"ndcg_20\": 0.06906043738126755,\n",
      "    \"ndcg_30\": 0.07546380907297134,\n",
      "    \"ndcg_40\": 0.08085886389017105,\n",
      "    \"ndcg_5\": 0.05443452671170235,\n",
      "    \"precision_10\": 0.03046789951622486,\n",
      "    \"precision_20\": 0.022422470152378082,\n",
      "    \"precision_30\": 0.01829434186220169,\n",
      "    \"precision_40\": 0.015971845015883446,\n",
      "    \"precision_5\": 0.03903699666261673,\n",
      "    \"recall_10\": 0.07155583053827286,\n",
      "    \"recall_20\": 0.10043542832136154,\n",
      "    \"recall_30\": 0.12082762271165848,\n",
      "    \"recall_40\": 0.13877169787883759,\n",
      "    \"recall_5\": 0.048942599445581436\n",
      "}\n"
     ]
    },
    {
     "name": "stderr",
     "output_type": "stream",
     "text": [
      "validate epoch: 3, validate loss: 0.005328028284661148: 100%|██████████| 230/230 [01:07<00:00,  3.40it/s]\n"
     ]
    },
    {
     "name": "stdout",
     "output_type": "stream",
     "text": [
      "validate metric ...\n",
      "{\n",
      "    \"PHR_10\": 0.3268995514476009,\n",
      "    \"PHR_20\": 0.40492048389289115,\n",
      "    \"PHR_30\": 0.4548049476688868,\n",
      "    \"PHR_40\": 0.4932717140138643,\n",
      "    \"PHR_5\": 0.24031534592904716,\n",
      "    \"ndcg_10\": 0.0883784219622612,\n",
      "    \"ndcg_20\": 0.09759560227394104,\n",
      "    \"ndcg_30\": 0.10490233451128006,\n",
      "    \"ndcg_40\": 0.11074459552764893,\n",
      "    \"ndcg_5\": 0.08161812275648117,\n",
      "    \"precision_10\": 0.04036971554160118,\n",
      "    \"precision_20\": 0.028102487325668335,\n",
      "    \"precision_30\": 0.022586200386285782,\n",
      "    \"precision_40\": 0.019355716183781624,\n",
      "    \"precision_5\": 0.05339132994413376,\n",
      "    \"recall_10\": 0.10425698757171631,\n",
      "    \"recall_20\": 0.1332637369632721,\n",
      "    \"recall_30\": 0.15567517280578613,\n",
      "    \"recall_40\": 0.17491769790649414,\n",
      "    \"recall_5\": 0.07412366569042206\n",
      "}\n",
      "model save as ./DNNTSP/save_model_folder/TaFeng/best_model.pkl\n"
     ]
    },
    {
     "name": "stderr",
     "output_type": "stream",
     "text": [
      "train epoch: 4, train loss: 0.005271408795986487: 100%|██████████| 230/230 [01:13<00:00,  3.13it/s]\n"
     ]
    },
    {
     "name": "stdout",
     "output_type": "stream",
     "text": [
      "train metric ...\n",
      "{\n",
      "    \"PHR_10\": 0.24034276387377584,\n",
      "    \"PHR_20\": 0.3223612622415669,\n",
      "    \"PHR_30\": 0.3717355821545158,\n",
      "    \"PHR_40\": 0.41376496191512513,\n",
      "    \"PHR_5\": 0.16852557127312295,\n",
      "    \"ndcg_10\": 0.05702405422925949,\n",
      "    \"ndcg_20\": 0.06539371609687805,\n",
      "    \"ndcg_30\": 0.07169308513402939,\n",
      "    \"ndcg_40\": 0.07700175791978836,\n",
      "    \"ndcg_5\": 0.052501678466796875,\n",
      "    \"precision_10\": 0.028427638113498688,\n",
      "    \"precision_20\": 0.02097388543188572,\n",
      "    \"precision_30\": 0.01727421022951603,\n",
      "    \"precision_40\": 0.01518294308334589,\n",
      "    \"precision_5\": 0.03729597106575966,\n",
      "    \"recall_10\": 0.06783825904130936,\n",
      "    \"recall_20\": 0.09389090538024902,\n",
      "    \"recall_30\": 0.11403147131204605,\n",
      "    \"recall_40\": 0.1315874606370926,\n",
      "    \"recall_5\": 0.04679024592041969\n",
      "}\n"
     ]
    },
    {
     "name": "stderr",
     "output_type": "stream",
     "text": [
      "validate epoch: 4, validate loss: 0.004991298852204952: 100%|██████████| 230/230 [01:09<00:00,  3.32it/s]\n"
     ]
    },
    {
     "name": "stdout",
     "output_type": "stream",
     "text": [
      "validate metric ...\n",
      "{\n",
      "    \"PHR_10\": 0.2797335870599429,\n",
      "    \"PHR_20\": 0.35123012097322276,\n",
      "    \"PHR_30\": 0.4100856327307326,\n",
      "    \"PHR_40\": 0.44991164876987905,\n",
      "    \"PHR_5\": 0.20728557836074488,\n",
      "    \"ndcg_10\": 0.077822744846344,\n",
      "    \"ndcg_20\": 0.08535288274288177,\n",
      "    \"ndcg_30\": 0.09306521713733673,\n",
      "    \"ndcg_40\": 0.09891898930072784,\n",
      "    \"ndcg_5\": 0.07272469997406006,\n",
      "    \"precision_10\": 0.033097732812166214,\n",
      "    \"precision_20\": 0.02263830415904522,\n",
      "    \"precision_30\": 0.019097458571195602,\n",
      "    \"precision_40\": 0.016674596816301346,\n",
      "    \"precision_5\": 0.04466494545340538,\n",
      "    \"recall_10\": 0.08915256708860397,\n",
      "    \"recall_20\": 0.11318709701299667,\n",
      "    \"recall_30\": 0.13685379922389984,\n",
      "    \"recall_40\": 0.1564611941576004,\n",
      "    \"recall_5\": 0.06568623334169388\n",
      "}\n"
     ]
    },
    {
     "name": "stderr",
     "output_type": "stream",
     "text": [
      "train epoch: 5, train loss: 0.00503573464229703: 100%|██████████| 230/230 [01:12<00:00,  3.18it/s]\n"
     ]
    },
    {
     "name": "stdout",
     "output_type": "stream",
     "text": [
      "train metric ...\n",
      "{\n",
      "    \"PHR_10\": 0.24374319912948858,\n",
      "    \"PHR_20\": 0.3207290533188248,\n",
      "    \"PHR_30\": 0.36996735582154516,\n",
      "    \"PHR_40\": 0.4128128400435256,\n",
      "    \"PHR_5\": 0.1720620239390642,\n",
      "    \"ndcg_10\": 0.057483505457639694,\n",
      "    \"ndcg_20\": 0.06553538888692856,\n",
      "    \"ndcg_30\": 0.07158610969781876,\n",
      "    \"ndcg_40\": 0.0767844095826149,\n",
      "    \"ndcg_5\": 0.05315833538770676,\n",
      "    \"precision_10\": 0.02902611531317234,\n",
      "    \"precision_20\": 0.0210758987814188,\n",
      "    \"precision_30\": 0.017228873446583748,\n",
      "    \"precision_40\": 0.01513533852994442,\n",
      "    \"precision_5\": 0.03805766999721527,\n",
      "    \"recall_10\": 0.06771383434534073,\n",
      "    \"recall_20\": 0.09322471916675568,\n",
      "    \"recall_30\": 0.1127476841211319,\n",
      "    \"recall_40\": 0.12995192408561707,\n",
      "    \"recall_5\": 0.04715714976191521\n",
      "}\n"
     ]
    },
    {
     "name": "stderr",
     "output_type": "stream",
     "text": [
      "validate epoch: 5, validate loss: 0.004798703175038099: 100%|██████████| 230/230 [01:07<00:00,  3.43it/s]\n"
     ]
    },
    {
     "name": "stdout",
     "output_type": "stream",
     "text": [
      "validate metric ...\n",
      "{\n",
      "    \"PHR_10\": 0.27783063748810655,\n",
      "    \"PHR_20\": 0.3493271714013864,\n",
      "    \"PHR_30\": 0.4064156585564768,\n",
      "    \"PHR_40\": 0.4433872502378687,\n",
      "    \"PHR_5\": 0.2086448280549137,\n",
      "    \"ndcg_10\": 0.08046997338533401,\n",
      "    \"ndcg_20\": 0.08795975893735886,\n",
      "    \"ndcg_30\": 0.09576734900474548,\n",
      "    \"ndcg_40\": 0.10105671733617783,\n",
      "    \"ndcg_5\": 0.07649935036897659,\n",
      "    \"precision_10\": 0.03259481117129326,\n",
      "    \"precision_20\": 0.022441212087869644,\n",
      "    \"precision_30\": 0.01891622506082058,\n",
      "    \"precision_40\": 0.016348376870155334,\n",
      "    \"precision_5\": 0.04501835256814957,\n",
      "    \"recall_10\": 0.08776950091123581,\n",
      "    \"recall_20\": 0.11198458820581436,\n",
      "    \"recall_30\": 0.1361677199602127,\n",
      "    \"recall_40\": 0.15361186861991882,\n",
      "    \"recall_5\": 0.06625378876924515\n",
      "}\n"
     ]
    },
    {
     "name": "stderr",
     "output_type": "stream",
     "text": [
      "train epoch: 6, train loss: 0.004873615484077321: 100%|██████████| 230/230 [01:12<00:00,  3.16it/s]\n"
     ]
    },
    {
     "name": "stdout",
     "output_type": "stream",
     "text": [
      "train metric ...\n",
      "{\n",
      "    \"PHR_10\": 0.24510337323177367,\n",
      "    \"PHR_20\": 0.3215451577801959,\n",
      "    \"PHR_30\": 0.3679270946681175,\n",
      "    \"PHR_40\": 0.4105005440696409,\n",
      "    \"PHR_5\": 0.17478237214363437,\n",
      "    \"ndcg_10\": 0.057921502739191055,\n",
      "    \"ndcg_20\": 0.06608011573553085,\n",
      "    \"ndcg_30\": 0.07165104895830154,\n",
      "    \"ndcg_40\": 0.07681704312562943,\n",
      "    \"ndcg_5\": 0.05418240278959274,\n",
      "    \"precision_10\": 0.02918933518230915,\n",
      "    \"precision_20\": 0.02117791213095188,\n",
      "    \"precision_30\": 0.017147261649370193,\n",
      "    \"precision_40\": 0.015040126629173756,\n",
      "    \"precision_5\": 0.038846567273139954,\n",
      "    \"recall_10\": 0.06760457903146744,\n",
      "    \"recall_20\": 0.09381357580423355,\n",
      "    \"recall_30\": 0.11157864332199097,\n",
      "    \"recall_40\": 0.128722682595253,\n",
      "    \"recall_5\": 0.047883156687021255\n",
      "}\n"
     ]
    },
    {
     "name": "stderr",
     "output_type": "stream",
     "text": [
      "validate epoch: 6, validate loss: 0.004660574365002306: 100%|██████████| 230/230 [01:08<00:00,  3.35it/s]\n"
     ]
    },
    {
     "name": "stdout",
     "output_type": "stream",
     "text": [
      "validate metric ...\n",
      "{\n",
      "    \"PHR_10\": 0.27796656245752344,\n",
      "    \"PHR_20\": 0.3502786461873046,\n",
      "    \"PHR_30\": 0.3983960853608808,\n",
      "    \"PHR_40\": 0.43767840152235965,\n",
      "    \"PHR_5\": 0.20905260296316433,\n",
      "    \"ndcg_10\": 0.0806962177157402,\n",
      "    \"ndcg_20\": 0.08833971619606018,\n",
      "    \"ndcg_30\": 0.09497086703777313,\n",
      "    \"ndcg_40\": 0.10028580576181412,\n",
      "    \"ndcg_5\": 0.07691119611263275,\n",
      "    \"precision_10\": 0.032554034143686295,\n",
      "    \"precision_20\": 0.022543154656887054,\n",
      "    \"precision_30\": 0.01843595691025257,\n",
      "    \"precision_40\": 0.015954194590449333,\n",
      "    \"precision_5\": 0.045290205627679825,\n",
      "    \"recall_10\": 0.0875491350889206,\n",
      "    \"recall_20\": 0.11234888434410095,\n",
      "    \"recall_30\": 0.13269300758838654,\n",
      "    \"recall_40\": 0.15041571855545044,\n",
      "    \"recall_5\": 0.06564965099096298\n",
      "}\n"
     ]
    },
    {
     "name": "stderr",
     "output_type": "stream",
     "text": [
      "train epoch: 7, train loss: 0.004755196542195652: 100%|██████████| 230/230 [01:10<00:00,  3.25it/s]\n"
     ]
    },
    {
     "name": "stdout",
     "output_type": "stream",
     "text": [
      "train metric ...\n",
      "{\n",
      "    \"PHR_10\": 0.24591947769314473,\n",
      "    \"PHR_20\": 0.32100108813928185,\n",
      "    \"PHR_30\": 0.36670293797606096,\n",
      "    \"PHR_40\": 0.40696409140369966,\n",
      "    \"PHR_5\": 0.176550598476605,\n",
      "    \"ndcg_10\": 0.058450620621442795,\n",
      "    \"ndcg_20\": 0.0663624256849289,\n",
      "    \"ndcg_30\": 0.07202113419771194,\n",
      "    \"ndcg_40\": 0.07664445042610168,\n",
      "    \"ndcg_5\": 0.054925549775362015,\n",
      "    \"precision_10\": 0.02935255691409111,\n",
      "    \"precision_20\": 0.021103104576468468,\n",
      "    \"precision_30\": 0.01712912507355213,\n",
      "    \"precision_40\": 0.014866703189909458,\n",
      "    \"precision_5\": 0.03936343640089035,\n",
      "    \"recall_10\": 0.067807137966156,\n",
      "    \"recall_20\": 0.09362304955720901,\n",
      "    \"recall_30\": 0.11194448173046112,\n",
      "    \"recall_40\": 0.1269054412841797,\n",
      "    \"recall_5\": 0.04801909253001213\n",
      "}\n"
     ]
    },
    {
     "name": "stderr",
     "output_type": "stream",
     "text": [
      "validate epoch: 7, validate loss: 0.00455749304054062: 100%|██████████| 230/230 [01:07<00:00,  3.42it/s]\n"
     ]
    },
    {
     "name": "stdout",
     "output_type": "stream",
     "text": [
      "validate metric ...\n",
      "{\n",
      "    \"PHR_10\": 0.3008019573195596,\n",
      "    \"PHR_20\": 0.3746092157129265,\n",
      "    \"PHR_30\": 0.416610031262743,\n",
      "    \"PHR_40\": 0.4484164741062933,\n",
      "    \"PHR_5\": 0.22848987358977843,\n",
      "    \"ndcg_10\": 0.08412935584783554,\n",
      "    \"ndcg_20\": 0.0923154279589653,\n",
      "    \"ndcg_30\": 0.09799249470233917,\n",
      "    \"ndcg_40\": 0.10285966098308563,\n",
      "    \"ndcg_5\": 0.0799344927072525,\n",
      "    \"precision_10\": 0.03607448935508728,\n",
      "    \"precision_20\": 0.024894656613469124,\n",
      "    \"precision_30\": 0.01970912329852581,\n",
      "    \"precision_40\": 0.016779938712716103,\n",
      "    \"precision_5\": 0.05037379264831543,\n",
      "    \"recall_10\": 0.0949423685669899,\n",
      "    \"recall_20\": 0.12208621948957443,\n",
      "    \"recall_30\": 0.13905273377895355,\n",
      "    \"recall_40\": 0.15507444739341736,\n",
      "    \"recall_5\": 0.07028044015169144\n",
      "}\n"
     ]
    },
    {
     "name": "stderr",
     "output_type": "stream",
     "text": [
      "train epoch: 8, train loss: 0.004669177935094289: 100%|██████████| 230/230 [01:12<00:00,  3.15it/s]\n"
     ]
    },
    {
     "name": "stdout",
     "output_type": "stream",
     "text": [
      "train metric ...\n",
      "{\n",
      "    \"PHR_10\": 0.23911860718171926,\n",
      "    \"PHR_20\": 0.31583242655059846,\n",
      "    \"PHR_30\": 0.3607181719260065,\n",
      "    \"PHR_40\": 0.40084330794341677,\n",
      "    \"PHR_5\": 0.16866158868335146,\n",
      "    \"ndcg_10\": 0.05638401582837105,\n",
      "    \"ndcg_20\": 0.06447363644838333,\n",
      "    \"ndcg_30\": 0.06997311860322952,\n",
      "    \"ndcg_40\": 0.07467198371887207,\n",
      "    \"ndcg_5\": 0.052407316863536835,\n",
      "    \"precision_10\": 0.028264416381716728,\n",
      "    \"precision_20\": 0.020477423444390297,\n",
      "    \"precision_30\": 0.016625862568616867,\n",
      "    \"precision_40\": 0.014523260295391083,\n",
      "    \"precision_5\": 0.03726876899600029,\n",
      "    \"recall_10\": 0.06582450121641159,\n",
      "    \"recall_20\": 0.09167561680078506,\n",
      "    \"recall_30\": 0.10929257422685623,\n",
      "    \"recall_40\": 0.12452059239149094,\n",
      "    \"recall_5\": 0.04673885926604271\n",
      "}\n"
     ]
    },
    {
     "name": "stderr",
     "output_type": "stream",
     "text": [
      "validate epoch: 8, validate loss: 0.004479662678204477: 100%|██████████| 230/230 [01:06<00:00,  3.44it/s]\n"
     ]
    },
    {
     "name": "stdout",
     "output_type": "stream",
     "text": [
      "validate metric ...\n",
      "{\n",
      "    \"PHR_10\": 0.27728693761043904,\n",
      "    \"PHR_20\": 0.3495990213402202,\n",
      "    \"PHR_30\": 0.3909202120429523,\n",
      "    \"PHR_40\": 0.42721217887725976,\n",
      "    \"PHR_5\": 0.2055185537583254,\n",
      "    \"ndcg_10\": 0.08032678812742233,\n",
      "    \"ndcg_20\": 0.08778557926416397,\n",
      "    \"ndcg_30\": 0.09357534348964691,\n",
      "    \"ndcg_40\": 0.09864464402198792,\n",
      "    \"ndcg_5\": 0.07566386461257935,\n",
      "    \"precision_10\": 0.03260840103030205,\n",
      "    \"precision_20\": 0.022461600601673126,\n",
      "    \"precision_30\": 0.017933035269379616,\n",
      "    \"precision_40\": 0.015454670414328575,\n",
      "    \"precision_5\": 0.044229988008737564,\n",
      "    \"recall_10\": 0.0879773199558258,\n",
      "    \"recall_20\": 0.11188952624797821,\n",
      "    \"recall_30\": 0.12993097305297852,\n",
      "    \"recall_40\": 0.14712320268154144,\n",
      "    \"recall_5\": 0.06458307057619095\n",
      "}\n"
     ]
    },
    {
     "name": "stderr",
     "output_type": "stream",
     "text": [
      "train epoch: 9, train loss: 0.004595343237135397: 100%|██████████| 230/230 [01:10<00:00,  3.24it/s]\n"
     ]
    },
    {
     "name": "stdout",
     "output_type": "stream",
     "text": [
      "train metric ...\n",
      "{\n",
      "    \"PHR_10\": 0.24646354733405876,\n",
      "    \"PHR_20\": 0.3189608269858542,\n",
      "    \"PHR_30\": 0.3661588683351469,\n",
      "    \"PHR_40\": 0.40383569096844396,\n",
      "    \"PHR_5\": 0.17995103373231774,\n",
      "    \"ndcg_10\": 0.060435701161623,\n",
      "    \"ndcg_20\": 0.06811100989580154,\n",
      "    \"ndcg_30\": 0.07360496371984482,\n",
      "    \"ndcg_40\": 0.07820473611354828,\n",
      "    \"ndcg_5\": 0.057223815470933914,\n",
      "    \"precision_10\": 0.029556581750512123,\n",
      "    \"precision_20\": 0.02104189246892929,\n",
      "    \"precision_30\": 0.01705658622086048,\n",
      "    \"precision_40\": 0.014795294031500816,\n",
      "    \"precision_5\": 0.04001632332801819,\n",
      "    \"recall_10\": 0.06852779537439346,\n",
      "    \"recall_20\": 0.09407118707895279,\n",
      "    \"recall_30\": 0.11149908602237701,\n",
      "    \"recall_40\": 0.12642809748649597,\n",
      "    \"recall_5\": 0.048847950994968414\n",
      "}\n"
     ]
    },
    {
     "name": "stderr",
     "output_type": "stream",
     "text": [
      "validate epoch: 9, validate loss: 0.004501086796390946: 100%|██████████| 230/230 [01:08<00:00,  3.36it/s]\n"
     ]
    },
    {
     "name": "stdout",
     "output_type": "stream",
     "text": [
      "validate metric ...\n",
      "{\n",
      "    \"PHR_10\": 0.32812287617235286,\n",
      "    \"PHR_20\": 0.4042408590458067,\n",
      "    \"PHR_30\": 0.4432513252684518,\n",
      "    \"PHR_40\": 0.47369851841783334,\n",
      "    \"PHR_5\": 0.25023786869647957,\n",
      "    \"ndcg_10\": 0.0890757218003273,\n",
      "    \"ndcg_20\": 0.09805333614349365,\n",
      "    \"ndcg_30\": 0.10382437705993652,\n",
      "    \"ndcg_40\": 0.10856475681066513,\n",
      "    \"ndcg_5\": 0.0846710205078125,\n",
      "    \"precision_10\": 0.04062797501683235,\n",
      "    \"precision_20\": 0.027986953034996986,\n",
      "    \"precision_30\": 0.0218703281134367,\n",
      "    \"precision_40\": 0.018326085060834885,\n",
      "    \"precision_5\": 0.056490421295166016,\n",
      "    \"recall_10\": 0.10312716662883759,\n",
      "    \"recall_20\": 0.13278324902057648,\n",
      "    \"recall_30\": 0.15022236108779907,\n",
      "    \"recall_40\": 0.16604651510715485,\n",
      "    \"recall_5\": 0.07486160844564438\n",
      "}\n",
      "model save as ./DNNTSP/save_model_folder/TaFeng/best_model.pkl\n",
      "cost 1929 seconds\n"
     ]
    },
    {
     "data": {
      "text/plain": [
       "0.0890757218003273"
      ]
     },
     "execution_count": 12,
     "metadata": {},
     "output_type": "execute_result"
    }
   ],
   "source": [
    "params = {\n",
    "    \"data\": \"TaFeng\",\n",
    "    \"save_model_folder\": \"DNNTSP\",\n",
    "    \"item_embed_dim\": study.best_params[\"item_embed_dim\"],\n",
    "    \"n_heads\": study.best_params[\"n_heads\"],\n",
    "    \"attention_aggregate\": study.best_params[\"attention_aggregate\"],\n",
    "    \"cuda\": 0,\n",
    "    \"loss_function\": \"multi_label_soft_loss\",\n",
    "    \"epochs\": 10,\n",
    "    \"batch_size\": study.best_params[\"batch_size\"],\n",
    "    \"learning_rate\": study.best_params[\"learning_rate\"],\n",
    "    \"optim\": \"Adam\",\n",
    "    \"weight_decay\": study.best_params[\"weight_decay\"]\n",
    "}\n",
    "\n",
    "DNNTSP.utils.load_config.CONFIG = params\n",
    "train()"
   ]
  },
  {
   "cell_type": "code",
   "execution_count": null,
   "metadata": {
    "colab": {
     "base_uri": "https://localhost:8080/"
    },
    "id": "wxczSSIGazJ5",
    "outputId": "ead32a27-5632-4579-ceec-de36127627c0"
   },
   "outputs": [
    {
     "name": "stdout",
     "output_type": "stream",
     "text": [
      "test data length -> 7358\n"
     ]
    },
    {
     "name": "stderr",
     "output_type": "stream",
     "text": [
      "100%|██████████| 230/230 [01:19<00:00,  2.89it/s]\n"
     ]
    },
    {
     "name": "stdout",
     "output_type": "stream",
     "text": [
      "{\n",
      "    \"PHR_10\": 0.39154661592824136,\n",
      "    \"PHR_20\": 0.4657515629247078,\n",
      "    \"PHR_30\": 0.49972818700733895,\n",
      "    \"PHR_40\": 0.5294917097037238,\n",
      "    \"PHR_5\": 0.2938298450665942,\n",
      "    \"ndcg_10\": 0.11199808865785599,\n",
      "    \"ndcg_20\": 0.12130973488092422,\n",
      "    \"ndcg_30\": 0.12742289900779724,\n",
      "    \"ndcg_40\": 0.13243991136550903,\n",
      "    \"ndcg_5\": 0.1046086996793747,\n",
      "    \"precision_10\": 0.050190269947052,\n",
      "    \"precision_20\": 0.033426202833652496,\n",
      "    \"precision_30\": 0.025532301515340805,\n",
      "    \"precision_40\": 0.02114025503396988,\n",
      "    \"precision_5\": 0.06855124235153198,\n",
      "    \"recall_10\": 0.13057728111743927,\n",
      "    \"recall_20\": 0.16163566708564758,\n",
      "    \"recall_30\": 0.18139629065990448,\n",
      "    \"recall_40\": 0.1984548419713974,\n",
      "    \"recall_5\": 0.0931030660867691\n",
      "}\n"
     ]
    }
   ],
   "source": [
    "model_path = f\"./DNNTSP/save_model_folder/{get_attribute('data')}/best_model.pkl\"\n",
    "\n",
    "model = create_model()\n",
    "model = load_model(model, model_path)\n",
    "model = convert_to_gpu(model)\n",
    "\n",
    "test_data_loader = get_data_loader(data_path=get_attribute('data_path'),\n",
    "                                   data_type='test',\n",
    "                                   batch_size=get_attribute('batch_size'),\n",
    "                                   item_embedding_matrix=model.item_embedding)\n",
    "\n",
    "scores = evaluate(model, test_data_loader)\n",
    "scores = sorted(scores.items(), key=lambda item: item[0], reverse=False)\n",
    "scores = {item[0]: item[1] for item in scores}\n",
    "scores_str = json.dumps(scores, indent=4)\n",
    "print(scores_str)"
   ]
  },
  {
   "cell_type": "markdown",
   "metadata": {
    "id": "-VNsXcnMdjB-"
   },
   "source": [
    "# TaoBao"
   ]
  },
  {
   "cell_type": "markdown",
   "metadata": {
    "id": "zGiYOc1UdzuY"
   },
   "source": [
    "Fix seed:"
   ]
  },
  {
   "cell_type": "code",
   "execution_count": null,
   "metadata": {
    "id": "LxzXMWczd2ef"
   },
   "outputs": [],
   "source": [
    "seed = 10\n",
    "torch.manual_seed(seed)\n",
    "random.seed(seed)\n",
    "np.random.seed(seed)"
   ]
  },
  {
   "cell_type": "markdown",
   "metadata": {
    "id": "xlUgxZNUd5p8"
   },
   "source": [
    "Tune hyperparams on validation dataset:"
   ]
  },
  {
   "cell_type": "code",
   "execution_count": null,
   "metadata": {
    "id": "s3XSmgQId9Ad"
   },
   "outputs": [],
   "source": [
    "def objective(trial):\n",
    "    params = {\n",
    "        \"data\": \"TaoBao\",\n",
    "        \"save_model_folder\": \"DNNTSP\",\n",
    "        \"item_embed_dim\": trial.suggest_categorical(\"item_embed_dim\", [16, 32, 64, 128]),\n",
    "        \"n_heads\": trial.suggest_categorical(\"n_heads\", [1, 2, 4]),\n",
    "        \"attention_aggregate\": trial.suggest_categorical(\"attention_aggregate\", [\"concat\", \"mean\"]),\n",
    "        \"cuda\": 0,\n",
    "        \"loss_function\": \"multi_label_soft_loss\",\n",
    "        \"epochs\": 8,\n",
    "        \"batch_size\": trial.suggest_categorical(\"batch_size\", [16, 32, 64, 128]),\n",
    "        \"learning_rate\": trial.suggest_loguniform(\"learning_rate\", 1e-5, 1e-1),\n",
    "        \"optim\": \"Adam\",\n",
    "        \"weight_decay\": trial.suggest_loguniform(\"weight_decay\", 1e-6, 1e-1)\n",
    "    }\n",
    "\n",
    "    DNNTSP.utils.load_config.CONFIG = params\n",
    "    score = train(validate_flg=False)\n",
    "    return score"
   ]
  },
  {
   "cell_type": "code",
   "execution_count": null,
   "metadata": {
    "colab": {
     "base_uri": "https://localhost:8080/"
    },
    "id": "QYNvuSBJKpPv",
    "outputId": "f8299412-2b44-47f8-fbb9-2bacdfbbb082"
   },
   "outputs": [
    {
     "name": "stderr",
     "output_type": "stream",
     "text": [
      "\u001b[32m[I 2023-04-30 07:56:42,081]\u001b[0m A new study created in memory with name: no-name-4c7b42f0-b1ff-4449-9b25-e80304097336\u001b[0m\n",
      "\u001b[32m[I 2023-04-30 07:56:42,084]\u001b[0m Trial 0 finished with value: 6.815981032559648e-05 and parameters: {'item_embed_dim': 16, 'n_heads': 1, 'attention_aggregate': 'concat', 'batch_size': 64, 'learning_rate': 0.0011188427539040415, 'weight_decay': 0.011563912803570744}. Best is trial 0 with value: 6.815981032559648e-05.\u001b[0m\n",
      "\u001b[32m[I 2023-04-30 07:56:42,087]\u001b[0m Trial 1 finished with value: 5.690714897355065e-05 and parameters: {'item_embed_dim': 128, 'n_heads': 1, 'attention_aggregate': 'mean', 'batch_size': 64, 'learning_rate': 0.003995661855958764, 'weight_decay': 0.0010120332166548565}. Best is trial 0 with value: 6.815981032559648e-05.\u001b[0m\n",
      "\u001b[32m[I 2023-04-30 07:56:42,091]\u001b[0m Trial 2 finished with value: 0.0008935903897508979 and parameters: {'item_embed_dim': 64, 'n_heads': 2, 'attention_aggregate': 'concat', 'batch_size': 64, 'learning_rate': 0.02675476925825261, 'weight_decay': 5.731432699830861e-05}. Best is trial 2 with value: 0.0008935903897508979.\u001b[0m\n",
      "\u001b[32m[I 2023-04-30 07:56:42,095]\u001b[0m Trial 3 finished with value: 0.0009302067919634283 and parameters: {'item_embed_dim': 64, 'n_heads': 2, 'attention_aggregate': 'concat', 'batch_size': 64, 'learning_rate': 0.02016003934561091, 'weight_decay': 1.80663604603961e-05}. Best is trial 3 with value: 0.0009302067919634283.\u001b[0m\n",
      "\u001b[32m[I 2023-04-30 07:56:42,098]\u001b[0m Trial 4 finished with value: 0.0007468344992958009 and parameters: {'item_embed_dim': 32, 'n_heads': 2, 'attention_aggregate': 'mean', 'batch_size': 16, 'learning_rate': 0.003515317630276031, 'weight_decay': 5.391824532466961e-05}. Best is trial 3 with value: 0.0009302067919634283.\u001b[0m\n",
      "\u001b[32m[I 2023-04-30 07:56:42,102]\u001b[0m Trial 5 finished with value: 0.00017144498997367918 and parameters: {'item_embed_dim': 32, 'n_heads': 2, 'attention_aggregate': 'concat', 'batch_size': 64, 'learning_rate': 0.0016994670732385824, 'weight_decay': 0.0006722566383273701}. Best is trial 3 with value: 0.0009302067919634283.\u001b[0m\n",
      "\u001b[32m[I 2023-04-30 07:56:42,106]\u001b[0m Trial 6 finished with value: 0.00020758138271048665 and parameters: {'item_embed_dim': 128, 'n_heads': 4, 'attention_aggregate': 'concat', 'batch_size': 64, 'learning_rate': 0.0007213121225589909, 'weight_decay': 0.008123545047301329}. Best is trial 3 with value: 0.0009302067919634283.\u001b[0m\n",
      "\u001b[32m[I 2023-04-30 07:56:42,110]\u001b[0m Trial 7 finished with value: 0.0009487230563536286 and parameters: {'item_embed_dim': 16, 'n_heads': 1, 'attention_aggregate': 'concat', 'batch_size': 32, 'learning_rate': 0.034938832175517805, 'weight_decay': 6.711581311385595e-05}. Best is trial 7 with value: 0.0009487230563536286.\u001b[0m\n",
      "\u001b[32m[I 2023-04-30 07:56:42,114]\u001b[0m Trial 8 finished with value: 0.0003719147644005716 and parameters: {'item_embed_dim': 32, 'n_heads': 2, 'attention_aggregate': 'mean', 'batch_size': 64, 'learning_rate': 0.00033546416878630703, 'weight_decay': 0.04084735450421408}. Best is trial 7 with value: 0.0009487230563536286.\u001b[0m\n",
      "\u001b[32m[I 2023-04-30 07:56:42,119]\u001b[0m Trial 9 finished with value: 0.000617383630014956 and parameters: {'item_embed_dim': 16, 'n_heads': 1, 'attention_aggregate': 'mean', 'batch_size': 32, 'learning_rate': 0.005964310785315423, 'weight_decay': 3.335022149436862e-06}. Best is trial 7 with value: 0.0009487230563536286.\u001b[0m\n",
      "\u001b[32m[I 2023-04-30 07:56:42,134]\u001b[0m Trial 10 finished with value: 7.983882824191824e-05 and parameters: {'item_embed_dim': 16, 'n_heads': 4, 'attention_aggregate': 'concat', 'batch_size': 128, 'learning_rate': 3.5315968978781256e-05, 'weight_decay': 1.1417294856538539e-06}. Best is trial 7 with value: 0.0009487230563536286.\u001b[0m\n",
      "\u001b[32m[I 2023-04-30 07:56:42,145]\u001b[0m Trial 11 finished with value: 0.0009820337872952223 and parameters: {'item_embed_dim': 64, 'n_heads': 1, 'attention_aggregate': 'concat', 'batch_size': 32, 'learning_rate': 0.05973399419177919, 'weight_decay': 1.5018288207550632e-05}. Best is trial 11 with value: 0.0009820337872952223.\u001b[0m\n",
      "\u001b[32m[I 2023-04-30 07:56:42,156]\u001b[0m Trial 12 finished with value: 0.0011098346440121531 and parameters: {'item_embed_dim': 64, 'n_heads': 1, 'attention_aggregate': 'concat', 'batch_size': 32, 'learning_rate': 0.09952729793624535, 'weight_decay': 2.21946432402764e-05}. Best is trial 12 with value: 0.0011098346440121531.\u001b[0m\n",
      "\u001b[32m[I 2023-04-30 07:56:42,167]\u001b[0m Trial 13 finished with value: 0.0007143868715502322 and parameters: {'item_embed_dim': 64, 'n_heads': 1, 'attention_aggregate': 'concat', 'batch_size': 32, 'learning_rate': 0.09195886437027284, 'weight_decay': 9.173439145467037e-06}. Best is trial 12 with value: 0.0011098346440121531.\u001b[0m\n",
      "\u001b[32m[I 2023-04-30 07:56:42,177]\u001b[0m Trial 14 finished with value: 0.001280828146263957 and parameters: {'item_embed_dim': 64, 'n_heads': 1, 'attention_aggregate': 'concat', 'batch_size': 32, 'learning_rate': 0.08539209757313265, 'weight_decay': 6.248944010898853e-06}. Best is trial 14 with value: 0.001280828146263957.\u001b[0m\n",
      "\u001b[32m[I 2023-04-30 07:56:42,188]\u001b[0m Trial 15 finished with value: 0.00032862627995200455 and parameters: {'item_embed_dim': 64, 'n_heads': 1, 'attention_aggregate': 'concat', 'batch_size': 32, 'learning_rate': 0.09964990820951232, 'weight_decay': 1.3907448819240144e-06}. Best is trial 14 with value: 0.001280828146263957.\u001b[0m\n",
      "\u001b[32m[I 2023-04-30 07:56:42,198]\u001b[0m Trial 16 finished with value: 0.0011321037309244275 and parameters: {'item_embed_dim': 64, 'n_heads': 1, 'attention_aggregate': 'concat', 'batch_size': 16, 'learning_rate': 0.013806212368296523, 'weight_decay': 4.888950416202201e-06}. Best is trial 14 with value: 0.001280828146263957.\u001b[0m\n",
      "\u001b[32m[I 2023-04-30 07:56:42,210]\u001b[0m Trial 17 finished with value: 0.0011426106793805957 and parameters: {'item_embed_dim': 64, 'n_heads': 4, 'attention_aggregate': 'concat', 'batch_size': 16, 'learning_rate': 0.009556671558943897, 'weight_decay': 4.547127607728919e-06}. Best is trial 14 with value: 0.001280828146263957.\u001b[0m\n",
      "\u001b[32m[I 2023-04-30 07:56:42,221]\u001b[0m Trial 18 finished with value: 0.0011659993324428797 and parameters: {'item_embed_dim': 64, 'n_heads': 4, 'attention_aggregate': 'mean', 'batch_size': 16, 'learning_rate': 0.011292700977637866, 'weight_decay': 3.3510522183884875e-06}. Best is trial 14 with value: 0.001280828146263957.\u001b[0m\n",
      "\u001b[32m[I 2023-04-30 07:56:42,231]\u001b[0m Trial 19 finished with value: 0.0006655622855760157 and parameters: {'item_embed_dim': 128, 'n_heads': 4, 'attention_aggregate': 'mean', 'batch_size': 128, 'learning_rate': 0.03353255351952192, 'weight_decay': 1.1656257742382564e-06}. Best is trial 14 with value: 0.001280828146263957.\u001b[0m\n",
      "\u001b[32m[I 2023-04-30 07:56:42,242]\u001b[0m Trial 20 finished with value: 0.00011925884609809145 and parameters: {'item_embed_dim': 64, 'n_heads': 4, 'attention_aggregate': 'mean', 'batch_size': 16, 'learning_rate': 0.010866301233358666, 'weight_decay': 0.0001262305689253287}. Best is trial 14 with value: 0.001280828146263957.\u001b[0m\n",
      "\u001b[32m[I 2023-04-30 07:56:42,255]\u001b[0m Trial 21 finished with value: 0.00109135452657938 and parameters: {'item_embed_dim': 64, 'n_heads': 4, 'attention_aggregate': 'mean', 'batch_size': 16, 'learning_rate': 0.011220956689325606, 'weight_decay': 4.547234586208242e-06}. Best is trial 14 with value: 0.001280828146263957.\u001b[0m\n"
     ]
    },
    {
     "name": "stdout",
     "output_type": "stream",
     "text": [
      "train data length -> 8156\n",
      "validate data length -> 9307\n",
      "temporal_set_prediction(\n",
      "  (item_embedding): Embedding(22286, 64)\n",
      "  (stacked_gcn): stacked_weighted_GCN_blocks(\n",
      "    (0): weighted_GCN(\n",
      "      (gcns): ModuleList(\n",
      "        (0-1): 2 x weighted_graph_conv(\n",
      "          (linear): Linear(in_features=64, out_features=64, bias=True)\n",
      "        )\n",
      "      )\n",
      "      (relus): ModuleList(\n",
      "        (0-1): 2 x ReLU()\n",
      "      )\n",
      "      (bns): ModuleList(\n",
      "        (0-1): 2 x BatchNorm1d(64, eps=1e-05, momentum=0.1, affine=True, track_running_stats=True)\n",
      "      )\n",
      "    )\n",
      "  )\n",
      "  (masked_self_attention): masked_self_attention(\n",
      "    (Wq): Linear(in_features=64, out_features=256, bias=False)\n",
      "    (Wk): Linear(in_features=64, out_features=256, bias=False)\n",
      "    (Wv): Linear(in_features=64, out_features=256, bias=False)\n",
      "  )\n",
      "  (aggregate_nodes_temporal_feature): aggregate_nodes_temporal_feature(\n",
      "    (Wq): Linear(in_features=64, out_features=1, bias=False)\n",
      "  )\n",
      "  (global_gated_update): global_gated_update(\n",
      "    (item_embedding): Embedding(22286, 64)\n",
      "  )\n",
      "  (fc_output): Linear(in_features=64, out_features=1, bias=True)\n",
      ")\n",
      "Adam (\n",
      "Parameter Group 0\n",
      "    amsgrad: False\n",
      "    betas: (0.9, 0.999)\n",
      "    capturable: False\n",
      "    differentiable: False\n",
      "    eps: 1e-08\n",
      "    foreach: None\n",
      "    fused: None\n",
      "    lr: 0.04627208426635071\n",
      "    maximize: False\n",
      "    weight_decay: 3.483786113430134e-06\n",
      ")\n"
     ]
    },
    {
     "name": "stderr",
     "output_type": "stream",
     "text": [
      "train epoch: 0, train loss: 0.015533487488260018: 100%|██████████| 510/510 [00:40<00:00, 12.47it/s]\n"
     ]
    },
    {
     "name": "stdout",
     "output_type": "stream",
     "text": [
      "train metric ...\n",
      "{\n",
      "    \"PHR_10\": 0.0012260912211868563,\n",
      "    \"PHR_20\": 0.002206964198136341,\n",
      "    \"PHR_30\": 0.0031878371750858263,\n",
      "    \"PHR_40\": 0.00392349190779794,\n",
      "    \"PHR_5\": 0.0008582638548307994,\n",
      "    \"ndcg_10\": 0.0005962362047284842,\n",
      "    \"ndcg_20\": 0.0008397044148296118,\n",
      "    \"ndcg_30\": 0.0010491651482880116,\n",
      "    \"ndcg_40\": 0.001191047835163772,\n",
      "    \"ndcg_5\": 0.00047874392475932837,\n",
      "    \"precision_10\": 0.00012260914081707597,\n",
      "    \"precision_20\": 0.00011034821363864467,\n",
      "    \"precision_30\": 0.00010626124276313931,\n",
      "    \"precision_40\": 9.808730101212859e-05,\n",
      "    \"precision_5\": 0.0001716527622193098,\n",
      "    \"recall_10\": 0.0011647866340354085,\n",
      "    \"recall_20\": 0.0021456596441566944,\n",
      "    \"recall_30\": 0.0031265325378626585,\n",
      "    \"recall_40\": 0.0038621872663497925,\n",
      "    \"recall_5\": 0.0007969592697918415\n",
      "}\n"
     ]
    },
    {
     "name": "stderr",
     "output_type": "stream",
     "text": [
      "train epoch: 1, train loss: 0.0018759010065182605: 100%|██████████| 510/510 [00:36<00:00, 14.16it/s]\n"
     ]
    },
    {
     "name": "stdout",
     "output_type": "stream",
     "text": [
      "train metric ...\n",
      "{\n",
      "    \"PHR_10\": 0.0008582638548307994,\n",
      "    \"PHR_20\": 0.0017165277096615988,\n",
      "    \"PHR_30\": 0.003310446297204512,\n",
      "    \"PHR_40\": 0.005149583128984796,\n",
      "    \"PHR_5\": 0.0003678273663560569,\n",
      "    \"ndcg_10\": 0.0004099341167602688,\n",
      "    \"ndcg_20\": 0.0006303940317593515,\n",
      "    \"ndcg_30\": 0.0009674049797467887,\n",
      "    \"ndcg_40\": 0.0013281808933243155,\n",
      "    \"ndcg_5\": 0.000261271430645138,\n",
      "    \"precision_10\": 8.582638838561252e-05,\n",
      "    \"precision_20\": 8.582638838561252e-05,\n",
      "    \"precision_30\": 0.00011034822091460228,\n",
      "    \"precision_40\": 0.00012873957166448236,\n",
      "    \"precision_5\": 7.356547575909644e-05,\n",
      "    \"recall_10\": 0.00085826386930421,\n",
      "    \"recall_20\": 0.00171652773860842,\n",
      "    \"recall_30\": 0.0033104463946074247,\n",
      "    \"recall_40\": 0.0051495833322405815,\n",
      "    \"recall_5\": 0.000367827364243567\n",
      "}\n"
     ]
    },
    {
     "name": "stderr",
     "output_type": "stream",
     "text": [
      "train epoch: 2, train loss: 0.001156570482086025: 100%|██████████| 510/510 [00:35<00:00, 14.46it/s]\n"
     ]
    },
    {
     "name": "stdout",
     "output_type": "stream",
     "text": [
      "train metric ...\n",
      "{\n",
      "    \"PHR_10\": 0.0011034820990681706,\n",
      "    \"PHR_20\": 0.0015939185875429131,\n",
      "    \"PHR_30\": 0.002574791564492398,\n",
      "    \"PHR_40\": 0.003555664541441883,\n",
      "    \"PHR_5\": 0.0003678273663560569,\n",
      "    \"ndcg_10\": 0.0004942652303725481,\n",
      "    \"ndcg_20\": 0.0006187743856571615,\n",
      "    \"ndcg_30\": 0.000816384912468493,\n",
      "    \"ndcg_40\": 0.0010044843656942248,\n",
      "    \"ndcg_5\": 0.0002473985659889877,\n",
      "    \"precision_10\": 0.00011034821363864467,\n",
      "    \"precision_20\": 7.969592843437567e-05,\n",
      "    \"precision_30\": 8.582639566157013e-05,\n",
      "    \"precision_40\": 8.889161836123094e-05,\n",
      "    \"precision_5\": 7.356547575909644e-05,\n",
      "    \"recall_10\": 0.001103482092730701,\n",
      "    \"recall_20\": 0.001593918539583683,\n",
      "    \"recall_30\": 0.0025134868919849396,\n",
      "    \"recall_40\": 0.0034943600185215473,\n",
      "    \"recall_5\": 0.000367827364243567\n",
      "}\n"
     ]
    },
    {
     "name": "stderr",
     "output_type": "stream",
     "text": [
      "train epoch: 3, train loss: 0.0010393457992833254: 100%|██████████| 510/510 [00:35<00:00, 14.34it/s]\n"
     ]
    },
    {
     "name": "stdout",
     "output_type": "stream",
     "text": [
      "train metric ...\n",
      "{\n",
      "    \"PHR_10\": 0.0003678273663560569,\n",
      "    \"PHR_20\": 0.0011034820990681706,\n",
      "    \"PHR_30\": 0.0020843550760176557,\n",
      "    \"PHR_40\": 0.0038008827856792545,\n",
      "    \"PHR_5\": 0.0003678273663560569,\n",
      "    \"ndcg_10\": 0.00023671856615692377,\n",
      "    \"ndcg_20\": 0.00042202582699246705,\n",
      "    \"ndcg_30\": 0.0006260591326281428,\n",
      "    \"ndcg_40\": 0.0009579170146025717,\n",
      "    \"ndcg_5\": 0.00023671856615692377,\n",
      "    \"precision_10\": 3.678273787954822e-05,\n",
      "    \"precision_20\": 5.5174103181343526e-05,\n",
      "    \"precision_30\": 6.94785121595487e-05,\n",
      "    \"precision_40\": 9.502207103651017e-05,\n",
      "    \"precision_5\": 7.356547575909644e-05,\n",
      "    \"recall_10\": 0.000367827364243567,\n",
      "    \"recall_20\": 0.001103482092730701,\n",
      "    \"recall_30\": 0.002084355102851987,\n",
      "    \"recall_40\": 0.003800882725045085,\n",
      "    \"recall_5\": 0.000367827364243567\n",
      "}\n"
     ]
    },
    {
     "name": "stderr",
     "output_type": "stream",
     "text": [
      "train epoch: 4, train loss: 0.0009856710086037935: 100%|██████████| 510/510 [00:36<00:00, 13.96it/s]\n"
     ]
    },
    {
     "name": "stdout",
     "output_type": "stream",
     "text": [
      "train metric ...\n",
      "{\n",
      "    \"PHR_10\": 0.0003678273663560569,\n",
      "    \"PHR_20\": 0.0008582638548307994,\n",
      "    \"PHR_30\": 0.0018391368317802845,\n",
      "    \"PHR_40\": 0.004904364884747425,\n",
      "    \"PHR_5\": 0.0,\n",
      "    \"ndcg_10\": 0.00011279973114142194,\n",
      "    \"ndcg_20\": 0.0002329639537492767,\n",
      "    \"ndcg_30\": 0.00044545604032464325,\n",
      "    \"ndcg_40\": 0.0010296411346644163,\n",
      "    \"ndcg_5\": 0.0,\n",
      "    \"precision_10\": 3.678273787954822e-05,\n",
      "    \"precision_20\": 4.291319419280626e-05,\n",
      "    \"precision_30\": 6.130456313258037e-05,\n",
      "    \"precision_40\": 0.0001226091117132455,\n",
      "    \"precision_5\": 0.0,\n",
      "    \"recall_10\": 0.000367827364243567,\n",
      "    \"recall_20\": 0.00085826386930421,\n",
      "    \"recall_30\": 0.001839136821217835,\n",
      "    \"recall_40\": 0.0048430603928864,\n",
      "    \"recall_5\": 0.0\n",
      "}\n"
     ]
    },
    {
     "name": "stderr",
     "output_type": "stream",
     "text": [
      "train epoch: 5, train loss: 0.0009507447063429829: 100%|██████████| 510/510 [00:36<00:00, 14.14it/s]\n"
     ]
    },
    {
     "name": "stdout",
     "output_type": "stream",
     "text": [
      "train metric ...\n",
      "{\n",
      "    \"PHR_10\": 0.0006130456105934281,\n",
      "    \"PHR_20\": 0.001348700343305542,\n",
      "    \"PHR_30\": 0.0020843550760176557,\n",
      "    \"PHR_40\": 0.00392349190779794,\n",
      "    \"PHR_5\": 0.0004904364884747426,\n",
      "    \"ndcg_10\": 0.00041150161996483803,\n",
      "    \"ndcg_20\": 0.0005941017298027873,\n",
      "    \"ndcg_30\": 0.0007487860275432467,\n",
      "    \"ndcg_40\": 0.0011050282046198845,\n",
      "    \"ndcg_5\": 0.000367827364243567,\n",
      "    \"precision_10\": 6.130456313258037e-05,\n",
      "    \"precision_20\": 6.74350158078596e-05,\n",
      "    \"precision_30\": 6.947851943550631e-05,\n",
      "    \"precision_40\": 9.808729373617098e-05,\n",
      "    \"precision_5\": 9.808730101212859e-05,\n",
      "    \"recall_10\": 0.000613045587670058,\n",
      "    \"recall_20\": 0.001348700374364853,\n",
      "    \"recall_30\": 0.002084355102851987,\n",
      "    \"recall_40\": 0.003923492040485144,\n",
      "    \"recall_5\": 0.000490436505060643\n",
      "}\n"
     ]
    },
    {
     "name": "stderr",
     "output_type": "stream",
     "text": [
      "train epoch: 6, train loss: 0.00086419597535175: 100%|██████████| 510/510 [00:36<00:00, 14.14it/s]\n"
     ]
    },
    {
     "name": "stdout",
     "output_type": "stream",
     "text": [
      "train metric ...\n",
      "{\n",
      "    \"PHR_10\": 0.000980872976949485,\n",
      "    \"PHR_20\": 0.0024521824423737125,\n",
      "    \"PHR_30\": 0.003310446297204512,\n",
      "    \"PHR_40\": 0.004168710152035311,\n",
      "    \"PHR_5\": 0.0006130456105934281,\n",
      "    \"ndcg_10\": 0.00043797699618153274,\n",
      "    \"ndcg_20\": 0.0008094407967291772,\n",
      "    \"ndcg_30\": 0.000987506820820272,\n",
      "    \"ndcg_40\": 0.001151199685409665,\n",
      "    \"ndcg_5\": 0.0003247563145123422,\n",
      "    \"precision_10\": 9.808730101212859e-05,\n",
      "    \"precision_20\": 0.00012260912626516074,\n",
      "    \"precision_30\": 0.00011034821363864467,\n",
      "    \"precision_40\": 0.00010421775368740782,\n",
      "    \"precision_5\": 0.00012260912626516074,\n",
      "    \"recall_10\": 0.000980873010121286,\n",
      "    \"recall_20\": 0.002452182350680232,\n",
      "    \"recall_30\": 0.0033104463946074247,\n",
      "    \"recall_40\": 0.004168710205703974,\n",
      "    \"recall_5\": 0.000613045587670058\n",
      "}\n"
     ]
    },
    {
     "name": "stderr",
     "output_type": "stream",
     "text": [
      "train epoch: 7, train loss: 0.0007343305246311002: 100%|██████████| 510/510 [00:37<00:00, 13.65it/s]\n"
     ]
    },
    {
     "name": "stdout",
     "output_type": "stream",
     "text": [
      "train metric ...\n",
      "{\n",
      "    \"PHR_10\": 0.0003678273663560569,\n",
      "    \"PHR_20\": 0.0011034820990681706,\n",
      "    \"PHR_30\": 0.0015939185875429131,\n",
      "    \"PHR_40\": 0.002329573320255027,\n",
      "    \"PHR_5\": 0.0003678273663560569,\n",
      "    \"ndcg_10\": 0.0002075203665299341,\n",
      "    \"ndcg_20\": 0.0003901736345142126,\n",
      "    \"ndcg_30\": 0.0004968034336343408,\n",
      "    \"ndcg_40\": 0.0006388064357452095,\n",
      "    \"ndcg_5\": 0.0002075203665299341,\n",
      "    \"precision_10\": 3.678273787954822e-05,\n",
      "    \"precision_20\": 5.517410681932233e-05,\n",
      "    \"precision_30\": 5.3130621381569654e-05,\n",
      "    \"precision_40\": 5.8239336794940755e-05,\n",
      "    \"precision_5\": 7.356547575909644e-05,\n",
      "    \"recall_10\": 0.000367827364243567,\n",
      "    \"recall_20\": 0.001103482092730701,\n",
      "    \"recall_30\": 0.001593918539583683,\n",
      "    \"recall_40\": 0.002329573268070817,\n",
      "    \"recall_5\": 0.000367827364243567\n",
      "}\n"
     ]
    },
    {
     "name": "stderr",
     "output_type": "stream",
     "text": [
      "validate epoch: 7, validate loss: 0.0006484997095108109: 100%|██████████| 582/582 [00:26<00:00, 22.32it/s]\n"
     ]
    },
    {
     "name": "stdout",
     "output_type": "stream",
     "text": [
      "validate metric ...\n",
      "{\n",
      "    \"PHR_10\": 0.0016116901257118299,\n",
      "    \"PHR_20\": 0.0020414741592349843,\n",
      "    \"PHR_30\": 0.0022563661759965616,\n",
      "    \"PHR_40\": 0.003438272268185237,\n",
      "    \"PHR_5\": 0.001289352100569464,\n",
      "    \"ndcg_10\": 0.0006783136050216854,\n",
      "    \"ndcg_20\": 0.0007855425938032568,\n",
      "    \"ndcg_30\": 0.0008315385202877223,\n",
      "    \"ndcg_40\": 0.0010604866547510028,\n",
      "    \"ndcg_5\": 0.0005743384244851768,\n",
      "    \"precision_10\": 0.00016116900951601565,\n",
      "    \"precision_20\": 0.00010207371087744832,\n",
      "    \"precision_30\": 7.521221414208412e-05,\n",
      "    \"precision_40\": 8.595680992584676e-05,\n",
      "    \"precision_5\": 0.0002578704443294555,\n",
      "    \"recall_10\": 0.001540059456601739,\n",
      "    \"recall_20\": 0.0019698436371982098,\n",
      "    \"recall_30\": 0.0021847356110811234,\n",
      "    \"recall_40\": 0.0033666417002677917,\n",
      "    \"recall_5\": 0.0012177213793620467\n",
      "}\n",
      "model save as ./DNNTSP/save_model_folder/TaoBao/best_model.pkl\n",
      "cost 809 seconds\n"
     ]
    },
    {
     "name": "stderr",
     "output_type": "stream",
     "text": [
      "\u001b[32m[I 2023-04-30 08:10:25,518]\u001b[0m Trial 22 finished with value: 0.0006783136050216854 and parameters: {'item_embed_dim': 64, 'n_heads': 4, 'attention_aggregate': 'mean', 'batch_size': 16, 'learning_rate': 0.04627208426635071, 'weight_decay': 3.483786113430134e-06}. Best is trial 14 with value: 0.001280828146263957.\u001b[0m\n"
     ]
    },
    {
     "name": "stdout",
     "output_type": "stream",
     "text": [
      "train data length -> 8156\n",
      "validate data length -> 9307\n",
      "temporal_set_prediction(\n",
      "  (item_embedding): Embedding(22286, 64)\n",
      "  (stacked_gcn): stacked_weighted_GCN_blocks(\n",
      "    (0): weighted_GCN(\n",
      "      (gcns): ModuleList(\n",
      "        (0-1): 2 x weighted_graph_conv(\n",
      "          (linear): Linear(in_features=64, out_features=64, bias=True)\n",
      "        )\n",
      "      )\n",
      "      (relus): ModuleList(\n",
      "        (0-1): 2 x ReLU()\n",
      "      )\n",
      "      (bns): ModuleList(\n",
      "        (0-1): 2 x BatchNorm1d(64, eps=1e-05, momentum=0.1, affine=True, track_running_stats=True)\n",
      "      )\n",
      "    )\n",
      "  )\n",
      "  (masked_self_attention): masked_self_attention(\n",
      "    (Wq): Linear(in_features=64, out_features=256, bias=False)\n",
      "    (Wk): Linear(in_features=64, out_features=256, bias=False)\n",
      "    (Wv): Linear(in_features=64, out_features=256, bias=False)\n",
      "  )\n",
      "  (aggregate_nodes_temporal_feature): aggregate_nodes_temporal_feature(\n",
      "    (Wq): Linear(in_features=64, out_features=1, bias=False)\n",
      "  )\n",
      "  (global_gated_update): global_gated_update(\n",
      "    (item_embedding): Embedding(22286, 64)\n",
      "  )\n",
      "  (fc_output): Linear(in_features=64, out_features=1, bias=True)\n",
      ")\n",
      "Adam (\n",
      "Parameter Group 0\n",
      "    amsgrad: False\n",
      "    betas: (0.9, 0.999)\n",
      "    capturable: False\n",
      "    differentiable: False\n",
      "    eps: 1e-08\n",
      "    foreach: None\n",
      "    fused: None\n",
      "    lr: 0.009332160862611972\n",
      "    maximize: False\n",
      "    weight_decay: 1.3735844902716138e-05\n",
      ")\n"
     ]
    },
    {
     "name": "stderr",
     "output_type": "stream",
     "text": [
      "train epoch: 0, train loss: 0.0848062471276624: 100%|██████████| 510/510 [00:35<00:00, 14.23it/s]\n"
     ]
    },
    {
     "name": "stdout",
     "output_type": "stream",
     "text": [
      "train metric ...\n",
      "{\n",
      "    \"PHR_10\": 0.000980872976949485,\n",
      "    \"PHR_20\": 0.0018391368317802845,\n",
      "    \"PHR_30\": 0.002697400686611084,\n",
      "    \"PHR_40\": 0.003310446297204512,\n",
      "    \"PHR_5\": 0.0004904364884747426,\n",
      "    \"ndcg_10\": 0.0004322612949181348,\n",
      "    \"ndcg_20\": 0.0006374060758389533,\n",
      "    \"ndcg_30\": 0.00081471266457811,\n",
      "    \"ndcg_40\": 0.0009193886071443558,\n",
      "    \"ndcg_5\": 0.00027670382405631244,\n",
      "    \"precision_10\": 9.808730101212859e-05,\n",
      "    \"precision_20\": 9.195684106089175e-05,\n",
      "    \"precision_30\": 8.99133738130331e-05,\n",
      "    \"precision_40\": 8.27611584099941e-05,\n",
      "    \"precision_5\": 9.808730101212859e-05,\n",
      "    \"recall_10\": 0.0008889161399565637,\n",
      "    \"recall_20\": 0.0017471800092607737,\n",
      "    \"recall_30\": 0.0026054438203573227,\n",
      "    \"recall_40\": 0.003136750077828765,\n",
      "    \"recall_5\": 0.00039847963489592075\n",
      "}\n"
     ]
    },
    {
     "name": "stderr",
     "output_type": "stream",
     "text": [
      "train epoch: 1, train loss: 0.00503530662287684: 100%|██████████| 510/510 [00:35<00:00, 14.17it/s]\n"
     ]
    },
    {
     "name": "stdout",
     "output_type": "stream",
     "text": [
      "train metric ...\n",
      "{\n",
      "    \"PHR_10\": 0.0003678273663560569,\n",
      "    \"PHR_20\": 0.0017165277096615988,\n",
      "    \"PHR_30\": 0.0028200098087297694,\n",
      "    \"PHR_40\": 0.0040461010299166255,\n",
      "    \"PHR_5\": 0.0002452182442373713,\n",
      "    \"ndcg_10\": 0.00014417822239920497,\n",
      "    \"ndcg_20\": 0.0004820040485356003,\n",
      "    \"ndcg_30\": 0.0007097552297636867,\n",
      "    \"ndcg_40\": 0.000946708139963448,\n",
      "    \"ndcg_5\": 0.00010873623978113756,\n",
      "    \"precision_10\": 3.678273787954822e-05,\n",
      "    \"precision_20\": 8.582638838561252e-05,\n",
      "    \"precision_30\": 9.400033013662323e-05,\n",
      "    \"precision_40\": 0.0001011525237117894,\n",
      "    \"precision_5\": 4.9043650506064296e-05,\n",
      "    \"recall_10\": 0.000367827364243567,\n",
      "    \"recall_20\": 0.00171652773860842,\n",
      "    \"recall_30\": 0.002820009831339121,\n",
      "    \"recall_40\": 0.004046101123094559,\n",
      "    \"recall_5\": 0.0002452182525303215\n",
      "}\n"
     ]
    },
    {
     "name": "stderr",
     "output_type": "stream",
     "text": [
      "train epoch: 2, train loss: 0.003447733370715058: 100%|██████████| 510/510 [00:36<00:00, 13.92it/s]\n"
     ]
    },
    {
     "name": "stdout",
     "output_type": "stream",
     "text": [
      "train metric ...\n",
      "{\n",
      "    \"PHR_10\": 0.0003678273663560569,\n",
      "    \"PHR_20\": 0.001348700343305542,\n",
      "    \"PHR_30\": 0.002206964198136341,\n",
      "    \"PHR_40\": 0.004291319274153997,\n",
      "    \"PHR_5\": 0.0002452182442373713,\n",
      "    \"ndcg_10\": 0.00013714558735955507,\n",
      "    \"ndcg_20\": 0.00039159730658866465,\n",
      "    \"ndcg_30\": 0.0005737777100875974,\n",
      "    \"ndcg_40\": 0.0009741443791426718,\n",
      "    \"ndcg_5\": 0.00010023656068369746,\n",
      "    \"precision_10\": 3.678273787954822e-05,\n",
      "    \"precision_20\": 6.74350158078596e-05,\n",
      "    \"precision_30\": 7.356547575909644e-05,\n",
      "    \"precision_40\": 0.00010728299093898386,\n",
      "    \"precision_5\": 4.9043650506064296e-05,\n",
      "    \"recall_10\": 0.000367827364243567,\n",
      "    \"recall_20\": 0.001348700374364853,\n",
      "    \"recall_30\": 0.002206964185461402,\n",
      "    \"recall_40\": 0.004291319288313389,\n",
      "    \"recall_5\": 0.0002452182525303215\n",
      "}\n"
     ]
    },
    {
     "name": "stderr",
     "output_type": "stream",
     "text": [
      "train epoch: 3, train loss: 0.002825363052041069: 100%|██████████| 510/510 [00:36<00:00, 13.94it/s]\n"
     ]
    },
    {
     "name": "stdout",
     "output_type": "stream",
     "text": [
      "train metric ...\n",
      "{\n",
      "    \"PHR_10\": 0.00012260912211868564,\n",
      "    \"PHR_20\": 0.0011034820990681706,\n",
      "    \"PHR_30\": 0.0024521824423737125,\n",
      "    \"PHR_40\": 0.004168710152035311,\n",
      "    \"PHR_5\": 0.0,\n",
      "    \"ndcg_10\": 3.6909026675857604e-05,\n",
      "    \"ndcg_20\": 0.00027634334401227534,\n",
      "    \"ndcg_30\": 0.0005629577208310366,\n",
      "    \"ndcg_40\": 0.0008926010923460126,\n",
      "    \"ndcg_5\": 0.0,\n",
      "    \"precision_10\": 1.2260912626516074e-05,\n",
      "    \"precision_20\": 5.517410681932233e-05,\n",
      "    \"precision_30\": 8.173942478606477e-05,\n",
      "    \"precision_40\": 0.00010421775368740782,\n",
      "    \"precision_5\": 0.0,\n",
      "    \"recall_10\": 0.00012260912626516074,\n",
      "    \"recall_20\": 0.001103482092730701,\n",
      "    \"recall_30\": 0.002452182350680232,\n",
      "    \"recall_40\": 0.004168710205703974,\n",
      "    \"recall_5\": 0.0\n",
      "}\n"
     ]
    },
    {
     "name": "stderr",
     "output_type": "stream",
     "text": [
      "train epoch: 4, train loss: 0.002526291867937235: 100%|██████████| 510/510 [00:38<00:00, 13.26it/s]\n"
     ]
    },
    {
     "name": "stdout",
     "output_type": "stream",
     "text": [
      "train metric ...\n",
      "{\n",
      "    \"PHR_10\": 0.0,\n",
      "    \"PHR_20\": 0.0004904364884747426,\n",
      "    \"PHR_30\": 0.0028200098087297694,\n",
      "    \"PHR_40\": 0.004659146640510054,\n",
      "    \"PHR_5\": 0.0,\n",
      "    \"ndcg_10\": 0.0,\n",
      "    \"ndcg_20\": 0.000120466087537352,\n",
      "    \"ndcg_30\": 0.0006159355398267508,\n",
      "    \"ndcg_40\": 0.0009689494618214667,\n",
      "    \"ndcg_5\": 0.0,\n",
      "    \"precision_10\": 0.0,\n",
      "    \"precision_20\": 2.4521825253032148e-05,\n",
      "    \"precision_30\": 9.400033013662323e-05,\n",
      "    \"precision_40\": 0.00011647867358988151,\n",
      "    \"precision_5\": 0.0,\n",
      "    \"recall_10\": 0.0,\n",
      "    \"recall_20\": 0.000490436505060643,\n",
      "    \"recall_30\": 0.002820009831339121,\n",
      "    \"recall_40\": 0.004659146536141634,\n",
      "    \"recall_5\": 0.0\n",
      "}\n"
     ]
    },
    {
     "name": "stderr",
     "output_type": "stream",
     "text": [
      "train epoch: 5, train loss: 0.0023775208125110057: 100%|██████████| 510/510 [00:37<00:00, 13.75it/s]\n"
     ]
    },
    {
     "name": "stdout",
     "output_type": "stream",
     "text": [
      "train metric ...\n",
      "{\n",
      "    \"PHR_10\": 0.0,\n",
      "    \"PHR_20\": 0.0004904364884747426,\n",
      "    \"PHR_30\": 0.002697400686611084,\n",
      "    \"PHR_40\": 0.004536537518391368,\n",
      "    \"PHR_5\": 0.0,\n",
      "    \"ndcg_10\": 0.0,\n",
      "    \"ndcg_20\": 0.00011649002408375964,\n",
      "    \"ndcg_30\": 0.000581540516577661,\n",
      "    \"ndcg_40\": 0.0009365103323943913,\n",
      "    \"ndcg_5\": 0.0,\n",
      "    \"precision_10\": 0.0,\n",
      "    \"precision_20\": 2.4521825253032148e-05,\n",
      "    \"precision_30\": 8.99133738130331e-05,\n",
      "    \"precision_40\": 0.00011341343633830547,\n",
      "    \"precision_5\": 0.0,\n",
      "    \"recall_10\": 0.0,\n",
      "    \"recall_20\": 0.000490436505060643,\n",
      "    \"recall_30\": 0.002697400748729706,\n",
      "    \"recall_40\": 0.004536537453532219,\n",
      "    \"recall_5\": 0.0\n",
      "}\n"
     ]
    },
    {
     "name": "stderr",
     "output_type": "stream",
     "text": [
      "train epoch: 6, train loss: 0.0023043475570339784: 100%|██████████| 510/510 [00:38<00:00, 13.09it/s]\n"
     ]
    },
    {
     "name": "stdout",
     "output_type": "stream",
     "text": [
      "train metric ...\n",
      "{\n",
      "    \"PHR_10\": 0.0,\n",
      "    \"PHR_20\": 0.0006130456105934281,\n",
      "    \"PHR_30\": 0.002697400686611084,\n",
      "    \"PHR_40\": 0.0040461010299166255,\n",
      "    \"PHR_5\": 0.0,\n",
      "    \"ndcg_10\": 0.0,\n",
      "    \"ndcg_20\": 0.00014394984464161098,\n",
      "    \"ndcg_30\": 0.000578810868319124,\n",
      "    \"ndcg_40\": 0.0008376458426937461,\n",
      "    \"ndcg_5\": 0.0,\n",
      "    \"precision_10\": 0.0,\n",
      "    \"precision_20\": 3.0652281566290185e-05,\n",
      "    \"precision_30\": 8.991336653707549e-05,\n",
      "    \"precision_40\": 0.00010115253098774701,\n",
      "    \"precision_5\": 0.0,\n",
      "    \"recall_10\": 0.0,\n",
      "    \"recall_20\": 0.000613045587670058,\n",
      "    \"recall_30\": 0.002697400748729706,\n",
      "    \"recall_40\": 0.004046101123094559,\n",
      "    \"recall_5\": 0.0\n",
      "}\n"
     ]
    },
    {
     "name": "stderr",
     "output_type": "stream",
     "text": [
      "train epoch: 7, train loss: 0.002263052778902884: 100%|██████████| 510/510 [00:36<00:00, 13.82it/s]\n"
     ]
    },
    {
     "name": "stdout",
     "output_type": "stream",
     "text": [
      "train metric ...\n",
      "{\n",
      "    \"PHR_10\": 0.0,\n",
      "    \"PHR_20\": 0.0004904364884747426,\n",
      "    \"PHR_30\": 0.002206964198136341,\n",
      "    \"PHR_40\": 0.003310446297204512,\n",
      "    \"PHR_5\": 0.0,\n",
      "    \"ndcg_10\": 0.0,\n",
      "    \"ndcg_20\": 0.00011468856973806396,\n",
      "    \"ndcg_30\": 0.00047290613292716444,\n",
      "    \"ndcg_40\": 0.0006891082739457488,\n",
      "    \"ndcg_5\": 0.0,\n",
      "    \"precision_10\": 0.0,\n",
      "    \"precision_20\": 2.4521825253032148e-05,\n",
      "    \"precision_30\": 7.356547575909644e-05,\n",
      "    \"precision_40\": 8.27611584099941e-05,\n",
      "    \"precision_5\": 0.0,\n",
      "    \"recall_10\": 0.0,\n",
      "    \"recall_20\": 0.000490436505060643,\n",
      "    \"recall_30\": 0.002206964185461402,\n",
      "    \"recall_40\": 0.0033104463946074247,\n",
      "    \"recall_5\": 0.0\n",
      "}\n"
     ]
    },
    {
     "name": "stderr",
     "output_type": "stream",
     "text": [
      "validate epoch: 7, validate loss: 0.002248254851470109: 100%|██████████| 582/582 [00:26<00:00, 22.18it/s]\n"
     ]
    },
    {
     "name": "stdout",
     "output_type": "stream",
     "text": [
      "validate metric ...\n",
      "{\n",
      "    \"PHR_10\": 0.0011819060921886752,\n",
      "    \"PHR_20\": 0.0022563661759965616,\n",
      "    \"PHR_30\": 0.003438272268185237,\n",
      "    \"PHR_40\": 0.004082948318469969,\n",
      "    \"PHR_5\": 0.0010744600838078866,\n",
      "    \"ndcg_10\": 0.0010546324774622917,\n",
      "    \"ndcg_20\": 0.0013252351200208068,\n",
      "    \"ndcg_30\": 0.0015672410372644663,\n",
      "    \"ndcg_40\": 0.0016938220942392945,\n",
      "    \"ndcg_5\": 0.0010207371087744832,\n",
      "    \"precision_10\": 0.00011819061182904989,\n",
      "    \"precision_20\": 0.00011281831393716857,\n",
      "    \"precision_30\": 0.00011460907990112901,\n",
      "    \"precision_40\": 0.00010207371087744832,\n",
      "    \"precision_5\": 0.00021489201753865927,\n",
      "    \"recall_10\": 0.0011819060891866684,\n",
      "    \"recall_20\": 0.00225636619143188,\n",
      "    \"recall_30\": 0.0034382722806185484,\n",
      "    \"recall_40\": 0.004082948435097933,\n",
      "    \"recall_5\": 0.0010744601022452116\n",
      "}\n",
      "model save as ./DNNTSP/save_model_folder/TaoBao/best_model.pkl\n",
      "cost 800 seconds\n"
     ]
    },
    {
     "name": "stderr",
     "output_type": "stream",
     "text": [
      "\u001b[32m[I 2023-04-30 08:23:56,098]\u001b[0m Trial 23 finished with value: 0.0010546324774622917 and parameters: {'item_embed_dim': 64, 'n_heads': 4, 'attention_aggregate': 'mean', 'batch_size': 16, 'learning_rate': 0.009332160862611972, 'weight_decay': 1.3735844902716138e-05}. Best is trial 14 with value: 0.001280828146263957.\u001b[0m\n"
     ]
    },
    {
     "name": "stdout",
     "output_type": "stream",
     "text": [
      "train data length -> 8156\n",
      "validate data length -> 9307\n",
      "temporal_set_prediction(\n",
      "  (item_embedding): Embedding(22286, 64)\n",
      "  (stacked_gcn): stacked_weighted_GCN_blocks(\n",
      "    (0): weighted_GCN(\n",
      "      (gcns): ModuleList(\n",
      "        (0-1): 2 x weighted_graph_conv(\n",
      "          (linear): Linear(in_features=64, out_features=64, bias=True)\n",
      "        )\n",
      "      )\n",
      "      (relus): ModuleList(\n",
      "        (0-1): 2 x ReLU()\n",
      "      )\n",
      "      (bns): ModuleList(\n",
      "        (0-1): 2 x BatchNorm1d(64, eps=1e-05, momentum=0.1, affine=True, track_running_stats=True)\n",
      "      )\n",
      "    )\n",
      "  )\n",
      "  (masked_self_attention): masked_self_attention(\n",
      "    (Wq): Linear(in_features=64, out_features=64, bias=False)\n",
      "    (Wk): Linear(in_features=64, out_features=64, bias=False)\n",
      "    (Wv): Linear(in_features=64, out_features=64, bias=False)\n",
      "  )\n",
      "  (aggregate_nodes_temporal_feature): aggregate_nodes_temporal_feature(\n",
      "    (Wq): Linear(in_features=64, out_features=1, bias=False)\n",
      "  )\n",
      "  (global_gated_update): global_gated_update(\n",
      "    (item_embedding): Embedding(22286, 64)\n",
      "  )\n",
      "  (fc_output): Linear(in_features=64, out_features=1, bias=True)\n",
      ")\n",
      "Adam (\n",
      "Parameter Group 0\n",
      "    amsgrad: False\n",
      "    betas: (0.9, 0.999)\n",
      "    capturable: False\n",
      "    differentiable: False\n",
      "    eps: 1e-08\n",
      "    foreach: None\n",
      "    fused: None\n",
      "    lr: 0.024817167441348806\n",
      "    maximize: False\n",
      "    weight_decay: 2.7865376507315793e-06\n",
      ")\n"
     ]
    },
    {
     "name": "stderr",
     "output_type": "stream",
     "text": [
      "train epoch: 0, train loss: 0.021918741261413067: 100%|██████████| 510/510 [00:38<00:00, 13.23it/s]\n"
     ]
    },
    {
     "name": "stdout",
     "output_type": "stream",
     "text": [
      "train metric ...\n",
      "{\n",
      "    \"PHR_10\": 0.001348700343305542,\n",
      "    \"PHR_20\": 0.00196174595389897,\n",
      "    \"PHR_30\": 0.0028200098087297694,\n",
      "    \"PHR_40\": 0.0040461010299166255,\n",
      "    \"PHR_5\": 0.0008582638548307994,\n",
      "    \"ndcg_10\": 0.0007617083028890193,\n",
      "    \"ndcg_20\": 0.0009174875449389219,\n",
      "    \"ndcg_30\": 0.0010978394420817494,\n",
      "    \"ndcg_40\": 0.0013367768842726946,\n",
      "    \"ndcg_5\": 0.000613045587670058,\n",
      "    \"precision_10\": 0.0001348700316157192,\n",
      "    \"precision_20\": 9.808730101212859e-05,\n",
      "    \"precision_30\": 9.400032286066562e-05,\n",
      "    \"precision_40\": 0.0001011525237117894,\n",
      "    \"precision_5\": 0.0001716527622193098,\n",
      "    \"recall_10\": 0.0012873958330601454,\n",
      "    \"recall_20\": 0.0019004413625225425,\n",
      "    \"recall_30\": 0.0027587052900344133,\n",
      "    \"recall_40\": 0.0039847963489592075,\n",
      "    \"recall_5\": 0.0007969592697918415\n",
      "}\n"
     ]
    },
    {
     "name": "stderr",
     "output_type": "stream",
     "text": [
      "train epoch: 1, train loss: 0.0014519461709092936: 100%|██████████| 510/510 [00:37<00:00, 13.57it/s]\n"
     ]
    },
    {
     "name": "stdout",
     "output_type": "stream",
     "text": [
      "train metric ...\n",
      "{\n",
      "    \"PHR_10\": 0.0007356547327121138,\n",
      "    \"PHR_20\": 0.0014713094654242277,\n",
      "    \"PHR_30\": 0.0028200098087297694,\n",
      "    \"PHR_40\": 0.004781755762628739,\n",
      "    \"PHR_5\": 0.0007356547327121138,\n",
      "    \"ndcg_10\": 0.0004926167894154787,\n",
      "    \"ndcg_20\": 0.0006657957565039396,\n",
      "    \"ndcg_30\": 0.0009483704925514758,\n",
      "    \"ndcg_40\": 0.0013175278436392546,\n",
      "    \"ndcg_5\": 0.0004926167894154787,\n",
      "    \"precision_10\": 7.356547575909644e-05,\n",
      "    \"precision_20\": 7.356547575909644e-05,\n",
      "    \"precision_30\": 9.400033013662323e-05,\n",
      "    \"precision_40\": 0.0001195438890135847,\n",
      "    \"precision_5\": 0.0001471309515181929,\n",
      "    \"recall_10\": 0.000735654728487134,\n",
      "    \"recall_20\": 0.001471309456974268,\n",
      "    \"recall_30\": 0.002820009831339121,\n",
      "    \"recall_40\": 0.004720451310276985,\n",
      "    \"recall_5\": 0.000735654728487134\n",
      "}\n"
     ]
    },
    {
     "name": "stderr",
     "output_type": "stream",
     "text": [
      "train epoch: 2, train loss: 0.00111283258119525: 100%|██████████| 510/510 [00:36<00:00, 14.06it/s]\n"
     ]
    },
    {
     "name": "stdout",
     "output_type": "stream",
     "text": [
      "train metric ...\n",
      "{\n",
      "    \"PHR_10\": 0.0002452182442373713,\n",
      "    \"PHR_20\": 0.001348700343305542,\n",
      "    \"PHR_30\": 0.003678273663560569,\n",
      "    \"PHR_40\": 0.004904364884747425,\n",
      "    \"PHR_5\": 0.0002452182442373713,\n",
      "    \"ndcg_10\": 0.00011410943989176303,\n",
      "    \"ndcg_20\": 0.00038972427137196064,\n",
      "    \"ndcg_30\": 0.0008763372316025198,\n",
      "    \"ndcg_40\": 0.0011040447279810905,\n",
      "    \"ndcg_5\": 0.00011410943989176303,\n",
      "    \"precision_10\": 2.4521825253032148e-05,\n",
      "    \"precision_20\": 6.74350158078596e-05,\n",
      "    \"precision_30\": 0.00012260914081707597,\n",
      "    \"precision_40\": 0.00012260912626516074,\n",
      "    \"precision_5\": 4.9043650506064296e-05,\n",
      "    \"recall_10\": 0.0002452182525303215,\n",
      "    \"recall_20\": 0.001348700374364853,\n",
      "    \"recall_30\": 0.00367827364243567,\n",
      "    \"recall_40\": 0.0048430603928864,\n",
      "    \"recall_5\": 0.0002452182525303215\n",
      "}\n"
     ]
    },
    {
     "name": "stderr",
     "output_type": "stream",
     "text": [
      "train epoch: 3, train loss: 0.0009756605326901098: 100%|██████████| 510/510 [00:37<00:00, 13.67it/s]\n"
     ]
    },
    {
     "name": "stdout",
     "output_type": "stream",
     "text": [
      "train metric ...\n",
      "{\n",
      "    \"PHR_10\": 0.0003678273663560569,\n",
      "    \"PHR_20\": 0.0011034820990681706,\n",
      "    \"PHR_30\": 0.0024521824423737125,\n",
      "    \"PHR_40\": 0.004659146640510054,\n",
      "    \"PHR_5\": 0.0003678273663560569,\n",
      "    \"ndcg_10\": 0.0002980231074616313,\n",
      "    \"ndcg_20\": 0.0004759352304972708,\n",
      "    \"ndcg_30\": 0.0007643885910511017,\n",
      "    \"ndcg_40\": 0.0011882715625688434,\n",
      "    \"ndcg_5\": 0.0002980231074616313,\n",
      "    \"precision_10\": 3.678273787954822e-05,\n",
      "    \"precision_20\": 5.517410681932233e-05,\n",
      "    \"precision_30\": 8.173942478606477e-05,\n",
      "    \"precision_40\": 0.0001164786663139239,\n",
      "    \"precision_5\": 7.356547575909644e-05,\n",
      "    \"recall_10\": 0.000367827364243567,\n",
      "    \"recall_20\": 0.001103482092730701,\n",
      "    \"recall_30\": 0.002452182350680232,\n",
      "    \"recall_40\": 0.004659146536141634,\n",
      "    \"recall_5\": 0.000367827364243567\n",
      "}\n"
     ]
    },
    {
     "name": "stderr",
     "output_type": "stream",
     "text": [
      "train epoch: 4, train loss: 0.0009127182851764648: 100%|██████████| 510/510 [00:37<00:00, 13.67it/s]\n"
     ]
    },
    {
     "name": "stdout",
     "output_type": "stream",
     "text": [
      "train metric ...\n",
      "{\n",
      "    \"PHR_10\": 0.0004904364884747426,\n",
      "    \"PHR_20\": 0.0012260912211868563,\n",
      "    \"PHR_30\": 0.00196174595389897,\n",
      "    \"PHR_40\": 0.005272192251103482,\n",
      "    \"PHR_5\": 0.0004904364884747426,\n",
      "    \"ndcg_10\": 0.0003508279914967716,\n",
      "    \"ndcg_20\": 0.0005301797646097839,\n",
      "    \"ndcg_30\": 0.0006877835839986801,\n",
      "    \"ndcg_40\": 0.0013080781791359186,\n",
      "    \"ndcg_5\": 0.0003508279914967716,\n",
      "    \"precision_10\": 4.9043650506064296e-05,\n",
      "    \"precision_20\": 6.130456313258037e-05,\n",
      "    \"precision_30\": 6.539153400808573e-05,\n",
      "    \"precision_40\": 0.000131804816192016,\n",
      "    \"precision_5\": 9.808730101212859e-05,\n",
      "    \"recall_10\": 0.000490436505060643,\n",
      "    \"recall_20\": 0.001226091175340116,\n",
      "    \"recall_30\": 0.001961746020242572,\n",
      "    \"recall_40\": 0.005210887640714645,\n",
      "    \"recall_5\": 0.000490436505060643\n",
      "}\n"
     ]
    },
    {
     "name": "stderr",
     "output_type": "stream",
     "text": [
      "train epoch: 5, train loss: 0.0008792286230862944: 100%|██████████| 510/510 [00:36<00:00, 14.11it/s]\n"
     ]
    },
    {
     "name": "stdout",
     "output_type": "stream",
     "text": [
      "train metric ...\n",
      "{\n",
      "    \"PHR_10\": 0.0006130456105934281,\n",
      "    \"PHR_20\": 0.0008582638548307994,\n",
      "    \"PHR_30\": 0.00196174595389897,\n",
      "    \"PHR_40\": 0.004291319274153997,\n",
      "    \"PHR_5\": 0.0006130456105934281,\n",
      "    \"ndcg_10\": 0.0004979899968020618,\n",
      "    \"ndcg_20\": 0.0005573895759880543,\n",
      "    \"ndcg_30\": 0.0007898333133198321,\n",
      "    \"ndcg_40\": 0.001231657573953271,\n",
      "    \"ndcg_5\": 0.0004979899968020618,\n",
      "    \"precision_10\": 6.130456313258037e-05,\n",
      "    \"precision_20\": 4.291319419280626e-05,\n",
      "    \"precision_30\": 6.539153400808573e-05,\n",
      "    \"precision_40\": 0.00010728299093898386,\n",
      "    \"precision_5\": 0.00012260912626516074,\n",
      "    \"recall_10\": 0.000613045587670058,\n",
      "    \"recall_20\": 0.00085826386930421,\n",
      "    \"recall_30\": 0.001961746020242572,\n",
      "    \"recall_40\": 0.004291319288313389,\n",
      "    \"recall_5\": 0.000613045587670058\n",
      "}\n"
     ]
    },
    {
     "name": "stderr",
     "output_type": "stream",
     "text": [
      "train epoch: 6, train loss: 0.0008677405905544612: 100%|██████████| 510/510 [00:35<00:00, 14.29it/s]\n"
     ]
    },
    {
     "name": "stdout",
     "output_type": "stream",
     "text": [
      "train metric ...\n",
      "{\n",
      "    \"PHR_10\": 0.0007356547327121138,\n",
      "    \"PHR_20\": 0.0007356547327121138,\n",
      "    \"PHR_30\": 0.0015939185875429131,\n",
      "    \"PHR_40\": 0.0040461010299166255,\n",
      "    \"PHR_5\": 0.0007356547327121138,\n",
      "    \"ndcg_10\": 0.0005247231456451118,\n",
      "    \"ndcg_20\": 0.0005247231456451118,\n",
      "    \"ndcg_30\": 0.0007018574397079647,\n",
      "    \"ndcg_40\": 0.0011735997395589948,\n",
      "    \"ndcg_5\": 0.0005247231456451118,\n",
      "    \"precision_10\": 7.356547575909644e-05,\n",
      "    \"precision_20\": 3.678273787954822e-05,\n",
      "    \"precision_30\": 5.3130621381569654e-05,\n",
      "    \"precision_40\": 0.00010115253098774701,\n",
      "    \"precision_5\": 0.0001471309515181929,\n",
      "    \"recall_10\": 0.000735654728487134,\n",
      "    \"recall_20\": 0.000735654728487134,\n",
      "    \"recall_30\": 0.001593918539583683,\n",
      "    \"recall_40\": 0.004046101123094559,\n",
      "    \"recall_5\": 0.000735654728487134\n",
      "}\n"
     ]
    },
    {
     "name": "stderr",
     "output_type": "stream",
     "text": [
      "train epoch: 7, train loss: 0.0008754804561498995: 100%|██████████| 510/510 [00:36<00:00, 13.86it/s]\n"
     ]
    },
    {
     "name": "stdout",
     "output_type": "stream",
     "text": [
      "train metric ...\n",
      "{\n",
      "    \"PHR_10\": 0.0003678273663560569,\n",
      "    \"PHR_20\": 0.001348700343305542,\n",
      "    \"PHR_30\": 0.002329573320255027,\n",
      "    \"PHR_40\": 0.004413928396272682,\n",
      "    \"PHR_5\": 0.0002452182442373713,\n",
      "    \"ndcg_10\": 0.0002806602278724313,\n",
      "    \"ndcg_20\": 0.0005256793810985982,\n",
      "    \"ndcg_30\": 0.0007361637544818223,\n",
      "    \"ndcg_40\": 0.0011369884014129639,\n",
      "    \"ndcg_5\": 0.0002452182525303215,\n",
      "    \"precision_10\": 3.678273787954822e-05,\n",
      "    \"precision_20\": 6.74350158078596e-05,\n",
      "    \"precision_30\": 7.765245391055942e-05,\n",
      "    \"precision_40\": 0.00011034821363864467,\n",
      "    \"precision_5\": 4.9043650506064296e-05,\n",
      "    \"recall_10\": 0.000367827364243567,\n",
      "    \"recall_20\": 0.001348700374364853,\n",
      "    \"recall_30\": 0.002329573268070817,\n",
      "    \"recall_40\": 0.004413928370922804,\n",
      "    \"recall_5\": 0.0002452182525303215\n",
      "}\n"
     ]
    },
    {
     "name": "stderr",
     "output_type": "stream",
     "text": [
      "validate epoch: 7, validate loss: 0.0008686974913096279: 100%|██████████| 582/582 [00:27<00:00, 21.19it/s]\n"
     ]
    },
    {
     "name": "stdout",
     "output_type": "stream",
     "text": [
      "validate metric ...\n",
      "{\n",
      "    \"PHR_10\": 0.000644676050284732,\n",
      "    \"PHR_20\": 0.002578704201138928,\n",
      "    \"PHR_30\": 0.0035457182765660255,\n",
      "    \"PHR_40\": 0.00483507037713549,\n",
      "    \"PHR_5\": 0.00042978403352315463,\n",
      "    \"ndcg_10\": 0.0003421563596930355,\n",
      "    \"ndcg_20\": 0.0008204139885492623,\n",
      "    \"ndcg_30\": 0.0010132327442988753,\n",
      "    \"ndcg_40\": 0.0012335890205577016,\n",
      "    \"ndcg_5\": 0.000270525662926957,\n",
      "    \"precision_10\": 6.446761108236387e-05,\n",
      "    \"precision_20\": 0.00012893522216472775,\n",
      "    \"precision_30\": 0.00011819061182904989,\n",
      "    \"precision_40\": 0.00012087675713701174,\n",
      "    \"precision_5\": 8.595680992584676e-05,\n",
      "    \"recall_10\": 0.0006446760380640626,\n",
      "    \"recall_20\": 0.0025787041522562504,\n",
      "    \"recall_30\": 0.0034651337191462517,\n",
      "    \"recall_40\": 0.00457540899515152,\n",
      "    \"recall_5\": 0.00042978403507731855\n",
      "}\n",
      "model save as ./DNNTSP/save_model_folder/TaoBao/best_model.pkl\n",
      "cost 763 seconds\n"
     ]
    },
    {
     "name": "stderr",
     "output_type": "stream",
     "text": [
      "\u001b[32m[I 2023-04-30 08:36:52,325]\u001b[0m Trial 24 finished with value: 0.0003421563596930355 and parameters: {'item_embed_dim': 64, 'n_heads': 4, 'attention_aggregate': 'concat', 'batch_size': 16, 'learning_rate': 0.024817167441348806, 'weight_decay': 2.7865376507315793e-06}. Best is trial 14 with value: 0.001280828146263957.\u001b[0m\n"
     ]
    }
   ],
   "source": [
    "sampler = optuna.samplers.TPESampler(seed=seed)\n",
    "study = optuna.create_study(direction=\"maximize\", sampler=sampler)\n",
    "study.optimize(objective, n_trials=25)"
   ]
  },
  {
   "cell_type": "markdown",
   "metadata": {
    "id": "DCp-MseceNtS"
   },
   "source": [
    "Test:"
   ]
  },
  {
   "cell_type": "code",
   "execution_count": null,
   "metadata": {
    "id": "IGrMuBWtazNl"
   },
   "outputs": [],
   "source": [
    "seed = 10\n",
    "torch.manual_seed(seed)\n",
    "random.seed(seed)\n",
    "np.random.seed(seed)"
   ]
  },
  {
   "cell_type": "code",
   "execution_count": null,
   "metadata": {
    "colab": {
     "base_uri": "https://localhost:8080/"
    },
    "id": "dhXs-ZaoeRk6",
    "outputId": "143c1a0e-e0aa-4a16-ae06-02967d50288f"
   },
   "outputs": [
    {
     "name": "stdout",
     "output_type": "stream",
     "text": [
      "train data length -> 8156\n",
      "validate data length -> 9307\n",
      "temporal_set_prediction(\n",
      "  (item_embedding): Embedding(22286, 64)\n",
      "  (stacked_gcn): stacked_weighted_GCN_blocks(\n",
      "    (0): weighted_GCN(\n",
      "      (gcns): ModuleList(\n",
      "        (0-1): 2 x weighted_graph_conv(\n",
      "          (linear): Linear(in_features=64, out_features=64, bias=True)\n",
      "        )\n",
      "      )\n",
      "      (relus): ModuleList(\n",
      "        (0-1): 2 x ReLU()\n",
      "      )\n",
      "      (bns): ModuleList(\n",
      "        (0-1): 2 x BatchNorm1d(64, eps=1e-05, momentum=0.1, affine=True, track_running_stats=True)\n",
      "      )\n",
      "    )\n",
      "  )\n",
      "  (masked_self_attention): masked_self_attention(\n",
      "    (Wq): Linear(in_features=64, out_features=64, bias=False)\n",
      "    (Wk): Linear(in_features=64, out_features=64, bias=False)\n",
      "    (Wv): Linear(in_features=64, out_features=64, bias=False)\n",
      "  )\n",
      "  (aggregate_nodes_temporal_feature): aggregate_nodes_temporal_feature(\n",
      "    (Wq): Linear(in_features=64, out_features=1, bias=False)\n",
      "  )\n",
      "  (global_gated_update): global_gated_update(\n",
      "    (item_embedding): Embedding(22286, 64)\n",
      "  )\n",
      "  (fc_output): Linear(in_features=64, out_features=1, bias=True)\n",
      ")\n",
      "Adam (\n",
      "Parameter Group 0\n",
      "    amsgrad: False\n",
      "    betas: (0.9, 0.999)\n",
      "    capturable: False\n",
      "    differentiable: False\n",
      "    eps: 1e-08\n",
      "    foreach: None\n",
      "    fused: None\n",
      "    lr: 0.08539209757313265\n",
      "    maximize: False\n",
      "    weight_decay: 6.248944010898853e-06\n",
      ")\n"
     ]
    },
    {
     "name": "stderr",
     "output_type": "stream",
     "text": [
      "train epoch: 0, train loss: 0.025031978635153933: 100%|██████████| 255/255 [00:32<00:00,  7.96it/s]\n"
     ]
    },
    {
     "name": "stdout",
     "output_type": "stream",
     "text": [
      "train metric ...\n",
      "{\n",
      "    \"PHR_10\": 0.0024521824423737125,\n",
      "    \"PHR_20\": 0.0029426189308484553,\n",
      "    \"PHR_30\": 0.0038008827856792545,\n",
      "    \"PHR_40\": 0.005026974006866111,\n",
      "    \"PHR_5\": 0.002206964198136341,\n",
      "    \"ndcg_10\": 0.0017290064133703709,\n",
      "    \"ndcg_20\": 0.0018515691626816988,\n",
      "    \"ndcg_30\": 0.002030055271461606,\n",
      "    \"ndcg_40\": 0.002265209099277854,\n",
      "    \"ndcg_5\": 0.0016534184105694294,\n",
      "    \"precision_10\": 0.00024521828163415194,\n",
      "    \"precision_20\": 0.0001471309515181929,\n",
      "    \"precision_30\": 0.0001266961044166237,\n",
      "    \"precision_40\": 0.00012567434168886393,\n",
      "    \"precision_5\": 0.00044139285455457866,\n",
      "    \"recall_10\": 0.0023704429622739553,\n",
      "    \"recall_20\": 0.0028608792927116156,\n",
      "    \"recall_30\": 0.0037191431038081646,\n",
      "    \"recall_40\": 0.0049452343955636024,\n",
      "    \"recall_5\": 0.0021252245642244816\n",
      "}\n"
     ]
    },
    {
     "name": "stderr",
     "output_type": "stream",
     "text": [
      "validate epoch: 0, validate loss: 0.002960339082161739: 100%|██████████| 291/291 [00:23<00:00, 12.54it/s]\n"
     ]
    },
    {
     "name": "stdout",
     "output_type": "stream",
     "text": [
      "validate metric ...\n",
      "{\n",
      "    \"PHR_10\": 0.0008595680670463093,\n",
      "    \"PHR_20\": 0.0016116901257118299,\n",
      "    \"PHR_30\": 0.0023638121843773505,\n",
      "    \"PHR_40\": 0.0032233802514236598,\n",
      "    \"PHR_5\": 0.00021489201676157732,\n",
      "    \"ndcg_10\": 0.00031500819022767246,\n",
      "    \"ndcg_20\": 0.0004938733181916177,\n",
      "    \"ndcg_30\": 0.0006300004315562546,\n",
      "    \"ndcg_40\": 0.0007968450663611293,\n",
      "    \"ndcg_5\": 0.0001093566752388142,\n",
      "    \"precision_10\": 8.595681720180437e-05,\n",
      "    \"precision_20\": 8.058451203396544e-05,\n",
      "    \"precision_30\": 7.8793746070005e-05,\n",
      "    \"precision_40\": 8.058451203396544e-05,\n",
      "    \"precision_5\": 4.297840496292338e-05,\n",
      "    \"recall_10\": 0.0008595680701546371,\n",
      "    \"recall_20\": 0.0016116901533678174,\n",
      "    \"recall_30\": 0.00225636619143188,\n",
      "    \"recall_40\": 0.003115934319794178,\n",
      "    \"recall_5\": 0.00021489201753865927\n",
      "}\n",
      "model save as ./DNNTSP/save_model_folder/TaoBao/best_model.pkl\n"
     ]
    },
    {
     "name": "stderr",
     "output_type": "stream",
     "text": [
      "train epoch: 1, train loss: 0.002696430774442121: 100%|██████████| 255/255 [00:31<00:00,  8.09it/s]\n"
     ]
    },
    {
     "name": "stdout",
     "output_type": "stream",
     "text": [
      "train metric ...\n",
      "{\n",
      "    \"PHR_10\": 0.0003678273663560569,\n",
      "    \"PHR_20\": 0.0008582638548307994,\n",
      "    \"PHR_30\": 0.0011034820990681706,\n",
      "    \"PHR_40\": 0.0018391368317802845,\n",
      "    \"PHR_5\": 0.00012260912211868564,\n",
      "    \"ndcg_10\": 0.0001967299758689478,\n",
      "    \"ndcg_20\": 0.00031816461705602705,\n",
      "    \"ndcg_30\": 0.00036110731889493763,\n",
      "    \"ndcg_40\": 0.0005006721476092935,\n",
      "    \"ndcg_5\": 0.00012260912626516074,\n",
      "    \"precision_10\": 3.678273787954822e-05,\n",
      "    \"precision_20\": 4.291319419280626e-05,\n",
      "    \"precision_30\": 3.678273787954822e-05,\n",
      "    \"precision_40\": 4.5978420530445874e-05,\n",
      "    \"precision_5\": 2.4521825253032148e-05,\n",
      "    \"recall_10\": 0.000367827364243567,\n",
      "    \"recall_20\": 0.00085826386930421,\n",
      "    \"recall_30\": 0.0010421775514259934,\n",
      "    \"recall_40\": 0.0017778322799131274,\n",
      "    \"recall_5\": 0.00012260912626516074\n",
      "}\n"
     ]
    },
    {
     "name": "stderr",
     "output_type": "stream",
     "text": [
      "validate epoch: 1, validate loss: 0.002078982073288808: 100%|██████████| 291/291 [00:21<00:00, 13.60it/s]\n"
     ]
    },
    {
     "name": "stdout",
     "output_type": "stream",
     "text": [
      "validate metric ...\n",
      "{\n",
      "    \"PHR_10\": 0.0005372300419039433,\n",
      "    \"PHR_20\": 0.0011819060921886752,\n",
      "    \"PHR_30\": 0.002148920167615773,\n",
      "    \"PHR_40\": 0.0030084882346620824,\n",
      "    \"PHR_5\": 0.00010744600838078866,\n",
      "    \"ndcg_10\": 0.00023682390747126192,\n",
      "    \"ndcg_20\": 0.000371831760276109,\n",
      "    \"ndcg_30\": 0.0005577084957621992,\n",
      "    \"ndcg_40\": 0.0006997431628406048,\n",
      "    \"ndcg_5\": 0.00010744600876932964,\n",
      "    \"precision_10\": 5.372300438466482e-05,\n",
      "    \"precision_20\": 5.909530591452494e-05,\n",
      "    \"precision_30\": 7.163068221416324e-05,\n",
      "    \"precision_40\": 7.521220686612651e-05,\n",
      "    \"precision_5\": 2.148920248146169e-05,\n",
      "    \"recall_10\": 0.0005372300511226058,\n",
      "    \"recall_20\": 0.0010475985473021865,\n",
      "    \"recall_30\": 0.0019071666756644845,\n",
      "    \"recall_40\": 0.0026145195588469505,\n",
      "    \"recall_5\": 0.00010744600876932964\n",
      "}\n"
     ]
    },
    {
     "name": "stderr",
     "output_type": "stream",
     "text": [
      "train epoch: 2, train loss: 0.0017494009812271186: 100%|██████████| 255/255 [00:30<00:00,  8.26it/s]\n"
     ]
    },
    {
     "name": "stdout",
     "output_type": "stream",
     "text": [
      "train metric ...\n",
      "{\n",
      "    \"PHR_10\": 0.0008582638548307994,\n",
      "    \"PHR_20\": 0.0017165277096615988,\n",
      "    \"PHR_30\": 0.002206964198136341,\n",
      "    \"PHR_40\": 0.003310446297204512,\n",
      "    \"PHR_5\": 0.0007356547327121138,\n",
      "    \"ndcg_10\": 0.0005295258015394211,\n",
      "    \"ndcg_20\": 0.0007482930086553097,\n",
      "    \"ndcg_30\": 0.0008522915886715055,\n",
      "    \"ndcg_40\": 0.0010650517651811242,\n",
      "    \"ndcg_5\": 0.0004926167312078178,\n",
      "    \"precision_10\": 8.582638838561252e-05,\n",
      "    \"precision_20\": 8.58263811096549e-05,\n",
      "    \"precision_30\": 7.356547575909644e-05,\n",
      "    \"precision_40\": 8.276116568595171e-05,\n",
      "    \"precision_5\": 0.0001471309515181929,\n",
      "    \"recall_10\": 0.00085826386930421,\n",
      "    \"recall_20\": 0.00171652773860842,\n",
      "    \"recall_30\": 0.002206964185461402,\n",
      "    \"recall_40\": 0.0033104463946074247,\n",
      "    \"recall_5\": 0.000735654728487134\n",
      "}\n"
     ]
    },
    {
     "name": "stderr",
     "output_type": "stream",
     "text": [
      "validate epoch: 2, validate loss: 0.001730366021913198: 100%|██████████| 291/291 [00:22<00:00, 13.17it/s]\n"
     ]
    },
    {
     "name": "stdout",
     "output_type": "stream",
     "text": [
      "validate metric ...\n",
      "{\n",
      "    \"PHR_10\": 0.0007521220586655206,\n",
      "    \"PHR_20\": 0.0017191361340926185,\n",
      "    \"PHR_30\": 0.0026861502095197162,\n",
      "    \"PHR_40\": 0.0036531642849468144,\n",
      "    \"PHR_5\": 0.000322338025142366,\n",
      "    \"ndcg_10\": 0.0003602367069106549,\n",
      "    \"ndcg_20\": 0.0005809961585327983,\n",
      "    \"ndcg_30\": 0.0007825515931472182,\n",
      "    \"ndcg_40\": 0.0009690038859844208,\n",
      "    \"ndcg_5\": 0.00024302776728291065,\n",
      "    \"precision_10\": 7.521221414208412e-05,\n",
      "    \"precision_20\": 8.595680992584676e-05,\n",
      "    \"precision_30\": 8.953834185376763e-05,\n",
      "    \"precision_40\": 9.132910781772807e-05,\n",
      "    \"precision_5\": 6.446761108236387e-05,\n",
      "    \"recall_10\": 0.0006715375347994268,\n",
      "    \"recall_20\": 0.001531105604954064,\n",
      "    \"recall_30\": 0.002498119603842497,\n",
      "    \"recall_40\": 0.0034651337191462517,\n",
      "    \"recall_5\": 0.0003223380190320313\n",
      "}\n",
      "model save as ./DNNTSP/save_model_folder/TaoBao/best_model.pkl\n"
     ]
    },
    {
     "name": "stderr",
     "output_type": "stream",
     "text": [
      "train epoch: 3, train loss: 0.0014781455984156505: 100%|██████████| 255/255 [00:32<00:00,  7.90it/s]\n"
     ]
    },
    {
     "name": "stdout",
     "output_type": "stream",
     "text": [
      "train metric ...\n",
      "{\n",
      "    \"PHR_10\": 0.0008582638548307994,\n",
      "    \"PHR_20\": 0.001348700343305542,\n",
      "    \"PHR_30\": 0.0018391368317802845,\n",
      "    \"PHR_40\": 0.0020843550760176557,\n",
      "    \"PHR_5\": 0.0007356547327121138,\n",
      "    \"ndcg_10\": 0.0005312956054694951,\n",
      "    \"ndcg_20\": 0.0006588763208128512,\n",
      "    \"ndcg_30\": 0.0007640458061359823,\n",
      "    \"ndcg_40\": 0.0008102944120764732,\n",
      "    \"ndcg_5\": 0.0004926167312078178,\n",
      "    \"precision_10\": 8.58263811096549e-05,\n",
      "    \"precision_20\": 6.74350158078596e-05,\n",
      "    \"precision_30\": 6.130457040853798e-05,\n",
      "    \"precision_40\": 5.2108873205725104e-05,\n",
      "    \"precision_5\": 0.0001471309515181929,\n",
      "    \"recall_10\": 0.00085826386930421,\n",
      "    \"recall_20\": 0.001348700374364853,\n",
      "    \"recall_30\": 0.001839136821217835,\n",
      "    \"recall_40\": 0.002084355102851987,\n",
      "    \"recall_5\": 0.000735654728487134\n",
      "}\n"
     ]
    },
    {
     "name": "stderr",
     "output_type": "stream",
     "text": [
      "validate epoch: 3, validate loss: 0.0013753840558973374: 100%|██████████| 291/291 [00:21<00:00, 13.38it/s]\n"
     ]
    },
    {
     "name": "stdout",
     "output_type": "stream",
     "text": [
      "validate metric ...\n",
      "{\n",
      "    \"PHR_10\": 0.000644676050284732,\n",
      "    \"PHR_20\": 0.0013967981089502526,\n",
      "    \"PHR_30\": 0.0026861502095197162,\n",
      "    \"PHR_40\": 0.0032233802514236598,\n",
      "    \"PHR_5\": 0.0005372300419039433,\n",
      "    \"ndcg_10\": 0.00030478081316687167,\n",
      "    \"ndcg_20\": 0.0004879514453932643,\n",
      "    \"ndcg_30\": 0.0007452070130966604,\n",
      "    \"ndcg_40\": 0.0008365266839973629,\n",
      "    \"ndcg_5\": 0.00027243635850027204,\n",
      "    \"precision_10\": 6.446761108236387e-05,\n",
      "    \"precision_20\": 6.983990897424519e-05,\n",
      "    \"precision_30\": 8.953834185376763e-05,\n",
      "    \"precision_40\": 8.058451203396544e-05,\n",
      "    \"precision_5\": 0.00010744600876932964,\n",
      "    \"recall_10\": 0.0006446760380640626,\n",
      "    \"recall_20\": 0.001396798063069582,\n",
      "    \"recall_30\": 0.0025787041522562504,\n",
      "    \"recall_40\": 0.0030353497713804245,\n",
      "    \"recall_5\": 0.0005372300511226058\n",
      "}\n"
     ]
    },
    {
     "name": "stderr",
     "output_type": "stream",
     "text": [
      "train epoch: 4, train loss: 0.0012773478937828364: 100%|██████████| 255/255 [00:30<00:00,  8.25it/s]\n"
     ]
    },
    {
     "name": "stdout",
     "output_type": "stream",
     "text": [
      "train metric ...\n",
      "{\n",
      "    \"PHR_10\": 0.001348700343305542,\n",
      "    \"PHR_20\": 0.0014713094654242277,\n",
      "    \"PHR_30\": 0.0020843550760176557,\n",
      "    \"PHR_40\": 0.002697400686611084,\n",
      "    \"PHR_5\": 0.0012260912211868563,\n",
      "    \"ndcg_10\": 0.0009263331303372979,\n",
      "    \"ndcg_20\": 0.00095470214728266,\n",
      "    \"ndcg_30\": 0.0010851798579096794,\n",
      "    \"ndcg_40\": 0.0012032807571813464,\n",
      "    \"ndcg_5\": 0.0008894240600056946,\n",
      "    \"precision_10\": 0.0001348700316157192,\n",
      "    \"precision_20\": 7.356547575909644e-05,\n",
      "    \"precision_30\": 6.947850488359109e-05,\n",
      "    \"precision_40\": 6.743502308381721e-05,\n",
      "    \"precision_5\": 0.0002452182525303215,\n",
      "    \"recall_10\": 0.001348700374364853,\n",
      "    \"recall_20\": 0.001471309456974268,\n",
      "    \"recall_30\": 0.002084355102851987,\n",
      "    \"recall_40\": 0.002697400748729706,\n",
      "    \"recall_5\": 0.001226091175340116\n",
      "}\n"
     ]
    },
    {
     "name": "stderr",
     "output_type": "stream",
     "text": [
      "validate epoch: 4, validate loss: 0.0012143764727272069: 100%|██████████| 291/291 [00:21<00:00, 13.41it/s]\n"
     ]
    },
    {
     "name": "stdout",
     "output_type": "stream",
     "text": [
      "validate metric ...\n",
      "{\n",
      "    \"PHR_10\": 0.0013967981089502526,\n",
      "    \"PHR_20\": 0.0030084882346620824,\n",
      "    \"PHR_30\": 0.0038680563017083917,\n",
      "    \"PHR_40\": 0.004620178360373912,\n",
      "    \"PHR_5\": 0.0008595680670463093,\n",
      "    \"ndcg_10\": 0.0008314762962982059,\n",
      "    \"ndcg_20\": 0.001220837701112032,\n",
      "    \"ndcg_30\": 0.001368285738863051,\n",
      "    \"ndcg_40\": 0.001513432594947517,\n",
      "    \"ndcg_5\": 0.0006484973710030317,\n",
      "    \"precision_10\": 0.00013967981794849038,\n",
      "    \"precision_20\": 0.00015042441373225302,\n",
      "    \"precision_30\": 0.00012893522216472775,\n",
      "    \"precision_40\": 0.00011550446652108803,\n",
      "    \"precision_5\": 0.0001719136198516935,\n",
      "    \"recall_10\": 0.001396798063069582,\n",
      "    \"recall_20\": 0.003008488332852721,\n",
      "    \"recall_30\": 0.0036800256930291653,\n",
      "    \"recall_40\": 0.0044321478344500065,\n",
      "    \"recall_5\": 0.0008595680701546371\n",
      "}\n",
      "model save as ./DNNTSP/save_model_folder/TaoBao/best_model.pkl\n"
     ]
    },
    {
     "name": "stderr",
     "output_type": "stream",
     "text": [
      "train epoch: 5, train loss: 0.0011563689292718967: 100%|██████████| 255/255 [00:31<00:00,  8.16it/s]\n"
     ]
    },
    {
     "name": "stdout",
     "output_type": "stream",
     "text": [
      "train metric ...\n",
      "{\n",
      "    \"PHR_10\": 0.0008582638548307994,\n",
      "    \"PHR_20\": 0.0014713094654242277,\n",
      "    \"PHR_30\": 0.0020843550760176557,\n",
      "    \"PHR_40\": 0.0031878371750858263,\n",
      "    \"PHR_5\": 0.0006130456105934281,\n",
      "    \"ndcg_10\": 0.00043568338151089847,\n",
      "    \"ndcg_20\": 0.0005929935141466558,\n",
      "    \"ndcg_30\": 0.0007259230478666723,\n",
      "    \"ndcg_40\": 0.0009395529050379992,\n",
      "    \"ndcg_5\": 0.00035613481304608285,\n",
      "    \"precision_10\": 8.582638838561252e-05,\n",
      "    \"precision_20\": 7.356547575909644e-05,\n",
      "    \"precision_30\": 6.947850488359109e-05,\n",
      "    \"precision_40\": 7.969593571033329e-05,\n",
      "    \"precision_5\": 0.00012260912626516074,\n",
      "    \"recall_10\": 0.00085826386930421,\n",
      "    \"recall_20\": 0.001471309456974268,\n",
      "    \"recall_30\": 0.002084355102851987,\n",
      "    \"recall_40\": 0.003187837079167366,\n",
      "    \"recall_5\": 0.000613045587670058\n",
      "}\n"
     ]
    },
    {
     "name": "stderr",
     "output_type": "stream",
     "text": [
      "validate epoch: 5, validate loss: 0.0011027778604442312: 100%|██████████| 291/291 [00:22<00:00, 13.06it/s]\n"
     ]
    },
    {
     "name": "stdout",
     "output_type": "stream",
     "text": [
      "validate metric ...\n",
      "{\n",
      "    \"PHR_10\": 0.0013967981089502526,\n",
      "    \"PHR_20\": 0.0029010422262812936,\n",
      "    \"PHR_30\": 0.003438272268185237,\n",
      "    \"PHR_40\": 0.003760610293327603,\n",
      "    \"PHR_5\": 0.0009670140754270979,\n",
      "    \"ndcg_10\": 0.000751457700971514,\n",
      "    \"ndcg_20\": 0.001156720332801342,\n",
      "    \"ndcg_30\": 0.0012729380978271365,\n",
      "    \"ndcg_40\": 0.0013221650151535869,\n",
      "    \"ndcg_5\": 0.0006167926476337016,\n",
      "    \"precision_10\": 0.00013967981794849038,\n",
      "    \"precision_20\": 0.00014505209401249886,\n",
      "    \"precision_30\": 0.00011460907990112901,\n",
      "    \"precision_40\": 9.401526040164754e-05,\n",
      "    \"precision_5\": 0.00019340284052304924,\n",
      "    \"recall_10\": 0.001396798063069582,\n",
      "    \"recall_20\": 0.0029010421130806208,\n",
      "    \"recall_30\": 0.0034382722806185484,\n",
      "    \"recall_40\": 0.0036800256930291653,\n",
      "    \"recall_5\": 0.0009670140570960939\n",
      "}\n"
     ]
    },
    {
     "name": "stderr",
     "output_type": "stream",
     "text": [
      "train epoch: 6, train loss: 0.0010460680763821537: 100%|██████████| 255/255 [00:31<00:00,  8.11it/s]\n"
     ]
    },
    {
     "name": "stdout",
     "output_type": "stream",
     "text": [
      "train metric ...\n",
      "{\n",
      "    \"PHR_10\": 0.000980872976949485,\n",
      "    \"PHR_20\": 0.0017165277096615988,\n",
      "    \"PHR_30\": 0.002574791564492398,\n",
      "    \"PHR_40\": 0.003310446297204512,\n",
      "    \"PHR_5\": 0.0002452182442373713,\n",
      "    \"ndcg_10\": 0.00040782184805721045,\n",
      "    \"ndcg_20\": 0.0005792485899291933,\n",
      "    \"ndcg_30\": 0.0007564161205664277,\n",
      "    \"ndcg_40\": 0.0009006423642858863,\n",
      "    \"ndcg_5\": 0.00017004080291371793,\n",
      "    \"precision_10\": 9.808730101212859e-05,\n",
      "    \"precision_20\": 8.582639566157013e-05,\n",
      "    \"precision_30\": 8.582638838561252e-05,\n",
      "    \"precision_40\": 8.27611584099941e-05,\n",
      "    \"precision_5\": 4.9043650506064296e-05,\n",
      "    \"recall_10\": 0.000980873010121286,\n",
      "    \"recall_20\": 0.00171652773860842,\n",
      "    \"recall_30\": 0.0025747916661202908,\n",
      "    \"recall_40\": 0.0033104463946074247,\n",
      "    \"recall_5\": 0.0002452182525303215\n",
      "}\n"
     ]
    },
    {
     "name": "stderr",
     "output_type": "stream",
     "text": [
      "validate epoch: 6, validate loss: 0.0009796803157466154: 100%|██████████| 291/291 [00:21<00:00, 13.41it/s]\n"
     ]
    },
    {
     "name": "stdout",
     "output_type": "stream",
     "text": [
      "validate metric ...\n",
      "{\n",
      "    \"PHR_10\": 0.0015042441173310412,\n",
      "    \"PHR_20\": 0.0020414741592349843,\n",
      "    \"PHR_30\": 0.0026861502095197162,\n",
      "    \"PHR_40\": 0.0035457182765660255,\n",
      "    \"PHR_5\": 0.0013967981089502526,\n",
      "    \"ndcg_10\": 0.0012549342354759574,\n",
      "    \"ndcg_20\": 0.0013851062394678593,\n",
      "    \"ndcg_30\": 0.001524103106930852,\n",
      "    \"ndcg_40\": 0.0016861335607245564,\n",
      "    \"ndcg_5\": 0.0012166611850261688,\n",
      "    \"precision_10\": 0.00015042442828416824,\n",
      "    \"precision_20\": 0.00010207371087744832,\n",
      "    \"precision_30\": 8.953834912972525e-05,\n",
      "    \"precision_40\": 8.864295523380861e-05,\n",
      "    \"precision_5\": 0.00027935963589698076,\n",
      "    \"recall_10\": 0.0015042441664263606,\n",
      "    \"recall_20\": 0.0020414742175489664,\n",
      "    \"recall_30\": 0.002686150139197707,\n",
      "    \"recall_40\": 0.003545718267560005,\n",
      "    \"recall_5\": 0.001396798063069582\n",
      "}\n",
      "model save as ./DNNTSP/save_model_folder/TaoBao/best_model.pkl\n"
     ]
    },
    {
     "name": "stderr",
     "output_type": "stream",
     "text": [
      "train epoch: 7, train loss: 0.0009054867406923543: 100%|██████████| 255/255 [00:31<00:00,  8.18it/s]\n"
     ]
    },
    {
     "name": "stdout",
     "output_type": "stream",
     "text": [
      "train metric ...\n",
      "{\n",
      "    \"PHR_10\": 0.0003678273663560569,\n",
      "    \"PHR_20\": 0.001348700343305542,\n",
      "    \"PHR_30\": 0.0024521824423737125,\n",
      "    \"PHR_40\": 0.003065228052967141,\n",
      "    \"PHR_5\": 0.00012260912211868564,\n",
      "    \"ndcg_10\": 0.00015794103092048317,\n",
      "    \"ndcg_20\": 0.00040713330963626504,\n",
      "    \"ndcg_30\": 0.0006307910662144423,\n",
      "    \"ndcg_40\": 0.0007477200706489384,\n",
      "    \"ndcg_5\": 7.735774852335453e-05,\n",
      "    \"precision_10\": 3.678273787954822e-05,\n",
      "    \"precision_20\": 6.74350158078596e-05,\n",
      "    \"precision_30\": 8.173941751010716e-05,\n",
      "    \"precision_40\": 7.663070573471487e-05,\n",
      "    \"precision_5\": 2.4521825253032148e-05,\n",
      "    \"recall_10\": 0.000367827364243567,\n",
      "    \"recall_20\": 0.001348700374364853,\n",
      "    \"recall_30\": 0.0023704429622739553,\n",
      "    \"recall_40\": 0.0029834886081516743,\n",
      "    \"recall_5\": 0.00012260912626516074\n",
      "}\n"
     ]
    },
    {
     "name": "stderr",
     "output_type": "stream",
     "text": [
      "validate epoch: 7, validate loss: 0.0008373544741457142: 100%|██████████| 291/291 [00:22<00:00, 13.02it/s]\n"
     ]
    },
    {
     "name": "stdout",
     "output_type": "stream",
     "text": [
      "validate metric ...\n",
      "{\n",
      "    \"PHR_10\": 0.0017191361340926185,\n",
      "    \"PHR_20\": 0.002578704201138928,\n",
      "    \"PHR_30\": 0.0029010422262812936,\n",
      "    \"PHR_40\": 0.0035457182765660255,\n",
      "    \"PHR_5\": 0.0011819060921886752,\n",
      "    \"ndcg_10\": 0.0012136995792388916,\n",
      "    \"ndcg_20\": 0.0014258876908570528,\n",
      "    \"ndcg_30\": 0.0014938876265659928,\n",
      "    \"ndcg_40\": 0.0016177736688405275,\n",
      "    \"ndcg_5\": 0.001040392555296421,\n",
      "    \"precision_10\": 0.00017191363440360874,\n",
      "    \"precision_20\": 0.00012893522216472775,\n",
      "    \"precision_30\": 9.6701412985567e-05,\n",
      "    \"precision_40\": 8.864295523380861e-05,\n",
      "    \"precision_5\": 0.00023638122365809977,\n",
      "    \"recall_10\": 0.0016475054435431957,\n",
      "    \"recall_20\": 0.0025070735719054937,\n",
      "    \"recall_30\": 0.002829411532729864,\n",
      "    \"recall_40\": 0.003474087454378605,\n",
      "    \"recall_5\": 0.00111027539242059\n",
      "}\n"
     ]
    },
    {
     "name": "stderr",
     "output_type": "stream",
     "text": [
      "train epoch: 8, train loss: 0.0007702045526136371: 100%|██████████| 255/255 [00:31<00:00,  8.12it/s]\n"
     ]
    },
    {
     "name": "stdout",
     "output_type": "stream",
     "text": [
      "train metric ...\n",
      "{\n",
      "    \"PHR_10\": 0.0012260912211868563,\n",
      "    \"PHR_20\": 0.002206964198136341,\n",
      "    \"PHR_30\": 0.002697400686611084,\n",
      "    \"PHR_40\": 0.0038008827856792545,\n",
      "    \"PHR_5\": 0.0007356547327121138,\n",
      "    \"ndcg_10\": 0.0006258016801439226,\n",
      "    \"ndcg_20\": 0.0008621394517831504,\n",
      "    \"ndcg_30\": 0.0009666284313425422,\n",
      "    \"ndcg_40\": 0.001181300962343812,\n",
      "    \"ndcg_5\": 0.00047024423838593066,\n",
      "    \"precision_10\": 0.00012260912626516074,\n",
      "    \"precision_20\": 0.00011034820636268705,\n",
      "    \"precision_30\": 8.991335926111788e-05,\n",
      "    \"precision_40\": 9.502206376055256e-05,\n",
      "    \"precision_5\": 0.0001471309515181929,\n",
      "    \"recall_10\": 0.001226091175340116,\n",
      "    \"recall_20\": 0.0021456596441566944,\n",
      "    \"recall_30\": 0.0026360962074249983,\n",
      "    \"recall_40\": 0.0037395781837403774,\n",
      "    \"recall_5\": 0.000735654728487134\n",
      "}\n"
     ]
    },
    {
     "name": "stderr",
     "output_type": "stream",
     "text": [
      "validate epoch: 8, validate loss: 0.0007126854470198097: 100%|██████████| 291/291 [00:21<00:00, 13.41it/s]\n"
     ]
    },
    {
     "name": "stdout",
     "output_type": "stream",
     "text": [
      "validate metric ...\n",
      "{\n",
      "    \"PHR_10\": 0.0015042441173310412,\n",
      "    \"PHR_20\": 0.0020414741592349843,\n",
      "    \"PHR_30\": 0.002578704201138928,\n",
      "    \"PHR_40\": 0.003115934243042871,\n",
      "    \"PHR_5\": 0.001289352100569464,\n",
      "    \"ndcg_10\": 0.0006440491997636855,\n",
      "    \"ndcg_20\": 0.0007708611665293574,\n",
      "    \"ndcg_30\": 0.0008865427225828171,\n",
      "    \"ndcg_40\": 0.0009883318562060595,\n",
      "    \"ndcg_5\": 0.0005743384244851768,\n",
      "    \"precision_10\": 0.00015042442828416824,\n",
      "    \"precision_20\": 0.00010207371087744832,\n",
      "    \"precision_30\": 8.595681720180437e-05,\n",
      "    \"precision_40\": 7.789836672600359e-05,\n",
      "    \"precision_5\": 0.0002578704443294555,\n",
      "    \"recall_10\": 0.0014326133532449603,\n",
      "    \"recall_20\": 0.0019698436371982098,\n",
      "    \"recall_30\": 0.0025070735719054937,\n",
      "    \"recall_40\": 0.0030443037394434214,\n",
      "    \"recall_5\": 0.0012177213793620467\n",
      "}\n"
     ]
    },
    {
     "name": "stderr",
     "output_type": "stream",
     "text": [
      "train epoch: 9, train loss: 0.0006690449439737873: 100%|██████████| 255/255 [00:32<00:00,  7.90it/s]\n"
     ]
    },
    {
     "name": "stdout",
     "output_type": "stream",
     "text": [
      "train metric ...\n",
      "{\n",
      "    \"PHR_10\": 0.000980872976949485,\n",
      "    \"PHR_20\": 0.00196174595389897,\n",
      "    \"PHR_30\": 0.0024521824423737125,\n",
      "    \"PHR_40\": 0.0034330554193231977,\n",
      "    \"PHR_5\": 0.0008582638548307994,\n",
      "    \"ndcg_10\": 0.0006805939483456314,\n",
      "    \"ndcg_20\": 0.0009164331131614745,\n",
      "    \"ndcg_30\": 0.0010196303483098745,\n",
      "    \"ndcg_40\": 0.0012009174097329378,\n",
      "    \"ndcg_5\": 0.0006451519438996911,\n",
      "    \"precision_10\": 9.80873082880862e-05,\n",
      "    \"precision_20\": 9.80873082880862e-05,\n",
      "    \"precision_30\": 8.173941751010716e-05,\n",
      "    \"precision_40\": 8.582638838561252e-05,\n",
      "    \"precision_5\": 0.00017165277677122504,\n",
      "    \"recall_10\": 0.000980873010121286,\n",
      "    \"recall_20\": 0.0019004413625225425,\n",
      "    \"recall_30\": 0.0023908778093755245,\n",
      "    \"recall_40\": 0.0033104463946074247,\n",
      "    \"recall_5\": 0.00085826386930421\n",
      "}\n"
     ]
    },
    {
     "name": "stderr",
     "output_type": "stream",
     "text": [
      "validate epoch: 9, validate loss: 0.00063513676696729: 100%|██████████| 291/291 [00:22<00:00, 12.86it/s]\n"
     ]
    },
    {
     "name": "stdout",
     "output_type": "stream",
     "text": [
      "validate metric ...\n",
      "{\n",
      "    \"PHR_10\": 0.0017191361340926185,\n",
      "    \"PHR_20\": 0.0018265821424734072,\n",
      "    \"PHR_30\": 0.0026861502095197162,\n",
      "    \"PHR_40\": 0.003438272268185237,\n",
      "    \"PHR_5\": 0.00042978403352315463,\n",
      "    \"ndcg_10\": 0.0006244528922252357,\n",
      "    \"ndcg_20\": 0.0006534888525493443,\n",
      "    \"ndcg_30\": 0.0008280655601993203,\n",
      "    \"ndcg_40\": 0.0009728972800076008,\n",
      "    \"ndcg_5\": 0.00018553331028670073,\n",
      "    \"precision_10\": 0.00017191363440360874,\n",
      "    \"precision_20\": 9.132910781772807e-05,\n",
      "    \"precision_30\": 8.953834912972525e-05,\n",
      "    \"precision_40\": 8.595680992584676e-05,\n",
      "    \"precision_5\": 8.595680992584676e-05,\n",
      "    \"recall_10\": 0.0016475054435431957,\n",
      "    \"recall_20\": 0.0017549515468999743,\n",
      "    \"recall_30\": 0.002560796681791544,\n",
      "    \"recall_40\": 0.0033129185903817415,\n",
      "    \"recall_5\": 0.0003581533383112401\n",
      "}\n"
     ]
    },
    {
     "name": "stderr",
     "output_type": "stream",
     "text": [
      "train epoch: 10, train loss: 0.0006116211886846405: 100%|██████████| 255/255 [00:31<00:00,  8.01it/s]\n"
     ]
    },
    {
     "name": "stdout",
     "output_type": "stream",
     "text": [
      "train metric ...\n",
      "{\n",
      "    \"PHR_10\": 0.000980872976949485,\n",
      "    \"PHR_20\": 0.0017165277096615988,\n",
      "    \"PHR_30\": 0.0024521824423737125,\n",
      "    \"PHR_40\": 0.003310446297204512,\n",
      "    \"PHR_5\": 0.0008582638548307994,\n",
      "    \"ndcg_10\": 0.0006820610142312944,\n",
      "    \"ndcg_20\": 0.0008623972535133362,\n",
      "    \"ndcg_30\": 0.0010185453575104475,\n",
      "    \"ndcg_40\": 0.0011744719231501222,\n",
      "    \"ndcg_5\": 0.0006451519438996911,\n",
      "    \"precision_10\": 9.80873082880862e-05,\n",
      "    \"precision_20\": 8.582638838561252e-05,\n",
      "    \"precision_30\": 8.173941751010716e-05,\n",
      "    \"precision_40\": 8.276116568595171e-05,\n",
      "    \"precision_5\": 0.00017165277677122504,\n",
      "    \"recall_10\": 0.000980873010121286,\n",
      "    \"recall_20\": 0.0016552231973037124,\n",
      "    \"recall_30\": 0.0023908778093755245,\n",
      "    \"recall_40\": 0.003187837079167366,\n",
      "    \"recall_5\": 0.00085826386930421\n",
      "}\n"
     ]
    },
    {
     "name": "stderr",
     "output_type": "stream",
     "text": [
      "validate epoch: 10, validate loss: 0.0005934279991307415: 100%|██████████| 291/291 [00:21<00:00, 13.46it/s]\n"
     ]
    },
    {
     "name": "stdout",
     "output_type": "stream",
     "text": [
      "validate metric ...\n",
      "{\n",
      "    \"PHR_10\": 0.0015042441173310412,\n",
      "    \"PHR_20\": 0.0019340281508541959,\n",
      "    \"PHR_30\": 0.0023638121843773505,\n",
      "    \"PHR_40\": 0.0036531642849468144,\n",
      "    \"PHR_5\": 0.00042978403352315463,\n",
      "    \"ndcg_10\": 0.0005402157548815012,\n",
      "    \"ndcg_20\": 0.0006496770074591041,\n",
      "    \"ndcg_30\": 0.0007397818844765425,\n",
      "    \"ndcg_40\": 0.0009823011932894588,\n",
      "    \"ndcg_5\": 0.00018553331028670073,\n",
      "    \"precision_10\": 0.00015042442828416824,\n",
      "    \"precision_20\": 9.670142026152462e-05,\n",
      "    \"precision_30\": 7.8793746070005e-05,\n",
      "    \"precision_40\": 9.132910781772807e-05,\n",
      "    \"precision_5\": 8.595680992584676e-05,\n",
      "    \"recall_10\": 0.0014326133532449603,\n",
      "    \"recall_20\": 0.0018623975338414311,\n",
      "    \"recall_30\": 0.00229218159802258,\n",
      "    \"recall_40\": 0.003527810564264655,\n",
      "    \"recall_5\": 0.0003581533383112401\n",
      "}\n"
     ]
    },
    {
     "name": "stderr",
     "output_type": "stream",
     "text": [
      "train epoch: 11, train loss: 0.0005797749656873445: 100%|██████████| 255/255 [00:31<00:00,  8.21it/s]\n"
     ]
    },
    {
     "name": "stdout",
     "output_type": "stream",
     "text": [
      "train metric ...\n",
      "{\n",
      "    \"PHR_10\": 0.0008582638548307994,\n",
      "    \"PHR_20\": 0.0018391368317802845,\n",
      "    \"PHR_30\": 0.002206964198136341,\n",
      "    \"PHR_40\": 0.0028200098087297694,\n",
      "    \"PHR_5\": 0.0008582638548307994,\n",
      "    \"ndcg_10\": 0.0006366522866301239,\n",
      "    \"ndcg_20\": 0.0008682103361934423,\n",
      "    \"ndcg_30\": 0.0009437919943593442,\n",
      "    \"ndcg_40\": 0.0010623186826705933,\n",
      "    \"ndcg_5\": 0.0006366522866301239,\n",
      "    \"precision_10\": 8.582638838561252e-05,\n",
      "    \"precision_20\": 9.195684106089175e-05,\n",
      "    \"precision_30\": 7.356547575909644e-05,\n",
      "    \"precision_40\": 7.050024578347802e-05,\n",
      "    \"precision_5\": 0.00017165277677122504,\n",
      "    \"recall_10\": 0.00085826386930421,\n",
      "    \"recall_20\": 0.0017778322799131274,\n",
      "    \"recall_30\": 0.0021456596441566944,\n",
      "    \"recall_40\": 0.0027587052900344133,\n",
      "    \"recall_5\": 0.00085826386930421\n",
      "}\n"
     ]
    },
    {
     "name": "stderr",
     "output_type": "stream",
     "text": [
      "validate epoch: 11, validate loss: 0.0005694562913305878: 100%|██████████| 291/291 [00:24<00:00, 12.08it/s]\n"
     ]
    },
    {
     "name": "stdout",
     "output_type": "stream",
     "text": [
      "validate metric ...\n",
      "{\n",
      "    \"PHR_10\": 0.0015042441173310412,\n",
      "    \"PHR_20\": 0.0020414741592349843,\n",
      "    \"PHR_30\": 0.0026861502095197162,\n",
      "    \"PHR_40\": 0.0029010422262812936,\n",
      "    \"PHR_5\": 0.00042978403352315463,\n",
      "    \"ndcg_10\": 0.0005623351316899061,\n",
      "    \"ndcg_20\": 0.0006923784385435283,\n",
      "    \"ndcg_30\": 0.0008284286595880985,\n",
      "    \"ndcg_40\": 0.00087140710093081,\n",
      "    \"ndcg_5\": 0.00018553331028670073,\n",
      "    \"precision_10\": 0.00015042442828416824,\n",
      "    \"precision_20\": 0.00010207371087744832,\n",
      "    \"precision_30\": 8.953834185376763e-05,\n",
      "    \"precision_40\": 7.252605428220704e-05,\n",
      "    \"precision_5\": 8.595680992584676e-05,\n",
      "    \"recall_10\": 0.0014326133532449603,\n",
      "    \"recall_20\": 0.0019698436371982098,\n",
      "    \"recall_30\": 0.0026145195588469505,\n",
      "    \"recall_40\": 0.002829411532729864,\n",
      "    \"recall_5\": 0.0003581533383112401\n",
      "}\n"
     ]
    },
    {
     "name": "stderr",
     "output_type": "stream",
     "text": [
      "train epoch: 12, train loss: 0.0005609196932602892: 100%|██████████| 255/255 [00:31<00:00,  8.06it/s]\n"
     ]
    },
    {
     "name": "stdout",
     "output_type": "stream",
     "text": [
      "train metric ...\n",
      "{\n",
      "    \"PHR_10\": 0.0007356547327121138,\n",
      "    \"PHR_20\": 0.0011034820990681706,\n",
      "    \"PHR_30\": 0.002206964198136341,\n",
      "    \"PHR_40\": 0.003065228052967141,\n",
      "    \"PHR_5\": 0.0007356547327121138,\n",
      "    \"ndcg_10\": 0.0005838474025949836,\n",
      "    \"ndcg_20\": 0.0006789061590097845,\n",
      "    \"ndcg_30\": 0.0009011103538796306,\n",
      "    \"ndcg_40\": 0.0010657900711521506,\n",
      "    \"ndcg_5\": 0.0005838474025949836,\n",
      "    \"precision_10\": 7.356547575909644e-05,\n",
      "    \"precision_20\": 5.517410681932233e-05,\n",
      "    \"precision_30\": 7.356547575909644e-05,\n",
      "    \"precision_40\": 7.663069845875725e-05,\n",
      "    \"precision_5\": 0.0001471309515181929,\n",
      "    \"recall_10\": 0.000735654728487134,\n",
      "    \"recall_20\": 0.001103482092730701,\n",
      "    \"recall_30\": 0.0021456596441566944,\n",
      "    \"recall_40\": 0.0030039234552532434,\n",
      "    \"recall_5\": 0.000735654728487134\n",
      "}\n"
     ]
    },
    {
     "name": "stderr",
     "output_type": "stream",
     "text": [
      "validate epoch: 12, validate loss: 0.0005548705668524676: 100%|██████████| 291/291 [00:21<00:00, 13.55it/s]\n"
     ]
    },
    {
     "name": "stdout",
     "output_type": "stream",
     "text": [
      "validate metric ...\n",
      "{\n",
      "    \"PHR_10\": 0.0016116901257118299,\n",
      "    \"PHR_20\": 0.002148920167615773,\n",
      "    \"PHR_30\": 0.0029010422262812936,\n",
      "    \"PHR_40\": 0.0036531642849468144,\n",
      "    \"PHR_5\": 0.001289352100569464,\n",
      "    \"ndcg_10\": 0.0007240241975523531,\n",
      "    \"ndcg_20\": 0.0008510032785125077,\n",
      "    \"ndcg_30\": 0.0010096186306327581,\n",
      "    \"ndcg_40\": 0.0011522514978423715,\n",
      "    \"ndcg_5\": 0.0006207968690432608,\n",
      "    \"precision_10\": 0.0001611690386198461,\n",
      "    \"precision_20\": 0.00010744600876932964,\n",
      "    \"precision_30\": 9.6701412985567e-05,\n",
      "    \"precision_40\": 9.132911509368569e-05,\n",
      "    \"precision_5\": 0.0002578704443294555,\n",
      "    \"recall_10\": 0.001540059456601739,\n",
      "    \"recall_20\": 0.0020772896241396666,\n",
      "    \"recall_30\": 0.002829411532729864,\n",
      "    \"recall_40\": 0.0035815334413200617,\n",
      "    \"recall_5\": 0.0012177213793620467\n",
      "}\n"
     ]
    },
    {
     "name": "stderr",
     "output_type": "stream",
     "text": [
      "train epoch: 13, train loss: 0.000549248693392192: 100%|██████████| 255/255 [00:31<00:00,  8.17it/s]\n"
     ]
    },
    {
     "name": "stdout",
     "output_type": "stream",
     "text": [
      "train metric ...\n",
      "{\n",
      "    \"PHR_10\": 0.0007356547327121138,\n",
      "    \"PHR_20\": 0.0014713094654242277,\n",
      "    \"PHR_30\": 0.002206964198136341,\n",
      "    \"PHR_40\": 0.003065228052967141,\n",
      "    \"PHR_5\": 0.0006130456105934281,\n",
      "    \"ndcg_10\": 0.0005886501166969538,\n",
      "    \"ndcg_20\": 0.0007683096919208765,\n",
      "    \"ndcg_30\": 0.0009224960813298821,\n",
      "    \"ndcg_40\": 0.0010789766674861312,\n",
      "    \"ndcg_5\": 0.0005517410463653505,\n",
      "    \"precision_10\": 7.356547575909644e-05,\n",
      "    \"precision_20\": 7.356547575909644e-05,\n",
      "    \"precision_30\": 7.356547575909644e-05,\n",
      "    \"precision_40\": 7.663070573471487e-05,\n",
      "    \"precision_5\": 0.00012260912626516074,\n",
      "    \"recall_10\": 0.000735654728487134,\n",
      "    \"recall_20\": 0.001471309456974268,\n",
      "    \"recall_30\": 0.002206964185461402,\n",
      "    \"recall_40\": 0.0030039234552532434,\n",
      "    \"recall_5\": 0.000613045587670058\n",
      "}\n"
     ]
    },
    {
     "name": "stderr",
     "output_type": "stream",
     "text": [
      "validate epoch: 13, validate loss: 0.00054569842107434: 100%|██████████| 291/291 [00:22<00:00, 13.04it/s]\n"
     ]
    },
    {
     "name": "stdout",
     "output_type": "stream",
     "text": [
      "validate metric ...\n",
      "{\n",
      "    \"PHR_10\": 0.0017191361340926185,\n",
      "    \"PHR_20\": 0.0022563661759965616,\n",
      "    \"PHR_30\": 0.0026861502095197162,\n",
      "    \"PHR_40\": 0.003760610293327603,\n",
      "    \"PHR_5\": 0.001289352100569464,\n",
      "    \"ndcg_10\": 0.000735209439881146,\n",
      "    \"ndcg_20\": 0.0008713812567293644,\n",
      "    \"ndcg_30\": 0.0009609571425244212,\n",
      "    \"ndcg_40\": 0.0011685675708577037,\n",
      "    \"ndcg_5\": 0.0006024742615409195,\n",
      "    \"precision_10\": 0.00017191363440360874,\n",
      "    \"precision_20\": 0.00011281830666121095,\n",
      "    \"precision_30\": 8.953834912972525e-05,\n",
      "    \"precision_40\": 9.401526040164754e-05,\n",
      "    \"precision_5\": 0.0002578704443294555,\n",
      "    \"recall_10\": 0.0016475054435431957,\n",
      "    \"recall_20\": 0.0021847356110811234,\n",
      "    \"recall_30\": 0.0026145195588469505,\n",
      "    \"recall_40\": 0.0036889794282615185,\n",
      "    \"recall_5\": 0.0012177213793620467\n",
      "}\n"
     ]
    },
    {
     "name": "stderr",
     "output_type": "stream",
     "text": [
      "train epoch: 14, train loss: 0.0005418447999046275: 100%|██████████| 255/255 [00:32<00:00,  7.81it/s]\n"
     ]
    },
    {
     "name": "stdout",
     "output_type": "stream",
     "text": [
      "train metric ...\n",
      "{\n",
      "    \"PHR_10\": 0.0007356547327121138,\n",
      "    \"PHR_20\": 0.0015939185875429131,\n",
      "    \"PHR_30\": 0.002329573320255027,\n",
      "    \"PHR_40\": 0.003065228052967141,\n",
      "    \"PHR_5\": 0.0006130456105934281,\n",
      "    \"ndcg_10\": 0.0005313061992637813,\n",
      "    \"ndcg_20\": 0.0007382871117442846,\n",
      "    \"ndcg_30\": 0.0008923308341763914,\n",
      "    \"ndcg_40\": 0.0010365336202085018,\n",
      "    \"ndcg_5\": 0.000490436505060643,\n",
      "    \"precision_10\": 7.356547575909644e-05,\n",
      "    \"precision_20\": 7.969593571033329e-05,\n",
      "    \"precision_30\": 7.765245391055942e-05,\n",
      "    \"precision_40\": 7.663069845875725e-05,\n",
      "    \"precision_5\": 0.00012260912626516074,\n",
      "    \"recall_10\": 0.000735654728487134,\n",
      "    \"recall_20\": 0.001593918539583683,\n",
      "    \"recall_30\": 0.002329573268070817,\n",
      "    \"recall_40\": 0.003065227996557951,\n",
      "    \"recall_5\": 0.000613045587670058\n",
      "}\n"
     ]
    },
    {
     "name": "stderr",
     "output_type": "stream",
     "text": [
      "validate epoch: 14, validate loss: 0.0005398379255540643: 100%|██████████| 291/291 [00:22<00:00, 13.08it/s]\n"
     ]
    },
    {
     "name": "stdout",
     "output_type": "stream",
     "text": [
      "validate metric ...\n",
      "{\n",
      "    \"PHR_10\": 0.0018265821424734072,\n",
      "    \"PHR_20\": 0.002148920167615773,\n",
      "    \"PHR_30\": 0.0026861502095197162,\n",
      "    \"PHR_40\": 0.0035457182765660255,\n",
      "    \"PHR_5\": 0.0013967981089502526,\n",
      "    \"ndcg_10\": 0.0007736832485534251,\n",
      "    \"ndcg_20\": 0.0008601922891102731,\n",
      "    \"ndcg_30\": 0.0009743911796249449,\n",
      "    \"ndcg_40\": 0.0011386722326278687,\n",
      "    \"ndcg_5\": 0.0006440400029532611,\n",
      "    \"precision_10\": 0.00018265821563545614,\n",
      "    \"precision_20\": 0.00010744600876932964,\n",
      "    \"precision_30\": 8.953834185376763e-05,\n",
      "    \"precision_40\": 8.864296250976622e-05,\n",
      "    \"precision_5\": 0.00027935963589698076,\n",
      "    \"recall_10\": 0.0017549515468999743,\n",
      "    \"recall_20\": 0.0020772896241396666,\n",
      "    \"recall_30\": 0.0026145195588469505,\n",
      "    \"recall_40\": 0.003474087454378605,\n",
      "    \"recall_5\": 0.0013251673663035035\n",
      "}\n",
      "cost 2321 seconds\n"
     ]
    },
    {
     "data": {
      "text/plain": [
       "0.0012549342354759574"
      ]
     },
     "execution_count": 13,
     "metadata": {},
     "output_type": "execute_result"
    }
   ],
   "source": [
    "params = {\n",
    "    \"data\": \"TaoBao\",\n",
    "    \"save_model_folder\": \"DNNTSP\",\n",
    "    \"item_embed_dim\": study.best_params[\"item_embed_dim\"],\n",
    "    \"n_heads\": study.best_params[\"n_heads\"],\n",
    "    \"attention_aggregate\": study.best_params[\"attention_aggregate\"],\n",
    "    \"cuda\": 0,\n",
    "    \"loss_function\": \"multi_label_soft_loss\",\n",
    "    \"epochs\": 15,\n",
    "    \"batch_size\": study.best_params[\"batch_size\"],\n",
    "    \"learning_rate\": study.best_params[\"learning_rate\"],\n",
    "    \"optim\": \"Adam\",\n",
    "    \"weight_decay\": study.best_params[\"weight_decay\"]\n",
    "}\n",
    "\n",
    "DNNTSP.utils.load_config.CONFIG = params\n",
    "train()"
   ]
  },
  {
   "cell_type": "code",
   "execution_count": null,
   "metadata": {
    "colab": {
     "base_uri": "https://localhost:8080/"
    },
    "id": "HAGo3sPfeUXY",
    "outputId": "49e7ca9e-dd2c-42d5-ddd9-971ad57f81d4"
   },
   "outputs": [
    {
     "name": "stdout",
     "output_type": "stream",
     "text": [
      "test data length -> 10092\n"
     ]
    },
    {
     "name": "stderr",
     "output_type": "stream",
     "text": [
      "100%|██████████| 316/316 [00:22<00:00, 13.75it/s]\n"
     ]
    },
    {
     "name": "stdout",
     "output_type": "stream",
     "text": [
      "{\n",
      "    \"PHR_10\": 0.0015854141894569957,\n",
      "    \"PHR_20\": 0.002179944510503369,\n",
      "    \"PHR_30\": 0.003071739992072929,\n",
      "    \"PHR_40\": 0.003468093539437178,\n",
      "    \"PHR_5\": 0.0013872374157748713,\n",
      "    \"ndcg_10\": 0.001182558131404221,\n",
      "    \"ndcg_20\": 0.0013304755557328463,\n",
      "    \"ndcg_30\": 0.001506388420239091,\n",
      "    \"ndcg_40\": 0.001581512507982552,\n",
      "    \"ndcg_5\": 0.0011182697489857674,\n",
      "    \"precision_10\": 0.00015854142839089036,\n",
      "    \"precision_20\": 0.00010899722838075832,\n",
      "    \"precision_30\": 0.00010239135008305311,\n",
      "    \"precision_40\": 8.670234092278406e-05,\n",
      "    \"precision_5\": 0.00027744751423597336,\n",
      "    \"recall_10\": 0.0015854141674935818,\n",
      "    \"recall_20\": 0.002179944422096014,\n",
      "    \"recall_30\": 0.002972651505842805,\n",
      "    \"recall_40\": 0.003369005164131522,\n",
      "    \"recall_5\": 0.001387237454764545\n",
      "}\n"
     ]
    }
   ],
   "source": [
    "model_path = f\"./DNNTSP/save_model_folder/{get_attribute('data')}/best_model.pkl\"\n",
    "\n",
    "model = create_model()\n",
    "model = load_model(model, model_path)\n",
    "model = convert_to_gpu(model)\n",
    "\n",
    "test_data_loader = get_data_loader(data_path=get_attribute('data_path'),\n",
    "                                   data_type='test',\n",
    "                                   batch_size=get_attribute('batch_size'),\n",
    "                                   item_embedding_matrix=model.item_embedding)\n",
    "\n",
    "scores = evaluate(model, test_data_loader)\n",
    "scores = sorted(scores.items(), key=lambda item: item[0], reverse=False)\n",
    "scores = {item[0]: item[1] for item in scores}\n",
    "scores_str = json.dumps(scores, indent=4)\n",
    "print(scores_str)"
   ]
  },
  {
   "cell_type": "markdown",
   "metadata": {
    "id": "Bzurc6upkY4M"
   },
   "source": [
    "# Dunnhumby"
   ]
  },
  {
   "cell_type": "markdown",
   "metadata": {
    "id": "Wj3HZkXakd_D"
   },
   "source": [
    "Fix seed:"
   ]
  },
  {
   "cell_type": "code",
   "execution_count": null,
   "metadata": {
    "id": "JRKVglmvkiCj"
   },
   "outputs": [],
   "source": [
    "seed = 10\n",
    "torch.manual_seed(seed)\n",
    "random.seed(seed)\n",
    "np.random.seed(seed)"
   ]
  },
  {
   "cell_type": "markdown",
   "metadata": {
    "id": "Vx232jHukmHY"
   },
   "source": [
    "Tune hyperparams on validation dataset:"
   ]
  },
  {
   "cell_type": "code",
   "execution_count": null,
   "metadata": {
    "id": "pLPvMev_kpEr"
   },
   "outputs": [],
   "source": [
    "def objective(trial):\n",
    "    params = {\n",
    "        \"data\": \"Dunnhumby\",\n",
    "        \"save_model_folder\": \"DNNTSP\",\n",
    "        \"item_embed_dim\": trial.suggest_categorical(\"item_embed_dim\", [16, 32, 64, 128]),\n",
    "        \"n_heads\": trial.suggest_categorical(\"n_heads\", [1, 2, 4]),\n",
    "        \"attention_aggregate\": trial.suggest_categorical(\"attention_aggregate\", [\"concat\", \"mean\"]),\n",
    "        \"cuda\": 0,\n",
    "        \"loss_function\": \"multi_label_soft_loss\",\n",
    "        \"epochs\": 2,\n",
    "        \"batch_size\": trial.suggest_categorical(\"batch_size\", [16, 32]),\n",
    "        \"learning_rate\": trial.suggest_loguniform(\"learning_rate\", 1e-5, 1e-1),\n",
    "        \"optim\": \"Adam\",\n",
    "        \"weight_decay\": trial.suggest_loguniform(\"weight_decay\", 1e-6, 1e-1)\n",
    "    }\n",
    "\n",
    "    DNNTSP.utils.load_config.CONFIG = params\n",
    "    score = train(validate_flg=False)\n",
    "    return score"
   ]
  },
  {
   "cell_type": "code",
   "execution_count": null,
   "metadata": {
    "colab": {
     "base_uri": "https://localhost:8080/"
    },
    "id": "KVh7a_TJzGGX",
    "outputId": "313f6d3d-973d-4090-94b5-d9f74d94d16b"
   },
   "outputs": [
    {
     "name": "stderr",
     "output_type": "stream",
     "text": [
      "\u001b[32m[I 2023-05-07 01:20:19,908]\u001b[0m A new study created in memory with name: no-name-2208b1bf-d96e-43ba-af21-2df31c8839ff\u001b[0m\n",
      "\u001b[32m[I 2023-05-07 01:20:19,914]\u001b[0m Trial 0 finished with value: 0.08793915808200836 and parameters: {'item_embed_dim': 16, 'n_heads': 1, 'attention_aggregate': 'concat', 'batch_size': 32, 'learning_rate': 0.06509886021509587, 'weight_decay': 1.0465050577940388e-06}. Best is trial 0 with value: 0.08793915808200836.\u001b[0m\n",
      "\u001b[32m[I 2023-05-07 01:20:19,917]\u001b[0m Trial 1 finished with value: 0.00157653889618814 and parameters: {'item_embed_dim': 32, 'n_heads': 2, 'attention_aggregate': 'concat', 'batch_size': 32, 'learning_rate': 0.0005852382428491509, 'weight_decay': 0.00014793466979423915}. Best is trial 0 with value: 0.08793915808200836.\u001b[0m\n",
      "\u001b[32m[I 2023-05-07 01:20:19,920]\u001b[0m Trial 2 finished with value: 0.0022408883087337017 and parameters: {'item_embed_dim': 64, 'n_heads': 4, 'attention_aggregate': 'concat', 'batch_size': 16, 'learning_rate': 0.02064074199229438, 'weight_decay': 1.7158589997464473e-06}. Best is trial 0 with value: 0.08793915808200836.\u001b[0m\n",
      "\u001b[32m[I 2023-05-07 01:20:19,935]\u001b[0m Trial 3 finished with value: 0.00026340768090449274 and parameters: {'item_embed_dim': 64, 'n_heads': 1, 'attention_aggregate': 'mean', 'batch_size': 16, 'learning_rate': 0.0003716353143639785, 'weight_decay': 2.9329311815600716e-06}. Best is trial 0 with value: 0.08793915808200836.\u001b[0m\n",
      "\u001b[32m[I 2023-05-07 01:20:19,941]\u001b[0m Trial 4 finished with value: 0.056124597787857056 and parameters: {'item_embed_dim': 128, 'n_heads': 1, 'attention_aggregate': 'mean', 'batch_size': 16, 'learning_rate': 0.002295120287772857, 'weight_decay': 1.5718418084685369e-06}. Best is trial 0 with value: 0.08793915808200836.\u001b[0m\n",
      "\u001b[32m[I 2023-05-07 01:20:19,946]\u001b[0m Trial 5 finished with value: 0.0008477873634546995 and parameters: {'item_embed_dim': 16, 'n_heads': 1, 'attention_aggregate': 'mean', 'batch_size': 16, 'learning_rate': 0.033087251918647816, 'weight_decay': 0.006549421418179378}. Best is trial 0 with value: 0.08793915808200836.\u001b[0m\n",
      "\u001b[32m[I 2023-05-07 01:20:19,950]\u001b[0m Trial 6 finished with value: 0.00038041986408643425 and parameters: {'item_embed_dim': 16, 'n_heads': 1, 'attention_aggregate': 'mean', 'batch_size': 32, 'learning_rate': 0.0018282184168059736, 'weight_decay': 0.00023749870017046834}. Best is trial 0 with value: 0.08793915808200836.\u001b[0m\n",
      "\u001b[32m[I 2023-05-07 01:20:19,954]\u001b[0m Trial 7 finished with value: 0.0017532038036733866 and parameters: {'item_embed_dim': 64, 'n_heads': 2, 'attention_aggregate': 'mean', 'batch_size': 32, 'learning_rate': 1.8723588773878278e-05, 'weight_decay': 0.00021021032269263407}. Best is trial 0 with value: 0.08793915808200836.\u001b[0m\n",
      "\u001b[32m[I 2023-05-07 01:20:19,958]\u001b[0m Trial 8 finished with value: 0.0002528298646211624 and parameters: {'item_embed_dim': 16, 'n_heads': 2, 'attention_aggregate': 'mean', 'batch_size': 16, 'learning_rate': 0.00022452440194787804, 'weight_decay': 3.4699152203111797e-06}. Best is trial 0 with value: 0.08793915808200836.\u001b[0m\n",
      "\u001b[32m[I 2023-05-07 01:20:19,963]\u001b[0m Trial 9 finished with value: 0.003542497521266341 and parameters: {'item_embed_dim': 32, 'n_heads': 1, 'attention_aggregate': 'mean', 'batch_size': 32, 'learning_rate': 0.003804420435894671, 'weight_decay': 1.750410989702396e-06}. Best is trial 0 with value: 0.08793915808200836.\u001b[0m\n",
      "\u001b[32m[I 2023-05-07 01:20:19,992]\u001b[0m Trial 10 finished with value: 0.0055982982739806175 and parameters: {'item_embed_dim': 128, 'n_heads': 4, 'attention_aggregate': 'concat', 'batch_size': 32, 'learning_rate': 0.05523564942986163, 'weight_decay': 1.700677615676601e-05}. Best is trial 0 with value: 0.08793915808200836.\u001b[0m\n",
      "\u001b[32m[I 2023-05-07 01:20:20,019]\u001b[0m Trial 11 finished with value: 0.05265738070011139 and parameters: {'item_embed_dim': 128, 'n_heads': 1, 'attention_aggregate': 'concat', 'batch_size': 16, 'learning_rate': 0.010298792670042663, 'weight_decay': 2.4640538359916686e-05}. Best is trial 0 with value: 0.08793915808200836.\u001b[0m\n",
      "\u001b[32m[I 2023-05-07 01:20:20,041]\u001b[0m Trial 12 finished with value: 0.012784145772457123 and parameters: {'item_embed_dim': 128, 'n_heads': 1, 'attention_aggregate': 'concat', 'batch_size': 32, 'learning_rate': 0.09825576621581868, 'weight_decay': 1.0825802210359487e-06}. Best is trial 0 with value: 0.08793915808200836.\u001b[0m\n",
      "\u001b[32m[I 2023-05-07 01:20:20,072]\u001b[0m Trial 13 finished with value: 0.04148657247424126 and parameters: {'item_embed_dim': 16, 'n_heads': 1, 'attention_aggregate': 'concat', 'batch_size': 16, 'learning_rate': 0.006664637258430958, 'weight_decay': 1.5048712019926946e-05}. Best is trial 0 with value: 0.08793915808200836.\u001b[0m\n",
      "\u001b[32m[I 2023-05-07 01:20:20,104]\u001b[0m Trial 14 finished with value: 0.004601059481501579 and parameters: {'item_embed_dim': 128, 'n_heads': 1, 'attention_aggregate': 'concat', 'batch_size': 16, 'learning_rate': 0.01773091956080892, 'weight_decay': 0.002260529538475454}. Best is trial 0 with value: 0.08793915808200836.\u001b[0m\n",
      "\u001b[32m[I 2023-05-07 01:20:20,136]\u001b[0m Trial 15 finished with value: 0.0006813819636590779 and parameters: {'item_embed_dim': 16, 'n_heads': 4, 'attention_aggregate': 'mean', 'batch_size': 32, 'learning_rate': 0.09964990820951232, 'weight_decay': 0.03460761234978768}. Best is trial 0 with value: 0.08793915808200836.\u001b[0m\n",
      "\u001b[32m[I 2023-05-07 01:20:20,159]\u001b[0m Trial 16 finished with value: 0.023133758455514908 and parameters: {'item_embed_dim': 128, 'n_heads': 1, 'attention_aggregate': 'mean', 'batch_size': 16, 'learning_rate': 0.002977354621195864, 'weight_decay': 1.1457806561811528e-05}. Best is trial 0 with value: 0.08793915808200836.\u001b[0m\n",
      "\u001b[32m[I 2023-05-07 01:20:20,178]\u001b[0m Trial 17 finished with value: 0.0026119756512343884 and parameters: {'item_embed_dim': 32, 'n_heads': 1, 'attention_aggregate': 'concat', 'batch_size': 32, 'learning_rate': 0.008872403265135144, 'weight_decay': 5.102600943797609e-05}. Best is trial 0 with value: 0.08793915808200836.\u001b[0m\n"
     ]
    },
    {
     "name": "stdout",
     "output_type": "stream",
     "text": [
      "train data length -> 2357\n",
      "validate data length -> 2357\n",
      "temporal_set_prediction(\n",
      "  (item_embedding): Embedding(23998, 128)\n",
      "  (stacked_gcn): stacked_weighted_GCN_blocks(\n",
      "    (0): weighted_GCN(\n",
      "      (gcns): ModuleList(\n",
      "        (0-1): 2 x weighted_graph_conv(\n",
      "          (linear): Linear(in_features=128, out_features=128, bias=True)\n",
      "        )\n",
      "      )\n",
      "      (relus): ModuleList(\n",
      "        (0-1): 2 x ReLU()\n",
      "      )\n",
      "      (bns): ModuleList(\n",
      "        (0-1): 2 x BatchNorm1d(128, eps=1e-05, momentum=0.1, affine=True, track_running_stats=True)\n",
      "      )\n",
      "    )\n",
      "  )\n",
      "  (masked_self_attention): masked_self_attention(\n",
      "    (Wq): Linear(in_features=128, out_features=128, bias=False)\n",
      "    (Wk): Linear(in_features=128, out_features=128, bias=False)\n",
      "    (Wv): Linear(in_features=128, out_features=128, bias=False)\n",
      "  )\n",
      "  (aggregate_nodes_temporal_feature): aggregate_nodes_temporal_feature(\n",
      "    (Wq): Linear(in_features=128, out_features=1, bias=False)\n",
      "  )\n",
      "  (global_gated_update): global_gated_update(\n",
      "    (item_embedding): Embedding(23998, 128)\n",
      "  )\n",
      "  (fc_output): Linear(in_features=128, out_features=1, bias=True)\n",
      ")\n",
      "Adam (\n",
      "Parameter Group 0\n",
      "    amsgrad: False\n",
      "    betas: (0.9, 0.999)\n",
      "    capturable: False\n",
      "    differentiable: False\n",
      "    eps: 1e-08\n",
      "    foreach: None\n",
      "    fused: None\n",
      "    lr: 0.0010765286122019603\n",
      "    maximize: False\n",
      "    weight_decay: 4.751483937523692e-06\n",
      ")\n"
     ]
    },
    {
     "name": "stderr",
     "output_type": "stream",
     "text": [
      "train epoch: 0, train loss: 0.6816857416887541: 100%|██████████| 148/148 [09:27<00:00,  3.83s/it]\n"
     ]
    },
    {
     "name": "stdout",
     "output_type": "stream",
     "text": [
      "train metric ...\n",
      "{\n",
      "    \"PHR_10\": 0.003818413237165889,\n",
      "    \"PHR_20\": 0.007212558336868901,\n",
      "    \"PHR_30\": 0.010606703436571913,\n",
      "    \"PHR_40\": 0.014000848536274925,\n",
      "    \"PHR_5\": 0.002545608824777259,\n",
      "    \"ndcg_10\": 0.0004809688252862543,\n",
      "    \"ndcg_20\": 0.0005050280597060919,\n",
      "    \"ndcg_30\": 0.0007208748138509691,\n",
      "    \"ndcg_40\": 0.0007907795952633023,\n",
      "    \"ndcg_5\": 0.0005518816760741174,\n",
      "    \"precision_10\": 0.00046669496805407107,\n",
      "    \"precision_20\": 0.00040305478614754975,\n",
      "    \"precision_30\": 0.00038184135337360203,\n",
      "    \"precision_40\": 0.00038184135337360203,\n",
      "    \"precision_5\": 0.0005939754191786051,\n",
      "    \"recall_10\": 0.00010389644012320787,\n",
      "    \"recall_20\": 0.0005198048311285675,\n",
      "    \"recall_30\": 0.001560626900754869,\n",
      "    \"recall_40\": 0.0017702117329463363,\n",
      "    \"recall_5\": 6.77099815220572e-05\n",
      "}\n"
     ]
    },
    {
     "name": "stderr",
     "output_type": "stream",
     "text": [
      "train epoch: 1, train loss: 0.38104503601789474: 100%|██████████| 148/148 [09:18<00:00,  3.78s/it]\n"
     ]
    },
    {
     "name": "stdout",
     "output_type": "stream",
     "text": [
      "train metric ...\n",
      "{\n",
      "    \"PHR_10\": 0.006364022061943148,\n",
      "    \"PHR_20\": 0.017394993635977938,\n",
      "    \"PHR_30\": 0.02588035638523547,\n",
      "    \"PHR_40\": 0.03309291472210437,\n",
      "    \"PHR_5\": 0.003818413237165889,\n",
      "    \"ndcg_10\": 0.001084454357624054,\n",
      "    \"ndcg_20\": 0.0014222660101950169,\n",
      "    \"ndcg_30\": 0.0014938566600903869,\n",
      "    \"ndcg_40\": 0.0017510011093690991,\n",
      "    \"ndcg_5\": 0.001162582659162581,\n",
      "    \"precision_10\": 0.001018243608996272,\n",
      "    \"precision_20\": 0.0011667374055832624,\n",
      "    \"precision_30\": 0.0011313818395137787,\n",
      "    \"precision_40\": 0.0011030972236767411,\n",
      "    \"precision_5\": 0.0011030972236767411,\n",
      "    \"recall_10\": 0.0003754326025955379,\n",
      "    \"recall_20\": 0.0016086355317384005,\n",
      "    \"recall_30\": 0.0019492374267429113,\n",
      "    \"recall_40\": 0.0028508759569376707,\n",
      "    \"recall_5\": 0.00017114200454670936\n",
      "}\n"
     ]
    },
    {
     "name": "stderr",
     "output_type": "stream",
     "text": [
      "validate epoch: 1, validate loss: 0.1279688466440987: 100%|██████████| 148/148 [09:42<00:00,  3.93s/it]\n"
     ]
    },
    {
     "name": "stdout",
     "output_type": "stream",
     "text": [
      "validate metric ...\n"
     ]
    },
    {
     "name": "stderr",
     "output_type": "stream",
     "text": [
      "\u001b[32m[I 2023-05-07 01:49:48,897]\u001b[0m Trial 18 finished with value: 0.0014716358855366707 and parameters: {'item_embed_dim': 128, 'n_heads': 4, 'attention_aggregate': 'concat', 'batch_size': 16, 'learning_rate': 0.0010765286122019603, 'weight_decay': 4.751483937523692e-06}. Best is trial 0 with value: 0.08793915808200836.\u001b[0m\n"
     ]
    },
    {
     "name": "stdout",
     "output_type": "stream",
     "text": [
      "{\n",
      "    \"PHR_10\": 0.012728044123886296,\n",
      "    \"PHR_20\": 0.022486211285532458,\n",
      "    \"PHR_30\": 0.03691132795927026,\n",
      "    \"PHR_40\": 0.04242681374628765,\n",
      "    \"PHR_5\": 0.004666949512091642,\n",
      "    \"ndcg_10\": 0.0014716358855366707,\n",
      "    \"ndcg_20\": 0.0016490038251504302,\n",
      "    \"ndcg_30\": 0.002116606803610921,\n",
      "    \"ndcg_40\": 0.002205934375524521,\n",
      "    \"ndcg_5\": 0.0012522595934569836,\n",
      "    \"precision_10\": 0.0014849385479465127,\n",
      "    \"precision_20\": 0.0014637252315878868,\n",
      "    \"precision_30\": 0.001640503411181271,\n",
      "    \"precision_40\": 0.0014531183987855911,\n",
      "    \"precision_5\": 0.0011030972236767411,\n",
      "    \"recall_10\": 0.00046105438377708197,\n",
      "    \"recall_20\": 0.0013024078216403723,\n",
      "    \"recall_30\": 0.002752041444182396,\n",
      "    \"recall_40\": 0.0031708150636404753,\n",
      "    \"recall_5\": 0.0001319555303780362\n",
      "}\n",
      "model save as ./DNNTSP/save_model_folder/Dunnhumby/best_model.pkl\n",
      "cost 1759 seconds\n",
      "train data length -> 2357\n",
      "validate data length -> 2357\n",
      "temporal_set_prediction(\n",
      "  (item_embedding): Embedding(23998, 16)\n",
      "  (stacked_gcn): stacked_weighted_GCN_blocks(\n",
      "    (0): weighted_GCN(\n",
      "      (gcns): ModuleList(\n",
      "        (0-1): 2 x weighted_graph_conv(\n",
      "          (linear): Linear(in_features=16, out_features=16, bias=True)\n",
      "        )\n",
      "      )\n",
      "      (relus): ModuleList(\n",
      "        (0-1): 2 x ReLU()\n",
      "      )\n",
      "      (bns): ModuleList(\n",
      "        (0-1): 2 x BatchNorm1d(16, eps=1e-05, momentum=0.1, affine=True, track_running_stats=True)\n",
      "      )\n",
      "    )\n",
      "  )\n",
      "  (masked_self_attention): masked_self_attention(\n",
      "    (Wq): Linear(in_features=16, out_features=32, bias=False)\n",
      "    (Wk): Linear(in_features=16, out_features=32, bias=False)\n",
      "    (Wv): Linear(in_features=16, out_features=32, bias=False)\n",
      "  )\n",
      "  (aggregate_nodes_temporal_feature): aggregate_nodes_temporal_feature(\n",
      "    (Wq): Linear(in_features=16, out_features=1, bias=False)\n",
      "  )\n",
      "  (global_gated_update): global_gated_update(\n",
      "    (item_embedding): Embedding(23998, 16)\n",
      "  )\n",
      "  (fc_output): Linear(in_features=16, out_features=1, bias=True)\n",
      ")\n",
      "Adam (\n",
      "Parameter Group 0\n",
      "    amsgrad: False\n",
      "    betas: (0.9, 0.999)\n",
      "    capturable: False\n",
      "    differentiable: False\n",
      "    eps: 1e-08\n",
      "    foreach: None\n",
      "    fused: None\n",
      "    lr: 0.03353255351952192\n",
      "    maximize: False\n",
      "    weight_decay: 1.079518004240909e-06\n",
      ")\n"
     ]
    },
    {
     "name": "stderr",
     "output_type": "stream",
     "text": [
      "train epoch: 0, train loss: 0.11417977671717873: 100%|██████████| 74/74 [08:48<00:00,  7.14s/it]\n"
     ]
    },
    {
     "name": "stdout",
     "output_type": "stream",
     "text": [
      "train metric ...\n",
      "{\n",
      "    \"PHR_10\": 0.15697921086126432,\n",
      "    \"PHR_20\": 0.1972846839202376,\n",
      "    \"PHR_30\": 0.2299533305048791,\n",
      "    \"PHR_40\": 0.25031820110309716,\n",
      "    \"PHR_5\": 0.106491302503182,\n",
      "    \"ndcg_10\": 0.03523049131035805,\n",
      "    \"ndcg_20\": 0.03693649545311928,\n",
      "    \"ndcg_30\": 0.039091456681489944,\n",
      "    \"ndcg_40\": 0.04051900655031204,\n",
      "    \"ndcg_5\": 0.034067727625370026,\n",
      "    \"precision_10\": 0.020746711641550064,\n",
      "    \"precision_20\": 0.015613066963851452,\n",
      "    \"precision_30\": 0.01308160088956356,\n",
      "    \"precision_40\": 0.011211286298930645,\n",
      "    \"precision_5\": 0.024013577029109,\n",
      "    \"recall_10\": 0.03611228987574577,\n",
      "    \"recall_20\": 0.049771975725889206,\n",
      "    \"recall_30\": 0.059118956327438354,\n",
      "    \"recall_40\": 0.06450660526752472,\n",
      "    \"recall_5\": 0.023608935996890068\n",
      "}\n"
     ]
    },
    {
     "name": "stderr",
     "output_type": "stream",
     "text": [
      "train epoch: 1, train loss: 0.007972239806140596: 100%|██████████| 74/74 [08:39<00:00,  7.02s/it]\n"
     ]
    },
    {
     "name": "stdout",
     "output_type": "stream",
     "text": [
      "train metric ...\n",
      "{\n",
      "    \"PHR_10\": 0.40093338990241834,\n",
      "    \"PHR_20\": 0.46881629189647855,\n",
      "    \"PHR_30\": 0.5031820110309716,\n",
      "    \"PHR_40\": 0.5299109036911328,\n",
      "    \"PHR_5\": 0.31777683495969455,\n",
      "    \"ndcg_10\": 0.10502496361732483,\n",
      "    \"ndcg_20\": 0.10411062836647034,\n",
      "    \"ndcg_30\": 0.10667373239994049,\n",
      "    \"ndcg_40\": 0.1094679906964302,\n",
      "    \"ndcg_5\": 0.11076562851667404,\n",
      "    \"precision_10\": 0.057997461408376694,\n",
      "    \"precision_20\": 0.039563003927469254,\n",
      "    \"precision_30\": 0.0312827043235302,\n",
      "    \"precision_40\": 0.026251591742038727,\n",
      "    \"precision_5\": 0.07933813333511353,\n",
      "    \"recall_10\": 0.10463224351406097,\n",
      "    \"recall_20\": 0.13022999465465546,\n",
      "    \"recall_30\": 0.1464998871088028,\n",
      "    \"recall_40\": 0.15811972320079803,\n",
      "    \"recall_5\": 0.0797535702586174\n",
      "}\n"
     ]
    },
    {
     "name": "stderr",
     "output_type": "stream",
     "text": [
      "validate epoch: 1, validate loss: 0.006740957473379535: 100%|██████████| 74/74 [09:18<00:00,  7.55s/it]\n"
     ]
    },
    {
     "name": "stdout",
     "output_type": "stream",
     "text": [
      "validate metric ...\n"
     ]
    },
    {
     "name": "stderr",
     "output_type": "stream",
     "text": [
      "\u001b[32m[I 2023-05-07 02:17:28,215]\u001b[0m Trial 19 finished with value: 0.10782680660486221 and parameters: {'item_embed_dim': 16, 'n_heads': 2, 'attention_aggregate': 'mean', 'batch_size': 32, 'learning_rate': 0.03353255351952192, 'weight_decay': 1.079518004240909e-06}. Best is trial 19 with value: 0.10782680660486221.\u001b[0m\n"
     ]
    },
    {
     "name": "stdout",
     "output_type": "stream",
     "text": [
      "{\n",
      "    \"PHR_10\": 0.4336020364870598,\n",
      "    \"PHR_20\": 0.4883326262197709,\n",
      "    \"PHR_30\": 0.5226983453542638,\n",
      "    \"PHR_40\": 0.5545184556639796,\n",
      "    \"PHR_5\": 0.34280865507000424,\n",
      "    \"ndcg_10\": 0.10782680660486221,\n",
      "    \"ndcg_20\": 0.10285721719264984,\n",
      "    \"ndcg_30\": 0.10455338656902313,\n",
      "    \"ndcg_40\": 0.10922738164663315,\n",
      "    \"ndcg_5\": 0.11350506544113159,\n",
      "    \"precision_10\": 0.06834959983825684,\n",
      "    \"precision_20\": 0.045481547713279724,\n",
      "    \"precision_30\": 0.036006223410367966,\n",
      "    \"precision_40\": 0.031130675226449966,\n",
      "    \"precision_5\": 0.09537548571825027,\n",
      "    \"recall_10\": 0.10705472528934479,\n",
      "    \"recall_20\": 0.13047054409980774,\n",
      "    \"recall_30\": 0.14638783037662506,\n",
      "    \"recall_40\": 0.16522739827632904,\n",
      "    \"recall_5\": 0.06020323932170868\n",
      "}\n",
      "model save as ./DNNTSP/save_model_folder/Dunnhumby/best_model.pkl\n",
      "cost 1654 seconds\n",
      "train data length -> 2357\n",
      "validate data length -> 2357\n",
      "temporal_set_prediction(\n",
      "  (item_embedding): Embedding(23998, 16)\n",
      "  (stacked_gcn): stacked_weighted_GCN_blocks(\n",
      "    (0): weighted_GCN(\n",
      "      (gcns): ModuleList(\n",
      "        (0-1): 2 x weighted_graph_conv(\n",
      "          (linear): Linear(in_features=16, out_features=16, bias=True)\n",
      "        )\n",
      "      )\n",
      "      (relus): ModuleList(\n",
      "        (0-1): 2 x ReLU()\n",
      "      )\n",
      "      (bns): ModuleList(\n",
      "        (0-1): 2 x BatchNorm1d(16, eps=1e-05, momentum=0.1, affine=True, track_running_stats=True)\n",
      "      )\n",
      "    )\n",
      "  )\n",
      "  (masked_self_attention): masked_self_attention(\n",
      "    (Wq): Linear(in_features=16, out_features=32, bias=False)\n",
      "    (Wk): Linear(in_features=16, out_features=32, bias=False)\n",
      "    (Wv): Linear(in_features=16, out_features=32, bias=False)\n",
      "  )\n",
      "  (aggregate_nodes_temporal_feature): aggregate_nodes_temporal_feature(\n",
      "    (Wq): Linear(in_features=16, out_features=1, bias=False)\n",
      "  )\n",
      "  (global_gated_update): global_gated_update(\n",
      "    (item_embedding): Embedding(23998, 16)\n",
      "  )\n",
      "  (fc_output): Linear(in_features=16, out_features=1, bias=True)\n",
      ")\n",
      "Adam (\n",
      "Parameter Group 0\n",
      "    amsgrad: False\n",
      "    betas: (0.9, 0.999)\n",
      "    capturable: False\n",
      "    differentiable: False\n",
      "    eps: 1e-08\n",
      "    foreach: None\n",
      "    fused: None\n",
      "    lr: 0.032160308729096934\n",
      "    maximize: False\n",
      "    weight_decay: 6.257739415372754e-06\n",
      ")\n"
     ]
    },
    {
     "name": "stderr",
     "output_type": "stream",
     "text": [
      "train epoch: 0, train loss: 0.20448563330982988: 100%|██████████| 74/74 [08:38<00:00,  7.01s/it]\n"
     ]
    },
    {
     "name": "stdout",
     "output_type": "stream",
     "text": [
      "train metric ...\n",
      "{\n",
      "    \"PHR_10\": 0.11964361476453118,\n",
      "    \"PHR_20\": 0.13831141281289774,\n",
      "    \"PHR_30\": 0.15061518879932118,\n",
      "    \"PHR_40\": 0.16546457361052186,\n",
      "    \"PHR_5\": 0.10182435299109037,\n",
      "    \"ndcg_10\": 0.030121024698019028,\n",
      "    \"ndcg_20\": 0.028032610192894936,\n",
      "    \"ndcg_30\": 0.028108835220336914,\n",
      "    \"ndcg_40\": 0.02867666631937027,\n",
      "    \"ndcg_5\": 0.03527388349175453,\n",
      "    \"precision_10\": 0.013406873680651188,\n",
      "    \"precision_20\": 0.008167161606252193,\n",
      "    \"precision_30\": 0.006137745920568705,\n",
      "    \"precision_40\": 0.005165464710444212,\n",
      "    \"precision_5\": 0.022231651470065117,\n",
      "    \"recall_10\": 0.02303064428269863,\n",
      "    \"recall_20\": 0.026988135650753975,\n",
      "    \"recall_30\": 0.03017968311905861,\n",
      "    \"recall_40\": 0.03331422805786133,\n",
      "    \"recall_5\": 0.020134981721639633\n",
      "}\n"
     ]
    },
    {
     "name": "stderr",
     "output_type": "stream",
     "text": [
      "train epoch: 1, train loss: 0.01459905770733147: 100%|██████████| 74/74 [08:43<00:00,  7.07s/it]\n"
     ]
    },
    {
     "name": "stdout",
     "output_type": "stream",
     "text": [
      "train metric ...\n",
      "{\n",
      "    \"PHR_10\": 0.30886720407297413,\n",
      "    \"PHR_20\": 0.38226559185405173,\n",
      "    \"PHR_30\": 0.4217225286380993,\n",
      "    \"PHR_40\": 0.44887568943572337,\n",
      "    \"PHR_5\": 0.24480271531607975,\n",
      "    \"ndcg_10\": 0.07776203006505966,\n",
      "    \"ndcg_20\": 0.07677501440048218,\n",
      "    \"ndcg_30\": 0.07923499494791031,\n",
      "    \"ndcg_40\": 0.08173231035470963,\n",
      "    \"ndcg_5\": 0.08366947621107101,\n",
      "    \"precision_10\": 0.04085702449083328,\n",
      "    \"precision_20\": 0.028277471661567688,\n",
      "    \"precision_30\": 0.022613493725657463,\n",
      "    \"precision_40\": 0.01910267397761345,\n",
      "    \"precision_5\": 0.05719134584069252,\n",
      "    \"recall_10\": 0.07800295203924179,\n",
      "    \"recall_20\": 0.09640683233737946,\n",
      "    \"recall_30\": 0.11069460958242416,\n",
      "    \"recall_40\": 0.12145364284515381,\n",
      "    \"recall_5\": 0.06101808324456215\n",
      "}\n"
     ]
    },
    {
     "name": "stderr",
     "output_type": "stream",
     "text": [
      "validate epoch: 1, validate loss: 0.011790960901290984: 100%|██████████| 74/74 [09:18<00:00,  7.54s/it]\n"
     ]
    },
    {
     "name": "stdout",
     "output_type": "stream",
     "text": [
      "validate metric ...\n"
     ]
    },
    {
     "name": "stderr",
     "output_type": "stream",
     "text": [
      "\u001b[32m[I 2023-05-07 02:45:03,629]\u001b[0m Trial 20 finished with value: 0.056102678179740906 and parameters: {'item_embed_dim': 16, 'n_heads': 2, 'attention_aggregate': 'mean', 'batch_size': 32, 'learning_rate': 0.032160308729096934, 'weight_decay': 6.257739415372754e-06}. Best is trial 19 with value: 0.10782680660486221.\u001b[0m\n"
     ]
    },
    {
     "name": "stdout",
     "output_type": "stream",
     "text": [
      "{\n",
      "    \"PHR_10\": 0.2532880780653373,\n",
      "    \"PHR_20\": 0.35723377174374205,\n",
      "    \"PHR_30\": 0.3962664403903267,\n",
      "    \"PHR_40\": 0.42469240560033944,\n",
      "    \"PHR_5\": 0.21086126431904964,\n",
      "    \"ndcg_10\": 0.056102678179740906,\n",
      "    \"ndcg_20\": 0.05639875680208206,\n",
      "    \"ndcg_30\": 0.058162372559309006,\n",
      "    \"ndcg_40\": 0.06031616032123566,\n",
      "    \"ndcg_5\": 0.06875285506248474,\n",
      "    \"precision_10\": 0.035426393151283264,\n",
      "    \"precision_20\": 0.028977515175938606,\n",
      "    \"precision_30\": 0.023971151560544968,\n",
      "    \"precision_40\": 0.020375479012727737,\n",
      "    \"precision_5\": 0.05108189210295677,\n",
      "    \"recall_10\": 0.028828449547290802,\n",
      "    \"recall_20\": 0.05081644654273987,\n",
      "    \"recall_30\": 0.06278610974550247,\n",
      "    \"recall_40\": 0.07235432416200638,\n",
      "    \"recall_5\": 0.021747702732682228\n",
      "}\n",
      "model save as ./DNNTSP/save_model_folder/Dunnhumby/best_model.pkl\n",
      "cost 1649 seconds\n",
      "train data length -> 2357\n",
      "validate data length -> 2357\n",
      "temporal_set_prediction(\n",
      "  (item_embedding): Embedding(23998, 16)\n",
      "  (stacked_gcn): stacked_weighted_GCN_blocks(\n",
      "    (0): weighted_GCN(\n",
      "      (gcns): ModuleList(\n",
      "        (0-1): 2 x weighted_graph_conv(\n",
      "          (linear): Linear(in_features=16, out_features=16, bias=True)\n",
      "        )\n",
      "      )\n",
      "      (relus): ModuleList(\n",
      "        (0-1): 2 x ReLU()\n",
      "      )\n",
      "      (bns): ModuleList(\n",
      "        (0-1): 2 x BatchNorm1d(16, eps=1e-05, momentum=0.1, affine=True, track_running_stats=True)\n",
      "      )\n",
      "    )\n",
      "  )\n",
      "  (masked_self_attention): masked_self_attention(\n",
      "    (Wq): Linear(in_features=16, out_features=32, bias=False)\n",
      "    (Wk): Linear(in_features=16, out_features=32, bias=False)\n",
      "    (Wv): Linear(in_features=16, out_features=32, bias=False)\n",
      "  )\n",
      "  (aggregate_nodes_temporal_feature): aggregate_nodes_temporal_feature(\n",
      "    (Wq): Linear(in_features=16, out_features=1, bias=False)\n",
      "  )\n",
      "  (global_gated_update): global_gated_update(\n",
      "    (item_embedding): Embedding(23998, 16)\n",
      "  )\n",
      "  (fc_output): Linear(in_features=16, out_features=1, bias=True)\n",
      ")\n",
      "Adam (\n",
      "Parameter Group 0\n",
      "    amsgrad: False\n",
      "    betas: (0.9, 0.999)\n",
      "    capturable: False\n",
      "    differentiable: False\n",
      "    eps: 1e-08\n",
      "    foreach: None\n",
      "    fused: None\n",
      "    lr: 0.038727456685382564\n",
      "    maximize: False\n",
      "    weight_decay: 1.1776448133716812e-06\n",
      ")\n"
     ]
    },
    {
     "name": "stderr",
     "output_type": "stream",
     "text": [
      "train epoch: 0, train loss: 0.10741125446165332: 100%|██████████| 74/74 [08:43<00:00,  7.08s/it]\n"
     ]
    },
    {
     "name": "stdout",
     "output_type": "stream",
     "text": [
      "train metric ...\n",
      "{\n",
      "    \"PHR_10\": 0.1934662706830717,\n",
      "    \"PHR_20\": 0.24013576580398813,\n",
      "    \"PHR_30\": 0.2706830717013152,\n",
      "    \"PHR_40\": 0.28850233347475607,\n",
      "    \"PHR_5\": 0.14043275350021214,\n",
      "    \"ndcg_10\": 0.04252508655190468,\n",
      "    \"ndcg_20\": 0.04288322106003761,\n",
      "    \"ndcg_30\": 0.044415540993213654,\n",
      "    \"ndcg_40\": 0.04595956578850746,\n",
      "    \"ndcg_5\": 0.04292277619242668,\n",
      "    \"precision_10\": 0.025371234863996506,\n",
      "    \"precision_20\": 0.018328381702303886,\n",
      "    \"precision_30\": 0.014623108319938183,\n",
      "    \"precision_40\": 0.012399236671626568,\n",
      "    \"precision_5\": 0.03190496191382408,\n",
      "    \"recall_10\": 0.03974345326423645,\n",
      "    \"recall_20\": 0.051534589380025864,\n",
      "    \"recall_30\": 0.060603734105825424,\n",
      "    \"recall_40\": 0.06702049821615219,\n",
      "    \"recall_5\": 0.02728964574635029\n",
      "}\n"
     ]
    },
    {
     "name": "stderr",
     "output_type": "stream",
     "text": [
      "train epoch: 1, train loss: 0.007791869914964647: 100%|██████████| 74/74 [08:39<00:00,  7.02s/it]\n"
     ]
    },
    {
     "name": "stdout",
     "output_type": "stream",
     "text": [
      "train metric ...\n",
      "{\n",
      "    \"PHR_10\": 0.3826898599915146,\n",
      "    \"PHR_20\": 0.450148493848112,\n",
      "    \"PHR_30\": 0.4959694526941027,\n",
      "    \"PHR_40\": 0.5201527365294867,\n",
      "    \"PHR_5\": 0.29359355112431057,\n",
      "    \"ndcg_10\": 0.09949178248643875,\n",
      "    \"ndcg_20\": 0.09922672063112259,\n",
      "    \"ndcg_30\": 0.10262510180473328,\n",
      "    \"ndcg_40\": 0.10512401163578033,\n",
      "    \"ndcg_5\": 0.10264064371585846,\n",
      "    \"precision_10\": 0.057148922234773636,\n",
      "    \"precision_20\": 0.03935087099671364,\n",
      "    \"precision_30\": 0.031381700187921524,\n",
      "    \"precision_40\": 0.02628341130912304,\n",
      "    \"precision_5\": 0.0744166374206543,\n",
      "    \"recall_10\": 0.09836696833372116,\n",
      "    \"recall_20\": 0.12562474608421326,\n",
      "    \"recall_30\": 0.14441540837287903,\n",
      "    \"recall_40\": 0.15505939722061157,\n",
      "    \"recall_5\": 0.07429739832878113\n",
      "}\n"
     ]
    },
    {
     "name": "stderr",
     "output_type": "stream",
     "text": [
      "validate epoch: 1, validate loss: 0.006771198146649309: 100%|██████████| 74/74 [09:19<00:00,  7.56s/it]\n"
     ]
    },
    {
     "name": "stdout",
     "output_type": "stream",
     "text": [
      "validate metric ...\n"
     ]
    },
    {
     "name": "stderr",
     "output_type": "stream",
     "text": [
      "\u001b[32m[I 2023-05-07 03:12:40,525]\u001b[0m Trial 21 finished with value: 0.09252580255270004 and parameters: {'item_embed_dim': 16, 'n_heads': 2, 'attention_aggregate': 'mean', 'batch_size': 32, 'learning_rate': 0.038727456685382564, 'weight_decay': 1.1776448133716812e-06}. Best is trial 19 with value: 0.10782680660486221.\u001b[0m\n"
     ]
    },
    {
     "name": "stdout",
     "output_type": "stream",
     "text": [
      "{\n",
      "    \"PHR_10\": 0.3928722952906237,\n",
      "    \"PHR_20\": 0.48069579974543913,\n",
      "    \"PHR_30\": 0.525668222316504,\n",
      "    \"PHR_40\": 0.5545184556639796,\n",
      "    \"PHR_5\": 0.2638947815019092,\n",
      "    \"ndcg_10\": 0.09252580255270004,\n",
      "    \"ndcg_20\": 0.09320563077926636,\n",
      "    \"ndcg_30\": 0.09588998556137085,\n",
      "    \"ndcg_40\": 0.09943661838769913,\n",
      "    \"ndcg_5\": 0.08788294345140457,\n",
      "    \"precision_10\": 0.06062792241573334,\n",
      "    \"precision_20\": 0.04446330666542053,\n",
      "    \"precision_30\": 0.03553953394293785,\n",
      "    \"precision_40\": 0.03016546741127968,\n",
      "    \"precision_5\": 0.0701739490032196,\n",
      "    \"recall_10\": 0.09587836265563965,\n",
      "    \"recall_20\": 0.12795746326446533,\n",
      "    \"recall_30\": 0.14569614827632904,\n",
      "    \"recall_40\": 0.16031916439533234,\n",
      "    \"recall_5\": 0.04124457761645317\n",
      "}\n",
      "model save as ./DNNTSP/save_model_folder/Dunnhumby/best_model.pkl\n",
      "cost 1652 seconds\n",
      "train data length -> 2357\n",
      "validate data length -> 2357\n",
      "temporal_set_prediction(\n",
      "  (item_embedding): Embedding(23998, 16)\n",
      "  (stacked_gcn): stacked_weighted_GCN_blocks(\n",
      "    (0): weighted_GCN(\n",
      "      (gcns): ModuleList(\n",
      "        (0-1): 2 x weighted_graph_conv(\n",
      "          (linear): Linear(in_features=16, out_features=16, bias=True)\n",
      "        )\n",
      "      )\n",
      "      (relus): ModuleList(\n",
      "        (0-1): 2 x ReLU()\n",
      "      )\n",
      "      (bns): ModuleList(\n",
      "        (0-1): 2 x BatchNorm1d(16, eps=1e-05, momentum=0.1, affine=True, track_running_stats=True)\n",
      "      )\n",
      "    )\n",
      "  )\n",
      "  (masked_self_attention): masked_self_attention(\n",
      "    (Wq): Linear(in_features=16, out_features=32, bias=False)\n",
      "    (Wk): Linear(in_features=16, out_features=32, bias=False)\n",
      "    (Wv): Linear(in_features=16, out_features=32, bias=False)\n",
      "  )\n",
      "  (aggregate_nodes_temporal_feature): aggregate_nodes_temporal_feature(\n",
      "    (Wq): Linear(in_features=16, out_features=1, bias=False)\n",
      "  )\n",
      "  (global_gated_update): global_gated_update(\n",
      "    (item_embedding): Embedding(23998, 16)\n",
      "  )\n",
      "  (fc_output): Linear(in_features=16, out_features=1, bias=True)\n",
      ")\n",
      "Adam (\n",
      "Parameter Group 0\n",
      "    amsgrad: False\n",
      "    betas: (0.9, 0.999)\n",
      "    capturable: False\n",
      "    differentiable: False\n",
      "    eps: 1e-08\n",
      "    foreach: None\n",
      "    fused: None\n",
      "    lr: 0.045900392395250476\n",
      "    maximize: False\n",
      "    weight_decay: 1.1720435092672693e-06\n",
      ")\n"
     ]
    },
    {
     "name": "stderr",
     "output_type": "stream",
     "text": [
      "train epoch: 0, train loss: 0.08212489894641614: 100%|██████████| 74/74 [08:40<00:00,  7.04s/it]\n"
     ]
    },
    {
     "name": "stdout",
     "output_type": "stream",
     "text": [
      "train metric ...\n",
      "{\n",
      "    \"PHR_10\": 0.25031820110309716,\n",
      "    \"PHR_20\": 0.29359355112431057,\n",
      "    \"PHR_30\": 0.3182011030971574,\n",
      "    \"PHR_40\": 0.33559609673313534,\n",
      "    \"PHR_5\": 0.19431480695799747,\n",
      "    \"ndcg_10\": 0.06530187278985977,\n",
      "    \"ndcg_20\": 0.06420090794563293,\n",
      "    \"ndcg_30\": 0.06552442163228989,\n",
      "    \"ndcg_40\": 0.066764235496521,\n",
      "    \"ndcg_5\": 0.06812778860330582,\n",
      "    \"precision_10\": 0.03563852608203888,\n",
      "    \"precision_20\": 0.024119645357131958,\n",
      "    \"precision_30\": 0.01883750595152378,\n",
      "    \"precision_40\": 0.015581248328089714,\n",
      "    \"precision_5\": 0.0482817143201828,\n",
      "    \"recall_10\": 0.06274443864822388,\n",
      "    \"recall_20\": 0.07788389176130295,\n",
      "    \"recall_30\": 0.08818592131137848,\n",
      "    \"recall_40\": 0.0946388691663742,\n",
      "    \"recall_5\": 0.04764210060238838\n",
      "}\n"
     ]
    },
    {
     "name": "stderr",
     "output_type": "stream",
     "text": [
      "train epoch: 1, train loss: 0.006375882252295678: 100%|██████████| 74/74 [08:41<00:00,  7.05s/it]\n"
     ]
    },
    {
     "name": "stdout",
     "output_type": "stream",
     "text": [
      "train metric ...\n",
      "{\n",
      "    \"PHR_10\": 0.3856597369537548,\n",
      "    \"PHR_20\": 0.4412388629613916,\n",
      "    \"PHR_30\": 0.4717861688587187,\n",
      "    \"PHR_40\": 0.4968179889690284,\n",
      "    \"PHR_5\": 0.30844293593551125,\n",
      "    \"ndcg_10\": 0.10570511221885681,\n",
      "    \"ndcg_20\": 0.10343756526708603,\n",
      "    \"ndcg_30\": 0.10526648908853531,\n",
      "    \"ndcg_40\": 0.10728118568658829,\n",
      "    \"ndcg_5\": 0.11253973841667175,\n",
      "    \"precision_10\": 0.0535002164542675,\n",
      "    \"precision_20\": 0.03568095341324806,\n",
      "    \"precision_30\": 0.027761278674006462,\n",
      "    \"precision_40\": 0.02300594002008438,\n",
      "    \"precision_5\": 0.07526516169309616,\n",
      "    \"recall_10\": 0.09662330895662308,\n",
      "    \"recall_20\": 0.11574782431125641,\n",
      "    \"recall_30\": 0.12925057113170624,\n",
      "    \"recall_40\": 0.13802260160446167,\n",
      "    \"recall_5\": 0.07740693539381027\n",
      "}\n"
     ]
    },
    {
     "name": "stderr",
     "output_type": "stream",
     "text": [
      "validate epoch: 1, validate loss: 0.005633069384792769: 100%|██████████| 74/74 [09:25<00:00,  7.64s/it]\n"
     ]
    },
    {
     "name": "stdout",
     "output_type": "stream",
     "text": [
      "validate metric ...\n"
     ]
    },
    {
     "name": "stderr",
     "output_type": "stream",
     "text": [
      "\u001b[32m[I 2023-05-07 03:40:24,794]\u001b[0m Trial 22 finished with value: 0.09085018932819366 and parameters: {'item_embed_dim': 16, 'n_heads': 2, 'attention_aggregate': 'mean', 'batch_size': 32, 'learning_rate': 0.045900392395250476, 'weight_decay': 1.1720435092672693e-06}. Best is trial 19 with value: 0.10782680660486221.\u001b[0m\n"
     ]
    },
    {
     "name": "stdout",
     "output_type": "stream",
     "text": [
      "{\n",
      "    \"PHR_10\": 0.39117522274077215,\n",
      "    \"PHR_20\": 0.4556639796351294,\n",
      "    \"PHR_30\": 0.49045396690708526,\n",
      "    \"PHR_40\": 0.512091641917692,\n",
      "    \"PHR_5\": 0.29189647857445905,\n",
      "    \"ndcg_10\": 0.09085018932819366,\n",
      "    \"ndcg_20\": 0.08892112970352173,\n",
      "    \"ndcg_30\": 0.0908099114894867,\n",
      "    \"ndcg_40\": 0.09323134273290634,\n",
      "    \"ndcg_5\": 0.0912114679813385,\n",
      "    \"precision_10\": 0.05969453230500221,\n",
      "    \"precision_20\": 0.03979635238647461,\n",
      "    \"precision_30\": 0.03146655112504959,\n",
      "    \"precision_40\": 0.026219772174954414,\n",
      "    \"precision_5\": 0.0776410698890686,\n",
      "    \"recall_10\": 0.08621970564126968,\n",
      "    \"recall_20\": 0.11612219363451004,\n",
      "    \"recall_30\": 0.13130025565624237,\n",
      "    \"recall_40\": 0.14261263608932495,\n",
      "    \"recall_5\": 0.037151698023080826\n",
      "}\n",
      "model save as ./DNNTSP/save_model_folder/Dunnhumby/best_model.pkl\n",
      "cost 1658 seconds\n",
      "train data length -> 2357\n",
      "validate data length -> 2357\n",
      "temporal_set_prediction(\n",
      "  (item_embedding): Embedding(23998, 16)\n",
      "  (stacked_gcn): stacked_weighted_GCN_blocks(\n",
      "    (0): weighted_GCN(\n",
      "      (gcns): ModuleList(\n",
      "        (0-1): 2 x weighted_graph_conv(\n",
      "          (linear): Linear(in_features=16, out_features=16, bias=True)\n",
      "        )\n",
      "      )\n",
      "      (relus): ModuleList(\n",
      "        (0-1): 2 x ReLU()\n",
      "      )\n",
      "      (bns): ModuleList(\n",
      "        (0-1): 2 x BatchNorm1d(16, eps=1e-05, momentum=0.1, affine=True, track_running_stats=True)\n",
      "      )\n",
      "    )\n",
      "  )\n",
      "  (masked_self_attention): masked_self_attention(\n",
      "    (Wq): Linear(in_features=16, out_features=32, bias=False)\n",
      "    (Wk): Linear(in_features=16, out_features=32, bias=False)\n",
      "    (Wv): Linear(in_features=16, out_features=32, bias=False)\n",
      "  )\n",
      "  (aggregate_nodes_temporal_feature): aggregate_nodes_temporal_feature(\n",
      "    (Wq): Linear(in_features=16, out_features=1, bias=False)\n",
      "  )\n",
      "  (global_gated_update): global_gated_update(\n",
      "    (item_embedding): Embedding(23998, 16)\n",
      "  )\n",
      "  (fc_output): Linear(in_features=16, out_features=1, bias=True)\n",
      ")\n",
      "Adam (\n",
      "Parameter Group 0\n",
      "    amsgrad: False\n",
      "    betas: (0.9, 0.999)\n",
      "    capturable: False\n",
      "    differentiable: False\n",
      "    eps: 1e-08\n",
      "    foreach: None\n",
      "    fused: None\n",
      "    lr: 0.030419175194712506\n",
      "    maximize: False\n",
      "    weight_decay: 5.7327746407493284e-06\n",
      ")\n"
     ]
    },
    {
     "name": "stderr",
     "output_type": "stream",
     "text": [
      "train epoch: 0, train loss: 0.18856288145321445: 100%|██████████| 74/74 [08:41<00:00,  7.05s/it]\n"
     ]
    },
    {
     "name": "stdout",
     "output_type": "stream",
     "text": [
      "train metric ...\n",
      "{\n",
      "    \"PHR_10\": 0.10140008485362749,\n",
      "    \"PHR_20\": 0.1192193466270683,\n",
      "    \"PHR_30\": 0.13109885447602884,\n",
      "    \"PHR_40\": 0.13958421722528638,\n",
      "    \"PHR_5\": 0.08358082308018668,\n",
      "    \"ndcg_10\": 0.025277763605117798,\n",
      "    \"ndcg_20\": 0.023616982623934746,\n",
      "    \"ndcg_30\": 0.023454278707504272,\n",
      "    \"ndcg_40\": 0.023700734600424767,\n",
      "    \"ndcg_5\": 0.029057130217552185,\n",
      "    \"precision_10\": 0.011752227321267128,\n",
      "    \"precision_20\": 0.007148918230086565,\n",
      "    \"precision_30\": 0.0052750674076378345,\n",
      "    \"precision_40\": 0.004295714665204287,\n",
      "    \"precision_5\": 0.0184132382273674,\n",
      "    \"recall_10\": 0.023200711235404015,\n",
      "    \"recall_20\": 0.027797183021903038,\n",
      "    \"recall_30\": 0.029950452968478203,\n",
      "    \"recall_40\": 0.031884901225566864,\n",
      "    \"recall_5\": 0.019128693267703056\n",
      "}\n"
     ]
    },
    {
     "name": "stderr",
     "output_type": "stream",
     "text": [
      "train epoch: 1, train loss: 0.013546218541828362: 100%|██████████| 74/74 [08:50<00:00,  7.17s/it]\n"
     ]
    },
    {
     "name": "stdout",
     "output_type": "stream",
     "text": [
      "train metric ...\n",
      "{\n",
      "    \"PHR_10\": 0.30080610946117947,\n",
      "    \"PHR_20\": 0.38226559185405173,\n",
      "    \"PHR_30\": 0.41790411540093336,\n",
      "    \"PHR_40\": 0.44633008061094614,\n",
      "    \"PHR_5\": 0.23801442511667373,\n",
      "    \"ndcg_10\": 0.07357367128133774,\n",
      "    \"ndcg_20\": 0.07484272867441177,\n",
      "    \"ndcg_30\": 0.07678158581256866,\n",
      "    \"ndcg_40\": 0.07924112677574158,\n",
      "    \"ndcg_5\": 0.08100825548171997,\n",
      "    \"precision_10\": 0.038693252950906754,\n",
      "    \"precision_20\": 0.027789562940597534,\n",
      "    \"precision_30\": 0.022090230137109756,\n",
      "    \"precision_40\": 0.018763257190585136,\n",
      "    \"precision_5\": 0.055663976818323135,\n",
      "    \"recall_10\": 0.07188349962234497,\n",
      "    \"recall_20\": 0.09744126349687576,\n",
      "    \"recall_30\": 0.10931932181119919,\n",
      "    \"recall_40\": 0.1193695142865181,\n",
      "    \"recall_5\": 0.05883992463350296\n",
      "}\n"
     ]
    },
    {
     "name": "stderr",
     "output_type": "stream",
     "text": [
      "validate epoch: 1, validate loss: 0.010920026301834229: 100%|██████████| 74/74 [09:24<00:00,  7.62s/it]\n"
     ]
    },
    {
     "name": "stdout",
     "output_type": "stream",
     "text": [
      "validate metric ...\n",
      "{\n",
      "    \"PHR_10\": 0.28256257955027575,\n",
      "    \"PHR_20\": 0.3580823080186678,\n",
      "    \"PHR_30\": 0.39584217225286383,\n",
      "    \"PHR_40\": 0.4340263046245227,\n",
      "    \"PHR_5\": 0.18879932117098006,\n",
      "    \"ndcg_10\": 0.058632347732782364,\n",
      "    \"ndcg_20\": 0.056069813668727875,\n",
      "    \"ndcg_30\": 0.057103291153907776,\n",
      "    \"ndcg_40\": 0.06086958199739456,\n",
      "    \"ndcg_5\": 0.06278775632381439,\n",
      "    \"precision_10\": 0.040432754904031754,\n",
      "    \"precision_20\": 0.029635131359100342,\n",
      "    \"precision_30\": 0.023617591708898544,\n",
      "    \"precision_40\": 0.021446755155920982,\n",
      "    \"precision_5\": 0.045905809849500656,\n",
      "    \"recall_10\": 0.03563859313726425,\n",
      "    \"recall_20\": 0.052407506853342056,\n",
      "    \"recall_30\": 0.06351495534181595,\n",
      "    \"recall_40\": 0.076252281665802,\n",
      "    \"recall_5\": 0.0186216551810503\n",
      "}\n",
      "model save as ./DNNTSP/save_model_folder/Dunnhumby/best_model.pkl\n",
      "cost 1666 seconds\n"
     ]
    },
    {
     "name": "stderr",
     "output_type": "stream",
     "text": [
      "\u001b[32m[I 2023-05-07 04:08:16,848]\u001b[0m Trial 23 finished with value: 0.058632347732782364 and parameters: {'item_embed_dim': 16, 'n_heads': 2, 'attention_aggregate': 'mean', 'batch_size': 32, 'learning_rate': 0.030419175194712506, 'weight_decay': 5.7327746407493284e-06}. Best is trial 19 with value: 0.10782680660486221.\u001b[0m\n"
     ]
    },
    {
     "name": "stdout",
     "output_type": "stream",
     "text": [
      "train data length -> 2357\n",
      "validate data length -> 2357\n",
      "temporal_set_prediction(\n",
      "  (item_embedding): Embedding(23998, 16)\n",
      "  (stacked_gcn): stacked_weighted_GCN_blocks(\n",
      "    (0): weighted_GCN(\n",
      "      (gcns): ModuleList(\n",
      "        (0-1): 2 x weighted_graph_conv(\n",
      "          (linear): Linear(in_features=16, out_features=16, bias=True)\n",
      "        )\n",
      "      )\n",
      "      (relus): ModuleList(\n",
      "        (0-1): 2 x ReLU()\n",
      "      )\n",
      "      (bns): ModuleList(\n",
      "        (0-1): 2 x BatchNorm1d(16, eps=1e-05, momentum=0.1, affine=True, track_running_stats=True)\n",
      "      )\n",
      "    )\n",
      "  )\n",
      "  (masked_self_attention): masked_self_attention(\n",
      "    (Wq): Linear(in_features=16, out_features=32, bias=False)\n",
      "    (Wk): Linear(in_features=16, out_features=32, bias=False)\n",
      "    (Wv): Linear(in_features=16, out_features=32, bias=False)\n",
      "  )\n",
      "  (aggregate_nodes_temporal_feature): aggregate_nodes_temporal_feature(\n",
      "    (Wq): Linear(in_features=16, out_features=1, bias=False)\n",
      "  )\n",
      "  (global_gated_update): global_gated_update(\n",
      "    (item_embedding): Embedding(23998, 16)\n",
      "  )\n",
      "  (fc_output): Linear(in_features=16, out_features=1, bias=True)\n",
      ")\n",
      "Adam (\n",
      "Parameter Group 0\n",
      "    amsgrad: False\n",
      "    betas: (0.9, 0.999)\n",
      "    capturable: False\n",
      "    differentiable: False\n",
      "    eps: 1e-08\n",
      "    foreach: None\n",
      "    fused: None\n",
      "    lr: 0.013974976121629124\n",
      "    maximize: False\n",
      "    weight_decay: 3.950895131630018e-06\n",
      ")\n"
     ]
    },
    {
     "name": "stderr",
     "output_type": "stream",
     "text": [
      "train epoch: 0, train loss: 0.34195132843042547: 100%|██████████| 74/74 [08:45<00:00,  7.11s/it]\n"
     ]
    },
    {
     "name": "stdout",
     "output_type": "stream",
     "text": [
      "train metric ...\n",
      "{\n",
      "    \"PHR_10\": 0.01824352991090369,\n",
      "    \"PHR_20\": 0.04030547305897327,\n",
      "    \"PHR_30\": 0.06194314806957998,\n",
      "    \"PHR_40\": 0.07170131523122614,\n",
      "    \"PHR_5\": 0.002969876962240136,\n",
      "    \"ndcg_10\": 0.0016348980134353042,\n",
      "    \"ndcg_20\": 0.002697288291528821,\n",
      "    \"ndcg_30\": 0.0037171768490225077,\n",
      "    \"ndcg_40\": 0.004362966865301132,\n",
      "    \"ndcg_5\": 0.0005118775879964232,\n",
      "    \"precision_10\": 0.0019092066213488579,\n",
      "    \"precision_20\": 0.0021849810145795345,\n",
      "    \"precision_30\": 0.0023617593105882406,\n",
      "    \"precision_40\": 0.0021107338834553957,\n",
      "    \"precision_5\": 0.0005939754191786051,\n",
      "    \"recall_10\": 0.0016156374476850033,\n",
      "    \"recall_20\": 0.004423819947987795,\n",
      "    \"recall_30\": 0.007345608435571194,\n",
      "    \"recall_40\": 0.009948951192200184,\n",
      "    \"recall_5\": 0.00039191998075693846\n",
      "}\n"
     ]
    },
    {
     "name": "stderr",
     "output_type": "stream",
     "text": [
      "train epoch: 1, train loss: 0.02434221705472147: 100%|██████████| 74/74 [08:29<00:00,  6.89s/it]\n"
     ]
    },
    {
     "name": "stdout",
     "output_type": "stream",
     "text": [
      "train metric ...\n",
      "{\n",
      "    \"PHR_10\": 0.3419601187950785,\n",
      "    \"PHR_20\": 0.38820534577853205,\n",
      "    \"PHR_30\": 0.4140857021637675,\n",
      "    \"PHR_40\": 0.4268137462876538,\n",
      "    \"PHR_5\": 0.2804412388629614,\n",
      "    \"ndcg_10\": 0.09623807668685913,\n",
      "    \"ndcg_20\": 0.09126788377761841,\n",
      "    \"ndcg_30\": 0.09131649881601334,\n",
      "    \"ndcg_40\": 0.09182298183441162,\n",
      "    \"ndcg_5\": 0.10453186929225922,\n",
      "    \"precision_10\": 0.0482817143201828,\n",
      "    \"precision_20\": 0.03088672086596489,\n",
      "    \"precision_30\": 0.023235753178596497,\n",
      "    \"precision_40\": 0.018614765256643295,\n",
      "    \"precision_5\": 0.06974968314170837,\n",
      "    \"recall_10\": 0.09213802218437195,\n",
      "    \"recall_20\": 0.10430070757865906,\n",
      "    \"recall_30\": 0.11275468021631241,\n",
      "    \"recall_40\": 0.117364302277565,\n",
      "    \"recall_5\": 0.07570934295654297\n",
      "}\n"
     ]
    },
    {
     "name": "stderr",
     "output_type": "stream",
     "text": [
      "validate epoch: 1, validate loss: 0.018038987182080746: 100%|██████████| 74/74 [09:14<00:00,  7.49s/it]\n"
     ]
    },
    {
     "name": "stdout",
     "output_type": "stream",
     "text": [
      "validate metric ...\n",
      "{\n",
      "    \"PHR_10\": 0.42723801442511666,\n",
      "    \"PHR_20\": 0.48748408994484516,\n",
      "    \"PHR_30\": 0.5133644463300806,\n",
      "    \"PHR_40\": 0.5316079762409843,\n",
      "    \"PHR_5\": 0.3487484089944845,\n",
      "    \"ndcg_10\": 0.11205914616584778,\n",
      "    \"ndcg_20\": 0.10540840029716492,\n",
      "    \"ndcg_30\": 0.10599854588508606,\n",
      "    \"ndcg_40\": 0.10723330825567245,\n",
      "    \"ndcg_5\": 0.12328966706991196,\n",
      "    \"precision_10\": 0.06682223081588745,\n",
      "    \"precision_20\": 0.043742045760154724,\n",
      "    \"precision_30\": 0.03281006962060928,\n",
      "    \"precision_40\": 0.02661222033202648,\n",
      "    \"precision_5\": 0.09410267323255539,\n",
      "    \"recall_10\": 0.1075877696275711,\n",
      "    \"recall_20\": 0.12467371672391891,\n",
      "    \"recall_30\": 0.14132487773895264,\n",
      "    \"recall_40\": 0.14975443482398987,\n",
      "    \"recall_5\": 0.08694516867399216\n",
      "}\n",
      "model save as ./DNNTSP/save_model_folder/Dunnhumby/best_model.pkl\n",
      "cost 1638 seconds\n"
     ]
    },
    {
     "name": "stderr",
     "output_type": "stream",
     "text": [
      "\u001b[32m[I 2023-05-07 04:35:41,859]\u001b[0m Trial 24 finished with value: 0.11205914616584778 and parameters: {'item_embed_dim': 16, 'n_heads': 2, 'attention_aggregate': 'mean', 'batch_size': 32, 'learning_rate': 0.013974976121629124, 'weight_decay': 3.950895131630018e-06}. Best is trial 24 with value: 0.11205914616584778.\u001b[0m\n"
     ]
    }
   ],
   "source": [
    "sampler = optuna.samplers.TPESampler(seed=seed)\n",
    "study = optuna.create_study(direction=\"maximize\", sampler=sampler)\n",
    "study.optimize(objective, n_trials=25)"
   ]
  },
  {
   "cell_type": "markdown",
   "metadata": {
    "id": "pFAX8Boqkvz3"
   },
   "source": [
    "Test:"
   ]
  },
  {
   "cell_type": "code",
   "execution_count": null,
   "metadata": {
    "id": "fDGI5_JakyRX"
   },
   "outputs": [],
   "source": [
    "seed = 10\n",
    "torch.manual_seed(seed)\n",
    "random.seed(seed)\n",
    "np.random.seed(seed)"
   ]
  },
  {
   "cell_type": "code",
   "execution_count": null,
   "metadata": {
    "id": "yfzMBcJik1bg"
   },
   "outputs": [],
   "source": [
    "params = {\n",
    "    \"data\": \"Dunnhumby\",\n",
    "    \"save_model_folder\": \"DNNTSP\",\n",
    "    \"item_embed_dim\": study.best_params[\"item_embed_dim\"],\n",
    "    \"n_heads\": study.best_params[\"n_heads\"],\n",
    "    \"attention_aggregate\": study.best_params[\"attention_aggregate\"],\n",
    "    \"cuda\": 0,\n",
    "    \"loss_function\": \"multi_label_soft_loss\",\n",
    "    \"epochs\": 8,\n",
    "    \"batch_size\": study.best_params[\"batch_size\"],\n",
    "    \"learning_rate\": study.best_params[\"learning_rate\"],\n",
    "    \"optim\": \"Adam\",\n",
    "    \"weight_decay\": study.best_params[\"weight_decay\"]\n",
    "}\n",
    "\n",
    "DNNTSP.utils.load_config.CONFIG = params\n",
    "train()"
   ]
  },
  {
   "cell_type": "code",
   "execution_count": null,
   "metadata": {
    "colab": {
     "base_uri": "https://localhost:8080/"
    },
    "id": "6ZOyIMekk4Az",
    "outputId": "f53a495b-d07e-4391-b019-c62474c75ec0"
   },
   "outputs": [
    {
     "name": "stdout",
     "output_type": "stream",
     "text": [
      "test data length -> 2358\n"
     ]
    },
    {
     "name": "stderr",
     "output_type": "stream",
     "text": [
      "100%|██████████| 74/74 [09:14<00:00,  7.49s/it]\n"
     ]
    },
    {
     "name": "stdout",
     "output_type": "stream",
     "text": [
      "{\n",
      "    \"PHR_10\": 0.4003392705682782,\n",
      "    \"PHR_20\": 0.4495335029686175,\n",
      "    \"PHR_30\": 0.4893977947413062,\n",
      "    \"PHR_40\": 0.5199321458863444,\n",
      "    \"PHR_5\": 0.31340118744698897,\n",
      "    \"ndcg_10\": 0.09799544513225555,\n",
      "    \"ndcg_20\": 0.09312958270311356,\n",
      "    \"ndcg_30\": 0.09557205438613892,\n",
      "    \"ndcg_40\": 0.09835190325975418,\n",
      "    \"ndcg_5\": 0.10318665206432343,\n",
      "    \"precision_10\": 0.0612807460129261,\n",
      "    \"precision_20\": 0.04134859889745712,\n",
      "    \"precision_30\": 0.033107154071331024,\n",
      "    \"precision_40\": 0.027682362124323845,\n",
      "    \"precision_5\": 0.08218829333782196,\n",
      "    \"recall_10\": 0.09286805987358093,\n",
      "    \"recall_20\": 0.1105014830827713,\n",
      "    \"recall_30\": 0.12752127647399902,\n",
      "    \"recall_40\": 0.14022427797317505,\n",
      "    \"recall_5\": 0.05817478150129318\n",
      "}\n"
     ]
    }
   ],
   "source": [
    "model_path = f\"./DNNTSP/save_model_folder/{get_attribute('data')}/best_model.pkl\"\n",
    "\n",
    "model = create_model()\n",
    "model = load_model(model, model_path)\n",
    "model = convert_to_gpu(model)\n",
    "\n",
    "test_data_loader = get_data_loader(data_path=get_attribute('data_path'),\n",
    "                                   data_type='test',\n",
    "                                   batch_size=get_attribute('batch_size'),\n",
    "                                   item_embedding_matrix=model.item_embedding)\n",
    "\n",
    "scores = evaluate(model, test_data_loader)\n",
    "scores = sorted(scores.items(), key=lambda item: item[0], reverse=False)\n",
    "scores = {item[0]: item[1] for item in scores}\n",
    "scores_str = json.dumps(scores, indent=4)\n",
    "print(scores_str)"
   ]
  },
  {
   "cell_type": "code",
   "execution_count": null,
   "metadata": {
    "id": "SIQTAQgYuvjX"
   },
   "outputs": [],
   "source": []
  }
 ],
 "metadata": {
  "accelerator": "GPU",
  "colab": {
   "provenance": []
  },
  "gpuClass": "standard",
  "kernelspec": {
   "display_name": "Python 3 (ipykernel)",
   "language": "python",
   "name": "python3"
  },
  "language_info": {
   "codemirror_mode": {
    "name": "ipython",
    "version": 3
   },
   "file_extension": ".py",
   "mimetype": "text/x-python",
   "name": "python",
   "nbconvert_exporter": "python",
   "pygments_lexer": "ipython3",
   "version": "3.11.0"
  }
 },
 "nbformat": 4,
 "nbformat_minor": 1
}
